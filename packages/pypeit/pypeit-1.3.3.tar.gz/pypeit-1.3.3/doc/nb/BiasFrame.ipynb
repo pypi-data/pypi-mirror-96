{
 "cells": [
  {
   "cell_type": "markdown",
   "metadata": {},
   "source": [
    "# Fussing with the BiasFrame class [v1.4]"
   ]
  },
  {
   "cell_type": "code",
   "execution_count": 1,
   "metadata": {},
   "outputs": [],
   "source": [
    "# imports\n",
    "import glob\n",
    "import os\n",
    "\n",
    "from importlib import reload\n",
    "from pypit import biasframe\n",
    "\n",
    "from pypit.par import pypitpar"
   ]
  },
  {
   "cell_type": "code",
   "execution_count": 2,
   "metadata": {},
   "outputs": [],
   "source": [
    "pypdev_path = os.getenv('PYPIT_DEV')"
   ]
  },
  {
   "cell_type": "code",
   "execution_count": 3,
   "metadata": {},
   "outputs": [],
   "source": [
    "## Additional settings\n",
    "#kast_settings['reduce'] = {}\n",
    "#kast_settings['reduce']['masters'] = {}\n",
    "#kast_settings['reduce']['masters']['reuse'] = False\n",
    "#kast_settings['reduce']['masters']['force'] = False\n",
    "#kast_settings['reduce']['masters']['loaded'] = []\n",
    "##\n",
    "#kast_settings['run'] = {}\n",
    "#kast_settings['run']['spectrograph'] = 'shane_kast_blue'\n",
    "#kast_settings['run']['directory'] = {}\n",
    "#kast_settings['run']['directory']['master'] = 'MF'\n",
    "#setup = 'A_01_aa'\n",
    "\n",
    "# Would set masters='reuse' for settings['reduce']['masters']['reuse'] = True or \n",
    "# masters='force' for settings['reduce']['masters']['force'] = True.\n",
    "# In the actual pypit run these would get set from a config file.\n",
    "# Maybe should combine 'run' and 'reduce'?\n",
    "runpar = pypitpar.RunPar(caldir='MF')\n",
    "rdxpar = pypitpar.ReducePar(spectrograph='shane_kast_blue', masters=None, setup='A_01_aa')"
   ]
  },
  {
   "cell_type": "markdown",
   "metadata": {},
   "source": [
    "## Generate Bias Image"
   ]
  },
  {
   "cell_type": "code",
   "execution_count": 4,
   "metadata": {},
   "outputs": [
    {
     "data": {
      "text/plain": [
       "['/Users/westfall/Work/packages/PYPIT-development-suite/RAW_DATA/Shane_Kast_blue/600_4310_d55/b10.fits.gz',\n",
       " '/Users/westfall/Work/packages/PYPIT-development-suite/RAW_DATA/Shane_Kast_blue/600_4310_d55/b11.fits.gz',\n",
       " '/Users/westfall/Work/packages/PYPIT-development-suite/RAW_DATA/Shane_Kast_blue/600_4310_d55/b12.fits.gz',\n",
       " '/Users/westfall/Work/packages/PYPIT-development-suite/RAW_DATA/Shane_Kast_blue/600_4310_d55/b13.fits.gz',\n",
       " '/Users/westfall/Work/packages/PYPIT-development-suite/RAW_DATA/Shane_Kast_blue/600_4310_d55/b14.fits.gz',\n",
       " '/Users/westfall/Work/packages/PYPIT-development-suite/RAW_DATA/Shane_Kast_blue/600_4310_d55/b15.fits.gz',\n",
       " '/Users/westfall/Work/packages/PYPIT-development-suite/RAW_DATA/Shane_Kast_blue/600_4310_d55/b16.fits.gz',\n",
       " '/Users/westfall/Work/packages/PYPIT-development-suite/RAW_DATA/Shane_Kast_blue/600_4310_d55/b17.fits.gz',\n",
       " '/Users/westfall/Work/packages/PYPIT-development-suite/RAW_DATA/Shane_Kast_blue/600_4310_d55/b18.fits.gz',\n",
       " '/Users/westfall/Work/packages/PYPIT-development-suite/RAW_DATA/Shane_Kast_blue/600_4310_d55/b19.fits.gz']"
      ]
     },
     "execution_count": 4,
     "metadata": {},
     "output_type": "execute_result"
    }
   ],
   "source": [
    "kast_blue_bias = glob.glob(os.path.join(os.getenv('PYPIT_DEV'), 'RAW_DATA',\n",
    "                                        'Shane_Kast_blue', '600_4310_d55', 'b1?.fits*'))\n",
    "kast_blue_bias"
   ]
  },
  {
   "cell_type": "markdown",
   "metadata": {},
   "source": [
    "### Instantiate"
   ]
  },
  {
   "cell_type": "code",
   "execution_count": 5,
   "metadata": {},
   "outputs": [
    {
     "name": "stdout",
     "output_type": "stream",
     "text": [
      "25.0\n",
      "20.0\n",
      "None\n"
     ]
    }
   ],
   "source": [
    "# Change one default just to make sure it propagates \n",
    "biaspar = pypitpar.FrameGroupPar(frametype='bias',\n",
    "                                 combine=pypitpar.CombineFramesPar(cosmics=25.))\n",
    "print(biaspar['combine']['cosmics'])\n",
    "print(biaspar.default['combine']['cosmics'])\n",
    "print(biaspar['useframe'])"
   ]
  },
  {
   "cell_type": "code",
   "execution_count": 6,
   "metadata": {},
   "outputs": [],
   "source": [
    "#reload(biasframe)\n",
    "root_path = os.path.join(os.getcwd(), runpar['caldir'])\n",
    "bias_frame = biasframe.BiasFrame(rdxpar['spectrograph'], file_list=kast_blue_bias,\n",
    "                                 par=biaspar, setup=rdxpar['setup'], root_path=root_path,\n",
    "                                 mode=rdxpar['masters'])"
   ]
  },
  {
   "cell_type": "code",
   "execution_count": 7,
   "metadata": {},
   "outputs": [
    {
     "data": {
      "text/plain": [
       "<BiasFrame: nimg=10>"
      ]
     },
     "execution_count": 7,
     "metadata": {},
     "output_type": "execute_result"
    }
   ],
   "source": [
    "bias_frame"
   ]
  },
  {
   "cell_type": "code",
   "execution_count": 8,
   "metadata": {},
   "outputs": [
    {
     "data": {
      "text/plain": [
       "'/Users/westfall/Work/packages/PYPIT/doc/nb/MF_shane_kast_blue'"
      ]
     },
     "execution_count": 8,
     "metadata": {},
     "output_type": "execute_result"
    }
   ],
   "source": [
    "bias_frame.directory_path"
   ]
  },
  {
   "cell_type": "code",
   "execution_count": 9,
   "metadata": {},
   "outputs": [
    {
     "data": {
      "text/plain": [
       "['[1:1024,:]', '[1025:2048,:]']"
      ]
     },
     "execution_count": 9,
     "metadata": {},
     "output_type": "execute_result"
    }
   ],
   "source": [
    "bias_frame.spectrograph.detector[0]['datasec']"
   ]
  },
  {
   "cell_type": "code",
   "execution_count": 10,
   "metadata": {},
   "outputs": [
    {
     "name": "stdout",
     "output_type": "stream",
     "text": [
      "25.0\n",
      "25.0\n",
      "True\n"
     ]
    }
   ],
   "source": [
    "print(bias_frame.combine_par['cosmics'])\n",
    "print(bias_frame.par['combine']['cosmics'])\n",
    "print(bias_frame.combine_par['cosmics'] is bias_frame.par['combine']['cosmics'])"
   ]
  },
  {
   "cell_type": "markdown",
   "metadata": {},
   "source": [
    "### Process"
   ]
  },
  {
   "cell_type": "code",
   "execution_count": 11,
   "metadata": {},
   "outputs": [
    {
     "name": "stderr",
     "output_type": "stream",
     "text": [
      "\u001b[1;31m[WARNING] ::\u001b[0m Your images have not been bias subtracted!\n",
      "\u001b[1;32m[INFO]    ::\u001b[0m Combining 10 bias frames\n",
      "\u001b[1;32m[INFO]    ::\u001b[0m Finding saturated and non-linear pixels\n",
      "\u001b[1;32m[INFO]    ::\u001b[0m Rejecting cosmic rays\n",
      "\u001b[1;32m[INFO]    ::\u001b[0m Not rejecting any low/high pixels\n",
      "\u001b[1;32m[INFO]    ::\u001b[0m Rejecting deviant pixels\n",
      "\u001b[1;32m[INFO]    ::\u001b[0m Combining frames with a mean operation\n",
      "\u001b[1;32m[INFO]    ::\u001b[0m Replacing completely masked pixels with the maxnonsat value of the input frames\n",
      "\u001b[1;32m[INFO]    ::\u001b[0m 10 bias frames combined successfully!\n"
     ]
    }
   ],
   "source": [
    "bias_img = bias_frame.process()"
   ]
  },
  {
   "cell_type": "code",
   "execution_count": 12,
   "metadata": {},
   "outputs": [
    {
     "data": {
      "text/plain": [
       "['load_images', 'combine']"
      ]
     },
     "execution_count": 12,
     "metadata": {},
     "output_type": "execute_result"
    }
   ],
   "source": [
    "bias_frame.steps"
   ]
  },
  {
   "cell_type": "code",
   "execution_count": 13,
   "metadata": {},
   "outputs": [],
   "source": [
    "#bias_frame.show('stack')\n",
    "# (KBW) this was causing me problems..."
   ]
  },
  {
   "cell_type": "markdown",
   "metadata": {},
   "source": [
    "### Write\n",
    "(KBW) Are writing/loading used in this way anymore?"
   ]
  },
  {
   "cell_type": "code",
   "execution_count": 14,
   "metadata": {},
   "outputs": [],
   "source": [
    "#bias_frame.write_stack_to_fits('tmp.fits')"
   ]
  },
  {
   "cell_type": "markdown",
   "metadata": {},
   "source": [
    "### Load from disk"
   ]
  },
  {
   "cell_type": "code",
   "execution_count": 15,
   "metadata": {},
   "outputs": [],
   "source": [
    "#bias_frame2 = biasframe.BiasFrame.from_fits('tmp.fits')\n",
    "#bias_frame2.stack.shape"
   ]
  },
  {
   "cell_type": "markdown",
   "metadata": {},
   "source": [
    "## Run (from scratch) as called from PYPIT\n",
    "\n",
    "### Creates bias and saves as a MasterFrame to MF_shane_kast_blue/  which I needed to generate"
   ]
  },
  {
   "cell_type": "code",
   "execution_count": 16,
   "metadata": {},
   "outputs": [],
   "source": [
    "# Instantiate\n",
    "bias_frame2 = biasframe.BiasFrame(rdxpar['spectrograph'], file_list=kast_blue_bias,\n",
    "                                  par=biaspar, setup=rdxpar['setup'], root_path=root_path,\n",
    "                                  mode=rdxpar['masters'])"
   ]
  },
  {
   "cell_type": "code",
   "execution_count": 17,
   "metadata": {
    "scrolled": true
   },
   "outputs": [
    {
     "name": "stderr",
     "output_type": "stream",
     "text": [
      "\u001b[1;31m[WARNING] ::\u001b[0m Your images have not been bias subtracted!\n",
      "\u001b[1;32m[INFO]    ::\u001b[0m Combining 10 bias frames\n",
      "\u001b[1;32m[INFO]    ::\u001b[0m Finding saturated and non-linear pixels\n",
      "\u001b[1;32m[INFO]    ::\u001b[0m Rejecting cosmic rays\n",
      "\u001b[1;32m[INFO]    ::\u001b[0m Not rejecting any low/high pixels\n",
      "\u001b[1;32m[INFO]    ::\u001b[0m Rejecting deviant pixels\n",
      "\u001b[1;32m[INFO]    ::\u001b[0m Combining frames with a mean operation\n",
      "\u001b[1;32m[INFO]    ::\u001b[0m Replacing completely masked pixels with the maxnonsat value of the input frames\n",
      "\u001b[1;32m[INFO]    ::\u001b[0m 10 bias frames combined successfully!\n"
     ]
    }
   ],
   "source": [
    "try:\n",
    "    os.mkdir('MF_shane_kast_blue')\n",
    "except:\n",
    "    pass\n",
    "bias = bias_frame2.build_image()"
   ]
  },
  {
   "cell_type": "code",
   "execution_count": 18,
   "metadata": {},
   "outputs": [
    {
     "data": {
      "text/plain": [
       "['load_images', 'combine']"
      ]
     },
     "execution_count": 18,
     "metadata": {},
     "output_type": "execute_result"
    }
   ],
   "source": [
    "bias_frame2.steps"
   ]
  },
  {
   "cell_type": "code",
   "execution_count": 19,
   "metadata": {},
   "outputs": [
    {
     "name": "stderr",
     "output_type": "stream",
     "text": [
      "\u001b[1;32m[INFO]    ::\u001b[0m Saving master bias frame as:\n",
      "             /Users/westfall/Work/packages/PYPIT/doc/nb/MF_shane_kast_blue/MasterBias_A_01_aa.fits\n",
      "\u001b[1;32m[INFO]    ::\u001b[0m Writing header information\n",
      "\u001b[1;32m[INFO]    ::\u001b[0m Master bias frame saved successfully:\n",
      "             /Users/westfall/Work/packages/PYPIT/doc/nb/MF_shane_kast_blue/MasterBias_A_01_aa.fits\n"
     ]
    }
   ],
   "source": [
    "# Save\n",
    "bias_frame2.save_master(bias)"
   ]
  },
  {
   "cell_type": "markdown",
   "metadata": {},
   "source": [
    "## Load Master (several ways)"
   ]
  },
  {
   "cell_type": "markdown",
   "metadata": {},
   "source": [
    "### master()"
   ]
  },
  {
   "cell_type": "code",
   "execution_count": 20,
   "metadata": {},
   "outputs": [
    {
     "name": "stderr",
     "output_type": "stream",
     "text": [
      "\u001b[1;32m[INFO]    ::\u001b[0m Loading a pre-existing master calibration frame\n"
     ]
    }
   ],
   "source": [
    "biaspar['useframe'] = 'bias'\n",
    "bias_frame3 = biasframe.BiasFrame(rdxpar['spectrograph'], file_list=kast_blue_bias,\n",
    "                                  par=biaspar, setup=rdxpar['setup'], root_path=root_path,\n",
    "                                  mode='reuse')\n",
    "bias3 = bias_frame3.master()"
   ]
  },
  {
   "cell_type": "code",
   "execution_count": 21,
   "metadata": {},
   "outputs": [
    {
     "data": {
      "text/plain": [
       "(2112, 350)"
      ]
     },
     "execution_count": 21,
     "metadata": {},
     "output_type": "execute_result"
    }
   ],
   "source": [
    "bias3.shape"
   ]
  },
  {
   "cell_type": "markdown",
   "metadata": {},
   "source": [
    "### Direct load of all master frame stuff"
   ]
  },
  {
   "cell_type": "code",
   "execution_count": 22,
   "metadata": {},
   "outputs": [
    {
     "name": "stderr",
     "output_type": "stream",
     "text": [
      "\u001b[1;32m[INFO]    ::\u001b[0m Loading a pre-existing master calibration frame\n"
     ]
    },
    {
     "data": {
      "text/plain": [
       "(2112, 350)"
      ]
     },
     "execution_count": 22,
     "metadata": {},
     "output_type": "execute_result"
    }
   ],
   "source": [
    "bias4, _, _ = bias_frame3.load_master_frame()\n",
    "bias4.shape"
   ]
  },
  {
   "cell_type": "markdown",
   "metadata": {
    "collapsed": true
   },
   "source": [
    "## Clean up"
   ]
  },
  {
   "cell_type": "code",
   "execution_count": 23,
   "metadata": {},
   "outputs": [],
   "source": [
    "os.remove('MF_shane_kast_blue/MasterBias_A_01_aa.fits')\n",
    "os.rmdir('MF_shane_kast_blue')"
   ]
  },
  {
   "cell_type": "code",
   "execution_count": null,
   "metadata": {},
   "outputs": [],
   "source": []
  }
 ],
 "metadata": {
  "kernelspec": {
   "display_name": "Python 3",
   "language": "python",
   "name": "python3"
  },
  "language_info": {
   "codemirror_mode": {
    "name": "ipython",
    "version": 3
   },
   "file_extension": ".py",
   "mimetype": "text/x-python",
   "name": "python",
   "nbconvert_exporter": "python",
   "pygments_lexer": "ipython3",
   "version": "3.6.2"
  }
 },
 "nbformat": 4,
 "nbformat_minor": 2
}
