{
 "cells": [
  {
   "cell_type": "markdown",
   "metadata": {},
   "source": [
    "# Check for Calibrations"
   ]
  },
  {
   "cell_type": "code",
   "execution_count": 1,
   "metadata": {},
   "outputs": [],
   "source": [
    "# imports\n",
    "import os\n",
    "from importlib import reload\n",
    "\n",
    "from pypeit.scripts import chk_calibs"
   ]
  },
  {
   "cell_type": "markdown",
   "metadata": {},
   "source": [
    "# DEIMOS"
   ]
  },
  {
   "cell_type": "code",
   "execution_count": 2,
   "metadata": {},
   "outputs": [],
   "source": [
    "droot = os.path.join(os.environ['PYPEIT_DEV'], 'RAW_DATA/keck_deimos/*/')"
   ]
  },
  {
   "cell_type": "markdown",
   "metadata": {},
   "source": [
    "## pargs"
   ]
  },
  {
   "cell_type": "code",
   "execution_count": 3,
   "metadata": {},
   "outputs": [],
   "source": [
    "pargs = chk_calibs.parser(['-r', droot, '-s', 'keck_deimos'])"
   ]
  },
  {
   "cell_type": "markdown",
   "metadata": {},
   "source": [
    "## run"
   ]
  },
  {
   "cell_type": "code",
   "execution_count": 4,
   "metadata": {},
   "outputs": [
    {
     "name": "stderr",
     "output_type": "stream",
     "text": [
      "\u001b[1;32m[INFO]    ::\u001b[0m \u001b[1;34mpypeitsetup.py 209 from_file_root()\u001b[0m - A vanilla pypeit file will be written to: /data/Projects/Python/PypeIt/doc/nb/setup_files/keck_deimos_2020-Jul-02.pypeit\n",
      "\u001b[1;32m[INFO]    ::\u001b[0m \u001b[1;34mutil.py 607 make_pypeit_file()\u001b[0m - PypeIt file written to: /data/Projects/Python/PypeIt/doc/nb/setup_files/keck_deimos_2020-Jul-02.pypeit\n",
      "\u001b[1;32m[INFO]    ::\u001b[0m \u001b[1;34mutil.py 459 parse_pypeit_file()\u001b[0m - Loading the reduction file\n",
      "\u001b[1;32m[INFO]    ::\u001b[0m \u001b[1;34mutil.py 485 parse_pypeit_file()\u001b[0m - Found 135 raw data frames\n",
      "\u001b[1;32m[INFO]    ::\u001b[0m \u001b[1;34mutil.py 507 parse_pypeit_file()\u001b[0m - Input file loaded successfully\n",
      "\u001b[1;32m[INFO]    ::\u001b[0m \u001b[1;34mmetadata.py 200 _build()\u001b[0m - Added metadata for d1010_0019.fits.gz\n",
      "\u001b[1;32m[INFO]    ::\u001b[0m \u001b[1;34mmetadata.py 200 _build()\u001b[0m - Added metadata for d1010_0025.fits.gz\n",
      "\u001b[1;32m[INFO]    ::\u001b[0m \u001b[1;34mmetadata.py 200 _build()\u001b[0m - Added metadata for d1010_0006.fits.gz\n",
      "\u001b[1;32m[INFO]    ::\u001b[0m \u001b[1;34mmetadata.py 200 _build()\u001b[0m - Added metadata for d1010_0022.fits.gz\n",
      "\u001b[1;32m[INFO]    ::\u001b[0m \u001b[1;34mmetadata.py 200 _build()\u001b[0m - Added metadata for d1010_0040.fits.gz\n",
      "\u001b[1;32m[INFO]    ::\u001b[0m \u001b[1;34mmetadata.py 200 _build()\u001b[0m - Added metadata for d1010_0057.fits.gz\n",
      "\u001b[1;32m[INFO]    ::\u001b[0m \u001b[1;34mmetadata.py 200 _build()\u001b[0m - Added metadata for d1010_0041.fits.gz\n",
      "\u001b[1;32m[INFO]    ::\u001b[0m \u001b[1;34mmetadata.py 200 _build()\u001b[0m - Added metadata for d1010_0056.fits.gz\n",
      "\u001b[1;32m[INFO]    ::\u001b[0m \u001b[1;34mmetadata.py 200 _build()\u001b[0m - Added metadata for d1010_0005.fits.gz\n",
      "\u001b[1;32m[INFO]    ::\u001b[0m \u001b[1;34mmetadata.py 200 _build()\u001b[0m - Added metadata for d0526_0123.fits.gz\n",
      "\u001b[1;32m[INFO]    ::\u001b[0m \u001b[1;34mmetadata.py 200 _build()\u001b[0m - Added metadata for d0526_0066.fits.gz\n",
      "\u001b[1;32m[INFO]    ::\u001b[0m \u001b[1;34mmetadata.py 200 _build()\u001b[0m - Added metadata for d0526_0124.fits.gz\n",
      "\u001b[1;32m[INFO]    ::\u001b[0m \u001b[1;34mmetadata.py 200 _build()\u001b[0m - Added metadata for d0526_0067.fits.gz\n",
      "\u001b[1;32m[INFO]    ::\u001b[0m \u001b[1;34mmetadata.py 200 _build()\u001b[0m - Added metadata for d0526_0069.fits.gz\n",
      "\u001b[1;32m[INFO]    ::\u001b[0m \u001b[1;34mmetadata.py 200 _build()\u001b[0m - Added metadata for d0526_0068.fits.gz\n",
      "\u001b[1;32m[INFO]    ::\u001b[0m \u001b[1;34mmetadata.py 200 _build()\u001b[0m - Added metadata for d0526_0122.fits.gz\n",
      "\u001b[1;32m[INFO]    ::\u001b[0m \u001b[1;34mmetadata.py 200 _build()\u001b[0m - Added metadata for d0914_0025.fits.gz\n",
      "\u001b[1;32m[INFO]    ::\u001b[0m \u001b[1;34mmetadata.py 200 _build()\u001b[0m - Added metadata for d0914_0024.fits.gz\n",
      "\u001b[1;32m[INFO]    ::\u001b[0m \u001b[1;34mmetadata.py 200 _build()\u001b[0m - Added metadata for d0914_0027.fits.gz\n",
      "\u001b[1;32m[INFO]    ::\u001b[0m \u001b[1;34mmetadata.py 200 _build()\u001b[0m - Added metadata for d0914_0020.fits.gz\n",
      "\u001b[1;32m[INFO]    ::\u001b[0m \u001b[1;34mmetadata.py 200 _build()\u001b[0m - Added metadata for d0914_0017.fits.gz\n",
      "\u001b[1;32m[INFO]    ::\u001b[0m \u001b[1;34mmetadata.py 200 _build()\u001b[0m - Added metadata for d0914_0021.fits.gz\n",
      "\u001b[1;32m[INFO]    ::\u001b[0m \u001b[1;34mmetadata.py 200 _build()\u001b[0m - Added metadata for d0914_0048.fits.gz\n",
      "\u001b[1;32m[INFO]    ::\u001b[0m \u001b[1;34mmetadata.py 200 _build()\u001b[0m - Added metadata for d0914_0047.fits.gz\n",
      "\u001b[1;32m[INFO]    ::\u001b[0m \u001b[1;34mmetadata.py 200 _build()\u001b[0m - Added metadata for d0914_0023.fits.gz\n",
      "\u001b[1;32m[INFO]    ::\u001b[0m \u001b[1;34mmetadata.py 200 _build()\u001b[0m - Added metadata for d0914_0049.fits.gz\n",
      "\u001b[1;32m[INFO]    ::\u001b[0m \u001b[1;34mmetadata.py 200 _build()\u001b[0m - Added metadata for d0914_0026.fits.gz\n",
      "\u001b[1;32m[INFO]    ::\u001b[0m \u001b[1;34mmetadata.py 200 _build()\u001b[0m - Added metadata for d0914_0016.fits.gz\n",
      "\u001b[1;32m[INFO]    ::\u001b[0m \u001b[1;34mmetadata.py 200 _build()\u001b[0m - Added metadata for d0914_0015.fits.gz\n",
      "\u001b[1;32m[INFO]    ::\u001b[0m \u001b[1;34mmetadata.py 200 _build()\u001b[0m - Added metadata for d0914_0012.fits.gz\n",
      "\u001b[1;32m[INFO]    ::\u001b[0m \u001b[1;34mmetadata.py 200 _build()\u001b[0m - Added metadata for d0914_0013.fits.gz\n",
      "\u001b[1;32m[INFO]    ::\u001b[0m \u001b[1;34mmetadata.py 200 _build()\u001b[0m - Added metadata for d0914_0022.fits.gz\n",
      "\u001b[1;32m[INFO]    ::\u001b[0m \u001b[1;34mmetadata.py 200 _build()\u001b[0m - Added metadata for d0914_0011.fits.gz\n",
      "\u001b[1;32m[INFO]    ::\u001b[0m \u001b[1;34mmetadata.py 200 _build()\u001b[0m - Added metadata for d0914_0014.fits.gz\n",
      "\u001b[1;32m[INFO]    ::\u001b[0m \u001b[1;34mmetadata.py 200 _build()\u001b[0m - Added metadata for d0914_0028.fits.gz\n",
      "\u001b[1;32m[INFO]    ::\u001b[0m \u001b[1;34mmetadata.py 200 _build()\u001b[0m - Added metadata for d0526_0046.fits.gz\n",
      "\u001b[1;32m[INFO]    ::\u001b[0m \u001b[1;34mmetadata.py 200 _build()\u001b[0m - Added metadata for d0526_0049.fits.gz\n",
      "\u001b[1;32m[INFO]    ::\u001b[0m \u001b[1;34mmetadata.py 200 _build()\u001b[0m - Added metadata for d0526_0110.fits.gz\n",
      "\u001b[1;32m[INFO]    ::\u001b[0m \u001b[1;34mmetadata.py 200 _build()\u001b[0m - Added metadata for d0526_0109.fits.gz\n",
      "\u001b[1;32m[INFO]    ::\u001b[0m \u001b[1;34mmetadata.py 200 _build()\u001b[0m - Added metadata for d0526_0048.fits.gz\n",
      "\u001b[1;32m[INFO]    ::\u001b[0m \u001b[1;34mmetadata.py 200 _build()\u001b[0m - Added metadata for d0526_0047.fits.gz\n",
      "\u001b[1;32m[INFO]    ::\u001b[0m \u001b[1;34mmetadata.py 200 _build()\u001b[0m - Added metadata for d0225_0054.fits\n",
      "\u001b[1;32m[INFO]    ::\u001b[0m \u001b[1;34mmetadata.py 200 _build()\u001b[0m - Added metadata for d0225_0055.fits\n",
      "\u001b[1;32m[INFO]    ::\u001b[0m \u001b[1;34mmetadata.py 200 _build()\u001b[0m - Added metadata for d0225_0091.fits\n",
      "\u001b[1;32m[INFO]    ::\u001b[0m \u001b[1;34mmetadata.py 200 _build()\u001b[0m - Added metadata for d0225_0104.fits\n",
      "\u001b[1;32m[INFO]    ::\u001b[0m \u001b[1;34mmetadata.py 200 _build()\u001b[0m - Added metadata for d0225_0105.fits\n",
      "\u001b[1;32m[INFO]    ::\u001b[0m \u001b[1;34mmetadata.py 200 _build()\u001b[0m - Added metadata for d0225_0103.fits\n",
      "\u001b[1;32m[INFO]    ::\u001b[0m \u001b[1;34mmetadata.py 200 _build()\u001b[0m - Added metadata for d0225_0106.fits\n",
      "\u001b[1;32m[INFO]    ::\u001b[0m \u001b[1;34mmetadata.py 200 _build()\u001b[0m - Added metadata for d0225_0088.fits\n",
      "\u001b[1;32m[INFO]    ::\u001b[0m \u001b[1;34mmetadata.py 200 _build()\u001b[0m - Added metadata for d0225_0094.fits\n",
      "\u001b[1;32m[INFO]    ::\u001b[0m \u001b[1;34mmetadata.py 200 _build()\u001b[0m - Added metadata for DE.20140226.54107.fits\n",
      "\u001b[1;32m[INFO]    ::\u001b[0m \u001b[1;34mmetadata.py 200 _build()\u001b[0m - Added metadata for DE.20140226.52536.fits\n",
      "\u001b[1;32m[INFO]    ::\u001b[0m \u001b[1;34mmetadata.py 200 _build()\u001b[0m - Added metadata for DE.20140226.61663.fits\n",
      "\u001b[1;32m[INFO]    ::\u001b[0m \u001b[1;34mmetadata.py 200 _build()\u001b[0m - Added metadata for DE.20140226.61434.fits\n",
      "\u001b[1;32m[INFO]    ::\u001b[0m \u001b[1;34mmetadata.py 200 _build()\u001b[0m - Added metadata for DE.20140226.61587.fits\n",
      "\u001b[1;32m[INFO]    ::\u001b[0m \u001b[1;34mmetadata.py 200 _build()\u001b[0m - Added metadata for DE.20140226.50959.fits\n",
      "\u001b[1;32m[INFO]    ::\u001b[0m \u001b[1;34mmetadata.py 200 _build()\u001b[0m - Added metadata for DE.20140226.61512.fits\n",
      "\u001b[1;32m[INFO]    ::\u001b[0m \u001b[1;34mmetadata.py 200 _build()\u001b[0m - Added metadata for DE.20170425.09722.fits.gz\n",
      "\u001b[1;32m[INFO]    ::\u001b[0m \u001b[1;34mmetadata.py 200 _build()\u001b[0m - Added metadata for DE.20170425.09554.fits.gz\n",
      "\u001b[1;32m[INFO]    ::\u001b[0m \u001b[1;34mmetadata.py 200 _build()\u001b[0m - Added metadata for DE.20170425.51771.fits.gz\n",
      "\u001b[1;32m[INFO]    ::\u001b[0m \u001b[1;34mmetadata.py 200 _build()\u001b[0m - Added metadata for DE.20170425.09632.fits.gz\n",
      "\u001b[1;32m[INFO]    ::\u001b[0m \u001b[1;34mmetadata.py 200 _build()\u001b[0m - Added metadata for DE.20170425.50487.fits.gz\n",
      "\u001b[1;32m[INFO]    ::\u001b[0m \u001b[1;34mmetadata.py 200 _build()\u001b[0m - Added metadata for DE.20170425.53065.fits.gz\n",
      "\u001b[1;32m[INFO]    ::\u001b[0m \u001b[1;34mmetadata.py 200 _build()\u001b[0m - Added metadata for DE.20170425.09803.fits.gz\n",
      "\u001b[1;32m[INFO]    ::\u001b[0m \u001b[1;34mmetadata.py 200 _build()\u001b[0m - Added metadata for d0115_0110.fits.gz\n",
      "\u001b[1;32m[INFO]    ::\u001b[0m \u001b[1;34mmetadata.py 200 _build()\u001b[0m - Added metadata for d0115_0022.fits.gz\n",
      "\u001b[1;32m[INFO]    ::\u001b[0m \u001b[1;34mmetadata.py 200 _build()\u001b[0m - Added metadata for d0115_0025.fits.gz\n",
      "\u001b[1;32m[INFO]    ::\u001b[0m \u001b[1;34mmetadata.py 200 _build()\u001b[0m - Added metadata for d0115_0109.fits.gz\n",
      "\u001b[1;32m[INFO]    ::\u001b[0m \u001b[1;34mmetadata.py 200 _build()\u001b[0m - Added metadata for d0115_0111.fits.gz\n",
      "\u001b[1;32m[INFO]    ::\u001b[0m \u001b[1;34mmetadata.py 200 _build()\u001b[0m - Added metadata for d0115_0023.fits.gz\n",
      "\u001b[1;32m[INFO]    ::\u001b[0m \u001b[1;34mmetadata.py 200 _build()\u001b[0m - Added metadata for d0115_0108.fits.gz\n",
      "\u001b[1;32m[INFO]    ::\u001b[0m \u001b[1;34mmetadata.py 200 _build()\u001b[0m - Added metadata for d0115_0024.fits.gz\n",
      "\u001b[1;32m[INFO]    ::\u001b[0m \u001b[1;34mmetadata.py 200 _build()\u001b[0m - Added metadata for d0913_0024.fits\n",
      "\u001b[1;32m[INFO]    ::\u001b[0m \u001b[1;34mmetadata.py 200 _build()\u001b[0m - Added metadata for d0913_0014.fits\n",
      "\u001b[1;32m[INFO]    ::\u001b[0m \u001b[1;34mmetadata.py 200 _build()\u001b[0m - Added metadata for d0913_0025.fits\n"
     ]
    },
    {
     "name": "stderr",
     "output_type": "stream",
     "text": [
      "\u001b[1;32m[INFO]    ::\u001b[0m \u001b[1;34mmetadata.py 200 _build()\u001b[0m - Added metadata for d0913_0033.fits\n",
      "\u001b[1;32m[INFO]    ::\u001b[0m \u001b[1;34mmetadata.py 200 _build()\u001b[0m - Added metadata for d0913_0015.fits\n",
      "\u001b[1;32m[INFO]    ::\u001b[0m \u001b[1;34mmetadata.py 200 _build()\u001b[0m - Added metadata for d0913_0018.fits\n",
      "\u001b[1;32m[INFO]    ::\u001b[0m \u001b[1;34mmetadata.py 200 _build()\u001b[0m - Added metadata for d0913_0016.fits\n",
      "\u001b[1;32m[INFO]    ::\u001b[0m \u001b[1;34mmetadata.py 200 _build()\u001b[0m - Added metadata for d0913_0019.fits\n",
      "\u001b[1;32m[INFO]    ::\u001b[0m \u001b[1;34mmetadata.py 200 _build()\u001b[0m - Added metadata for d0913_0013.fits\n",
      "\u001b[1;32m[INFO]    ::\u001b[0m \u001b[1;34mmetadata.py 200 _build()\u001b[0m - Added metadata for d0913_0017.fits\n",
      "\u001b[1;32m[INFO]    ::\u001b[0m \u001b[1;34mmetadata.py 200 _build()\u001b[0m - Added metadata for d0914_0015.fits\n",
      "\u001b[1;32m[INFO]    ::\u001b[0m \u001b[1;34mmetadata.py 200 _build()\u001b[0m - Added metadata for d0914_0016.fits\n",
      "\u001b[1;32m[INFO]    ::\u001b[0m \u001b[1;34mmetadata.py 200 _build()\u001b[0m - Added metadata for d0914_0047.fits\n",
      "\u001b[1;32m[INFO]    ::\u001b[0m \u001b[1;34mmetadata.py 200 _build()\u001b[0m - Added metadata for d0914_0012.fits\n",
      "\u001b[1;32m[INFO]    ::\u001b[0m \u001b[1;34mmetadata.py 200 _build()\u001b[0m - Added metadata for d0914_0013.fits\n",
      "\u001b[1;32m[INFO]    ::\u001b[0m \u001b[1;34mmetadata.py 200 _build()\u001b[0m - Added metadata for d0914_0017.fits\n",
      "\u001b[1;32m[INFO]    ::\u001b[0m \u001b[1;34mmetadata.py 200 _build()\u001b[0m - Added metadata for d0914_0014.fits\n",
      "\u001b[1;32m[INFO]    ::\u001b[0m \u001b[1;34mmetadata.py 200 _build()\u001b[0m - Added metadata for d0914_0045.fits\n",
      "\u001b[1;32m[INFO]    ::\u001b[0m \u001b[1;34mmetadata.py 200 _build()\u001b[0m - Added metadata for d0914_0011.fits\n",
      "\u001b[1;32m[INFO]    ::\u001b[0m \u001b[1;34mmetadata.py 200 _build()\u001b[0m - Added metadata for DE.20130409.10145.fits.gz\n",
      "\u001b[1;32m[INFO]    ::\u001b[0m \u001b[1;34mmetadata.py 200 _build()\u001b[0m - Added metadata for DE.20130409.20629.fits.gz\n",
      "\u001b[1;32m[INFO]    ::\u001b[0m \u001b[1;34mmetadata.py 200 _build()\u001b[0m - Added metadata for DE.20130409.10219.fits.gz\n",
      "\u001b[1;32m[INFO]    ::\u001b[0m \u001b[1;34mmetadata.py 200 _build()\u001b[0m - Added metadata for DE.20130409.09996.fits.gz\n",
      "\u001b[1;32m[INFO]    ::\u001b[0m \u001b[1;34mmetadata.py 200 _build()\u001b[0m - Added metadata for DE.20130409.10065.fits.gz\n",
      "\u001b[1;32m[INFO]    ::\u001b[0m \u001b[1;34mmetadata.py 200 _build()\u001b[0m - Added metadata for DE.20130409.22509.fits.gz\n",
      "\u001b[1;32m[INFO]    ::\u001b[0m \u001b[1;34mmetadata.py 200 _build()\u001b[0m - Added metadata for d0316_0037.fits\n",
      "\u001b[1;32m[INFO]    ::\u001b[0m \u001b[1;34mmetadata.py 200 _build()\u001b[0m - Added metadata for d0316_0045.fits\n",
      "\u001b[1;32m[INFO]    ::\u001b[0m \u001b[1;34mmetadata.py 200 _build()\u001b[0m - Added metadata for d0316_0041.fits\n",
      "\u001b[1;32m[INFO]    ::\u001b[0m \u001b[1;34mmetadata.py 200 _build()\u001b[0m - Added metadata for d0316_0038.fits\n",
      "\u001b[1;32m[INFO]    ::\u001b[0m \u001b[1;34mmetadata.py 200 _build()\u001b[0m - Added metadata for d0316_0044.fits\n",
      "\u001b[1;32m[INFO]    ::\u001b[0m \u001b[1;34mmetadata.py 200 _build()\u001b[0m - Added metadata for d0316_0042.fits\n",
      "\u001b[1;32m[INFO]    ::\u001b[0m \u001b[1;34mmetadata.py 200 _build()\u001b[0m - Added metadata for d0316_0043.fits\n",
      "\u001b[1;32m[INFO]    ::\u001b[0m \u001b[1;34mmetadata.py 200 _build()\u001b[0m - Added metadata for d0316_0039.fits\n",
      "\u001b[1;32m[INFO]    ::\u001b[0m \u001b[1;34mmetadata.py 200 _build()\u001b[0m - Added metadata for d0316_0040.fits\n",
      "\u001b[1;32m[INFO]    ::\u001b[0m \u001b[1;34mmetadata.py 200 _build()\u001b[0m - Added metadata for d0914_0038.fits.gz\n",
      "\u001b[1;32m[INFO]    ::\u001b[0m \u001b[1;34mmetadata.py 200 _build()\u001b[0m - Added metadata for d0914_0037.fits.gz\n",
      "\u001b[1;32m[INFO]    ::\u001b[0m \u001b[1;34mmetadata.py 200 _build()\u001b[0m - Added metadata for d0914_0047.fits.gz\n",
      "\u001b[1;32m[INFO]    ::\u001b[0m \u001b[1;34mmetadata.py 200 _build()\u001b[0m - Added metadata for d0914_0036.fits.gz\n",
      "\u001b[1;32m[INFO]    ::\u001b[0m \u001b[1;34mmetadata.py 200 _build()\u001b[0m - Added metadata for d0914_0015.fits.gz\n",
      "\u001b[1;32m[INFO]    ::\u001b[0m \u001b[1;34mmetadata.py 200 _build()\u001b[0m - Added metadata for d0914_0013.fits.gz\n",
      "\u001b[1;32m[INFO]    ::\u001b[0m \u001b[1;34mmetadata.py 200 _build()\u001b[0m - Added metadata for d0914_0002.fits.gz\n",
      "\u001b[1;32m[INFO]    ::\u001b[0m \u001b[1;34mmetadata.py 200 _build()\u001b[0m - Added metadata for d0914_0011.fits.gz\n",
      "\u001b[1;32m[INFO]    ::\u001b[0m \u001b[1;34mmetadata.py 200 _build()\u001b[0m - Added metadata for d0914_0014.fits.gz\n",
      "\u001b[1;32m[INFO]    ::\u001b[0m \u001b[1;34mmetadata.py 200 _build()\u001b[0m - Added metadata for DE.20100913.22358.fits.gz\n",
      "\u001b[1;32m[INFO]    ::\u001b[0m \u001b[1;34mmetadata.py 200 _build()\u001b[0m - Added metadata for DE.20100913.57161.fits.gz\n",
      "\u001b[1;32m[INFO]    ::\u001b[0m \u001b[1;34mmetadata.py 200 _build()\u001b[0m - Added metadata for DE.20100913.57006.fits.gz\n",
      "\u001b[1;32m[INFO]    ::\u001b[0m \u001b[1;34mmetadata.py 200 _build()\u001b[0m - Added metadata for DE.20100913.56927.fits.gz\n",
      "\u001b[1;32m[INFO]    ::\u001b[0m \u001b[1;34mmetadata.py 200 _build()\u001b[0m - Added metadata for DE.20170527.53184.fits\n",
      "\u001b[1;32m[INFO]    ::\u001b[0m \u001b[1;34mmetadata.py 200 _build()\u001b[0m - Added metadata for DE.20170527.06790.fits\n",
      "\u001b[1;32m[INFO]    ::\u001b[0m \u001b[1;34mmetadata.py 200 _build()\u001b[0m - Added metadata for DE.20170527.06936.fits\n",
      "\u001b[1;32m[INFO]    ::\u001b[0m \u001b[1;34mmetadata.py 200 _build()\u001b[0m - Added metadata for DE.20170527.06864.fits\n",
      "\u001b[1;32m[INFO]    ::\u001b[0m \u001b[1;34mmetadata.py 200 _build()\u001b[0m - Added metadata for d0527_0081.fits.gz\n",
      "\u001b[1;32m[INFO]    ::\u001b[0m \u001b[1;34mmetadata.py 200 _build()\u001b[0m - Added metadata for DE.20170527.38872.fits\n",
      "\u001b[1;32m[INFO]    ::\u001b[0m \u001b[1;34mmetadata.py 200 _build()\u001b[0m - Added metadata for DE.20170527.41775.fits\n",
      "\u001b[1;32m[INFO]    ::\u001b[0m \u001b[1;34mmetadata.py 200 _build()\u001b[0m - Added metadata for d0527_0031.fits.gz\n",
      "\u001b[1;32m[INFO]    ::\u001b[0m \u001b[1;34mmetadata.py 200 _build()\u001b[0m - Added metadata for d0527_0030.fits.gz\n",
      "\u001b[1;32m[INFO]    ::\u001b[0m \u001b[1;34mmetadata.py 200 _build()\u001b[0m - Added metadata for d0527_0033.fits.gz\n",
      "\u001b[1;32m[INFO]    ::\u001b[0m \u001b[1;34mmetadata.py 200 _build()\u001b[0m - Added metadata for d0527_0083.fits.gz\n",
      "\u001b[1;32m[INFO]    ::\u001b[0m \u001b[1;34mmetadata.py 200 _build()\u001b[0m - Added metadata for DE.20170527.44316.fits\n",
      "\u001b[1;32m[INFO]    ::\u001b[0m \u001b[1;34mmetadata.py 200 _build()\u001b[0m - Added metadata for d0527_0032.fits.gz\n",
      "\u001b[1;32m[INFO]    ::\u001b[0m \u001b[1;34mmetadata.py 200 _build()\u001b[0m - Added metadata for DE.20170527.37601.fits\n",
      "\u001b[1;32m[INFO]    ::\u001b[0m \u001b[1;34mmetadata.py 200 _build()\u001b[0m - Added metadata for DE.20170527.43045.fits\n",
      "\u001b[1;32m[INFO]    ::\u001b[0m \u001b[1;34mmetadata.py 200 _build()\u001b[0m - Added metadata for DE.20170527.06713.fits\n",
      "\u001b[1;32m[INFO]    ::\u001b[0m \u001b[1;34mmetadata.py 1185 get_frame_types()\u001b[0m - Typing files\n",
      "\u001b[1;31m[WARNING] ::\u001b[0m \u001b[1;34mkeck_deimos.py 329 check_frame_type()\u001b[0m - Cannot determine if frames are of type align.\n",
      "\u001b[1;31m[WARNING] ::\u001b[0m \u001b[1;34mkeck_deimos.py 329 check_frame_type()\u001b[0m - Cannot determine if frames are of type standard.\n",
      "\u001b[1;32m[INFO]    ::\u001b[0m \u001b[1;34mmetadata.py 1253 get_frame_types()\u001b[0m - Typing completed!\n",
      "\u001b[1;32m[INFO]    ::\u001b[0m \u001b[1;34mmetadata.py 731 unique_configurations()\u001b[0m - Using metadata to determine unique configurations.\n",
      "\u001b[1;32m[INFO]    ::\u001b[0m \u001b[1;34mmetadata.py 739 unique_configurations()\u001b[0m - Unique configurations ignore frames with type: ['bias', 'dark']\n",
      "\u001b[1;32m[INFO]    ::\u001b[0m \u001b[1;34mmetadata.py 786 unique_configurations()\u001b[0m - Found 13 unique configurations.\n",
      "\u001b[1;32m[INFO]    ::\u001b[0m \u001b[1;34mpypeitsetup.py 447 run()\u001b[0m - Wrote sorted file data to /data/Projects/Python/PypeIt/doc/nb/setup_files/keck_deimos_2020-Jul-02.sorted\n",
      "\u001b[1;32m[INFO]    ::\u001b[0m \u001b[1;34mpypeitsetup.py 473 run()\u001b[0m - Setup is complete.\n",
      "\u001b[1;32m[INFO]    ::\u001b[0m \u001b[1;34mpypeitsetup.py 474 run()\u001b[0m - Inspect the .sorted file\n",
      "\u001b[1;32m[INFO]    ::\u001b[0m \u001b[1;34mchk_calibs.py 73 main()\u001b[0m - Loaded spectrograph keck_deimos\n",
      "\u001b[1;32m[INFO]    ::\u001b[0m \u001b[1;34mchk_calibs.py 96 main()\u001b[0m - =======================================================================\n",
      "\u001b[1;32m[INFO]    ::\u001b[0m \u001b[1;34mchk_calibs.py 97 main()\u001b[0m - Working on setup: A\n",
      "\u001b[1;32m[INFO]    ::\u001b[0m \u001b[1;34mchk_calibs.py 98 main()\u001b[0m - {'Setup A': {'--': {'disperser': {'name': '600ZD', 'angle': 6500.00634766}, 'dichroic': 'none', 'slit': {'decker': 'mask03', 'slitwid': 'none', 'slitlen': 'none'}, 'binning': '1,1'}}}\n",
      "\u001b[1;32m[INFO]    ::\u001b[0m \u001b[1;34mchk_calibs.py 99 main()\u001b[0m - =======================================================================\n",
      "\u001b[1;32m[INFO]    ::\u001b[0m \u001b[1;34mchk_calibs.py 112 main()\u001b[0m - Setting configuration-specific parameters using d1010_0056.fits.gz\n",
      "\u001b[1;32m[INFO]    ::\u001b[0m \u001b[1;34mchk_calibs.py 123 main()\u001b[0m - Your science frames are:      filename     \n",
      "------------------\n",
      "d1010_0057.fits.gz\n",
      "d1010_0056.fits.gz\n",
      "\u001b[1;32m[INFO]    ::\u001b[0m \u001b[1;34mcalibrations.py 892 check_for_calibs()\u001b[0m - Congrats!!  You passed the calibrations inspection!!\n",
      "\u001b[1;32m[INFO]    ::\u001b[0m \u001b[1;34mchk_calibs.py 96 main()\u001b[0m - =======================================================================\n",
      "\u001b[1;32m[INFO]    ::\u001b[0m \u001b[1;34mchk_calibs.py 97 main()\u001b[0m - Working on setup: B\n",
      "\u001b[1;32m[INFO]    ::\u001b[0m \u001b[1;34mchk_calibs.py 98 main()\u001b[0m - {'Setup B': {'--': {'disperser': {'name': '830G', 'angle': 8099.98291016}, 'dichroic': 'none', 'slit': {'decker': 'm247', 'slitwid': 'none', 'slitlen': 'none'}, 'binning': '1,1'}}}\n",
      "\u001b[1;32m[INFO]    ::\u001b[0m \u001b[1;34mchk_calibs.py 99 main()\u001b[0m - =======================================================================\n",
      "\u001b[1;32m[INFO]    ::\u001b[0m \u001b[1;34mchk_calibs.py 112 main()\u001b[0m - Setting configuration-specific parameters using d0526_0122.fits.gz\n"
     ]
    },
    {
     "name": "stderr",
     "output_type": "stream",
     "text": [
      "\u001b[1;32m[INFO]    ::\u001b[0m \u001b[1;34mchk_calibs.py 123 main()\u001b[0m - Your science frames are:      filename     \n",
      "------------------\n",
      "d0526_0123.fits.gz\n",
      "d0526_0124.fits.gz\n",
      "d0526_0122.fits.gz\n",
      "\u001b[1;32m[INFO]    ::\u001b[0m \u001b[1;34mcalibrations.py 892 check_for_calibs()\u001b[0m - Congrats!!  You passed the calibrations inspection!!\n",
      "\u001b[1;32m[INFO]    ::\u001b[0m \u001b[1;34mchk_calibs.py 96 main()\u001b[0m - =======================================================================\n",
      "\u001b[1;32m[INFO]    ::\u001b[0m \u001b[1;34mchk_calibs.py 97 main()\u001b[0m - Working on setup: C\n",
      "\u001b[1;32m[INFO]    ::\u001b[0m \u001b[1;34mchk_calibs.py 98 main()\u001b[0m - {'Setup C': {'--': {'disperser': {'name': '830G', 'angle': 8399.93554688}, 'dichroic': 'none', 'slit': {'decker': 'LongMirr', 'slitwid': 'none', 'slitlen': 'none'}, 'binning': '1,1'}}}\n",
      "\u001b[1;32m[INFO]    ::\u001b[0m \u001b[1;34mchk_calibs.py 99 main()\u001b[0m - =======================================================================\n",
      "\u001b[1;32m[INFO]    ::\u001b[0m \u001b[1;34mchk_calibs.py 112 main()\u001b[0m - Setting configuration-specific parameters using d0914_0036.fits.gz\n",
      "\u001b[1;32m[INFO]    ::\u001b[0m \u001b[1;34mchk_calibs.py 123 main()\u001b[0m - Your science frames are:      filename     \n",
      "------------------\n",
      "d0914_0025.fits.gz\n",
      "d0914_0024.fits.gz\n",
      "d0914_0027.fits.gz\n",
      "d0914_0020.fits.gz\n",
      "d0914_0021.fits.gz\n",
      "d0914_0048.fits.gz\n",
      "d0914_0047.fits.gz\n",
      "d0914_0023.fits.gz\n",
      "d0914_0049.fits.gz\n",
      "d0914_0026.fits.gz\n",
      "d0914_0022.fits.gz\n",
      "d0914_0028.fits.gz\n",
      "   d0914_0047.fits\n",
      "   d0914_0045.fits\n",
      "d0914_0038.fits.gz\n",
      "d0914_0037.fits.gz\n",
      "d0914_0047.fits.gz\n",
      "d0914_0036.fits.gz\n",
      "\u001b[1;32m[INFO]    ::\u001b[0m \u001b[1;34mcalibrations.py 892 check_for_calibs()\u001b[0m - Congrats!!  You passed the calibrations inspection!!\n",
      "\u001b[1;32m[INFO]    ::\u001b[0m \u001b[1;34mchk_calibs.py 96 main()\u001b[0m - =======================================================================\n",
      "\u001b[1;32m[INFO]    ::\u001b[0m \u001b[1;34mchk_calibs.py 97 main()\u001b[0m - Working on setup: D\n",
      "\u001b[1;32m[INFO]    ::\u001b[0m \u001b[1;34mchk_calibs.py 98 main()\u001b[0m - {'Setup D': {'--': {'disperser': {'name': '830G', 'angle': 8099.98291016}, 'dichroic': 'none', 'slit': {'decker': 'm231', 'slitwid': 'none', 'slitlen': 'none'}, 'binning': '1,1'}}}\n",
      "\u001b[1;32m[INFO]    ::\u001b[0m \u001b[1;34mchk_calibs.py 99 main()\u001b[0m - =======================================================================\n",
      "\u001b[1;32m[INFO]    ::\u001b[0m \u001b[1;34mchk_calibs.py 112 main()\u001b[0m - Setting configuration-specific parameters using d0526_0109.fits.gz\n",
      "\u001b[1;32m[INFO]    ::\u001b[0m \u001b[1;34mchk_calibs.py 123 main()\u001b[0m - Your science frames are:      filename     \n",
      "------------------\n",
      "d0526_0110.fits.gz\n",
      "d0526_0109.fits.gz\n",
      "\u001b[1;32m[INFO]    ::\u001b[0m \u001b[1;34mcalibrations.py 892 check_for_calibs()\u001b[0m - Congrats!!  You passed the calibrations inspection!!\n",
      "\u001b[1;32m[INFO]    ::\u001b[0m \u001b[1;34mchk_calibs.py 96 main()\u001b[0m - =======================================================================\n",
      "\u001b[1;32m[INFO]    ::\u001b[0m \u001b[1;34mchk_calibs.py 97 main()\u001b[0m - Working on setup: E\n",
      "\u001b[1;32m[INFO]    ::\u001b[0m \u001b[1;34mchk_calibs.py 98 main()\u001b[0m - {'Setup E': {'--': {'disperser': {'name': '600ZD', 'angle': 7899.99072266}, 'dichroic': 'none', 'slit': {'decker': '16045h', 'slitwid': 'none', 'slitlen': 'none'}, 'binning': '1,1'}}}\n",
      "\u001b[1;32m[INFO]    ::\u001b[0m \u001b[1;34mchk_calibs.py 99 main()\u001b[0m - =======================================================================\n",
      "\u001b[1;32m[INFO]    ::\u001b[0m \u001b[1;34mchk_calibs.py 112 main()\u001b[0m - Setting configuration-specific parameters using d0225_0055.fits\n",
      "\u001b[1;32m[INFO]    ::\u001b[0m \u001b[1;34mchk_calibs.py 123 main()\u001b[0m - Your science frames are:     filename   \n",
      "---------------\n",
      "d0225_0054.fits\n",
      "d0225_0055.fits\n",
      "\u001b[1;32m[INFO]    ::\u001b[0m \u001b[1;34mcalibrations.py 892 check_for_calibs()\u001b[0m - Congrats!!  You passed the calibrations inspection!!\n",
      "\u001b[1;32m[INFO]    ::\u001b[0m \u001b[1;34mchk_calibs.py 96 main()\u001b[0m - =======================================================================\n",
      "\u001b[1;32m[INFO]    ::\u001b[0m \u001b[1;34mchk_calibs.py 97 main()\u001b[0m - Working on setup: F\n",
      "\u001b[1;32m[INFO]    ::\u001b[0m \u001b[1;34mchk_calibs.py 98 main()\u001b[0m - {'Setup F': {'--': {'disperser': {'name': '600ZD', 'angle': 7500.02246094}, 'dichroic': 'none', 'slit': {'decker': 'jcCIV2C', 'slitwid': 'none', 'slitlen': 'none'}, 'binning': '1,1'}}}\n",
      "\u001b[1;32m[INFO]    ::\u001b[0m \u001b[1;34mchk_calibs.py 99 main()\u001b[0m - =======================================================================\n",
      "\u001b[1;32m[INFO]    ::\u001b[0m \u001b[1;34mchk_calibs.py 112 main()\u001b[0m - Setting configuration-specific parameters using DE.20140226.50959.fits\n",
      "\u001b[1;32m[INFO]    ::\u001b[0m \u001b[1;34mchk_calibs.py 123 main()\u001b[0m - Your science frames are:        filename       \n",
      "----------------------\n",
      "DE.20140226.54107.fits\n",
      "DE.20140226.52536.fits\n",
      "DE.20140226.50959.fits\n",
      "\u001b[1;32m[INFO]    ::\u001b[0m \u001b[1;34mcalibrations.py 892 check_for_calibs()\u001b[0m - Congrats!!  You passed the calibrations inspection!!\n",
      "\u001b[1;32m[INFO]    ::\u001b[0m \u001b[1;34mchk_calibs.py 96 main()\u001b[0m - =======================================================================\n",
      "\u001b[1;32m[INFO]    ::\u001b[0m \u001b[1;34mchk_calibs.py 97 main()\u001b[0m - Working on setup: G\n",
      "\u001b[1;32m[INFO]    ::\u001b[0m \u001b[1;34mchk_calibs.py 98 main()\u001b[0m - {'Setup G': {'--': {'disperser': {'name': '1200G', 'angle': 7699.95654297}, 'dichroic': 'none', 'slit': {'decker': 'dra11', 'slitwid': 'none', 'slitlen': 'none'}, 'binning': '1,1'}}}\n",
      "\u001b[1;32m[INFO]    ::\u001b[0m \u001b[1;34mchk_calibs.py 99 main()\u001b[0m - =======================================================================\n",
      "\u001b[1;32m[INFO]    ::\u001b[0m \u001b[1;34mchk_calibs.py 112 main()\u001b[0m - Setting configuration-specific parameters using DE.20170425.53065.fits.gz\n",
      "\u001b[1;32m[INFO]    ::\u001b[0m \u001b[1;34mchk_calibs.py 123 main()\u001b[0m - Your science frames are:          filename        \n",
      "-------------------------\n",
      "DE.20170425.51771.fits.gz\n",
      "DE.20170425.50487.fits.gz\n",
      "DE.20170425.53065.fits.gz\n",
      "\u001b[1;32m[INFO]    ::\u001b[0m \u001b[1;34mcalibrations.py 892 check_for_calibs()\u001b[0m - Congrats!!  You passed the calibrations inspection!!\n",
      "\u001b[1;32m[INFO]    ::\u001b[0m \u001b[1;34mchk_calibs.py 96 main()\u001b[0m - =======================================================================\n",
      "\u001b[1;32m[INFO]    ::\u001b[0m \u001b[1;34mchk_calibs.py 97 main()\u001b[0m - Working on setup: H\n",
      "\u001b[1;32m[INFO]    ::\u001b[0m \u001b[1;34mchk_calibs.py 98 main()\u001b[0m - {'Setup H': {'--': {'disperser': {'name': '1200G', 'angle': 7749.99365234}, 'dichroic': 'none', 'slit': {'decker': 'm18B84', 'slitwid': 'none', 'slitlen': 'none'}, 'binning': '1,1'}}}\n",
      "\u001b[1;32m[INFO]    ::\u001b[0m \u001b[1;34mchk_calibs.py 99 main()\u001b[0m - =======================================================================\n",
      "\u001b[1;32m[INFO]    ::\u001b[0m \u001b[1;34mchk_calibs.py 112 main()\u001b[0m - Setting configuration-specific parameters using d0115_0108.fits.gz\n",
      "\u001b[1;32m[INFO]    ::\u001b[0m \u001b[1;34mchk_calibs.py 123 main()\u001b[0m - Your science frames are:      filename     \n",
      "------------------\n",
      "d0115_0110.fits.gz\n",
      "d0115_0109.fits.gz\n",
      "d0115_0111.fits.gz\n",
      "d0115_0108.fits.gz\n",
      "\u001b[1;32m[INFO]    ::\u001b[0m \u001b[1;34mcalibrations.py 892 check_for_calibs()\u001b[0m - Congrats!!  You passed the calibrations inspection!!\n",
      "\u001b[1;32m[INFO]    ::\u001b[0m \u001b[1;34mchk_calibs.py 96 main()\u001b[0m - =======================================================================\n",
      "\u001b[1;32m[INFO]    ::\u001b[0m \u001b[1;34mchk_calibs.py 97 main()\u001b[0m - Working on setup: I\n",
      "\u001b[1;32m[INFO]    ::\u001b[0m \u001b[1;34mchk_calibs.py 98 main()\u001b[0m - {'Setup I': {'--': {'disperser': {'name': '830G', 'angle': 8409.99511719}, 'dichroic': 'none', 'slit': {'decker': 'LongMirr', 'slitwid': 'none', 'slitlen': 'none'}, 'binning': '1,1'}}}\n",
      "\u001b[1;32m[INFO]    ::\u001b[0m \u001b[1;34mchk_calibs.py 99 main()\u001b[0m - =======================================================================\n",
      "\u001b[1;32m[INFO]    ::\u001b[0m \u001b[1;34mchk_calibs.py 112 main()\u001b[0m - Setting configuration-specific parameters using d0913_0033.fits\n",
      "\u001b[1;32m[INFO]    ::\u001b[0m \u001b[1;34mchk_calibs.py 123 main()\u001b[0m - Your science frames are:     filename   \n",
      "---------------\n",
      "d0913_0024.fits\n",
      "d0913_0025.fits\n",
      "d0913_0033.fits\n",
      "\u001b[1;32m[INFO]    ::\u001b[0m \u001b[1;34mcalibrations.py 892 check_for_calibs()\u001b[0m - Congrats!!  You passed the calibrations inspection!!\n",
      "\u001b[1;32m[INFO]    ::\u001b[0m \u001b[1;34mchk_calibs.py 96 main()\u001b[0m - =======================================================================\n",
      "\u001b[1;32m[INFO]    ::\u001b[0m \u001b[1;34mchk_calibs.py 97 main()\u001b[0m - Working on setup: J\n",
      "\u001b[1;32m[INFO]    ::\u001b[0m \u001b[1;34mchk_calibs.py 98 main()\u001b[0m - {'Setup J': {'--': {'disperser': {'name': '830G', 'angle': 8600.02148438}, 'dichroic': 'none', 'slit': {'decker': 'Z6CL01B', 'slitwid': 'none', 'slitlen': 'none'}, 'binning': '1,1'}}}\n",
      "\u001b[1;32m[INFO]    ::\u001b[0m \u001b[1;34mchk_calibs.py 99 main()\u001b[0m - =======================================================================\n",
      "\u001b[1;32m[INFO]    ::\u001b[0m \u001b[1;34mchk_calibs.py 112 main()\u001b[0m - Setting configuration-specific parameters using DE.20130409.22509.fits.gz\n"
     ]
    },
    {
     "name": "stderr",
     "output_type": "stream",
     "text": [
      "\u001b[1;32m[INFO]    ::\u001b[0m \u001b[1;34mchk_calibs.py 123 main()\u001b[0m - Your science frames are:          filename        \n",
      "-------------------------\n",
      "DE.20130409.20629.fits.gz\n",
      "DE.20130409.22509.fits.gz\n",
      "\u001b[1;32m[INFO]    ::\u001b[0m \u001b[1;34mcalibrations.py 892 check_for_calibs()\u001b[0m - Congrats!!  You passed the calibrations inspection!!\n",
      "\u001b[1;32m[INFO]    ::\u001b[0m \u001b[1;34mchk_calibs.py 96 main()\u001b[0m - =======================================================================\n",
      "\u001b[1;32m[INFO]    ::\u001b[0m \u001b[1;34mchk_calibs.py 97 main()\u001b[0m - Working on setup: K\n",
      "\u001b[1;32m[INFO]    ::\u001b[0m \u001b[1;34mchk_calibs.py 98 main()\u001b[0m - {'Setup K': {'--': {'disperser': {'name': '830G', 'angle': 8399.93554688}, 'dichroic': 'none', 'slit': {'decker': 'LVMslitC', 'slitwid': 'none', 'slitlen': 'none'}, 'binning': '1,1'}}}\n",
      "\u001b[1;32m[INFO]    ::\u001b[0m \u001b[1;34mchk_calibs.py 99 main()\u001b[0m - =======================================================================\n",
      "\u001b[1;32m[INFO]    ::\u001b[0m \u001b[1;34mchk_calibs.py 112 main()\u001b[0m - Setting configuration-specific parameters using d0316_0045.fits\n",
      "\u001b[1;32m[INFO]    ::\u001b[0m \u001b[1;34mchk_calibs.py 123 main()\u001b[0m - Your science frames are:     filename   \n",
      "---------------\n",
      "d0316_0045.fits\n",
      "\u001b[1;32m[INFO]    ::\u001b[0m \u001b[1;34mcalibrations.py 892 check_for_calibs()\u001b[0m - Congrats!!  You passed the calibrations inspection!!\n",
      "\u001b[1;32m[INFO]    ::\u001b[0m \u001b[1;34mchk_calibs.py 96 main()\u001b[0m - =======================================================================\n",
      "\u001b[1;32m[INFO]    ::\u001b[0m \u001b[1;34mchk_calibs.py 97 main()\u001b[0m - Working on setup: L\n",
      "\u001b[1;32m[INFO]    ::\u001b[0m \u001b[1;34mchk_calibs.py 98 main()\u001b[0m - {'Setup L': {'--': {'disperser': {'name': '830G', 'angle': 8500.0078125}, 'dichroic': 'none', 'slit': {'decker': 'CFHQS1B', 'slitwid': 'none', 'slitlen': 'none'}, 'binning': '1,1'}}}\n",
      "\u001b[1;32m[INFO]    ::\u001b[0m \u001b[1;34mchk_calibs.py 99 main()\u001b[0m - =======================================================================\n",
      "\u001b[1;32m[INFO]    ::\u001b[0m \u001b[1;34mchk_calibs.py 112 main()\u001b[0m - Setting configuration-specific parameters using DE.20100913.22358.fits.gz\n"
     ]
    },
    {
     "name": "stdout",
     "output_type": "stream",
     "text": [
      "There is a setup without science frames.  Skipping...\n",
      "= RESULTS ============================================\n",
      "setups  pass disperser     angle     dichroic  decker  slitwid binning                                                                                                                                                                     scifiles                                                                                                                                                                   \n",
      "------ ----- --------- ------------- -------- -------- ------- ------- -----------------------------------------------------------------------------------------------------------------------------------------------------------------------------------------------------------------------------------------------------------------------------------------------------------------------------------------------\n",
      "     A  True     600ZD 6500.00634766     none   mask03    none     1,1                                                                                                                                                                                                                                                                                                           d1010_0057.fits.gz,d1010_0056.fits.gz\n",
      "     B  True      830G 8099.98291016     none     m247    none     1,1                                                                                                                                                                                                                                                                                        d0526_0123.fits.gz,d0526_0124.fits.gz,d0526_0122.fits.gz\n",
      "     C  True      830G 8399.93554688     none LongMirr    none     1,1 d0914_0025.fits.gz,d0914_0024.fits.gz,d0914_0027.fits.gz,d0914_0020.fits.gz,d0914_0021.fits.gz,d0914_0048.fits.gz,d0914_0047.fits.gz,d0914_0023.fits.gz,d0914_0049.fits.gz,d0914_0026.fits.gz,d0914_0022.fits.gz,d0914_0028.fits.gz,d0914_0047.fits,d0914_0045.fits,d0914_0038.fits.gz,d0914_0037.fits.gz,d0914_0047.fits.gz,d0914_0036.fits.gz\n",
      "     D  True      830G 8099.98291016     none     m231    none     1,1                                                                                                                                                                                                                                                                                                           d0526_0110.fits.gz,d0526_0109.fits.gz\n",
      "     E  True     600ZD 7899.99072266     none   16045h    none     1,1                                                                                                                                                                                                                                                                                                                 d0225_0054.fits,d0225_0055.fits\n",
      "     F  True     600ZD 7500.02246094     none  jcCIV2C    none     1,1                                                                                                                                                                                                                                                                            DE.20140226.54107.fits,DE.20140226.52536.fits,DE.20140226.50959.fits\n",
      "     G  True     1200G 7699.95654297     none    dra11    none     1,1                                                                                                                                                                                                                                                                   DE.20170425.51771.fits.gz,DE.20170425.50487.fits.gz,DE.20170425.53065.fits.gz\n",
      "     H  True     1200G 7749.99365234     none   m18B84    none     1,1                                                                                                                                                                                                                                                                     d0115_0110.fits.gz,d0115_0109.fits.gz,d0115_0111.fits.gz,d0115_0108.fits.gz\n",
      "     I  True      830G 8409.99511719     none LongMirr    none     1,1                                                                                                                                                                                                                                                                                                 d0913_0024.fits,d0913_0025.fits,d0913_0033.fits\n",
      "     J  True      830G 8600.02148438     none  Z6CL01B    none     1,1                                                                                                                                                                                                                                                                                             DE.20130409.20629.fits.gz,DE.20130409.22509.fits.gz\n",
      "     K  True      830G 8399.93554688     none LVMslitC    none     1,1                                                                                                                                                                                                                                                                                                                                 d0316_0045.fits\n",
      "     L  True      830G  8500.0078125     none  CFHQS1B    none     1,1                                                                                                                                                                                                                                                                                                                       DE.20100913.22358.fits.gz\n",
      "     M  True      830G 8099.98291016     none LongMirr    none     1,1                                                                                                                                                                 DE.20170527.53184.fits,d0527_0081.fits.gz,DE.20170527.38872.fits,DE.20170527.41775.fits,d0527_0083.fits.gz,DE.20170527.44316.fits,DE.20170527.37601.fits,DE.20170527.43045.fits\n",
      "  None False     600ZD 1097.54162598     none   mask04    none     1,1                                                                                                                                                                                                                                                                                                                                            None\n",
      "= ===================================================================================\n"
     ]
    },
    {
     "name": "stderr",
     "output_type": "stream",
     "text": [
      "\u001b[1;32m[INFO]    ::\u001b[0m \u001b[1;34mchk_calibs.py 123 main()\u001b[0m - Your science frames are:          filename        \n",
      "-------------------------\n",
      "DE.20100913.22358.fits.gz\n",
      "\u001b[1;32m[INFO]    ::\u001b[0m \u001b[1;34mcalibrations.py 892 check_for_calibs()\u001b[0m - Congrats!!  You passed the calibrations inspection!!\n",
      "\u001b[1;32m[INFO]    ::\u001b[0m \u001b[1;34mchk_calibs.py 96 main()\u001b[0m - =======================================================================\n",
      "\u001b[1;32m[INFO]    ::\u001b[0m \u001b[1;34mchk_calibs.py 97 main()\u001b[0m - Working on setup: M\n",
      "\u001b[1;32m[INFO]    ::\u001b[0m \u001b[1;34mchk_calibs.py 98 main()\u001b[0m - {'Setup M': {'--': {'disperser': {'name': '830G', 'angle': 8099.98291016}, 'dichroic': 'none', 'slit': {'decker': 'LongMirr', 'slitwid': 'none', 'slitlen': 'none'}, 'binning': '1,1'}}}\n",
      "\u001b[1;32m[INFO]    ::\u001b[0m \u001b[1;34mchk_calibs.py 99 main()\u001b[0m - =======================================================================\n",
      "\u001b[1;32m[INFO]    ::\u001b[0m \u001b[1;34mchk_calibs.py 112 main()\u001b[0m - Setting configuration-specific parameters using DE.20170527.43045.fits\n",
      "\u001b[1;32m[INFO]    ::\u001b[0m \u001b[1;34mchk_calibs.py 123 main()\u001b[0m - Your science frames are:        filename       \n",
      "----------------------\n",
      "DE.20170527.53184.fits\n",
      "    d0527_0081.fits.gz\n",
      "DE.20170527.38872.fits\n",
      "DE.20170527.41775.fits\n",
      "    d0527_0083.fits.gz\n",
      "DE.20170527.44316.fits\n",
      "DE.20170527.37601.fits\n",
      "DE.20170527.43045.fits\n",
      "\u001b[1;32m[INFO]    ::\u001b[0m \u001b[1;34mcalibrations.py 892 check_for_calibs()\u001b[0m - Congrats!!  You passed the calibrations inspection!!\n"
     ]
    }
   ],
   "source": [
    "reload(chk_calibs)\n",
    "answers, ps = chk_calibs.main(pargs)"
   ]
  },
  {
   "cell_type": "code",
   "execution_count": 5,
   "metadata": {},
   "outputs": [
    {
     "data": {
      "text/html": [
       "<i>Table length=14</i>\n",
       "<table id=\"table139858688176312\" class=\"table-striped table-bordered table-condensed\">\n",
       "<thead><tr><th>setups</th><th>pass</th><th>disperser</th><th>angle</th><th>dichroic</th><th>decker</th><th>slitwid</th><th>binning</th><th>scifiles</th></tr></thead>\n",
       "<thead><tr><th>str4</th><th>bool</th><th>str5</th><th>float64</th><th>str4</th><th>str8</th><th>str4</th><th>str3</th><th>object</th></tr></thead>\n",
       "<tr><td>A</td><td>True</td><td>600ZD</td><td>6500.00634766</td><td>none</td><td>mask03</td><td>none</td><td>1,1</td><td>d1010_0057.fits.gz,d1010_0056.fits.gz</td></tr>\n",
       "<tr><td>B</td><td>True</td><td>830G</td><td>8099.98291016</td><td>none</td><td>m247</td><td>none</td><td>1,1</td><td>d0526_0123.fits.gz,d0526_0124.fits.gz,d0526_0122.fits.gz</td></tr>\n",
       "<tr><td>C</td><td>True</td><td>830G</td><td>8399.93554688</td><td>none</td><td>LongMirr</td><td>none</td><td>1,1</td><td>d0914_0025.fits.gz,d0914_0024.fits.gz,d0914_0027.fits.gz,d0914_0020.fits.gz,d0914_0021.fits.gz,d0914_0048.fits.gz,d0914_0047.fits.gz,d0914_0023.fits.gz,d0914_0049.fits.gz,d0914_0026.fits.gz,d0914_0022.fits.gz,d0914_0028.fits.gz,d0914_0047.fits,d0914_0045.fits,d0914_0038.fits.gz,d0914_0037.fits.gz,d0914_0047.fits.gz,d0914_0036.fits.gz</td></tr>\n",
       "<tr><td>D</td><td>True</td><td>830G</td><td>8099.98291016</td><td>none</td><td>m231</td><td>none</td><td>1,1</td><td>d0526_0110.fits.gz,d0526_0109.fits.gz</td></tr>\n",
       "<tr><td>E</td><td>True</td><td>600ZD</td><td>7899.99072266</td><td>none</td><td>16045h</td><td>none</td><td>1,1</td><td>d0225_0054.fits,d0225_0055.fits</td></tr>\n",
       "<tr><td>F</td><td>True</td><td>600ZD</td><td>7500.02246094</td><td>none</td><td>jcCIV2C</td><td>none</td><td>1,1</td><td>DE.20140226.54107.fits,DE.20140226.52536.fits,DE.20140226.50959.fits</td></tr>\n",
       "<tr><td>G</td><td>True</td><td>1200G</td><td>7699.95654297</td><td>none</td><td>dra11</td><td>none</td><td>1,1</td><td>DE.20170425.51771.fits.gz,DE.20170425.50487.fits.gz,DE.20170425.53065.fits.gz</td></tr>\n",
       "<tr><td>H</td><td>True</td><td>1200G</td><td>7749.99365234</td><td>none</td><td>m18B84</td><td>none</td><td>1,1</td><td>d0115_0110.fits.gz,d0115_0109.fits.gz,d0115_0111.fits.gz,d0115_0108.fits.gz</td></tr>\n",
       "<tr><td>I</td><td>True</td><td>830G</td><td>8409.99511719</td><td>none</td><td>LongMirr</td><td>none</td><td>1,1</td><td>d0913_0024.fits,d0913_0025.fits,d0913_0033.fits</td></tr>\n",
       "<tr><td>J</td><td>True</td><td>830G</td><td>8600.02148438</td><td>none</td><td>Z6CL01B</td><td>none</td><td>1,1</td><td>DE.20130409.20629.fits.gz,DE.20130409.22509.fits.gz</td></tr>\n",
       "<tr><td>K</td><td>True</td><td>830G</td><td>8399.93554688</td><td>none</td><td>LVMslitC</td><td>none</td><td>1,1</td><td>d0316_0045.fits</td></tr>\n",
       "<tr><td>L</td><td>True</td><td>830G</td><td>8500.0078125</td><td>none</td><td>CFHQS1B</td><td>none</td><td>1,1</td><td>DE.20100913.22358.fits.gz</td></tr>\n",
       "<tr><td>M</td><td>True</td><td>830G</td><td>8099.98291016</td><td>none</td><td>LongMirr</td><td>none</td><td>1,1</td><td>DE.20170527.53184.fits,d0527_0081.fits.gz,DE.20170527.38872.fits,DE.20170527.41775.fits,d0527_0083.fits.gz,DE.20170527.44316.fits,DE.20170527.37601.fits,DE.20170527.43045.fits</td></tr>\n",
       "<tr><td>None</td><td>False</td><td>600ZD</td><td>1097.54162598</td><td>none</td><td>mask04</td><td>none</td><td>1,1</td><td>None</td></tr>\n",
       "</table>"
      ],
      "text/plain": [
       "<Table length=14>\n",
       "setups ...\n",
       " str4  ...\n",
       "------ ...\n",
       "     A ...\n",
       "     B ...\n",
       "     C ...\n",
       "     D ...\n",
       "     E ...\n",
       "     F ...\n",
       "     G ...\n",
       "     H ...\n",
       "     I ...\n",
       "     J ...\n",
       "     K ...\n",
       "     L ...\n",
       "     M ...\n",
       "  None ..."
      ]
     },
     "execution_count": 5,
     "metadata": {},
     "output_type": "execute_result"
    }
   ],
   "source": [
    "answers"
   ]
  },
  {
   "cell_type": "markdown",
   "metadata": {},
   "source": [
    "# Just one"
   ]
  },
  {
   "cell_type": "code",
   "execution_count": 6,
   "metadata": {},
   "outputs": [],
   "source": [
    "droot2 = os.path.join(os.environ['PYPEIT_DEV'], 'RAW_DATA/keck_deimos/600ZD_M_6500/')"
   ]
  },
  {
   "cell_type": "code",
   "execution_count": 7,
   "metadata": {},
   "outputs": [],
   "source": [
    "pargs = chk_calibs.parser(['-r', droot2, '-s', 'keck_deimos'])"
   ]
  },
  {
   "cell_type": "code",
   "execution_count": 8,
   "metadata": {},
   "outputs": [
    {
     "name": "stderr",
     "output_type": "stream",
     "text": [
      "\u001b[1;32m[INFO]    ::\u001b[0m \u001b[1;34mpypeitsetup.py 209 from_file_root()\u001b[0m - A vanilla pypeit file will be written to: /data/Projects/Python/PypeIt/doc/nb/setup_files/keck_deimos_2020-Jul-02.pypeit\n",
      "\u001b[1;32m[INFO]    ::\u001b[0m \u001b[1;34mutil.py 607 make_pypeit_file()\u001b[0m - PypeIt file written to: /data/Projects/Python/PypeIt/doc/nb/setup_files/keck_deimos_2020-Jul-02.pypeit\n",
      "\u001b[1;32m[INFO]    ::\u001b[0m \u001b[1;34mutil.py 459 parse_pypeit_file()\u001b[0m - Loading the reduction file\n",
      "\u001b[1;32m[INFO]    ::\u001b[0m \u001b[1;34mutil.py 485 parse_pypeit_file()\u001b[0m - Found 9 raw data frames\n",
      "\u001b[1;32m[INFO]    ::\u001b[0m \u001b[1;34mutil.py 507 parse_pypeit_file()\u001b[0m - Input file loaded successfully\n",
      "\u001b[1;32m[INFO]    ::\u001b[0m \u001b[1;34mmetadata.py 200 _build()\u001b[0m - Added metadata for d1010_0019.fits.gz\n",
      "\u001b[1;32m[INFO]    ::\u001b[0m \u001b[1;34mmetadata.py 200 _build()\u001b[0m - Added metadata for d1010_0025.fits.gz\n",
      "\u001b[1;32m[INFO]    ::\u001b[0m \u001b[1;34mmetadata.py 200 _build()\u001b[0m - Added metadata for d1010_0006.fits.gz\n",
      "\u001b[1;32m[INFO]    ::\u001b[0m \u001b[1;34mmetadata.py 200 _build()\u001b[0m - Added metadata for d1010_0022.fits.gz\n",
      "\u001b[1;32m[INFO]    ::\u001b[0m \u001b[1;34mmetadata.py 200 _build()\u001b[0m - Added metadata for d1010_0040.fits.gz\n",
      "\u001b[1;32m[INFO]    ::\u001b[0m \u001b[1;34mmetadata.py 200 _build()\u001b[0m - Added metadata for d1010_0057.fits.gz\n",
      "\u001b[1;32m[INFO]    ::\u001b[0m \u001b[1;34mmetadata.py 200 _build()\u001b[0m - Added metadata for d1010_0041.fits.gz\n",
      "\u001b[1;32m[INFO]    ::\u001b[0m \u001b[1;34mmetadata.py 200 _build()\u001b[0m - Added metadata for d1010_0056.fits.gz\n",
      "\u001b[1;32m[INFO]    ::\u001b[0m \u001b[1;34mmetadata.py 200 _build()\u001b[0m - Added metadata for d1010_0005.fits.gz\n",
      "\u001b[1;32m[INFO]    ::\u001b[0m \u001b[1;34mmetadata.py 1185 get_frame_types()\u001b[0m - Typing files\n",
      "\u001b[1;31m[WARNING] ::\u001b[0m \u001b[1;34mkeck_deimos.py 329 check_frame_type()\u001b[0m - Cannot determine if frames are of type align.\n",
      "\u001b[1;31m[WARNING] ::\u001b[0m \u001b[1;34mkeck_deimos.py 329 check_frame_type()\u001b[0m - Cannot determine if frames are of type standard.\n",
      "\u001b[1;32m[INFO]    ::\u001b[0m \u001b[1;34mmetadata.py 1253 get_frame_types()\u001b[0m - Typing completed!\n",
      "\u001b[1;32m[INFO]    ::\u001b[0m \u001b[1;34mmetadata.py 731 unique_configurations()\u001b[0m - Using metadata to determine unique configurations.\n",
      "\u001b[1;32m[INFO]    ::\u001b[0m \u001b[1;34mmetadata.py 739 unique_configurations()\u001b[0m - Unique configurations ignore frames with type: ['bias', 'dark']\n",
      "\u001b[1;32m[INFO]    ::\u001b[0m \u001b[1;34mmetadata.py 786 unique_configurations()\u001b[0m - Found 1 unique configurations.\n",
      "\u001b[1;32m[INFO]    ::\u001b[0m \u001b[1;34mpypeitsetup.py 447 run()\u001b[0m - Wrote sorted file data to /data/Projects/Python/PypeIt/doc/nb/setup_files/keck_deimos_2020-Jul-02.sorted\n",
      "\u001b[1;32m[INFO]    ::\u001b[0m \u001b[1;34mpypeitsetup.py 473 run()\u001b[0m - Setup is complete.\n",
      "\u001b[1;32m[INFO]    ::\u001b[0m \u001b[1;34mpypeitsetup.py 474 run()\u001b[0m - Inspect the .sorted file\n",
      "\u001b[1;32m[INFO]    ::\u001b[0m \u001b[1;34mchk_calibs.py 73 main()\u001b[0m - Loaded spectrograph keck_deimos\n",
      "\u001b[1;32m[INFO]    ::\u001b[0m \u001b[1;34mchk_calibs.py 96 main()\u001b[0m - =======================================================================\n",
      "\u001b[1;32m[INFO]    ::\u001b[0m \u001b[1;34mchk_calibs.py 97 main()\u001b[0m - Working on setup: A\n",
      "\u001b[1;32m[INFO]    ::\u001b[0m \u001b[1;34mchk_calibs.py 98 main()\u001b[0m - {'Setup A': {'--': {'disperser': {'name': '600ZD', 'angle': 6500.00634766}, 'dichroic': 'none', 'slit': {'decker': 'mask03', 'slitwid': 'none', 'slitlen': 'none'}, 'binning': '1,1'}}}\n",
      "\u001b[1;32m[INFO]    ::\u001b[0m \u001b[1;34mchk_calibs.py 99 main()\u001b[0m - =======================================================================\n",
      "\u001b[1;32m[INFO]    ::\u001b[0m \u001b[1;34mchk_calibs.py 112 main()\u001b[0m - Setting configuration-specific parameters using d1010_0056.fits.gz\n"
     ]
    },
    {
     "name": "stdout",
     "output_type": "stream",
     "text": [
      "There is a setup without science frames.  Skipping...\n",
      "= RESULTS ============================================\n",
      "setups  pass disperser     angle     dichroic decker slitwid binning                scifiles              \n",
      "------ ----- --------- ------------- -------- ------ ------- ------- -------------------------------------\n",
      "     A  True     600ZD 6500.00634766     none mask03    none     1,1 d1010_0057.fits.gz,d1010_0056.fits.gz\n",
      "  None False     600ZD 1097.54162598     none mask04    none     1,1                                  None\n",
      "= ===================================================================================\n"
     ]
    },
    {
     "name": "stderr",
     "output_type": "stream",
     "text": [
      "\u001b[1;32m[INFO]    ::\u001b[0m \u001b[1;34mchk_calibs.py 123 main()\u001b[0m - Your science frames are:      filename     \n",
      "------------------\n",
      "d1010_0057.fits.gz\n",
      "d1010_0056.fits.gz\n",
      "\u001b[1;32m[INFO]    ::\u001b[0m \u001b[1;34mcalibrations.py 892 check_for_calibs()\u001b[0m - Congrats!!  You passed the calibrations inspection!!\n"
     ]
    }
   ],
   "source": [
    "reload(chk_calibs)\n",
    "answers, ps = chk_calibs.main(pargs)"
   ]
  },
  {
   "cell_type": "code",
   "execution_count": 9,
   "metadata": {},
   "outputs": [
    {
     "data": {
      "text/html": [
       "<i>Table length=2</i>\n",
       "<table id=\"table139858788192496\" class=\"table-striped table-bordered table-condensed\">\n",
       "<thead><tr><th>setups</th><th>pass</th><th>disperser</th><th>angle</th><th>dichroic</th><th>decker</th><th>slitwid</th><th>binning</th><th>scifiles</th></tr></thead>\n",
       "<thead><tr><th>str4</th><th>bool</th><th>str5</th><th>float64</th><th>str4</th><th>str6</th><th>str4</th><th>str3</th><th>object</th></tr></thead>\n",
       "<tr><td>A</td><td>True</td><td>600ZD</td><td>6500.00634766</td><td>none</td><td>mask03</td><td>none</td><td>1,1</td><td>d1010_0057.fits.gz,d1010_0056.fits.gz</td></tr>\n",
       "<tr><td>None</td><td>False</td><td>600ZD</td><td>1097.54162598</td><td>none</td><td>mask04</td><td>none</td><td>1,1</td><td>None</td></tr>\n",
       "</table>"
      ],
      "text/plain": [
       "<Table length=2>\n",
       "setups  pass disperser ... slitwid binning                scifiles              \n",
       " str4   bool    str5   ...   str4    str3                  object               \n",
       "------ ----- --------- ... ------- ------- -------------------------------------\n",
       "     A  True     600ZD ...    none     1,1 d1010_0057.fits.gz,d1010_0056.fits.gz\n",
       "  None False     600ZD ...    none     1,1                                  None"
      ]
     },
     "execution_count": 9,
     "metadata": {},
     "output_type": "execute_result"
    }
   ],
   "source": [
    "answers"
   ]
  },
  {
   "cell_type": "code",
   "execution_count": null,
   "metadata": {},
   "outputs": [],
   "source": []
  }
 ],
 "metadata": {
  "kernelspec": {
   "display_name": "Python 3",
   "language": "python",
   "name": "python3"
  },
  "language_info": {
   "codemirror_mode": {
    "name": "ipython",
    "version": 3
   },
   "file_extension": ".py",
   "mimetype": "text/x-python",
   "name": "python",
   "nbconvert_exporter": "python",
   "pygments_lexer": "ipython3",
   "version": "3.7.3"
  }
 },
 "nbformat": 4,
 "nbformat_minor": 4
}
