{
 "cells": [
  {
   "cell_type": "markdown",
   "metadata": {},
   "source": [
    "# Multi-detector Fluxing with DEIMOS [v1]"
   ]
  },
  {
   "cell_type": "code",
   "execution_count": 1,
   "metadata": {
    "collapsed": true
   },
   "outputs": [],
   "source": [
    "%matplotlib inline"
   ]
  },
  {
   "cell_type": "code",
   "execution_count": 33,
   "metadata": {
    "collapsed": true
   },
   "outputs": [],
   "source": [
    "# imports\n",
    "from importlib import reload\n",
    "import os\n",
    "from matplotlib import pyplot as plt\n",
    "import glob\n",
    "import numpy as np\n",
    "\n",
    "from astropy.table import Table\n",
    "from astropy import units as u\n",
    "\n",
    "from pypit import arload\n",
    "from pypit import arutils\n",
    "from pypit import fluxspec\n",
    "from pypit.core import arflux"
   ]
  },
  {
   "cell_type": "code",
   "execution_count": 3,
   "metadata": {},
   "outputs": [
    {
     "data": {
      "text/plain": [
       "'/home/xavier/local/Python/PYPIT-development-suite/'"
      ]
     },
     "execution_count": 3,
     "metadata": {},
     "output_type": "execute_result"
    }
   ],
   "source": [
    "# PYPIT Development\n",
    "os.getenv('PYPIT_DEV')"
   ]
  },
  {
   "cell_type": "markdown",
   "metadata": {},
   "source": [
    "# Script (user\n",
    "    pypit_flux_spec sensfunc --std_file=spec1d_G191B2B_DEIMOS_2017Sep14T152432.fits  --instr=keck_deimos --sensfunc_file=sens.yaml --multi_det=3,7"
   ]
  },
  {
   "cell_type": "markdown",
   "metadata": {},
   "source": [
    "----"
   ]
  },
  {
   "cell_type": "markdown",
   "metadata": {},
   "source": [
    "# Development"
   ]
  },
  {
   "cell_type": "markdown",
   "metadata": {},
   "source": [
    "## Load from Cooked"
   ]
  },
  {
   "cell_type": "code",
   "execution_count": 4,
   "metadata": {
    "collapsed": true
   },
   "outputs": [],
   "source": [
    "std_spec1d_file = os.getenv('PYPIT_DEV')+'Cooked/Science/spec1d_G191B2B_DEIMOS_2017Sep14T152432.fits'"
   ]
  },
  {
   "cell_type": "code",
   "execution_count": 5,
   "metadata": {},
   "outputs": [
    {
     "data": {
      "text/plain": [
       "([<SpecObjExp: O700-S3681-D03-I0005 == Setup dum_config Object at 0.7 in Slit at 0.3681 with det=03, scidx=5 and objtype=unknown>,\n",
       "  <SpecObjExp: O542-S3681-D03-I0005 == Setup dum_config Object at 0.542 in Slit at 0.3681 with det=03, scidx=5 and objtype=unknown>,\n",
       "  <SpecObjExp: O462-S3681-D03-I0005 == Setup dum_config Object at 0.462 in Slit at 0.3681 with det=03, scidx=5 and objtype=unknown>,\n",
       "  <SpecObjExp: O146-S3681-D03-I0005 == Setup dum_config Object at 0.146 in Slit at 0.3681 with det=03, scidx=5 and objtype=unknown>,\n",
       "  <SpecObjExp: O032-S3681-D03-I0005 == Setup dum_config Object at 0.032 in Slit at 0.3681 with det=03, scidx=5 and objtype=unknown>,\n",
       "  <SpecObjExp: O700-S3691-D07-I0005 == Setup dum_config Object at 0.7 in Slit at 0.3691 with det=07, scidx=5 and objtype=unknown>,\n",
       "  <SpecObjExp: O462-S3691-D07-I0005 == Setup dum_config Object at 0.462 in Slit at 0.3691 with det=07, scidx=5 and objtype=unknown>,\n",
       "  <SpecObjExp: O587-S3691-D07-I0005 == Setup dum_config Object at 0.587 in Slit at 0.3691 with det=07, scidx=5 and objtype=unknown>],\n",
       " SIMPLE  =                    T / conforms to FITS standard                      \n",
       " BITPIX  =                    8 / array data type                                \n",
       " NAXIS   =                    0 / number of array dimensions                     \n",
       " EXTEND  =                    T                                                  \n",
       " RA      = '05:05:30.63'                                                         \n",
       " DEC     = '+52:49:50.3'                                                         \n",
       " EXPTIME =                   60                                                  \n",
       " DATE    = '2017-09-14T15:24:32'                                                 \n",
       " TARGET  = 'G191B2B '                                                            \n",
       " AIRMASS =           1.19898553                                                  \n",
       " MJD-OBS =       1392255.390264                                                  \n",
       " LON-OBS =            155.47833                                                  \n",
       " LAT-OBS =             19.82833                                                  \n",
       " ALT-OBS =               4160.0                                                  \n",
       " EXT0001 = 'O700-S3681-D03-I0005'                                                \n",
       " EXT0002 = 'O542-S3681-D03-I0005'                                                \n",
       " EXT0003 = 'O462-S3681-D03-I0005'                                                \n",
       " EXT0004 = 'O146-S3681-D03-I0005'                                                \n",
       " EXT0005 = 'O032-S3681-D03-I0005'                                                \n",
       " EXT0006 = 'O700-S3691-D07-I0005'                                                \n",
       " EXT0007 = 'O462-S3691-D07-I0005'                                                \n",
       " EXT0008 = 'O587-S3691-D07-I0005'                                                \n",
       " NSPEC   =                    8                                                  \n",
       " NPIX    =                 4096                                                  )"
      ]
     },
     "execution_count": 5,
     "metadata": {},
     "output_type": "execute_result"
    }
   ],
   "source": [
    "std_specobjs, std_header = arload.load_specobj(std_spec1d_file)\n",
    "std_specobjs, std_header"
   ]
  },
  {
   "cell_type": "code",
   "execution_count": 44,
   "metadata": {},
   "outputs": [
    {
     "name": "stderr",
     "output_type": "stream",
     "text": [
      "\u001b[1;32m[INFO]    ::\u001b[0m \u001b[1;34marparse.py 75 load_file()\u001b[0m - Loading default settings\n",
      "\u001b[1;32m[INFO]    ::\u001b[0m \u001b[1;34marparse.py 87 load_file()\u001b[0m - Loading base settings from settings.baseargflag\n",
      "\u001b[1;32m[INFO]    ::\u001b[0m \u001b[1;34marparse.py 1393 run_ncpus()\u001b[0m - Setting 7 CPUs\n",
      "\u001b[1;32m[INFO]    ::\u001b[0m \u001b[1;34marparse.py 75 load_file()\u001b[0m - Loading default settings\n",
      "\u001b[1;32m[INFO]    ::\u001b[0m \u001b[1;34marparse.py 75 load_file()\u001b[0m - Loading default settings\n",
      "\u001b[1;32m[INFO]    ::\u001b[0m \u001b[1;34marparse.py 87 load_file()\u001b[0m - Loading base settings from settings.basespect\n",
      "\u001b[1;32m[INFO]    ::\u001b[0m \u001b[1;34marparse.py 75 load_file()\u001b[0m - Loading default settings\n",
      "\u001b[1;32m[INFO]    ::\u001b[0m \u001b[1;34marparse.py 75 load_file()\u001b[0m - Loading default settings\n",
      "\u001b[1;32m[INFO]    ::\u001b[0m \u001b[1;34marparse.py 87 load_file()\u001b[0m - Loading base settings from settings.basespect\n",
      "\u001b[1;32m[INFO]    ::\u001b[0m \u001b[1;34marparse.py 75 load_file()\u001b[0m - Loading default settings\n"
     ]
    }
   ],
   "source": [
    "reload(fluxspec)\n",
    "FxSpec = fluxspec.FluxSpec(spectrograph='keck_deimos', std_specobjs=std_specobjs, std_header=std_header, multi_det=(3,7))"
   ]
  },
  {
   "cell_type": "markdown",
   "metadata": {},
   "source": [
    "### Find the standards and splice"
   ]
  },
  {
   "cell_type": "code",
   "execution_count": 46,
   "metadata": {},
   "outputs": [
    {
     "name": "stderr",
     "output_type": "stream",
     "text": [
      "\u001b[1;32m[INFO]    ::\u001b[0m \u001b[1;34marflux.py 429 find_standard()\u001b[0m - Putative standard star has a median boxcar count of 18286.36869975645\n",
      "\u001b[1;32m[INFO]    ::\u001b[0m \u001b[1;34mfluxspec.py 173 find_standard()\u001b[0m - Using standard <SpecObjExp: O700-S3681-D03-I0005 == Setup dum_config Object at 0.7 in Slit at 0.3681 with det=03, scidx=5 and objtype=unknown> in det=3\n",
      "\u001b[1;32m[INFO]    ::\u001b[0m \u001b[1;34marflux.py 429 find_standard()\u001b[0m - Putative standard star has a median boxcar count of 6693.603640276046\n",
      "\u001b[1;32m[INFO]    ::\u001b[0m \u001b[1;34mfluxspec.py 173 find_standard()\u001b[0m - Using standard <SpecObjExp: O700-S3691-D07-I0005 == Setup dum_config Object at 0.7 in Slit at 0.3691 with det=07, scidx=5 and objtype=unknown> in det=7\n",
      "\u001b[1;32m[INFO]    ::\u001b[0m \u001b[1;34mfluxspec.py 175 find_standard()\u001b[0m - Splicing the standards\n"
     ]
    }
   ],
   "source": [
    "FxSpec.find_standard()"
   ]
  },
  {
   "cell_type": "markdown",
   "metadata": {},
   "source": [
    "### Sensfunc"
   ]
  },
  {
   "cell_type": "code",
   "execution_count": 48,
   "metadata": {},
   "outputs": [
    {
     "name": "stderr",
     "output_type": "stream",
     "text": [
      "\u001b[1;32m[INFO]    ::\u001b[0m \u001b[1;34marflux.py 370 load_extinction_data()\u001b[0m - Using mthamextinct.dat for extinction corrections.\n",
      "\u001b[1;32m[INFO]    ::\u001b[0m \u001b[1;34marflux.py 300 find_standard_file()\u001b[0m - Using standard star G191B2B\n",
      "\u001b[1;32m[INFO]    ::\u001b[0m \u001b[1;34marflux.py 406 load_standard_file()\u001b[0m - Loading standard star file: /home/xavier/local/Python/PYPIT/pypit/data/standards/calspec/g191b2b_mod_005.fits.gz\n",
      "\u001b[1;32m[INFO]    ::\u001b[0m \u001b[1;34marflux.py 407 load_standard_file()\u001b[0m - Fluxes are flambda, normalized to 1e-17\n",
      "\u001b[1;32m[INFO]    ::\u001b[0m \u001b[1;34marflux.py 494 generate_sensfunc()\u001b[0m - Masking edges\n",
      "\u001b[1;31m[WARNING] ::\u001b[0m \u001b[1;34marflux.py 500 generate_sensfunc()\u001b[0m - Should pull resolution from arc line analysis\n",
      "\u001b[1;32m[INFO]    ::\u001b[0m \u001b[1;34marflux.py 504 generate_sensfunc()\u001b[0m - Masking Balmer\n",
      "\u001b[1;32m[INFO]    ::\u001b[0m \u001b[1;34marflux.py 512 generate_sensfunc()\u001b[0m - Masking Telluric\n",
      "\u001b[1;32m[INFO]    ::\u001b[0m \u001b[1;34marflux.py 519 generate_sensfunc()\u001b[0m - Masking Below the atmospheric cutoff\n",
      "\u001b[1;32m[INFO]    ::\u001b[0m \u001b[1;34marflux.py 203 bspline_magfit()\u001b[0m - Difference between fits is 0.00020576\n",
      "\u001b[1;30m[WORK IN ]::\u001b[0m\n",
      "\u001b[1;33m[PROGRESS]::\u001b[0m \u001b[1;34marflux.py 206 bspline_magfit()\u001b[0m - Add QA for sensitivity function\n"
     ]
    }
   ],
   "source": [
    "_ = FxSpec.generate_sensfunc()"
   ]
  },
  {
   "cell_type": "markdown",
   "metadata": {},
   "source": [
    "### Show"
   ]
  },
  {
   "cell_type": "code",
   "execution_count": 49,
   "metadata": {},
   "outputs": [
    {
     "data": {
      "image/png": "[encoded data removed]",
      "text/plain": [
       "<matplotlib.figure.Figure at 0x7f3dc1f4b470>"
      ]
     },
     "metadata": {},
     "output_type": "display_data"
    }
   ],
   "source": [
    "FxSpec.show_sensfunc()"
   ]
  },
  {
   "cell_type": "markdown",
   "metadata": {},
   "source": [
    "----"
   ]
  },
  {
   "cell_type": "markdown",
   "metadata": {},
   "source": [
    "## Generate two FluxSpec objects"
   ]
  },
  {
   "cell_type": "code",
   "execution_count": 6,
   "metadata": {},
   "outputs": [
    {
     "name": "stderr",
     "output_type": "stream",
     "text": [
      "\u001b[1;32m[INFO]    ::\u001b[0m \u001b[1;34marparse.py 75 load_file()\u001b[0m - Loading default settings\n",
      "\u001b[1;32m[INFO]    ::\u001b[0m \u001b[1;34marparse.py 87 load_file()\u001b[0m - Loading base settings from settings.baseargflag\n",
      "\u001b[1;32m[INFO]    ::\u001b[0m \u001b[1;34marparse.py 1393 run_ncpus()\u001b[0m - Setting 7 CPUs\n",
      "\u001b[1;32m[INFO]    ::\u001b[0m \u001b[1;34marparse.py 75 load_file()\u001b[0m - Loading default settings\n",
      "\u001b[1;32m[INFO]    ::\u001b[0m \u001b[1;34marparse.py 75 load_file()\u001b[0m - Loading default settings\n",
      "\u001b[1;32m[INFO]    ::\u001b[0m \u001b[1;34marparse.py 87 load_file()\u001b[0m - Loading base settings from settings.basespect\n",
      "\u001b[1;32m[INFO]    ::\u001b[0m \u001b[1;34marparse.py 75 load_file()\u001b[0m - Loading default settings\n",
      "\u001b[1;32m[INFO]    ::\u001b[0m \u001b[1;34marparse.py 75 load_file()\u001b[0m - Loading default settings\n",
      "\u001b[1;32m[INFO]    ::\u001b[0m \u001b[1;34marparse.py 87 load_file()\u001b[0m - Loading base settings from settings.basespect\n",
      "\u001b[1;32m[INFO]    ::\u001b[0m \u001b[1;34marparse.py 75 load_file()\u001b[0m - Loading default settings\n"
     ]
    }
   ],
   "source": [
    "reload(fluxspec)\n",
    "std3 = [sobj for sobj in std_specobjs if sobj.det==3]\n",
    "FxSpec3 = fluxspec.FluxSpec(spectrograph='keck_deimos', std_specobjs=std3, std_header=std_header)"
   ]
  },
  {
   "cell_type": "code",
   "execution_count": 7,
   "metadata": {},
   "outputs": [
    {
     "name": "stderr",
     "output_type": "stream",
     "text": [
      "\u001b[1;32m[INFO]    ::\u001b[0m \u001b[1;34marparse.py 75 load_file()\u001b[0m - Loading default settings\n",
      "\u001b[1;32m[INFO]    ::\u001b[0m \u001b[1;34marparse.py 87 load_file()\u001b[0m - Loading base settings from settings.baseargflag\n",
      "\u001b[1;32m[INFO]    ::\u001b[0m \u001b[1;34marparse.py 1393 run_ncpus()\u001b[0m - Setting 7 CPUs\n",
      "\u001b[1;32m[INFO]    ::\u001b[0m \u001b[1;34marparse.py 75 load_file()\u001b[0m - Loading default settings\n",
      "\u001b[1;32m[INFO]    ::\u001b[0m \u001b[1;34marparse.py 75 load_file()\u001b[0m - Loading default settings\n",
      "\u001b[1;32m[INFO]    ::\u001b[0m \u001b[1;34marparse.py 87 load_file()\u001b[0m - Loading base settings from settings.basespect\n",
      "\u001b[1;32m[INFO]    ::\u001b[0m \u001b[1;34marparse.py 75 load_file()\u001b[0m - Loading default settings\n",
      "\u001b[1;32m[INFO]    ::\u001b[0m \u001b[1;34marparse.py 75 load_file()\u001b[0m - Loading default settings\n",
      "\u001b[1;32m[INFO]    ::\u001b[0m \u001b[1;34marparse.py 87 load_file()\u001b[0m - Loading base settings from settings.basespect\n",
      "\u001b[1;32m[INFO]    ::\u001b[0m \u001b[1;34marparse.py 75 load_file()\u001b[0m - Loading default settings\n"
     ]
    }
   ],
   "source": [
    "std7 = [sobj for sobj in std_specobjs if sobj.det==7]\n",
    "FxSpec7 = fluxspec.FluxSpec(spectrograph='keck_deimos', std_specobjs=std7, std_header=std_header)"
   ]
  },
  {
   "cell_type": "markdown",
   "metadata": {},
   "source": [
    "### Find the standards in each"
   ]
  },
  {
   "cell_type": "code",
   "execution_count": 8,
   "metadata": {},
   "outputs": [
    {
     "name": "stderr",
     "output_type": "stream",
     "text": [
      "\u001b[1;32m[INFO]    ::\u001b[0m \u001b[1;34marflux.py 429 find_standard()\u001b[0m - Putative standard star has a median boxcar count of 18286.36869975645\n",
      "\u001b[1;32m[INFO]    ::\u001b[0m \u001b[1;34marflux.py 429 find_standard()\u001b[0m - Putative standard star has a median boxcar count of 6693.603640276046\n"
     ]
    },
    {
     "data": {
      "text/plain": [
       "(<SpecObjExp: O700-S3681-D03-I0005 == Setup dum_config Object at 0.7 in Slit at 0.3681 with det=03, scidx=5 and objtype=unknown>,\n",
       " <SpecObjExp: O700-S3691-D07-I0005 == Setup dum_config Object at 0.7 in Slit at 0.3691 with det=07, scidx=5 and objtype=unknown>)"
      ]
     },
     "execution_count": 8,
     "metadata": {},
     "output_type": "execute_result"
    }
   ],
   "source": [
    "FxSpec3.find_standard()\n",
    "FxSpec7.find_standard()\n",
    "FxSpec3.std, FxSpec7.std"
   ]
  },
  {
   "cell_type": "markdown",
   "metadata": {},
   "source": [
    "### Sensitivity functions"
   ]
  },
  {
   "cell_type": "code",
   "execution_count": 9,
   "metadata": {},
   "outputs": [
    {
     "name": "stderr",
     "output_type": "stream",
     "text": [
      "\u001b[1;32m[INFO]    ::\u001b[0m \u001b[1;34marflux.py 370 load_extinction_data()\u001b[0m - Using mthamextinct.dat for extinction corrections.\n",
      "\u001b[1;32m[INFO]    ::\u001b[0m \u001b[1;34marflux.py 300 find_standard_file()\u001b[0m - Using standard star G191B2B\n",
      "\u001b[1;32m[INFO]    ::\u001b[0m \u001b[1;34marflux.py 406 load_standard_file()\u001b[0m - Loading standard star file: /home/xavier/local/Python/PYPIT/pypit/data/standards/calspec/g191b2b_mod_005.fits.gz\n",
      "\u001b[1;32m[INFO]    ::\u001b[0m \u001b[1;34marflux.py 407 load_standard_file()\u001b[0m - Fluxes are flambda, normalized to 1e-17\n",
      "\u001b[1;32m[INFO]    ::\u001b[0m \u001b[1;34marflux.py 494 generate_sensfunc()\u001b[0m - Masking edges\n",
      "\u001b[1;31m[WARNING] ::\u001b[0m \u001b[1;34marflux.py 500 generate_sensfunc()\u001b[0m - Should pull resolution from arc line analysis\n",
      "\u001b[1;32m[INFO]    ::\u001b[0m \u001b[1;34marflux.py 504 generate_sensfunc()\u001b[0m - Masking Balmer\n",
      "\u001b[1;32m[INFO]    ::\u001b[0m \u001b[1;34marflux.py 512 generate_sensfunc()\u001b[0m - Masking Telluric\n",
      "\u001b[1;32m[INFO]    ::\u001b[0m \u001b[1;34marflux.py 519 generate_sensfunc()\u001b[0m - Masking Below the atmospheric cutoff\n",
      "\u001b[1;32m[INFO]    ::\u001b[0m \u001b[1;34marflux.py 203 bspline_magfit()\u001b[0m - Difference between fits is 0.000120563\n",
      "\u001b[1;30m[WORK IN ]::\u001b[0m\n",
      "\u001b[1;33m[PROGRESS]::\u001b[0m \u001b[1;34marflux.py 206 bspline_magfit()\u001b[0m - Add QA for sensitivity function\n",
      "\u001b[1;32m[INFO]    ::\u001b[0m \u001b[1;34marflux.py 370 load_extinction_data()\u001b[0m - Using mthamextinct.dat for extinction corrections.\n",
      "\u001b[1;32m[INFO]    ::\u001b[0m \u001b[1;34marflux.py 300 find_standard_file()\u001b[0m - Using standard star G191B2B\n",
      "\u001b[1;32m[INFO]    ::\u001b[0m \u001b[1;34marflux.py 406 load_standard_file()\u001b[0m - Loading standard star file: /home/xavier/local/Python/PYPIT/pypit/data/standards/calspec/g191b2b_mod_005.fits.gz\n",
      "\u001b[1;32m[INFO]    ::\u001b[0m \u001b[1;34marflux.py 407 load_standard_file()\u001b[0m - Fluxes are flambda, normalized to 1e-17\n",
      "\u001b[1;32m[INFO]    ::\u001b[0m \u001b[1;34marflux.py 494 generate_sensfunc()\u001b[0m - Masking edges\n",
      "\u001b[1;31m[WARNING] ::\u001b[0m \u001b[1;34marflux.py 500 generate_sensfunc()\u001b[0m - Should pull resolution from arc line analysis\n",
      "\u001b[1;32m[INFO]    ::\u001b[0m \u001b[1;34marflux.py 504 generate_sensfunc()\u001b[0m - Masking Balmer\n",
      "\u001b[1;32m[INFO]    ::\u001b[0m \u001b[1;34marflux.py 512 generate_sensfunc()\u001b[0m - Masking Telluric\n",
      "\u001b[1;32m[INFO]    ::\u001b[0m \u001b[1;34marflux.py 519 generate_sensfunc()\u001b[0m - Masking Below the atmospheric cutoff\n",
      "\u001b[1;32m[INFO]    ::\u001b[0m \u001b[1;34marflux.py 203 bspline_magfit()\u001b[0m - Difference between fits is 0.000992083\n",
      "\u001b[1;30m[WORK IN ]::\u001b[0m\n",
      "\u001b[1;33m[PROGRESS]::\u001b[0m \u001b[1;34marflux.py 206 bspline_magfit()\u001b[0m - Add QA for sensitivity function\n"
     ]
    }
   ],
   "source": [
    "_ = FxSpec3.generate_sensfunc()\n",
    "_ = FxSpec7.generate_sensfunc()"
   ]
  },
  {
   "cell_type": "markdown",
   "metadata": {},
   "source": [
    "### Show"
   ]
  },
  {
   "cell_type": "code",
   "execution_count": 10,
   "metadata": {},
   "outputs": [
    {
     "data": {
      "image/png": "[encoded data removed]",
      "text/plain": [
       "<matplotlib.figure.Figure at 0x7f3df8299208>"
      ]
     },
     "metadata": {},
     "output_type": "display_data"
    }
   ],
   "source": [
    "FxSpec3.show_sensfunc()"
   ]
  },
  {
   "cell_type": "code",
   "execution_count": 11,
   "metadata": {},
   "outputs": [
    {
     "data": {
      "image/png": "[encoded data removed]",
      "text/plain": [
       "<matplotlib.figure.Figure at 0x7f3dc2108fd0>"
      ]
     },
     "metadata": {},
     "output_type": "display_data"
    }
   ],
   "source": [
    "FxSpec7.show_sensfunc()"
   ]
  },
  {
   "cell_type": "markdown",
   "metadata": {},
   "source": [
    "### Together"
   ]
  },
  {
   "cell_type": "code",
   "execution_count": 12,
   "metadata": {
    "collapsed": true
   },
   "outputs": [],
   "source": [
    "wave3 = np.linspace(FxSpec3.sensfunc['wave_min'], FxSpec3.sensfunc['wave_max'], 1000)\n",
    "mag_func3 = arutils.func_val(FxSpec3.sensfunc['c'], wave3, FxSpec3.sensfunc['func'])\n",
    "sens3 = 10.0**(0.4*mag_func3)"
   ]
  },
  {
   "cell_type": "code",
   "execution_count": 13,
   "metadata": {
    "collapsed": true
   },
   "outputs": [],
   "source": [
    "wave7 = np.linspace(FxSpec7.sensfunc['wave_min'], FxSpec7.sensfunc['wave_max'], 1000)\n",
    "mag_func7 = arutils.func_val(FxSpec7.sensfunc['c'], wave7, FxSpec7.sensfunc['func'])\n",
    "sens7 = 10.0**(0.4*mag_func7)"
   ]
  },
  {
   "cell_type": "code",
   "execution_count": 14,
   "metadata": {},
   "outputs": [
    {
     "data": {
      "image/png": "[encoded data removed]",
      "text/plain": [
       "<matplotlib.figure.Figure at 0x7f3dc1e79828>"
      ]
     },
     "metadata": {},
     "output_type": "display_data"
    }
   ],
   "source": [
    "plt.clf()\n",
    "ax = plt.gca()\n",
    "ax.plot(np.concatenate([wave3,wave7]), np.concatenate([sens3,sens7]))\n",
    "ax.set_xlim(8300., 8500.)\n",
    "ax.set_xlabel('Wavelength')\n",
    "ax.set_ylabel('Sensitivity Function')\n",
    "plt.show()"
   ]
  },
  {
   "cell_type": "markdown",
   "metadata": {},
   "source": [
    "## Try a splice"
   ]
  },
  {
   "cell_type": "code",
   "execution_count": 31,
   "metadata": {},
   "outputs": [],
   "source": [
    "std_splice = FxSpec3.std.copy()\n",
    "# Append\n",
    "std_splice.boxcar['wave'] = np.append(std_splice.boxcar['wave'].value, FxSpec7.std.boxcar['wave'].value)*u.AA\n",
    "for key in ['counts', 'var']:\n",
    "    std_splice.boxcar[key] = np.append(std_splice.boxcar[key], FxSpec7.std.boxcar[key])"
   ]
  },
  {
   "cell_type": "code",
   "execution_count": 34,
   "metadata": {},
   "outputs": [
    {
     "name": "stderr",
     "output_type": "stream",
     "text": [
      "\u001b[1;32m[INFO]    ::\u001b[0m \u001b[1;34marflux.py 370 load_extinction_data()\u001b[0m - Using mthamextinct.dat for extinction corrections.\n",
      "\u001b[1;32m[INFO]    ::\u001b[0m \u001b[1;34marflux.py 300 find_standard_file()\u001b[0m - Using standard star G191B2B\n",
      "\u001b[1;32m[INFO]    ::\u001b[0m \u001b[1;34marflux.py 406 load_standard_file()\u001b[0m - Loading standard star file: /home/xavier/local/Python/PYPIT/pypit/data/standards/calspec/g191b2b_mod_005.fits.gz\n",
      "\u001b[1;32m[INFO]    ::\u001b[0m \u001b[1;34marflux.py 407 load_standard_file()\u001b[0m - Fluxes are flambda, normalized to 1e-17\n",
      "\u001b[1;32m[INFO]    ::\u001b[0m \u001b[1;34marflux.py 494 generate_sensfunc()\u001b[0m - Masking edges\n",
      "\u001b[1;31m[WARNING] ::\u001b[0m \u001b[1;34marflux.py 500 generate_sensfunc()\u001b[0m - Should pull resolution from arc line analysis\n",
      "\u001b[1;32m[INFO]    ::\u001b[0m \u001b[1;34marflux.py 504 generate_sensfunc()\u001b[0m - Masking Balmer\n",
      "\u001b[1;32m[INFO]    ::\u001b[0m \u001b[1;34marflux.py 512 generate_sensfunc()\u001b[0m - Masking Telluric\n",
      "\u001b[1;32m[INFO]    ::\u001b[0m \u001b[1;34marflux.py 519 generate_sensfunc()\u001b[0m - Masking Below the atmospheric cutoff\n",
      "\u001b[1;32m[INFO]    ::\u001b[0m \u001b[1;34marflux.py 203 bspline_magfit()\u001b[0m - Difference between fits is 0.00020576\n",
      "\u001b[1;30m[WORK IN ]::\u001b[0m\n",
      "\u001b[1;33m[PROGRESS]::\u001b[0m \u001b[1;34marflux.py 206 bspline_magfit()\u001b[0m - Add QA for sensitivity function\n"
     ]
    }
   ],
   "source": [
    "sensfunc = arflux.generate_sensfunc(std_splice, FxSpec3.std_header['RA'],\n",
    "                                            FxSpec3.std_header['DEC'], FxSpec3.std_header['AIRMASS'],\n",
    "                                            FxSpec3.std_header['EXPTIME'], FxSpec3.settings)"
   ]
  },
  {
   "cell_type": "code",
   "execution_count": 36,
   "metadata": {},
   "outputs": [
    {
     "data": {
      "text/plain": [
       "(<Quantity 6499.8059110514305 Angstrom>,\n",
       " <Quantity 10329.396588147156 Angstrom>)"
      ]
     },
     "execution_count": 36,
     "metadata": {},
     "output_type": "execute_result"
    }
   ],
   "source": [
    "sensfunc['wave_min'], sensfunc['wave_max']"
   ]
  },
  {
   "cell_type": "code",
   "execution_count": 38,
   "metadata": {},
   "outputs": [
    {
     "name": "stderr",
     "output_type": "stream",
     "text": [
      "\u001b[1;32m[INFO]    ::\u001b[0m \u001b[1;34marparse.py 75 load_file()\u001b[0m - Loading default settings\n",
      "\u001b[1;32m[INFO]    ::\u001b[0m \u001b[1;34marparse.py 87 load_file()\u001b[0m - Loading base settings from settings.baseargflag\n",
      "\u001b[1;32m[INFO]    ::\u001b[0m \u001b[1;34marparse.py 1393 run_ncpus()\u001b[0m - Setting 7 CPUs\n",
      "\u001b[1;32m[INFO]    ::\u001b[0m \u001b[1;34marparse.py 75 load_file()\u001b[0m - Loading default settings\n",
      "\u001b[1;32m[INFO]    ::\u001b[0m \u001b[1;34marparse.py 75 load_file()\u001b[0m - Loading default settings\n",
      "\u001b[1;32m[INFO]    ::\u001b[0m \u001b[1;34marparse.py 87 load_file()\u001b[0m - Loading base settings from settings.basespect\n",
      "\u001b[1;32m[INFO]    ::\u001b[0m \u001b[1;34marparse.py 75 load_file()\u001b[0m - Loading default settings\n",
      "\u001b[1;32m[INFO]    ::\u001b[0m \u001b[1;34marparse.py 75 load_file()\u001b[0m - Loading default settings\n",
      "\u001b[1;32m[INFO]    ::\u001b[0m \u001b[1;34marparse.py 87 load_file()\u001b[0m - Loading base settings from settings.basespect\n",
      "\u001b[1;32m[INFO]    ::\u001b[0m \u001b[1;34marparse.py 75 load_file()\u001b[0m - Loading default settings\n"
     ]
    }
   ],
   "source": [
    "FxSpec = fluxspec.FluxSpec(spectrograph='keck_deimos')\n",
    "FxSpec.sensfunc = sensfunc"
   ]
  },
  {
   "cell_type": "code",
   "execution_count": 39,
   "metadata": {},
   "outputs": [
    {
     "data": {
      "image/png": "[encoded data removed]",
      "text/plain": [
       "<matplotlib.figure.Figure at 0x7f3dc1c66d30>"
      ]
     },
     "metadata": {},
     "output_type": "display_data"
    }
   ],
   "source": [
    "FxSpec.show_sensfunc()"
   ]
  },
  {
   "cell_type": "code",
   "execution_count": 40,
   "metadata": {},
   "outputs": [
    {
     "name": "stderr",
     "output_type": "stream",
     "text": [
      "\u001b[1;32m[INFO]    ::\u001b[0m \u001b[1;34mfluxspec.py 345 save_master()\u001b[0m - Wrote sensfunc to MasterFrame: tmp.yaml\n"
     ]
    }
   ],
   "source": [
    "FxSpec.save_master('tmp.yaml')"
   ]
  },
  {
   "cell_type": "code",
   "execution_count": null,
   "metadata": {
    "collapsed": true
   },
   "outputs": [],
   "source": []
  }
 ],
 "metadata": {
  "kernelspec": {
   "display_name": "Python 3",
   "language": "python",
   "name": "python3"
  },
  "language_info": {
   "codemirror_mode": {
    "name": "ipython",
    "version": 3
   },
   "file_extension": ".py",
   "mimetype": "text/x-python",
   "name": "python",
   "nbconvert_exporter": "python",
   "pygments_lexer": "ipython3",
   "version": "3.6.3"
  }
 },
 "nbformat": 4,
 "nbformat_minor": 2
}
