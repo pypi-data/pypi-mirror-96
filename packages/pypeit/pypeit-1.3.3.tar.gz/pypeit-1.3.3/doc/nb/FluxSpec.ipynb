{
 "cells": [
  {
   "cell_type": "markdown",
   "metadata": {},
   "source": [
    "# Fluxing with PYPIT [v2]"
   ]
  },
  {
   "cell_type": "code",
   "execution_count": 1,
   "metadata": {},
   "outputs": [],
   "source": [
    "%matplotlib inline"
   ]
  },
  {
   "cell_type": "code",
   "execution_count": 2,
   "metadata": {},
   "outputs": [],
   "source": [
    "# import\n",
    "from importlib import reload\n",
    "import os\n",
    "from matplotlib import pyplot as plt\n",
    "import glob\n",
    "import numpy as np\n",
    "\n",
    "from astropy.table import Table\n",
    "\n",
    "from pypeit import fluxspec\n",
    "from pypeit.spectrographs.util import load_spectrograph"
   ]
  },
  {
   "cell_type": "markdown",
   "metadata": {},
   "source": [
    "# For the standard User (Running the script)"
   ]
  },
  {
   "cell_type": "markdown",
   "metadata": {},
   "source": [
    "### Generate the sensitivity function from an extracted standard star\n",
    "\n",
    "#### Here is an example fluxing file (see the fluxing docs for details):\n",
    "    # User-defined fluxing parameters\n",
    "    [rdx]\n",
    "       spectrograph = vlt_fors2\n",
    "    [fluxcalib]\n",
    "       balm_mask_wid = 12.\n",
    "       std_file = spec1d_STD_vlt_fors2_2018Dec04T004939.578.fits\n",
    "       sensfunc = bpm16274_fors2.fits\n",
    "\n",
    "\n",
    "#### Here is the call, and the sensitivity function is written to bpm16274_fors2.fits\n",
    "\n",
    "    pypit_flux_spec fluxing_filename --plot"
   ]
  },
  {
   "cell_type": "markdown",
   "metadata": {},
   "source": [
    "### Apply it to all spectra a spec1d science file\n",
    "\n",
    "#### Add a flux block and you can comment out the std_file parameter to avoid remaking the sensitivity function\n",
    "\n",
    "    # User-defined fluxing parameters\n",
    "    [rdx]\n",
    "       spectrograph = vlt_fors2\n",
    "    [fluxcalib]\n",
    "       balm_mask_wid = 12.\n",
    "       #std_file = spec1d_STD_vlt_fors2_2018Dec04T004939.578.fits\n",
    "       sensfunc = bpm16274_fors2.fits\n",
    "\n",
    "    flux read\n",
    "      spec1d_UnknownFRBHostY_vlt_fors2_2018Dec05T020241.687.fits FRB181112_fors2_1.fits\n",
    "      spec1d_UnknownFRBHostY_vlt_fors2_2018Dec05T021815.356.fits FRB181112_fors2_2.fits\n",
    "      spec1d_UnknownFRBHostY_vlt_fors2_2018Dec05T023349.816.fits FRB181112_fors2_3.fits\n",
    "    flux end\n",
    "\n",
    "#### The new files contain fluxed spectra (and the original, unfluxed data too)\n",
    "\n",
    "    pypit_flux_spec fluxing_filename "
   ]
  },
  {
   "cell_type": "markdown",
   "metadata": {},
   "source": [
    "### Multi-detector (DEIMOS)\n",
    "    pypit_flux_spec sensfunc --std_file=spec1d_G191B2B_DEIMOS_2017Sep14T152432.fits  --instr=keck_deimos --sensfunc_file=sens.yaml --multi_det=3,7"
   ]
  },
  {
   "cell_type": "markdown",
   "metadata": {},
   "source": [
    "----"
   ]
  },
  {
   "cell_type": "markdown",
   "metadata": {},
   "source": [
    "# For Developers (primarily)\n",
    "\n",
    "## To play along from here, you need the Development suite *reduced* \n",
    "\n",
    "### And the $PYPIT_DEV environmental variable pointed at it"
   ]
  },
  {
   "cell_type": "code",
   "execution_count": 3,
   "metadata": {},
   "outputs": [
    {
     "data": {
      "text/plain": [
       "'/home/xavier/local/Python/PypeIt-development-suite/'"
      ]
     },
     "execution_count": 3,
     "metadata": {},
     "output_type": "execute_result"
    }
   ],
   "source": [
    "os.getenv('PYPEIT_DEV')"
   ]
  },
  {
   "cell_type": "markdown",
   "metadata": {},
   "source": [
    "## Instrument and parameters"
   ]
  },
  {
   "cell_type": "code",
   "execution_count": 4,
   "metadata": {},
   "outputs": [],
   "source": [
    "spectrograph = load_spectrograph('shane_kast_blue')\n",
    "par = spectrograph.default_pypeit_par()"
   ]
  },
  {
   "cell_type": "markdown",
   "metadata": {},
   "source": [
    "## Instantiate"
   ]
  },
  {
   "cell_type": "code",
   "execution_count": 5,
   "metadata": {},
   "outputs": [
    {
     "name": "stderr",
     "output_type": "stream",
     "text": [
      "\u001b[1;32m[INFO]    ::\u001b[0m \u001b[1;34mflux.py 899 load_extinction_data()\u001b[0m - Using mthamextinct.dat for extinction corrections.\n"
     ]
    }
   ],
   "source": [
    "FxSpec = fluxspec.FluxSpec(spectrograph, par['fluxcalib'])"
   ]
  },
  {
   "cell_type": "markdown",
   "metadata": {},
   "source": [
    "## Sensitivity function"
   ]
  },
  {
   "cell_type": "code",
   "execution_count": 6,
   "metadata": {},
   "outputs": [],
   "source": [
    "std_file = os.getenv('PYPEIT_DEV')+'Cooked/Science/spec1d_Feige66_KASTb_2015May20T041246.960.fits'\n",
    "sci_file = os.getenv('PYPEIT_DEV')+'Cooked/Science/spec1d_J1217p3905_KASTb_2015May20T045733.560.fits'"
   ]
  },
  {
   "cell_type": "markdown",
   "metadata": {},
   "source": [
    "### Load"
   ]
  },
  {
   "cell_type": "code",
   "execution_count": 7,
   "metadata": {},
   "outputs": [
    {
     "name": "stderr",
     "output_type": "stream",
     "text": [
      "\u001b[1;32m[INFO]    ::\u001b[0m \u001b[1;34mfluxspec.py 118 load_objs()\u001b[0m - Loaded 1 spectra from the spec1d standard star file: /home/xavier/local/Python/PypeIt-development-suite/Cooked/Science/spec1d_Feige66_KASTb_2015May20T041246.960.fits\n"
     ]
    }
   ],
   "source": [
    "FxSpec.load_objs(std_file, std=True)"
   ]
  },
  {
   "cell_type": "markdown",
   "metadata": {},
   "source": [
    "## Find the standard (from the brightest spectrum)"
   ]
  },
  {
   "cell_type": "code",
   "execution_count": 8,
   "metadata": {},
   "outputs": [
    {
     "name": "stderr",
     "output_type": "stream",
     "text": [
      "\u001b[1;32m[INFO]    ::\u001b[0m \u001b[1;34mflux.py 980 find_standard()\u001b[0m - Putative standard star <Table length=1>\n",
      " shape [2]   slit_spat_pos ...              idx              \n",
      "   int64         object    ...             str30             \n",
      "------------ ------------- ... ------------------------------\n",
      "2048 .. 1024          None ... SPAT0169-SLIT0000-DET01-SCI023 has a median boxcar count of 16123.35030125018\n"
     ]
    }
   ],
   "source": [
    "_ = FxSpec.find_standard()"
   ]
  },
  {
   "cell_type": "markdown",
   "metadata": {},
   "source": [
    "## Sensitivity Function"
   ]
  },
  {
   "cell_type": "code",
   "execution_count": 9,
   "metadata": {},
   "outputs": [
    {
     "name": "stderr",
     "output_type": "stream",
     "text": [
      "\u001b[1;32m[INFO]    ::\u001b[0m \u001b[1;34mflux.py 183 generate_sensfunc()\u001b[0m - Applying extinction correction\n",
      "\u001b[1;32m[INFO]    ::\u001b[0m \u001b[1;34mflux.py 899 load_extinction_data()\u001b[0m - Using mthamextinct.dat for extinction corrections.\n",
      "\u001b[1;32m[INFO]    ::\u001b[0m \u001b[1;34mflux.py 194 generate_sensfunc()\u001b[0m - Get standard model\n",
      "\u001b[1;32m[INFO]    ::\u001b[0m \u001b[1;34mflux.py 806 find_standard_file()\u001b[0m - Using standard star FEIGE66\n",
      "\u001b[1;32m[INFO]    ::\u001b[0m \u001b[1;34mflux.py 935 load_standard_file()\u001b[0m - Loading standard star file: /home/xavier/local/Python/PypeIt/pypeit/data/standards/calspec/feige66_002.fits.gz\n",
      "\u001b[1;32m[INFO]    ::\u001b[0m \u001b[1;34mflux.py 936 load_standard_file()\u001b[0m - Fluxes are flambda, normalized to 1e-17\n",
      "\u001b[1;32m[INFO]    ::\u001b[0m \u001b[1;34mflux.py 256 generate_sensfunc()\u001b[0m - Set nresln to 20.0\n",
      "\u001b[1;30m[WORK IN ]::\u001b[0m\n",
      "\u001b[1;33m[PROGRESS]::\u001b[0m \u001b[1;34mflux.py 262 generate_sensfunc()\u001b[0m - Should pull resolution from arc line analysis\n",
      "\u001b[1;30m[WORK IN ]::\u001b[0m\n",
      "\u001b[1;33m[PROGRESS]::\u001b[0m \u001b[1;34mflux.py 263 generate_sensfunc()\u001b[0m - At the moment the resolution is taken as the PixelScale\n",
      "\u001b[1;30m[WORK IN ]::\u001b[0m\n",
      "\u001b[1;33m[PROGRESS]::\u001b[0m \u001b[1;34mflux.py 264 generate_sensfunc()\u001b[0m - This needs to be changed!\n",
      "\u001b[1;32m[INFO]    ::\u001b[0m \u001b[1;34mflux.py 275 generate_sensfunc()\u001b[0m - Masking spectral regions:\n",
      "\u001b[1;32m[INFO]    ::\u001b[0m \u001b[1;34mflux.py 279 generate_sensfunc()\u001b[0m -  Masking bad pixels\n",
      "\u001b[1;32m[INFO]    ::\u001b[0m \u001b[1;34mflux.py 284 generate_sensfunc()\u001b[0m -  Masking edges\n",
      "\u001b[1;32m[INFO]    ::\u001b[0m \u001b[1;34mflux.py 289 generate_sensfunc()\u001b[0m -  Masking Balmer\n",
      "\u001b[1;32m[INFO]    ::\u001b[0m \u001b[1;34mflux.py 297 generate_sensfunc()\u001b[0m -  Masking Paschen\n",
      "\u001b[1;32m[INFO]    ::\u001b[0m \u001b[1;34mflux.py 307 generate_sensfunc()\u001b[0m -  Masking Brackett\n",
      "\u001b[1;32m[INFO]    ::\u001b[0m \u001b[1;34mflux.py 317 generate_sensfunc()\u001b[0m -  Masking Pfund\n",
      "\u001b[1;32m[INFO]    ::\u001b[0m \u001b[1;34mflux.py 327 generate_sensfunc()\u001b[0m -  Masking Below the atmospheric cutoff\n",
      "\u001b[1;32m[INFO]    ::\u001b[0m \u001b[1;34mflux.py 334 generate_sensfunc()\u001b[0m - Masking Telluric\n",
      "\u001b[1;32m[INFO]    ::\u001b[0m \u001b[1;34mflux.py 536 bspline_magfit()\u001b[0m - Initialize bspline for flux calibration\n",
      "\u001b[1;32m[INFO]    ::\u001b[0m \u001b[1;34mflux.py 551 bspline_magfit()\u001b[0m - Bspline fit: step 1\n",
      "\u001b[1;32m[INFO]    ::\u001b[0m \u001b[1;34mflux.py 587 bspline_magfit()\u001b[0m - Bspline fit: step 2\n",
      "\u001b[1;32m[INFO]    ::\u001b[0m \u001b[1;34mflux.py 637 bspline_magfit()\u001b[0m - Difference between fits is 5.61567e-05\n",
      "\u001b[1;30m[WORK IN ]::\u001b[0m\n",
      "\u001b[1;33m[PROGRESS]::\u001b[0m \u001b[1;34mflux.py 660 bspline_magfit()\u001b[0m - Add QA for sensitivity function\n"
     ]
    },
    {
     "data": {
      "text/plain": [
       "{'airmass': 1.039999961853,\n",
       " 'cal_file': '/data/standards/calspec/feige66_002.fits',\n",
       " 'exptime': 30,\n",
       " 'flux_true': array([108617.20646913, 108608.07011527, 108599.49643101, ...,\n",
       "         22264.55020703,  22255.55495019,  22236.20434085]),\n",
       " 'sensfunc': array([291.83566374, 291.27190356, 290.69985019, ...,  98.53266317,\n",
       "         98.82316933,  99.12490019]),\n",
       " 'std_dec': '+25:03:59.9',\n",
       " 'std_file': 'b24.fits.gz',\n",
       " 'std_name': 'FEIGE66',\n",
       " 'std_ra': '12:37:23.52',\n",
       " 'wave': <Quantity [3428.29433099, 3429.18637002, 3430.07856344, ..., 5513.83046847,\n",
       "            5514.93519165, 5516.03996933] Angstrom>,\n",
       " 'wave_max': <Quantity 5516.03996933 Angstrom>,\n",
       " 'wave_min': <Quantity 3428.29433099 Angstrom>}"
      ]
     },
     "execution_count": 9,
     "metadata": {},
     "output_type": "execute_result"
    }
   ],
   "source": [
    "sensfunc = FxSpec.generate_sensfunc()\n",
    "sensfunc"
   ]
  },
  {
   "cell_type": "markdown",
   "metadata": {},
   "source": [
    "### Plot"
   ]
  },
  {
   "cell_type": "code",
   "execution_count": 10,
   "metadata": {},
   "outputs": [
    {
     "data": {
      "image/png": "[encoded data removed]",
      "text/plain": [
       "<matplotlib.figure.Figure at 0x7f50f0bb7470>"
      ]
     },
     "metadata": {},
     "output_type": "display_data"
    }
   ],
   "source": [
    "FxSpec.show_sensfunc()"
   ]
  },
  {
   "cell_type": "code",
   "execution_count": 11,
   "metadata": {},
   "outputs": [
    {
     "data": {
      "text/plain": [
       "['find_standard', 'generate_sensfunc']"
      ]
     },
     "execution_count": 11,
     "metadata": {},
     "output_type": "execute_result"
    }
   ],
   "source": [
    "FxSpec.steps"
   ]
  },
  {
   "cell_type": "markdown",
   "metadata": {},
   "source": [
    "### Write"
   ]
  },
  {
   "cell_type": "code",
   "execution_count": 12,
   "metadata": {},
   "outputs": [
    {
     "name": "stderr",
     "output_type": "stream",
     "text": [
      "\u001b[1;32m[INFO]    ::\u001b[0m \u001b[1;34mfluxspec.py 417 save_sens_dict()\u001b[0m - Wrote sensfunc to MasterFrame: sensfunc.fits\n"
     ]
    }
   ],
   "source": [
    "_ = FxSpec.save_sens_dict(FxSpec.sens_dict, outfile='sensfunc.fits')"
   ]
  },
  {
   "cell_type": "markdown",
   "metadata": {},
   "source": [
    "## Flux science"
   ]
  },
  {
   "cell_type": "code",
   "execution_count": 13,
   "metadata": {},
   "outputs": [
    {
     "name": "stderr",
     "output_type": "stream",
     "text": [
      "\u001b[1;32m[INFO]    ::\u001b[0m \u001b[1;34mfluxspec.py 125 load_objs()\u001b[0m - Loaded 1 spectra from the spec1d science file: /home/xavier/local/Python/PypeIt-development-suite/Cooked/Science/spec1d_J1217p3905_KASTb_2015May20T045733.560.fits\n",
      "\u001b[1;32m[INFO]    ::\u001b[0m \u001b[1;34mflux.py 70 apply_sensfunc()\u001b[0m - Fluxing boxcar extraction for:\n",
      "             <Table length=1>\n",
      " shape [2]   slit_spat_pos ...              idx              \n",
      "   int64         object    ...             str30             \n",
      "------------ ------------- ... ------------------------------\n",
      "2048 .. 1024          None ... SPAT0176-SLIT0000-DET01-SCI024\n",
      "\u001b[1;31m[WARNING] ::\u001b[0m \u001b[1;34mflux.py 79 apply_sensfunc()\u001b[0m - Extinction correction applyed only if the spectra covers <10000Ang.\n",
      "\u001b[1;32m[INFO]    ::\u001b[0m \u001b[1;34mflux.py 82 apply_sensfunc()\u001b[0m - Applying extinction correction\n",
      "\u001b[1;32m[INFO]    ::\u001b[0m \u001b[1;34mflux.py 899 load_extinction_data()\u001b[0m - Using mthamextinct.dat for extinction corrections.\n",
      "\u001b[1;32m[INFO]    ::\u001b[0m \u001b[1;34mflux.py 96 apply_sensfunc()\u001b[0m -  Masking bad pixels\n",
      "\u001b[1;32m[INFO]    ::\u001b[0m \u001b[1;34mflux.py 70 apply_sensfunc()\u001b[0m - Fluxing optimal extraction for:\n",
      "             <Table length=1>\n",
      " shape [2]   slit_spat_pos ...              idx              \n",
      "   int64         object    ...             str30             \n",
      "------------ ------------- ... ------------------------------\n",
      "2048 .. 1024          None ... SPAT0176-SLIT0000-DET01-SCI024\n",
      "\u001b[1;31m[WARNING] ::\u001b[0m \u001b[1;34mflux.py 79 apply_sensfunc()\u001b[0m - Extinction correction applyed only if the spectra covers <10000Ang.\n",
      "\u001b[1;32m[INFO]    ::\u001b[0m \u001b[1;34mflux.py 82 apply_sensfunc()\u001b[0m - Applying extinction correction\n",
      "\u001b[1;32m[INFO]    ::\u001b[0m \u001b[1;34mflux.py 899 load_extinction_data()\u001b[0m - Using mthamextinct.dat for extinction corrections.\n",
      "\u001b[1;32m[INFO]    ::\u001b[0m \u001b[1;34mflux.py 96 apply_sensfunc()\u001b[0m -  Masking bad pixels\n"
     ]
    }
   ],
   "source": [
    "FxSpec.flux_science(sci_file)"
   ]
  },
  {
   "cell_type": "code",
   "execution_count": 14,
   "metadata": {},
   "outputs": [
    {
     "data": {
      "text/plain": [
       "<Table length=1>\n",
       " shape [2]   slit_spat_pos ...              idx              \n",
       "   int64         object    ...             str30             \n",
       "------------ ------------- ... ------------------------------\n",
       "2048 .. 1024          None ... SPAT0176-SLIT0000-DET01-SCI024"
      ]
     },
     "execution_count": 14,
     "metadata": {},
     "output_type": "execute_result"
    }
   ],
   "source": [
    "FxSpec.sci_specobjs"
   ]
  },
  {
   "cell_type": "code",
   "execution_count": 15,
   "metadata": {},
   "outputs": [
    {
     "data": {
      "text/plain": [
       "{'COUNTS': array([  9.27253079,  34.37363086,   9.92455604, ..., 195.55984732,\n",
       "        170.83939294, 232.37931635]),\n",
       " 'COUNTS_IVAR': array([0.00715238, 0.00610188, 0.0069734 , ..., 0.00214857, 0.0023191 ,\n",
       "        0.00200826]),\n",
       " 'FLAM': array([ 4.61585918, 17.06298991,  4.91263657, ..., 18.93336425,\n",
       "        16.58861922, 22.63261267]),\n",
       " 'FLAM_IVAR': array([0.02886302, 0.02476307, 0.02846016, ..., 0.22922052, 0.24596549,\n",
       "        0.21171175]),\n",
       " 'FLAM_SIG': array([5.88611969, 6.3547392 , 5.92763382, ..., 2.08868646, 2.01633603,\n",
       "        2.17333924]),\n",
       " 'MASK': array([ True,  True,  True, ...,  True,  True,  True]),\n",
       " 'WAVE': <Quantity [3410.26943094, 3411.24899554, 3412.22841453, ..., 5513.9317573 ,\n",
       "            5515.04321582, 5516.15476836] Angstrom>}"
      ]
     },
     "execution_count": 15,
     "metadata": {},
     "output_type": "execute_result"
    }
   ],
   "source": [
    "FxSpec.sci_specobjs[0].optimal"
   ]
  },
  {
   "cell_type": "markdown",
   "metadata": {},
   "source": [
    "### Plot"
   ]
  },
  {
   "cell_type": "code",
   "execution_count": 16,
   "metadata": {},
   "outputs": [
    {
     "data": {
      "image/png": "[encoded data removed]",
      "text/plain": [
       "<matplotlib.figure.Figure at 0x7f50f0ab6198>"
      ]
     },
     "metadata": {},
     "output_type": "display_data"
    }
   ],
   "source": [
    "plt.clf()\n",
    "ax = plt.gca()\n",
    "ax.plot(FxSpec.sci_specobjs[0].optimal['WAVE'], FxSpec.sci_specobjs[0].optimal['FLAM'])\n",
    "ax.plot(FxSpec.sci_specobjs[0].optimal['WAVE'], FxSpec.sci_specobjs[0].optimal['FLAM_SIG'])\n",
    "ax.set_ylim(-2, 30.)\n",
    "# \n",
    "ax.set_xlabel('Wavelength')\n",
    "ax.set_ylabel('Flux (cgs 1e-17)')\n",
    "plt.show()"
   ]
  },
  {
   "cell_type": "markdown",
   "metadata": {},
   "source": [
    "### Write science frames"
   ]
  },
  {
   "cell_type": "code",
   "execution_count": 17,
   "metadata": {},
   "outputs": [
    {
     "name": "stderr",
     "output_type": "stream",
     "text": [
      "\u001b[1;32m[INFO]    ::\u001b[0m \u001b[1;34msave.py 476 save_1d_spectra_fits()\u001b[0m - Wrote 1D spectra to tmp.fits\n"
     ]
    }
   ],
   "source": [
    "FxSpec.write_science('tmp.fits')"
   ]
  },
  {
   "cell_type": "code",
   "execution_count": 18,
   "metadata": {},
   "outputs": [
    {
     "data": {
      "text/plain": [
       "['find_standard',\n",
       " 'generate_sensfunc',\n",
       " 'save_sens_dict',\n",
       " 'flux_science',\n",
       " 'write_science']"
      ]
     },
     "execution_count": 18,
     "metadata": {},
     "output_type": "execute_result"
    }
   ],
   "source": [
    "FxSpec.steps"
   ]
  },
  {
   "cell_type": "markdown",
   "metadata": {},
   "source": [
    "## Instantiate and Load a sensitivity function"
   ]
  },
  {
   "cell_type": "code",
   "execution_count": 19,
   "metadata": {},
   "outputs": [],
   "source": [
    "par['fluxcalib']['sensfunc'] = 'sensfunc.fits'"
   ]
  },
  {
   "cell_type": "code",
   "execution_count": 20,
   "metadata": {},
   "outputs": [
    {
     "name": "stderr",
     "output_type": "stream",
     "text": [
      "\u001b[1;32m[INFO]    ::\u001b[0m \u001b[1;34mflux.py 899 load_extinction_data()\u001b[0m - Using mthamextinct.dat for extinction corrections.\n",
      "\u001b[1;32m[INFO]    ::\u001b[0m \u001b[1;34mfluxspec.py 355 load_sens_dict()\u001b[0m - Loading a pre-existing master calibration frame of type: sensfunc from filename: sensfunc.fits\n"
     ]
    }
   ],
   "source": [
    "FxSpec2 = fluxspec.FluxSpec(spectrograph, par['fluxcalib'])"
   ]
  },
  {
   "cell_type": "code",
   "execution_count": 21,
   "metadata": {},
   "outputs": [
    {
     "data": {
      "image/png": "[encoded data removed]",
      "text/plain": [
       "<matplotlib.figure.Figure at 0x7f50f0a6f780>"
      ]
     },
     "metadata": {},
     "output_type": "display_data"
    }
   ],
   "source": [
    "FxSpec2.show_sensfunc()"
   ]
  },
  {
   "cell_type": "markdown",
   "metadata": {},
   "source": [
    "## Clean up\n"
   ]
  },
  {
   "cell_type": "code",
   "execution_count": 22,
   "metadata": {},
   "outputs": [],
   "source": [
    "os.remove('sensfunc.fits')\n",
    "os.remove('tmp.fits')"
   ]
  },
  {
   "cell_type": "markdown",
   "metadata": {},
   "source": [
    "----"
   ]
  },
  {
   "cell_type": "markdown",
   "metadata": {},
   "source": [
    "## Additional Development"
   ]
  }
 ],
 "metadata": {
  "kernelspec": {
   "display_name": "Python 3",
   "language": "python",
   "name": "python3"
  },
  "language_info": {
   "codemirror_mode": {
    "name": "ipython",
    "version": 3
   },
   "file_extension": ".py",
   "mimetype": "text/x-python",
   "name": "python",
   "nbconvert_exporter": "python",
   "pygments_lexer": "ipython3",
   "version": "3.6.3"
  }
 },
 "nbformat": 4,
 "nbformat_minor": 2
}
