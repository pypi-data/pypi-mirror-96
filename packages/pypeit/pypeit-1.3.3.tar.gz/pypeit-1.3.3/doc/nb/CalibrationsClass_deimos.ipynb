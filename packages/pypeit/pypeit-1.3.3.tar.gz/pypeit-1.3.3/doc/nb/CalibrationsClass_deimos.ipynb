{
 "cells": [
  {
   "cell_type": "markdown",
   "metadata": {},
   "source": [
    "# Usage and more of the Calibrations Class [v1.1]"
   ]
  },
  {
   "cell_type": "code",
   "execution_count": 7,
   "metadata": {},
   "outputs": [],
   "source": [
    "# imports\n",
    "import os\n",
    "import glob\n",
    "import numpy\n",
    "\n",
    "from matplotlib import pyplot\n",
    "\n",
    "from pypeit.pypeit import PypeIt\n",
    "\n",
    "from pypeit import calibrations\n",
    "from pypeit import pypeitsetup\n",
    "\n",
    "from pypeit.spectrographs import keck_deimos\n",
    "from pypeit.spectrographs.slitmask import SlitRegister"
   ]
  },
  {
   "cell_type": "code",
   "execution_count": 2,
   "metadata": {},
   "outputs": [
    {
     "data": {
      "text/plain": [
       "'/Users/westfall/Work/packages/PypeIt-development-suite'"
      ]
     },
     "execution_count": 2,
     "metadata": {},
     "output_type": "execute_result"
    }
   ],
   "source": [
    "os.environ['PYPEIT_DEV']"
   ]
  },
  {
   "cell_type": "markdown",
   "metadata": {},
   "source": [
    "## Setup"
   ]
  },
  {
   "cell_type": "code",
   "execution_count": 6,
   "metadata": {},
   "outputs": [],
   "source": [
    "#pypeit_file = os.path.join(os.environ['PYPEIT_DEV'], 'pypeit_files',\n",
    "#                           'keck_deimos_830g_m.pypeit')\n",
    "pypeit_file = os.path.join(os.environ['PYPEIT_DEV'], 'REDUX_OUT/Keck_DEIMOS/830G_M_8500/',\n",
    "                           'keck_deimos_830g_m_8500.pypeit')"
   ]
  },
  {
   "cell_type": "code",
   "execution_count": 8,
   "metadata": {},
   "outputs": [
    {
     "name": "stderr",
     "output_type": "stream",
     "text": [
      "\u001b[1;32m[INFO]    ::\u001b[0m \u001b[1;34mutil.py 483 parse_pypeit_file()\u001b[0m - Loading the reduction file\n",
      "\u001b[1;32m[INFO]    ::\u001b[0m \u001b[1;34mutil.py 509 parse_pypeit_file()\u001b[0m - Found 4 raw data frames\n",
      "\u001b[1;32m[INFO]    ::\u001b[0m \u001b[1;34mutil.py 530 parse_pypeit_file()\u001b[0m - Input file loaded successfully\n",
      "\u001b[1;31m[WARNING] ::\u001b[0m \u001b[1;34mmetadata.py 1219 get_frame_types()\u001b[0m - Removing existing frametype and framebit columns.\n",
      "\u001b[1;32m[INFO]    ::\u001b[0m \u001b[1;34mmetadata.py 1230 get_frame_types()\u001b[0m - Typing files\n",
      "\u001b[1;32m[INFO]    ::\u001b[0m \u001b[1;34mmetadata.py 1237 get_frame_types()\u001b[0m - Using user-provided frame types.\n",
      "\u001b[1;32m[INFO]    ::\u001b[0m \u001b[1;34mpypeit.py 125 __init__()\u001b[0m - Setting reduction path to /Users/westfall/Work/packages/pypeit/doc/nb\n",
      "\u001b[1;32m[INFO]    ::\u001b[0m \u001b[1;34mpaths.py 38 make_dirs()\u001b[0m - Creating Science directory\n",
      "\u001b[1;32m[INFO]    ::\u001b[0m \u001b[1;34mpaths.py 41 make_dirs()\u001b[0m - The following directory already exists:\n",
      "             /Users/westfall/Work/packages/pypeit/doc/nb/Science\n",
      "\u001b[1;32m[INFO]    ::\u001b[0m \u001b[1;34mpaths.py 65 make_dirs()\u001b[0m - Creating Object directories\n",
      "\u001b[1;32m[INFO]    ::\u001b[0m \u001b[1;34mpaths.py 68 make_dirs()\u001b[0m - Creating Master Calibrations directory\n",
      "\u001b[1;32m[INFO]    ::\u001b[0m \u001b[1;34mpaths.py 72 make_dirs()\u001b[0m - The following directory already exists:\n",
      "             /Users/westfall/Work/packages/pypeit/doc/nb/MF_keck_deimos\n",
      "\u001b[1;32m[INFO]    ::\u001b[0m \u001b[1;34mpaths.py 89 make_dirs()\u001b[0m - Creating QA directory\n",
      "\u001b[1;31m[WARNING] ::\u001b[0m \u001b[1;34mpaths.py 92 make_dirs()\u001b[0m - Pre-existing QA plots will be overwritten\n"
     ]
    }
   ],
   "source": [
    "rdx = PypeIt(pypeit_file)"
   ]
  },
  {
   "cell_type": "code",
   "execution_count": null,
   "metadata": {},
   "outputs": [],
   "source": [
    "setupc = pypeitsetup.PypeItSetup.from_pypeit_file(pypeit_file)"
   ]
  },
  {
   "cell_type": "code",
   "execution_count": null,
   "metadata": {},
   "outputs": [],
   "source": []
  },
  {
   "cell_type": "code",
   "execution_count": null,
   "metadata": {},
   "outputs": [],
   "source": [
    "par, spec, fitstbl, setup_dict = setupc.run()"
   ]
  },
  {
   "cell_type": "code",
   "execution_count": null,
   "metadata": {},
   "outputs": [],
   "source": [
    "fsort.make_dirs(spec.spectrograph, par['calibrations']['caldir'], par['rdx']['scidir'],\n",
    "                par['rdx']['qadir'], overwrite=True)\n"
   ]
  },
  {
   "cell_type": "markdown",
   "metadata": {},
   "source": [
    "## Choose the detector, sci_ID"
   ]
  },
  {
   "cell_type": "code",
   "execution_count": null,
   "metadata": {},
   "outputs": [],
   "source": [
    "det = 1\n",
    "sci_ID = 1\n",
    "setup = pypsetup.instr_setup(sci_ID, det, fitstbl, setup_dict,\n",
    "                             spec.detector[det-1]['numamplifiers'],\n",
    "                             must_exist=True)\n",
    "setup"
   ]
  },
  {
   "cell_type": "markdown",
   "metadata": {},
   "source": [
    "##  Calibrations"
   ]
  },
  {
   "cell_type": "markdown",
   "metadata": {},
   "source": [
    "## Instantiate"
   ]
  },
  {
   "cell_type": "code",
   "execution_count": null,
   "metadata": {},
   "outputs": [],
   "source": [
    "caliBrate = calibrations.MultiSlitCalibrations(fitstbl, spectrograph=spec,\n",
    "                                               par=par['calibrations'],\n",
    "                                               save_masters=False, write_qa=False)"
   ]
  },
  {
   "cell_type": "code",
   "execution_count": null,
   "metadata": {},
   "outputs": [],
   "source": [
    "# Setup for a specific science frame + detector\n",
    "caliBrate.reset(setup, det, sci_ID, par['calibrations'])"
   ]
  },
  {
   "cell_type": "markdown",
   "metadata": {},
   "source": [
    "## Do it"
   ]
  },
  {
   "cell_type": "code",
   "execution_count": null,
   "metadata": {},
   "outputs": [],
   "source": [
    "_ = caliBrate.get_datasec_img()"
   ]
  },
  {
   "cell_type": "code",
   "execution_count": null,
   "metadata": {},
   "outputs": [],
   "source": [
    "msbias = caliBrate.get_bias()"
   ]
  },
  {
   "cell_type": "code",
   "execution_count": null,
   "metadata": {},
   "outputs": [],
   "source": [
    "msarc = caliBrate.get_arc()"
   ]
  },
  {
   "cell_type": "code",
   "execution_count": null,
   "metadata": {},
   "outputs": [],
   "source": [
    "msbpm = caliBrate.get_bpm()"
   ]
  },
  {
   "cell_type": "code",
   "execution_count": null,
   "metadata": {},
   "outputs": [],
   "source": [
    "pixlocn = caliBrate.get_pixlocn()"
   ]
  },
  {
   "cell_type": "code",
   "execution_count": null,
   "metadata": {},
   "outputs": [],
   "source": [
    "tslits_dict, maskslits = caliBrate.get_slits(arms=True)"
   ]
  },
  {
   "cell_type": "code",
   "execution_count": null,
   "metadata": {},
   "outputs": [],
   "source": [
    "caliBrate.traceSlits.show('edges')"
   ]
  },
  {
   "cell_type": "code",
   "execution_count": null,
   "metadata": {},
   "outputs": [],
   "source": [
    "trace_files = fsort.list_of_files(fitstbl, 'trace', sci_ID)\n",
    "spec.get_slitmask(trace_files[0])\n",
    "spec.get_detector_map()"
   ]
  },
  {
   "cell_type": "code",
   "execution_count": null,
   "metadata": {},
   "outputs": [],
   "source": [
    "spec_i = 3900\n",
    "trace_slit_cen = (caliBrate.traceSlits.lcen[spec_i,:] + caliBrate.traceSlits.rcen[spec_i,:])/2\n",
    "offset = spec.detector_map.npix[0]/2-spec.detector_map.ccd_center[0,0]\n",
    "pix_per_mm = spec.telescope.platescale()/spec.detector[0]['platescale']\n",
    "register = SlitRegister(trace_slit_cen, spec.slitmask.center[:,0],\n",
    "                        guess_offset=offset, guess_scale=pix_per_mm,\n",
    "                        offset_limits=[offset-100,offset+100],\n",
    "                        scale_limits=[pix_per_mm/1.1, pix_per_mm*1.1],\n",
    "                        fit=True)"
   ]
  },
  {
   "cell_type": "code",
   "execution_count": null,
   "metadata": {},
   "outputs": [],
   "source": [
    "missing = register.missing_from_trace()\n",
    "mask_pix = register.mask_to_trace_coo()\n",
    "pyplot.scatter(trace_slit_cen, mask_pix[register.match_index], color='k', zorder=1,\n",
    "               label='Found')\n",
    "if len(missing) > 0:\n",
    "    print('Found {0} missing slits: {1}'.format(len(missing), missing))\n",
    "    pyplot.scatter(mask_pix[missing], mask_pix[missing], color='r', zorder=1,\n",
    "                   label='Missing')\n",
    "pyplot.xlabel('Trace X (pixel)')\n",
    "pyplot.ylabel('Best-Fit Mask X (pixel)')\n",
    "pyplot.legend()\n",
    "pyplot.show()"
   ]
  },
  {
   "cell_type": "code",
   "execution_count": null,
   "metadata": {},
   "outputs": [],
   "source": [
    "lr_offset = numpy.array([-0.5,0.5])[None,:]*spec.slitmask.length[missing][:,None]*register.par[1]\n",
    "new_slits = numpy.append(mask_pix[missing][:,None] + lr_offset,\n",
    "                         numpy.array([spec_i]*len(missing)).reshape(-1,1), axis=1).astype(int)\n",
    "new_slits = new_slits[numpy.argsort(new_slits[:,0]),:]\n",
    "pyplot.scatter(caliBrate.traceSlits.lcen[spec_i,:], caliBrate.traceSlits.rcen[spec_i,:],\n",
    "               color='k', marker='.', s=30, lw=0)\n",
    "pyplot.scatter(new_slits[:,0], new_slits[:,1],\n",
    "               color='r', marker='.', s=30, lw=0)\n",
    "new_slits"
   ]
  },
  {
   "cell_type": "code",
   "execution_count": null,
   "metadata": {},
   "outputs": [],
   "source": [
    "#caliBrate.traceSlits.add_user_slits([new_slits[0,:]], run_to_finish=True)\n",
    "caliBrate.traceSlits.add_user_slits(new_slits, run_to_finish=True)"
   ]
  },
  {
   "cell_type": "code",
   "execution_count": null,
   "metadata": {},
   "outputs": [],
   "source": [
    "caliBrate.traceSlits.show('edges')\n",
    "print('fubar')"
   ]
  },
  {
   "cell_type": "code",
   "execution_count": null,
   "metadata": {},
   "outputs": [],
   "source": []
  }
 ],
 "metadata": {
  "kernelspec": {
   "display_name": "Python 3",
   "language": "python",
   "name": "python3"
  },
  "language_info": {
   "codemirror_mode": {
    "name": "ipython",
    "version": 3
   },
   "file_extension": ".py",
   "mimetype": "text/x-python",
   "name": "python",
   "nbconvert_exporter": "python",
   "pygments_lexer": "ipython3",
   "version": "3.6.2"
  }
 },
 "nbformat": 4,
 "nbformat_minor": 2
}
