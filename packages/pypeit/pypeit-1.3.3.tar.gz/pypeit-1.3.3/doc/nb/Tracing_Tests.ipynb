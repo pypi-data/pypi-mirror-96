{
 "cells": [
  {
   "cell_type": "markdown",
   "metadata": {},
   "source": [
    "# Tests with Tracing"
   ]
  },
  {
   "cell_type": "code",
   "execution_count": null,
   "metadata": {
    "collapsed": false
   },
   "outputs": [],
   "source": [
    "#%matplotlib inline\n",
    "%matplotlib qt"
   ]
  },
  {
   "cell_type": "code",
   "execution_count": 22,
   "metadata": {
    "collapsed": false
   },
   "outputs": [
    {
     "name": "stderr",
     "output_type": "stream",
     "text": [
      "/Users/xavier/anaconda/lib/python2.7/site-packages/matplotlib/__init__.py:1318: UserWarning:  This call to matplotlib.use() has no effect\n",
      "because the backend has already been chosen;\n",
      "matplotlib.use() must be called *before* pylab, matplotlib.pyplot,\n",
      "or matplotlib.backends is imported for the first time.\n",
      "\n",
      "  warnings.warn(_use_error_msg)\n"
     ]
    }
   ],
   "source": [
    "# imports\n",
    "sys.path.append(os.path.abspath('/Users/xavier/local/Python/PYPIT/src/'))\n",
    "import artrace as art\n",
    "import arqa as pyarqa"
   ]
  },
  {
   "cell_type": "markdown",
   "metadata": {},
   "source": [
    "## Testing on diff image"
   ]
  },
  {
   "cell_type": "code",
   "execution_count": 2,
   "metadata": {
    "collapsed": true
   },
   "outputs": [],
   "source": [
    "# Using diff image (aka Sawtooth)\n",
    "diff = fits.open('/Users/xavier/PYPIT/LRIS_blue/diff.fits')[0].data"
   ]
  },
  {
   "cell_type": "code",
   "execution_count": 3,
   "metadata": {
    "collapsed": true
   },
   "outputs": [],
   "source": [
    "# edge at 200,723\n",
    "xinit = np.array([723.]*diff.shape[0])"
   ]
  },
  {
   "cell_type": "code",
   "execution_count": 4,
   "metadata": {
    "collapsed": false
   },
   "outputs": [],
   "source": [
    "reload(art)\n",
    "xnew, xerr = art.trace_fweight(-1*diff,xinit)"
   ]
  },
  {
   "cell_type": "code",
   "execution_count": null,
   "metadata": {
    "collapsed": false
   },
   "outputs": [],
   "source": [
    "# Show\n",
    "plt.clf()\n",
    "# Image\n",
    "plt.imshow(diff,origin='lower')\n",
    "# Trace\n",
    "plt.plot(xnew,np.arange(diff.shape[0]), 'k-')\n",
    "plt.xlim(600,800)\n",
    "plt.ylim(0.,410)\n",
    "plt.show()\n",
    "# Looks quite nice!"
   ]
  },
  {
   "cell_type": "markdown",
   "metadata": {},
   "source": [
    "### Test against IDL"
   ]
  },
  {
   "cell_type": "code",
   "execution_count": null,
   "metadata": {
    "collapsed": true
   },
   "outputs": [],
   "source": [
    "#IDL> diff = xmrdfits('diff.fits')\n",
    "#IDL> xcen = replicate(723., 409)\n",
    "#IDL> ycen = findgen(409)\n",
    "#IDL> xnew = trace_fweight(-1*diff, xcen,ycen, xerr=xerr)\n",
    "#IDL> printcol, xnew, xerr"
   ]
  },
  {
   "cell_type": "code",
   "execution_count": null,
   "metadata": {
    "collapsed": false
   },
   "outputs": [],
   "source": [
    "#xdb.xpcol(xnew,xerr)\n",
    "# Results are identical"
   ]
  },
  {
   "cell_type": "code",
   "execution_count": 6,
   "metadata": {
    "collapsed": true
   },
   "outputs": [],
   "source": [
    "#Kludged my way through"
   ]
  },
  {
   "cell_type": "code",
   "execution_count": 12,
   "metadata": {
    "collapsed": true
   },
   "outputs": [],
   "source": [
    "msflat = fits.open('/Users/xavier/PYPIT/LRIS_blue/MasterFrames/msflat_01blue_000.fits')[0].data"
   ]
  },
  {
   "cell_type": "code",
   "execution_count": 9,
   "metadata": {
    "collapsed": true
   },
   "outputs": [],
   "source": [
    "ledge = fits.open('/Users/xavier/PYPIT/LRIS_blue/MasterFrames/msflat_01blue_000_ltrace.fits')[0].data\n",
    "redge = fits.open('/Users/xavier/PYPIT/LRIS_blue/MasterFrames/msflat_01blue_000_rtrace.fits')[0].data"
   ]
  },
  {
   "cell_type": "code",
   "execution_count": 16,
   "metadata": {
    "collapsed": false
   },
   "outputs": [
    {
     "data": {
      "text/plain": [
       "1"
      ]
     },
     "execution_count": 16,
     "metadata": {},
     "output_type": "execute_result"
    }
   ],
   "source": [
    "ledge.shape[1]"
   ]
  },
  {
   "cell_type": "code",
   "execution_count": 17,
   "metadata": {
    "collapsed": false
   },
   "outputs": [],
   "source": [
    "# Show\n",
    "plt.clf()\n",
    "# Image\n",
    "plt.imshow(msflat,origin='lower')\n",
    "# Trace\n",
    "plt.plot(ledge,np.arange(msflat.shape[0]), 'k-')\n",
    "plt.plot(redge,np.arange(msflat.shape[0]), 'k-')\n",
    "plt.xlim(600,800)\n",
    "plt.ylim(0.,2048)\n",
    "plt.show()\n",
    "# Looks good"
   ]
  },
  {
   "cell_type": "markdown",
   "metadata": {},
   "source": [
    "## Trace QA"
   ]
  },
  {
   "cell_type": "code",
   "execution_count": 18,
   "metadata": {
    "collapsed": true
   },
   "outputs": [],
   "source": [
    "import pickle"
   ]
  },
  {
   "cell_type": "code",
   "execution_count": 21,
   "metadata": {
    "collapsed": false
   },
   "outputs": [],
   "source": [
    "flat, lordtrc, rordtrc = pickle.load(open( \"/Users/xavier/PYPIT/LRIS_blue/tmp.pickle\", \"rb\" ) )"
   ]
  },
  {
   "cell_type": "code",
   "execution_count": 36,
   "metadata": {
    "collapsed": false
   },
   "outputs": [
    {
     "data": {
      "text/plain": [
       "(2048, 1024)"
      ]
     },
     "execution_count": 36,
     "metadata": {},
     "output_type": "execute_result"
    }
   ],
   "source": [
    "flat.shape"
   ]
  },
  {
   "cell_type": "code",
   "execution_count": 46,
   "metadata": {
    "collapsed": false
   },
   "outputs": [],
   "source": [
    "reload(pyarqa)\n",
    "pyarqa.trace_qa(None, flat, lordtrc, rordtrc)"
   ]
  },
  {
   "cell_type": "markdown",
   "metadata": {},
   "source": [
    "## Canny"
   ]
  },
  {
   "cell_type": "code",
   "execution_count": 5,
   "metadata": {
    "collapsed": false
   },
   "outputs": [],
   "source": [
    "'''\n",
    "Module for Canny edge detection\n",
    "Requirements: 1.scipy.(numpy is also mandatory, but it is assumed to be\n",
    "                      installed with scipy)\n",
    "              2. Python Image Library(only for viewing the final image.)\n",
    "Author: Vishwanath\n",
    "contact: vishwa.hyd@gmail.com\n",
    "'''\n",
    "try:\n",
    "    import Image\n",
    "except ImportError:\n",
    "    print 'PIL not found. You cannot view the image'\n",
    "import os\n",
    " \n",
    "from scipy import *\n",
    "from scipy.ndimage import *\n",
    "from scipy.signal import convolve2d as conv\n",
    " \n",
    "class Canny:\n",
    "    '''\n",
    "        Create instances of this class to apply the Canny edge\n",
    "        detection algorithm to an image.\n",
    " \n",
    "        input: imagename(string),sigma for gaussian blur\n",
    "        optional args: thresHigh,thresLow\n",
    " \n",
    "        output: numpy ndarray.\n",
    " \n",
    "        P.S: use canny.grad to access the image array        \n",
    " \n",
    "        Note:\n",
    "        1. Large images take a lot of time to process, Not yet optimised\n",
    "        2. thresHigh will decide the number of edges to be detected. It\n",
    "           does not affect the length of the edges being detected\n",
    "        3. thresLow will decide the lenght of hte edges, will not affect\n",
    "           the number of edges that will be detected.\n",
    " \n",
    "        usage example:\n",
    "        >>>canny = Canny('image.jpg',1.4,50,10)\n",
    "        >>>im = canny.grad\n",
    "        >>>Image.fromarray(im).show()\n",
    "    '''\n",
    "    def __init__(self,imname,sigma,thresHigh = 50,thresLow = 10):\n",
    "        self.imin = imread(imname,flatten = True)\n",
    " \n",
    "        # Create the gauss kernel for blurring the input image\n",
    "        # It will be convolved with the image\n",
    "        gausskernel = self.gaussFilter(sigma,5)\n",
    "        # fx is the filter for vertical gradient\n",
    "        # fy is the filter for horizontal gradient\n",
    "        # Please not the vertical direction is positive X\n",
    "         \n",
    "        fx = self.createFilter([1, 1, 1,\n",
    "                                0, 0, 0,\n",
    "                               -1,-1,-1])\n",
    "        fy = self.createFilter([-1,0,1,\n",
    "                                -1,0,1,\n",
    "                                -1,0,1])\n",
    " \n",
    "        imout = conv(self.imin,gausskernel)[1:-1,1:-1]\n",
    "        gradx = conv(imout,fx)[1:-1,1:-1]\n",
    "        grady = conv(imout,fy)[1:-1,1:-1]\n",
    " \n",
    "        # Net gradient is the square root of sum of square of the horizontal\n",
    "        # and vertical gradients\n",
    " \n",
    "        grad = hypot(gradx,grady)\n",
    "        theta = arctan2(grady,gradx)\n",
    "        theta = 180 + (180/pi)*theta\n",
    "        # Only significant magnitudes are considered. All others are removed\n",
    "        x,y = where(grad < 10)\n",
    "        theta[x,y] = 0\n",
    "        grad[x,y] = 0\n",
    " \n",
    "        # The angles are quantized. This is the first step in non-maximum\n",
    "        # supression. Since, any pixel will have only 4 approach directions.\n",
    "        x0,y0 = where(((theta<22.5)+(theta>157.5)*(theta<202.5)\n",
    "                       +(theta>337.5)) == True)\n",
    "        x45,y45 = where( ((theta>22.5)*(theta<67.5)\n",
    "                          +(theta>202.5)*(theta<247.5)) == True)\n",
    "        x90,y90 = where( ((theta>67.5)*(theta<112.5)\n",
    "                          +(theta>247.5)*(theta<292.5)) == True)\n",
    "        x135,y135 = where( ((theta>112.5)*(theta<157.5)\n",
    "                            +(theta>292.5)*(theta<337.5)) == True)\n",
    " \n",
    "        self.theta = theta\n",
    "        Image.fromarray(self.theta).convert('L').save('Angle map.jpg')\n",
    "        self.theta[x0,y0] = 0\n",
    "        self.theta[x45,y45] = 45\n",
    "        self.theta[x90,y90] = 90\n",
    "        self.theta[x135,y135] = 135\n",
    "        x,y = self.theta.shape        \n",
    "        temp = Image.new('RGB',(y,x),(255,255,255))\n",
    "        for i in range(x):\n",
    "            for j in range(y):\n",
    "                if self.theta[i,j] == 0:\n",
    "                    temp.putpixel((j,i),(0,0,255))\n",
    "                elif self.theta[i,j] == 45:\n",
    "                    temp.putpixel((j,i),(255,0,0))\n",
    "                elif self.theta[i,j] == 90:\n",
    "                    temp.putpixel((j,i),(255,255,0))\n",
    "                elif self.theta[i,j] == 45:\n",
    "                    temp.putpixel((j,i),(0,255,0))\n",
    "        self.grad = grad.copy()\n",
    "        x,y = self.grad.shape\n",
    " \n",
    "        for i in range(x):\n",
    "            for j in range(y):\n",
    "                if self.theta[i,j] == 0:\n",
    "                    test = self.nms_check(grad,i,j,1,0,-1,0)\n",
    "                    if not test:\n",
    "                        self.grad[i,j] = 0\n",
    " \n",
    "                elif self.theta[i,j] == 45:\n",
    "                    test = self.nms_check(grad,i,j,1,-1,-1,1)\n",
    "                    if not test:\n",
    "                        self.grad[i,j] = 0\n",
    " \n",
    "                elif self.theta[i,j] == 90:\n",
    "                    test = self.nms_check(grad,i,j,0,1,0,-1)\n",
    "                    if not test:\n",
    "                        self.grad[i,j] = 0\n",
    "                elif self.theta[i,j] == 135:\n",
    "                    test = self.nms_check(grad,i,j,1,1,-1,-1)\n",
    "                    if not test:\n",
    "                        self.grad[i,j] = 0\n",
    "                     \n",
    "        init_point = self.stop(self.grad, thresHigh)\n",
    "        # Hysteresis tracking. Since we know that significant edges are\n",
    "        # continuous contours, we will exploit the same.\n",
    "        # thresHigh is used to track the starting point of edges and\n",
    "        # thresLow is used to track the whole edge till end of the edge.\n",
    "         \n",
    "        while (init_point != -1):\n",
    "            #Image.fromarray(self.grad).show()\n",
    "            print 'next segment at',init_point\n",
    "            self.grad[init_point[0],init_point[1]] = -1\n",
    "            p2 = init_point\n",
    "            p1 = init_point\n",
    "            p0 = init_point\n",
    "            p0 = self.nextNbd(self.grad,p0,p1,p2,thresLow)\n",
    "             \n",
    "            while (p0 != -1):\n",
    "                #print p0\n",
    "                p2 = p1\n",
    "                p1 = p0\n",
    "                self.grad[p0[0],p0[1]] = -1\n",
    "                p0 = self.nextNbd(self.grad,p0,p1,p2,thresLow)\n",
    "                 \n",
    "            init_point = self.stop(self.grad,thresHigh)\n",
    " \n",
    "        # Finally, convert the image into a binary image\n",
    "        x,y = where(self.grad == -1)\n",
    "        self.grad[:,:] = 0\n",
    "        self.grad[x,y] = 255\n",
    " \n",
    "    def createFilter(self,rawfilter):\n",
    "        '''\n",
    "            This method is used to create an NxN matrix to be used as a filter,\n",
    "            given a N*N list\n",
    "        '''\n",
    "        order = pow(len(rawfilter),0.5)\n",
    "        order = int(order)\n",
    "        filt_array = array(rawfilter)\n",
    "        outfilter = filt_array.reshape((order,order))\n",
    "        return outfilter\n",
    "     \n",
    "    def gaussFilter(self,sigma,window = 3):\n",
    "        '''\n",
    "            This method is used to create a gaussian kernel to be used\n",
    "            for the blurring purpose. inputs are sigma and the window size\n",
    "        '''\n",
    "        kernel = zeros((window,window))\n",
    "        c0 = window // 2\n",
    " \n",
    "        for x in range(window):\n",
    "            for y in range(window):\n",
    "                r = hypot((x-c0),(y-c0))\n",
    "                val = (1.0/2*pi*sigma*sigma)*exp(-(r*r)/(2*sigma*sigma))\n",
    "                kernel[x,y] = val\n",
    "        return kernel / kernel.sum()\n",
    " \n",
    "    def nms_check(self,grad,i,j,x1,y1,x2,y2):\n",
    "        '''\n",
    "            Method for non maximum supression check. A gradient point is an\n",
    "            edge only if the gradient magnitude and the slope agree\n",
    " \n",
    "            for example, consider a horizontal edge. if the angle of gradient\n",
    "            is 0 degress, it is an edge point only if the value of gradient\n",
    "            at that point is greater than its top and bottom neighbours.\n",
    "        '''\n",
    "        try:\n",
    "            if (grad[i,j] > grad[i+x1,j+y1]) and (grad[i,j] > grad[i+x2,j+y2]):\n",
    "                return 1\n",
    "            else:\n",
    "                return 0\n",
    "        except IndexError:\n",
    "            return -1\n",
    "     \n",
    "    def stop(self,im,thres):\n",
    "        '''\n",
    "            This method is used to find the starting point of an edge.\n",
    "        '''\n",
    "        X,Y = where(im > thres)\n",
    "        try:\n",
    "            y = Y.min()\n",
    "        except:\n",
    "            return -1\n",
    "        X = X.tolist()\n",
    "        Y = Y.tolist()\n",
    "        index = Y.index(y)\n",
    "        x = X[index]\n",
    "        return [x,y]\n",
    "   \n",
    "    def nextNbd(self,im,p0,p1,p2,thres):\n",
    "        '''\n",
    "            This method is used to return the next point on the edge.\n",
    "        '''\n",
    "        kit = [-1,0,1]\n",
    "        X,Y = im.shape\n",
    "        for i in kit:\n",
    "            for j in kit:\n",
    "                if (i+j) == 0:\n",
    "                    continue\n",
    "                x = p0[0]+i\n",
    "                y = p0[1]+j\n",
    "                 \n",
    "                if (x<0) or (y<0) or (x>=X) or (y>=Y):\n",
    "                    continue\n",
    "                if ([x,y] == p1) or ([x,y] == p2):\n",
    "                    continue\n",
    "                if (im[x,y] > thres): #and (im[i,j] < 256):\n",
    "                    return [x,y]\n",
    "        return -1\n",
    "# End of module Canny"
   ]
  },
  {
   "cell_type": "code",
   "execution_count": null,
   "metadata": {
    "collapsed": true
   },
   "outputs": [],
   "source": []
  }
 ],
 "metadata": {
  "kernelspec": {
   "display_name": "Python 2",
   "language": "python",
   "name": "python2"
  },
  "language_info": {
   "codemirror_mode": {
    "name": "ipython",
    "version": 2
   },
   "file_extension": ".py",
   "mimetype": "text/x-python",
   "name": "python",
   "nbconvert_exporter": "python",
   "pygments_lexer": "ipython2",
   "version": "2.7.10"
  }
 },
 "nbformat": 4,
 "nbformat_minor": 0
}
