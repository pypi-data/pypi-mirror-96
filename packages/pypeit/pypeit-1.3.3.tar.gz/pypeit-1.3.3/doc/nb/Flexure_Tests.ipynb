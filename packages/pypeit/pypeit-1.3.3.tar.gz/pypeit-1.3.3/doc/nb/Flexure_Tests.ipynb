{
 "cells": [
  {
   "cell_type": "code",
   "execution_count": 21,
   "metadata": {
    "collapsed": false
   },
   "outputs": [],
   "source": [
    "# imports\n",
    "from scipy.io import readsav\n",
    "from scipy import interpolate\n",
    "sys.path.append(os.path.abspath('/Users/xavier/local/Python/PYPIT/src/'))\n",
    "\n",
    "from linetools import utils as ltu\n",
    "from linetools.spectra import xspectrum1d\n",
    "\n",
    "import armsgs\n",
    "\n",
    "import ardebug\n",
    "debug = ardebug.init()\n",
    "last_updated = \"2 May 2016\"\n",
    "version = '0.1'\n",
    "msgs = armsgs.get_logger((None, debug, last_updated, version, 1))\n",
    "import arwave as arwv\n",
    "import arutils\n",
    "\n",
    "try:\n",
    "    from xastropy.xutils import xdebug as debugger\n",
    "except:\n",
    "    import pdb as debugger"
   ]
  },
  {
   "cell_type": "markdown",
   "metadata": {},
   "source": [
    "# Load 1D spectrum"
   ]
  },
  {
   "cell_type": "code",
   "execution_count": 2,
   "metadata": {
    "collapsed": false
   },
   "outputs": [
    {
     "name": "stdout",
     "output_type": "stream",
     "text": [
      "Filename: /Users/xavier/PYPIT/Tiffany/lris_red/Science/spec1d_OFF_J1044p6306_LRISr_2016Feb16T112439.fits\n",
      "No.    Name         Type      Cards   Dimensions   Format\n",
      "0    PRIMARY     PrimaryHDU      11   ()              \n",
      "1    O983-S8787-D01-I0022  BinTableHDU     21   2048R x 6C   [D, D, K, D, D, D]   \n",
      "2    O900-S8787-D01-I0022  BinTableHDU     27   2048R x 9C   [D, D, K, D, D, D, D, D, D]   \n",
      "3    O401-S8787-D01-I0022  BinTableHDU     27   2048R x 9C   [D, D, K, D, D, D, D, D, D]   \n",
      "4    O023-S8787-D01-I0022  BinTableHDU     27   2048R x 9C   [D, D, K, D, D, D, D, D, D]   \n",
      "5    O239-S1470-D02-I0022  BinTableHDU     27   2048R x 9C   [D, D, K, D, D, D, D, D, D]   \n",
      "6    O652-S1470-D02-I0022  BinTableHDU     27   2048R x 9C   [D, D, K, D, D, D, D, D, D]   \n",
      "7    O809-S1470-D02-I0022  BinTableHDU     27   2048R x 9C   [D, D, K, D, D, D, D, D, D]   \n"
     ]
    }
   ],
   "source": [
    "spec1d_fil = '/Users/xavier/PYPIT/Tiffany/lris_red/Science/spec1d_OFF_J1044p6306_LRISr_2016Feb16T112439.fits'\n",
    "hdu = fits.open(spec1d_fil)\n",
    "hdu.info()"
   ]
  },
  {
   "cell_type": "code",
   "execution_count": 3,
   "metadata": {
    "collapsed": false
   },
   "outputs": [],
   "source": [
    "h2_obj = Table(hdu[5].data)"
   ]
  },
  {
   "cell_type": "code",
   "execution_count": 4,
   "metadata": {
    "collapsed": true
   },
   "outputs": [],
   "source": [
    "#debugger.xplot(h2_obj['box_sky'])"
   ]
  },
  {
   "cell_type": "markdown",
   "metadata": {},
   "source": [
    "## Run Algorithm"
   ]
  },
  {
   "cell_type": "code",
   "execution_count": 16,
   "metadata": {
    "collapsed": false
   },
   "outputs": [],
   "source": [
    "slf = arutils.dummy_self(pypitdir=os.getenv('PYPIT'))\n",
    "slf._pixcen = np.zeros(10)\n",
    "slf._lordloc = 0\n",
    "slf._rordloc = 0\n",
    "slf._argflag['arc'] = {}\n",
    "slf._argflag['arc']['calibrate'] = {}\n",
    "slf._argflag['arc']['calibrate']['detection'] = 5.\n",
    "slf._argflag['arc']['calibrate']['nfitpix'] = 7.\n",
    "#\n",
    "slf._argflag['reduce'] = {}\n",
    "slf._argflag['reduce']['flexure'] ={}\n",
    "slf._argflag['reduce']['flexure']['spectrum'] = None\n",
    "slf._argflag['reduce']['flexure']['maxshift'] = 20.\n",
    "#\n",
    "slf._argflag['run']['spectrograph'] = 'LRISr'\n",
    "#\n",
    "msgs._debug['flexure'] = True"
   ]
  },
  {
   "cell_type": "code",
   "execution_count": 11,
   "metadata": {
    "collapsed": false
   },
   "outputs": [
    {
     "name": "stderr",
     "output_type": "stream",
     "text": [
      "\u001b[1;32m[INFO]    ::\u001b[0m Using paranal_sky.fits file for Sky spectrum\n",
      "/Users/xavier/local/Python/linetools/linetools/spectra/xspectrum1d.py:92: UserWarning: Assuming wavelength unit is Angstroms\n",
      "  warnings.warn(\"Assuming wavelength unit is Angstroms\")\n"
     ]
    }
   ],
   "source": [
    "# Load archive\n",
    "reload(arwv)\n",
    "arx_file, arx_spec = arwv.flexure_archive(slf, 1)"
   ]
  },
  {
   "cell_type": "code",
   "execution_count": 19,
   "metadata": {
    "collapsed": true
   },
   "outputs": [],
   "source": [
    "obj_sky = xspectrum1d.XSpectrum1D.from_tuple((h2_obj['box_wave'], h2_obj['box_sky']))"
   ]
  },
  {
   "cell_type": "code",
   "execution_count": 18,
   "metadata": {
    "collapsed": false
   },
   "outputs": [
    {
     "name": "stderr",
     "output_type": "stream",
     "text": [
      "\u001b[1;31m[WARNING] ::\u001b[0m If we use Paranal, cut down on wavelength early on\n",
      "\u001b[1;32m[INFO]    ::\u001b[0m Detecting lines\n",
      "\u001b[1;32m[INFO]    ::\u001b[0m Extracting an approximate arc spectrum at the centre of the chip\n",
      "\u001b[1;32m[INFO]    ::\u001b[0m Detecting the strongest, nonsaturated arc lines\n",
      "\u001b[1;32m[INFO]    ::\u001b[0m Detecting lines\n",
      "\u001b[1;32m[INFO]    ::\u001b[0m Extracting an approximate arc spectrum at the centre of the chip\n",
      "\u001b[1;32m[INFO]    ::\u001b[0m Detecting the strongest, nonsaturated arc lines\n",
      "\u001b[1;32m[INFO]    ::\u001b[0m Resolution of Archive=39623.9 and Observation=2094.66\n",
      "\u001b[1;32m[INFO]    ::\u001b[0m Flexure correction of 0.0350787 pixels\n"
     ]
    },
    {
     "name": "stdout",
     "output_type": "stream",
     "text": [
      "> /Users/xavier/local/Python/PYPIT/src/arwave.py(137)flex_shift()\n",
      "-> flex_dict = dict(polyfit=fit, shift=shift, subpix=subpix_grid,\n",
      "(Pdb) c\n"
     ]
    }
   ],
   "source": [
    "reload(arwv)\n",
    "flex_dict = arwv.flex_shift(slf, 1, obj_sky, arx_spec)"
   ]
  },
  {
   "cell_type": "markdown",
   "metadata": {},
   "source": [
    "## Shift wavelengths"
   ]
  },
  {
   "cell_type": "code",
   "execution_count": 22,
   "metadata": {
    "collapsed": false
   },
   "outputs": [],
   "source": [
    "x = np.linspace(0., 1., obj_sky.npix)\n",
    "f = interpolate.interp1d(x, obj_sky.wavelength.value, bounds_error=False, fill_value=\"extrapolate\")\n",
    "twave = f(x+flex_dict['shift']/(obj_sky.npix-1))\n",
    "new_sky = xspectrum1d.XSpectrum1D.from_tuple((twave, obj_sky.flux))"
   ]
  },
  {
   "cell_type": "markdown",
   "metadata": {},
   "source": [
    "## Compare to Paranal"
   ]
  },
  {
   "cell_type": "code",
   "execution_count": 23,
   "metadata": {
    "collapsed": true
   },
   "outputs": [],
   "source": [
    "pfile = '/Users/xavier/local/Python/PYPIT/data/sky_spec/paranal_sky.fits'\n",
    "phdu = fits.open(pfile)"
   ]
  },
  {
   "cell_type": "code",
   "execution_count": 24,
   "metadata": {
    "collapsed": true
   },
   "outputs": [],
   "source": [
    "pwave = phdu[0].data\n",
    "pflux = phdu[1].data"
   ]
  },
  {
   "cell_type": "code",
   "execution_count": 25,
   "metadata": {
    "collapsed": false
   },
   "outputs": [],
   "source": [
    "debugger.xplot(new_sky.wavelength, h2_obj['box_sky'], xtwo=pwave, ytwo=pflux*8)"
   ]
  }
 ],
 "metadata": {
  "kernelspec": {
   "display_name": "Python 2",
   "language": "python",
   "name": "python2"
  },
  "language_info": {
   "codemirror_mode": {
    "name": "ipython",
    "version": 2
   },
   "file_extension": ".py",
   "mimetype": "text/x-python",
   "name": "python",
   "nbconvert_exporter": "python",
   "pygments_lexer": "ipython2",
   "version": "2.7.11"
  }
 },
 "nbformat": 4,
 "nbformat_minor": 0
}
