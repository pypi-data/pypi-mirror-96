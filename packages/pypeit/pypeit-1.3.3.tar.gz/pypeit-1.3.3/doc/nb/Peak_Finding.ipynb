{
 "cells": [
  {
   "cell_type": "markdown",
   "metadata": {},
   "source": [
    "# Tests with Peak Finding"
   ]
  },
  {
   "cell_type": "code",
   "execution_count": 1,
   "metadata": {
    "collapsed": true
   },
   "outputs": [],
   "source": [
    "%matplotlib inline"
   ]
  },
  {
   "cell_type": "code",
   "execution_count": 2,
   "metadata": {
    "collapsed": false
   },
   "outputs": [],
   "source": [
    "#imports\n",
    "from scipy import signal as scisig\n",
    "from xastropy.xutils import peaks as xxpk\n",
    "import peakutils\n",
    "#\n",
    "sys.path.append(os.path.abspath('/Users/xavier/local/Python/PYPIT/src/'))\n",
    "import arcyarc\n",
    "#\n",
    "from astropy.stats import sigma_clip as sigclip"
   ]
  },
  {
   "cell_type": "markdown",
   "metadata": {},
   "source": [
    "## Slit edge"
   ]
  },
  {
   "cell_type": "code",
   "execution_count": 3,
   "metadata": {
    "collapsed": true
   },
   "outputs": [],
   "source": [
    "# Using diff image (aka Sawtooth)\n",
    "diff = fits.open('/Users/xavier/PYPIT/LRIS_blue/diff.fits')[0].data"
   ]
  },
  {
   "cell_type": "code",
   "execution_count": 4,
   "metadata": {
    "collapsed": false
   },
   "outputs": [],
   "source": [
    "mid_row = -1. * diff[200,:]"
   ]
  },
  {
   "cell_type": "code",
   "execution_count": 4,
   "metadata": {
    "collapsed": false
   },
   "outputs": [],
   "source": [
    "# Scipy -- the following fails\n",
    "#peaks = scisig.find_peaks_cwt(diff, np.arange(1,10))"
   ]
  },
  {
   "cell_type": "code",
   "execution_count": 17,
   "metadata": {
    "collapsed": false
   },
   "outputs": [],
   "source": [
    "# peakdetect -- not so stable; not sure what delta really does\n",
    "import pylab\n",
    "\n",
    "y = mid_row\n",
    "x = np.arange(y.shape[0])\n",
    "\n",
    "_max, _min = xxpk.peakdetect(y, x, 30, delta=10)\n",
    "\n",
    "xm = [p[0] for p in _max]\n",
    "ym = [p[1] for p in _max]\n",
    "xn = [p[0] for p in _min]\n",
    "yn = [p[1] for p in _min]\n",
    "\n",
    "plot = pylab.plot(x, y)\n",
    "pylab.hold(True)\n",
    "pylab.plot(xm, ym, 'r+')\n",
    "pylab.plot(xn, yn, 'g+')\n",
    "\n",
    "pylab.show()"
   ]
  },
  {
   "cell_type": "code",
   "execution_count": 9,
   "metadata": {
    "collapsed": false
   },
   "outputs": [
    {
     "data": {
      "text/plain": [
       "array([ 723,  770,  809,  862,  893,  940,  979, 1020])"
      ]
     },
     "execution_count": 9,
     "metadata": {},
     "output_type": "execute_result"
    }
   ],
   "source": [
    "# PeakUtils\n",
    "indexes = peakutils.indexes(mid_row, thres=0.05, min_dist=30)\n",
    "indexes"
   ]
  },
  {
   "cell_type": "code",
   "execution_count": 10,
   "metadata": {
    "collapsed": false
   },
   "outputs": [
    {
     "data": {
      "image/png": "[encoded data removed]",
      "text/plain": [
       "<matplotlib.figure.Figure at 0x10c679c50>"
      ]
     },
     "metadata": {},
     "output_type": "display_data"
    }
   ],
   "source": [
    "y = mid_row\n",
    "x = np.arange(y.shape[0])\n",
    "\n",
    "plt.clf()\n",
    "plt.plot(x,y)\n",
    "plt.plot(x[indexes], y[indexes], 'r+')\n",
    "plt.show()"
   ]
  },
  {
   "cell_type": "code",
   "execution_count": 8,
   "metadata": {
    "collapsed": false
   },
   "outputs": [
    {
     "data": {
      "text/plain": [
       "array([ 723.17878795])"
      ]
     },
     "execution_count": 8,
     "metadata": {},
     "output_type": "execute_result"
    }
   ],
   "source": [
    "peaks_x = peakutils.interpolate(x, y, ind=indexes)\n",
    "peaks_x"
   ]
  },
  {
   "cell_type": "code",
   "execution_count": 5,
   "metadata": {
    "collapsed": false
   },
   "outputs": [
    {
     "name": "stdout",
     "output_type": "stream",
     "text": [
      "rms = 6.59175\n"
     ]
    }
   ],
   "source": [
    "# Ryan's code\n",
    "clean = sigclip(mid_row)\n",
    "rms = np.std(clean)\n",
    "print('rms = {:g}'.format(rms))\n",
    "#rms = 1.\n",
    "siglev = 10.\n",
    "tpixt, num = arcyarc.detections_sigma(mid_row,np.array([rms]*mid_row.shape[0]),np.zeros(mid_row.shape[0],dtype=np.int),siglev/2.0,siglev) "
   ]
  },
  {
   "cell_type": "code",
   "execution_count": 6,
   "metadata": {
    "collapsed": false
   },
   "outputs": [
    {
     "data": {
      "text/plain": [
       "(1, 723)"
      ]
     },
     "execution_count": 6,
     "metadata": {},
     "output_type": "execute_result"
    }
   ],
   "source": [
    "num, tpixt[0]"
   ]
  },
  {
   "cell_type": "code",
   "execution_count": 7,
   "metadata": {
    "collapsed": false
   },
   "outputs": [
    {
     "data": {
      "text/plain": [
       "array([723,  -1,  -1, ...,  -1,  -1,   0])"
      ]
     },
     "execution_count": 7,
     "metadata": {},
     "output_type": "execute_result"
    }
   ],
   "source": [
    "tpixt"
   ]
  },
  {
   "cell_type": "code",
   "execution_count": 8,
   "metadata": {
    "collapsed": false
   },
   "outputs": [],
   "source": [
    "pixt = arcyarc.remove_similar(tpixt, num)\n",
    "pixt = pixt[np.where(pixt!=-1)].astype(np.int)\n",
    "xrng = np.arange(mid_row.shape[0],dtype=np.float)\n",
    "#tampl, tcent, twid, ngood = arcyarc.fit_arcorder(xrng,mid_row,pixt,5)\n",
    "#w = np.where((np.isnan(twid)==False) & (twid > 0.0) & (twid < 10.0/2.35) & (tcent>0.0) & (tcent<xrng[-1]))"
   ]
  },
  {
   "cell_type": "code",
   "execution_count": 9,
   "metadata": {
    "collapsed": false
   },
   "outputs": [
    {
     "data": {
      "text/plain": [
       "array([723])"
      ]
     },
     "execution_count": 9,
     "metadata": {},
     "output_type": "execute_result"
    }
   ],
   "source": [
    "pixt"
   ]
  },
  {
   "cell_type": "code",
   "execution_count": null,
   "metadata": {
    "collapsed": true
   },
   "outputs": [],
   "source": []
  }
 ],
 "metadata": {
  "kernelspec": {
   "display_name": "Python 2",
   "language": "python",
   "name": "python2"
  },
  "language_info": {
   "codemirror_mode": {
    "name": "ipython",
    "version": 2
   },
   "file_extension": ".py",
   "mimetype": "text/x-python",
   "name": "python",
   "nbconvert_exporter": "python",
   "pygments_lexer": "ipython2",
   "version": "2.7.10"
  }
 },
 "nbformat": 4,
 "nbformat_minor": 0
}
