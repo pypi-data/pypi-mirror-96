{
 "cells": [
  {
   "cell_type": "markdown",
   "metadata": {},
   "source": [
    "# Usage and more of the Calibrations Class [v1.1]"
   ]
  },
  {
   "cell_type": "code",
   "execution_count": 1,
   "metadata": {},
   "outputs": [],
   "source": [
    "# imports\n",
    "import os\n",
    "import glob\n",
    "\n",
    "from importlib import reload\n",
    "\n",
    "import numpy as np\n",
    "\n",
    "from pypit import arparse\n",
    "from pypit import calibrations\n",
    "from pypit import pypitsetup\n",
    "\n",
    "from pypit import arpixels\n",
    "\n",
    "from pypit.spectrographs import keck_lris"
   ]
  },
  {
   "cell_type": "code",
   "execution_count": 2,
   "metadata": {},
   "outputs": [
    {
     "data": {
      "text/plain": [
       "'/home/xavier/local/Python/PYPIT-development-suite/'"
      ]
     },
     "execution_count": 2,
     "metadata": {},
     "output_type": "execute_result"
    }
   ],
   "source": [
    "os.getenv('PYPIT_DEV')"
   ]
  },
  {
   "cell_type": "markdown",
   "metadata": {},
   "source": [
    "## Multi-Slit Example"
   ]
  },
  {
   "cell_type": "code",
   "execution_count": 3,
   "metadata": {
    "collapsed": true
   },
   "outputs": [],
   "source": [
    "spectrograph='keck_lris_red'\n",
    "spectro_class = keck_lris.KeckLRISBSpectrograph()"
   ]
  },
  {
   "cell_type": "markdown",
   "metadata": {},
   "source": [
    "## Fuss with settings.."
   ]
  },
  {
   "cell_type": "code",
   "execution_count": 4,
   "metadata": {},
   "outputs": [
    {
     "name": "stderr",
     "output_type": "stream",
     "text": [
      "\u001b[1;32m[INFO]    ::\u001b[0m \u001b[1;34marparse.py 75 load_file()\u001b[0m - Loading default settings\n",
      "\u001b[1;32m[INFO]    ::\u001b[0m \u001b[1;34marparse.py 87 load_file()\u001b[0m - Loading base settings from settings.baseargflag\n",
      "\u001b[1;32m[INFO]    ::\u001b[0m \u001b[1;34marparse.py 1393 run_ncpus()\u001b[0m - Setting 7 CPUs\n",
      "\u001b[1;32m[INFO]    ::\u001b[0m \u001b[1;34marparse.py 75 load_file()\u001b[0m - Loading default settings\n",
      "\u001b[1;32m[INFO]    ::\u001b[0m \u001b[1;34marparse.py 75 load_file()\u001b[0m - Loading default settings\n",
      "\u001b[1;32m[INFO]    ::\u001b[0m \u001b[1;34marparse.py 87 load_file()\u001b[0m - Loading base settings from settings.basespect\n",
      "\u001b[1;32m[INFO]    ::\u001b[0m \u001b[1;34marparse.py 75 load_file()\u001b[0m - Loading default settings\n"
     ]
    }
   ],
   "source": [
    "from pypit import arparse as settings\n",
    "settings.dummy_settings(spectrograph=spectrograph)"
   ]
  },
  {
   "cell_type": "markdown",
   "metadata": {},
   "source": [
    "## FITS table"
   ]
  },
  {
   "cell_type": "code",
   "execution_count": 5,
   "metadata": {},
   "outputs": [
    {
     "data": {
      "text/plain": [
       "23"
      ]
     },
     "execution_count": 5,
     "metadata": {},
     "output_type": "execute_result"
    }
   ],
   "source": [
    "keck_lris_files = glob.glob(os.getenv('PYPIT_DEV')+'RAW_DATA/Keck_LRIS_red/long_600_7500_d560/LR*')\n",
    "keck_lris_files.sort()\n",
    "len(keck_lris_files)"
   ]
  },
  {
   "cell_type": "code",
   "execution_count": 6,
   "metadata": {},
   "outputs": [
    {
     "data": {
      "text/plain": [
       "'/home/xavier/local/Python/PYPIT-development-suite/RAW_DATA/Keck_LRIS_red/long_600_7500_d560/LR.20160216.07348.fits'"
      ]
     },
     "execution_count": 6,
     "metadata": {},
     "output_type": "execute_result"
    }
   ],
   "source": [
    "keck_lris_files[4]"
   ]
  },
  {
   "cell_type": "code",
   "execution_count": 7,
   "metadata": {},
   "outputs": [
    {
     "data": {
      "text/plain": [
       "'/home/xavier/local/Python/PYPIT-development-suite/RAW_DATA/Keck_LRIS_red/long_600_7500_d560/LR.20160216.07348.fits'"
      ]
     },
     "execution_count": 7,
     "metadata": {},
     "output_type": "execute_result"
    }
   ],
   "source": [
    "# Pop the unknown file\n",
    "keck_lris_files.pop(4)"
   ]
  },
  {
   "cell_type": "code",
   "execution_count": 8,
   "metadata": {
    "collapsed": true
   },
   "outputs": [],
   "source": [
    "setupc = pypitsetup.PypitSetup(settings.argflag, settings.spect)"
   ]
  },
  {
   "cell_type": "code",
   "execution_count": 9,
   "metadata": {},
   "outputs": [
    {
     "name": "stderr",
     "output_type": "stream",
     "text": [
      "\u001b[1;32m[INFO]    ::\u001b[0m \u001b[1;34marload.py 192 load_headers()\u001b[0m - Successfully loaded headers for file:\n",
      "             /home/xavier/local/Python/PYPIT-development-suite/RAW_DATA/Keck_LRIS_red/long_600_7500_d560/LR.20160216.05529.fits\n",
      "\u001b[1;32m[INFO]    ::\u001b[0m \u001b[1;34marload.py 192 load_headers()\u001b[0m - Successfully loaded headers for file:\n",
      "             /home/xavier/local/Python/PYPIT-development-suite/RAW_DATA/Keck_LRIS_red/long_600_7500_d560/LR.20160216.05589.fits\n",
      "\u001b[1;32m[INFO]    ::\u001b[0m \u001b[1;34marload.py 192 load_headers()\u001b[0m - Successfully loaded headers for file:\n",
      "             /home/xavier/local/Python/PYPIT-development-suite/RAW_DATA/Keck_LRIS_red/long_600_7500_d560/LR.20160216.05649.fits\n",
      "\u001b[1;31m[WARNING] ::\u001b[0m \u001b[1;34marload.py 157 load_headers()\u001b[0m - TARGNAME keyword not in header. Setting to None\n",
      "\u001b[1;31m[WARNING] ::\u001b[0m \u001b[1;34marload.py 157 load_headers()\u001b[0m - RA keyword not in header. Setting to None\n",
      "\u001b[1;32m[INFO]    ::\u001b[0m \u001b[1;34marload.py 192 load_headers()\u001b[0m - Successfully loaded headers for file:\n",
      "             /home/xavier/local/Python/PYPIT-development-suite/RAW_DATA/Keck_LRIS_red/long_600_7500_d560/LR.20160216.05709.fits\n",
      "\u001b[1;32m[INFO]    ::\u001b[0m \u001b[1;34marload.py 192 load_headers()\u001b[0m - Successfully loaded headers for file:\n",
      "             /home/xavier/local/Python/PYPIT-development-suite/RAW_DATA/Keck_LRIS_red/long_600_7500_d560/LR.20160216.07412.fits\n",
      "\u001b[1;32m[INFO]    ::\u001b[0m \u001b[1;34marload.py 192 load_headers()\u001b[0m - Successfully loaded headers for file:\n",
      "             /home/xavier/local/Python/PYPIT-development-suite/RAW_DATA/Keck_LRIS_red/long_600_7500_d560/LR.20160216.07470.fits\n",
      "\u001b[1;32m[INFO]    ::\u001b[0m \u001b[1;34marload.py 192 load_headers()\u001b[0m - Successfully loaded headers for file:\n",
      "             /home/xavier/local/Python/PYPIT-development-suite/RAW_DATA/Keck_LRIS_red/long_600_7500_d560/LR.20160216.07529.fits\n",
      "\u001b[1;32m[INFO]    ::\u001b[0m \u001b[1;34marload.py 192 load_headers()\u001b[0m - Successfully loaded headers for file:\n",
      "             /home/xavier/local/Python/PYPIT-development-suite/RAW_DATA/Keck_LRIS_red/long_600_7500_d560/LR.20160216.07587.fits\n",
      "\u001b[1;32m[INFO]    ::\u001b[0m \u001b[1;34marload.py 192 load_headers()\u001b[0m - Successfully loaded headers for file:\n",
      "             /home/xavier/local/Python/PYPIT-development-suite/RAW_DATA/Keck_LRIS_red/long_600_7500_d560/LR.20160216.07646.fits\n",
      "\u001b[1;32m[INFO]    ::\u001b[0m \u001b[1;34marload.py 192 load_headers()\u001b[0m - Successfully loaded headers for file:\n",
      "             /home/xavier/local/Python/PYPIT-development-suite/RAW_DATA/Keck_LRIS_red/long_600_7500_d560/LR.20160216.07703.fits\n",
      "\u001b[1;32m[INFO]    ::\u001b[0m \u001b[1;34marload.py 192 load_headers()\u001b[0m - Successfully loaded headers for file:\n",
      "             /home/xavier/local/Python/PYPIT-development-suite/RAW_DATA/Keck_LRIS_red/long_600_7500_d560/LR.20160216.07762.fits\n",
      "\u001b[1;32m[INFO]    ::\u001b[0m \u001b[1;34marload.py 192 load_headers()\u001b[0m - Successfully loaded headers for file:\n",
      "             /home/xavier/local/Python/PYPIT-development-suite/RAW_DATA/Keck_LRIS_red/long_600_7500_d560/LR.20160216.07820.fits\n",
      "\u001b[1;32m[INFO]    ::\u001b[0m \u001b[1;34marload.py 192 load_headers()\u001b[0m - Successfully loaded headers for file:\n",
      "             /home/xavier/local/Python/PYPIT-development-suite/RAW_DATA/Keck_LRIS_red/long_600_7500_d560/LR.20160216.07878.fits\n",
      "\u001b[1;32m[INFO]    ::\u001b[0m \u001b[1;34marload.py 192 load_headers()\u001b[0m - Successfully loaded headers for file:\n",
      "             /home/xavier/local/Python/PYPIT-development-suite/RAW_DATA/Keck_LRIS_red/long_600_7500_d560/LR.20160216.07937.fits\n",
      "\u001b[1;32m[INFO]    ::\u001b[0m \u001b[1;34marload.py 192 load_headers()\u001b[0m - Successfully loaded headers for file:\n",
      "             /home/xavier/local/Python/PYPIT-development-suite/RAW_DATA/Keck_LRIS_red/long_600_7500_d560/LR.20160216.13991.fits\n",
      "\u001b[1;32m[INFO]    ::\u001b[0m \u001b[1;34marload.py 192 load_headers()\u001b[0m - Successfully loaded headers for file:\n",
      "             /home/xavier/local/Python/PYPIT-development-suite/RAW_DATA/Keck_LRIS_red/long_600_7500_d560/LR.20160216.14090.fits\n",
      "\u001b[1;32m[INFO]    ::\u001b[0m \u001b[1;34marload.py 192 load_headers()\u001b[0m - Successfully loaded headers for file:\n",
      "             /home/xavier/local/Python/PYPIT-development-suite/RAW_DATA/Keck_LRIS_red/long_600_7500_d560/LR.20160216.14167.fits\n",
      "\u001b[1;32m[INFO]    ::\u001b[0m \u001b[1;34marload.py 192 load_headers()\u001b[0m - Successfully loaded headers for file:\n",
      "             /home/xavier/local/Python/PYPIT-development-suite/RAW_DATA/Keck_LRIS_red/long_600_7500_d560/LR.20160216.14244.fits\n",
      "\u001b[1;32m[INFO]    ::\u001b[0m \u001b[1;34marload.py 192 load_headers()\u001b[0m - Successfully loaded headers for file:\n",
      "             /home/xavier/local/Python/PYPIT-development-suite/RAW_DATA/Keck_LRIS_red/long_600_7500_d560/LR.20160216.14322.fits\n",
      "\u001b[1;32m[INFO]    ::\u001b[0m \u001b[1;34marload.py 192 load_headers()\u001b[0m - Successfully loaded headers for file:\n",
      "             /home/xavier/local/Python/PYPIT-development-suite/RAW_DATA/Keck_LRIS_red/long_600_7500_d560/LR.20160216.14399.fits\n",
      "\u001b[1;32m[INFO]    ::\u001b[0m \u001b[1;34marload.py 192 load_headers()\u001b[0m - Successfully loaded headers for file:\n",
      "             /home/xavier/local/Python/PYPIT-development-suite/RAW_DATA/Keck_LRIS_red/long_600_7500_d560/LR.20160216.17613.fits\n",
      "\u001b[1;32m[INFO]    ::\u001b[0m \u001b[1;34marload.py 192 load_headers()\u001b[0m - Successfully loaded headers for file:\n",
      "             /home/xavier/local/Python/PYPIT-development-suite/RAW_DATA/Keck_LRIS_red/long_600_7500_d560/LR.20160216.40478.fits\n",
      "\u001b[1;32m[INFO]    ::\u001b[0m \u001b[1;34marload.py 195 load_headers()\u001b[0m - Checking spectrograph settings for required header information\n",
      "\u001b[1;32m[INFO]    ::\u001b[0m \u001b[1;34marload.py 204 load_headers()\u001b[0m - Headers loaded for 22 files successfully\n",
      "\u001b[1;32m[INFO]    ::\u001b[0m \u001b[1;34marsort.py 110 type_data()\u001b[0m - Typing files\n",
      "\u001b[1;32m[INFO]    ::\u001b[0m \u001b[1;34marsort.py 169 type_data()\u001b[0m - Making forced file identification changes\n",
      "\u001b[1;31m[WARNING] ::\u001b[0m \u001b[1;34marsort.py 170 type_data()\u001b[0m - Note that the image will have *only* the specified type\n",
      "\u001b[1;32m[INFO]    ::\u001b[0m \u001b[1;34marsort.py 202 type_data()\u001b[0m - Typing completed!\n",
      "\u001b[1;32m[INFO]    ::\u001b[0m \u001b[1;34mpypitsetup.py 228 type_data()\u001b[0m - Adding file type information to the fitstbl\n",
      "\u001b[1;32m[INFO]    ::\u001b[0m \u001b[1;34marsort.py 964 match_to_science()\u001b[0m - Matching calibrations to Science frames\n",
      "\u001b[1;32m[INFO]    ::\u001b[0m \u001b[1;34marsort.py 973 match_to_science()\u001b[0m - =================================================\n",
      "\u001b[1;32m[INFO]    ::\u001b[0m \u001b[1;34marsort.py 975 match_to_science()\u001b[0m - Matching calibrations to OFF_J1044p6306: LR.20160216.40478.fits\n",
      "\u001b[1;32m[INFO]    ::\u001b[0m \u001b[1;34marsort.py 1025 match_to_science()\u001b[0m -   Found 4 arc frame for OFF_J1044p6306 (1 required)\n",
      "\u001b[1;32m[INFO]    ::\u001b[0m \u001b[1;34marsort.py 1025 match_to_science()\u001b[0m -   Found 10 bias frame for OFF_J1044p6306 (5 required)\n",
      "\u001b[1;32m[INFO]    ::\u001b[0m \u001b[1;34marsort.py 988 match_to_science()\u001b[0m -   Dark frames not required.  Not matching..\n",
      "\u001b[1;32m[INFO]    ::\u001b[0m \u001b[1;34marsort.py 1002 match_to_science()\u001b[0m -    No pinhole frames are required.  Not matching..\n",
      "\u001b[1;32m[INFO]    ::\u001b[0m \u001b[1;34marsort.py 1025 match_to_science()\u001b[0m -   Found 6 pixelflat frame for OFF_J1044p6306 (3 required)\n",
      "\u001b[1;32m[INFO]    ::\u001b[0m \u001b[1;34marsort.py 1025 match_to_science()\u001b[0m -   Found 1 standard frame for OFF_J1044p6306 (1 required)\n",
      "\u001b[1;32m[INFO]    ::\u001b[0m \u001b[1;34marsort.py 1025 match_to_science()\u001b[0m -   Found 6 trace frame for OFF_J1044p6306 (3 required)\n",
      "\u001b[1;32m[INFO]    ::\u001b[0m \u001b[1;34marsort.py 1047 match_to_science()\u001b[0m - Science frames successfully matched to calibration frames\n"
     ]
    }
   ],
   "source": [
    "_, fitstbl, setup_dict = setupc.run(file_list=keck_lris_files)"
   ]
  },
  {
   "cell_type": "code",
   "execution_count": 10,
   "metadata": {},
   "outputs": [
    {
     "data": {
      "text/html": [
       "<i>Table length=5</i>\n",
       "<table id=\"table140124071808360\" class=\"table-striped table-bordered table-condensed\">\n",
       "<thead><tr><th>directory</th><th>filename</th><th>utc</th><th>target</th><th>idname</th><th>time</th><th>date</th><th>equinox</th><th>ra</th><th>dec</th><th>airmass</th><th>naxis0</th><th>naxis1</th><th>binning</th><th>exptime</th><th>filter1</th><th>filter2</th><th>hatch</th><th>shutopen</th><th>shutclose</th><th>decker</th><th>lamps</th><th>slitwid</th><th>slitlen</th><th>detrot</th><th>dichroic</th><th>dispname</th><th>dispangle</th><th>lampname01</th><th>lampstat01</th><th>lampname02</th><th>lampstat02</th><th>lampname03</th><th>lampstat03</th><th>lampname04</th><th>lampstat04</th><th>lampname05</th><th>lampstat05</th><th>lampname06</th><th>lampstat06</th><th>lampname07</th><th>lampstat07</th><th>lampname08</th><th>lampstat08</th><th>lampname09</th><th>lampstat09</th><th>lampname10</th><th>lampstat10</th><th>lampname11</th><th>lampstat11</th><th>lampname12</th><th>lampstat12</th><th>wavecen</th><th>instrume</th><th>arc</th><th>bias</th><th>dark</th><th>pinhole</th><th>pixelflat</th><th>science</th><th>standard</th><th>trace</th><th>unknown</th><th>failures</th><th>sci_ID</th></tr></thead>\n",
       "<thead><tr><th>str92</th><th>str22</th><th>str11</th><th>str14</th><th>str4</th><th>float64</th><th>str19</th><th>str4</th><th>str11</th><th>str11</th><th>float64</th><th>str4</th><th>str4</th><th>str3</th><th>int64</th><th>str5</th><th>str4</th><th>str6</th><th>str4</th><th>str4</th><th>str8</th><th>str4</th><th>str4</th><th>str4</th><th>str4</th><th>str3</th><th>str8</th><th>float64</th><th>str7</th><th>str3</th><th>str4</th><th>str3</th><th>str5</th><th>str3</th><th>str7</th><th>str3</th><th>str4</th><th>str3</th><th>str7</th><th>str3</th><th>str5</th><th>str3</th><th>str7</th><th>str3</th><th>str9</th><th>str3</th><th>str6</th><th>str3</th><th>str6</th><th>str3</th><th>str7</th><th>str3</th><th>float64</th><th>str13</th><th>bool</th><th>bool</th><th>bool</th><th>bool</th><th>bool</th><th>bool</th><th>bool</th><th>bool</th><th>bool</th><th>bool</th><th>int64</th></tr></thead>\n",
       "<tr><td>/home/xavier/local/Python/PYPIT-development-suite/RAW_DATA/Keck_LRIS_red/long_600_7500_d560/</td><td>LR.20160216.05529.fits</td><td>01:32:09.90</td><td></td><td>dark</td><td>1378417.5361</td><td>2016-02-16T01:32:11</td><td>None</td><td>00:00:00.00</td><td>+00:00:00.0</td><td>1.41294028</td><td>None</td><td>None</td><td>2,2</td><td>1</td><td>clear</td><td>None</td><td>closed</td><td>None</td><td>None</td><td>long_0.7</td><td>None</td><td>None</td><td>None</td><td>None</td><td>560</td><td>600/7500</td><td>27.0812645</td><td>MERCURY</td><td>on</td><td>NEON</td><td>on</td><td>ARGON</td><td>on</td><td>CADMIUM</td><td>on</td><td>ZINC</td><td>on</td><td>KRYPTON</td><td>on</td><td>XENON</td><td>on</td><td>FEARGON</td><td>off</td><td>DEUTERIUM</td><td>off</td><td>FLAMP1</td><td>off</td><td>FLAMP2</td><td>off</td><td>HALOGEN</td><td>off</td><td>7150.0078125</td><td>keck_lris_red</td><td>True</td><td>False</td><td>False</td><td>False</td><td>False</td><td>False</td><td>False</td><td>False</td><td>False</td><td>False</td><td>0</td></tr>\n",
       "<tr><td>/home/xavier/local/Python/PYPIT-development-suite/RAW_DATA/Keck_LRIS_red/long_600_7500_d560/</td><td>LR.20160216.05589.fits</td><td>01:33:09.40</td><td></td><td>dark</td><td>1378417.55263</td><td>2016-02-16T01:33:11</td><td>None</td><td>00:00:00.00</td><td>+00:00:00.0</td><td>1.41294028</td><td>None</td><td>None</td><td>2,2</td><td>1</td><td>clear</td><td>None</td><td>closed</td><td>None</td><td>None</td><td>long_0.7</td><td>None</td><td>None</td><td>None</td><td>None</td><td>560</td><td>600/7500</td><td>27.0812645</td><td>MERCURY</td><td>on</td><td>NEON</td><td>on</td><td>ARGON</td><td>on</td><td>CADMIUM</td><td>on</td><td>ZINC</td><td>on</td><td>KRYPTON</td><td>on</td><td>XENON</td><td>on</td><td>FEARGON</td><td>off</td><td>DEUTERIUM</td><td>off</td><td>FLAMP1</td><td>off</td><td>FLAMP2</td><td>off</td><td>HALOGEN</td><td>off</td><td>7150.0078125</td><td>keck_lris_red</td><td>True</td><td>False</td><td>False</td><td>False</td><td>False</td><td>False</td><td>False</td><td>False</td><td>False</td><td>False</td><td>0</td></tr>\n",
       "<tr><td>/home/xavier/local/Python/PYPIT-development-suite/RAW_DATA/Keck_LRIS_red/long_600_7500_d560/</td><td>LR.20160216.05649.fits</td><td>01:34:09.64</td><td></td><td>dark</td><td>1378417.56936</td><td>2016-02-16T01:34:11</td><td>None</td><td>00:00:00.00</td><td>+00:00:00.0</td><td>1.41294028</td><td>None</td><td>None</td><td>2,2</td><td>1</td><td>clear</td><td>None</td><td>closed</td><td>None</td><td>None</td><td>long_0.7</td><td>None</td><td>None</td><td>None</td><td>None</td><td>560</td><td>600/7500</td><td>27.0812645</td><td>MERCURY</td><td>on</td><td>NEON</td><td>on</td><td>ARGON</td><td>on</td><td>CADMIUM</td><td>on</td><td>ZINC</td><td>on</td><td>KRYPTON</td><td>on</td><td>XENON</td><td>on</td><td>FEARGON</td><td>off</td><td>DEUTERIUM</td><td>off</td><td>FLAMP1</td><td>off</td><td>FLAMP2</td><td>off</td><td>HALOGEN</td><td>off</td><td>7150.0078125</td><td>keck_lris_red</td><td>True</td><td>False</td><td>False</td><td>False</td><td>False</td><td>False</td><td>False</td><td>False</td><td>False</td><td>False</td><td>0</td></tr>\n",
       "<tr><td>/home/xavier/local/Python/PYPIT-development-suite/RAW_DATA/Keck_LRIS_red/long_600_7500_d560/</td><td>LR.20160216.05709.fits</td><td>01:35:09.44</td><td>None</td><td>dark</td><td>1378417.58597</td><td>2016-02-16T01:35:11</td><td>None</td><td>None</td><td>+00:00:00.0</td><td>1.41294028</td><td>None</td><td>None</td><td>2,2</td><td>1</td><td>clear</td><td>None</td><td>closed</td><td>None</td><td>None</td><td>long_0.7</td><td>None</td><td>None</td><td>None</td><td>None</td><td>560</td><td>600/7500</td><td>27.0812645</td><td>MERCURY</td><td>on</td><td>NEON</td><td>on</td><td>ARGON</td><td>on</td><td>CADMIUM</td><td>on</td><td>ZINC</td><td>on</td><td>KRYPTON</td><td>on</td><td>XENON</td><td>on</td><td>FEARGON</td><td>off</td><td>DEUTERIUM</td><td>off</td><td>FLAMP1</td><td>off</td><td>FLAMP2</td><td>off</td><td>HALOGEN</td><td>off</td><td>7150.0078125</td><td>keck_lris_red</td><td>True</td><td>False</td><td>False</td><td>False</td><td>False</td><td>False</td><td>False</td><td>False</td><td>False</td><td>False</td><td>1</td></tr>\n",
       "<tr><td>/home/xavier/local/Python/PYPIT-development-suite/RAW_DATA/Keck_LRIS_red/long_600_7500_d560/</td><td>LR.20160216.07412.fits</td><td>02:03:32.09</td><td>unknown</td><td>dark</td><td>1378418.05894</td><td>2016-02-16T02:03:31</td><td>None</td><td>15:20:00.00</td><td>+45:00:00.0</td><td>1.41309745</td><td>None</td><td>None</td><td>2,2</td><td>0</td><td>clear</td><td>None</td><td>closed</td><td>None</td><td>None</td><td>long_0.7</td><td>None</td><td>None</td><td>None</td><td>None</td><td>560</td><td>600/7500</td><td>27.0812645</td><td>MERCURY</td><td>off</td><td>NEON</td><td>off</td><td>ARGON</td><td>off</td><td>CADMIUM</td><td>off</td><td>ZINC</td><td>off</td><td>KRYPTON</td><td>off</td><td>XENON</td><td>off</td><td>FEARGON</td><td>off</td><td>DEUTERIUM</td><td>off</td><td>FLAMP1</td><td>off</td><td>FLAMP2</td><td>off</td><td>HALOGEN</td><td>off</td><td>7150.0078125</td><td>keck_lris_red</td><td>False</td><td>True</td><td>False</td><td>False</td><td>False</td><td>False</td><td>False</td><td>False</td><td>False</td><td>False</td><td>0</td></tr>\n",
       "</table>"
      ],
      "text/plain": [
       "<Table length=5>\n",
       "                                         directory                                           ...\n",
       "                                           str92                                             ...\n",
       "-------------------------------------------------------------------------------------------- ...\n",
       "/home/xavier/local/Python/PYPIT-development-suite/RAW_DATA/Keck_LRIS_red/long_600_7500_d560/ ...\n",
       "/home/xavier/local/Python/PYPIT-development-suite/RAW_DATA/Keck_LRIS_red/long_600_7500_d560/ ...\n",
       "/home/xavier/local/Python/PYPIT-development-suite/RAW_DATA/Keck_LRIS_red/long_600_7500_d560/ ...\n",
       "/home/xavier/local/Python/PYPIT-development-suite/RAW_DATA/Keck_LRIS_red/long_600_7500_d560/ ...\n",
       "/home/xavier/local/Python/PYPIT-development-suite/RAW_DATA/Keck_LRIS_red/long_600_7500_d560/ ..."
      ]
     },
     "execution_count": 10,
     "metadata": {},
     "output_type": "execute_result"
    }
   ],
   "source": [
    "fitstbl[0:5]"
   ]
  },
  {
   "cell_type": "markdown",
   "metadata": {},
   "source": [
    "## Choose the detector, sci_ID"
   ]
  },
  {
   "cell_type": "code",
   "execution_count": 11,
   "metadata": {
    "collapsed": true
   },
   "outputs": [],
   "source": [
    "det = 2\n",
    "sci_ID = 1\n",
    "setup = 'C_02_aa'"
   ]
  },
  {
   "cell_type": "markdown",
   "metadata": {},
   "source": [
    "##  Calibrations"
   ]
  },
  {
   "cell_type": "markdown",
   "metadata": {},
   "source": [
    "### More settings fussing"
   ]
  },
  {
   "cell_type": "code",
   "execution_count": 12,
   "metadata": {
    "collapsed": true
   },
   "outputs": [],
   "source": [
    "# TODO -- Update/avoid the following with new settings\n",
    "tsettings = settings.argflag.copy()\n",
    "tsettings['detector'] = settings.spect[settings.get_dnum(det)]\n",
    "try:\n",
    "    tsettings['detector']['dataext'] = tsettings['detector']['dataext01']  # Kludge; goofy named key\n",
    "except KeyError: # LRIS, DEIMOS\n",
    "    tsettings['detector']['dataext'] = None\n",
    "tsettings['detector']['dispaxis'] = settings.argflag['trace']['dispersion']['direction']\n",
    "tsettings['detector']['binning'] = fitstbl['binning'][0]\n",
    "\n",
    "# New ones\n",
    "tsettings['masters'] = settings.argflag['reduce']['masters']\n",
    "tsettings['masters']['directory'] = settings.argflag['run']['directory']['master']+'_'+ settings.argflag['run']['spectrograph']\n",
    "tsettings['masters']['setup'] = setup"
   ]
  },
  {
   "cell_type": "markdown",
   "metadata": {},
   "source": [
    "## Instantiate"
   ]
  },
  {
   "cell_type": "code",
   "execution_count": 13,
   "metadata": {
    "collapsed": true
   },
   "outputs": [],
   "source": [
    "reload(calibrations)\n",
    "caliBrate = calibrations.MultiSlitCalibrations(fitstbl, save_masters=False, write_qa=False)"
   ]
  },
  {
   "cell_type": "code",
   "execution_count": 14,
   "metadata": {
    "collapsed": true
   },
   "outputs": [],
   "source": [
    "# Setup for a specific science frame + detector\n",
    "caliBrate.reset(setup, det, sci_ID, tsettings)"
   ]
  },
  {
   "cell_type": "markdown",
   "metadata": {},
   "source": [
    "## Datasec_img"
   ]
  },
  {
   "cell_type": "code",
   "execution_count": 15,
   "metadata": {},
   "outputs": [
    {
     "name": "stderr",
     "output_type": "stream",
     "text": [
      "\u001b[1;32m[INFO]    ::\u001b[0m \u001b[1;34mkeck_lris.py 236 read_lris()\u001b[0m - Reading LRIS file: /home/xavier/local/Python/PYPIT-development-suite/RAW_DATA/Keck_LRIS_red/long_600_7500_d560/LR.20160216.40478.fits\n"
     ]
    }
   ],
   "source": [
    "_ = caliBrate.get_datasec_img()"
   ]
  },
  {
   "cell_type": "markdown",
   "metadata": {},
   "source": [
    "## Bias"
   ]
  },
  {
   "cell_type": "code",
   "execution_count": 16,
   "metadata": {},
   "outputs": [
    {
     "name": "stderr",
     "output_type": "stream",
     "text": [
      "\u001b[1;32m[INFO]    ::\u001b[0m \u001b[1;34mkeck_lris.py 236 read_lris()\u001b[0m - Reading LRIS file: /home/xavier/local/Python/PYPIT-development-suite/RAW_DATA/Keck_LRIS_red/long_600_7500_d560/LR.20160216.07703.fits\n",
      "\u001b[1;32m[INFO]    ::\u001b[0m \u001b[1;34mkeck_lris.py 236 read_lris()\u001b[0m - Reading LRIS file: /home/xavier/local/Python/PYPIT-development-suite/RAW_DATA/Keck_LRIS_red/long_600_7500_d560/LR.20160216.07762.fits\n",
      "\u001b[1;32m[INFO]    ::\u001b[0m \u001b[1;34mkeck_lris.py 236 read_lris()\u001b[0m - Reading LRIS file: /home/xavier/local/Python/PYPIT-development-suite/RAW_DATA/Keck_LRIS_red/long_600_7500_d560/LR.20160216.07820.fits\n",
      "\u001b[1;32m[INFO]    ::\u001b[0m \u001b[1;34mkeck_lris.py 236 read_lris()\u001b[0m - Reading LRIS file: /home/xavier/local/Python/PYPIT-development-suite/RAW_DATA/Keck_LRIS_red/long_600_7500_d560/LR.20160216.07878.fits\n",
      "\u001b[1;32m[INFO]    ::\u001b[0m \u001b[1;34mkeck_lris.py 236 read_lris()\u001b[0m - Reading LRIS file: /home/xavier/local/Python/PYPIT-development-suite/RAW_DATA/Keck_LRIS_red/long_600_7500_d560/LR.20160216.07937.fits\n",
      "\u001b[1;32m[INFO]    ::\u001b[0m \u001b[1;34mkeck_lris.py 236 read_lris()\u001b[0m - Reading LRIS file: /home/xavier/local/Python/PYPIT-development-suite/RAW_DATA/Keck_LRIS_red/long_600_7500_d560/LR.20160216.07703.fits\n",
      "\u001b[1;31m[WARNING] ::\u001b[0m \u001b[1;34mprocessimages.py 376 process()\u001b[0m - Your images have not been bias subtracted!\n",
      "\u001b[1;32m[INFO]    ::\u001b[0m \u001b[1;34marcomb.py 91 core_comb_frames()\u001b[0m - Combining 5 bias frames\n",
      "\u001b[1;30m[WORK IN ]::\u001b[0m\n",
      "\u001b[1;33m[PROGRESS]::\u001b[0m \u001b[1;34marcomb.py 95 core_comb_frames()\u001b[0m - lscomb feature has not been included here yet...\n",
      "\u001b[1;32m[INFO]    ::\u001b[0m \u001b[1;34marcomb.py 130 core_comb_frames()\u001b[0m - Finding saturated and non-linear pixels\n",
      "\u001b[1;32m[INFO]    ::\u001b[0m \u001b[1;34marcomb.py 155 core_comb_frames()\u001b[0m - Rejecting cosmic rays\n",
      "\u001b[1;32m[INFO]    ::\u001b[0m \u001b[1;34marcomb.py 194 core_comb_frames()\u001b[0m - Not rejecting any low/high pixels\n",
      "\u001b[1;32m[INFO]    ::\u001b[0m \u001b[1;34marcomb.py 198 core_comb_frames()\u001b[0m - Rejecting deviant pixels\n",
      "\u001b[1;32m[INFO]    ::\u001b[0m \u001b[1;34marcomb.py 215 core_comb_frames()\u001b[0m - Combining frames with a mean operation\n",
      "\u001b[1;32m[INFO]    ::\u001b[0m \u001b[1;34marcomb.py 227 core_comb_frames()\u001b[0m - Replacing completely masked pixels with the median value of the input frames\n",
      "\u001b[1;32m[INFO]    ::\u001b[0m \u001b[1;34marcomb.py 239 core_comb_frames()\u001b[0m - 5 bias frames combined successfully!\n"
     ]
    }
   ],
   "source": [
    "bias = caliBrate.get_bias()"
   ]
  },
  {
   "cell_type": "code",
   "execution_count": 17,
   "metadata": {
    "collapsed": true
   },
   "outputs": [],
   "source": [
    "caliBrate.show(bias)"
   ]
  },
  {
   "cell_type": "markdown",
   "metadata": {},
   "source": [
    "## Grab the bias again"
   ]
  },
  {
   "cell_type": "code",
   "execution_count": 18,
   "metadata": {
    "scrolled": true
   },
   "outputs": [
    {
     "name": "stderr",
     "output_type": "stream",
     "text": [
      "\u001b[1;32m[INFO]    ::\u001b[0m \u001b[1;34mcalibrations.py 191 get_bias()\u001b[0m - Reloading the bias from the internal dict\n"
     ]
    }
   ],
   "source": [
    "bias = caliBrate.get_bias()"
   ]
  },
  {
   "cell_type": "code",
   "execution_count": 19,
   "metadata": {},
   "outputs": [
    {
     "data": {
      "text/plain": [
       "dict_keys(['bias'])"
      ]
     },
     "execution_count": 19,
     "metadata": {},
     "output_type": "execute_result"
    }
   ],
   "source": [
    "caliBrate.calib_dict[caliBrate.setup].keys()"
   ]
  },
  {
   "cell_type": "markdown",
   "metadata": {},
   "source": [
    "## Try to jump too far ahead"
   ]
  },
  {
   "cell_type": "code",
   "execution_count": 20,
   "metadata": {},
   "outputs": [
    {
     "name": "stderr",
     "output_type": "stream",
     "text": [
      "\u001b[1;31m[WARNING] ::\u001b[0m \u001b[1;34mcalibrations.py 588 _chk_objs()\u001b[0m - You need to generate msarc prior to this calibration..\n",
      "\u001b[1;31m[WARNING] ::\u001b[0m \u001b[1;34mcalibrations.py 597 _chk_objs()\u001b[0m - Use get_arc\n"
     ]
    }
   ],
   "source": [
    "caliBrate.get_wv_calib()"
   ]
  },
  {
   "cell_type": "markdown",
   "metadata": {},
   "source": [
    "## Run them all 'from scratch'"
   ]
  },
  {
   "cell_type": "code",
   "execution_count": 21,
   "metadata": {},
   "outputs": [
    {
     "data": {
      "text/plain": [
       "['datasec_img',\n",
       " 'bias',\n",
       " 'arc',\n",
       " 'bpm',\n",
       " 'pixlocn',\n",
       " 'slits',\n",
       " 'wv_calib',\n",
       " 'tilts',\n",
       " 'pixflatnrm',\n",
       " 'wave']"
      ]
     },
     "execution_count": 21,
     "metadata": {},
     "output_type": "execute_result"
    }
   ],
   "source": [
    "caliBrate.steps"
   ]
  },
  {
   "cell_type": "code",
   "execution_count": 22,
   "metadata": {},
   "outputs": [
    {
     "name": "stderr",
     "output_type": "stream",
     "text": [
      "\u001b[1;32m[INFO]    ::\u001b[0m \u001b[1;34mkeck_lris.py 236 read_lris()\u001b[0m - Reading LRIS file: /home/xavier/local/Python/PYPIT-development-suite/RAW_DATA/Keck_LRIS_red/long_600_7500_d560/LR.20160216.40478.fits\n",
      "\u001b[1;32m[INFO]    ::\u001b[0m \u001b[1;34mcalibrations.py 191 get_bias()\u001b[0m - Reloading the bias from the internal dict\n",
      "\u001b[1;32m[INFO]    ::\u001b[0m \u001b[1;34mcalibrations.py 164 get_arc()\u001b[0m - Preparing a master arc frame\n",
      "\u001b[1;32m[INFO]    ::\u001b[0m \u001b[1;34mkeck_lris.py 236 read_lris()\u001b[0m - Reading LRIS file: /home/xavier/local/Python/PYPIT-development-suite/RAW_DATA/Keck_LRIS_red/long_600_7500_d560/LR.20160216.05709.fits\n",
      "\u001b[1;32m[INFO]    ::\u001b[0m \u001b[1;34mkeck_lris.py 236 read_lris()\u001b[0m - Reading LRIS file: /home/xavier/local/Python/PYPIT-development-suite/RAW_DATA/Keck_LRIS_red/long_600_7500_d560/LR.20160216.05709.fits\n",
      "\u001b[1;32m[INFO]    ::\u001b[0m \u001b[1;34mprocessimages.py 263 bias_subtract()\u001b[0m - Bias subtracting your image(s)\n",
      "\u001b[1;32m[INFO]    ::\u001b[0m \u001b[1;34marprocimg.py 74 bias_subtract()\u001b[0m - Subtracting bias image from raw frame\n",
      "\u001b[1;32m[INFO]    ::\u001b[0m \u001b[1;34mkeck_lris.py 160 bpm()\u001b[0m - Using hard-coded BPM for det=2 on LRISr\n",
      "\u001b[1;32m[INFO]    ::\u001b[0m \u001b[1;34marpixels.py 65 core_gen_pixloc()\u001b[0m - Deriving physical pixel locations on the detector\n",
      "\u001b[1;32m[INFO]    ::\u001b[0m \u001b[1;34marpixels.py 68 core_gen_pixloc()\u001b[0m - Pixel gap in the dispersion direction = 0.000\n",
      "\u001b[1;32m[INFO]    ::\u001b[0m \u001b[1;34marpixels.py 69 core_gen_pixloc()\u001b[0m - Pixel size in the dispersion direction = 1.000\n",
      "\u001b[1;32m[INFO]    ::\u001b[0m \u001b[1;34marpixels.py 72 core_gen_pixloc()\u001b[0m - Pixel gap in the spatial direction = 0.000\n",
      "\u001b[1;32m[INFO]    ::\u001b[0m \u001b[1;34marpixels.py 73 core_gen_pixloc()\u001b[0m - Pixel size in the spatial direction = 1.000\n",
      "\u001b[1;32m[INFO]    ::\u001b[0m \u001b[1;34marpixels.py 78 core_gen_pixloc()\u001b[0m - Saving pixel locations\n",
      "\u001b[1;32m[INFO]    ::\u001b[0m \u001b[1;34mkeck_lris.py 236 read_lris()\u001b[0m - Reading LRIS file: /home/xavier/local/Python/PYPIT-development-suite/RAW_DATA/Keck_LRIS_red/long_600_7500_d560/LR.20160216.14244.fits\n",
      "\u001b[1;32m[INFO]    ::\u001b[0m \u001b[1;34mkeck_lris.py 236 read_lris()\u001b[0m - Reading LRIS file: /home/xavier/local/Python/PYPIT-development-suite/RAW_DATA/Keck_LRIS_red/long_600_7500_d560/LR.20160216.14322.fits\n",
      "\u001b[1;32m[INFO]    ::\u001b[0m \u001b[1;34mkeck_lris.py 236 read_lris()\u001b[0m - Reading LRIS file: /home/xavier/local/Python/PYPIT-development-suite/RAW_DATA/Keck_LRIS_red/long_600_7500_d560/LR.20160216.14399.fits\n",
      "\u001b[1;32m[INFO]    ::\u001b[0m \u001b[1;34mkeck_lris.py 236 read_lris()\u001b[0m - Reading LRIS file: /home/xavier/local/Python/PYPIT-development-suite/RAW_DATA/Keck_LRIS_red/long_600_7500_d560/LR.20160216.14244.fits\n",
      "\u001b[1;32m[INFO]    ::\u001b[0m \u001b[1;34mprocessimages.py 263 bias_subtract()\u001b[0m - Bias subtracting your image(s)\n",
      "\u001b[1;32m[INFO]    ::\u001b[0m \u001b[1;34marprocimg.py 74 bias_subtract()\u001b[0m - Subtracting bias image from raw frame\n",
      "\u001b[1;32m[INFO]    ::\u001b[0m \u001b[1;34marprocimg.py 74 bias_subtract()\u001b[0m - Subtracting bias image from raw frame\n",
      "\u001b[1;32m[INFO]    ::\u001b[0m \u001b[1;34marprocimg.py 74 bias_subtract()\u001b[0m - Subtracting bias image from raw frame\n",
      "\u001b[1;32m[INFO]    ::\u001b[0m \u001b[1;34marcomb.py 91 core_comb_frames()\u001b[0m - Combining 3 trace_image frames\n",
      "\u001b[1;30m[WORK IN ]::\u001b[0m\n",
      "\u001b[1;33m[PROGRESS]::\u001b[0m \u001b[1;34marcomb.py 95 core_comb_frames()\u001b[0m - lscomb feature has not been included here yet...\n",
      "\u001b[1;32m[INFO]    ::\u001b[0m \u001b[1;34marcomb.py 130 core_comb_frames()\u001b[0m - Finding saturated and non-linear pixels\n",
      "\u001b[1;32m[INFO]    ::\u001b[0m \u001b[1;34marcomb.py 155 core_comb_frames()\u001b[0m - Rejecting cosmic rays\n",
      "\u001b[1;32m[INFO]    ::\u001b[0m \u001b[1;34marcomb.py 194 core_comb_frames()\u001b[0m - Not rejecting any low/high pixels\n",
      "\u001b[1;32m[INFO]    ::\u001b[0m \u001b[1;34marcomb.py 198 core_comb_frames()\u001b[0m - Rejecting deviant pixels\n",
      "\u001b[1;32m[INFO]    ::\u001b[0m \u001b[1;34marcomb.py 215 core_comb_frames()\u001b[0m - Combining frames with a weightmean operation\n",
      "\u001b[1;32m[INFO]    ::\u001b[0m \u001b[1;34marcomb.py 227 core_comb_frames()\u001b[0m - Replacing completely masked pixels with the maxnonsat value of the input frames\n",
      "\u001b[1;32m[INFO]    ::\u001b[0m \u001b[1;34marcomb.py 239 core_comb_frames()\u001b[0m - 3 trace_image frames combined successfully!\n",
      "\u001b[1;31m[WARNING] ::\u001b[0m \u001b[1;34marprocimg.py 404 gain_frame()\u001b[0m - Should probably be measuring the gain across the amplifier boundary\n",
      "\u001b[1;32m[INFO]    ::\u001b[0m \u001b[1;34martraceslits.py 820 edgearr_from_binarr()\u001b[0m - Detecting slit edges in the mstrace image\n",
      "\u001b[1;32m[INFO]    ::\u001b[0m \u001b[1;34martraceslits.py 881 edgearr_from_binarr()\u001b[0m - Applying bad pixel mask\n",
      "\u001b[1;32m[INFO]    ::\u001b[0m \u001b[1;34martraceslits.py 939 edgearr_add_left_right()\u001b[0m - 1 left edge and 1 right edge were found in the trace\n",
      "\u001b[1;32m[INFO]    ::\u001b[0m \u001b[1;34martraceslits.py 965 edgearr_add_left_right()\u001b[0m - Assigning slit edge traces\n",
      "\u001b[1;32m[INFO]    ::\u001b[0m \u001b[1;34mtraceslits.py 363 _assign_edges()\u001b[0m - Assigning left slit edges\n",
      "\u001b[1;32m[INFO]    ::\u001b[0m \u001b[1;34mtraceslits.py 369 _assign_edges()\u001b[0m - Assigning right slit edges\n",
      "\u001b[1;32m[INFO]    ::\u001b[0m \u001b[1;34martraceslits.py 1166 edgearr_final_left_right()\u001b[0m - 1 left edge and 1 right edge were found in the trace\n",
      "\u001b[1;32m[INFO]    ::\u001b[0m \u001b[1;34martraceslits.py 568 edgearr_tcrude()\u001b[0m - Crude tracing the edges\n",
      "\u001b[1;32m[INFO]    ::\u001b[0m \u001b[1;34martraceslits.py 1317 fit_edges()\u001b[0m - Fitting left slit traces\n",
      "\u001b[1;32m[INFO]    ::\u001b[0m \u001b[1;34martraceslits.py 1319 fit_edges()\u001b[0m - Fitting right slit traces\n",
      "\u001b[1;32m[INFO]    ::\u001b[0m \u001b[1;34mtraceslits.py 392 _chk_for_longslit()\u001b[0m - Only one slit was identified. Should be a longslit.\n",
      "\u001b[1;32m[INFO]    ::\u001b[0m \u001b[1;34mtraceslits.py 521 _make_pixel_arrays()\u001b[0m - Converting physical trace locations to nearest pixel\n",
      "\u001b[1;32m[INFO]    ::\u001b[0m \u001b[1;34mtraceslits.py 528 _make_pixel_arrays()\u001b[0m - Identifying the pixels belonging to each slit\n",
      "\u001b[1;32m[INFO]    ::\u001b[0m \u001b[1;34mararc.py 113 get_censpec()\u001b[0m - Extracting an approximate arc spectrum at the centre of each slit\n",
      "\u001b[1;32m[INFO]    ::\u001b[0m \u001b[1;34mararc.py 67 setup_param()\u001b[0m - Loading line list using ArI,NeI,HgI,KrI,XeI lamps\n",
      "\u001b[1;32m[INFO]    ::\u001b[0m \u001b[1;34mararclines.py 68 load_arcline_list()\u001b[0m - Rejecting select ArI lines\n",
      "\u001b[1;31m[WARNING] ::\u001b[0m \u001b[1;34mararclines.py 100 reject_lines()\u001b[0m - Am not sure this method does anything for real -- JXP 03-Jul-2018\n",
      "\u001b[1;32m[INFO]    ::\u001b[0m \u001b[1;34mararclines.py 68 load_arcline_list()\u001b[0m - Rejecting select NeI lines\n",
      "\u001b[1;31m[WARNING] ::\u001b[0m \u001b[1;34mararclines.py 100 reject_lines()\u001b[0m - Am not sure this method does anything for real -- JXP 03-Jul-2018\n",
      "\u001b[1;32m[INFO]    ::\u001b[0m \u001b[1;34mararclines.py 68 load_arcline_list()\u001b[0m - Rejecting select HgI lines\n",
      "\u001b[1;31m[WARNING] ::\u001b[0m \u001b[1;34mararclines.py 100 reject_lines()\u001b[0m - Am not sure this method does anything for real -- JXP 03-Jul-2018\n",
      "\u001b[1;32m[INFO]    ::\u001b[0m \u001b[1;34mararclines.py 76 load_arcline_list()\u001b[0m - Cutting down line list by wvmnx: 2900,11000\n"
     ]
    },
    {
     "name": "stdout",
     "output_type": "stream",
     "text": [
      "---------------------------------------------------\n",
      "Report:\n",
      "::   Number of lines recovered    = 83\n",
      "::   Number of lines analyzed     = 83\n",
      "::   Number of acceptable matches = 81\n",
      "::   Best central wavelength      = 7174.84A\n",
      "::   Best dispersion              = 1.59706A/pix\n",
      "::   Best solution used pix_tol   = 1.0\n",
      "::   Best solution had unknown    = True\n",
      "---------------------------------------------------\n"
     ]
    },
    {
     "name": "stderr",
     "output_type": "stream",
     "text": [
      "\u001b[1;32m[INFO]    ::\u001b[0m \u001b[1;34mararc.py 113 get_censpec()\u001b[0m - Extracting an approximate arc spectrum at the centre of each slit\n",
      "\u001b[1;30m[WORK IN ]::\u001b[0m\n",
      "\u001b[1;33m[PROGRESS]::\u001b[0m \u001b[1;34martracewave.py 205 trace_tilt()\u001b[0m - Detecting lines for slit 1\n",
      "\u001b[1;32m[INFO]    ::\u001b[0m \u001b[1;34mararc.py 206 detect_lines()\u001b[0m - Detecting lines\n",
      "\u001b[1;32m[INFO]    ::\u001b[0m \u001b[1;34mararc.py 217 detect_lines()\u001b[0m - Detecting the strongest, nonsaturated lines\n",
      "\u001b[1;32m[INFO]    ::\u001b[0m \u001b[1;34martracewave.py 264 trace_tilt()\u001b[0m - Modelling arc line tilts with 51 arc lines\n",
      "\u001b[1;30m[WORK IN ]::\u001b[0m\n",
      "\u001b[1;33m[PROGRESS]::\u001b[0m \u001b[1;34martracewave.py 270 trace_tilt()\u001b[0m - This next step could be multiprocessed to speed up the reduction\n",
      "\u001b[1;32m[INFO]    ::\u001b[0m \u001b[1;34martracewave.py 444 trace_tilt()\u001b[0m - Completed spectral tilt tracing\n",
      "\u001b[1;31m[WARNING] ::\u001b[0m \u001b[1;34mwavetilts.py 192 _analyze_lines()\u001b[0m - There were 13 additional arc lines that should have been traced\n",
      "             (perhaps lines were saturated?). Check the spectral tilt solution\n",
      "\u001b[1;32m[INFO]    ::\u001b[0m \u001b[1;34martracewave.py 778 fit_tilts()\u001b[0m - Fitting tilts with a low order, 2D legendre\n",
      "\u001b[1;30m[WORK IN ]::\u001b[0m\n",
      "\u001b[1;33m[PROGRESS]::\u001b[0m \u001b[1;34marutils.py 754 polyfit2d_general()\u001b[0m - Generalize to different polynomial types\n",
      "\u001b[1;32m[INFO]    ::\u001b[0m \u001b[1;34martracewave.py 797 fit_tilts()\u001b[0m - RMS (pixels): 0.004507755823045505\n",
      "\u001b[1;32m[INFO]    ::\u001b[0m \u001b[1;34mkeck_lris.py 236 read_lris()\u001b[0m - Reading LRIS file: /home/xavier/local/Python/PYPIT-development-suite/RAW_DATA/Keck_LRIS_red/long_600_7500_d560/LR.20160216.14244.fits\n",
      "\u001b[1;32m[INFO]    ::\u001b[0m \u001b[1;34mkeck_lris.py 236 read_lris()\u001b[0m - Reading LRIS file: /home/xavier/local/Python/PYPIT-development-suite/RAW_DATA/Keck_LRIS_red/long_600_7500_d560/LR.20160216.14322.fits\n",
      "\u001b[1;32m[INFO]    ::\u001b[0m \u001b[1;34mkeck_lris.py 236 read_lris()\u001b[0m - Reading LRIS file: /home/xavier/local/Python/PYPIT-development-suite/RAW_DATA/Keck_LRIS_red/long_600_7500_d560/LR.20160216.14399.fits\n",
      "\u001b[1;32m[INFO]    ::\u001b[0m \u001b[1;34mkeck_lris.py 236 read_lris()\u001b[0m - Reading LRIS file: /home/xavier/local/Python/PYPIT-development-suite/RAW_DATA/Keck_LRIS_red/long_600_7500_d560/LR.20160216.14244.fits\n",
      "\u001b[1;32m[INFO]    ::\u001b[0m \u001b[1;34mprocessimages.py 263 bias_subtract()\u001b[0m - Bias subtracting your image(s)\n",
      "\u001b[1;32m[INFO]    ::\u001b[0m \u001b[1;34marprocimg.py 74 bias_subtract()\u001b[0m - Subtracting bias image from raw frame\n",
      "\u001b[1;32m[INFO]    ::\u001b[0m \u001b[1;34marprocimg.py 74 bias_subtract()\u001b[0m - Subtracting bias image from raw frame\n",
      "\u001b[1;32m[INFO]    ::\u001b[0m \u001b[1;34marprocimg.py 74 bias_subtract()\u001b[0m - Subtracting bias image from raw frame\n",
      "\u001b[1;32m[INFO]    ::\u001b[0m \u001b[1;34marcomb.py 91 core_comb_frames()\u001b[0m - Combining 3 pixelflat frames\n",
      "\u001b[1;30m[WORK IN ]::\u001b[0m\n",
      "\u001b[1;33m[PROGRESS]::\u001b[0m \u001b[1;34marcomb.py 95 core_comb_frames()\u001b[0m - lscomb feature has not been included here yet...\n",
      "\u001b[1;32m[INFO]    ::\u001b[0m \u001b[1;34marcomb.py 130 core_comb_frames()\u001b[0m - Finding saturated and non-linear pixels\n",
      "\u001b[1;32m[INFO]    ::\u001b[0m \u001b[1;34marcomb.py 155 core_comb_frames()\u001b[0m - Rejecting cosmic rays\n",
      "\u001b[1;32m[INFO]    ::\u001b[0m \u001b[1;34marcomb.py 194 core_comb_frames()\u001b[0m - Not rejecting any low/high pixels\n",
      "\u001b[1;32m[INFO]    ::\u001b[0m \u001b[1;34marcomb.py 198 core_comb_frames()\u001b[0m - Rejecting deviant pixels\n",
      "\u001b[1;32m[INFO]    ::\u001b[0m \u001b[1;34marcomb.py 215 core_comb_frames()\u001b[0m - Combining frames with a weightmean operation\n",
      "\u001b[1;32m[INFO]    ::\u001b[0m \u001b[1;34marcomb.py 227 core_comb_frames()\u001b[0m - Replacing completely masked pixels with the maxnonsat value of the input frames\n",
      "\u001b[1;32m[INFO]    ::\u001b[0m \u001b[1;34marcomb.py 239 core_comb_frames()\u001b[0m - 3 pixelflat frames combined successfully!\n",
      "\u001b[1;31m[WARNING] ::\u001b[0m \u001b[1;34marprocimg.py 404 gain_frame()\u001b[0m - Should probably be measuring the gain across the amplifier boundary\n",
      "\u001b[1;32m[INFO]    ::\u001b[0m \u001b[1;34mflatfield.py 297 run()\u001b[0m - Setting pixels outside of slits to 1. in the flat.\n"
     ]
    }
   ],
   "source": [
    "caliBrate.run_the_steps()"
   ]
  },
  {
   "cell_type": "code",
   "execution_count": 23,
   "metadata": {
    "collapsed": true
   },
   "outputs": [],
   "source": [
    "caliBrate.show(caliBrate.mswave)"
   ]
  },
  {
   "cell_type": "code",
   "execution_count": null,
   "metadata": {
    "collapsed": true
   },
   "outputs": [],
   "source": []
  }
 ],
 "metadata": {
  "kernelspec": {
   "display_name": "Python 3",
   "language": "python",
   "name": "python3"
  },
  "language_info": {
   "codemirror_mode": {
    "name": "ipython",
    "version": 3
   },
   "file_extension": ".py",
   "mimetype": "text/x-python",
   "name": "python",
   "nbconvert_exporter": "python",
   "pygments_lexer": "ipython3",
   "version": "3.6.3"
  }
 },
 "nbformat": 4,
 "nbformat_minor": 2
}
