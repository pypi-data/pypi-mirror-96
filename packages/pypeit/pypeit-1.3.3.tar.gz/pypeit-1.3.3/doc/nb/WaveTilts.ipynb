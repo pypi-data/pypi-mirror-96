{
 "cells": [
  {
   "cell_type": "markdown",
   "metadata": {},
   "source": [
    "# WaveTilts Class [v2.1]"
   ]
  },
  {
   "cell_type": "code",
   "execution_count": 1,
   "metadata": {
    "collapsed": true
   },
   "outputs": [],
   "source": [
    "%matplotlib inline"
   ]
  },
  {
   "cell_type": "code",
   "execution_count": 2,
   "metadata": {
    "collapsed": true
   },
   "outputs": [],
   "source": [
    "# imports\n",
    "import os\n",
    "import numpy as np\n",
    "from importlib import reload\n",
    "\n",
    "from astropy.table import Table\n",
    "\n",
    "from pypit import wavetilts"
   ]
  },
  {
   "cell_type": "code",
   "execution_count": 3,
   "metadata": {
    "collapsed": true
   },
   "outputs": [],
   "source": [
    "# Path to PYPIT-Development-suite\n",
    "pypdev_path = os.getenv('PYPIT_DEV')"
   ]
  },
  {
   "cell_type": "markdown",
   "metadata": {},
   "source": [
    "# Users"
   ]
  },
  {
   "cell_type": "markdown",
   "metadata": {},
   "source": [
    "## We recommend you use the pypit_chk_tilts script to view the outputs and the QA to check the RMS residuals\n",
    "\n",
    "### Here are a few of examples\n",
    "\n",
    "        pypit_chk_tilts fweight A_01_aa --slit 0\n",
    "        pypit_chk_tilts model A_01_aa --slit 0\n",
    "        pypit_chk_tilts tilts A_01_aa --slit 0"
   ]
  },
  {
   "cell_type": "markdown",
   "metadata": {},
   "source": [
    "----\n",
    "\n",
    "# Development"
   ]
  },
  {
   "cell_type": "code",
   "execution_count": 4,
   "metadata": {
    "collapsed": true
   },
   "outputs": [],
   "source": [
    "from pypit import traceslits\n",
    "from pypit import arcimage"
   ]
  },
  {
   "cell_type": "markdown",
   "metadata": {},
   "source": [
    "## Load up required MasterFrames"
   ]
  },
  {
   "cell_type": "code",
   "execution_count": 5,
   "metadata": {
    "collapsed": true
   },
   "outputs": [],
   "source": [
    "settings = dict(masters={})\n",
    "settings['masters']['directory'] = pypdev_path+'/Cooked/MF_shane_kast_blue'\n",
    "settings['masters']['reuse'] = True"
   ]
  },
  {
   "cell_type": "code",
   "execution_count": 6,
   "metadata": {
    "collapsed": true
   },
   "outputs": [],
   "source": [
    "setup = 'A_01_aa'"
   ]
  },
  {
   "cell_type": "markdown",
   "metadata": {},
   "source": [
    "### MasterArc"
   ]
  },
  {
   "cell_type": "code",
   "execution_count": 7,
   "metadata": {},
   "outputs": [
    {
     "name": "stderr",
     "output_type": "stream",
     "text": [
      "\u001b[1;31m[WARNING] ::\u001b[0m \u001b[1;34mprocessimages.py 97 __init__()\u001b[0m - No information on the spectrograph was given.  Do not attempt to (re)process the images\n",
      "\u001b[1;32m[INFO]    ::\u001b[0m \u001b[1;34marmasters.py 241 _load()\u001b[0m - Loading a pre-existing master calibration frame\n"
     ]
    }
   ],
   "source": [
    "AImg = arcimage.ArcImage(setup=setup, settings=settings)\n",
    "msarc, header, _ = AImg.load_master_frame()"
   ]
  },
  {
   "cell_type": "markdown",
   "metadata": {},
   "source": [
    "### TraceSlits"
   ]
  },
  {
   "cell_type": "code",
   "execution_count": 8,
   "metadata": {
    "scrolled": true
   },
   "outputs": [
    {
     "name": "stderr",
     "output_type": "stream",
     "text": [
      "\u001b[1;32m[INFO]    ::\u001b[0m \u001b[1;34mtraceslits.py 207 from_master_files()\u001b[0m - Loading BPM from /home/xavier/local/Python/PYPIT-development-suite//Cooked/MF_shane_kast_blue/MasterTrace_A_01_aa.fits.gz\n",
      "\u001b[1;32m[INFO]    ::\u001b[0m \u001b[1;34mtraceslits.py 518 _make_pixel_arrays()\u001b[0m - Converting physical trace locations to nearest pixel\n",
      "\u001b[1;32m[INFO]    ::\u001b[0m \u001b[1;34mtraceslits.py 525 _make_pixel_arrays()\u001b[0m - Identifying the pixels belonging to each slit\n"
     ]
    }
   ],
   "source": [
    "TSlits = traceslits.TraceSlits.from_master_files(settings['masters']['directory']+'/MasterTrace_A_01_aa')\n",
    "TSlits._make_pixel_arrays()"
   ]
  },
  {
   "cell_type": "markdown",
   "metadata": {},
   "source": [
    "----"
   ]
  },
  {
   "cell_type": "markdown",
   "metadata": {},
   "source": [
    "## Init WaveTilts"
   ]
  },
  {
   "cell_type": "code",
   "execution_count": 9,
   "metadata": {},
   "outputs": [
    {
     "name": "stderr",
     "output_type": "stream",
     "text": [
      "\u001b[1;31m[WARNING] ::\u001b[0m \u001b[1;34mmasterframe.py 57 __init__()\u001b[0m - MasterFrame class not fully loaded (e.g. no masters in settings).  Avoid using Master methods\n"
     ]
    }
   ],
   "source": [
    "reload(wavetilts)\n",
    "settings_det = dict(det01={'saturation': 60000., 'nonlinear': 0.9})\n",
    "waveTilts = wavetilts.WaveTilts(msarc, det=1, setup=setup, rordloc=TSlits.rcen, lordloc=TSlits.lcen, \n",
    "                             pixlocn=TSlits.pixlocn, pixcen=TSlits.pixcen, settings_det=settings_det)"
   ]
  },
  {
   "cell_type": "markdown",
   "metadata": {},
   "source": [
    "## Extract arcs -- Requires msarc and slit info"
   ]
  },
  {
   "cell_type": "code",
   "execution_count": 10,
   "metadata": {},
   "outputs": [
    {
     "name": "stderr",
     "output_type": "stream",
     "text": [
      "\u001b[1;32m[INFO]    ::\u001b[0m \u001b[1;34mararc.py 85 get_censpec()\u001b[0m - Extracting an approximate arc spectrum at the centre of each slit\n"
     ]
    }
   ],
   "source": [
    "arccen, maskslits = waveTilts._extract_arcs()"
   ]
  },
  {
   "cell_type": "code",
   "execution_count": 11,
   "metadata": {},
   "outputs": [
    {
     "data": {
      "text/plain": [
       "(2048, 1)"
      ]
     },
     "execution_count": 11,
     "metadata": {},
     "output_type": "execute_result"
    }
   ],
   "source": [
    "arccen.shape"
   ]
  },
  {
   "cell_type": "markdown",
   "metadata": {},
   "source": [
    "## Tilts in this slit"
   ]
  },
  {
   "cell_type": "code",
   "execution_count": 12,
   "metadata": {
    "collapsed": true
   },
   "outputs": [],
   "source": [
    "slit=0"
   ]
  },
  {
   "cell_type": "code",
   "execution_count": 13,
   "metadata": {},
   "outputs": [
    {
     "name": "stderr",
     "output_type": "stream",
     "text": [
      "\u001b[1;30m[WORK IN ]::\u001b[0m\n",
      "\u001b[1;33m[PROGRESS]::\u001b[0m \u001b[1;34martracewave.py 205 trace_tilt()\u001b[0m - Detecting lines for slit 1\n",
      "\u001b[1;32m[INFO]    ::\u001b[0m \u001b[1;34mararc.py 177 detect_lines()\u001b[0m - Detecting lines\n",
      "\u001b[1;32m[INFO]    ::\u001b[0m \u001b[1;34mararc.py 203 detect_lines()\u001b[0m - Detecting the strongest, nonsaturated lines\n",
      "\u001b[1;32m[INFO]    ::\u001b[0m \u001b[1;34martracewave.py 263 trace_tilt()\u001b[0m - Modelling arc line tilts with 13 arc lines\n",
      "\u001b[1;30m[WORK IN ]::\u001b[0m\n",
      "\u001b[1;33m[PROGRESS]::\u001b[0m \u001b[1;34martracewave.py 269 trace_tilt()\u001b[0m - This next step could be multiprocessed to speed up the reduction\n",
      "\u001b[1;32m[INFO]    ::\u001b[0m \u001b[1;34martracewave.py 467 trace_tilt()\u001b[0m - Completed spectral tilt tracing\n"
     ]
    }
   ],
   "source": [
    "waveTilts.settings['tilts']['trthrsh'] = 500.  # Lowers the thershold amplitude of the arc lines used\n",
    "\n",
    "trcdict = waveTilts._trace_tilts(slit)"
   ]
  },
  {
   "cell_type": "markdown",
   "metadata": {
    "collapsed": true
   },
   "source": [
    "### Show"
   ]
  },
  {
   "cell_type": "code",
   "execution_count": 14,
   "metadata": {
    "collapsed": true
   },
   "outputs": [],
   "source": [
    "waveTilts.show('sslit', slit=slit)"
   ]
  },
  {
   "cell_type": "markdown",
   "metadata": {},
   "source": [
    "## Analyze the tilt traces in a single slit"
   ]
  },
  {
   "cell_type": "code",
   "execution_count": 15,
   "metadata": {
    "collapsed": true
   },
   "outputs": [],
   "source": [
    "waveTilts.settings['tilts']['order'] = 3"
   ]
  },
  {
   "cell_type": "code",
   "execution_count": 16,
   "metadata": {},
   "outputs": [
    {
     "data": {
      "text/plain": [
       "0"
      ]
     },
     "execution_count": 16,
     "metadata": {},
     "output_type": "execute_result"
    }
   ],
   "source": [
    "badrows = waveTilts._analyze_lines(slit)\n",
    "badrows"
   ]
  },
  {
   "cell_type": "code",
   "execution_count": 17,
   "metadata": {
    "collapsed": true
   },
   "outputs": [],
   "source": [
    "waveTilts.show('model', slit=slit)"
   ]
  },
  {
   "cell_type": "markdown",
   "metadata": {},
   "source": [
    "## Fit Tilts"
   ]
  },
  {
   "cell_type": "code",
   "execution_count": 18,
   "metadata": {},
   "outputs": [
    {
     "data": {
      "text/plain": [
       "array([  43,  168,  202,  245,  259,  496,  637,  658,  689,  804,  948,\n",
       "        956,  967,  996, 1020, 1077, 1222, 1259, 1274, 1307, 1389, 1503,\n",
       "       1590, 1655, 1718, 1998])"
      ]
     },
     "execution_count": 18,
     "metadata": {},
     "output_type": "execute_result"
    }
   ],
   "source": [
    "waveTilts.all_trcdict[0]['arcdet']"
   ]
  },
  {
   "cell_type": "code",
   "execution_count": 19,
   "metadata": {
    "collapsed": true
   },
   "outputs": [],
   "source": [
    "#mtilt = waveTilts.all_tilts[3]\n",
    "#mtilt[:,0] * (waveTilts.msarc.shape[0]-1)"
   ]
  },
  {
   "cell_type": "code",
   "execution_count": 20,
   "metadata": {
    "collapsed": true
   },
   "outputs": [],
   "source": [
    "waveTilts.settings['tilts']['yorder'] = 4\n",
    "waveTilts.settings['tilts']['func2D'] = 'legendre'"
   ]
  },
  {
   "cell_type": "code",
   "execution_count": 21,
   "metadata": {},
   "outputs": [
    {
     "name": "stderr",
     "output_type": "stream",
     "text": [
      "\u001b[1;32m[INFO]    ::\u001b[0m \u001b[1;34martracewave.py 808 fit_tilts()\u001b[0m - Fitting tilts with a low order, 2D legendre\n",
      "\u001b[1;30m[WORK IN ]::\u001b[0m\n",
      "\u001b[1;33m[PROGRESS]::\u001b[0m \u001b[1;34marutils.py 631 polyfit2d_general()\u001b[0m - Generalize to different polynomial types\n",
      "\u001b[1;32m[INFO]    ::\u001b[0m \u001b[1;34martracewave.py 824 fit_tilts()\u001b[0m - RMS (pixels): 0.005149363478861173\n"
     ]
    },
    {
     "data": {
      "image/png": "[encoded data removed]",
      "text/plain": [
       "<matplotlib.figure.Figure at 0x7f248fbca748>"
      ]
     },
     "metadata": {},
     "output_type": "display_data"
    }
   ],
   "source": [
    "polytilts = waveTilts._fit_tilts(slit, show_QA=True)"
   ]
  },
  {
   "cell_type": "markdown",
   "metadata": {},
   "source": [
    "### Show image"
   ]
  },
  {
   "cell_type": "code",
   "execution_count": 22,
   "metadata": {
    "collapsed": true
   },
   "outputs": [],
   "source": [
    "waveTilts.show('tilt_img' )"
   ]
  },
  {
   "cell_type": "markdown",
   "metadata": {},
   "source": [
    "### Show on arc lines"
   ]
  },
  {
   "cell_type": "code",
   "execution_count": 23,
   "metadata": {},
   "outputs": [
    {
     "name": "stderr",
     "output_type": "stream",
     "text": [
      "\u001b[1;31m[WARNING] ::\u001b[0m \u001b[1;34mwavetilts.py 402 show()\u001b[0m - Display via tilts is not exact\n"
     ]
    }
   ],
   "source": [
    "waveTilts.show('tilts', slit=slit)"
   ]
  },
  {
   "cell_type": "markdown",
   "metadata": {},
   "source": [
    "## Save"
   ]
  },
  {
   "cell_type": "code",
   "execution_count": 24,
   "metadata": {
    "collapsed": true
   },
   "outputs": [],
   "source": [
    "waveTilts.final_tilts = waveTilts.tilts"
   ]
  },
  {
   "cell_type": "code",
   "execution_count": 25,
   "metadata": {
    "collapsed": true
   },
   "outputs": [],
   "source": [
    "waveTilts.save_master(outfile='tmp.fits')"
   ]
  },
  {
   "cell_type": "markdown",
   "metadata": {
    "collapsed": true
   },
   "source": [
    "----"
   ]
  },
  {
   "cell_type": "markdown",
   "metadata": {},
   "source": [
    "# DEIMOS long-slit"
   ]
  },
  {
   "cell_type": "code",
   "execution_count": 26,
   "metadata": {
    "collapsed": true
   },
   "outputs": [],
   "source": [
    "from pypit import traceslits\n",
    "from pypit import arcimage"
   ]
  },
  {
   "cell_type": "code",
   "execution_count": 27,
   "metadata": {
    "collapsed": true
   },
   "outputs": [],
   "source": [
    "# Master frames\n",
    "settings = dict(masters={})\n",
    "settings['masters']['directory'] = pypdev_path+'/REDUX_OUT/Keck_DEIMOS/830G_L/MF_keck_deimos'\n",
    "settings['masters']['reuse'] = True\n",
    "setup = 'A_07_aa'"
   ]
  },
  {
   "cell_type": "code",
   "execution_count": 28,
   "metadata": {},
   "outputs": [
    {
     "name": "stderr",
     "output_type": "stream",
     "text": [
      "\u001b[1;31m[WARNING] ::\u001b[0m \u001b[1;34mprocessimages.py 97 __init__()\u001b[0m - No information on the spectrograph was given.  Do not attempt to (re)process the images\n",
      "\u001b[1;32m[INFO]    ::\u001b[0m \u001b[1;34marmasters.py 241 _load()\u001b[0m - Loading a pre-existing master calibration frame\n",
      "\u001b[1;32m[INFO]    ::\u001b[0m \u001b[1;34mtraceslits.py 207 from_master_files()\u001b[0m - Loading BPM from /home/xavier/local/Python/PYPIT-development-suite//REDUX_OUT/Keck_DEIMOS/830G_L/MF_keck_deimos/MasterTrace_A_07_aa.fits.gz\n",
      "\u001b[1;32m[INFO]    ::\u001b[0m \u001b[1;34mtraceslits.py 518 _make_pixel_arrays()\u001b[0m - Converting physical trace locations to nearest pixel\n",
      "\u001b[1;32m[INFO]    ::\u001b[0m \u001b[1;34mtraceslits.py 525 _make_pixel_arrays()\u001b[0m - Identifying the pixels belonging to each slit\n"
     ]
    }
   ],
   "source": [
    "AImg = arcimage.ArcImage(setup=setup, settings=settings)\n",
    "msarc, header, _ = AImg.load_master_frame()\n",
    "#\n",
    "TSlits = traceslits.TraceSlits.from_master_files(settings['masters']['directory']+'/MasterTrace_A_07_aa')\n",
    "TSlits._make_pixel_arrays()"
   ]
  },
  {
   "cell_type": "markdown",
   "metadata": {},
   "source": [
    "----"
   ]
  },
  {
   "cell_type": "markdown",
   "metadata": {},
   "source": [
    "## DEIMOS BEGINS HERE"
   ]
  },
  {
   "cell_type": "markdown",
   "metadata": {},
   "source": [
    "### Instantiate"
   ]
  },
  {
   "cell_type": "code",
   "execution_count": 29,
   "metadata": {},
   "outputs": [
    {
     "name": "stderr",
     "output_type": "stream",
     "text": [
      "\u001b[1;31m[WARNING] ::\u001b[0m \u001b[1;34mmasterframe.py 57 __init__()\u001b[0m - MasterFrame class not fully loaded (e.g. no masters in settings).  Avoid using Master methods\n"
     ]
    }
   ],
   "source": [
    "reload(wavetilts)\n",
    "settings_det = dict(det07={'saturation': 60000., 'nonlinear': 0.9})\n",
    "wTiltD = wavetilts.WaveTilts(msarc, det=7, setup=setup, rordloc=TSlits.rcen, lordloc=TSlits.lcen, \n",
    "                             pixlocn=TSlits.pixlocn, pixcen=TSlits.pixcen, settings_det=settings_det)"
   ]
  },
  {
   "cell_type": "markdown",
   "metadata": {},
   "source": [
    "### Extract"
   ]
  },
  {
   "cell_type": "code",
   "execution_count": 30,
   "metadata": {},
   "outputs": [
    {
     "name": "stderr",
     "output_type": "stream",
     "text": [
      "\u001b[1;32m[INFO]    ::\u001b[0m \u001b[1;34mararc.py 85 get_censpec()\u001b[0m - Extracting an approximate arc spectrum at the centre of each slit\n"
     ]
    }
   ],
   "source": [
    "arccen, maskslits = wTiltD._extract_arcs()"
   ]
  },
  {
   "cell_type": "markdown",
   "metadata": {},
   "source": [
    "### Trace"
   ]
  },
  {
   "cell_type": "code",
   "execution_count": 31,
   "metadata": {
    "collapsed": true
   },
   "outputs": [],
   "source": [
    "slit=0\n",
    "wTiltD.settings['tilts']['trthrsh'] = 400."
   ]
  },
  {
   "cell_type": "code",
   "execution_count": 32,
   "metadata": {},
   "outputs": [
    {
     "name": "stderr",
     "output_type": "stream",
     "text": [
      "\u001b[1;30m[WORK IN ]::\u001b[0m\n",
      "\u001b[1;33m[PROGRESS]::\u001b[0m \u001b[1;34martracewave.py 205 trace_tilt()\u001b[0m - Detecting lines for slit 1\n",
      "\u001b[1;32m[INFO]    ::\u001b[0m \u001b[1;34mararc.py 177 detect_lines()\u001b[0m - Detecting lines\n",
      "\u001b[1;32m[INFO]    ::\u001b[0m \u001b[1;34mararc.py 203 detect_lines()\u001b[0m - Detecting the strongest, nonsaturated lines\n",
      "\u001b[1;32m[INFO]    ::\u001b[0m \u001b[1;34martracewave.py 263 trace_tilt()\u001b[0m - Modelling arc line tilts with 28 arc lines\n",
      "\u001b[1;30m[WORK IN ]::\u001b[0m\n",
      "\u001b[1;33m[PROGRESS]::\u001b[0m \u001b[1;34martracewave.py 269 trace_tilt()\u001b[0m - This next step could be multiprocessed to speed up the reduction\n",
      "\u001b[1;32m[INFO]    ::\u001b[0m \u001b[1;34martracewave.py 467 trace_tilt()\u001b[0m - Completed spectral tilt tracing\n"
     ]
    }
   ],
   "source": [
    "# Trace tilts\n",
    "trcdict = wTiltD._trace_tilts(slit)"
   ]
  },
  {
   "cell_type": "code",
   "execution_count": 33,
   "metadata": {
    "collapsed": true
   },
   "outputs": [],
   "source": [
    "waveTilts.show('sslit', slit=slit)"
   ]
  },
  {
   "cell_type": "markdown",
   "metadata": {},
   "source": [
    "### Analyze tilts"
   ]
  },
  {
   "cell_type": "code",
   "execution_count": 34,
   "metadata": {},
   "outputs": [
    {
     "name": "stderr",
     "output_type": "stream",
     "text": [
      "\u001b[1;31m[WARNING] ::\u001b[0m \u001b[1;34mwavetilts.py 151 _analyze_lines()\u001b[0m - There were 2 additional arc lines that should have been traced\n",
      "             (perhaps lines were saturated?). Check the spectral tilt solution\n"
     ]
    },
    {
     "data": {
      "text/plain": [
       "2"
      ]
     },
     "execution_count": 34,
     "metadata": {},
     "output_type": "execute_result"
    }
   ],
   "source": [
    "waveTilts.settings['tilts']['order'] = 3\n",
    "badrows = wTiltD._analyze_lines(slit)\n",
    "badrows"
   ]
  },
  {
   "cell_type": "code",
   "execution_count": 35,
   "metadata": {
    "collapsed": true
   },
   "outputs": [],
   "source": [
    "wTiltD.show('model', slit=slit)"
   ]
  },
  {
   "cell_type": "markdown",
   "metadata": {},
   "source": [
    "### 2D Fit"
   ]
  },
  {
   "cell_type": "code",
   "execution_count": 36,
   "metadata": {
    "collapsed": true
   },
   "outputs": [],
   "source": [
    "waveTilts.settings['tilts']['yorder'] = 4\n",
    "waveTilts.settings['tilts']['func2D'] = 'legendre'"
   ]
  },
  {
   "cell_type": "code",
   "execution_count": 37,
   "metadata": {},
   "outputs": [
    {
     "name": "stderr",
     "output_type": "stream",
     "text": [
      "\u001b[1;32m[INFO]    ::\u001b[0m \u001b[1;34martracewave.py 808 fit_tilts()\u001b[0m - Fitting tilts with a low order, 2D legendre\n",
      "\u001b[1;30m[WORK IN ]::\u001b[0m\n",
      "\u001b[1;33m[PROGRESS]::\u001b[0m \u001b[1;34marutils.py 631 polyfit2d_general()\u001b[0m - Generalize to different polynomial types\n",
      "\u001b[1;32m[INFO]    ::\u001b[0m \u001b[1;34martracewave.py 824 fit_tilts()\u001b[0m - RMS (pixels): 0.01561645399475178\n"
     ]
    },
    {
     "data": {
      "image/png": "[encoded data removed]",
      "text/plain": [
       "<matplotlib.figure.Figure at 0x7f248fc57860>"
      ]
     },
     "metadata": {},
     "output_type": "display_data"
    }
   ],
   "source": [
    "tilts = wTiltD._fit_tilts(slit, show_QA=True)"
   ]
  },
  {
   "cell_type": "code",
   "execution_count": 38,
   "metadata": {},
   "outputs": [
    {
     "name": "stderr",
     "output_type": "stream",
     "text": [
      "\u001b[1;31m[WARNING] ::\u001b[0m \u001b[1;34mwavetilts.py 402 show()\u001b[0m - Display via tilts is not exact\n"
     ]
    }
   ],
   "source": [
    "wTiltD.show('tilts', slit=slit)"
   ]
  },
  {
   "cell_type": "code",
   "execution_count": null,
   "metadata": {
    "collapsed": true
   },
   "outputs": [],
   "source": []
  }
 ],
 "metadata": {
  "kernelspec": {
   "display_name": "Python 3",
   "language": "python",
   "name": "python3"
  },
  "language_info": {
   "codemirror_mode": {
    "name": "ipython",
    "version": 3
   },
   "file_extension": ".py",
   "mimetype": "text/x-python",
   "name": "python",
   "nbconvert_exporter": "python",
   "pygments_lexer": "ipython3",
   "version": "3.6.3"
  }
 },
 "nbformat": 4,
 "nbformat_minor": 2
}
