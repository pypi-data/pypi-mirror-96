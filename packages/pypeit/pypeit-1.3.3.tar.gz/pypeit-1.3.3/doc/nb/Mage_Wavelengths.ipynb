{
 "cells": [
  {
   "cell_type": "markdown",
   "metadata": {},
   "source": [
    "# Mage Wavelengths\n",
    "    v1.0 -- X was fussing about\n",
    "    v1.1 -- Generate the line list"
   ]
  },
  {
   "cell_type": "code",
   "execution_count": 1,
   "metadata": {},
   "outputs": [],
   "source": [
    "%matplotlib notebook"
   ]
  },
  {
   "cell_type": "code",
   "execution_count": 2,
   "metadata": {},
   "outputs": [],
   "source": [
    "# imports\n",
    "from importlib import reload\n",
    "import os\n",
    "import numpy as np\n",
    "from matplotlib import pyplot as plt\n",
    "from pkg_resources import resource_filename\n",
    "\n",
    "from scipy.io import readsav \n",
    "\n",
    "from astropy.io import fits\n",
    "from astropy.table import Table\n",
    "\n",
    "from pypeit.core.wavecal import templates, autoid, waveio, fitting\n",
    "from pypeit.wavemodel import create_ThArlinelist\n",
    "\n",
    "from linetools import utils as ltu"
   ]
  },
  {
   "cell_type": "markdown",
   "metadata": {},
   "source": [
    "## Generate Synthetic ThAr Spectrum at R=4100"
   ]
  },
  {
   "cell_type": "code",
   "execution_count": 3,
   "metadata": {},
   "outputs": [
    {
     "name": "stderr",
     "output_type": "stream",
     "text": [
      "\u001b[1;32m[INFO]    ::\u001b[0m \u001b[1;34mwavemodel.py 460 optical_modelThAr()\u001b[0m - Creating wavelength vector in velocity space.\n",
      "\u001b[1;32m[INFO]    ::\u001b[0m \u001b[1;34mwavemodel.py 468 optical_modelThAr()\u001b[0m - Add in ThAr lines\n",
      "\u001b[1;32m[INFO]    ::\u001b[0m \u001b[1;34mwavemodel.py 244 thar_lines()\u001b[0m - Reading in the ThAr spectrum\n",
      "\u001b[1;32m[INFO]    ::\u001b[0m \u001b[1;34mwavemodel.py 572 conv2res()\u001b[0m - The binning of the wavelength array at 6012.997927538744 is: 0.03509988663063268\n",
      "\u001b[1;32m[INFO]    ::\u001b[0m \u001b[1;34mwavemodel.py 576 conv2res()\u001b[0m - Covolving with a Gaussian kernel with sigma = 17.74232671358046 pixels\n",
      "\u001b[1;31m[WARNING] ::\u001b[0m \u001b[1;34mwavemodel.py 491 optical_modelThAr()\u001b[0m - Model of the ThAr spectrum outside the template coverage.\n",
      "\u001b[1;31m[WARNING] ::\u001b[0m \u001b[1;34mwavemodel.py 494 optical_modelThAr()\u001b[0m - Model of the ThAr spectrum outside the template coverage.\n",
      "\u001b[1;31m[WARNING] ::\u001b[0m \u001b[1;34mwavemodel.py 840 create_ThArlinelist()\u001b[0m - No min FWHM for the line detection set. Derived from the resolution at the center of the spectrum\n",
      "\u001b[1;31m[WARNING] ::\u001b[0m \u001b[1;34mwavemodel.py 856 create_ThArlinelist()\u001b[0m - No file_root_name as been set. The file will called ThAr_lines.dat\n",
      "\u001b[1;32m[INFO]    ::\u001b[0m \u001b[1;34mwavemodel.py 683 create_linelist()\u001b[0m - Searching for peaks 3.0 sigma above background\n",
      "\u001b[1;32m[INFO]    ::\u001b[0m \u001b[1;34mwavemodel.py 709 create_linelist()\u001b[0m - Printing file: ThAr_lines.dat\n"
     ]
    }
   ],
   "source": [
    "create_ThArlinelist(4100) # Generates ThAr_lines.dat locally; renamed ThAr_MagE_lines.dat and moved"
   ]
  },
  {
   "cell_type": "markdown",
   "metadata": {},
   "source": [
    "## Load up a few files"
   ]
  },
  {
   "cell_type": "code",
   "execution_count": 3,
   "metadata": {},
   "outputs": [],
   "source": [
    "mase_path = os.path.join(os.getenv('XIDL_DIR'), 'Magellan', 'MAGE', 'mase', 'Calib')"
   ]
  },
  {
   "cell_type": "markdown",
   "metadata": {},
   "source": [
    "### FITS"
   ]
  },
  {
   "cell_type": "code",
   "execution_count": 4,
   "metadata": {},
   "outputs": [],
   "source": [
    "fits_file = os.path.join(mase_path, 'mage_archive_orders.fits')"
   ]
  },
  {
   "cell_type": "code",
   "execution_count": 6,
   "metadata": {},
   "outputs": [
    {
     "name": "stdout",
     "output_type": "stream",
     "text": [
      "Filename: /u/xavier/local/idl/xidl/Magellan/MAGE/mase/Calib/mage_archive_orders.fits\n",
      "No.    Name      Ver    Type      Cards   Dimensions   Format\n",
      "  0  PRIMARY       1 PrimaryHDU       6   (1024, 2048)   int16   \n",
      "  1                1 BinTableHDU     31   2R x 5C   [8A, E, E, 75D, 2J]   \n"
     ]
    }
   ],
   "source": [
    "hdu = fits.open(fits_file)\n",
    "hdu.info()"
   ]
  },
  {
   "cell_type": "code",
   "execution_count": 8,
   "metadata": {},
   "outputs": [],
   "source": [
    "tbl = Table.read(fits_file)"
   ]
  },
  {
   "cell_type": "code",
   "execution_count": 9,
   "metadata": {},
   "outputs": [
    {
     "data": {
      "text/html": [
       "<i>Table length=2</i>\n",
       "<table id=\"table139782529693232\" class=\"table-striped table-bordered table-condensed\">\n",
       "<thead><tr><th>FUNC</th><th>XMIN</th><th>XMAX</th><th>COEFF [15,5]</th><th>DIMS [2]</th></tr></thead>\n",
       "<thead><tr><th>bytes8</th><th>float32</th><th>float32</th><th>float64</th><th>int32</th></tr></thead>\n",
       "<tr><td>legendre</td><td>0.0</td><td>2047.0</td><td>-29.488265991210938 .. 0.056760191917419434</td><td>1024 .. 2048</td></tr>\n",
       "<tr><td>legendre</td><td>0.0</td><td>2047.0</td><td>16.73930549621582 .. 0.06081448867917061</td><td>1024 .. 2048</td></tr>\n",
       "</table>"
      ],
      "text/plain": [
       "<Table length=2>\n",
       "  FUNC     XMIN  ...                 COEFF [15,5]                  DIMS [2]  \n",
       " bytes8  float32 ...                   float64                      int32    \n",
       "-------- ------- ... ------------------------------------------- ------------\n",
       "legendre     0.0 ... -29.488265991210938 .. 0.056760191917419434 1024 .. 2048\n",
       "legendre     0.0 ...    16.73930549621582 .. 0.06081448867917061 1024 .. 2048"
      ]
     },
     "execution_count": 9,
     "metadata": {},
     "output_type": "execute_result"
    }
   ],
   "source": [
    "tbl"
   ]
  },
  {
   "cell_type": "markdown",
   "metadata": {},
   "source": [
    "### Save file"
   ]
  },
  {
   "cell_type": "code",
   "execution_count": 16,
   "metadata": {},
   "outputs": [],
   "source": [
    "# This is the file called by mage_make_wvguess.pro\n",
    "sav_file = os.path.join(mase_path, 'MagE_wvguess_jfh.idl')"
   ]
  },
  {
   "cell_type": "code",
   "execution_count": 17,
   "metadata": {},
   "outputs": [],
   "source": [
    "mase_dict = readsav(sav_file)"
   ]
  },
  {
   "cell_type": "code",
   "execution_count": 18,
   "metadata": {},
   "outputs": [
    {
     "data": {
      "text/plain": [
       "dict_keys(['all_arcfit', 'guess_ordr', 'rejstr', 'sv_aspec', 'sv_lines'])"
      ]
     },
     "execution_count": 18,
     "metadata": {},
     "output_type": "execute_result"
    }
   ],
   "source": [
    "mase_dict.keys()"
   ]
  },
  {
   "cell_type": "code",
   "execution_count": 42,
   "metadata": {},
   "outputs": [
    {
     "data": {
      "text/plain": [
       "(50, 2048)"
      ]
     },
     "execution_count": 42,
     "metadata": {},
     "output_type": "execute_result"
    }
   ],
   "source": [
    "mase_dict['sv_aspec'].shape"
   ]
  },
  {
   "cell_type": "code",
   "execution_count": 45,
   "metadata": {},
   "outputs": [
    {
     "data": {
      "text/plain": [
       "array([ 0.      ,  0.      ,  0.      , ...,  9.345445, 15.956247,\n",
       "       16.58851 ], dtype=float32)"
      ]
     },
     "execution_count": 45,
     "metadata": {},
     "output_type": "execute_result"
    }
   ],
   "source": [
    "mase_dict['sv_aspec'][0]"
   ]
  },
  {
   "cell_type": "code",
   "execution_count": 22,
   "metadata": {},
   "outputs": [
    {
     "data": {
      "text/html": [
       "<i>Table length=15</i>\n",
       "<table id=\"table139782198479448\" class=\"table-striped table-bordered table-condensed\">\n",
       "<thead><tr><th>FUNC</th><th>NORD</th><th>NRM</th><th>LSIG</th><th>HSIG</th><th>NITER</th><th>MINPT</th><th>MAXREJ</th><th>FLG_REJ</th><th>RMS</th><th>FFIT</th></tr></thead>\n",
       "<thead><tr><th>object</th><th>int32</th><th>object</th><th>float32</th><th>float32</th><th>int32</th><th>int32</th><th>int32</th><th>int16</th><th>float64</th><th>object</th></tr></thead>\n",
       "<tr><td>CHEBY</td><td>4</td><td>[1438.34936523 1156.48046875]</td><td>2.0</td><td>2.0</td><td>3</td><td>2</td><td>10</td><td>1</td><td>0.08395581692457199</td><td>[ 3.17522658e+03  1.30876111e+02 -1.63917588e+00 -2.28740563e-01]</td></tr>\n",
       "<tr><td>CHEBY</td><td>4</td><td>[1264.26269531 1347.25488281]</td><td>2.0</td><td>2.0</td><td>3</td><td>1</td><td>10</td><td>1</td><td>0.029286876320838928</td><td>[ 3.30072211e+03  1.62655519e+02 -2.09591494e+00 -2.50019866e-01]</td></tr>\n",
       "<tr><td>CHEBY</td><td>4</td><td>[1262.87695312 1397.08422852]</td><td>2.0</td><td>2.0</td><td>3</td><td>5</td><td>10</td><td>1</td><td>0.02182971127331257</td><td>[ 3.48423411e+03  1.77976047e+02 -2.32882913e+00 -2.89890825e-01]</td></tr>\n",
       "<tr><td>CHEBY</td><td>5</td><td>[1230.67089844 1494.09765625]</td><td>2.0</td><td>2.0</td><td>3</td><td>5</td><td>10</td><td>1</td><td>0.01800452172756195</td><td>[ 3.68080503e+03  2.01823819e+02 -2.66847564e+00 -3.76064860e-01\n",
       "  5.99505038e-02]</td></tr>\n",
       "<tr><td>CHEBY</td><td>5</td><td>[1069.72802734 1884.94763184]</td><td>2.0</td><td>2.0</td><td>3</td><td>5</td><td>10</td><td>1</td><td>0.017211703583598137</td><td>[ 3.86377879e+03  2.72407149e+02 -3.75086778e+00 -8.11355398e-01\n",
       "  1.85497801e-02]</td></tr>\n",
       "<tr><td>CHEBY</td><td>6</td><td>[1032.24987793 1968.95336914]</td><td>2.0</td><td>2.0</td><td>3</td><td>5</td><td>10</td><td>1</td><td>0.018749188631772995</td><td>[ 4.11007866e+03  3.03810572e+02 -4.13299244e+00 -9.49344614e-01\n",
       "  2.05792848e-02  3.73163644e-02]</td></tr>\n",
       "<tr><td>CHEBY</td><td>5</td><td>[1119.57739258 1812.52099609]</td><td>2.0</td><td>2.0</td><td>3</td><td>5</td><td>10</td><td>1</td><td>0.020683664828538895</td><td>[ 4.43342265e+03  2.98381705e+02 -4.18316990e+00 -8.15175520e-01\n",
       "  4.10919135e-02]</td></tr>\n",
       "<tr><td>CHEBY</td><td>6</td><td>[1086.2557373  1877.31591797]</td><td>2.0</td><td>2.0</td><td>3</td><td>5</td><td>10</td><td>1</td><td>0.030145803466439247</td><td>[ 4.76285002e+03  3.33158942e+02 -4.62836845e+00 -9.29628940e-01\n",
       "  3.98870604e-02  3.21320970e-02]</td></tr>\n",
       "<tr><td>CHEBY</td><td>6</td><td>[1047.34692383 1954.54882812]</td><td>2.0</td><td>2.0</td><td>3</td><td>2</td><td>10</td><td>1</td><td>0.033905938267707825</td><td>[ 5.14494175e+03  3.76122825e+02 -5.13063093e+00 -1.15591072e+00\n",
       "  2.96200137e-02  2.64080046e-02]</td></tr>\n",
       "<tr><td>CHEBY</td><td>6</td><td>[1067.84960938 1937.38415527]</td><td>2.0</td><td>2.0</td><td>3</td><td>5</td><td>10</td><td>1</td><td>0.019567951560020447</td><td>[ 5.62172489e+03  4.06071061e+02 -5.63723997e+00 -1.20696862e+00\n",
       "  3.35175913e-02  4.19205335e-02]</td></tr>\n",
       "<tr><td>CHEBY</td><td>6</td><td>[1055.74047852 1945.81787109]</td><td>2.0</td><td>2.0</td><td>3</td><td>3</td><td>10</td><td>1</td><td>0.024785082787275314</td><td>[ 6.17872758e+03  4.48603821e+02 -6.11298565e+00 -1.34400331e+00\n",
       "  3.59688169e-02  2.82240165e-02]</td></tr>\n",
       "<tr><td>CHEBY</td><td>6</td><td>[1034.83666992 1977.33947754]</td><td>2.0</td><td>2.0</td><td>3</td><td>5</td><td>10</td><td>1</td><td>0.024680601432919502</td><td>[ 6.85483371e+03  5.06691077e+02 -6.80661977e+00 -1.53129249e+00\n",
       "  3.54299990e-02  3.31006590e-02]</td></tr>\n",
       "<tr><td>CHEBY</td><td>6</td><td>[1027.61572266 2002.74060059]</td><td>2.0</td><td>2.0</td><td>3</td><td>5</td><td>10</td><td>1</td><td>0.034220870584249496</td><td>[ 7.70782021e+03  5.77125777e+02 -7.72064846e+00 -1.75154943e+00\n",
       "  6.67688741e-02  5.61835636e-02]</td></tr>\n",
       "<tr><td>CHEBY</td><td>6</td><td>[1020.29473877 2029.41052246]</td><td>2.0</td><td>2.0</td><td>3</td><td>1</td><td>10</td><td>1</td><td>0.04039670154452324</td><td>[ 8.80430844e+03  6.67933174e+02 -9.06918214e+00 -2.17839009e+00\n",
       " -7.88569134e-03  5.32716045e-02]</td></tr>\n",
       "<tr><td>CHEBY</td><td>5</td><td>[ 776.3885498  1513.72802734]</td><td>2.0</td><td>2.0</td><td>3</td><td>3</td><td>10</td><td>1</td><td>0.06777922064065933</td><td>[ 1.00889717e+04  5.89378549e+02 -3.67383399e+00 -1.15417188e+00\n",
       "  4.39646546e-02]</td></tr>\n",
       "</table>"
      ],
      "text/plain": [
       "<Table length=15>\n",
       " FUNC  ...\n",
       "object ...\n",
       "------ ...\n",
       " CHEBY ...\n",
       " CHEBY ...\n",
       " CHEBY ...\n",
       " CHEBY ...\n",
       " CHEBY ...\n",
       " CHEBY ...\n",
       " CHEBY ...\n",
       " CHEBY ...\n",
       " CHEBY ...\n",
       " CHEBY ...\n",
       " CHEBY ...\n",
       " CHEBY ...\n",
       " CHEBY ...\n",
       " CHEBY ...\n",
       " CHEBY ..."
      ]
     },
     "execution_count": 22,
     "metadata": {},
     "output_type": "execute_result"
    }
   ],
   "source": [
    "mase_sol = Table(mase_dict['all_arcfit'])\n",
    "mase_sol[0:15]"
   ]
  },
  {
   "cell_type": "markdown",
   "metadata": {},
   "source": [
    "#### Test one"
   ]
  },
  {
   "cell_type": "code",
   "execution_count": 28,
   "metadata": {},
   "outputs": [],
   "source": [
    "order = 0\n",
    "wv_air = templates.cheby_val(mase_sol['FFIT'][order], np.arange(2048), mase_sol['NRM'][order], mase_sol['NORD'][order])"
   ]
  },
  {
   "cell_type": "code",
   "execution_count": 29,
   "metadata": {},
   "outputs": [
    {
     "data": {
      "text/plain": [
       "array([2843.40730216, 2843.63366852, 2843.86005608, ..., 3310.22710183,\n",
       "       3310.43748426, 3310.64782984])"
      ]
     },
     "execution_count": 29,
     "metadata": {},
     "output_type": "execute_result"
    }
   ],
   "source": [
    "wv_air"
   ]
  },
  {
   "cell_type": "code",
   "execution_count": 31,
   "metadata": {},
   "outputs": [],
   "source": [
    "order = 14\n",
    "wv_air = templates.cheby_val(mase_sol['FFIT'][order], np.arange(2048), mase_sol['NRM'][order], mase_sol['NORD'][order])"
   ]
  },
  {
   "cell_type": "code",
   "execution_count": 32,
   "metadata": {},
   "outputs": [
    {
     "data": {
      "text/plain": [
       "array([ 9481.8261232 ,  9482.60903289,  9483.39197296, ...,\n",
       "       11045.78014217, 11046.48662502, 11047.19302061])"
      ]
     },
     "execution_count": 32,
     "metadata": {},
     "output_type": "execute_result"
    }
   ],
   "source": [
    "wv_air"
   ]
  },
  {
   "cell_type": "markdown",
   "metadata": {},
   "source": [
    "## Build the archive -- in templates.py"
   ]
  },
  {
   "cell_type": "markdown",
   "metadata": {},
   "source": [
    "### Check how we have X-Shooter\n",
    "    Ugly JSON approach.  Dumb"
   ]
  },
  {
   "cell_type": "code",
   "execution_count": 34,
   "metadata": {},
   "outputs": [],
   "source": [
    "xshoot_file = os.path.join(resource_filename('pypeit', 'data'), 'arc_lines', 'reid_arxiv', 'vlt_xshooter_vis1x1.json')\n"
   ]
  },
  {
   "cell_type": "code",
   "execution_count": 37,
   "metadata": {},
   "outputs": [],
   "source": [
    "xdict = ltu.loadjson(xshoot_file)"
   ]
  },
  {
   "cell_type": "code",
   "execution_count": 41,
   "metadata": {},
   "outputs": [
    {
     "data": {
      "text/plain": [
       "dict_keys(['0', '1', '10', '11', '12', '13', '14', '2', '3', '4', '5', '6', '7', '8', '9', 'fit2d', 'par', 'steps'])"
      ]
     },
     "execution_count": 41,
     "metadata": {},
     "output_type": "execute_result"
    }
   ],
   "source": [
    "xdict.keys()"
   ]
  },
  {
   "cell_type": "code",
   "execution_count": 40,
   "metadata": {},
   "outputs": [
    {
     "data": {
      "text/plain": [
       "dict_keys(['cen_disp', 'cen_wave', 'fitc', 'fmax', 'fmin', 'function', 'ions', 'mask', 'nrej', 'nspec', 'pixel_fit', 'rms', 'shift', 'spec', 'tcent', 'wave_fit', 'wave_soln', 'weights', 'xrej', 'yrej'])"
      ]
     },
     "execution_count": 40,
     "metadata": {},
     "output_type": "execute_result"
    }
   ],
   "source": [
    "xdict['0'].keys()"
   ]
  },
  {
   "cell_type": "markdown",
   "metadata": {},
   "source": [
    "### Will write a 2D array in 'wave' and 'flux'"
   ]
  },
  {
   "cell_type": "code",
   "execution_count": 46,
   "metadata": {},
   "outputs": [],
   "source": [
    "new_mage_file = os.path.join(resource_filename('pypeit', 'data'), 'arc_lines', 'reid_arxiv', 'magellan_mage.fits')\n",
    "mage_reid = Table.read(new_mage_file)"
   ]
  },
  {
   "cell_type": "code",
   "execution_count": 48,
   "metadata": {},
   "outputs": [
    {
     "data": {
      "text/plain": [
       "(2048, 15)"
      ]
     },
     "execution_count": 48,
     "metadata": {},
     "output_type": "execute_result"
    }
   ],
   "source": [
    "mage_reid['wave'].shape"
   ]
  },
  {
   "cell_type": "markdown",
   "metadata": {},
   "source": [
    "----"
   ]
  },
  {
   "cell_type": "markdown",
   "metadata": {},
   "source": [
    "## Read back in"
   ]
  },
  {
   "cell_type": "code",
   "execution_count": 4,
   "metadata": {},
   "outputs": [],
   "source": [
    "new_mage_file = os.path.join(resource_filename('pypeit', 'data'), 'arc_lines', 'reid_arxiv', 'magellan_mage.fits')"
   ]
  },
  {
   "cell_type": "code",
   "execution_count": 5,
   "metadata": {},
   "outputs": [],
   "source": [
    "mage_wave = Table.read(new_mage_file)"
   ]
  },
  {
   "cell_type": "code",
   "execution_count": 6,
   "metadata": {},
   "outputs": [
    {
     "data": {
      "text/plain": [
       "(2048, 15)"
      ]
     },
     "execution_count": 6,
     "metadata": {},
     "output_type": "execute_result"
    }
   ],
   "source": [
    "mage_wave['wave'].shape"
   ]
  },
  {
   "cell_type": "markdown",
   "metadata": {},
   "source": [
    "### Fuss with one"
   ]
  },
  {
   "cell_type": "code",
   "execution_count": 7,
   "metadata": {},
   "outputs": [
    {
     "data": {
      "text/plain": [
       "['wave', 'flux']"
      ]
     },
     "execution_count": 7,
     "metadata": {},
     "output_type": "execute_result"
    }
   ],
   "source": [
    "mage_wave.keys()"
   ]
  },
  {
   "cell_type": "code",
   "execution_count": 8,
   "metadata": {},
   "outputs": [],
   "source": [
    "wv5 = mage_wave['wave'][:,5]\n",
    "fx5 = mage_wave['flux'][:,5]"
   ]
  },
  {
   "cell_type": "code",
   "execution_count": 9,
   "metadata": {},
   "outputs": [
    {
     "data": {
      "application/javascript": [
       "/* Put everything inside the global mpl namespace */\n",
       "window.mpl = {};\n",
       "\n",
       "\n",
       "mpl.get_websocket_type = function() {\n",
       "    if (typeof(WebSocket) !== 'undefined') {\n",
       "        return WebSocket;\n",
       "    } else if (typeof(MozWebSocket) !== 'undefined') {\n",
       "        return MozWebSocket;\n",
       "    } else {\n",
       "        alert('Your browser does not have WebSocket support.' +\n",
       "              'Please try Chrome, Safari or Firefox ≥ 6. ' +\n",
       "              'Firefox 4 and 5 are also supported but you ' +\n",
       "              'have to enable WebSockets in about:config.');\n",
       "    };\n",
       "}\n",
       "\n",
       "mpl.figure = function(figure_id, websocket, ondownload, parent_element) {\n",
       "    this.id = figure_id;\n",
       "\n",
       "    this.ws = websocket;\n",
       "\n",
       "    this.supports_binary = (this.ws.binaryType != undefined);\n",
       "\n",
       "    if (!this.supports_binary) {\n",
       "        var warnings = document.getElementById(\"mpl-warnings\");\n",
       "        if (warnings) {\n",
       "            warnings.style.display = 'block';\n",
       "            warnings.textContent = (\n",
       "                \"This browser does not support binary websocket messages. \" +\n",
       "                    \"Performance may be slow.\");\n",
       "        }\n",
       "    }\n",
       "\n",
       "    this.imageObj = new Image();\n",
       "\n",
       "    this.context = undefined;\n",
       "    this.message = undefined;\n",
       "    this.canvas = undefined;\n",
       "    this.rubberband_canvas = undefined;\n",
       "    this.rubberband_context = undefined;\n",
       "    this.format_dropdown = undefined;\n",
       "\n",
       "    this.image_mode = 'full';\n",
       "\n",
       "    this.root = $('<div/>');\n",
       "    this._root_extra_style(this.root)\n",
       "    this.root.attr('style', 'display: inline-block');\n",
       "\n",
       "    $(parent_element).append(this.root);\n",
       "\n",
       "    this._init_header(this);\n",
       "    this._init_canvas(this);\n",
       "    this._init_toolbar(this);\n",
       "\n",
       "    var fig = this;\n",
       "\n",
       "    this.waiting = false;\n",
       "\n",
       "    this.ws.onopen =  function () {\n",
       "            fig.send_message(\"supports_binary\", {value: fig.supports_binary});\n",
       "            fig.send_message(\"send_image_mode\", {});\n",
       "            if (mpl.ratio != 1) {\n",
       "                fig.send_message(\"set_dpi_ratio\", {'dpi_ratio': mpl.ratio});\n",
       "            }\n",
       "            fig.send_message(\"refresh\", {});\n",
       "        }\n",
       "\n",
       "    this.imageObj.onload = function() {\n",
       "            if (fig.image_mode == 'full') {\n",
       "                // Full images could contain transparency (where diff images\n",
       "                // almost always do), so we need to clear the canvas so that\n",
       "                // there is no ghosting.\n",
       "                fig.context.clearRect(0, 0, fig.canvas.width, fig.canvas.height);\n",
       "            }\n",
       "            fig.context.drawImage(fig.imageObj, 0, 0);\n",
       "        };\n",
       "\n",
       "    this.imageObj.onunload = function() {\n",
       "        fig.ws.close();\n",
       "    }\n",
       "\n",
       "    this.ws.onmessage = this._make_on_message_function(this);\n",
       "\n",
       "    this.ondownload = ondownload;\n",
       "}\n",
       "\n",
       "mpl.figure.prototype._init_header = function() {\n",
       "    var titlebar = $(\n",
       "        '<div class=\"ui-dialog-titlebar ui-widget-header ui-corner-all ' +\n",
       "        'ui-helper-clearfix\"/>');\n",
       "    var titletext = $(\n",
       "        '<div class=\"ui-dialog-title\" style=\"width: 100%; ' +\n",
       "        'text-align: center; padding: 3px;\"/>');\n",
       "    titlebar.append(titletext)\n",
       "    this.root.append(titlebar);\n",
       "    this.header = titletext[0];\n",
       "}\n",
       "\n",
       "\n",
       "\n",
       "mpl.figure.prototype._canvas_extra_style = function(canvas_div) {\n",
       "\n",
       "}\n",
       "\n",
       "\n",
       "mpl.figure.prototype._root_extra_style = function(canvas_div) {\n",
       "\n",
       "}\n",
       "\n",
       "mpl.figure.prototype._init_canvas = function() {\n",
       "    var fig = this;\n",
       "\n",
       "    var canvas_div = $('<div/>');\n",
       "\n",
       "    canvas_div.attr('style', 'position: relative; clear: both; outline: 0');\n",
       "\n",
       "    function canvas_keyboard_event(event) {\n",
       "        return fig.key_event(event, event['data']);\n",
       "    }\n",
       "\n",
       "    canvas_div.keydown('key_press', canvas_keyboard_event);\n",
       "    canvas_div.keyup('key_release', canvas_keyboard_event);\n",
       "    this.canvas_div = canvas_div\n",
       "    this._canvas_extra_style(canvas_div)\n",
       "    this.root.append(canvas_div);\n",
       "\n",
       "    var canvas = $('<canvas/>');\n",
       "    canvas.addClass('mpl-canvas');\n",
       "    canvas.attr('style', \"left: 0; top: 0; z-index: 0; outline: 0\")\n",
       "\n",
       "    this.canvas = canvas[0];\n",
       "    this.context = canvas[0].getContext(\"2d\");\n",
       "\n",
       "    var backingStore = this.context.backingStorePixelRatio ||\n",
       "\tthis.context.webkitBackingStorePixelRatio ||\n",
       "\tthis.context.mozBackingStorePixelRatio ||\n",
       "\tthis.context.msBackingStorePixelRatio ||\n",
       "\tthis.context.oBackingStorePixelRatio ||\n",
       "\tthis.context.backingStorePixelRatio || 1;\n",
       "\n",
       "    mpl.ratio = (window.devicePixelRatio || 1) / backingStore;\n",
       "\n",
       "    var rubberband = $('<canvas/>');\n",
       "    rubberband.attr('style', \"position: absolute; left: 0; top: 0; z-index: 1;\")\n",
       "\n",
       "    var pass_mouse_events = true;\n",
       "\n",
       "    canvas_div.resizable({\n",
       "        start: function(event, ui) {\n",
       "            pass_mouse_events = false;\n",
       "        },\n",
       "        resize: function(event, ui) {\n",
       "            fig.request_resize(ui.size.width, ui.size.height);\n",
       "        },\n",
       "        stop: function(event, ui) {\n",
       "            pass_mouse_events = true;\n",
       "            fig.request_resize(ui.size.width, ui.size.height);\n",
       "        },\n",
       "    });\n",
       "\n",
       "    function mouse_event_fn(event) {\n",
       "        if (pass_mouse_events)\n",
       "            return fig.mouse_event(event, event['data']);\n",
       "    }\n",
       "\n",
       "    rubberband.mousedown('button_press', mouse_event_fn);\n",
       "    rubberband.mouseup('button_release', mouse_event_fn);\n",
       "    // Throttle sequential mouse events to 1 every 20ms.\n",
       "    rubberband.mousemove('motion_notify', mouse_event_fn);\n",
       "\n",
       "    rubberband.mouseenter('figure_enter', mouse_event_fn);\n",
       "    rubberband.mouseleave('figure_leave', mouse_event_fn);\n",
       "\n",
       "    canvas_div.on(\"wheel\", function (event) {\n",
       "        event = event.originalEvent;\n",
       "        event['data'] = 'scroll'\n",
       "        if (event.deltaY < 0) {\n",
       "            event.step = 1;\n",
       "        } else {\n",
       "            event.step = -1;\n",
       "        }\n",
       "        mouse_event_fn(event);\n",
       "    });\n",
       "\n",
       "    canvas_div.append(canvas);\n",
       "    canvas_div.append(rubberband);\n",
       "\n",
       "    this.rubberband = rubberband;\n",
       "    this.rubberband_canvas = rubberband[0];\n",
       "    this.rubberband_context = rubberband[0].getContext(\"2d\");\n",
       "    this.rubberband_context.strokeStyle = \"#000000\";\n",
       "\n",
       "    this._resize_canvas = function(width, height) {\n",
       "        // Keep the size of the canvas, canvas container, and rubber band\n",
       "        // canvas in synch.\n",
       "        canvas_div.css('width', width)\n",
       "        canvas_div.css('height', height)\n",
       "\n",
       "        canvas.attr('width', width * mpl.ratio);\n",
       "        canvas.attr('height', height * mpl.ratio);\n",
       "        canvas.attr('style', 'width: ' + width + 'px; height: ' + height + 'px;');\n",
       "\n",
       "        rubberband.attr('width', width);\n",
       "        rubberband.attr('height', height);\n",
       "    }\n",
       "\n",
       "    // Set the figure to an initial 600x600px, this will subsequently be updated\n",
       "    // upon first draw.\n",
       "    this._resize_canvas(600, 600);\n",
       "\n",
       "    // Disable right mouse context menu.\n",
       "    $(this.rubberband_canvas).bind(\"contextmenu\",function(e){\n",
       "        return false;\n",
       "    });\n",
       "\n",
       "    function set_focus () {\n",
       "        canvas.focus();\n",
       "        canvas_div.focus();\n",
       "    }\n",
       "\n",
       "    window.setTimeout(set_focus, 100);\n",
       "}\n",
       "\n",
       "mpl.figure.prototype._init_toolbar = function() {\n",
       "    var fig = this;\n",
       "\n",
       "    var nav_element = $('<div/>')\n",
       "    nav_element.attr('style', 'width: 100%');\n",
       "    this.root.append(nav_element);\n",
       "\n",
       "    // Define a callback function for later on.\n",
       "    function toolbar_event(event) {\n",
       "        return fig.toolbar_button_onclick(event['data']);\n",
       "    }\n",
       "    function toolbar_mouse_event(event) {\n",
       "        return fig.toolbar_button_onmouseover(event['data']);\n",
       "    }\n",
       "\n",
       "    for(var toolbar_ind in mpl.toolbar_items) {\n",
       "        var name = mpl.toolbar_items[toolbar_ind][0];\n",
       "        var tooltip = mpl.toolbar_items[toolbar_ind][1];\n",
       "        var image = mpl.toolbar_items[toolbar_ind][2];\n",
       "        var method_name = mpl.toolbar_items[toolbar_ind][3];\n",
       "\n",
       "        if (!name) {\n",
       "            // put a spacer in here.\n",
       "            continue;\n",
       "        }\n",
       "        var button = $('<button/>');\n",
       "        button.addClass('ui-button ui-widget ui-state-default ui-corner-all ' +\n",
       "                        'ui-button-icon-only');\n",
       "        button.attr('role', 'button');\n",
       "        button.attr('aria-disabled', 'false');\n",
       "        button.click(method_name, toolbar_event);\n",
       "        button.mouseover(tooltip, toolbar_mouse_event);\n",
       "\n",
       "        var icon_img = $('<span/>');\n",
       "        icon_img.addClass('ui-button-icon-primary ui-icon');\n",
       "        icon_img.addClass(image);\n",
       "        icon_img.addClass('ui-corner-all');\n",
       "\n",
       "        var tooltip_span = $('<span/>');\n",
       "        tooltip_span.addClass('ui-button-text');\n",
       "        tooltip_span.html(tooltip);\n",
       "\n",
       "        button.append(icon_img);\n",
       "        button.append(tooltip_span);\n",
       "\n",
       "        nav_element.append(button);\n",
       "    }\n",
       "\n",
       "    var fmt_picker_span = $('<span/>');\n",
       "\n",
       "    var fmt_picker = $('<select/>');\n",
       "    fmt_picker.addClass('mpl-toolbar-option ui-widget ui-widget-content');\n",
       "    fmt_picker_span.append(fmt_picker);\n",
       "    nav_element.append(fmt_picker_span);\n",
       "    this.format_dropdown = fmt_picker[0];\n",
       "\n",
       "    for (var ind in mpl.extensions) {\n",
       "        var fmt = mpl.extensions[ind];\n",
       "        var option = $(\n",
       "            '<option/>', {selected: fmt === mpl.default_extension}).html(fmt);\n",
       "        fmt_picker.append(option)\n",
       "    }\n",
       "\n",
       "    // Add hover states to the ui-buttons\n",
       "    $( \".ui-button\" ).hover(\n",
       "        function() { $(this).addClass(\"ui-state-hover\");},\n",
       "        function() { $(this).removeClass(\"ui-state-hover\");}\n",
       "    );\n",
       "\n",
       "    var status_bar = $('<span class=\"mpl-message\"/>');\n",
       "    nav_element.append(status_bar);\n",
       "    this.message = status_bar[0];\n",
       "}\n",
       "\n",
       "mpl.figure.prototype.request_resize = function(x_pixels, y_pixels) {\n",
       "    // Request matplotlib to resize the figure. Matplotlib will then trigger a resize in the client,\n",
       "    // which will in turn request a refresh of the image.\n",
       "    this.send_message('resize', {'width': x_pixels, 'height': y_pixels});\n",
       "}\n",
       "\n",
       "mpl.figure.prototype.send_message = function(type, properties) {\n",
       "    properties['type'] = type;\n",
       "    properties['figure_id'] = this.id;\n",
       "    this.ws.send(JSON.stringify(properties));\n",
       "}\n",
       "\n",
       "mpl.figure.prototype.send_draw_message = function() {\n",
       "    if (!this.waiting) {\n",
       "        this.waiting = true;\n",
       "        this.ws.send(JSON.stringify({type: \"draw\", figure_id: this.id}));\n",
       "    }\n",
       "}\n",
       "\n",
       "\n",
       "mpl.figure.prototype.handle_save = function(fig, msg) {\n",
       "    var format_dropdown = fig.format_dropdown;\n",
       "    var format = format_dropdown.options[format_dropdown.selectedIndex].value;\n",
       "    fig.ondownload(fig, format);\n",
       "}\n",
       "\n",
       "\n",
       "mpl.figure.prototype.handle_resize = function(fig, msg) {\n",
       "    var size = msg['size'];\n",
       "    if (size[0] != fig.canvas.width || size[1] != fig.canvas.height) {\n",
       "        fig._resize_canvas(size[0], size[1]);\n",
       "        fig.send_message(\"refresh\", {});\n",
       "    };\n",
       "}\n",
       "\n",
       "mpl.figure.prototype.handle_rubberband = function(fig, msg) {\n",
       "    var x0 = msg['x0'] / mpl.ratio;\n",
       "    var y0 = (fig.canvas.height - msg['y0']) / mpl.ratio;\n",
       "    var x1 = msg['x1'] / mpl.ratio;\n",
       "    var y1 = (fig.canvas.height - msg['y1']) / mpl.ratio;\n",
       "    x0 = Math.floor(x0) + 0.5;\n",
       "    y0 = Math.floor(y0) + 0.5;\n",
       "    x1 = Math.floor(x1) + 0.5;\n",
       "    y1 = Math.floor(y1) + 0.5;\n",
       "    var min_x = Math.min(x0, x1);\n",
       "    var min_y = Math.min(y0, y1);\n",
       "    var width = Math.abs(x1 - x0);\n",
       "    var height = Math.abs(y1 - y0);\n",
       "\n",
       "    fig.rubberband_context.clearRect(\n",
       "        0, 0, fig.canvas.width, fig.canvas.height);\n",
       "\n",
       "    fig.rubberband_context.strokeRect(min_x, min_y, width, height);\n",
       "}\n",
       "\n",
       "mpl.figure.prototype.handle_figure_label = function(fig, msg) {\n",
       "    // Updates the figure title.\n",
       "    fig.header.textContent = msg['label'];\n",
       "}\n",
       "\n",
       "mpl.figure.prototype.handle_cursor = function(fig, msg) {\n",
       "    var cursor = msg['cursor'];\n",
       "    switch(cursor)\n",
       "    {\n",
       "    case 0:\n",
       "        cursor = 'pointer';\n",
       "        break;\n",
       "    case 1:\n",
       "        cursor = 'default';\n",
       "        break;\n",
       "    case 2:\n",
       "        cursor = 'crosshair';\n",
       "        break;\n",
       "    case 3:\n",
       "        cursor = 'move';\n",
       "        break;\n",
       "    }\n",
       "    fig.rubberband_canvas.style.cursor = cursor;\n",
       "}\n",
       "\n",
       "mpl.figure.prototype.handle_message = function(fig, msg) {\n",
       "    fig.message.textContent = msg['message'];\n",
       "}\n",
       "\n",
       "mpl.figure.prototype.handle_draw = function(fig, msg) {\n",
       "    // Request the server to send over a new figure.\n",
       "    fig.send_draw_message();\n",
       "}\n",
       "\n",
       "mpl.figure.prototype.handle_image_mode = function(fig, msg) {\n",
       "    fig.image_mode = msg['mode'];\n",
       "}\n",
       "\n",
       "mpl.figure.prototype.updated_canvas_event = function() {\n",
       "    // Called whenever the canvas gets updated.\n",
       "    this.send_message(\"ack\", {});\n",
       "}\n",
       "\n",
       "// A function to construct a web socket function for onmessage handling.\n",
       "// Called in the figure constructor.\n",
       "mpl.figure.prototype._make_on_message_function = function(fig) {\n",
       "    return function socket_on_message(evt) {\n",
       "        if (evt.data instanceof Blob) {\n",
       "            /* FIXME: We get \"Resource interpreted as Image but\n",
       "             * transferred with MIME type text/plain:\" errors on\n",
       "             * Chrome.  But how to set the MIME type?  It doesn't seem\n",
       "             * to be part of the websocket stream */\n",
       "            evt.data.type = \"image/png\";\n",
       "\n",
       "            /* Free the memory for the previous frames */\n",
       "            if (fig.imageObj.src) {\n",
       "                (window.URL || window.webkitURL).revokeObjectURL(\n",
       "                    fig.imageObj.src);\n",
       "            }\n",
       "\n",
       "            fig.imageObj.src = (window.URL || window.webkitURL).createObjectURL(\n",
       "                evt.data);\n",
       "            fig.updated_canvas_event();\n",
       "            fig.waiting = false;\n",
       "            return;\n",
       "        }\n",
       "        else if (typeof evt.data === 'string' && evt.data.slice(0, 21) == \"data:image/png;base64\") {\n",
       "            fig.imageObj.src = evt.data;\n",
       "            fig.updated_canvas_event();\n",
       "            fig.waiting = false;\n",
       "            return;\n",
       "        }\n",
       "\n",
       "        var msg = JSON.parse(evt.data);\n",
       "        var msg_type = msg['type'];\n",
       "\n",
       "        // Call the  \"handle_{type}\" callback, which takes\n",
       "        // the figure and JSON message as its only arguments.\n",
       "        try {\n",
       "            var callback = fig[\"handle_\" + msg_type];\n",
       "        } catch (e) {\n",
       "            console.log(\"No handler for the '\" + msg_type + \"' message type: \", msg);\n",
       "            return;\n",
       "        }\n",
       "\n",
       "        if (callback) {\n",
       "            try {\n",
       "                // console.log(\"Handling '\" + msg_type + \"' message: \", msg);\n",
       "                callback(fig, msg);\n",
       "            } catch (e) {\n",
       "                console.log(\"Exception inside the 'handler_\" + msg_type + \"' callback:\", e, e.stack, msg);\n",
       "            }\n",
       "        }\n",
       "    };\n",
       "}\n",
       "\n",
       "// from http://stackoverflow.com/questions/1114465/getting-mouse-location-in-canvas\n",
       "mpl.findpos = function(e) {\n",
       "    //this section is from http://www.quirksmode.org/js/events_properties.html\n",
       "    var targ;\n",
       "    if (!e)\n",
       "        e = window.event;\n",
       "    if (e.target)\n",
       "        targ = e.target;\n",
       "    else if (e.srcElement)\n",
       "        targ = e.srcElement;\n",
       "    if (targ.nodeType == 3) // defeat Safari bug\n",
       "        targ = targ.parentNode;\n",
       "\n",
       "    // jQuery normalizes the pageX and pageY\n",
       "    // pageX,Y are the mouse positions relative to the document\n",
       "    // offset() returns the position of the element relative to the document\n",
       "    var x = e.pageX - $(targ).offset().left;\n",
       "    var y = e.pageY - $(targ).offset().top;\n",
       "\n",
       "    return {\"x\": x, \"y\": y};\n",
       "};\n",
       "\n",
       "/*\n",
       " * return a copy of an object with only non-object keys\n",
       " * we need this to avoid circular references\n",
       " * http://stackoverflow.com/a/24161582/3208463\n",
       " */\n",
       "function simpleKeys (original) {\n",
       "  return Object.keys(original).reduce(function (obj, key) {\n",
       "    if (typeof original[key] !== 'object')\n",
       "        obj[key] = original[key]\n",
       "    return obj;\n",
       "  }, {});\n",
       "}\n",
       "\n",
       "mpl.figure.prototype.mouse_event = function(event, name) {\n",
       "    var canvas_pos = mpl.findpos(event)\n",
       "\n",
       "    if (name === 'button_press')\n",
       "    {\n",
       "        this.canvas.focus();\n",
       "        this.canvas_div.focus();\n",
       "    }\n",
       "\n",
       "    var x = canvas_pos.x * mpl.ratio;\n",
       "    var y = canvas_pos.y * mpl.ratio;\n",
       "\n",
       "    this.send_message(name, {x: x, y: y, button: event.button,\n",
       "                             step: event.step,\n",
       "                             guiEvent: simpleKeys(event)});\n",
       "\n",
       "    /* This prevents the web browser from automatically changing to\n",
       "     * the text insertion cursor when the button is pressed.  We want\n",
       "     * to control all of the cursor setting manually through the\n",
       "     * 'cursor' event from matplotlib */\n",
       "    event.preventDefault();\n",
       "    return false;\n",
       "}\n",
       "\n",
       "mpl.figure.prototype._key_event_extra = function(event, name) {\n",
       "    // Handle any extra behaviour associated with a key event\n",
       "}\n",
       "\n",
       "mpl.figure.prototype.key_event = function(event, name) {\n",
       "\n",
       "    // Prevent repeat events\n",
       "    if (name == 'key_press')\n",
       "    {\n",
       "        if (event.which === this._key)\n",
       "            return;\n",
       "        else\n",
       "            this._key = event.which;\n",
       "    }\n",
       "    if (name == 'key_release')\n",
       "        this._key = null;\n",
       "\n",
       "    var value = '';\n",
       "    if (event.ctrlKey && event.which != 17)\n",
       "        value += \"ctrl+\";\n",
       "    if (event.altKey && event.which != 18)\n",
       "        value += \"alt+\";\n",
       "    if (event.shiftKey && event.which != 16)\n",
       "        value += \"shift+\";\n",
       "\n",
       "    value += 'k';\n",
       "    value += event.which.toString();\n",
       "\n",
       "    this._key_event_extra(event, name);\n",
       "\n",
       "    this.send_message(name, {key: value,\n",
       "                             guiEvent: simpleKeys(event)});\n",
       "    return false;\n",
       "}\n",
       "\n",
       "mpl.figure.prototype.toolbar_button_onclick = function(name) {\n",
       "    if (name == 'download') {\n",
       "        this.handle_save(this, null);\n",
       "    } else {\n",
       "        this.send_message(\"toolbar_button\", {name: name});\n",
       "    }\n",
       "};\n",
       "\n",
       "mpl.figure.prototype.toolbar_button_onmouseover = function(tooltip) {\n",
       "    this.message.textContent = tooltip;\n",
       "};\n",
       "mpl.toolbar_items = [[\"Home\", \"Reset original view\", \"fa fa-home icon-home\", \"home\"], [\"Back\", \"Back to previous view\", \"fa fa-arrow-left icon-arrow-left\", \"back\"], [\"Forward\", \"Forward to next view\", \"fa fa-arrow-right icon-arrow-right\", \"forward\"], [\"\", \"\", \"\", \"\"], [\"Pan\", \"Pan axes with left mouse, zoom with right\", \"fa fa-arrows icon-move\", \"pan\"], [\"Zoom\", \"Zoom to rectangle\", \"fa fa-square-o icon-check-empty\", \"zoom\"], [\"\", \"\", \"\", \"\"], [\"Download\", \"Download plot\", \"fa fa-floppy-o icon-save\", \"download\"]];\n",
       "\n",
       "mpl.extensions = [\"eps\", \"jpeg\", \"pdf\", \"png\", \"ps\", \"raw\", \"svg\", \"tif\"];\n",
       "\n",
       "mpl.default_extension = \"png\";var comm_websocket_adapter = function(comm) {\n",
       "    // Create a \"websocket\"-like object which calls the given IPython comm\n",
       "    // object with the appropriate methods. Currently this is a non binary\n",
       "    // socket, so there is still some room for performance tuning.\n",
       "    var ws = {};\n",
       "\n",
       "    ws.close = function() {\n",
       "        comm.close()\n",
       "    };\n",
       "    ws.send = function(m) {\n",
       "        //console.log('sending', m);\n",
       "        comm.send(m);\n",
       "    };\n",
       "    // Register the callback with on_msg.\n",
       "    comm.on_msg(function(msg) {\n",
       "        //console.log('receiving', msg['content']['data'], msg);\n",
       "        // Pass the mpl event to the overridden (by mpl) onmessage function.\n",
       "        ws.onmessage(msg['content']['data'])\n",
       "    });\n",
       "    return ws;\n",
       "}\n",
       "\n",
       "mpl.mpl_figure_comm = function(comm, msg) {\n",
       "    // This is the function which gets called when the mpl process\n",
       "    // starts-up an IPython Comm through the \"matplotlib\" channel.\n",
       "\n",
       "    var id = msg.content.data.id;\n",
       "    // Get hold of the div created by the display call when the Comm\n",
       "    // socket was opened in Python.\n",
       "    var element = $(\"#\" + id);\n",
       "    var ws_proxy = comm_websocket_adapter(comm)\n",
       "\n",
       "    function ondownload(figure, format) {\n",
       "        window.open(figure.imageObj.src);\n",
       "    }\n",
       "\n",
       "    var fig = new mpl.figure(id, ws_proxy,\n",
       "                           ondownload,\n",
       "                           element.get(0));\n",
       "\n",
       "    // Call onopen now - mpl needs it, as it is assuming we've passed it a real\n",
       "    // web socket which is closed, not our websocket->open comm proxy.\n",
       "    ws_proxy.onopen();\n",
       "\n",
       "    fig.parent_element = element.get(0);\n",
       "    fig.cell_info = mpl.find_output_cell(\"<div id='\" + id + \"'></div>\");\n",
       "    if (!fig.cell_info) {\n",
       "        console.error(\"Failed to find cell for figure\", id, fig);\n",
       "        return;\n",
       "    }\n",
       "\n",
       "    var output_index = fig.cell_info[2]\n",
       "    var cell = fig.cell_info[0];\n",
       "\n",
       "};\n",
       "\n",
       "mpl.figure.prototype.handle_close = function(fig, msg) {\n",
       "    var width = fig.canvas.width/mpl.ratio\n",
       "    fig.root.unbind('remove')\n",
       "\n",
       "    // Update the output cell to use the data from the current canvas.\n",
       "    fig.push_to_output();\n",
       "    var dataURL = fig.canvas.toDataURL();\n",
       "    // Re-enable the keyboard manager in IPython - without this line, in FF,\n",
       "    // the notebook keyboard shortcuts fail.\n",
       "    IPython.keyboard_manager.enable()\n",
       "    $(fig.parent_element).html('<img src=\"' + dataURL + '\" width=\"' + width + '\">');\n",
       "    fig.close_ws(fig, msg);\n",
       "}\n",
       "\n",
       "mpl.figure.prototype.close_ws = function(fig, msg){\n",
       "    fig.send_message('closing', msg);\n",
       "    // fig.ws.close()\n",
       "}\n",
       "\n",
       "mpl.figure.prototype.push_to_output = function(remove_interactive) {\n",
       "    // Turn the data on the canvas into data in the output cell.\n",
       "    var width = this.canvas.width/mpl.ratio\n",
       "    var dataURL = this.canvas.toDataURL();\n",
       "    this.cell_info[1]['text/html'] = '<img src=\"' + dataURL + '\" width=\"' + width + '\">';\n",
       "}\n",
       "\n",
       "mpl.figure.prototype.updated_canvas_event = function() {\n",
       "    // Tell IPython that the notebook contents must change.\n",
       "    IPython.notebook.set_dirty(true);\n",
       "    this.send_message(\"ack\", {});\n",
       "    var fig = this;\n",
       "    // Wait a second, then push the new image to the DOM so\n",
       "    // that it is saved nicely (might be nice to debounce this).\n",
       "    setTimeout(function () { fig.push_to_output() }, 1000);\n",
       "}\n",
       "\n",
       "mpl.figure.prototype._init_toolbar = function() {\n",
       "    var fig = this;\n",
       "\n",
       "    var nav_element = $('<div/>')\n",
       "    nav_element.attr('style', 'width: 100%');\n",
       "    this.root.append(nav_element);\n",
       "\n",
       "    // Define a callback function for later on.\n",
       "    function toolbar_event(event) {\n",
       "        return fig.toolbar_button_onclick(event['data']);\n",
       "    }\n",
       "    function toolbar_mouse_event(event) {\n",
       "        return fig.toolbar_button_onmouseover(event['data']);\n",
       "    }\n",
       "\n",
       "    for(var toolbar_ind in mpl.toolbar_items){\n",
       "        var name = mpl.toolbar_items[toolbar_ind][0];\n",
       "        var tooltip = mpl.toolbar_items[toolbar_ind][1];\n",
       "        var image = mpl.toolbar_items[toolbar_ind][2];\n",
       "        var method_name = mpl.toolbar_items[toolbar_ind][3];\n",
       "\n",
       "        if (!name) { continue; };\n",
       "\n",
       "        var button = $('<button class=\"btn btn-default\" href=\"#\" title=\"' + name + '\"><i class=\"fa ' + image + ' fa-lg\"></i></button>');\n",
       "        button.click(method_name, toolbar_event);\n",
       "        button.mouseover(tooltip, toolbar_mouse_event);\n",
       "        nav_element.append(button);\n",
       "    }\n",
       "\n",
       "    // Add the status bar.\n",
       "    var status_bar = $('<span class=\"mpl-message\" style=\"text-align:right; float: right;\"/>');\n",
       "    nav_element.append(status_bar);\n",
       "    this.message = status_bar[0];\n",
       "\n",
       "    // Add the close button to the window.\n",
       "    var buttongrp = $('<div class=\"btn-group inline pull-right\"></div>');\n",
       "    var button = $('<button class=\"btn btn-mini btn-primary\" href=\"#\" title=\"Stop Interaction\"><i class=\"fa fa-power-off icon-remove icon-large\"></i></button>');\n",
       "    button.click(function (evt) { fig.handle_close(fig, {}); } );\n",
       "    button.mouseover('Stop Interaction', toolbar_mouse_event);\n",
       "    buttongrp.append(button);\n",
       "    var titlebar = this.root.find($('.ui-dialog-titlebar'));\n",
       "    titlebar.prepend(buttongrp);\n",
       "}\n",
       "\n",
       "mpl.figure.prototype._root_extra_style = function(el){\n",
       "    var fig = this\n",
       "    el.on(\"remove\", function(){\n",
       "\tfig.close_ws(fig, {});\n",
       "    });\n",
       "}\n",
       "\n",
       "mpl.figure.prototype._canvas_extra_style = function(el){\n",
       "    // this is important to make the div 'focusable\n",
       "    el.attr('tabindex', 0)\n",
       "    // reach out to IPython and tell the keyboard manager to turn it's self\n",
       "    // off when our div gets focus\n",
       "\n",
       "    // location in version 3\n",
       "    if (IPython.notebook.keyboard_manager) {\n",
       "        IPython.notebook.keyboard_manager.register_events(el);\n",
       "    }\n",
       "    else {\n",
       "        // location in version 2\n",
       "        IPython.keyboard_manager.register_events(el);\n",
       "    }\n",
       "\n",
       "}\n",
       "\n",
       "mpl.figure.prototype._key_event_extra = function(event, name) {\n",
       "    var manager = IPython.notebook.keyboard_manager;\n",
       "    if (!manager)\n",
       "        manager = IPython.keyboard_manager;\n",
       "\n",
       "    // Check for shift+enter\n",
       "    if (event.shiftKey && event.which == 13) {\n",
       "        this.canvas_div.blur();\n",
       "        event.shiftKey = false;\n",
       "        // Send a \"J\" for go to next cell\n",
       "        event.which = 74;\n",
       "        event.keyCode = 74;\n",
       "        manager.command_mode();\n",
       "        manager.handle_keydown(event);\n",
       "    }\n",
       "}\n",
       "\n",
       "mpl.figure.prototype.handle_save = function(fig, msg) {\n",
       "    fig.ondownload(fig, null);\n",
       "}\n",
       "\n",
       "\n",
       "mpl.find_output_cell = function(html_output) {\n",
       "    // Return the cell and output element which can be found *uniquely* in the notebook.\n",
       "    // Note - this is a bit hacky, but it is done because the \"notebook_saving.Notebook\"\n",
       "    // IPython event is triggered only after the cells have been serialised, which for\n",
       "    // our purposes (turning an active figure into a static one), is too late.\n",
       "    var cells = IPython.notebook.get_cells();\n",
       "    var ncells = cells.length;\n",
       "    for (var i=0; i<ncells; i++) {\n",
       "        var cell = cells[i];\n",
       "        if (cell.cell_type === 'code'){\n",
       "            for (var j=0; j<cell.output_area.outputs.length; j++) {\n",
       "                var data = cell.output_area.outputs[j];\n",
       "                if (data.data) {\n",
       "                    // IPython >= 3 moved mimebundle to data attribute of output\n",
       "                    data = data.data;\n",
       "                }\n",
       "                if (data['text/html'] == html_output) {\n",
       "                    return [cell, data, j];\n",
       "                }\n",
       "            }\n",
       "        }\n",
       "    }\n",
       "}\n",
       "\n",
       "// Register the function which deals with the matplotlib target/channel.\n",
       "// The kernel may be null if the page has been refreshed.\n",
       "if (IPython.notebook.kernel != null) {\n",
       "    IPython.notebook.kernel.comm_manager.register_target('matplotlib', mpl.mpl_figure_comm);\n",
       "}\n"
      ],
      "text/plain": [
       "<IPython.core.display.Javascript object>"
      ]
     },
     "metadata": {},
     "output_type": "display_data"
    },
    {
     "data": {
      "text/html": [
       "<img src=\"data:image/png;base64,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\" width=\"639.9999861283738\">"
      ],
      "text/plain": [
       "<IPython.core.display.HTML object>"
      ]
     },
     "metadata": {},
     "output_type": "display_data"
    }
   ],
   "source": [
    "plt.clf()\n",
    "ax = plt.gca()\n",
    "ax.plot(wv5, fx5)\n",
    "plt.show()"
   ]
  },
  {
   "cell_type": "markdown",
   "metadata": {},
   "source": [
    "### Generate figures for fussing about"
   ]
  },
  {
   "cell_type": "code",
   "execution_count": 10,
   "metadata": {},
   "outputs": [],
   "source": [
    "# Linelist\n",
    "llist = waveio.load_line_lists(['ThAr_MagE'])"
   ]
  },
  {
   "cell_type": "code",
   "execution_count": 11,
   "metadata": {},
   "outputs": [
    {
     "data": {
      "text/html": [
       "<i>Table length=864</i>\n",
       "<table id=\"table139623481320504\" class=\"table-striped table-bordered table-condensed\">\n",
       "<thead><tr><th>wave</th><th>ion</th><th>NIST</th><th>Instr</th><th>amplitude</th><th>Source</th></tr></thead>\n",
       "<thead><tr><th>float64</th><th>str4</th><th>int64</th><th>int64</th><th>float64</th><th>str12</th></tr></thead>\n",
       "<tr><td>3034.4515616388403</td><td>ThAr</td><td>1</td><td>32</td><td>3250.5330562821146</td><td>wavemodel.py</td></tr>\n",
       "<tr><td>3094.2351186737014</td><td>ThAr</td><td>1</td><td>32</td><td>163.4091741852267</td><td>wavemodel.py</td></tr>\n",
       "<tr><td>3140.0712478114897</td><td>ThAr</td><td>1</td><td>32</td><td>118.03246067794022</td><td>wavemodel.py</td></tr>\n",
       "<tr><td>3170.5580546208257</td><td>ThAr</td><td>1</td><td>32</td><td>123.99931788498296</td><td>wavemodel.py</td></tr>\n",
       "<tr><td>3181.14976954272</td><td>ThAr</td><td>1</td><td>32</td><td>160.1378083424093</td><td>wavemodel.py</td></tr>\n",
       "<tr><td>3189.169932325525</td><td>ThAr</td><td>1</td><td>32</td><td>153.8608233826956</td><td>wavemodel.py</td></tr>\n",
       "<tr><td>3196.585400263197</td><td>ThAr</td><td>1</td><td>32</td><td>104.46079002943156</td><td>wavemodel.py</td></tr>\n",
       "<tr><td>3233.2380176392016</td><td>ThAr</td><td>1</td><td>32</td><td>150.16225080755922</td><td>wavemodel.py</td></tr>\n",
       "<tr><td>3239.1470401332326</td><td>ThAr</td><td>1</td><td>32</td><td>130.3364122188992</td><td>wavemodel.py</td></tr>\n",
       "<tr><td>3244.989691038716</td><td>ThAr</td><td>1</td><td>32</td><td>202.98111248750146</td><td>wavemodel.py</td></tr>\n",
       "<tr><td>...</td><td>...</td><td>...</td><td>...</td><td>...</td><td>...</td></tr>\n",
       "<tr><td>9787.190028701038</td><td>ThAr</td><td>1</td><td>32</td><td>13252.843123739845</td><td>wavemodel.py</td></tr>\n",
       "<tr><td>9798.884293097472</td><td>ThAr</td><td>1</td><td>32</td><td>155.40806493358272</td><td>wavemodel.py</td></tr>\n",
       "<tr><td>9815.433382446045</td><td>ThAr</td><td>1</td><td>32</td><td>588.4787904342921</td><td>wavemodel.py</td></tr>\n",
       "<tr><td>9829.136392426173</td><td>ThAr</td><td>1</td><td>32</td><td>1680.4837833887802</td><td>wavemodel.py</td></tr>\n",
       "<tr><td>9836.11605139228</td><td>ThAr</td><td>1</td><td>32</td><td>2928.9407378030096</td><td>wavemodel.py</td></tr>\n",
       "<tr><td>9989.8485894047</td><td>ThAr</td><td>1</td><td>32</td><td>163.60985040644212</td><td>wavemodel.py</td></tr>\n",
       "<tr><td>10042.102531681001</td><td>ThAr</td><td>1</td><td>32</td><td>144.06839544593686</td><td>wavemodel.py</td></tr>\n",
       "<tr><td>10054.836245973598</td><td>ThAr</td><td>1</td><td>32</td><td>325.50743467341863</td><td>wavemodel.py</td></tr>\n",
       "<tr><td>10472.917866214919</td><td>ThAr</td><td>1</td><td>32</td><td>1491.840809235306</td><td>wavemodel.py</td></tr>\n",
       "<tr><td>10480.92769146252</td><td>ThAr</td><td>1</td><td>32</td><td>286.1487261239166</td><td>wavemodel.py</td></tr>\n",
       "</table>"
      ],
      "text/plain": [
       "<Table length=864>\n",
       "       wave        ion   NIST Instr     amplitude         Source   \n",
       "     float64       str4 int64 int64      float64          str12    \n",
       "------------------ ---- ----- ----- ------------------ ------------\n",
       "3034.4515616388403 ThAr     1    32 3250.5330562821146 wavemodel.py\n",
       "3094.2351186737014 ThAr     1    32  163.4091741852267 wavemodel.py\n",
       "3140.0712478114897 ThAr     1    32 118.03246067794022 wavemodel.py\n",
       "3170.5580546208257 ThAr     1    32 123.99931788498296 wavemodel.py\n",
       "  3181.14976954272 ThAr     1    32  160.1378083424093 wavemodel.py\n",
       " 3189.169932325525 ThAr     1    32  153.8608233826956 wavemodel.py\n",
       " 3196.585400263197 ThAr     1    32 104.46079002943156 wavemodel.py\n",
       "3233.2380176392016 ThAr     1    32 150.16225080755922 wavemodel.py\n",
       "3239.1470401332326 ThAr     1    32  130.3364122188992 wavemodel.py\n",
       " 3244.989691038716 ThAr     1    32 202.98111248750146 wavemodel.py\n",
       "               ...  ...   ...   ...                ...          ...\n",
       " 9787.190028701038 ThAr     1    32 13252.843123739845 wavemodel.py\n",
       " 9798.884293097472 ThAr     1    32 155.40806493358272 wavemodel.py\n",
       " 9815.433382446045 ThAr     1    32  588.4787904342921 wavemodel.py\n",
       " 9829.136392426173 ThAr     1    32 1680.4837833887802 wavemodel.py\n",
       "  9836.11605139228 ThAr     1    32 2928.9407378030096 wavemodel.py\n",
       "   9989.8485894047 ThAr     1    32 163.60985040644212 wavemodel.py\n",
       "10042.102531681001 ThAr     1    32 144.06839544593686 wavemodel.py\n",
       "10054.836245973598 ThAr     1    32 325.50743467341863 wavemodel.py\n",
       "10472.917866214919 ThAr     1    32  1491.840809235306 wavemodel.py\n",
       " 10480.92769146252 ThAr     1    32  286.1487261239166 wavemodel.py"
      ]
     },
     "execution_count": 11,
     "metadata": {},
     "output_type": "execute_result"
    }
   ],
   "source": [
    "llist"
   ]
  },
  {
   "cell_type": "markdown",
   "metadata": {},
   "source": [
    "#### Reidentify"
   ]
  },
  {
   "cell_type": "code",
   "execution_count": 12,
   "metadata": {
    "scrolled": false
   },
   "outputs": [
    {
     "name": "stderr",
     "output_type": "stream",
     "text": [
      "\u001b[1;32m[INFO]    ::\u001b[0m \u001b[1;34mautoid.py 686 reidentify()\u001b[0m - Cross-correlating with arxiv slit # 0\n"
     ]
    }
   ],
   "source": [
    "reload(autoid)\n",
    "detections, spec_cont_sub, patt_dict = autoid.reidentify(fx5, fx5, wv5, llist, 1)#, debug_xcorr=True,\n",
    "                                                        #debug_reid=True, debug_peaks=True)"
   ]
  },
  {
   "cell_type": "code",
   "execution_count": 13,
   "metadata": {},
   "outputs": [
    {
     "data": {
      "text/plain": [
       "(140,)"
      ]
     },
     "execution_count": 13,
     "metadata": {},
     "output_type": "execute_result"
    }
   ],
   "source": [
    "detections.shape"
   ]
  },
  {
   "cell_type": "code",
   "execution_count": 14,
   "metadata": {},
   "outputs": [
    {
     "data": {
      "text/plain": [
       "{'acceptable': True,\n",
       " 'nmatch': 99,\n",
       " 'ibest': -1,\n",
       " 'bwv': 4112.820570278643,\n",
       " 'sign': 1,\n",
       " 'mask': array([ True,  True,  True,  True,  True,  True,  True,  True,  True,\n",
       "         True, False,  True, False,  True,  True,  True,  True,  True,\n",
       "        False,  True, False,  True, False,  True,  True,  True, False,\n",
       "         True, False, False,  True,  True, False,  True,  True, False,\n",
       "        False, False,  True, False,  True,  True,  True,  True,  True,\n",
       "         True,  True,  True, False,  True, False, False,  True,  True,\n",
       "        False,  True,  True,  True,  True,  True, False,  True,  True,\n",
       "        False,  True,  True,  True,  True,  True, False, False,  True,\n",
       "        False,  True,  True,  True, False,  True,  True, False,  True,\n",
       "        False, False,  True,  True, False,  True, False,  True,  True,\n",
       "         True, False, False,  True, False, False, False, False,  True,\n",
       "        False,  True, False, False,  True,  True,  True,  True, False,\n",
       "        False,  True,  True,  True,  True,  True,  True,  True,  True,\n",
       "         True,  True,  True,  True,  True,  True,  True,  True,  True,\n",
       "         True,  True, False,  True,  True,  True, False,  True,  True,\n",
       "         True,  True,  True,  True,  True]),\n",
       " 'scores': array(['Perfect', 'Perfect', 'Perfect', 'Perfect', 'Perfect', 'Perfect',\n",
       "        'Perfect', 'Perfect', 'Perfect', 'Perfect', 'Good', 'Perfect',\n",
       "        'Good', 'Perfect', 'Perfect', 'Perfect', 'Perfect', 'Perfect',\n",
       "        'None', 'Perfect', 'None', 'Perfect', 'None', 'Perfect', 'Perfect',\n",
       "        'Perfect', 'None', 'Perfect', 'Good', 'Good', 'Perfect', 'Perfect',\n",
       "        'None', 'Perfect', 'Perfect', 'None', 'None', 'None', 'Perfect',\n",
       "        'None', 'Perfect', 'Perfect', 'Perfect', 'Perfect', 'Perfect',\n",
       "        'Perfect', 'Perfect', 'Perfect', 'None', 'Perfect', 'None', 'None',\n",
       "        'Perfect', 'Perfect', 'None', 'Perfect', 'Perfect', 'Perfect',\n",
       "        'Perfect', 'Perfect', 'None', 'Perfect', 'Perfect', 'None',\n",
       "        'Perfect', 'Perfect', 'Perfect', 'Perfect', 'Perfect', 'None',\n",
       "        'None', 'Perfect', 'None', 'Perfect', 'Perfect', 'Perfect', 'None',\n",
       "        'Perfect', 'Perfect', 'None', 'Perfect', 'None', 'None', 'Perfect',\n",
       "        'Perfect', 'None', 'Perfect', 'None', 'Perfect', 'Perfect',\n",
       "        'Perfect', 'None', 'None', 'Perfect', 'None', 'None', 'None',\n",
       "        'None', 'Perfect', 'None', 'Perfect', 'None', 'None', 'Perfect',\n",
       "        'Perfect', 'Perfect', 'Perfect', 'None', 'None', 'Perfect',\n",
       "        'Perfect', 'Perfect', 'Perfect', 'Perfect', 'Perfect', 'Perfect',\n",
       "        'Perfect', 'Perfect', 'Perfect', 'Perfect', 'Perfect', 'Perfect',\n",
       "        'Perfect', 'Perfect', 'Perfect', 'Perfect', 'Perfect', 'Perfect',\n",
       "        'None', 'Perfect', 'Perfect', 'Perfect', 'None', 'Perfect',\n",
       "        'Perfect', 'Perfect', 'Perfect', 'Perfect', 'Perfect', 'Perfect'],\n",
       "       dtype='<U50'),\n",
       " 'IDs': array([3804.17601084, 3875.0603607 , 3913.02578387, 3917.54353647,\n",
       "        3920.06371651, 3926.41034074, 3930.37867239, 3933.93308508,\n",
       "        3947.42304307, 3951.4976337 , 3953.86381474, 3957.44605912,\n",
       "        3960.41363432, 3968.56010985, 3973.64563235, 3980.78829081,\n",
       "        3988.97195786, 3991.73967442,    0.        , 3995.78674376,\n",
       "           0.        , 4002.41903525,    0.        , 4006.35865521,\n",
       "        4009.63497421, 4013.55123869,    0.        , 4020.26867334,\n",
       "        4023.2427493 , 4026.10272261, 4028.10631627, 4031.93521445,\n",
       "           0.        , 4034.78825374, 4037.18739829,    0.        ,\n",
       "           0.        ,    0.        , 4044.49769217,    0.        ,\n",
       "        4049.61000346, 4051.71918169, 4054.17591018, 4060.40791453,\n",
       "        4064.65681191, 4069.09748064, 4070.65884361, 4073.20666048,\n",
       "           0.        , 4081.75916844,    0.        ,    0.        ,\n",
       "        4087.61669154, 4090.12103351,    0.        , 4095.89756786,\n",
       "        4098.84489046, 4101.48800036, 4105.05118521, 4109.57737873,\n",
       "           0.        , 4113.91353086, 4117.49676022,    0.        ,\n",
       "        4124.84151863, 4128.69665129, 4132.83883826, 4135.1064918 ,\n",
       "        4137.41028855,    0.        ,    0.        , 4143.88138401,\n",
       "           0.        , 4151.22837889, 4157.51442168, 4159.76027179,\n",
       "           0.        , 4165.5434945 , 4166.7852753 ,    0.        ,\n",
       "        4171.70895988,    0.        ,    0.        , 4180.57590655,\n",
       "        4183.06231588,    0.        , 4192.02539289,    0.        ,\n",
       "        4196.1733825 , 4199.50579453, 4201.8648281 ,    0.        ,\n",
       "           0.        , 4212.07190878,    0.        ,    0.        ,\n",
       "           0.        ,    0.        , 4219.18361475,    0.        ,\n",
       "        4224.25381179,    0.        ,    0.        , 4236.67100196,\n",
       "        4237.8304039 , 4249.37141607, 4251.56926322,    0.        ,\n",
       "           0.        , 4258.97426758, 4260.53530529, 4267.58445546,\n",
       "        4273.45195868, 4278.70150071, 4283.23261867, 4289.86285119,\n",
       "        4293.03647838, 4298.68384372, 4301.3187616 , 4308.95177991,\n",
       "        4310.44670482, 4314.20620193, 4316.39988626, 4319.65254929,\n",
       "        4321.46393247, 4330.32929611, 4332.46083206, 4334.76885537,\n",
       "           0.        , 4338.46656144, 4343.71952215, 4346.54685041,\n",
       "           0.        , 4349.31380178, 4372.03779648, 4375.41084903,\n",
       "        4379.9969389 , 4380.78838021, 4383.03733653, 4392.35802172]),\n",
       " 'cc_avg': array([0.98839211, 0.99409073, 0.91688753, 0.9595101 , 0.94341444,\n",
       "        0.98753167, 0.98760224, 0.98434944, 0.99283289, 0.99470105,\n",
       "        0.79371591, 0.90748249, 0.77647456, 0.99405498, 0.99156431,\n",
       "        0.94805161, 0.87720046, 0.96230527, 0.        , 0.98169904,\n",
       "        0.        , 0.95371597, 0.        , 0.87391466, 0.9872051 ,\n",
       "        0.9882815 , 0.        , 0.99496361, 0.76435335, 0.74748761,\n",
       "        0.89169481, 0.99296797, 0.        , 0.977821  , 0.99744618,\n",
       "        0.        , 0.        , 0.        , 0.9969935 , 0.        ,\n",
       "        0.8879083 , 0.97156586, 0.99246919, 0.93989397, 0.98550831,\n",
       "        0.95119503, 0.98533695, 0.99796699, 0.        , 0.9949965 ,\n",
       "        0.        , 0.        , 0.99406177, 0.94299441, 0.        ,\n",
       "        0.98763972, 0.98918223, 0.99532596, 0.99297246, 0.99002395,\n",
       "        0.        , 0.99741717, 0.9934202 , 0.        , 0.87014828,\n",
       "        0.96700586, 0.99878395, 0.98815297, 0.94613841, 0.        ,\n",
       "        0.        , 0.96257456, 0.        , 0.95149192, 0.99759524,\n",
       "        0.99985284, 0.        , 0.99688442, 0.99475683, 0.        ,\n",
       "        0.98421185, 0.        , 0.        , 0.99485019, 0.99418608,\n",
       "        0.        , 0.99795375, 0.        , 0.89319168, 0.9993987 ,\n",
       "        0.99972693, 0.        , 0.        , 0.99832668, 0.        ,\n",
       "        0.        , 0.        , 0.        , 0.94115846, 0.        ,\n",
       "        0.95792881, 0.        , 0.        , 0.99674305, 0.99258456,\n",
       "        0.90623301, 0.99594816, 0.        , 0.        , 0.9980184 ,\n",
       "        0.99918492, 0.99477066, 0.99822757, 0.99935338, 0.99336424,\n",
       "        0.88548448, 0.8127671 , 0.91753456, 0.99784756, 0.9788574 ,\n",
       "        0.98865672, 0.99586078, 0.97125667, 0.88851626, 0.89587193,\n",
       "        0.96314323, 0.99078935, 0.99555737, 0.        , 0.97790795,\n",
       "        0.95450548, 0.99034569, 0.        , 0.9973065 , 0.99363559,\n",
       "        0.99170974, 0.98519524, 0.98748514, 0.96743137, 0.97522178]),\n",
       " 'bdisp': 0.31179969672797503,\n",
       " 'sigdetect': 5.0}"
      ]
     },
     "execution_count": 14,
     "metadata": {},
     "output_type": "execute_result"
    }
   ],
   "source": [
    "patt_dict"
   ]
  },
  {
   "cell_type": "code",
   "execution_count": 15,
   "metadata": {},
   "outputs": [],
   "source": [
    "final_fit = fitting.fit_slit(fx5, patt_dict, detections, llist)"
   ]
  },
  {
   "cell_type": "markdown",
   "metadata": {},
   "source": [
    "----"
   ]
  },
  {
   "cell_type": "markdown",
   "metadata": {},
   "source": [
    "# TMP"
   ]
  },
  {
   "cell_type": "code",
   "execution_count": 20,
   "metadata": {},
   "outputs": [
    {
     "data": {
      "text/plain": [
       "array([ 6,  7,  8,  9, 10, 11, 12, 13, 14, 15, 16, 17, 18, 19])"
      ]
     },
     "execution_count": 20,
     "metadata": {},
     "output_type": "execute_result"
    }
   ],
   "source": [
    "np.arange(6,20)"
   ]
  },
  {
   "cell_type": "code",
   "execution_count": null,
   "metadata": {},
   "outputs": [],
   "source": []
  }
 ],
 "metadata": {
  "kernelspec": {
   "display_name": "Python 3",
   "language": "python",
   "name": "python3"
  },
  "language_info": {
   "codemirror_mode": {
    "name": "ipython",
    "version": 3
   },
   "file_extension": ".py",
   "mimetype": "text/x-python",
   "name": "python",
   "nbconvert_exporter": "python",
   "pygments_lexer": "ipython3",
   "version": "3.7.3"
  }
 },
 "nbformat": 4,
 "nbformat_minor": 2
}
