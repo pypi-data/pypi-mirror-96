{
 "cells": [
  {
   "cell_type": "markdown",
   "metadata": {},
   "source": [
    "# Fussing with Slit Tracing [v1]"
   ]
  },
  {
   "cell_type": "code",
   "execution_count": 1,
   "metadata": {
    "collapsed": true
   },
   "outputs": [],
   "source": [
    "# imports\n",
    "import os\n",
    "\n",
    "from pypit import traceslits"
   ]
  },
  {
   "cell_type": "markdown",
   "metadata": {},
   "source": [
    "## To run this Notebook, you must have an environmental variable pointed at the PYPIT Development suite\n",
    "\n",
    "### And you will need to have downloaded and unpacked the 'Cooked' set of files"
   ]
  },
  {
   "cell_type": "code",
   "execution_count": 2,
   "metadata": {},
   "outputs": [
    {
     "name": "stdout",
     "output_type": "stream",
     "text": [
      "/data/Projects/Python/PYPIT-development-suite/\n"
     ]
    }
   ],
   "source": [
    "print(os.getenv('PYPIT_DEV'))"
   ]
  },
  {
   "cell_type": "markdown",
   "metadata": {},
   "source": [
    "----"
   ]
  },
  {
   "cell_type": "markdown",
   "metadata": {
    "collapsed": true
   },
   "source": [
    "## Checking edges"
   ]
  },
  {
   "cell_type": "markdown",
   "metadata": {},
   "source": [
    "### Launch an RC Ginga viewer in your terminal\n",
    "    ginga --modules=RC"
   ]
  },
  {
   "cell_type": "markdown",
   "metadata": {},
   "source": [
    "### Point at a PYPIT MasterTrace frame"
   ]
  },
  {
   "cell_type": "code",
   "execution_count": 3,
   "metadata": {
    "collapsed": true
   },
   "outputs": [],
   "source": [
    "mstrace_root = os.getenv('PYPIT_DEV')+'Cooked/Trace/MasterTrace_KeckLRISr_150420_402'"
   ]
  },
  {
   "cell_type": "markdown",
   "metadata": {},
   "source": [
    "### PYPYIT Script\n",
    "    pypit_chk_edges $PYPIT_DEV/Cooked/Trace/MasterTrace_KeckLRISr_150420_402\n",
    "    \n",
    "#### The image and the traces should show in the Ginga viewer"
   ]
  },
  {
   "cell_type": "markdown",
   "metadata": {},
   "source": [
    "### Using the TraceSlits class"
   ]
  },
  {
   "cell_type": "markdown",
   "metadata": {},
   "source": [
    "#### Load"
   ]
  },
  {
   "cell_type": "code",
   "execution_count": 4,
   "metadata": {},
   "outputs": [
    {
     "name": "stderr",
     "output_type": "stream",
     "text": [
      "\u001b[1;32m[INFO]    ::\u001b[0m \u001b[1;34mtraceslits.py 214 from_master_files()\u001b[0m - Loading BPM from /data/Projects/Python/PYPIT-development-suite/Cooked/Trace/MasterTrace_KeckLRISr_150420_402.fits.gz\n",
      "\u001b[1;32m[INFO]    ::\u001b[0m \u001b[1;34mtraceslits.py 228 from_master_files()\u001b[0m - Loading LCEN, RCEN from /data/Projects/Python/PYPIT-development-suite/Cooked/Trace/MasterTrace_KeckLRISr_150420_402.fits.gz\n",
      "\u001b[1;32m[INFO]    ::\u001b[0m \u001b[1;34mtraceslits.py 231 from_master_files()\u001b[0m - Loading EDGEARR from /data/Projects/Python/PYPIT-development-suite/Cooked/Trace/MasterTrace_KeckLRISr_150420_402.fits.gz\n",
      "\u001b[1;32m[INFO]    ::\u001b[0m \u001b[1;34mtraceslits.py 234 from_master_files()\u001b[0m - Loading SIGLEV from /data/Projects/Python/PYPIT-development-suite/Cooked/Trace/MasterTrace_KeckLRISr_150420_402.fits.gz\n"
     ]
    }
   ],
   "source": [
    "Tslits = traceslits.TraceSlits.from_master_files(mstrace_root)"
   ]
  },
  {
   "cell_type": "markdown",
   "metadata": {},
   "source": [
    "#### Show"
   ]
  },
  {
   "cell_type": "code",
   "execution_count": 5,
   "metadata": {
    "collapsed": true
   },
   "outputs": [],
   "source": [
    "Tslits.show('edges')"
   ]
  },
  {
   "cell_type": "markdown",
   "metadata": {},
   "source": [
    "----"
   ]
  },
  {
   "cell_type": "markdown",
   "metadata": {},
   "source": [
    "## Add a Slit\n",
    "    There will be cases when one needs to manually add a slit\n",
    "    This frame is missing a slit due to 2 alignment star boxes\n",
    "    Here are ways to add one"
   ]
  },
  {
   "cell_type": "markdown",
   "metadata": {},
   "source": [
    "### Internal (with the TraceSlits class)"
   ]
  },
  {
   "cell_type": "code",
   "execution_count": 6,
   "metadata": {
    "collapsed": true
   },
   "outputs": [],
   "source": [
    "#  left edge, right edge, row on image\n",
    "add_user_slits = [[489,563,1024]]"
   ]
  },
  {
   "cell_type": "code",
   "execution_count": 7,
   "metadata": {},
   "outputs": [
    {
     "name": "stderr",
     "output_type": "stream",
     "text": [
      "\u001b[1;32m[INFO]    ::\u001b[0m \u001b[1;34martraceslits.py 75 add_user_edges()\u001b[0m - Adding a user-defined slit [x0, x1, yrow]:  [489, 563, 1024]\n",
      "\u001b[1;32m[INFO]    ::\u001b[0m \u001b[1;34martraceslits.py 1326 fit_edges()\u001b[0m - Fitting left slit traces\n",
      "\u001b[1;32m[INFO]    ::\u001b[0m \u001b[1;34martraceslits.py 1328 fit_edges()\u001b[0m - Fitting right slit traces\n",
      "\u001b[1;32m[INFO]    ::\u001b[0m \u001b[1;34mtraceslits.py 764 _synchronize()\u001b[0m - Synchronizing left and right slit traces\n",
      "\u001b[1;32m[INFO]    ::\u001b[0m \u001b[1;34martraceslits.py 2437 synchronize_edges()\u001b[0m - Relabelling slit edges\n",
      "\u001b[1;30m[WORK IN ]::\u001b[0m\n",
      "\u001b[1;33m[PROGRESS]::\u001b[0m \u001b[1;34martraceslits.py 2032 pca_pixel_slit_edges()\u001b[0m - May need to do a check here to make sure ofit is reasonable\n",
      "\u001b[1;32m[INFO]    ::\u001b[0m \u001b[1;34martraceslits.py 2038 pca_pixel_slit_edges()\u001b[0m - Performing a PCA on the slit traces\n",
      "               Reduced chi-squared = 2.054129E-03\n",
      "\u001b[1;31m[WARNING] ::\u001b[0m \u001b[1;34martraceslits.py 2046 pca_pixel_slit_edges()\u001b[0m - NEED TO REMOVE SLF FROM THE NEXT BIT\n"
     ]
    }
   ],
   "source": [
    "# run_to_finish resets things in a proper manner\n",
    "Tslits.add_user_slits(add_user_slits, run_to_finish=True)"
   ]
  },
  {
   "cell_type": "code",
   "execution_count": 8,
   "metadata": {
    "collapsed": true
   },
   "outputs": [],
   "source": [
    "# check -- S11 is the new one\n",
    "Tslits.show('edges')"
   ]
  },
  {
   "cell_type": "code",
   "execution_count": 9,
   "metadata": {},
   "outputs": [
    {
     "name": "stderr",
     "output_type": "stream",
     "text": [
      "\u001b[1;32m[INFO]    ::\u001b[0m \u001b[1;34mtraceslits.py 881 save_master()\u001b[0m - Wrote TraceSlit arrays to MasterTrace_KeckLRISr_150420_402_new.fits\n",
      "\u001b[1;32m[INFO]    ::\u001b[0m \u001b[1;34mtraceslits.py 883 save_master()\u001b[0m - gzip compressing MasterTrace_KeckLRISr_150420_402_new.fits\n",
      "\u001b[1;32m[INFO]    ::\u001b[0m \u001b[1;34mtraceslits.py 897 save_master()\u001b[0m - Writing TraceSlit dict to MasterTrace_KeckLRISr_150420_402_new.json\n"
     ]
    }
   ],
   "source": [
    "# write to disk (this will over-write so be careful)\n",
    "new_root = os.path.basename(mstrace_root)+'_new'\n",
    "Tslits.save_master(new_root)"
   ]
  },
  {
   "cell_type": "markdown",
   "metadata": {},
   "source": [
    "### PYPIT script (coming someday, especially if requested)"
   ]
  },
  {
   "cell_type": "markdown",
   "metadata": {},
   "source": [
    "----"
   ]
  },
  {
   "cell_type": "markdown",
   "metadata": {},
   "source": [
    "## Remove a slit\n",
    "    There are edge cases (e.g. ghost images) that lead to erroneous slits\n",
    "    Here is a way to remove one"
   ]
  },
  {
   "cell_type": "markdown",
   "metadata": {},
   "source": [
    "### Internal"
   ]
  },
  {
   "cell_type": "code",
   "execution_count": 10,
   "metadata": {
    "collapsed": true
   },
   "outputs": [],
   "source": [
    "# Frame with extra slit\n",
    "mstrace_root2 = os.getenv('PYPIT_DEV')+'Cooked/Trace/MasterTrace_KeckLRISr_20160110_A'"
   ]
  },
  {
   "cell_type": "code",
   "execution_count": 11,
   "metadata": {},
   "outputs": [
    {
     "name": "stderr",
     "output_type": "stream",
     "text": [
      "\u001b[1;32m[INFO]    ::\u001b[0m \u001b[1;34mtraceslits.py 214 from_master_files()\u001b[0m - Loading BPM from /data/Projects/Python/PYPIT-development-suite/Cooked/Trace/MasterTrace_KeckLRISr_20160110_A.fits.gz\n",
      "\u001b[1;32m[INFO]    ::\u001b[0m \u001b[1;34mtraceslits.py 228 from_master_files()\u001b[0m - Loading LCEN, RCEN from /data/Projects/Python/PYPIT-development-suite/Cooked/Trace/MasterTrace_KeckLRISr_20160110_A.fits.gz\n",
      "\u001b[1;32m[INFO]    ::\u001b[0m \u001b[1;34mtraceslits.py 231 from_master_files()\u001b[0m - Loading EDGEARR from /data/Projects/Python/PYPIT-development-suite/Cooked/Trace/MasterTrace_KeckLRISr_20160110_A.fits.gz\n",
      "\u001b[1;32m[INFO]    ::\u001b[0m \u001b[1;34mtraceslits.py 234 from_master_files()\u001b[0m - Loading SIGLEV from /data/Projects/Python/PYPIT-development-suite/Cooked/Trace/MasterTrace_KeckLRISr_20160110_A.fits.gz\n"
     ]
    }
   ],
   "source": [
    "# Load\n",
    "Tslits2 = traceslits.TraceSlits.from_master_files(mstrace_root2)"
   ]
  },
  {
   "cell_type": "code",
   "execution_count": 12,
   "metadata": {
    "collapsed": true
   },
   "outputs": [],
   "source": [
    "# Show\n",
    "Tslits2.show('edges')"
   ]
  },
  {
   "cell_type": "code",
   "execution_count": 13,
   "metadata": {
    "collapsed": true
   },
   "outputs": [],
   "source": [
    "# Setup slit to remove --  xleft, yleft at yrow=nrow/2\n",
    "rm_slits = [[229, 380]]"
   ]
  },
  {
   "cell_type": "code",
   "execution_count": 14,
   "metadata": {},
   "outputs": [
    {
     "name": "stderr",
     "output_type": "stream",
     "text": [
      "\u001b[1;32m[INFO]    ::\u001b[0m \u001b[1;34martraceslits.py 2327 remove_slit()\u001b[0m - Removed the slit at [left,right]: [229, 380]\n"
     ]
    }
   ],
   "source": [
    "# Remove\n",
    "Tslits2.remove_slit(rm_slits)"
   ]
  },
  {
   "cell_type": "code",
   "execution_count": 15,
   "metadata": {
    "collapsed": true
   },
   "outputs": [],
   "source": [
    "# Check\n",
    "Tslits2.show('edges')"
   ]
  },
  {
   "cell_type": "code",
   "execution_count": 16,
   "metadata": {},
   "outputs": [
    {
     "name": "stderr",
     "output_type": "stream",
     "text": [
      "\u001b[1;32m[INFO]    ::\u001b[0m \u001b[1;34mtraceslits.py 881 save_master()\u001b[0m - Wrote TraceSlit arrays to MasterTrace_KeckLRISr_20160110_A_new.fits\n",
      "\u001b[1;32m[INFO]    ::\u001b[0m \u001b[1;34mtraceslits.py 883 save_master()\u001b[0m - gzip compressing MasterTrace_KeckLRISr_20160110_A_new.fits\n",
      "\u001b[1;32m[INFO]    ::\u001b[0m \u001b[1;34mtraceslits.py 897 save_master()\u001b[0m - Writing TraceSlit dict to MasterTrace_KeckLRISr_20160110_A_new.json\n"
     ]
    }
   ],
   "source": [
    "# write to disk (this will over-write so be careful)\n",
    "new_root2 = os.path.basename(mstrace_root2)+'_new'\n",
    "Tslits.save_master(new_root2)"
   ]
  },
  {
   "cell_type": "markdown",
   "metadata": {},
   "source": [
    "----"
   ]
  },
  {
   "cell_type": "markdown",
   "metadata": {},
   "source": [
    "## Re-run Tracing (only recommended for Developers)"
   ]
  },
  {
   "cell_type": "code",
   "execution_count": 17,
   "metadata": {
    "collapsed": true
   },
   "outputs": [],
   "source": [
    "mstrace_root3 = os.getenv('PYPIT_DEV')+'Cooked/Trace/MasterTrace_KeckLRISr_20160110_A'"
   ]
  },
  {
   "cell_type": "markdown",
   "metadata": {},
   "source": [
    "### Load"
   ]
  },
  {
   "cell_type": "code",
   "execution_count": 18,
   "metadata": {},
   "outputs": [
    {
     "name": "stderr",
     "output_type": "stream",
     "text": [
      "\u001b[1;32m[INFO]    ::\u001b[0m \u001b[1;34mtraceslits.py 214 from_master_files()\u001b[0m - Loading BPM from /data/Projects/Python/PYPIT-development-suite/Cooked/Trace/MasterTrace_KeckLRISr_20160110_A.fits.gz\n",
      "\u001b[1;32m[INFO]    ::\u001b[0m \u001b[1;34mtraceslits.py 228 from_master_files()\u001b[0m - Loading LCEN, RCEN from /data/Projects/Python/PYPIT-development-suite/Cooked/Trace/MasterTrace_KeckLRISr_20160110_A.fits.gz\n",
      "\u001b[1;32m[INFO]    ::\u001b[0m \u001b[1;34mtraceslits.py 231 from_master_files()\u001b[0m - Loading EDGEARR from /data/Projects/Python/PYPIT-development-suite/Cooked/Trace/MasterTrace_KeckLRISr_20160110_A.fits.gz\n",
      "\u001b[1;32m[INFO]    ::\u001b[0m \u001b[1;34mtraceslits.py 234 from_master_files()\u001b[0m - Loading SIGLEV from /data/Projects/Python/PYPIT-development-suite/Cooked/Trace/MasterTrace_KeckLRISr_20160110_A.fits.gz\n"
     ]
    }
   ],
   "source": [
    "Tslits2 = traceslits.TraceSlits.from_master_files(mstrace_root3)"
   ]
  },
  {
   "cell_type": "markdown",
   "metadata": {},
   "source": [
    "### Run"
   ]
  },
  {
   "cell_type": "code",
   "execution_count": 19,
   "metadata": {},
   "outputs": [
    {
     "name": "stderr",
     "output_type": "stream",
     "text": [
      "\u001b[1;32m[INFO]    ::\u001b[0m \u001b[1;34martraceslits.py 823 edgearr_from_binarr()\u001b[0m - Detecting slit edges in the mstrace image\n",
      "\u001b[1;32m[INFO]    ::\u001b[0m \u001b[1;34martraceslits.py 885 edgearr_from_binarr()\u001b[0m - Applying bad pixel mask\n",
      "\u001b[1;32m[INFO]    ::\u001b[0m \u001b[1;34martraceslits.py 943 edgearr_add_left_right()\u001b[0m - 9 left edges and 8 right edges were found in the trace\n",
      "\u001b[1;32m[INFO]    ::\u001b[0m \u001b[1;34martraceslits.py 969 edgearr_add_left_right()\u001b[0m - Assigning slit edge traces\n",
      "\u001b[1;32m[INFO]    ::\u001b[0m \u001b[1;34mtraceslits.py 367 _assign_edges()\u001b[0m - Assigning left slit edges\n",
      "             Outer left edge loop, Iteration 1\n",
      "               Inner loop, Iteration 1, 9 left edges assigned (9 total)\n",
      "             Outer left edge loop, Iteration 2\n",
      "               Inner loop, Iteration 1, 9 left edges assigned (9 total)\n",
      "\u001b[1;32m[INFO]    ::\u001b[0m \u001b[1;34mtraceslits.py 373 _assign_edges()\u001b[0m - Assigning right slit edges\n",
      "             Outer right edge loop, Iteration 1\n",
      "               Inner loop, Iteration 1, 8 right edges assigned (8 total)\n",
      "             Outer right edge loop, Iteration 2\n",
      "               Inner loop, Iteration 1, 8 right edges assigned (8 total)\n",
      "\u001b[1;32m[INFO]    ::\u001b[0m \u001b[1;34martraceslits.py 1157 edgearr_final_left_right()\u001b[0m - 9 left edges and 8 right edges were found in the trace\n",
      "\u001b[1;31m[WARNING] ::\u001b[0m \u001b[1;34martraceslits.py 487 edgearr_mslit_sync()\u001b[0m - Missing a right edge for slit with left edge at 230\n",
      "\u001b[1;31m[WARNING] ::\u001b[0m \u001b[1;34martraceslits.py 488 edgearr_mslit_sync()\u001b[0m - Adding in a corresponding right edge!\n",
      "\u001b[1;32m[INFO]    ::\u001b[0m \u001b[1;34martraceslits.py 1326 fit_edges()\u001b[0m - Fitting left slit traces\n",
      "\u001b[1;32m[INFO]    ::\u001b[0m \u001b[1;34martraceslits.py 1328 fit_edges()\u001b[0m - Fitting right slit traces\n",
      "\u001b[1;32m[INFO]    ::\u001b[0m \u001b[1;34mtraceslits.py 764 _synchronize()\u001b[0m - Synchronizing left and right slit traces\n",
      "\u001b[1;32m[INFO]    ::\u001b[0m \u001b[1;34martraceslits.py 2437 synchronize_edges()\u001b[0m - Relabelling slit edges\n",
      "\u001b[1;30m[WORK IN ]::\u001b[0m\n",
      "\u001b[1;33m[PROGRESS]::\u001b[0m \u001b[1;34martraceslits.py 2032 pca_pixel_slit_edges()\u001b[0m - May need to do a check here to make sure ofit is reasonable\n",
      "\u001b[1;32m[INFO]    ::\u001b[0m \u001b[1;34martraceslits.py 2038 pca_pixel_slit_edges()\u001b[0m - Performing a PCA on the slit traces\n",
      "               Reduced chi-squared = 1.816514E-03\n",
      "\u001b[1;31m[WARNING] ::\u001b[0m \u001b[1;34martraceslits.py 2046 pca_pixel_slit_edges()\u001b[0m - NEED TO REMOVE SLF FROM THE NEXT BIT\n",
      "\u001b[1;32m[INFO]    ::\u001b[0m \u001b[1;34mtraceslits.py 524 _make_pixel_arrays()\u001b[0m - Converting physical trace locations to nearest pixel\n",
      "\u001b[1;32m[INFO]    ::\u001b[0m \u001b[1;34mtraceslits.py 531 _make_pixel_arrays()\u001b[0m - Identifying the pixels belonging to each slit\n"
     ]
    }
   ],
   "source": [
    "tslit_dict = Tslits2.run()"
   ]
  },
  {
   "cell_type": "code",
   "execution_count": 20,
   "metadata": {},
   "outputs": [
    {
     "data": {
      "text/plain": [
       "{'extrapord': array([False, False, False, False, False, False, False, False, False]),\n",
       " 'lcen': array([[219.65632211, 378.56690882, 400.03928001, ..., 654.34862903,\n",
       "         707.49858908, 857.53707519],\n",
       "        [219.67213435, 378.58222206, 400.05443222, ..., 654.36009692,\n",
       "         707.50887706, 857.54328869],\n",
       "        [219.68793472, 378.59752302, 400.06957223, ..., 654.37155559,\n",
       "         707.51915696, 857.54949827],\n",
       "        ...,\n",
       "        [221.77036081, 381.59149638, 403.16383827, ..., 658.3054862 ,\n",
       "         711.54274559, 861.66509661],\n",
       "        [221.75394961, 381.57783065, 403.15057368, ..., 658.29776086,\n",
       "         711.53634594, 861.66273069],\n",
       "        [221.73751876, 381.56414884, 403.13729349, ..., 658.29002596,\n",
       "         711.52993805, 861.66036029]]),\n",
       " 'lordpix': array([[219, 378, 400, ..., 654, 707, 857],\n",
       "        [219, 378, 400, ..., 654, 707, 857],\n",
       "        [219, 378, 400, ..., 654, 707, 857],\n",
       "        ...,\n",
       "        [221, 381, 403, ..., 658, 711, 861],\n",
       "        [221, 381, 403, ..., 658, 711, 861],\n",
       "        [221, 381, 403, ..., 658, 711, 861]]),\n",
       " 'pixcen': array([[295, 386, 466, ..., 679, 780, 938],\n",
       "        [295, 386, 466, ..., 679, 780, 938],\n",
       "        [295, 386, 466, ..., 679, 780, 938],\n",
       "        ...,\n",
       "        [298, 389, 469, ..., 683, 784, 942],\n",
       "        [298, 389, 469, ..., 683, 784, 942],\n",
       "        [298, 389, 469, ..., 683, 784, 942]]),\n",
       " 'pixwid': array([151,  15, 132,  41,  25,  38,  49, 144, 159]),\n",
       " 'rcen': array([[ 371.69525123,  394.33122379,  532.73048523, ...,  704.31774744,\n",
       "          853.1229823 , 1019.19371779],\n",
       "        [ 371.71061321,  394.34641635,  532.74411709, ...,  704.32810598,\n",
       "          853.12935065, 1019.19435107],\n",
       "        [ 371.7259629 ,  394.36159669,  532.75773781, ...,  704.33845638,\n",
       "          853.13571491, 1019.1949864 ],\n",
       "        ...,\n",
       "        [ 374.68546313,  397.43240893,  536.37502169, ...,  708.35776766,\n",
       "          857.25205432, 1023.14835836],\n",
       "        [ 374.67166568,  397.41904801,  536.36448435, ...,  708.35129145,\n",
       "          857.24954569, 1023.15079599],\n",
       "        [ 374.657852  ,  397.40567138,  536.35393452, ...,  708.34480691,\n",
       "          857.24703247, 1023.15323334]]),\n",
       " 'rordpix': array([[ 371,  394,  532, ...,  704,  853, 1019],\n",
       "        [ 371,  394,  532, ...,  704,  853, 1019],\n",
       "        [ 371,  394,  532, ...,  704,  853, 1019],\n",
       "        ...,\n",
       "        [ 374,  397,  536, ...,  708,  857, 1023],\n",
       "        [ 374,  397,  536, ...,  708,  857, 1023],\n",
       "        [ 374,  397,  536, ...,  708,  857, 1023]]),\n",
       " 'slitpix': array([[0., 0., 0., ..., 0., 0., 0.],\n",
       "        [0., 0., 0., ..., 0., 0., 0.],\n",
       "        [0., 0., 0., ..., 0., 0., 0.],\n",
       "        ...,\n",
       "        [0., 0., 0., ..., 9., 9., 0.],\n",
       "        [0., 0., 0., ..., 9., 9., 0.],\n",
       "        [0., 0., 0., ..., 9., 9., 0.]])}"
      ]
     },
     "execution_count": 20,
     "metadata": {},
     "output_type": "execute_result"
    }
   ],
   "source": [
    "tslit_dict"
   ]
  },
  {
   "cell_type": "code",
   "execution_count": null,
   "metadata": {
    "collapsed": true
   },
   "outputs": [],
   "source": []
  }
 ],
 "metadata": {
  "kernelspec": {
   "display_name": "Python 3",
   "language": "python",
   "name": "python3"
  },
  "language_info": {
   "codemirror_mode": {
    "name": "ipython",
    "version": 3
   },
   "file_extension": ".py",
   "mimetype": "text/x-python",
   "name": "python",
   "nbconvert_exporter": "python",
   "pygments_lexer": "ipython3",
   "version": "3.6.5"
  }
 },
 "nbformat": 4,
 "nbformat_minor": 2
}
