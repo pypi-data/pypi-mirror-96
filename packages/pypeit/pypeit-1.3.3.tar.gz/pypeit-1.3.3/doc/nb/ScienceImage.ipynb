{
 "cells": [
  {
   "cell_type": "markdown",
   "metadata": {},
   "source": [
    "# Working with the ScienceImage Class [v2]\n",
    "    v2 -- Updated for new ScienceImage class by JFH\n",
    "    vX -- THIS IS DEFUNCT"
   ]
  },
  {
   "cell_type": "code",
   "execution_count": 1,
   "metadata": {
    "collapsed": true
   },
   "outputs": [],
   "source": [
    "# imports\n",
    "import os\n",
    "import numpy as np\n",
    "from importlib import reload"
   ]
  },
  {
   "cell_type": "code",
   "execution_count": 2,
   "metadata": {
    "collapsed": true
   },
   "outputs": [],
   "source": [
    "# Path to PYPIT-Development-suite\n",
    "pypdev_path = os.getenv('PYPEIT_DEV')"
   ]
  },
  {
   "cell_type": "markdown",
   "metadata": {},
   "source": [
    "----"
   ]
  },
  {
   "cell_type": "markdown",
   "metadata": {},
   "source": [
    "# Development"
   ]
  },
  {
   "cell_type": "code",
   "execution_count": 5,
   "metadata": {},
   "outputs": [],
   "source": [
    "from pypeit.core import procimg\n",
    "from pypeit import biasframe\n",
    "from pypeit import flatfield\n",
    "from pypeit import processimages\n",
    "from pypeit import scienceimage\n",
    "from pypeit import traceslits\n",
    "from pypeit import waveimage\n",
    "from pypeit import wavetilts"
   ]
  },
  {
   "cell_type": "markdown",
   "metadata": {},
   "source": [
    "## Settings"
   ]
  },
  {
   "cell_type": "code",
   "execution_count": null,
   "metadata": {
    "collapsed": true
   },
   "outputs": [],
   "source": [
    "settings = dict(masters={})\n",
    "settings['masters']['directory'] = pypdev_path+'/Cooked/MF_shane_kast_blue'\n",
    "settings['masters']['reuse'] = True\n",
    "settings['masters']['loaded'] = []\n",
    "#\n",
    "setup = 'A_01_aa'\n",
    "#\n",
    "settings['combine'] = {}"
   ]
  },
  {
   "cell_type": "code",
   "execution_count": null,
   "metadata": {
    "collapsed": true
   },
   "outputs": [],
   "source": [
    "spectrograph = 'shane_kast_blue'\n",
    "det = 1"
   ]
  },
  {
   "cell_type": "code",
   "execution_count": null,
   "metadata": {
    "collapsed": true
   },
   "outputs": [],
   "source": [
    "settings['detector'] = {}\n",
    "settings['detector']['num'] = det\n",
    "settings['detector']['dataext'] = 0\n",
    "settings['detector']['datasec01'] = [[0, 1024], [0, 0]]\n",
    "settings['detector']['datasec02'] = [[1024, 2048], [0, 0]]\n",
    "settings['detector']['oscansec01'] = [[2049, 2080], [0, 0]]\n",
    "settings['detector']['oscansec02'] = [[2080, 2111], [0, 0]]\n",
    "settings['detector']['naxis0'] = 2112  # Raw frame, with overscan\n",
    "settings['detector']['naxis1'] = 350\n",
    "settings['detector']['numamplifiers'] = 2\n",
    "settings['detector']['gain'] = [1.2, 1.2]\n",
    "settings['detector']['ronoise'] = [3.7, 3.7]\n",
    "settings['detector']['saturation'] = 65535.\n",
    "settings['detector']['nonlinear'] = 0.76\n",
    "settings['detector']['dispaxis'] = 1\n",
    "settings['detector']['darkcurr'] = 0.\n",
    "settings['detector']['binning'] = '1x1'"
   ]
  },
  {
   "cell_type": "code",
   "execution_count": null,
   "metadata": {
    "collapsed": true
   },
   "outputs": [],
   "source": [
    "settings['trace'] = {}\n",
    "settings['trace']['object'] = {}\n",
    "settings['trace']['object']['order'] = 2                # What is the order of the polynomial function to be used to fit the object trace in each slit\n",
    "settings['trace']['object']['function'] = 'legendre'    # What function should be used to trace the object in each slit? (polynomial, legendre, chebyshev)\n",
    "settings['trace']['object']['find'] = 'standard'         # What algorithm to use for finding objects [standard, nminima]\n",
    "settings['trace']['object']['nsmooth'] = 3              # Parameter for Gaussian smoothing when the nminima algorithm is used\n",
    "settings['trace']['object']['xedge'] = 0.03             # Ignore any objects within xedge of the edge of the slit"
   ]
  },
  {
   "cell_type": "code",
   "execution_count": null,
   "metadata": {
    "collapsed": true
   },
   "outputs": [],
   "source": [
    "settings['science'] = {}\n",
    "settings['science']['extraction'] = {}\n",
    "settings['science']['extraction']['reuse'] = False          # If the science frame has previously been extracted and saved, load the extractions\n",
    "settings['science']['extraction']['profile'] = 'gaussian'   # Fitting function used to extract science data, only if the extraction is 2D (options are: gaussian, gaussfunc, moffat, moffatfunc) ### NOTE: options with suffix 'func' fits a function to the pixels whereas those without this suffix takes into account the integrated function within each pixel (and is closer to truth)\n",
    "settings['science']['extraction']['maxnumber'] = 999        # Maximum number of objects to extract in a science frame\n",
    "settings['science']['extraction']['manual01'] = {}\n",
    "settings['science']['extraction']['manual01']['frame'] = None\n",
    "settings['science']['extraction']['manual01']['params'] = None # Info for desired extraction [det,x_pixel_location, y_pixel_location,[x_range,y_range]]\n"
   ]
  },
  {
   "cell_type": "markdown",
   "metadata": {},
   "source": [
    "## Load up"
   ]
  },
  {
   "cell_type": "code",
   "execution_count": null,
   "metadata": {},
   "outputs": [],
   "source": [
    "# Bias\n",
    "settings['bias'] = {}\n",
    "settings['bias']['useframe'] = 'bias'\n",
    "#\n",
    "biasFrame = biasframe.BiasFrame(setup=setup, settings=settings)\n",
    "msbias = biasFrame.master()\n",
    "msbias.shape"
   ]
  },
  {
   "cell_type": "code",
   "execution_count": null,
   "metadata": {},
   "outputs": [],
   "source": [
    "# Traceslits\n",
    "settings['trace']['slits'] = traceslits.default_settings()['trace']['slits'].copy()\n",
    "traceSlits = traceslits.TraceSlits(None, None, setup=setup, settings=settings)\n",
    "traceSlits.master()"
   ]
  },
  {
   "cell_type": "code",
   "execution_count": null,
   "metadata": {},
   "outputs": [],
   "source": [
    "# Wavelengths\n",
    "waveImage = waveimage.WaveImage(setup=setup, settings=settings)\n",
    "wave = waveImage.master()\n",
    "wave.shape"
   ]
  },
  {
   "cell_type": "code",
   "execution_count": null,
   "metadata": {},
   "outputs": [],
   "source": [
    "# Tilts\n",
    "waveTilts = wavetilts.WaveTilts(None, setup=setup, settings=settings)\n",
    "tilts = waveTilts.master()\n",
    "tilts.shape"
   ]
  },
  {
   "cell_type": "code",
   "execution_count": null,
   "metadata": {},
   "outputs": [],
   "source": [
    "# Flat\n",
    "flatField = flatfield.FlatField(settings=settings, setup=setup)\n",
    "msflat = flatField.master()"
   ]
  },
  {
   "cell_type": "code",
   "execution_count": null,
   "metadata": {
    "collapsed": true
   },
   "outputs": [],
   "source": [
    "# Maskslits\n",
    "maskslits = np.array([False])"
   ]
  },
  {
   "cell_type": "code",
   "execution_count": null,
   "metadata": {},
   "outputs": [],
   "source": [
    "# datasec image\n",
    "reload(arprocimg)\n",
    "datasec_img, _, _ = arprocimg.get_datasec_trimmed(\n",
    "    spectrograph, None, settings['detector']['num'],\n",
    "    settings['detector'],\n",
    "    naxis0=settings['detector']['naxis0'],\n",
    "    naxis1=settings['detector']['naxis1'])\n",
    "datasec_img.shape"
   ]
  },
  {
   "cell_type": "code",
   "execution_count": null,
   "metadata": {
    "collapsed": true
   },
   "outputs": [],
   "source": [
    "# BPM\n",
    "bpm = np.zeros_like(datasec_img)"
   ]
  },
  {
   "cell_type": "markdown",
   "metadata": {},
   "source": [
    "## Instantiate"
   ]
  },
  {
   "cell_type": "code",
   "execution_count": null,
   "metadata": {
    "collapsed": true
   },
   "outputs": [],
   "source": [
    "files = [pypdev_path+'/RAW_DATA/Shane_Kast_blue/600_4310_d55/b27.fits.gz']"
   ]
  },
  {
   "cell_type": "code",
   "execution_count": null,
   "metadata": {
    "collapsed": true
   },
   "outputs": [],
   "source": [
    "reload(processimages)\n",
    "reload(scienceimage)\n",
    "\n",
    "sciI = scienceimage.ScienceImage(file_list=files,\n",
    "                                    spectrograph=spectrograph,\n",
    "                                     settings=settings,\n",
    "                                     tilts=tilts,\n",
    "                                     det=det,\n",
    "                                     tslits_dict=traceSlits.tslits_dict,\n",
    "                                     pixlocn=traceSlits.pixlocn,\n",
    "                                     datasec_img=datasec_img,\n",
    "                                     maskslits=maskslits,\n",
    "                                     setup=setup,\n",
    "                                         bpm=bpm\n",
    "                                    )"
   ]
  },
  {
   "cell_type": "markdown",
   "metadata": {},
   "source": [
    "## Process"
   ]
  },
  {
   "cell_type": "code",
   "execution_count": null,
   "metadata": {},
   "outputs": [],
   "source": [
    "_ = sciI._process(msbias, msflat, apply_gain=True, dnoise=0.)"
   ]
  },
  {
   "cell_type": "markdown",
   "metadata": {},
   "source": [
    "### View"
   ]
  },
  {
   "cell_type": "code",
   "execution_count": null,
   "metadata": {
    "collapsed": true
   },
   "outputs": [],
   "source": [
    "sciI.show('sci')"
   ]
  },
  {
   "cell_type": "code",
   "execution_count": null,
   "metadata": {
    "collapsed": true
   },
   "outputs": [],
   "source": [
    "sciI.show('rawvar')"
   ]
  },
  {
   "cell_type": "code",
   "execution_count": null,
   "metadata": {
    "collapsed": true
   },
   "outputs": [],
   "source": [
    "sciI.show('crmasked')"
   ]
  },
  {
   "cell_type": "markdown",
   "metadata": {},
   "source": [
    "## SkySub"
   ]
  },
  {
   "cell_type": "code",
   "execution_count": null,
   "metadata": {},
   "outputs": [],
   "source": [
    "settings['skysub'] = {}\n",
    "settings['skysub']['perform']=True\n",
    "settings['skysub']['method']= 'bspline'\n",
    "settings['skysub']['bspline'] = {}\n",
    "settings['skysub']['bspline']['everyn']=20\n",
    "#\n",
    "global_sky, modelvar = sciI.global_skysub(settings)"
   ]
  },
  {
   "cell_type": "code",
   "execution_count": null,
   "metadata": {
    "collapsed": true
   },
   "outputs": [],
   "source": [
    "sciI.show('global')"
   ]
  },
  {
   "cell_type": "code",
   "execution_count": null,
   "metadata": {
    "collapsed": true
   },
   "outputs": [],
   "source": [
    "sciI.show('image', image=sciI.sciframe-sciI.global_sky)"
   ]
  },
  {
   "cell_type": "markdown",
   "metadata": {},
   "source": [
    "## Find Object"
   ]
  },
  {
   "cell_type": "code",
   "execution_count": null,
   "metadata": {},
   "outputs": [],
   "source": [
    "settings['trace']"
   ]
  },
  {
   "cell_type": "code",
   "execution_count": null,
   "metadata": {},
   "outputs": [],
   "source": [
    "tracelist, nobj = sciI.find_objects()\n",
    "nobj"
   ]
  },
  {
   "cell_type": "code",
   "execution_count": null,
   "metadata": {},
   "outputs": [],
   "source": [
    "tracelist[0].keys()"
   ]
  },
  {
   "cell_type": "markdown",
   "metadata": {},
   "source": [
    "## Another round of skysub"
   ]
  },
  {
   "cell_type": "code",
   "execution_count": null,
   "metadata": {},
   "outputs": [],
   "source": [
    "_ = sciI.global_skysub(settings, use_tracemask=True)"
   ]
  },
  {
   "cell_type": "code",
   "execution_count": null,
   "metadata": {
    "collapsed": true
   },
   "outputs": [],
   "source": [
    "sciI.show('global')"
   ]
  },
  {
   "cell_type": "code",
   "execution_count": null,
   "metadata": {
    "collapsed": true
   },
   "outputs": [],
   "source": [
    "sciI.show('skysub')"
   ]
  },
  {
   "cell_type": "markdown",
   "metadata": {},
   "source": [
    "## Another round of finding objects"
   ]
  },
  {
   "cell_type": "code",
   "execution_count": null,
   "metadata": {},
   "outputs": [],
   "source": [
    "_, nobj = sciI.find_objects()\n",
    "nobj"
   ]
  },
  {
   "cell_type": "markdown",
   "metadata": {},
   "source": [
    "## Extraction"
   ]
  },
  {
   "cell_type": "code",
   "execution_count": null,
   "metadata": {},
   "outputs": [],
   "source": [
    "sciI.extraction(wave)"
   ]
  },
  {
   "cell_type": "code",
   "execution_count": null,
   "metadata": {
    "collapsed": true
   },
   "outputs": [],
   "source": []
  }
 ],
 "metadata": {
  "kernelspec": {
   "display_name": "Python 3",
   "language": "python",
   "name": "python3"
  },
  "language_info": {
   "codemirror_mode": {
    "name": "ipython",
    "version": 3
   },
   "file_extension": ".py",
   "mimetype": "text/x-python",
   "name": "python",
   "nbconvert_exporter": "python",
   "pygments_lexer": "ipython3",
   "version": "3.7.3"
  }
 },
 "nbformat": 4,
 "nbformat_minor": 2
}
