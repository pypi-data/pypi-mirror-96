{
 "cells": [
  {
   "cell_type": "markdown",
   "metadata": {},
   "source": [
    "# Fun with the PypitSetup Class [v2]\n",
    "    v2 -- Now with ParSet's"
   ]
  },
  {
   "cell_type": "code",
   "execution_count": 1,
   "metadata": {},
   "outputs": [],
   "source": [
    "# import\n",
    "from importlib import reload\n",
    "import os\n",
    "import glob\n",
    "import numpy as np\n",
    "\n",
    "from astropy.table import Table\n",
    "\n",
    "from pypit import pypitsetup\n",
    "from pypit.tests import tstutils\n",
    "from pypit.par import pypitpar"
   ]
  },
  {
   "cell_type": "markdown",
   "metadata": {},
   "source": [
    "## To play along, you need the Development suite and the $PYPIT_DEV environmental variable pointed at it"
   ]
  },
  {
   "cell_type": "code",
   "execution_count": 2,
   "metadata": {},
   "outputs": [
    {
     "data": {
      "text/plain": [
       "'/Users/westfall/Work/packages/PYPIT-development-suite'"
      ]
     },
     "execution_count": 2,
     "metadata": {},
     "output_type": "execute_result"
    }
   ],
   "source": [
    "os.getenv('PYPIT_DEV')"
   ]
  },
  {
   "cell_type": "markdown",
   "metadata": {},
   "source": [
    "## Shane Kast Blue"
   ]
  },
  {
   "cell_type": "code",
   "execution_count": 3,
   "metadata": {},
   "outputs": [],
   "source": [
    "spectrograph = tstutils.load_kast_blue_masters(get_spectrograph=True)[0]"
   ]
  },
  {
   "cell_type": "code",
   "execution_count": 4,
   "metadata": {},
   "outputs": [
    {
     "data": {
      "text/plain": [
       "<ShaneKastBlueSpectrograph:  spectrograph=shane_kast_blue, camera=KASTb>"
      ]
     },
     "execution_count": 4,
     "metadata": {},
     "output_type": "execute_result"
    }
   ],
   "source": [
    "spectrograph"
   ]
  },
  {
   "cell_type": "markdown",
   "metadata": {},
   "source": [
    "## Build the fitstbl"
   ]
  },
  {
   "cell_type": "code",
   "execution_count": 5,
   "metadata": {},
   "outputs": [
    {
     "data": {
      "text/plain": [
       "27"
      ]
     },
     "execution_count": 5,
     "metadata": {},
     "output_type": "execute_result"
    }
   ],
   "source": [
    "kast_blue_files = glob.glob(os.path.join(os.getenv('PYPIT_DEV'), 'RAW_DATA', 'Shane_Kast_blue', '600_4310_d55', 'b*'))\n",
    "len(kast_blue_files)"
   ]
  },
  {
   "cell_type": "code",
   "execution_count": 6,
   "metadata": {},
   "outputs": [],
   "source": [
    "# Init\n",
    "setupc = pypitsetup.PypitSetup(kast_blue_files, spectrograph_name='shane_kast_blue')"
   ]
  },
  {
   "cell_type": "code",
   "execution_count": 7,
   "metadata": {},
   "outputs": [
    {
     "name": "stderr",
     "output_type": "stream",
     "text": [
      "\u001b[1;31m[WARNING] ::\u001b[0m UTC is not listed as a header keyword in file:\n",
      "             /Users/westfall/Work/packages/PYPIT-development-suite/RAW_DATA/Shane_Kast_blue/600_4310_d55/b1.fits.gz\n",
      "\u001b[1;31m[WARNING] ::\u001b[0m BINNING keyword not in header. Setting to None\n",
      "\u001b[1;32m[INFO]    ::\u001b[0m Successfully loaded headers for file:\n",
      "             /Users/westfall/Work/packages/PYPIT-development-suite/RAW_DATA/Shane_Kast_blue/600_4310_d55/b1.fits.gz\n",
      "\u001b[1;31m[WARNING] ::\u001b[0m UTC is not listed as a header keyword in file:\n",
      "             /Users/westfall/Work/packages/PYPIT-development-suite/RAW_DATA/Shane_Kast_blue/600_4310_d55/b10.fits.gz\n",
      "\u001b[1;31m[WARNING] ::\u001b[0m BINNING keyword not in header. Setting to None\n",
      "\u001b[1;32m[INFO]    ::\u001b[0m Successfully loaded headers for file:\n",
      "             /Users/westfall/Work/packages/PYPIT-development-suite/RAW_DATA/Shane_Kast_blue/600_4310_d55/b10.fits.gz\n",
      "\u001b[1;31m[WARNING] ::\u001b[0m UTC is not listed as a header keyword in file:\n",
      "             /Users/westfall/Work/packages/PYPIT-development-suite/RAW_DATA/Shane_Kast_blue/600_4310_d55/b11.fits.gz\n",
      "\u001b[1;31m[WARNING] ::\u001b[0m BINNING keyword not in header. Setting to None\n",
      "\u001b[1;32m[INFO]    ::\u001b[0m Successfully loaded headers for file:\n",
      "             /Users/westfall/Work/packages/PYPIT-development-suite/RAW_DATA/Shane_Kast_blue/600_4310_d55/b11.fits.gz\n",
      "\u001b[1;31m[WARNING] ::\u001b[0m UTC is not listed as a header keyword in file:\n",
      "             /Users/westfall/Work/packages/PYPIT-development-suite/RAW_DATA/Shane_Kast_blue/600_4310_d55/b12.fits.gz\n",
      "\u001b[1;31m[WARNING] ::\u001b[0m BINNING keyword not in header. Setting to None\n",
      "\u001b[1;32m[INFO]    ::\u001b[0m Successfully loaded headers for file:\n",
      "             /Users/westfall/Work/packages/PYPIT-development-suite/RAW_DATA/Shane_Kast_blue/600_4310_d55/b12.fits.gz\n",
      "\u001b[1;31m[WARNING] ::\u001b[0m UTC is not listed as a header keyword in file:\n",
      "             /Users/westfall/Work/packages/PYPIT-development-suite/RAW_DATA/Shane_Kast_blue/600_4310_d55/b13.fits.gz\n",
      "\u001b[1;31m[WARNING] ::\u001b[0m BINNING keyword not in header. Setting to None\n",
      "\u001b[1;32m[INFO]    ::\u001b[0m Successfully loaded headers for file:\n",
      "             /Users/westfall/Work/packages/PYPIT-development-suite/RAW_DATA/Shane_Kast_blue/600_4310_d55/b13.fits.gz\n",
      "\u001b[1;31m[WARNING] ::\u001b[0m UTC is not listed as a header keyword in file:\n",
      "             /Users/westfall/Work/packages/PYPIT-development-suite/RAW_DATA/Shane_Kast_blue/600_4310_d55/b14.fits.gz\n",
      "\u001b[1;31m[WARNING] ::\u001b[0m BINNING keyword not in header. Setting to None\n",
      "\u001b[1;32m[INFO]    ::\u001b[0m Successfully loaded headers for file:\n",
      "             /Users/westfall/Work/packages/PYPIT-development-suite/RAW_DATA/Shane_Kast_blue/600_4310_d55/b14.fits.gz\n",
      "\u001b[1;31m[WARNING] ::\u001b[0m UTC is not listed as a header keyword in file:\n",
      "             /Users/westfall/Work/packages/PYPIT-development-suite/RAW_DATA/Shane_Kast_blue/600_4310_d55/b15.fits.gz\n",
      "\u001b[1;31m[WARNING] ::\u001b[0m BINNING keyword not in header. Setting to None\n",
      "\u001b[1;32m[INFO]    ::\u001b[0m Successfully loaded headers for file:\n",
      "             /Users/westfall/Work/packages/PYPIT-development-suite/RAW_DATA/Shane_Kast_blue/600_4310_d55/b15.fits.gz\n",
      "\u001b[1;31m[WARNING] ::\u001b[0m UTC is not listed as a header keyword in file:\n",
      "             /Users/westfall/Work/packages/PYPIT-development-suite/RAW_DATA/Shane_Kast_blue/600_4310_d55/b16.fits.gz\n",
      "\u001b[1;31m[WARNING] ::\u001b[0m BINNING keyword not in header. Setting to None\n",
      "\u001b[1;32m[INFO]    ::\u001b[0m Successfully loaded headers for file:\n",
      "             /Users/westfall/Work/packages/PYPIT-development-suite/RAW_DATA/Shane_Kast_blue/600_4310_d55/b16.fits.gz\n",
      "\u001b[1;31m[WARNING] ::\u001b[0m UTC is not listed as a header keyword in file:\n",
      "             /Users/westfall/Work/packages/PYPIT-development-suite/RAW_DATA/Shane_Kast_blue/600_4310_d55/b17.fits.gz\n",
      "\u001b[1;31m[WARNING] ::\u001b[0m BINNING keyword not in header. Setting to None\n",
      "\u001b[1;32m[INFO]    ::\u001b[0m Successfully loaded headers for file:\n",
      "             /Users/westfall/Work/packages/PYPIT-development-suite/RAW_DATA/Shane_Kast_blue/600_4310_d55/b17.fits.gz\n",
      "\u001b[1;31m[WARNING] ::\u001b[0m UTC is not listed as a header keyword in file:\n",
      "             /Users/westfall/Work/packages/PYPIT-development-suite/RAW_DATA/Shane_Kast_blue/600_4310_d55/b18.fits.gz\n",
      "\u001b[1;31m[WARNING] ::\u001b[0m BINNING keyword not in header. Setting to None\n",
      "\u001b[1;32m[INFO]    ::\u001b[0m Successfully loaded headers for file:\n",
      "             /Users/westfall/Work/packages/PYPIT-development-suite/RAW_DATA/Shane_Kast_blue/600_4310_d55/b18.fits.gz\n",
      "\u001b[1;31m[WARNING] ::\u001b[0m UTC is not listed as a header keyword in file:\n",
      "             /Users/westfall/Work/packages/PYPIT-development-suite/RAW_DATA/Shane_Kast_blue/600_4310_d55/b19.fits.gz\n",
      "\u001b[1;31m[WARNING] ::\u001b[0m BINNING keyword not in header. Setting to None\n",
      "\u001b[1;32m[INFO]    ::\u001b[0m Successfully loaded headers for file:\n",
      "             /Users/westfall/Work/packages/PYPIT-development-suite/RAW_DATA/Shane_Kast_blue/600_4310_d55/b19.fits.gz\n",
      "\u001b[1;31m[WARNING] ::\u001b[0m UTC is not listed as a header keyword in file:\n",
      "             /Users/westfall/Work/packages/PYPIT-development-suite/RAW_DATA/Shane_Kast_blue/600_4310_d55/b2.fits.gz\n",
      "\u001b[1;31m[WARNING] ::\u001b[0m BINNING keyword not in header. Setting to None\n",
      "\u001b[1;32m[INFO]    ::\u001b[0m Successfully loaded headers for file:\n",
      "             /Users/westfall/Work/packages/PYPIT-development-suite/RAW_DATA/Shane_Kast_blue/600_4310_d55/b2.fits.gz\n",
      "\u001b[1;31m[WARNING] ::\u001b[0m UTC is not listed as a header keyword in file:\n",
      "             /Users/westfall/Work/packages/PYPIT-development-suite/RAW_DATA/Shane_Kast_blue/600_4310_d55/b20.fits.gz\n",
      "\u001b[1;31m[WARNING] ::\u001b[0m BINNING keyword not in header. Setting to None\n",
      "\u001b[1;32m[INFO]    ::\u001b[0m Successfully loaded headers for file:\n",
      "             /Users/westfall/Work/packages/PYPIT-development-suite/RAW_DATA/Shane_Kast_blue/600_4310_d55/b20.fits.gz\n",
      "\u001b[1;31m[WARNING] ::\u001b[0m UTC is not listed as a header keyword in file:\n",
      "             /Users/westfall/Work/packages/PYPIT-development-suite/RAW_DATA/Shane_Kast_blue/600_4310_d55/b21.fits.gz\n",
      "\u001b[1;31m[WARNING] ::\u001b[0m BINNING keyword not in header. Setting to None\n",
      "\u001b[1;32m[INFO]    ::\u001b[0m Successfully loaded headers for file:\n",
      "             /Users/westfall/Work/packages/PYPIT-development-suite/RAW_DATA/Shane_Kast_blue/600_4310_d55/b21.fits.gz\n",
      "\u001b[1;31m[WARNING] ::\u001b[0m UTC is not listed as a header keyword in file:\n",
      "             /Users/westfall/Work/packages/PYPIT-development-suite/RAW_DATA/Shane_Kast_blue/600_4310_d55/b22.fits.gz\n",
      "\u001b[1;31m[WARNING] ::\u001b[0m BINNING keyword not in header. Setting to None\n",
      "\u001b[1;32m[INFO]    ::\u001b[0m Successfully loaded headers for file:\n",
      "             /Users/westfall/Work/packages/PYPIT-development-suite/RAW_DATA/Shane_Kast_blue/600_4310_d55/b22.fits.gz\n",
      "\u001b[1;31m[WARNING] ::\u001b[0m UTC is not listed as a header keyword in file:\n",
      "             /Users/westfall/Work/packages/PYPIT-development-suite/RAW_DATA/Shane_Kast_blue/600_4310_d55/b23.fits.gz\n",
      "\u001b[1;31m[WARNING] ::\u001b[0m BINNING keyword not in header. Setting to None\n",
      "\u001b[1;32m[INFO]    ::\u001b[0m Successfully loaded headers for file:\n",
      "             /Users/westfall/Work/packages/PYPIT-development-suite/RAW_DATA/Shane_Kast_blue/600_4310_d55/b23.fits.gz\n",
      "\u001b[1;31m[WARNING] ::\u001b[0m UTC is not listed as a header keyword in file:\n",
      "             /Users/westfall/Work/packages/PYPIT-development-suite/RAW_DATA/Shane_Kast_blue/600_4310_d55/b24.fits.gz\n",
      "\u001b[1;31m[WARNING] ::\u001b[0m BINNING keyword not in header. Setting to None\n",
      "\u001b[1;32m[INFO]    ::\u001b[0m Successfully loaded headers for file:\n",
      "             /Users/westfall/Work/packages/PYPIT-development-suite/RAW_DATA/Shane_Kast_blue/600_4310_d55/b24.fits.gz\n",
      "\u001b[1;31m[WARNING] ::\u001b[0m UTC is not listed as a header keyword in file:\n",
      "             /Users/westfall/Work/packages/PYPIT-development-suite/RAW_DATA/Shane_Kast_blue/600_4310_d55/b27.fits.gz\n",
      "\u001b[1;31m[WARNING] ::\u001b[0m BINNING keyword not in header. Setting to None\n",
      "\u001b[1;32m[INFO]    ::\u001b[0m Successfully loaded headers for file:\n",
      "             /Users/westfall/Work/packages/PYPIT-development-suite/RAW_DATA/Shane_Kast_blue/600_4310_d55/b27.fits.gz\n",
      "\u001b[1;31m[WARNING] ::\u001b[0m UTC is not listed as a header keyword in file:\n",
      "             /Users/westfall/Work/packages/PYPIT-development-suite/RAW_DATA/Shane_Kast_blue/600_4310_d55/b28.fits.gz\n",
      "\u001b[1;31m[WARNING] ::\u001b[0m BINNING keyword not in header. Setting to None\n",
      "\u001b[1;32m[INFO]    ::\u001b[0m Successfully loaded headers for file:\n",
      "             /Users/westfall/Work/packages/PYPIT-development-suite/RAW_DATA/Shane_Kast_blue/600_4310_d55/b28.fits.gz\n",
      "\u001b[1;31m[WARNING] ::\u001b[0m UTC is not listed as a header keyword in file:\n",
      "             /Users/westfall/Work/packages/PYPIT-development-suite/RAW_DATA/Shane_Kast_blue/600_4310_d55/b29.fits.gz\n",
      "\u001b[1;31m[WARNING] ::\u001b[0m BINNING keyword not in header. Setting to None\n",
      "\u001b[1;32m[INFO]    ::\u001b[0m Successfully loaded headers for file:\n",
      "             /Users/westfall/Work/packages/PYPIT-development-suite/RAW_DATA/Shane_Kast_blue/600_4310_d55/b29.fits.gz\n",
      "\u001b[1;31m[WARNING] ::\u001b[0m UTC is not listed as a header keyword in file:\n",
      "             /Users/westfall/Work/packages/PYPIT-development-suite/RAW_DATA/Shane_Kast_blue/600_4310_d55/b3.fits.gz\n",
      "\u001b[1;31m[WARNING] ::\u001b[0m BINNING keyword not in header. Setting to None\n",
      "\u001b[1;32m[INFO]    ::\u001b[0m Successfully loaded headers for file:\n",
      "             /Users/westfall/Work/packages/PYPIT-development-suite/RAW_DATA/Shane_Kast_blue/600_4310_d55/b3.fits.gz\n",
      "\u001b[1;31m[WARNING] ::\u001b[0m UTC is not listed as a header keyword in file:\n",
      "             /Users/westfall/Work/packages/PYPIT-development-suite/RAW_DATA/Shane_Kast_blue/600_4310_d55/b4.fits.gz\n",
      "\u001b[1;31m[WARNING] ::\u001b[0m BINNING keyword not in header. Setting to None\n",
      "\u001b[1;32m[INFO]    ::\u001b[0m Successfully loaded headers for file:\n",
      "             /Users/westfall/Work/packages/PYPIT-development-suite/RAW_DATA/Shane_Kast_blue/600_4310_d55/b4.fits.gz\n",
      "\u001b[1;31m[WARNING] ::\u001b[0m UTC is not listed as a header keyword in file:\n",
      "             /Users/westfall/Work/packages/PYPIT-development-suite/RAW_DATA/Shane_Kast_blue/600_4310_d55/b5.fits.gz\n",
      "\u001b[1;31m[WARNING] ::\u001b[0m BINNING keyword not in header. Setting to None\n",
      "\u001b[1;32m[INFO]    ::\u001b[0m Successfully loaded headers for file:\n",
      "             /Users/westfall/Work/packages/PYPIT-development-suite/RAW_DATA/Shane_Kast_blue/600_4310_d55/b5.fits.gz\n",
      "\u001b[1;31m[WARNING] ::\u001b[0m UTC is not listed as a header keyword in file:\n",
      "             /Users/westfall/Work/packages/PYPIT-development-suite/RAW_DATA/Shane_Kast_blue/600_4310_d55/b6.fits.gz\n",
      "\u001b[1;31m[WARNING] ::\u001b[0m BINNING keyword not in header. Setting to None\n",
      "\u001b[1;32m[INFO]    ::\u001b[0m Successfully loaded headers for file:\n",
      "             /Users/westfall/Work/packages/PYPIT-development-suite/RAW_DATA/Shane_Kast_blue/600_4310_d55/b6.fits.gz\n",
      "\u001b[1;31m[WARNING] ::\u001b[0m UTC is not listed as a header keyword in file:\n",
      "             /Users/westfall/Work/packages/PYPIT-development-suite/RAW_DATA/Shane_Kast_blue/600_4310_d55/b7.fits.gz\n",
      "\u001b[1;31m[WARNING] ::\u001b[0m BINNING keyword not in header. Setting to None\n",
      "\u001b[1;32m[INFO]    ::\u001b[0m Successfully loaded headers for file:\n",
      "             /Users/westfall/Work/packages/PYPIT-development-suite/RAW_DATA/Shane_Kast_blue/600_4310_d55/b7.fits.gz\n",
      "\u001b[1;31m[WARNING] ::\u001b[0m UTC is not listed as a header keyword in file:\n",
      "             /Users/westfall/Work/packages/PYPIT-development-suite/RAW_DATA/Shane_Kast_blue/600_4310_d55/b8.fits.gz\n",
      "\u001b[1;31m[WARNING] ::\u001b[0m BINNING keyword not in header. Setting to None\n",
      "\u001b[1;32m[INFO]    ::\u001b[0m Successfully loaded headers for file:\n",
      "             /Users/westfall/Work/packages/PYPIT-development-suite/RAW_DATA/Shane_Kast_blue/600_4310_d55/b8.fits.gz\n"
     ]
    },
    {
     "name": "stderr",
     "output_type": "stream",
     "text": [
      "\u001b[1;31m[WARNING] ::\u001b[0m UTC is not listed as a header keyword in file:\n",
      "             /Users/westfall/Work/packages/PYPIT-development-suite/RAW_DATA/Shane_Kast_blue/600_4310_d55/b9.fits.gz\n",
      "\u001b[1;31m[WARNING] ::\u001b[0m BINNING keyword not in header. Setting to None\n",
      "\u001b[1;32m[INFO]    ::\u001b[0m Successfully loaded headers for file:\n",
      "             /Users/westfall/Work/packages/PYPIT-development-suite/RAW_DATA/Shane_Kast_blue/600_4310_d55/b9.fits.gz\n",
      "\u001b[1;32m[INFO]    ::\u001b[0m Checking spectrograph settings for required header information\n",
      "\u001b[1;32m[INFO]    ::\u001b[0m Headers loaded for 27 files successfully\n"
     ]
    }
   ],
   "source": [
    "fitstbl = setupc.build_fitstbl(kast_blue_files)"
   ]
  },
  {
   "cell_type": "code",
   "execution_count": 8,
   "metadata": {},
   "outputs": [
    {
     "data": {
      "text/html": [
       "<i>Table length=5</i>\n",
       "<table id=\"table4528814400\" class=\"table-striped table-bordered table-condensed\">\n",
       "<thead><tr><th>directory</th><th>filename</th><th>utc</th><th>target</th><th>idname</th><th>time</th><th>date</th><th>ra</th><th>dec</th><th>airmass</th><th>binning</th><th>exptime</th><th>decker</th><th>dichroic</th><th>dispname</th><th>naxis0</th><th>naxis1</th><th>lampname01</th><th>lampstat01</th><th>lampname02</th><th>lampstat02</th><th>lampname03</th><th>lampstat03</th><th>lampname04</th><th>lampstat04</th><th>lampname05</th><th>lampstat05</th><th>lampname06</th><th>lampstat06</th><th>lampname07</th><th>lampstat07</th><th>lampname08</th><th>lampstat08</th><th>lampname09</th><th>lampstat09</th><th>lampname10</th><th>lampstat10</th><th>lampname11</th><th>lampstat11</th><th>lampname12</th><th>lampstat12</th><th>lampname13</th><th>lampstat13</th><th>lampname14</th><th>lampstat14</th><th>lampname15</th><th>lampstat15</th><th>lampname16</th><th>lampstat16</th><th>instrume</th></tr></thead>\n",
       "<thead><tr><th>str92</th><th>str11</th><th>str4</th><th>str10</th><th>str6</th><th>float64</th><th>str22</th><th>str10</th><th>str10</th><th>float64</th><th>str4</th><th>int64</th><th>str10</th><th>str3</th><th>str8</th><th>int64</th><th>int64</th><th>str4</th><th>str3</th><th>str3</th><th>str3</th><th>str6</th><th>str3</th><th>str6</th><th>str3</th><th>str8</th><th>str3</th><th>str6</th><th>str3</th><th>str6</th><th>str3</th><th>str6</th><th>str3</th><th>str8</th><th>str3</th><th>str8</th><th>str3</th><th>str2</th><th>str3</th><th>str5</th><th>str3</th><th>str4</th><th>str3</th><th>str6</th><th>str3</th><th>str4</th><th>str3</th><th>str5</th><th>str3</th><th>str15</th></tr></thead>\n",
       "<tr><td>/Users/westfall/Work/packages/PYPIT-development-suite/RAW_DATA/Shane_Kast_blue/600_4310_d55/</td><td>b1.fits.gz</td><td>None</td><td>Arcs</td><td>OBJECT</td><td>397801.59944444447</td><td>2015-05-20T01:35:58.10</td><td>09:21:46.0</td><td>37:25:56.0</td><td>1.0</td><td>None</td><td>30</td><td>0.5 arcsec</td><td>d55</td><td>600/4310</td><td>350</td><td>2112</td><td>Blue</td><td>off</td><td>Red</td><td>off</td><td>Spare3</td><td>off</td><td>Spare4</td><td>off</td><td>Sup_Blue</td><td>off</td><td>Spare1</td><td>off</td><td>Spare2</td><td>off</td><td>Spare3</td><td>off</td><td>Spare_Ar</td><td>off</td><td>Dim_Neon</td><td>off</td><td>He</td><td>on</td><td>Hg-Cd</td><td>on</td><td>Hg-A</td><td>off</td><td>Spare9</td><td>off</td><td>Neon</td><td>off</td><td>Laser</td><td>off</td><td>shane_kast_blue</td></tr>\n",
       "<tr><td>/Users/westfall/Work/packages/PYPIT-development-suite/RAW_DATA/Shane_Kast_blue/600_4310_d55/</td><td>b2.fits.gz</td><td>None</td><td>Dome Flat</td><td>OBJECT</td><td>397801.7936111111</td><td>2015-05-20T01:47:37.23</td><td>09:33:26.9</td><td>37:25:56.0</td><td>1.0</td><td>None</td><td>30</td><td>2.0 arcsec</td><td>d55</td><td>600/4310</td><td>350</td><td>2112</td><td>Blue</td><td>off</td><td>Red</td><td>off</td><td>Spare3</td><td>off</td><td>Spare4</td><td>off</td><td>Sup_Blue</td><td>on</td><td>Spare1</td><td>off</td><td>Spare2</td><td>off</td><td>Spare3</td><td>off</td><td>Spare_Ar</td><td>off</td><td>Dim_Neon</td><td>off</td><td>He</td><td>off</td><td>Hg-Cd</td><td>off</td><td>Hg-A</td><td>off</td><td>Spare9</td><td>off</td><td>Neon</td><td>off</td><td>Laser</td><td>off</td><td>shane_kast_blue</td></tr>\n",
       "<tr><td>/Users/westfall/Work/packages/PYPIT-development-suite/RAW_DATA/Shane_Kast_blue/600_4310_d55/</td><td>b3.fits.gz</td><td>None</td><td>Dome Flat</td><td>OBJECT</td><td>397801.8230555556</td><td>2015-05-20T01:49:23.29</td><td>09:35:28.3</td><td>37:25:56.0</td><td>1.0</td><td>None</td><td>15</td><td>2.0 arcsec</td><td>d55</td><td>600/4310</td><td>350</td><td>2112</td><td>Blue</td><td>off</td><td>Red</td><td>off</td><td>Spare3</td><td>off</td><td>Spare4</td><td>off</td><td>Sup_Blue</td><td>on</td><td>Spare1</td><td>off</td><td>Spare2</td><td>off</td><td>Spare3</td><td>off</td><td>Spare_Ar</td><td>off</td><td>Dim_Neon</td><td>off</td><td>He</td><td>off</td><td>Hg-Cd</td><td>off</td><td>Hg-A</td><td>off</td><td>Spare9</td><td>off</td><td>Neon</td><td>off</td><td>Laser</td><td>off</td><td>shane_kast_blue</td></tr>\n",
       "<tr><td>/Users/westfall/Work/packages/PYPIT-development-suite/RAW_DATA/Shane_Kast_blue/600_4310_d55/</td><td>b4.fits.gz</td><td>None</td><td>Dome Flat</td><td>OBJECT</td><td>397801.83194444445</td><td>2015-05-20T01:49:55.93</td><td>09:36:01.1</td><td>37:25:56.0</td><td>1.0</td><td>None</td><td>15</td><td>2.0 arcsec</td><td>d55</td><td>600/4310</td><td>350</td><td>2112</td><td>Blue</td><td>off</td><td>Red</td><td>off</td><td>Spare3</td><td>off</td><td>Spare4</td><td>off</td><td>Sup_Blue</td><td>on</td><td>Spare1</td><td>off</td><td>Spare2</td><td>off</td><td>Spare3</td><td>off</td><td>Spare_Ar</td><td>off</td><td>Dim_Neon</td><td>off</td><td>He</td><td>off</td><td>Hg-Cd</td><td>off</td><td>Hg-A</td><td>off</td><td>Spare9</td><td>off</td><td>Neon</td><td>off</td><td>Laser</td><td>off</td><td>shane_kast_blue</td></tr>\n",
       "<tr><td>/Users/westfall/Work/packages/PYPIT-development-suite/RAW_DATA/Shane_Kast_blue/600_4310_d55/</td><td>b5.fits.gz</td><td>None</td><td>Dome Flat</td><td>OBJECT</td><td>397801.8411111111</td><td>2015-05-20T01:50:28.57</td><td>09:36:33.7</td><td>37:25:56.0</td><td>1.0</td><td>None</td><td>15</td><td>2.0 arcsec</td><td>d55</td><td>600/4310</td><td>350</td><td>2112</td><td>Blue</td><td>off</td><td>Red</td><td>off</td><td>Spare3</td><td>off</td><td>Spare4</td><td>off</td><td>Sup_Blue</td><td>on</td><td>Spare1</td><td>off</td><td>Spare2</td><td>off</td><td>Spare3</td><td>off</td><td>Spare_Ar</td><td>off</td><td>Dim_Neon</td><td>off</td><td>He</td><td>off</td><td>Hg-Cd</td><td>off</td><td>Hg-A</td><td>off</td><td>Spare9</td><td>off</td><td>Neon</td><td>off</td><td>Laser</td><td>off</td><td>shane_kast_blue</td></tr>\n",
       "</table>"
      ],
      "text/plain": [
       "<Table length=5>\n",
       "                                         directory                                           ...\n",
       "                                           str92                                             ...\n",
       "-------------------------------------------------------------------------------------------- ...\n",
       "/Users/westfall/Work/packages/PYPIT-development-suite/RAW_DATA/Shane_Kast_blue/600_4310_d55/ ...\n",
       "/Users/westfall/Work/packages/PYPIT-development-suite/RAW_DATA/Shane_Kast_blue/600_4310_d55/ ...\n",
       "/Users/westfall/Work/packages/PYPIT-development-suite/RAW_DATA/Shane_Kast_blue/600_4310_d55/ ...\n",
       "/Users/westfall/Work/packages/PYPIT-development-suite/RAW_DATA/Shane_Kast_blue/600_4310_d55/ ...\n",
       "/Users/westfall/Work/packages/PYPIT-development-suite/RAW_DATA/Shane_Kast_blue/600_4310_d55/ ..."
      ]
     },
     "execution_count": 8,
     "metadata": {},
     "output_type": "execute_result"
    }
   ],
   "source": [
    "fitstbl[0:5]"
   ]
  },
  {
   "cell_type": "markdown",
   "metadata": {},
   "source": [
    "### Write"
   ]
  },
  {
   "cell_type": "code",
   "execution_count": 9,
   "metadata": {},
   "outputs": [],
   "source": [
    "setupc.write_fitstbl('fitstbl.fits')"
   ]
  },
  {
   "cell_type": "markdown",
   "metadata": {},
   "source": [
    "### Load"
   ]
  },
  {
   "cell_type": "code",
   "execution_count": 10,
   "metadata": {},
   "outputs": [
    {
     "name": "stderr",
     "output_type": "stream",
     "text": [
      "\u001b[1;32m[INFO]    ::\u001b[0m Loaded fitstbl from fitstbl.fits\n"
     ]
    },
    {
     "data": {
      "text/html": [
       "<i>Table length=27</i>\n",
       "<table id=\"table4531114504\" class=\"table-striped table-bordered table-condensed\">\n",
       "<thead><tr><th>directory</th><th>filename</th><th>utc</th><th>target</th><th>idname</th><th>time</th><th>date</th><th>ra</th><th>dec</th><th>airmass</th><th>binning</th><th>exptime</th><th>decker</th><th>dichroic</th><th>dispname</th><th>naxis0</th><th>naxis1</th><th>lampname01</th><th>lampstat01</th><th>lampname02</th><th>lampstat02</th><th>lampname03</th><th>lampstat03</th><th>lampname04</th><th>lampstat04</th><th>lampname05</th><th>lampstat05</th><th>lampname06</th><th>lampstat06</th><th>lampname07</th><th>lampstat07</th><th>lampname08</th><th>lampstat08</th><th>lampname09</th><th>lampstat09</th><th>lampname10</th><th>lampstat10</th><th>lampname11</th><th>lampstat11</th><th>lampname12</th><th>lampstat12</th><th>lampname13</th><th>lampstat13</th><th>lampname14</th><th>lampstat14</th><th>lampname15</th><th>lampstat15</th><th>lampname16</th><th>lampstat16</th><th>instrume</th></tr></thead>\n",
       "<thead><tr><th>str92</th><th>str11</th><th>str4</th><th>str10</th><th>str6</th><th>float64</th><th>str22</th><th>str10</th><th>str10</th><th>float64</th><th>str4</th><th>int64</th><th>str10</th><th>str3</th><th>str8</th><th>int64</th><th>int64</th><th>str4</th><th>str3</th><th>str3</th><th>str3</th><th>str6</th><th>str3</th><th>str6</th><th>str3</th><th>str8</th><th>str3</th><th>str6</th><th>str3</th><th>str6</th><th>str3</th><th>str6</th><th>str3</th><th>str8</th><th>str3</th><th>str8</th><th>str3</th><th>str2</th><th>str3</th><th>str5</th><th>str3</th><th>str4</th><th>str3</th><th>str6</th><th>str3</th><th>str4</th><th>str3</th><th>str5</th><th>str3</th><th>str15</th></tr></thead>\n",
       "<tr><td>/Users/westfall/Work/packages/PYPIT-development-suite/RAW_DATA/Shane_Kast_blue/600_4310_d55/</td><td>b1.fits.gz</td><td>None</td><td>Arcs</td><td>OBJECT</td><td>397801.59944444447</td><td>2015-05-20T01:35:58.10</td><td>09:21:46.0</td><td>37:25:56.0</td><td>1.0</td><td>None</td><td>30</td><td>0.5 arcsec</td><td>d55</td><td>600/4310</td><td>350</td><td>2112</td><td>Blue</td><td>off</td><td>Red</td><td>off</td><td>Spare3</td><td>off</td><td>Spare4</td><td>off</td><td>Sup_Blue</td><td>off</td><td>Spare1</td><td>off</td><td>Spare2</td><td>off</td><td>Spare3</td><td>off</td><td>Spare_Ar</td><td>off</td><td>Dim_Neon</td><td>off</td><td>He</td><td>on</td><td>Hg-Cd</td><td>on</td><td>Hg-A</td><td>off</td><td>Spare9</td><td>off</td><td>Neon</td><td>off</td><td>Laser</td><td>off</td><td>shane_kast_blue</td></tr>\n",
       "<tr><td>/Users/westfall/Work/packages/PYPIT-development-suite/RAW_DATA/Shane_Kast_blue/600_4310_d55/</td><td>b2.fits.gz</td><td>None</td><td>Dome Flat</td><td>OBJECT</td><td>397801.7936111111</td><td>2015-05-20T01:47:37.23</td><td>09:33:26.9</td><td>37:25:56.0</td><td>1.0</td><td>None</td><td>30</td><td>2.0 arcsec</td><td>d55</td><td>600/4310</td><td>350</td><td>2112</td><td>Blue</td><td>off</td><td>Red</td><td>off</td><td>Spare3</td><td>off</td><td>Spare4</td><td>off</td><td>Sup_Blue</td><td>on</td><td>Spare1</td><td>off</td><td>Spare2</td><td>off</td><td>Spare3</td><td>off</td><td>Spare_Ar</td><td>off</td><td>Dim_Neon</td><td>off</td><td>He</td><td>off</td><td>Hg-Cd</td><td>off</td><td>Hg-A</td><td>off</td><td>Spare9</td><td>off</td><td>Neon</td><td>off</td><td>Laser</td><td>off</td><td>shane_kast_blue</td></tr>\n",
       "<tr><td>/Users/westfall/Work/packages/PYPIT-development-suite/RAW_DATA/Shane_Kast_blue/600_4310_d55/</td><td>b3.fits.gz</td><td>None</td><td>Dome Flat</td><td>OBJECT</td><td>397801.8230555556</td><td>2015-05-20T01:49:23.29</td><td>09:35:28.3</td><td>37:25:56.0</td><td>1.0</td><td>None</td><td>15</td><td>2.0 arcsec</td><td>d55</td><td>600/4310</td><td>350</td><td>2112</td><td>Blue</td><td>off</td><td>Red</td><td>off</td><td>Spare3</td><td>off</td><td>Spare4</td><td>off</td><td>Sup_Blue</td><td>on</td><td>Spare1</td><td>off</td><td>Spare2</td><td>off</td><td>Spare3</td><td>off</td><td>Spare_Ar</td><td>off</td><td>Dim_Neon</td><td>off</td><td>He</td><td>off</td><td>Hg-Cd</td><td>off</td><td>Hg-A</td><td>off</td><td>Spare9</td><td>off</td><td>Neon</td><td>off</td><td>Laser</td><td>off</td><td>shane_kast_blue</td></tr>\n",
       "<tr><td>/Users/westfall/Work/packages/PYPIT-development-suite/RAW_DATA/Shane_Kast_blue/600_4310_d55/</td><td>b4.fits.gz</td><td>None</td><td>Dome Flat</td><td>OBJECT</td><td>397801.83194444445</td><td>2015-05-20T01:49:55.93</td><td>09:36:01.1</td><td>37:25:56.0</td><td>1.0</td><td>None</td><td>15</td><td>2.0 arcsec</td><td>d55</td><td>600/4310</td><td>350</td><td>2112</td><td>Blue</td><td>off</td><td>Red</td><td>off</td><td>Spare3</td><td>off</td><td>Spare4</td><td>off</td><td>Sup_Blue</td><td>on</td><td>Spare1</td><td>off</td><td>Spare2</td><td>off</td><td>Spare3</td><td>off</td><td>Spare_Ar</td><td>off</td><td>Dim_Neon</td><td>off</td><td>He</td><td>off</td><td>Hg-Cd</td><td>off</td><td>Hg-A</td><td>off</td><td>Spare9</td><td>off</td><td>Neon</td><td>off</td><td>Laser</td><td>off</td><td>shane_kast_blue</td></tr>\n",
       "<tr><td>/Users/westfall/Work/packages/PYPIT-development-suite/RAW_DATA/Shane_Kast_blue/600_4310_d55/</td><td>b5.fits.gz</td><td>None</td><td>Dome Flat</td><td>OBJECT</td><td>397801.8411111111</td><td>2015-05-20T01:50:28.57</td><td>09:36:33.7</td><td>37:25:56.0</td><td>1.0</td><td>None</td><td>15</td><td>2.0 arcsec</td><td>d55</td><td>600/4310</td><td>350</td><td>2112</td><td>Blue</td><td>off</td><td>Red</td><td>off</td><td>Spare3</td><td>off</td><td>Spare4</td><td>off</td><td>Sup_Blue</td><td>on</td><td>Spare1</td><td>off</td><td>Spare2</td><td>off</td><td>Spare3</td><td>off</td><td>Spare_Ar</td><td>off</td><td>Dim_Neon</td><td>off</td><td>He</td><td>off</td><td>Hg-Cd</td><td>off</td><td>Hg-A</td><td>off</td><td>Spare9</td><td>off</td><td>Neon</td><td>off</td><td>Laser</td><td>off</td><td>shane_kast_blue</td></tr>\n",
       "<tr><td>/Users/westfall/Work/packages/PYPIT-development-suite/RAW_DATA/Shane_Kast_blue/600_4310_d55/</td><td>b6.fits.gz</td><td>None</td><td>Dome Flat</td><td>OBJECT</td><td>397801.85027777776</td><td>2015-05-20T01:51:01.10</td><td>09:37:06.5</td><td>37:25:56.0</td><td>1.0</td><td>None</td><td>15</td><td>2.0 arcsec</td><td>d55</td><td>600/4310</td><td>350</td><td>2112</td><td>Blue</td><td>off</td><td>Red</td><td>off</td><td>Spare3</td><td>off</td><td>Spare4</td><td>off</td><td>Sup_Blue</td><td>on</td><td>Spare1</td><td>off</td><td>Spare2</td><td>off</td><td>Spare3</td><td>off</td><td>Spare_Ar</td><td>off</td><td>Dim_Neon</td><td>off</td><td>He</td><td>off</td><td>Hg-Cd</td><td>off</td><td>Hg-A</td><td>off</td><td>Spare9</td><td>off</td><td>Neon</td><td>off</td><td>Laser</td><td>off</td><td>shane_kast_blue</td></tr>\n",
       "<tr><td>/Users/westfall/Work/packages/PYPIT-development-suite/RAW_DATA/Shane_Kast_blue/600_4310_d55/</td><td>b7.fits.gz</td><td>None</td><td>Dome Flat</td><td>OBJECT</td><td>397801.8591666667</td><td>2015-05-20T01:51:33.56</td><td>09:37:39.1</td><td>37:25:56.0</td><td>1.0</td><td>None</td><td>15</td><td>2.0 arcsec</td><td>d55</td><td>600/4310</td><td>350</td><td>2112</td><td>Blue</td><td>off</td><td>Red</td><td>off</td><td>Spare3</td><td>off</td><td>Spare4</td><td>off</td><td>Sup_Blue</td><td>on</td><td>Spare1</td><td>off</td><td>Spare2</td><td>off</td><td>Spare3</td><td>off</td><td>Spare_Ar</td><td>off</td><td>Dim_Neon</td><td>off</td><td>He</td><td>off</td><td>Hg-Cd</td><td>off</td><td>Hg-A</td><td>off</td><td>Spare9</td><td>off</td><td>Neon</td><td>off</td><td>Laser</td><td>off</td><td>shane_kast_blue</td></tr>\n",
       "<tr><td>/Users/westfall/Work/packages/PYPIT-development-suite/RAW_DATA/Shane_Kast_blue/600_4310_d55/</td><td>b8.fits.gz</td><td>None</td><td>Dome Flat</td><td>OBJECT</td><td>397801.86833333335</td><td>2015-05-20T01:52:06.03</td><td>09:38:11.7</td><td>37:25:56.0</td><td>1.0</td><td>None</td><td>15</td><td>2.0 arcsec</td><td>d55</td><td>600/4310</td><td>350</td><td>2112</td><td>Blue</td><td>off</td><td>Red</td><td>off</td><td>Spare3</td><td>off</td><td>Spare4</td><td>off</td><td>Sup_Blue</td><td>on</td><td>Spare1</td><td>off</td><td>Spare2</td><td>off</td><td>Spare3</td><td>off</td><td>Spare_Ar</td><td>off</td><td>Dim_Neon</td><td>off</td><td>He</td><td>off</td><td>Hg-Cd</td><td>off</td><td>Hg-A</td><td>off</td><td>Spare9</td><td>off</td><td>Neon</td><td>off</td><td>Laser</td><td>off</td><td>shane_kast_blue</td></tr>\n",
       "<tr><td>/Users/westfall/Work/packages/PYPIT-development-suite/RAW_DATA/Shane_Kast_blue/600_4310_d55/</td><td>b9.fits.gz</td><td>None</td><td>Dome Flat</td><td>OBJECT</td><td>397801.8772222222</td><td>2015-05-20T01:52:38.46</td><td>09:38:44.3</td><td>37:25:56.0</td><td>1.0</td><td>None</td><td>15</td><td>2.0 arcsec</td><td>d55</td><td>600/4310</td><td>350</td><td>2112</td><td>Blue</td><td>off</td><td>Red</td><td>off</td><td>Spare3</td><td>off</td><td>Spare4</td><td>off</td><td>Sup_Blue</td><td>on</td><td>Spare1</td><td>off</td><td>Spare2</td><td>off</td><td>Spare3</td><td>off</td><td>Spare_Ar</td><td>off</td><td>Dim_Neon</td><td>off</td><td>He</td><td>off</td><td>Hg-Cd</td><td>off</td><td>Hg-A</td><td>off</td><td>Spare9</td><td>off</td><td>Neon</td><td>off</td><td>Laser</td><td>off</td><td>shane_kast_blue</td></tr>\n",
       "<tr><td>/Users/westfall/Work/packages/PYPIT-development-suite/RAW_DATA/Shane_Kast_blue/600_4310_d55/</td><td>b10.fits.gz</td><td>None</td><td>Dome Flat</td><td>OBJECT</td><td>397801.8861111111</td><td>2015-05-20T01:53:10.95</td><td>09:39:16.9</td><td>37:25:56.0</td><td>1.0</td><td>None</td><td>15</td><td>2.0 arcsec</td><td>d55</td><td>600/4310</td><td>350</td><td>2112</td><td>Blue</td><td>off</td><td>Red</td><td>off</td><td>Spare3</td><td>off</td><td>Spare4</td><td>off</td><td>Sup_Blue</td><td>on</td><td>Spare1</td><td>off</td><td>Spare2</td><td>off</td><td>Spare3</td><td>off</td><td>Spare_Ar</td><td>off</td><td>Dim_Neon</td><td>off</td><td>He</td><td>off</td><td>Hg-Cd</td><td>off</td><td>Hg-A</td><td>off</td><td>Spare9</td><td>off</td><td>Neon</td><td>off</td><td>Laser</td><td>off</td><td>shane_kast_blue</td></tr>\n",
       "<tr><td>...</td><td>...</td><td>...</td><td>...</td><td>...</td><td>...</td><td>...</td><td>...</td><td>...</td><td>...</td><td>...</td><td>...</td><td>...</td><td>...</td><td>...</td><td>...</td><td>...</td><td>...</td><td>...</td><td>...</td><td>...</td><td>...</td><td>...</td><td>...</td><td>...</td><td>...</td><td>...</td><td>...</td><td>...</td><td>...</td><td>...</td><td>...</td><td>...</td><td>...</td><td>...</td><td>...</td><td>...</td><td>...</td><td>...</td><td>...</td><td>...</td><td>...</td><td>...</td><td>...</td><td>...</td><td>...</td><td>...</td><td>...</td><td>...</td><td>...</td></tr>\n",
       "<tr><td>/Users/westfall/Work/packages/PYPIT-development-suite/RAW_DATA/Shane_Kast_blue/600_4310_d55/</td><td>b18.fits.gz</td><td>None</td><td>Bias</td><td>DARK</td><td>397803.72</td><td>2015-05-20T03:43:12.82</td><td>11:30:32.9</td><td>37:06:56.0</td><td>1.0</td><td>None</td><td>0</td><td>2.0 arcsec</td><td>d55</td><td>600/4310</td><td>350</td><td>2112</td><td>Blue</td><td>off</td><td>Red</td><td>off</td><td>Spare3</td><td>off</td><td>Spare4</td><td>off</td><td>Sup_Blue</td><td>off</td><td>Spare1</td><td>off</td><td>Spare2</td><td>off</td><td>Spare3</td><td>off</td><td>Spare_Ar</td><td>off</td><td>Dim_Neon</td><td>off</td><td>He</td><td>off</td><td>Hg-Cd</td><td>off</td><td>Hg-A</td><td>off</td><td>Spare9</td><td>off</td><td>Neon</td><td>off</td><td>Laser</td><td>off</td><td>shane_kast_blue</td></tr>\n",
       "<tr><td>/Users/westfall/Work/packages/PYPIT-development-suite/RAW_DATA/Shane_Kast_blue/600_4310_d55/</td><td>b19.fits.gz</td><td>None</td><td>Bias</td><td>DARK</td><td>397803.725</td><td>2015-05-20T03:43:30.27</td><td>11:30:50.8</td><td>37:11:10.0</td><td>1.0</td><td>None</td><td>0</td><td>2.0 arcsec</td><td>d55</td><td>600/4310</td><td>350</td><td>2112</td><td>Blue</td><td>off</td><td>Red</td><td>off</td><td>Spare3</td><td>off</td><td>Spare4</td><td>off</td><td>Sup_Blue</td><td>off</td><td>Spare1</td><td>off</td><td>Spare2</td><td>off</td><td>Spare3</td><td>off</td><td>Spare_Ar</td><td>off</td><td>Dim_Neon</td><td>off</td><td>He</td><td>off</td><td>Hg-Cd</td><td>off</td><td>Hg-A</td><td>off</td><td>Spare9</td><td>off</td><td>Neon</td><td>off</td><td>Laser</td><td>off</td><td>shane_kast_blue</td></tr>\n",
       "<tr><td>/Users/westfall/Work/packages/PYPIT-development-suite/RAW_DATA/Shane_Kast_blue/600_4310_d55/</td><td>b20.fits.gz</td><td>None</td><td>Bias</td><td>DARK</td><td>397803.7297222222</td><td>2015-05-20T03:43:47.75</td><td>11:31:08.2</td><td>37:15:16.0</td><td>1.0</td><td>None</td><td>0</td><td>2.0 arcsec</td><td>d55</td><td>600/4310</td><td>350</td><td>2112</td><td>Blue</td><td>off</td><td>Red</td><td>off</td><td>Spare3</td><td>off</td><td>Spare4</td><td>off</td><td>Sup_Blue</td><td>off</td><td>Spare1</td><td>off</td><td>Spare2</td><td>off</td><td>Spare3</td><td>off</td><td>Spare_Ar</td><td>off</td><td>Dim_Neon</td><td>off</td><td>He</td><td>off</td><td>Hg-Cd</td><td>off</td><td>Hg-A</td><td>off</td><td>Spare9</td><td>off</td><td>Neon</td><td>off</td><td>Laser</td><td>off</td><td>shane_kast_blue</td></tr>\n",
       "<tr><td>/Users/westfall/Work/packages/PYPIT-development-suite/RAW_DATA/Shane_Kast_blue/600_4310_d55/</td><td>b21.fits.gz</td><td>None</td><td>Bias</td><td>DARK</td><td>397803.7347222222</td><td>2015-05-20T03:44:05.14</td><td>11:31:25.7</td><td>37:19:25.0</td><td>1.0</td><td>None</td><td>0</td><td>2.0 arcsec</td><td>d55</td><td>600/4310</td><td>350</td><td>2112</td><td>Blue</td><td>off</td><td>Red</td><td>off</td><td>Spare3</td><td>off</td><td>Spare4</td><td>off</td><td>Sup_Blue</td><td>off</td><td>Spare1</td><td>off</td><td>Spare2</td><td>off</td><td>Spare3</td><td>off</td><td>Spare_Ar</td><td>off</td><td>Dim_Neon</td><td>off</td><td>He</td><td>off</td><td>Hg-Cd</td><td>off</td><td>Hg-A</td><td>off</td><td>Spare9</td><td>off</td><td>Neon</td><td>off</td><td>Laser</td><td>off</td><td>shane_kast_blue</td></tr>\n",
       "<tr><td>/Users/westfall/Work/packages/PYPIT-development-suite/RAW_DATA/Shane_Kast_blue/600_4310_d55/</td><td>b22.fits.gz</td><td>None</td><td>Bias</td><td>DARK</td><td>397803.7394444444</td><td>2015-05-20T03:44:22.50</td><td>11:31:43.2</td><td>37:23:33.0</td><td>1.0</td><td>None</td><td>0</td><td>2.0 arcsec</td><td>d55</td><td>600/4310</td><td>350</td><td>2112</td><td>Blue</td><td>off</td><td>Red</td><td>off</td><td>Spare3</td><td>off</td><td>Spare4</td><td>off</td><td>Sup_Blue</td><td>off</td><td>Spare1</td><td>off</td><td>Spare2</td><td>off</td><td>Spare3</td><td>off</td><td>Spare_Ar</td><td>off</td><td>Dim_Neon</td><td>off</td><td>He</td><td>off</td><td>Hg-Cd</td><td>off</td><td>Hg-A</td><td>off</td><td>Spare9</td><td>off</td><td>Neon</td><td>off</td><td>Laser</td><td>off</td><td>shane_kast_blue</td></tr>\n",
       "<tr><td>/Users/westfall/Work/packages/PYPIT-development-suite/RAW_DATA/Shane_Kast_blue/600_4310_d55/</td><td>b23.fits.gz</td><td>None</td><td>Bias</td><td>DARK</td><td>397803.7444444444</td><td>2015-05-20T03:44:40.04</td><td>11:32:00.4</td><td>37:25:21.0</td><td>1.0</td><td>None</td><td>0</td><td>2.0 arcsec</td><td>d55</td><td>600/4310</td><td>350</td><td>2112</td><td>Blue</td><td>off</td><td>Red</td><td>off</td><td>Spare3</td><td>off</td><td>Spare4</td><td>off</td><td>Sup_Blue</td><td>off</td><td>Spare1</td><td>off</td><td>Spare2</td><td>off</td><td>Spare3</td><td>off</td><td>Spare_Ar</td><td>off</td><td>Dim_Neon</td><td>off</td><td>He</td><td>off</td><td>Hg-Cd</td><td>off</td><td>Hg-A</td><td>off</td><td>Spare9</td><td>off</td><td>Neon</td><td>off</td><td>Laser</td><td>off</td><td>shane_kast_blue</td></tr>\n",
       "<tr><td>/Users/westfall/Work/packages/PYPIT-development-suite/RAW_DATA/Shane_Kast_blue/600_4310_d55/</td><td>b24.fits.gz</td><td>None</td><td>Feige 66</td><td>OBJECT</td><td>397804.21277777775</td><td>2015-05-20T04:12:46.96</td><td>12:37:54.8</td><td>24:59:47.0</td><td>1.039999961853</td><td>None</td><td>30</td><td>2.0 arcsec</td><td>d55</td><td>600/4310</td><td>350</td><td>2112</td><td>Blue</td><td>off</td><td>Red</td><td>off</td><td>Spare3</td><td>off</td><td>Spare4</td><td>off</td><td>Sup_Blue</td><td>off</td><td>Spare1</td><td>off</td><td>Spare2</td><td>off</td><td>Spare3</td><td>off</td><td>Spare_Ar</td><td>off</td><td>Dim_Neon</td><td>off</td><td>He</td><td>off</td><td>Hg-Cd</td><td>off</td><td>Hg-A</td><td>off</td><td>Spare9</td><td>off</td><td>Neon</td><td>off</td><td>Laser</td><td>off</td><td>shane_kast_blue</td></tr>\n",
       "<tr><td>/Users/westfall/Work/packages/PYPIT-development-suite/RAW_DATA/Shane_Kast_blue/600_4310_d55/</td><td>b27.fits.gz</td><td>None</td><td>J1217p3905</td><td>OBJECT</td><td>397804.95916666667</td><td>2015-05-20T04:57:33.56</td><td>12:17:36.7</td><td>39:00:40.0</td><td>1.0</td><td>None</td><td>1200</td><td>2.0 arcsec</td><td>d55</td><td>600/4310</td><td>350</td><td>2112</td><td>Blue</td><td>off</td><td>Red</td><td>off</td><td>Spare3</td><td>off</td><td>Spare4</td><td>off</td><td>Sup_Blue</td><td>off</td><td>Spare1</td><td>off</td><td>Spare2</td><td>off</td><td>Spare3</td><td>off</td><td>Spare_Ar</td><td>off</td><td>Dim_Neon</td><td>off</td><td>He</td><td>off</td><td>Hg-Cd</td><td>off</td><td>Hg-A</td><td>off</td><td>Spare9</td><td>off</td><td>Neon</td><td>off</td><td>Laser</td><td>off</td><td>shane_kast_blue</td></tr>\n",
       "<tr><td>/Users/westfall/Work/packages/PYPIT-development-suite/RAW_DATA/Shane_Kast_blue/600_4310_d55/</td><td>b28.fits.gz</td><td>None</td><td>J1217p3905</td><td>OBJECT</td><td>397805.3002777778</td><td>2015-05-20T05:18:01.47</td><td>12:17:37.0</td><td>39:00:40.0</td><td>1.0</td><td>None</td><td>1200</td><td>2.0 arcsec</td><td>d55</td><td>600/4310</td><td>350</td><td>2112</td><td>Blue</td><td>off</td><td>Red</td><td>off</td><td>Spare3</td><td>off</td><td>Spare4</td><td>off</td><td>Sup_Blue</td><td>off</td><td>Spare1</td><td>off</td><td>Spare2</td><td>off</td><td>Spare3</td><td>off</td><td>Spare_Ar</td><td>off</td><td>Dim_Neon</td><td>off</td><td>He</td><td>off</td><td>Hg-Cd</td><td>off</td><td>Hg-A</td><td>off</td><td>Spare9</td><td>off</td><td>Neon</td><td>off</td><td>Laser</td><td>off</td><td>shane_kast_blue</td></tr>\n",
       "<tr><td>/Users/westfall/Work/packages/PYPIT-development-suite/RAW_DATA/Shane_Kast_blue/600_4310_d55/</td><td>b29.fits.gz</td><td>None</td><td>J1217p3905</td><td>OBJECT</td><td>397805.6383333333</td><td>2015-05-20T05:38:18.97</td><td>12:17:37.2</td><td>39:00:41.0</td><td>1.009999990463</td><td>None</td><td>1200</td><td>2.0 arcsec</td><td>d55</td><td>600/4310</td><td>350</td><td>2112</td><td>Blue</td><td>off</td><td>Red</td><td>off</td><td>Spare3</td><td>off</td><td>Spare4</td><td>off</td><td>Sup_Blue</td><td>off</td><td>Spare1</td><td>off</td><td>Spare2</td><td>off</td><td>Spare3</td><td>off</td><td>Spare_Ar</td><td>off</td><td>Dim_Neon</td><td>off</td><td>He</td><td>off</td><td>Hg-Cd</td><td>off</td><td>Hg-A</td><td>off</td><td>Spare9</td><td>off</td><td>Neon</td><td>off</td><td>Laser</td><td>off</td><td>shane_kast_blue</td></tr>\n",
       "</table>"
      ],
      "text/plain": [
       "<Table length=27>\n",
       "                                         directory                                           ...\n",
       "                                           str92                                             ...\n",
       "-------------------------------------------------------------------------------------------- ...\n",
       "/Users/westfall/Work/packages/PYPIT-development-suite/RAW_DATA/Shane_Kast_blue/600_4310_d55/ ...\n",
       "/Users/westfall/Work/packages/PYPIT-development-suite/RAW_DATA/Shane_Kast_blue/600_4310_d55/ ...\n",
       "/Users/westfall/Work/packages/PYPIT-development-suite/RAW_DATA/Shane_Kast_blue/600_4310_d55/ ...\n",
       "/Users/westfall/Work/packages/PYPIT-development-suite/RAW_DATA/Shane_Kast_blue/600_4310_d55/ ...\n",
       "/Users/westfall/Work/packages/PYPIT-development-suite/RAW_DATA/Shane_Kast_blue/600_4310_d55/ ...\n",
       "/Users/westfall/Work/packages/PYPIT-development-suite/RAW_DATA/Shane_Kast_blue/600_4310_d55/ ...\n",
       "/Users/westfall/Work/packages/PYPIT-development-suite/RAW_DATA/Shane_Kast_blue/600_4310_d55/ ...\n",
       "/Users/westfall/Work/packages/PYPIT-development-suite/RAW_DATA/Shane_Kast_blue/600_4310_d55/ ...\n",
       "/Users/westfall/Work/packages/PYPIT-development-suite/RAW_DATA/Shane_Kast_blue/600_4310_d55/ ...\n",
       "/Users/westfall/Work/packages/PYPIT-development-suite/RAW_DATA/Shane_Kast_blue/600_4310_d55/ ...\n",
       "                                                                                         ... ...\n",
       "/Users/westfall/Work/packages/PYPIT-development-suite/RAW_DATA/Shane_Kast_blue/600_4310_d55/ ...\n",
       "/Users/westfall/Work/packages/PYPIT-development-suite/RAW_DATA/Shane_Kast_blue/600_4310_d55/ ...\n",
       "/Users/westfall/Work/packages/PYPIT-development-suite/RAW_DATA/Shane_Kast_blue/600_4310_d55/ ...\n",
       "/Users/westfall/Work/packages/PYPIT-development-suite/RAW_DATA/Shane_Kast_blue/600_4310_d55/ ...\n",
       "/Users/westfall/Work/packages/PYPIT-development-suite/RAW_DATA/Shane_Kast_blue/600_4310_d55/ ...\n",
       "/Users/westfall/Work/packages/PYPIT-development-suite/RAW_DATA/Shane_Kast_blue/600_4310_d55/ ...\n",
       "/Users/westfall/Work/packages/PYPIT-development-suite/RAW_DATA/Shane_Kast_blue/600_4310_d55/ ...\n",
       "/Users/westfall/Work/packages/PYPIT-development-suite/RAW_DATA/Shane_Kast_blue/600_4310_d55/ ...\n",
       "/Users/westfall/Work/packages/PYPIT-development-suite/RAW_DATA/Shane_Kast_blue/600_4310_d55/ ...\n",
       "/Users/westfall/Work/packages/PYPIT-development-suite/RAW_DATA/Shane_Kast_blue/600_4310_d55/ ..."
      ]
     },
     "execution_count": 10,
     "metadata": {},
     "output_type": "execute_result"
    }
   ],
   "source": [
    "setupc.load_fitstbl('fitstbl.fits')"
   ]
  },
  {
   "cell_type": "markdown",
   "metadata": {},
   "source": [
    "## Image type\n",
    "    Classifies the images\n",
    "    Adds image type columns to the fitstbl"
   ]
  },
  {
   "cell_type": "code",
   "execution_count": 11,
   "metadata": {},
   "outputs": [
    {
     "name": "stderr",
     "output_type": "stream",
     "text": [
      "\u001b[1;32m[INFO]    ::\u001b[0m Typing files\n",
      "\u001b[1;32m[INFO]    ::\u001b[0m Typing completed!\n",
      "\u001b[1;32m[INFO]    ::\u001b[0m Adding file type information to the fitstbl\n"
     ]
    }
   ],
   "source": [
    "filetypes = setupc.type_data()"
   ]
  },
  {
   "cell_type": "markdown",
   "metadata": {},
   "source": [
    "### Show"
   ]
  },
  {
   "cell_type": "code",
   "execution_count": 12,
   "metadata": {},
   "outputs": [
    {
     "data": {
      "text/html": [
       "<i>Table length=27</i>\n",
       "<table id=\"table4528895760\" class=\"table-striped table-bordered table-condensed\">\n",
       "<thead><tr><th>directory</th><th>filename</th><th>utc</th><th>target</th><th>idname</th><th>time</th><th>date</th><th>ra</th><th>dec</th><th>airmass</th><th>binning</th><th>exptime</th><th>decker</th><th>dichroic</th><th>dispname</th><th>naxis0</th><th>naxis1</th><th>lampname01</th><th>lampstat01</th><th>lampname02</th><th>lampstat02</th><th>lampname03</th><th>lampstat03</th><th>lampname04</th><th>lampstat04</th><th>lampname05</th><th>lampstat05</th><th>lampname06</th><th>lampstat06</th><th>lampname07</th><th>lampstat07</th><th>lampname08</th><th>lampstat08</th><th>lampname09</th><th>lampstat09</th><th>lampname10</th><th>lampstat10</th><th>lampname11</th><th>lampstat11</th><th>lampname12</th><th>lampstat12</th><th>lampname13</th><th>lampstat13</th><th>lampname14</th><th>lampstat14</th><th>lampname15</th><th>lampstat15</th><th>lampname16</th><th>lampstat16</th><th>instrume</th><th>arc</th><th>bias</th><th>dark</th><th>pinhole</th><th>pixelflat</th><th>science</th><th>standard</th><th>trace</th><th>unknown</th></tr></thead>\n",
       "<thead><tr><th>str92</th><th>str11</th><th>str4</th><th>str10</th><th>str6</th><th>float64</th><th>str22</th><th>str10</th><th>str10</th><th>float64</th><th>str4</th><th>int64</th><th>str10</th><th>str3</th><th>str8</th><th>int64</th><th>int64</th><th>str4</th><th>str3</th><th>str3</th><th>str3</th><th>str6</th><th>str3</th><th>str6</th><th>str3</th><th>str8</th><th>str3</th><th>str6</th><th>str3</th><th>str6</th><th>str3</th><th>str6</th><th>str3</th><th>str8</th><th>str3</th><th>str8</th><th>str3</th><th>str2</th><th>str3</th><th>str5</th><th>str3</th><th>str4</th><th>str3</th><th>str6</th><th>str3</th><th>str4</th><th>str3</th><th>str5</th><th>str3</th><th>str15</th><th>bool</th><th>bool</th><th>bool</th><th>bool</th><th>bool</th><th>bool</th><th>bool</th><th>bool</th><th>bool</th></tr></thead>\n",
       "<tr><td>/Users/westfall/Work/packages/PYPIT-development-suite/RAW_DATA/Shane_Kast_blue/600_4310_d55/</td><td>b1.fits.gz</td><td>None</td><td>Arcs</td><td>OBJECT</td><td>397801.59944444447</td><td>2015-05-20T01:35:58.10</td><td>09:21:46.0</td><td>37:25:56.0</td><td>1.0</td><td>None</td><td>30</td><td>0.5 arcsec</td><td>d55</td><td>600/4310</td><td>350</td><td>2112</td><td>Blue</td><td>off</td><td>Red</td><td>off</td><td>Spare3</td><td>off</td><td>Spare4</td><td>off</td><td>Sup_Blue</td><td>off</td><td>Spare1</td><td>off</td><td>Spare2</td><td>off</td><td>Spare3</td><td>off</td><td>Spare_Ar</td><td>off</td><td>Dim_Neon</td><td>off</td><td>He</td><td>on</td><td>Hg-Cd</td><td>on</td><td>Hg-A</td><td>off</td><td>Spare9</td><td>off</td><td>Neon</td><td>off</td><td>Laser</td><td>off</td><td>shane_kast_blue</td><td>True</td><td>False</td><td>False</td><td>False</td><td>False</td><td>False</td><td>False</td><td>False</td><td>False</td></tr>\n",
       "<tr><td>/Users/westfall/Work/packages/PYPIT-development-suite/RAW_DATA/Shane_Kast_blue/600_4310_d55/</td><td>b2.fits.gz</td><td>None</td><td>Dome Flat</td><td>OBJECT</td><td>397801.7936111111</td><td>2015-05-20T01:47:37.23</td><td>09:33:26.9</td><td>37:25:56.0</td><td>1.0</td><td>None</td><td>30</td><td>2.0 arcsec</td><td>d55</td><td>600/4310</td><td>350</td><td>2112</td><td>Blue</td><td>off</td><td>Red</td><td>off</td><td>Spare3</td><td>off</td><td>Spare4</td><td>off</td><td>Sup_Blue</td><td>on</td><td>Spare1</td><td>off</td><td>Spare2</td><td>off</td><td>Spare3</td><td>off</td><td>Spare_Ar</td><td>off</td><td>Dim_Neon</td><td>off</td><td>He</td><td>off</td><td>Hg-Cd</td><td>off</td><td>Hg-A</td><td>off</td><td>Spare9</td><td>off</td><td>Neon</td><td>off</td><td>Laser</td><td>off</td><td>shane_kast_blue</td><td>False</td><td>False</td><td>False</td><td>False</td><td>True</td><td>False</td><td>False</td><td>True</td><td>False</td></tr>\n",
       "<tr><td>/Users/westfall/Work/packages/PYPIT-development-suite/RAW_DATA/Shane_Kast_blue/600_4310_d55/</td><td>b3.fits.gz</td><td>None</td><td>Dome Flat</td><td>OBJECT</td><td>397801.8230555556</td><td>2015-05-20T01:49:23.29</td><td>09:35:28.3</td><td>37:25:56.0</td><td>1.0</td><td>None</td><td>15</td><td>2.0 arcsec</td><td>d55</td><td>600/4310</td><td>350</td><td>2112</td><td>Blue</td><td>off</td><td>Red</td><td>off</td><td>Spare3</td><td>off</td><td>Spare4</td><td>off</td><td>Sup_Blue</td><td>on</td><td>Spare1</td><td>off</td><td>Spare2</td><td>off</td><td>Spare3</td><td>off</td><td>Spare_Ar</td><td>off</td><td>Dim_Neon</td><td>off</td><td>He</td><td>off</td><td>Hg-Cd</td><td>off</td><td>Hg-A</td><td>off</td><td>Spare9</td><td>off</td><td>Neon</td><td>off</td><td>Laser</td><td>off</td><td>shane_kast_blue</td><td>False</td><td>False</td><td>False</td><td>False</td><td>True</td><td>False</td><td>False</td><td>True</td><td>False</td></tr>\n",
       "<tr><td>/Users/westfall/Work/packages/PYPIT-development-suite/RAW_DATA/Shane_Kast_blue/600_4310_d55/</td><td>b4.fits.gz</td><td>None</td><td>Dome Flat</td><td>OBJECT</td><td>397801.83194444445</td><td>2015-05-20T01:49:55.93</td><td>09:36:01.1</td><td>37:25:56.0</td><td>1.0</td><td>None</td><td>15</td><td>2.0 arcsec</td><td>d55</td><td>600/4310</td><td>350</td><td>2112</td><td>Blue</td><td>off</td><td>Red</td><td>off</td><td>Spare3</td><td>off</td><td>Spare4</td><td>off</td><td>Sup_Blue</td><td>on</td><td>Spare1</td><td>off</td><td>Spare2</td><td>off</td><td>Spare3</td><td>off</td><td>Spare_Ar</td><td>off</td><td>Dim_Neon</td><td>off</td><td>He</td><td>off</td><td>Hg-Cd</td><td>off</td><td>Hg-A</td><td>off</td><td>Spare9</td><td>off</td><td>Neon</td><td>off</td><td>Laser</td><td>off</td><td>shane_kast_blue</td><td>False</td><td>False</td><td>False</td><td>False</td><td>True</td><td>False</td><td>False</td><td>True</td><td>False</td></tr>\n",
       "<tr><td>/Users/westfall/Work/packages/PYPIT-development-suite/RAW_DATA/Shane_Kast_blue/600_4310_d55/</td><td>b5.fits.gz</td><td>None</td><td>Dome Flat</td><td>OBJECT</td><td>397801.8411111111</td><td>2015-05-20T01:50:28.57</td><td>09:36:33.7</td><td>37:25:56.0</td><td>1.0</td><td>None</td><td>15</td><td>2.0 arcsec</td><td>d55</td><td>600/4310</td><td>350</td><td>2112</td><td>Blue</td><td>off</td><td>Red</td><td>off</td><td>Spare3</td><td>off</td><td>Spare4</td><td>off</td><td>Sup_Blue</td><td>on</td><td>Spare1</td><td>off</td><td>Spare2</td><td>off</td><td>Spare3</td><td>off</td><td>Spare_Ar</td><td>off</td><td>Dim_Neon</td><td>off</td><td>He</td><td>off</td><td>Hg-Cd</td><td>off</td><td>Hg-A</td><td>off</td><td>Spare9</td><td>off</td><td>Neon</td><td>off</td><td>Laser</td><td>off</td><td>shane_kast_blue</td><td>False</td><td>False</td><td>False</td><td>False</td><td>True</td><td>False</td><td>False</td><td>True</td><td>False</td></tr>\n",
       "<tr><td>/Users/westfall/Work/packages/PYPIT-development-suite/RAW_DATA/Shane_Kast_blue/600_4310_d55/</td><td>b6.fits.gz</td><td>None</td><td>Dome Flat</td><td>OBJECT</td><td>397801.85027777776</td><td>2015-05-20T01:51:01.10</td><td>09:37:06.5</td><td>37:25:56.0</td><td>1.0</td><td>None</td><td>15</td><td>2.0 arcsec</td><td>d55</td><td>600/4310</td><td>350</td><td>2112</td><td>Blue</td><td>off</td><td>Red</td><td>off</td><td>Spare3</td><td>off</td><td>Spare4</td><td>off</td><td>Sup_Blue</td><td>on</td><td>Spare1</td><td>off</td><td>Spare2</td><td>off</td><td>Spare3</td><td>off</td><td>Spare_Ar</td><td>off</td><td>Dim_Neon</td><td>off</td><td>He</td><td>off</td><td>Hg-Cd</td><td>off</td><td>Hg-A</td><td>off</td><td>Spare9</td><td>off</td><td>Neon</td><td>off</td><td>Laser</td><td>off</td><td>shane_kast_blue</td><td>False</td><td>False</td><td>False</td><td>False</td><td>True</td><td>False</td><td>False</td><td>True</td><td>False</td></tr>\n",
       "<tr><td>/Users/westfall/Work/packages/PYPIT-development-suite/RAW_DATA/Shane_Kast_blue/600_4310_d55/</td><td>b7.fits.gz</td><td>None</td><td>Dome Flat</td><td>OBJECT</td><td>397801.8591666667</td><td>2015-05-20T01:51:33.56</td><td>09:37:39.1</td><td>37:25:56.0</td><td>1.0</td><td>None</td><td>15</td><td>2.0 arcsec</td><td>d55</td><td>600/4310</td><td>350</td><td>2112</td><td>Blue</td><td>off</td><td>Red</td><td>off</td><td>Spare3</td><td>off</td><td>Spare4</td><td>off</td><td>Sup_Blue</td><td>on</td><td>Spare1</td><td>off</td><td>Spare2</td><td>off</td><td>Spare3</td><td>off</td><td>Spare_Ar</td><td>off</td><td>Dim_Neon</td><td>off</td><td>He</td><td>off</td><td>Hg-Cd</td><td>off</td><td>Hg-A</td><td>off</td><td>Spare9</td><td>off</td><td>Neon</td><td>off</td><td>Laser</td><td>off</td><td>shane_kast_blue</td><td>False</td><td>False</td><td>False</td><td>False</td><td>True</td><td>False</td><td>False</td><td>True</td><td>False</td></tr>\n",
       "<tr><td>/Users/westfall/Work/packages/PYPIT-development-suite/RAW_DATA/Shane_Kast_blue/600_4310_d55/</td><td>b8.fits.gz</td><td>None</td><td>Dome Flat</td><td>OBJECT</td><td>397801.86833333335</td><td>2015-05-20T01:52:06.03</td><td>09:38:11.7</td><td>37:25:56.0</td><td>1.0</td><td>None</td><td>15</td><td>2.0 arcsec</td><td>d55</td><td>600/4310</td><td>350</td><td>2112</td><td>Blue</td><td>off</td><td>Red</td><td>off</td><td>Spare3</td><td>off</td><td>Spare4</td><td>off</td><td>Sup_Blue</td><td>on</td><td>Spare1</td><td>off</td><td>Spare2</td><td>off</td><td>Spare3</td><td>off</td><td>Spare_Ar</td><td>off</td><td>Dim_Neon</td><td>off</td><td>He</td><td>off</td><td>Hg-Cd</td><td>off</td><td>Hg-A</td><td>off</td><td>Spare9</td><td>off</td><td>Neon</td><td>off</td><td>Laser</td><td>off</td><td>shane_kast_blue</td><td>False</td><td>False</td><td>False</td><td>False</td><td>True</td><td>False</td><td>False</td><td>True</td><td>False</td></tr>\n",
       "<tr><td>/Users/westfall/Work/packages/PYPIT-development-suite/RAW_DATA/Shane_Kast_blue/600_4310_d55/</td><td>b9.fits.gz</td><td>None</td><td>Dome Flat</td><td>OBJECT</td><td>397801.8772222222</td><td>2015-05-20T01:52:38.46</td><td>09:38:44.3</td><td>37:25:56.0</td><td>1.0</td><td>None</td><td>15</td><td>2.0 arcsec</td><td>d55</td><td>600/4310</td><td>350</td><td>2112</td><td>Blue</td><td>off</td><td>Red</td><td>off</td><td>Spare3</td><td>off</td><td>Spare4</td><td>off</td><td>Sup_Blue</td><td>on</td><td>Spare1</td><td>off</td><td>Spare2</td><td>off</td><td>Spare3</td><td>off</td><td>Spare_Ar</td><td>off</td><td>Dim_Neon</td><td>off</td><td>He</td><td>off</td><td>Hg-Cd</td><td>off</td><td>Hg-A</td><td>off</td><td>Spare9</td><td>off</td><td>Neon</td><td>off</td><td>Laser</td><td>off</td><td>shane_kast_blue</td><td>False</td><td>False</td><td>False</td><td>False</td><td>True</td><td>False</td><td>False</td><td>True</td><td>False</td></tr>\n",
       "<tr><td>/Users/westfall/Work/packages/PYPIT-development-suite/RAW_DATA/Shane_Kast_blue/600_4310_d55/</td><td>b10.fits.gz</td><td>None</td><td>Dome Flat</td><td>OBJECT</td><td>397801.8861111111</td><td>2015-05-20T01:53:10.95</td><td>09:39:16.9</td><td>37:25:56.0</td><td>1.0</td><td>None</td><td>15</td><td>2.0 arcsec</td><td>d55</td><td>600/4310</td><td>350</td><td>2112</td><td>Blue</td><td>off</td><td>Red</td><td>off</td><td>Spare3</td><td>off</td><td>Spare4</td><td>off</td><td>Sup_Blue</td><td>on</td><td>Spare1</td><td>off</td><td>Spare2</td><td>off</td><td>Spare3</td><td>off</td><td>Spare_Ar</td><td>off</td><td>Dim_Neon</td><td>off</td><td>He</td><td>off</td><td>Hg-Cd</td><td>off</td><td>Hg-A</td><td>off</td><td>Spare9</td><td>off</td><td>Neon</td><td>off</td><td>Laser</td><td>off</td><td>shane_kast_blue</td><td>False</td><td>False</td><td>False</td><td>False</td><td>True</td><td>False</td><td>False</td><td>True</td><td>False</td></tr>\n",
       "<tr><td>...</td><td>...</td><td>...</td><td>...</td><td>...</td><td>...</td><td>...</td><td>...</td><td>...</td><td>...</td><td>...</td><td>...</td><td>...</td><td>...</td><td>...</td><td>...</td><td>...</td><td>...</td><td>...</td><td>...</td><td>...</td><td>...</td><td>...</td><td>...</td><td>...</td><td>...</td><td>...</td><td>...</td><td>...</td><td>...</td><td>...</td><td>...</td><td>...</td><td>...</td><td>...</td><td>...</td><td>...</td><td>...</td><td>...</td><td>...</td><td>...</td><td>...</td><td>...</td><td>...</td><td>...</td><td>...</td><td>...</td><td>...</td><td>...</td><td>...</td><td>...</td><td>...</td><td>...</td><td>...</td><td>...</td><td>...</td><td>...</td><td>...</td><td>...</td></tr>\n",
       "<tr><td>/Users/westfall/Work/packages/PYPIT-development-suite/RAW_DATA/Shane_Kast_blue/600_4310_d55/</td><td>b18.fits.gz</td><td>None</td><td>Bias</td><td>DARK</td><td>397803.72</td><td>2015-05-20T03:43:12.82</td><td>11:30:32.9</td><td>37:06:56.0</td><td>1.0</td><td>None</td><td>0</td><td>2.0 arcsec</td><td>d55</td><td>600/4310</td><td>350</td><td>2112</td><td>Blue</td><td>off</td><td>Red</td><td>off</td><td>Spare3</td><td>off</td><td>Spare4</td><td>off</td><td>Sup_Blue</td><td>off</td><td>Spare1</td><td>off</td><td>Spare2</td><td>off</td><td>Spare3</td><td>off</td><td>Spare_Ar</td><td>off</td><td>Dim_Neon</td><td>off</td><td>He</td><td>off</td><td>Hg-Cd</td><td>off</td><td>Hg-A</td><td>off</td><td>Spare9</td><td>off</td><td>Neon</td><td>off</td><td>Laser</td><td>off</td><td>shane_kast_blue</td><td>False</td><td>True</td><td>False</td><td>False</td><td>False</td><td>False</td><td>False</td><td>False</td><td>False</td></tr>\n",
       "<tr><td>/Users/westfall/Work/packages/PYPIT-development-suite/RAW_DATA/Shane_Kast_blue/600_4310_d55/</td><td>b19.fits.gz</td><td>None</td><td>Bias</td><td>DARK</td><td>397803.725</td><td>2015-05-20T03:43:30.27</td><td>11:30:50.8</td><td>37:11:10.0</td><td>1.0</td><td>None</td><td>0</td><td>2.0 arcsec</td><td>d55</td><td>600/4310</td><td>350</td><td>2112</td><td>Blue</td><td>off</td><td>Red</td><td>off</td><td>Spare3</td><td>off</td><td>Spare4</td><td>off</td><td>Sup_Blue</td><td>off</td><td>Spare1</td><td>off</td><td>Spare2</td><td>off</td><td>Spare3</td><td>off</td><td>Spare_Ar</td><td>off</td><td>Dim_Neon</td><td>off</td><td>He</td><td>off</td><td>Hg-Cd</td><td>off</td><td>Hg-A</td><td>off</td><td>Spare9</td><td>off</td><td>Neon</td><td>off</td><td>Laser</td><td>off</td><td>shane_kast_blue</td><td>False</td><td>True</td><td>False</td><td>False</td><td>False</td><td>False</td><td>False</td><td>False</td><td>False</td></tr>\n",
       "<tr><td>/Users/westfall/Work/packages/PYPIT-development-suite/RAW_DATA/Shane_Kast_blue/600_4310_d55/</td><td>b20.fits.gz</td><td>None</td><td>Bias</td><td>DARK</td><td>397803.7297222222</td><td>2015-05-20T03:43:47.75</td><td>11:31:08.2</td><td>37:15:16.0</td><td>1.0</td><td>None</td><td>0</td><td>2.0 arcsec</td><td>d55</td><td>600/4310</td><td>350</td><td>2112</td><td>Blue</td><td>off</td><td>Red</td><td>off</td><td>Spare3</td><td>off</td><td>Spare4</td><td>off</td><td>Sup_Blue</td><td>off</td><td>Spare1</td><td>off</td><td>Spare2</td><td>off</td><td>Spare3</td><td>off</td><td>Spare_Ar</td><td>off</td><td>Dim_Neon</td><td>off</td><td>He</td><td>off</td><td>Hg-Cd</td><td>off</td><td>Hg-A</td><td>off</td><td>Spare9</td><td>off</td><td>Neon</td><td>off</td><td>Laser</td><td>off</td><td>shane_kast_blue</td><td>False</td><td>True</td><td>False</td><td>False</td><td>False</td><td>False</td><td>False</td><td>False</td><td>False</td></tr>\n",
       "<tr><td>/Users/westfall/Work/packages/PYPIT-development-suite/RAW_DATA/Shane_Kast_blue/600_4310_d55/</td><td>b21.fits.gz</td><td>None</td><td>Bias</td><td>DARK</td><td>397803.7347222222</td><td>2015-05-20T03:44:05.14</td><td>11:31:25.7</td><td>37:19:25.0</td><td>1.0</td><td>None</td><td>0</td><td>2.0 arcsec</td><td>d55</td><td>600/4310</td><td>350</td><td>2112</td><td>Blue</td><td>off</td><td>Red</td><td>off</td><td>Spare3</td><td>off</td><td>Spare4</td><td>off</td><td>Sup_Blue</td><td>off</td><td>Spare1</td><td>off</td><td>Spare2</td><td>off</td><td>Spare3</td><td>off</td><td>Spare_Ar</td><td>off</td><td>Dim_Neon</td><td>off</td><td>He</td><td>off</td><td>Hg-Cd</td><td>off</td><td>Hg-A</td><td>off</td><td>Spare9</td><td>off</td><td>Neon</td><td>off</td><td>Laser</td><td>off</td><td>shane_kast_blue</td><td>False</td><td>True</td><td>False</td><td>False</td><td>False</td><td>False</td><td>False</td><td>False</td><td>False</td></tr>\n",
       "<tr><td>/Users/westfall/Work/packages/PYPIT-development-suite/RAW_DATA/Shane_Kast_blue/600_4310_d55/</td><td>b22.fits.gz</td><td>None</td><td>Bias</td><td>DARK</td><td>397803.7394444444</td><td>2015-05-20T03:44:22.50</td><td>11:31:43.2</td><td>37:23:33.0</td><td>1.0</td><td>None</td><td>0</td><td>2.0 arcsec</td><td>d55</td><td>600/4310</td><td>350</td><td>2112</td><td>Blue</td><td>off</td><td>Red</td><td>off</td><td>Spare3</td><td>off</td><td>Spare4</td><td>off</td><td>Sup_Blue</td><td>off</td><td>Spare1</td><td>off</td><td>Spare2</td><td>off</td><td>Spare3</td><td>off</td><td>Spare_Ar</td><td>off</td><td>Dim_Neon</td><td>off</td><td>He</td><td>off</td><td>Hg-Cd</td><td>off</td><td>Hg-A</td><td>off</td><td>Spare9</td><td>off</td><td>Neon</td><td>off</td><td>Laser</td><td>off</td><td>shane_kast_blue</td><td>False</td><td>True</td><td>False</td><td>False</td><td>False</td><td>False</td><td>False</td><td>False</td><td>False</td></tr>\n",
       "<tr><td>/Users/westfall/Work/packages/PYPIT-development-suite/RAW_DATA/Shane_Kast_blue/600_4310_d55/</td><td>b23.fits.gz</td><td>None</td><td>Bias</td><td>DARK</td><td>397803.7444444444</td><td>2015-05-20T03:44:40.04</td><td>11:32:00.4</td><td>37:25:21.0</td><td>1.0</td><td>None</td><td>0</td><td>2.0 arcsec</td><td>d55</td><td>600/4310</td><td>350</td><td>2112</td><td>Blue</td><td>off</td><td>Red</td><td>off</td><td>Spare3</td><td>off</td><td>Spare4</td><td>off</td><td>Sup_Blue</td><td>off</td><td>Spare1</td><td>off</td><td>Spare2</td><td>off</td><td>Spare3</td><td>off</td><td>Spare_Ar</td><td>off</td><td>Dim_Neon</td><td>off</td><td>He</td><td>off</td><td>Hg-Cd</td><td>off</td><td>Hg-A</td><td>off</td><td>Spare9</td><td>off</td><td>Neon</td><td>off</td><td>Laser</td><td>off</td><td>shane_kast_blue</td><td>False</td><td>True</td><td>False</td><td>False</td><td>False</td><td>False</td><td>False</td><td>False</td><td>False</td></tr>\n",
       "<tr><td>/Users/westfall/Work/packages/PYPIT-development-suite/RAW_DATA/Shane_Kast_blue/600_4310_d55/</td><td>b24.fits.gz</td><td>None</td><td>Feige 66</td><td>OBJECT</td><td>397804.21277777775</td><td>2015-05-20T04:12:46.96</td><td>12:37:54.8</td><td>24:59:47.0</td><td>1.039999961853</td><td>None</td><td>30</td><td>2.0 arcsec</td><td>d55</td><td>600/4310</td><td>350</td><td>2112</td><td>Blue</td><td>off</td><td>Red</td><td>off</td><td>Spare3</td><td>off</td><td>Spare4</td><td>off</td><td>Sup_Blue</td><td>off</td><td>Spare1</td><td>off</td><td>Spare2</td><td>off</td><td>Spare3</td><td>off</td><td>Spare_Ar</td><td>off</td><td>Dim_Neon</td><td>off</td><td>He</td><td>off</td><td>Hg-Cd</td><td>off</td><td>Hg-A</td><td>off</td><td>Spare9</td><td>off</td><td>Neon</td><td>off</td><td>Laser</td><td>off</td><td>shane_kast_blue</td><td>False</td><td>False</td><td>False</td><td>False</td><td>False</td><td>False</td><td>True</td><td>False</td><td>False</td></tr>\n",
       "<tr><td>/Users/westfall/Work/packages/PYPIT-development-suite/RAW_DATA/Shane_Kast_blue/600_4310_d55/</td><td>b27.fits.gz</td><td>None</td><td>J1217p3905</td><td>OBJECT</td><td>397804.95916666667</td><td>2015-05-20T04:57:33.56</td><td>12:17:36.7</td><td>39:00:40.0</td><td>1.0</td><td>None</td><td>1200</td><td>2.0 arcsec</td><td>d55</td><td>600/4310</td><td>350</td><td>2112</td><td>Blue</td><td>off</td><td>Red</td><td>off</td><td>Spare3</td><td>off</td><td>Spare4</td><td>off</td><td>Sup_Blue</td><td>off</td><td>Spare1</td><td>off</td><td>Spare2</td><td>off</td><td>Spare3</td><td>off</td><td>Spare_Ar</td><td>off</td><td>Dim_Neon</td><td>off</td><td>He</td><td>off</td><td>Hg-Cd</td><td>off</td><td>Hg-A</td><td>off</td><td>Spare9</td><td>off</td><td>Neon</td><td>off</td><td>Laser</td><td>off</td><td>shane_kast_blue</td><td>False</td><td>False</td><td>False</td><td>False</td><td>False</td><td>True</td><td>False</td><td>False</td><td>False</td></tr>\n",
       "<tr><td>/Users/westfall/Work/packages/PYPIT-development-suite/RAW_DATA/Shane_Kast_blue/600_4310_d55/</td><td>b28.fits.gz</td><td>None</td><td>J1217p3905</td><td>OBJECT</td><td>397805.3002777778</td><td>2015-05-20T05:18:01.47</td><td>12:17:37.0</td><td>39:00:40.0</td><td>1.0</td><td>None</td><td>1200</td><td>2.0 arcsec</td><td>d55</td><td>600/4310</td><td>350</td><td>2112</td><td>Blue</td><td>off</td><td>Red</td><td>off</td><td>Spare3</td><td>off</td><td>Spare4</td><td>off</td><td>Sup_Blue</td><td>off</td><td>Spare1</td><td>off</td><td>Spare2</td><td>off</td><td>Spare3</td><td>off</td><td>Spare_Ar</td><td>off</td><td>Dim_Neon</td><td>off</td><td>He</td><td>off</td><td>Hg-Cd</td><td>off</td><td>Hg-A</td><td>off</td><td>Spare9</td><td>off</td><td>Neon</td><td>off</td><td>Laser</td><td>off</td><td>shane_kast_blue</td><td>False</td><td>False</td><td>False</td><td>False</td><td>False</td><td>True</td><td>False</td><td>False</td><td>False</td></tr>\n",
       "<tr><td>/Users/westfall/Work/packages/PYPIT-development-suite/RAW_DATA/Shane_Kast_blue/600_4310_d55/</td><td>b29.fits.gz</td><td>None</td><td>J1217p3905</td><td>OBJECT</td><td>397805.6383333333</td><td>2015-05-20T05:38:18.97</td><td>12:17:37.2</td><td>39:00:41.0</td><td>1.009999990463</td><td>None</td><td>1200</td><td>2.0 arcsec</td><td>d55</td><td>600/4310</td><td>350</td><td>2112</td><td>Blue</td><td>off</td><td>Red</td><td>off</td><td>Spare3</td><td>off</td><td>Spare4</td><td>off</td><td>Sup_Blue</td><td>off</td><td>Spare1</td><td>off</td><td>Spare2</td><td>off</td><td>Spare3</td><td>off</td><td>Spare_Ar</td><td>off</td><td>Dim_Neon</td><td>off</td><td>He</td><td>off</td><td>Hg-Cd</td><td>off</td><td>Hg-A</td><td>off</td><td>Spare9</td><td>off</td><td>Neon</td><td>off</td><td>Laser</td><td>off</td><td>shane_kast_blue</td><td>False</td><td>False</td><td>False</td><td>False</td><td>False</td><td>True</td><td>False</td><td>False</td><td>False</td></tr>\n",
       "</table>"
      ],
      "text/plain": [
       "<Table length=27>\n",
       "                                         directory                                           ...\n",
       "                                           str92                                             ...\n",
       "-------------------------------------------------------------------------------------------- ...\n",
       "/Users/westfall/Work/packages/PYPIT-development-suite/RAW_DATA/Shane_Kast_blue/600_4310_d55/ ...\n",
       "/Users/westfall/Work/packages/PYPIT-development-suite/RAW_DATA/Shane_Kast_blue/600_4310_d55/ ...\n",
       "/Users/westfall/Work/packages/PYPIT-development-suite/RAW_DATA/Shane_Kast_blue/600_4310_d55/ ...\n",
       "/Users/westfall/Work/packages/PYPIT-development-suite/RAW_DATA/Shane_Kast_blue/600_4310_d55/ ...\n",
       "/Users/westfall/Work/packages/PYPIT-development-suite/RAW_DATA/Shane_Kast_blue/600_4310_d55/ ...\n",
       "/Users/westfall/Work/packages/PYPIT-development-suite/RAW_DATA/Shane_Kast_blue/600_4310_d55/ ...\n",
       "/Users/westfall/Work/packages/PYPIT-development-suite/RAW_DATA/Shane_Kast_blue/600_4310_d55/ ...\n",
       "/Users/westfall/Work/packages/PYPIT-development-suite/RAW_DATA/Shane_Kast_blue/600_4310_d55/ ...\n",
       "/Users/westfall/Work/packages/PYPIT-development-suite/RAW_DATA/Shane_Kast_blue/600_4310_d55/ ...\n",
       "/Users/westfall/Work/packages/PYPIT-development-suite/RAW_DATA/Shane_Kast_blue/600_4310_d55/ ...\n",
       "                                                                                         ... ...\n",
       "/Users/westfall/Work/packages/PYPIT-development-suite/RAW_DATA/Shane_Kast_blue/600_4310_d55/ ...\n",
       "/Users/westfall/Work/packages/PYPIT-development-suite/RAW_DATA/Shane_Kast_blue/600_4310_d55/ ...\n",
       "/Users/westfall/Work/packages/PYPIT-development-suite/RAW_DATA/Shane_Kast_blue/600_4310_d55/ ...\n",
       "/Users/westfall/Work/packages/PYPIT-development-suite/RAW_DATA/Shane_Kast_blue/600_4310_d55/ ...\n",
       "/Users/westfall/Work/packages/PYPIT-development-suite/RAW_DATA/Shane_Kast_blue/600_4310_d55/ ...\n",
       "/Users/westfall/Work/packages/PYPIT-development-suite/RAW_DATA/Shane_Kast_blue/600_4310_d55/ ...\n",
       "/Users/westfall/Work/packages/PYPIT-development-suite/RAW_DATA/Shane_Kast_blue/600_4310_d55/ ...\n",
       "/Users/westfall/Work/packages/PYPIT-development-suite/RAW_DATA/Shane_Kast_blue/600_4310_d55/ ...\n",
       "/Users/westfall/Work/packages/PYPIT-development-suite/RAW_DATA/Shane_Kast_blue/600_4310_d55/ ...\n",
       "/Users/westfall/Work/packages/PYPIT-development-suite/RAW_DATA/Shane_Kast_blue/600_4310_d55/ ..."
      ]
     },
     "execution_count": 12,
     "metadata": {},
     "output_type": "execute_result"
    }
   ],
   "source": [
    "setupc.fitstbl"
   ]
  },
  {
   "cell_type": "markdown",
   "metadata": {},
   "source": [
    "### Do some logic (for fun)"
   ]
  },
  {
   "cell_type": "code",
   "execution_count": 13,
   "metadata": {},
   "outputs": [],
   "source": [
    "both = filetypes['pixelflat'] & filetypes['trace']"
   ]
  },
  {
   "cell_type": "code",
   "execution_count": 14,
   "metadata": {},
   "outputs": [
    {
     "data": {
      "text/html": [
       "<i>Table length=12</i>\n",
       "<table id=\"table4530646824\" class=\"table-striped table-bordered table-condensed\">\n",
       "<thead><tr><th>directory</th><th>filename</th><th>utc</th><th>target</th><th>idname</th><th>time</th><th>date</th><th>ra</th><th>dec</th><th>airmass</th><th>binning</th><th>exptime</th><th>decker</th><th>dichroic</th><th>dispname</th><th>naxis0</th><th>naxis1</th><th>lampname01</th><th>lampstat01</th><th>lampname02</th><th>lampstat02</th><th>lampname03</th><th>lampstat03</th><th>lampname04</th><th>lampstat04</th><th>lampname05</th><th>lampstat05</th><th>lampname06</th><th>lampstat06</th><th>lampname07</th><th>lampstat07</th><th>lampname08</th><th>lampstat08</th><th>lampname09</th><th>lampstat09</th><th>lampname10</th><th>lampstat10</th><th>lampname11</th><th>lampstat11</th><th>lampname12</th><th>lampstat12</th><th>lampname13</th><th>lampstat13</th><th>lampname14</th><th>lampstat14</th><th>lampname15</th><th>lampstat15</th><th>lampname16</th><th>lampstat16</th><th>instrume</th></tr></thead>\n",
       "<thead><tr><th>str92</th><th>str11</th><th>str4</th><th>str10</th><th>str6</th><th>float64</th><th>str22</th><th>str10</th><th>str10</th><th>float64</th><th>str4</th><th>int64</th><th>str10</th><th>str3</th><th>str8</th><th>int64</th><th>int64</th><th>str4</th><th>str3</th><th>str3</th><th>str3</th><th>str6</th><th>str3</th><th>str6</th><th>str3</th><th>str8</th><th>str3</th><th>str6</th><th>str3</th><th>str6</th><th>str3</th><th>str6</th><th>str3</th><th>str8</th><th>str3</th><th>str8</th><th>str3</th><th>str2</th><th>str3</th><th>str5</th><th>str3</th><th>str4</th><th>str3</th><th>str6</th><th>str3</th><th>str4</th><th>str3</th><th>str5</th><th>str3</th><th>str15</th></tr></thead>\n",
       "<tr><td>/Users/westfall/Work/packages/PYPIT-development-suite/RAW_DATA/Shane_Kast_blue/600_4310_d55/</td><td>b2.fits.gz</td><td>None</td><td>Dome Flat</td><td>OBJECT</td><td>397801.7936111111</td><td>2015-05-20T01:47:37.23</td><td>09:33:26.9</td><td>37:25:56.0</td><td>1.0</td><td>None</td><td>30</td><td>2.0 arcsec</td><td>d55</td><td>600/4310</td><td>350</td><td>2112</td><td>Blue</td><td>off</td><td>Red</td><td>off</td><td>Spare3</td><td>off</td><td>Spare4</td><td>off</td><td>Sup_Blue</td><td>on</td><td>Spare1</td><td>off</td><td>Spare2</td><td>off</td><td>Spare3</td><td>off</td><td>Spare_Ar</td><td>off</td><td>Dim_Neon</td><td>off</td><td>He</td><td>off</td><td>Hg-Cd</td><td>off</td><td>Hg-A</td><td>off</td><td>Spare9</td><td>off</td><td>Neon</td><td>off</td><td>Laser</td><td>off</td><td>shane_kast_blue</td></tr>\n",
       "<tr><td>/Users/westfall/Work/packages/PYPIT-development-suite/RAW_DATA/Shane_Kast_blue/600_4310_d55/</td><td>b3.fits.gz</td><td>None</td><td>Dome Flat</td><td>OBJECT</td><td>397801.8230555556</td><td>2015-05-20T01:49:23.29</td><td>09:35:28.3</td><td>37:25:56.0</td><td>1.0</td><td>None</td><td>15</td><td>2.0 arcsec</td><td>d55</td><td>600/4310</td><td>350</td><td>2112</td><td>Blue</td><td>off</td><td>Red</td><td>off</td><td>Spare3</td><td>off</td><td>Spare4</td><td>off</td><td>Sup_Blue</td><td>on</td><td>Spare1</td><td>off</td><td>Spare2</td><td>off</td><td>Spare3</td><td>off</td><td>Spare_Ar</td><td>off</td><td>Dim_Neon</td><td>off</td><td>He</td><td>off</td><td>Hg-Cd</td><td>off</td><td>Hg-A</td><td>off</td><td>Spare9</td><td>off</td><td>Neon</td><td>off</td><td>Laser</td><td>off</td><td>shane_kast_blue</td></tr>\n",
       "<tr><td>/Users/westfall/Work/packages/PYPIT-development-suite/RAW_DATA/Shane_Kast_blue/600_4310_d55/</td><td>b4.fits.gz</td><td>None</td><td>Dome Flat</td><td>OBJECT</td><td>397801.83194444445</td><td>2015-05-20T01:49:55.93</td><td>09:36:01.1</td><td>37:25:56.0</td><td>1.0</td><td>None</td><td>15</td><td>2.0 arcsec</td><td>d55</td><td>600/4310</td><td>350</td><td>2112</td><td>Blue</td><td>off</td><td>Red</td><td>off</td><td>Spare3</td><td>off</td><td>Spare4</td><td>off</td><td>Sup_Blue</td><td>on</td><td>Spare1</td><td>off</td><td>Spare2</td><td>off</td><td>Spare3</td><td>off</td><td>Spare_Ar</td><td>off</td><td>Dim_Neon</td><td>off</td><td>He</td><td>off</td><td>Hg-Cd</td><td>off</td><td>Hg-A</td><td>off</td><td>Spare9</td><td>off</td><td>Neon</td><td>off</td><td>Laser</td><td>off</td><td>shane_kast_blue</td></tr>\n",
       "<tr><td>/Users/westfall/Work/packages/PYPIT-development-suite/RAW_DATA/Shane_Kast_blue/600_4310_d55/</td><td>b5.fits.gz</td><td>None</td><td>Dome Flat</td><td>OBJECT</td><td>397801.8411111111</td><td>2015-05-20T01:50:28.57</td><td>09:36:33.7</td><td>37:25:56.0</td><td>1.0</td><td>None</td><td>15</td><td>2.0 arcsec</td><td>d55</td><td>600/4310</td><td>350</td><td>2112</td><td>Blue</td><td>off</td><td>Red</td><td>off</td><td>Spare3</td><td>off</td><td>Spare4</td><td>off</td><td>Sup_Blue</td><td>on</td><td>Spare1</td><td>off</td><td>Spare2</td><td>off</td><td>Spare3</td><td>off</td><td>Spare_Ar</td><td>off</td><td>Dim_Neon</td><td>off</td><td>He</td><td>off</td><td>Hg-Cd</td><td>off</td><td>Hg-A</td><td>off</td><td>Spare9</td><td>off</td><td>Neon</td><td>off</td><td>Laser</td><td>off</td><td>shane_kast_blue</td></tr>\n",
       "<tr><td>/Users/westfall/Work/packages/PYPIT-development-suite/RAW_DATA/Shane_Kast_blue/600_4310_d55/</td><td>b6.fits.gz</td><td>None</td><td>Dome Flat</td><td>OBJECT</td><td>397801.85027777776</td><td>2015-05-20T01:51:01.10</td><td>09:37:06.5</td><td>37:25:56.0</td><td>1.0</td><td>None</td><td>15</td><td>2.0 arcsec</td><td>d55</td><td>600/4310</td><td>350</td><td>2112</td><td>Blue</td><td>off</td><td>Red</td><td>off</td><td>Spare3</td><td>off</td><td>Spare4</td><td>off</td><td>Sup_Blue</td><td>on</td><td>Spare1</td><td>off</td><td>Spare2</td><td>off</td><td>Spare3</td><td>off</td><td>Spare_Ar</td><td>off</td><td>Dim_Neon</td><td>off</td><td>He</td><td>off</td><td>Hg-Cd</td><td>off</td><td>Hg-A</td><td>off</td><td>Spare9</td><td>off</td><td>Neon</td><td>off</td><td>Laser</td><td>off</td><td>shane_kast_blue</td></tr>\n",
       "<tr><td>/Users/westfall/Work/packages/PYPIT-development-suite/RAW_DATA/Shane_Kast_blue/600_4310_d55/</td><td>b7.fits.gz</td><td>None</td><td>Dome Flat</td><td>OBJECT</td><td>397801.8591666667</td><td>2015-05-20T01:51:33.56</td><td>09:37:39.1</td><td>37:25:56.0</td><td>1.0</td><td>None</td><td>15</td><td>2.0 arcsec</td><td>d55</td><td>600/4310</td><td>350</td><td>2112</td><td>Blue</td><td>off</td><td>Red</td><td>off</td><td>Spare3</td><td>off</td><td>Spare4</td><td>off</td><td>Sup_Blue</td><td>on</td><td>Spare1</td><td>off</td><td>Spare2</td><td>off</td><td>Spare3</td><td>off</td><td>Spare_Ar</td><td>off</td><td>Dim_Neon</td><td>off</td><td>He</td><td>off</td><td>Hg-Cd</td><td>off</td><td>Hg-A</td><td>off</td><td>Spare9</td><td>off</td><td>Neon</td><td>off</td><td>Laser</td><td>off</td><td>shane_kast_blue</td></tr>\n",
       "<tr><td>/Users/westfall/Work/packages/PYPIT-development-suite/RAW_DATA/Shane_Kast_blue/600_4310_d55/</td><td>b8.fits.gz</td><td>None</td><td>Dome Flat</td><td>OBJECT</td><td>397801.86833333335</td><td>2015-05-20T01:52:06.03</td><td>09:38:11.7</td><td>37:25:56.0</td><td>1.0</td><td>None</td><td>15</td><td>2.0 arcsec</td><td>d55</td><td>600/4310</td><td>350</td><td>2112</td><td>Blue</td><td>off</td><td>Red</td><td>off</td><td>Spare3</td><td>off</td><td>Spare4</td><td>off</td><td>Sup_Blue</td><td>on</td><td>Spare1</td><td>off</td><td>Spare2</td><td>off</td><td>Spare3</td><td>off</td><td>Spare_Ar</td><td>off</td><td>Dim_Neon</td><td>off</td><td>He</td><td>off</td><td>Hg-Cd</td><td>off</td><td>Hg-A</td><td>off</td><td>Spare9</td><td>off</td><td>Neon</td><td>off</td><td>Laser</td><td>off</td><td>shane_kast_blue</td></tr>\n",
       "<tr><td>/Users/westfall/Work/packages/PYPIT-development-suite/RAW_DATA/Shane_Kast_blue/600_4310_d55/</td><td>b9.fits.gz</td><td>None</td><td>Dome Flat</td><td>OBJECT</td><td>397801.8772222222</td><td>2015-05-20T01:52:38.46</td><td>09:38:44.3</td><td>37:25:56.0</td><td>1.0</td><td>None</td><td>15</td><td>2.0 arcsec</td><td>d55</td><td>600/4310</td><td>350</td><td>2112</td><td>Blue</td><td>off</td><td>Red</td><td>off</td><td>Spare3</td><td>off</td><td>Spare4</td><td>off</td><td>Sup_Blue</td><td>on</td><td>Spare1</td><td>off</td><td>Spare2</td><td>off</td><td>Spare3</td><td>off</td><td>Spare_Ar</td><td>off</td><td>Dim_Neon</td><td>off</td><td>He</td><td>off</td><td>Hg-Cd</td><td>off</td><td>Hg-A</td><td>off</td><td>Spare9</td><td>off</td><td>Neon</td><td>off</td><td>Laser</td><td>off</td><td>shane_kast_blue</td></tr>\n",
       "<tr><td>/Users/westfall/Work/packages/PYPIT-development-suite/RAW_DATA/Shane_Kast_blue/600_4310_d55/</td><td>b10.fits.gz</td><td>None</td><td>Dome Flat</td><td>OBJECT</td><td>397801.8861111111</td><td>2015-05-20T01:53:10.95</td><td>09:39:16.9</td><td>37:25:56.0</td><td>1.0</td><td>None</td><td>15</td><td>2.0 arcsec</td><td>d55</td><td>600/4310</td><td>350</td><td>2112</td><td>Blue</td><td>off</td><td>Red</td><td>off</td><td>Spare3</td><td>off</td><td>Spare4</td><td>off</td><td>Sup_Blue</td><td>on</td><td>Spare1</td><td>off</td><td>Spare2</td><td>off</td><td>Spare3</td><td>off</td><td>Spare_Ar</td><td>off</td><td>Dim_Neon</td><td>off</td><td>He</td><td>off</td><td>Hg-Cd</td><td>off</td><td>Hg-A</td><td>off</td><td>Spare9</td><td>off</td><td>Neon</td><td>off</td><td>Laser</td><td>off</td><td>shane_kast_blue</td></tr>\n",
       "<tr><td>/Users/westfall/Work/packages/PYPIT-development-suite/RAW_DATA/Shane_Kast_blue/600_4310_d55/</td><td>b11.fits.gz</td><td>None</td><td>Dome Flat</td><td>OBJECT</td><td>397801.8952777778</td><td>2015-05-20T01:53:43.42</td><td>09:39:49.2</td><td>37:25:56.0</td><td>1.0</td><td>None</td><td>15</td><td>2.0 arcsec</td><td>d55</td><td>600/4310</td><td>350</td><td>2112</td><td>Blue</td><td>off</td><td>Red</td><td>off</td><td>Spare3</td><td>off</td><td>Spare4</td><td>off</td><td>Sup_Blue</td><td>on</td><td>Spare1</td><td>off</td><td>Spare2</td><td>off</td><td>Spare3</td><td>off</td><td>Spare_Ar</td><td>off</td><td>Dim_Neon</td><td>off</td><td>He</td><td>off</td><td>Hg-Cd</td><td>off</td><td>Hg-A</td><td>off</td><td>Spare9</td><td>off</td><td>Neon</td><td>off</td><td>Laser</td><td>off</td><td>shane_kast_blue</td></tr>\n",
       "<tr><td>/Users/westfall/Work/packages/PYPIT-development-suite/RAW_DATA/Shane_Kast_blue/600_4310_d55/</td><td>b12.fits.gz</td><td>None</td><td>Dome Flat</td><td>OBJECT</td><td>397801.9041666667</td><td>2015-05-20T01:54:15.96</td><td>09:40:21.8</td><td>37:25:56.0</td><td>1.0</td><td>None</td><td>15</td><td>2.0 arcsec</td><td>d55</td><td>600/4310</td><td>350</td><td>2112</td><td>Blue</td><td>off</td><td>Red</td><td>off</td><td>Spare3</td><td>off</td><td>Spare4</td><td>off</td><td>Sup_Blue</td><td>on</td><td>Spare1</td><td>off</td><td>Spare2</td><td>off</td><td>Spare3</td><td>off</td><td>Spare_Ar</td><td>off</td><td>Dim_Neon</td><td>off</td><td>He</td><td>off</td><td>Hg-Cd</td><td>off</td><td>Hg-A</td><td>off</td><td>Spare9</td><td>off</td><td>Neon</td><td>off</td><td>Laser</td><td>off</td><td>shane_kast_blue</td></tr>\n",
       "<tr><td>/Users/westfall/Work/packages/PYPIT-development-suite/RAW_DATA/Shane_Kast_blue/600_4310_d55/</td><td>b13.fits.gz</td><td>None</td><td>Dome Flat</td><td>OBJECT</td><td>397801.91333333333</td><td>2015-05-20T01:54:48.52</td><td>09:40:54.7</td><td>37:25:56.0</td><td>1.0</td><td>None</td><td>15</td><td>2.0 arcsec</td><td>d55</td><td>600/4310</td><td>350</td><td>2112</td><td>Blue</td><td>off</td><td>Red</td><td>off</td><td>Spare3</td><td>off</td><td>Spare4</td><td>off</td><td>Sup_Blue</td><td>on</td><td>Spare1</td><td>off</td><td>Spare2</td><td>off</td><td>Spare3</td><td>off</td><td>Spare_Ar</td><td>off</td><td>Dim_Neon</td><td>off</td><td>He</td><td>off</td><td>Hg-Cd</td><td>off</td><td>Hg-A</td><td>off</td><td>Spare9</td><td>off</td><td>Neon</td><td>off</td><td>Laser</td><td>off</td><td>shane_kast_blue</td></tr>\n",
       "</table>"
      ],
      "text/plain": [
       "<Table length=12>\n",
       "                                         directory                                           ...\n",
       "                                           str92                                             ...\n",
       "-------------------------------------------------------------------------------------------- ...\n",
       "/Users/westfall/Work/packages/PYPIT-development-suite/RAW_DATA/Shane_Kast_blue/600_4310_d55/ ...\n",
       "/Users/westfall/Work/packages/PYPIT-development-suite/RAW_DATA/Shane_Kast_blue/600_4310_d55/ ...\n",
       "/Users/westfall/Work/packages/PYPIT-development-suite/RAW_DATA/Shane_Kast_blue/600_4310_d55/ ...\n",
       "/Users/westfall/Work/packages/PYPIT-development-suite/RAW_DATA/Shane_Kast_blue/600_4310_d55/ ...\n",
       "/Users/westfall/Work/packages/PYPIT-development-suite/RAW_DATA/Shane_Kast_blue/600_4310_d55/ ...\n",
       "/Users/westfall/Work/packages/PYPIT-development-suite/RAW_DATA/Shane_Kast_blue/600_4310_d55/ ...\n",
       "/Users/westfall/Work/packages/PYPIT-development-suite/RAW_DATA/Shane_Kast_blue/600_4310_d55/ ...\n",
       "/Users/westfall/Work/packages/PYPIT-development-suite/RAW_DATA/Shane_Kast_blue/600_4310_d55/ ...\n",
       "/Users/westfall/Work/packages/PYPIT-development-suite/RAW_DATA/Shane_Kast_blue/600_4310_d55/ ...\n",
       "/Users/westfall/Work/packages/PYPIT-development-suite/RAW_DATA/Shane_Kast_blue/600_4310_d55/ ...\n",
       "/Users/westfall/Work/packages/PYPIT-development-suite/RAW_DATA/Shane_Kast_blue/600_4310_d55/ ...\n",
       "/Users/westfall/Work/packages/PYPIT-development-suite/RAW_DATA/Shane_Kast_blue/600_4310_d55/ ..."
      ]
     },
     "execution_count": 14,
     "metadata": {},
     "output_type": "execute_result"
    }
   ],
   "source": [
    "fitstbl[both]"
   ]
  },
  {
   "cell_type": "markdown",
   "metadata": {},
   "source": [
    "## Match to science"
   ]
  },
  {
   "cell_type": "code",
   "execution_count": 15,
   "metadata": {},
   "outputs": [
    {
     "name": "stderr",
     "output_type": "stream",
     "text": [
      "\u001b[1;32m[INFO]    ::\u001b[0m Matching calibrations to Science frames\n",
      "\u001b[1;32m[INFO]    ::\u001b[0m =================================================\n",
      "\u001b[1;32m[INFO]    ::\u001b[0m Matching calibrations to J1217p3905: b27.fits.gz\n",
      "\u001b[1;32m[INFO]    ::\u001b[0m   Found 1 arc frame for J1217p3905 (1 required)\n",
      "\u001b[1;32m[INFO]    ::\u001b[0m   Found 10 bias frame for J1217p3905 (5 required)\n",
      "\u001b[1;32m[INFO]    ::\u001b[0m   Dark frames not required.  Not matching..\n",
      "\u001b[1;32m[INFO]    ::\u001b[0m    No pinhole frames are required.  Not matching..\n",
      "\u001b[1;32m[INFO]    ::\u001b[0m   Found 12 pixelflat frame for J1217p3905 (5 required)\n",
      "\u001b[1;32m[INFO]    ::\u001b[0m   Found 1 standard frame for J1217p3905 (1 required)\n",
      "\u001b[1;32m[INFO]    ::\u001b[0m   Found 12 trace frame for J1217p3905 (5 required)\n",
      "\u001b[1;32m[INFO]    ::\u001b[0m =================================================\n",
      "\u001b[1;32m[INFO]    ::\u001b[0m Matching calibrations to J1217p3905: b28.fits.gz\n",
      "\u001b[1;32m[INFO]    ::\u001b[0m   Found 1 arc frame for J1217p3905 (1 required)\n",
      "\u001b[1;32m[INFO]    ::\u001b[0m   Found 10 bias frame for J1217p3905 (5 required)\n",
      "\u001b[1;32m[INFO]    ::\u001b[0m   Dark frames not required.  Not matching..\n",
      "\u001b[1;32m[INFO]    ::\u001b[0m    No pinhole frames are required.  Not matching..\n",
      "\u001b[1;32m[INFO]    ::\u001b[0m   Found 12 pixelflat frame for J1217p3905 (5 required)\n",
      "\u001b[1;32m[INFO]    ::\u001b[0m   Found 1 standard frame for J1217p3905 (1 required)\n",
      "\u001b[1;32m[INFO]    ::\u001b[0m   Found 12 trace frame for J1217p3905 (5 required)\n",
      "\u001b[1;32m[INFO]    ::\u001b[0m =================================================\n",
      "\u001b[1;32m[INFO]    ::\u001b[0m Matching calibrations to J1217p3905: b29.fits.gz\n",
      "\u001b[1;32m[INFO]    ::\u001b[0m   Found 1 arc frame for J1217p3905 (1 required)\n",
      "\u001b[1;32m[INFO]    ::\u001b[0m   Found 10 bias frame for J1217p3905 (5 required)\n",
      "\u001b[1;32m[INFO]    ::\u001b[0m   Dark frames not required.  Not matching..\n",
      "\u001b[1;32m[INFO]    ::\u001b[0m    No pinhole frames are required.  Not matching..\n",
      "\u001b[1;32m[INFO]    ::\u001b[0m   Found 12 pixelflat frame for J1217p3905 (5 required)\n",
      "\u001b[1;32m[INFO]    ::\u001b[0m   Found 1 standard frame for J1217p3905 (1 required)\n",
      "\u001b[1;32m[INFO]    ::\u001b[0m   Found 12 trace frame for J1217p3905 (5 required)\n",
      "\u001b[1;32m[INFO]    ::\u001b[0m Science frames successfully matched to calibration frames\n"
     ]
    }
   ],
   "source": [
    "fitstbl = setupc.match_to_science()"
   ]
  },
  {
   "cell_type": "markdown",
   "metadata": {},
   "source": [
    "## Run it all -- as if in PYPIT run mode"
   ]
  },
  {
   "cell_type": "code",
   "execution_count": 16,
   "metadata": {},
   "outputs": [
    {
     "name": "stderr",
     "output_type": "stream",
     "text": [
      "\u001b[1;31m[WARNING] ::\u001b[0m UTC is not listed as a header keyword in file:\n",
      "             /Users/westfall/Work/packages/PYPIT-development-suite/RAW_DATA/Shane_Kast_blue/600_4310_d55/b1.fits.gz\n",
      "\u001b[1;31m[WARNING] ::\u001b[0m BINNING keyword not in header. Setting to None\n",
      "\u001b[1;32m[INFO]    ::\u001b[0m Successfully loaded headers for file:\n",
      "             /Users/westfall/Work/packages/PYPIT-development-suite/RAW_DATA/Shane_Kast_blue/600_4310_d55/b1.fits.gz\n",
      "\u001b[1;31m[WARNING] ::\u001b[0m UTC is not listed as a header keyword in file:\n",
      "             /Users/westfall/Work/packages/PYPIT-development-suite/RAW_DATA/Shane_Kast_blue/600_4310_d55/b10.fits.gz\n",
      "\u001b[1;31m[WARNING] ::\u001b[0m BINNING keyword not in header. Setting to None\n",
      "\u001b[1;32m[INFO]    ::\u001b[0m Successfully loaded headers for file:\n",
      "             /Users/westfall/Work/packages/PYPIT-development-suite/RAW_DATA/Shane_Kast_blue/600_4310_d55/b10.fits.gz\n",
      "\u001b[1;31m[WARNING] ::\u001b[0m UTC is not listed as a header keyword in file:\n",
      "             /Users/westfall/Work/packages/PYPIT-development-suite/RAW_DATA/Shane_Kast_blue/600_4310_d55/b11.fits.gz\n",
      "\u001b[1;31m[WARNING] ::\u001b[0m BINNING keyword not in header. Setting to None\n",
      "\u001b[1;32m[INFO]    ::\u001b[0m Successfully loaded headers for file:\n",
      "             /Users/westfall/Work/packages/PYPIT-development-suite/RAW_DATA/Shane_Kast_blue/600_4310_d55/b11.fits.gz\n",
      "\u001b[1;31m[WARNING] ::\u001b[0m UTC is not listed as a header keyword in file:\n",
      "             /Users/westfall/Work/packages/PYPIT-development-suite/RAW_DATA/Shane_Kast_blue/600_4310_d55/b12.fits.gz\n",
      "\u001b[1;31m[WARNING] ::\u001b[0m BINNING keyword not in header. Setting to None\n",
      "\u001b[1;32m[INFO]    ::\u001b[0m Successfully loaded headers for file:\n",
      "             /Users/westfall/Work/packages/PYPIT-development-suite/RAW_DATA/Shane_Kast_blue/600_4310_d55/b12.fits.gz\n",
      "\u001b[1;31m[WARNING] ::\u001b[0m UTC is not listed as a header keyword in file:\n",
      "             /Users/westfall/Work/packages/PYPIT-development-suite/RAW_DATA/Shane_Kast_blue/600_4310_d55/b13.fits.gz\n",
      "\u001b[1;31m[WARNING] ::\u001b[0m BINNING keyword not in header. Setting to None\n",
      "\u001b[1;32m[INFO]    ::\u001b[0m Successfully loaded headers for file:\n",
      "             /Users/westfall/Work/packages/PYPIT-development-suite/RAW_DATA/Shane_Kast_blue/600_4310_d55/b13.fits.gz\n",
      "\u001b[1;31m[WARNING] ::\u001b[0m UTC is not listed as a header keyword in file:\n",
      "             /Users/westfall/Work/packages/PYPIT-development-suite/RAW_DATA/Shane_Kast_blue/600_4310_d55/b14.fits.gz\n",
      "\u001b[1;31m[WARNING] ::\u001b[0m BINNING keyword not in header. Setting to None\n",
      "\u001b[1;32m[INFO]    ::\u001b[0m Successfully loaded headers for file:\n",
      "             /Users/westfall/Work/packages/PYPIT-development-suite/RAW_DATA/Shane_Kast_blue/600_4310_d55/b14.fits.gz\n",
      "\u001b[1;31m[WARNING] ::\u001b[0m UTC is not listed as a header keyword in file:\n",
      "             /Users/westfall/Work/packages/PYPIT-development-suite/RAW_DATA/Shane_Kast_blue/600_4310_d55/b15.fits.gz\n",
      "\u001b[1;31m[WARNING] ::\u001b[0m BINNING keyword not in header. Setting to None\n",
      "\u001b[1;32m[INFO]    ::\u001b[0m Successfully loaded headers for file:\n",
      "             /Users/westfall/Work/packages/PYPIT-development-suite/RAW_DATA/Shane_Kast_blue/600_4310_d55/b15.fits.gz\n",
      "\u001b[1;31m[WARNING] ::\u001b[0m UTC is not listed as a header keyword in file:\n",
      "             /Users/westfall/Work/packages/PYPIT-development-suite/RAW_DATA/Shane_Kast_blue/600_4310_d55/b16.fits.gz\n",
      "\u001b[1;31m[WARNING] ::\u001b[0m BINNING keyword not in header. Setting to None\n",
      "\u001b[1;32m[INFO]    ::\u001b[0m Successfully loaded headers for file:\n",
      "             /Users/westfall/Work/packages/PYPIT-development-suite/RAW_DATA/Shane_Kast_blue/600_4310_d55/b16.fits.gz\n",
      "\u001b[1;31m[WARNING] ::\u001b[0m UTC is not listed as a header keyword in file:\n",
      "             /Users/westfall/Work/packages/PYPIT-development-suite/RAW_DATA/Shane_Kast_blue/600_4310_d55/b17.fits.gz\n",
      "\u001b[1;31m[WARNING] ::\u001b[0m BINNING keyword not in header. Setting to None\n",
      "\u001b[1;32m[INFO]    ::\u001b[0m Successfully loaded headers for file:\n",
      "             /Users/westfall/Work/packages/PYPIT-development-suite/RAW_DATA/Shane_Kast_blue/600_4310_d55/b17.fits.gz\n",
      "\u001b[1;31m[WARNING] ::\u001b[0m UTC is not listed as a header keyword in file:\n",
      "             /Users/westfall/Work/packages/PYPIT-development-suite/RAW_DATA/Shane_Kast_blue/600_4310_d55/b18.fits.gz\n",
      "\u001b[1;31m[WARNING] ::\u001b[0m BINNING keyword not in header. Setting to None\n",
      "\u001b[1;32m[INFO]    ::\u001b[0m Successfully loaded headers for file:\n",
      "             /Users/westfall/Work/packages/PYPIT-development-suite/RAW_DATA/Shane_Kast_blue/600_4310_d55/b18.fits.gz\n",
      "\u001b[1;31m[WARNING] ::\u001b[0m UTC is not listed as a header keyword in file:\n",
      "             /Users/westfall/Work/packages/PYPIT-development-suite/RAW_DATA/Shane_Kast_blue/600_4310_d55/b19.fits.gz\n",
      "\u001b[1;31m[WARNING] ::\u001b[0m BINNING keyword not in header. Setting to None\n",
      "\u001b[1;32m[INFO]    ::\u001b[0m Successfully loaded headers for file:\n",
      "             /Users/westfall/Work/packages/PYPIT-development-suite/RAW_DATA/Shane_Kast_blue/600_4310_d55/b19.fits.gz\n",
      "\u001b[1;31m[WARNING] ::\u001b[0m UTC is not listed as a header keyword in file:\n",
      "             /Users/westfall/Work/packages/PYPIT-development-suite/RAW_DATA/Shane_Kast_blue/600_4310_d55/b2.fits.gz\n",
      "\u001b[1;31m[WARNING] ::\u001b[0m BINNING keyword not in header. Setting to None\n",
      "\u001b[1;32m[INFO]    ::\u001b[0m Successfully loaded headers for file:\n",
      "             /Users/westfall/Work/packages/PYPIT-development-suite/RAW_DATA/Shane_Kast_blue/600_4310_d55/b2.fits.gz\n",
      "\u001b[1;31m[WARNING] ::\u001b[0m UTC is not listed as a header keyword in file:\n",
      "             /Users/westfall/Work/packages/PYPIT-development-suite/RAW_DATA/Shane_Kast_blue/600_4310_d55/b20.fits.gz\n",
      "\u001b[1;31m[WARNING] ::\u001b[0m BINNING keyword not in header. Setting to None\n",
      "\u001b[1;32m[INFO]    ::\u001b[0m Successfully loaded headers for file:\n",
      "             /Users/westfall/Work/packages/PYPIT-development-suite/RAW_DATA/Shane_Kast_blue/600_4310_d55/b20.fits.gz\n",
      "\u001b[1;31m[WARNING] ::\u001b[0m UTC is not listed as a header keyword in file:\n",
      "             /Users/westfall/Work/packages/PYPIT-development-suite/RAW_DATA/Shane_Kast_blue/600_4310_d55/b21.fits.gz\n",
      "\u001b[1;31m[WARNING] ::\u001b[0m BINNING keyword not in header. Setting to None\n",
      "\u001b[1;32m[INFO]    ::\u001b[0m Successfully loaded headers for file:\n",
      "             /Users/westfall/Work/packages/PYPIT-development-suite/RAW_DATA/Shane_Kast_blue/600_4310_d55/b21.fits.gz\n",
      "\u001b[1;31m[WARNING] ::\u001b[0m UTC is not listed as a header keyword in file:\n",
      "             /Users/westfall/Work/packages/PYPIT-development-suite/RAW_DATA/Shane_Kast_blue/600_4310_d55/b22.fits.gz\n",
      "\u001b[1;31m[WARNING] ::\u001b[0m BINNING keyword not in header. Setting to None\n",
      "\u001b[1;32m[INFO]    ::\u001b[0m Successfully loaded headers for file:\n",
      "             /Users/westfall/Work/packages/PYPIT-development-suite/RAW_DATA/Shane_Kast_blue/600_4310_d55/b22.fits.gz\n",
      "\u001b[1;31m[WARNING] ::\u001b[0m UTC is not listed as a header keyword in file:\n",
      "             /Users/westfall/Work/packages/PYPIT-development-suite/RAW_DATA/Shane_Kast_blue/600_4310_d55/b23.fits.gz\n",
      "\u001b[1;31m[WARNING] ::\u001b[0m BINNING keyword not in header. Setting to None\n",
      "\u001b[1;32m[INFO]    ::\u001b[0m Successfully loaded headers for file:\n",
      "             /Users/westfall/Work/packages/PYPIT-development-suite/RAW_DATA/Shane_Kast_blue/600_4310_d55/b23.fits.gz\n",
      "\u001b[1;31m[WARNING] ::\u001b[0m UTC is not listed as a header keyword in file:\n",
      "             /Users/westfall/Work/packages/PYPIT-development-suite/RAW_DATA/Shane_Kast_blue/600_4310_d55/b24.fits.gz\n",
      "\u001b[1;31m[WARNING] ::\u001b[0m BINNING keyword not in header. Setting to None\n",
      "\u001b[1;32m[INFO]    ::\u001b[0m Successfully loaded headers for file:\n",
      "             /Users/westfall/Work/packages/PYPIT-development-suite/RAW_DATA/Shane_Kast_blue/600_4310_d55/b24.fits.gz\n",
      "\u001b[1;31m[WARNING] ::\u001b[0m UTC is not listed as a header keyword in file:\n",
      "             /Users/westfall/Work/packages/PYPIT-development-suite/RAW_DATA/Shane_Kast_blue/600_4310_d55/b27.fits.gz\n",
      "\u001b[1;31m[WARNING] ::\u001b[0m BINNING keyword not in header. Setting to None\n",
      "\u001b[1;32m[INFO]    ::\u001b[0m Successfully loaded headers for file:\n",
      "             /Users/westfall/Work/packages/PYPIT-development-suite/RAW_DATA/Shane_Kast_blue/600_4310_d55/b27.fits.gz\n",
      "\u001b[1;31m[WARNING] ::\u001b[0m UTC is not listed as a header keyword in file:\n",
      "             /Users/westfall/Work/packages/PYPIT-development-suite/RAW_DATA/Shane_Kast_blue/600_4310_d55/b28.fits.gz\n",
      "\u001b[1;31m[WARNING] ::\u001b[0m BINNING keyword not in header. Setting to None\n",
      "\u001b[1;32m[INFO]    ::\u001b[0m Successfully loaded headers for file:\n",
      "             /Users/westfall/Work/packages/PYPIT-development-suite/RAW_DATA/Shane_Kast_blue/600_4310_d55/b28.fits.gz\n",
      "\u001b[1;31m[WARNING] ::\u001b[0m UTC is not listed as a header keyword in file:\n",
      "             /Users/westfall/Work/packages/PYPIT-development-suite/RAW_DATA/Shane_Kast_blue/600_4310_d55/b29.fits.gz\n",
      "\u001b[1;31m[WARNING] ::\u001b[0m BINNING keyword not in header. Setting to None\n",
      "\u001b[1;32m[INFO]    ::\u001b[0m Successfully loaded headers for file:\n",
      "             /Users/westfall/Work/packages/PYPIT-development-suite/RAW_DATA/Shane_Kast_blue/600_4310_d55/b29.fits.gz\n",
      "\u001b[1;31m[WARNING] ::\u001b[0m UTC is not listed as a header keyword in file:\n",
      "             /Users/westfall/Work/packages/PYPIT-development-suite/RAW_DATA/Shane_Kast_blue/600_4310_d55/b3.fits.gz\n",
      "\u001b[1;31m[WARNING] ::\u001b[0m BINNING keyword not in header. Setting to None\n",
      "\u001b[1;32m[INFO]    ::\u001b[0m Successfully loaded headers for file:\n",
      "             /Users/westfall/Work/packages/PYPIT-development-suite/RAW_DATA/Shane_Kast_blue/600_4310_d55/b3.fits.gz\n",
      "\u001b[1;31m[WARNING] ::\u001b[0m UTC is not listed as a header keyword in file:\n",
      "             /Users/westfall/Work/packages/PYPIT-development-suite/RAW_DATA/Shane_Kast_blue/600_4310_d55/b4.fits.gz\n",
      "\u001b[1;31m[WARNING] ::\u001b[0m BINNING keyword not in header. Setting to None\n",
      "\u001b[1;32m[INFO]    ::\u001b[0m Successfully loaded headers for file:\n",
      "             /Users/westfall/Work/packages/PYPIT-development-suite/RAW_DATA/Shane_Kast_blue/600_4310_d55/b4.fits.gz\n",
      "\u001b[1;31m[WARNING] ::\u001b[0m UTC is not listed as a header keyword in file:\n",
      "             /Users/westfall/Work/packages/PYPIT-development-suite/RAW_DATA/Shane_Kast_blue/600_4310_d55/b5.fits.gz\n",
      "\u001b[1;31m[WARNING] ::\u001b[0m BINNING keyword not in header. Setting to None\n",
      "\u001b[1;32m[INFO]    ::\u001b[0m Successfully loaded headers for file:\n",
      "             /Users/westfall/Work/packages/PYPIT-development-suite/RAW_DATA/Shane_Kast_blue/600_4310_d55/b5.fits.gz\n",
      "\u001b[1;31m[WARNING] ::\u001b[0m UTC is not listed as a header keyword in file:\n",
      "             /Users/westfall/Work/packages/PYPIT-development-suite/RAW_DATA/Shane_Kast_blue/600_4310_d55/b6.fits.gz\n",
      "\u001b[1;31m[WARNING] ::\u001b[0m BINNING keyword not in header. Setting to None\n",
      "\u001b[1;32m[INFO]    ::\u001b[0m Successfully loaded headers for file:\n",
      "             /Users/westfall/Work/packages/PYPIT-development-suite/RAW_DATA/Shane_Kast_blue/600_4310_d55/b6.fits.gz\n",
      "\u001b[1;31m[WARNING] ::\u001b[0m UTC is not listed as a header keyword in file:\n",
      "             /Users/westfall/Work/packages/PYPIT-development-suite/RAW_DATA/Shane_Kast_blue/600_4310_d55/b7.fits.gz\n",
      "\u001b[1;31m[WARNING] ::\u001b[0m BINNING keyword not in header. Setting to None\n",
      "\u001b[1;32m[INFO]    ::\u001b[0m Successfully loaded headers for file:\n",
      "             /Users/westfall/Work/packages/PYPIT-development-suite/RAW_DATA/Shane_Kast_blue/600_4310_d55/b7.fits.gz\n"
     ]
    },
    {
     "name": "stderr",
     "output_type": "stream",
     "text": [
      "\u001b[1;31m[WARNING] ::\u001b[0m UTC is not listed as a header keyword in file:\n",
      "             /Users/westfall/Work/packages/PYPIT-development-suite/RAW_DATA/Shane_Kast_blue/600_4310_d55/b8.fits.gz\n",
      "\u001b[1;31m[WARNING] ::\u001b[0m BINNING keyword not in header. Setting to None\n",
      "\u001b[1;32m[INFO]    ::\u001b[0m Successfully loaded headers for file:\n",
      "             /Users/westfall/Work/packages/PYPIT-development-suite/RAW_DATA/Shane_Kast_blue/600_4310_d55/b8.fits.gz\n",
      "\u001b[1;31m[WARNING] ::\u001b[0m UTC is not listed as a header keyword in file:\n",
      "             /Users/westfall/Work/packages/PYPIT-development-suite/RAW_DATA/Shane_Kast_blue/600_4310_d55/b9.fits.gz\n",
      "\u001b[1;31m[WARNING] ::\u001b[0m BINNING keyword not in header. Setting to None\n",
      "\u001b[1;32m[INFO]    ::\u001b[0m Successfully loaded headers for file:\n",
      "             /Users/westfall/Work/packages/PYPIT-development-suite/RAW_DATA/Shane_Kast_blue/600_4310_d55/b9.fits.gz\n",
      "\u001b[1;32m[INFO]    ::\u001b[0m Checking spectrograph settings for required header information\n",
      "\u001b[1;32m[INFO]    ::\u001b[0m Headers loaded for 27 files successfully\n",
      "\u001b[1;32m[INFO]    ::\u001b[0m Typing files\n",
      "\u001b[1;32m[INFO]    ::\u001b[0m Typing completed!\n",
      "\u001b[1;32m[INFO]    ::\u001b[0m Adding file type information to the fitstbl\n",
      "\u001b[1;32m[INFO]    ::\u001b[0m Matching calibrations to Science frames\n",
      "\u001b[1;32m[INFO]    ::\u001b[0m =================================================\n",
      "\u001b[1;32m[INFO]    ::\u001b[0m Matching calibrations to J1217p3905: b27.fits.gz\n",
      "\u001b[1;32m[INFO]    ::\u001b[0m   Found 1 arc frame for J1217p3905 (1 required)\n",
      "\u001b[1;32m[INFO]    ::\u001b[0m   Found 10 bias frame for J1217p3905 (5 required)\n",
      "\u001b[1;32m[INFO]    ::\u001b[0m   Dark frames not required.  Not matching..\n",
      "\u001b[1;32m[INFO]    ::\u001b[0m    No pinhole frames are required.  Not matching..\n",
      "\u001b[1;32m[INFO]    ::\u001b[0m   Found 12 pixelflat frame for J1217p3905 (5 required)\n",
      "\u001b[1;32m[INFO]    ::\u001b[0m   Found 1 standard frame for J1217p3905 (1 required)\n",
      "\u001b[1;32m[INFO]    ::\u001b[0m   Found 12 trace frame for J1217p3905 (5 required)\n",
      "\u001b[1;32m[INFO]    ::\u001b[0m =================================================\n",
      "\u001b[1;32m[INFO]    ::\u001b[0m Matching calibrations to J1217p3905: b28.fits.gz\n",
      "\u001b[1;32m[INFO]    ::\u001b[0m   Found 1 arc frame for J1217p3905 (1 required)\n",
      "\u001b[1;32m[INFO]    ::\u001b[0m   Found 10 bias frame for J1217p3905 (5 required)\n",
      "\u001b[1;32m[INFO]    ::\u001b[0m   Dark frames not required.  Not matching..\n",
      "\u001b[1;32m[INFO]    ::\u001b[0m    No pinhole frames are required.  Not matching..\n",
      "\u001b[1;32m[INFO]    ::\u001b[0m   Found 12 pixelflat frame for J1217p3905 (5 required)\n",
      "\u001b[1;32m[INFO]    ::\u001b[0m   Found 1 standard frame for J1217p3905 (1 required)\n",
      "\u001b[1;32m[INFO]    ::\u001b[0m   Found 12 trace frame for J1217p3905 (5 required)\n",
      "\u001b[1;32m[INFO]    ::\u001b[0m =================================================\n",
      "\u001b[1;32m[INFO]    ::\u001b[0m Matching calibrations to J1217p3905: b29.fits.gz\n",
      "\u001b[1;32m[INFO]    ::\u001b[0m   Found 1 arc frame for J1217p3905 (1 required)\n",
      "\u001b[1;32m[INFO]    ::\u001b[0m   Found 10 bias frame for J1217p3905 (5 required)\n",
      "\u001b[1;32m[INFO]    ::\u001b[0m   Dark frames not required.  Not matching..\n",
      "\u001b[1;32m[INFO]    ::\u001b[0m    No pinhole frames are required.  Not matching..\n",
      "\u001b[1;32m[INFO]    ::\u001b[0m   Found 12 pixelflat frame for J1217p3905 (5 required)\n",
      "\u001b[1;32m[INFO]    ::\u001b[0m   Found 1 standard frame for J1217p3905 (1 required)\n",
      "\u001b[1;32m[INFO]    ::\u001b[0m   Found 12 trace frame for J1217p3905 (5 required)\n",
      "\u001b[1;32m[INFO]    ::\u001b[0m Science frames successfully matched to calibration frames\n"
     ]
    }
   ],
   "source": [
    "setupc = pypitsetup.PypitSetup(kast_blue_files, spectrograph_name='shane_kast_blue')\n",
    "par, spectrograph, fitstbl, setup_dict = setupc.run()"
   ]
  },
  {
   "cell_type": "markdown",
   "metadata": {},
   "source": [
    "### Now as calcheck"
   ]
  },
  {
   "cell_type": "code",
   "execution_count": 17,
   "metadata": {},
   "outputs": [
    {
     "name": "stderr",
     "output_type": "stream",
     "text": [
      "\u001b[1;31m[WARNING] ::\u001b[0m UTC is not listed as a header keyword in file:\n",
      "             /Users/westfall/Work/packages/PYPIT-development-suite/RAW_DATA/Shane_Kast_blue/600_4310_d55/b1.fits.gz\n",
      "\u001b[1;31m[WARNING] ::\u001b[0m BINNING keyword not in header. Setting to None\n",
      "\u001b[1;32m[INFO]    ::\u001b[0m Successfully loaded headers for file:\n",
      "             /Users/westfall/Work/packages/PYPIT-development-suite/RAW_DATA/Shane_Kast_blue/600_4310_d55/b1.fits.gz\n",
      "\u001b[1;31m[WARNING] ::\u001b[0m UTC is not listed as a header keyword in file:\n",
      "             /Users/westfall/Work/packages/PYPIT-development-suite/RAW_DATA/Shane_Kast_blue/600_4310_d55/b10.fits.gz\n",
      "\u001b[1;31m[WARNING] ::\u001b[0m BINNING keyword not in header. Setting to None\n",
      "\u001b[1;32m[INFO]    ::\u001b[0m Successfully loaded headers for file:\n",
      "             /Users/westfall/Work/packages/PYPIT-development-suite/RAW_DATA/Shane_Kast_blue/600_4310_d55/b10.fits.gz\n",
      "\u001b[1;31m[WARNING] ::\u001b[0m UTC is not listed as a header keyword in file:\n",
      "             /Users/westfall/Work/packages/PYPIT-development-suite/RAW_DATA/Shane_Kast_blue/600_4310_d55/b11.fits.gz\n",
      "\u001b[1;31m[WARNING] ::\u001b[0m BINNING keyword not in header. Setting to None\n",
      "\u001b[1;32m[INFO]    ::\u001b[0m Successfully loaded headers for file:\n",
      "             /Users/westfall/Work/packages/PYPIT-development-suite/RAW_DATA/Shane_Kast_blue/600_4310_d55/b11.fits.gz\n",
      "\u001b[1;31m[WARNING] ::\u001b[0m UTC is not listed as a header keyword in file:\n",
      "             /Users/westfall/Work/packages/PYPIT-development-suite/RAW_DATA/Shane_Kast_blue/600_4310_d55/b12.fits.gz\n",
      "\u001b[1;31m[WARNING] ::\u001b[0m BINNING keyword not in header. Setting to None\n",
      "\u001b[1;32m[INFO]    ::\u001b[0m Successfully loaded headers for file:\n",
      "             /Users/westfall/Work/packages/PYPIT-development-suite/RAW_DATA/Shane_Kast_blue/600_4310_d55/b12.fits.gz\n",
      "\u001b[1;31m[WARNING] ::\u001b[0m UTC is not listed as a header keyword in file:\n",
      "             /Users/westfall/Work/packages/PYPIT-development-suite/RAW_DATA/Shane_Kast_blue/600_4310_d55/b13.fits.gz\n",
      "\u001b[1;31m[WARNING] ::\u001b[0m BINNING keyword not in header. Setting to None\n",
      "\u001b[1;32m[INFO]    ::\u001b[0m Successfully loaded headers for file:\n",
      "             /Users/westfall/Work/packages/PYPIT-development-suite/RAW_DATA/Shane_Kast_blue/600_4310_d55/b13.fits.gz\n",
      "\u001b[1;31m[WARNING] ::\u001b[0m UTC is not listed as a header keyword in file:\n",
      "             /Users/westfall/Work/packages/PYPIT-development-suite/RAW_DATA/Shane_Kast_blue/600_4310_d55/b14.fits.gz\n",
      "\u001b[1;31m[WARNING] ::\u001b[0m BINNING keyword not in header. Setting to None\n",
      "\u001b[1;32m[INFO]    ::\u001b[0m Successfully loaded headers for file:\n",
      "             /Users/westfall/Work/packages/PYPIT-development-suite/RAW_DATA/Shane_Kast_blue/600_4310_d55/b14.fits.gz\n",
      "\u001b[1;31m[WARNING] ::\u001b[0m UTC is not listed as a header keyword in file:\n",
      "             /Users/westfall/Work/packages/PYPIT-development-suite/RAW_DATA/Shane_Kast_blue/600_4310_d55/b15.fits.gz\n",
      "\u001b[1;31m[WARNING] ::\u001b[0m BINNING keyword not in header. Setting to None\n",
      "\u001b[1;32m[INFO]    ::\u001b[0m Successfully loaded headers for file:\n",
      "             /Users/westfall/Work/packages/PYPIT-development-suite/RAW_DATA/Shane_Kast_blue/600_4310_d55/b15.fits.gz\n",
      "\u001b[1;31m[WARNING] ::\u001b[0m UTC is not listed as a header keyword in file:\n",
      "             /Users/westfall/Work/packages/PYPIT-development-suite/RAW_DATA/Shane_Kast_blue/600_4310_d55/b16.fits.gz\n",
      "\u001b[1;31m[WARNING] ::\u001b[0m BINNING keyword not in header. Setting to None\n",
      "\u001b[1;32m[INFO]    ::\u001b[0m Successfully loaded headers for file:\n",
      "             /Users/westfall/Work/packages/PYPIT-development-suite/RAW_DATA/Shane_Kast_blue/600_4310_d55/b16.fits.gz\n",
      "\u001b[1;31m[WARNING] ::\u001b[0m UTC is not listed as a header keyword in file:\n",
      "             /Users/westfall/Work/packages/PYPIT-development-suite/RAW_DATA/Shane_Kast_blue/600_4310_d55/b17.fits.gz\n",
      "\u001b[1;31m[WARNING] ::\u001b[0m BINNING keyword not in header. Setting to None\n",
      "\u001b[1;32m[INFO]    ::\u001b[0m Successfully loaded headers for file:\n",
      "             /Users/westfall/Work/packages/PYPIT-development-suite/RAW_DATA/Shane_Kast_blue/600_4310_d55/b17.fits.gz\n",
      "\u001b[1;31m[WARNING] ::\u001b[0m UTC is not listed as a header keyword in file:\n",
      "             /Users/westfall/Work/packages/PYPIT-development-suite/RAW_DATA/Shane_Kast_blue/600_4310_d55/b18.fits.gz\n",
      "\u001b[1;31m[WARNING] ::\u001b[0m BINNING keyword not in header. Setting to None\n",
      "\u001b[1;32m[INFO]    ::\u001b[0m Successfully loaded headers for file:\n",
      "             /Users/westfall/Work/packages/PYPIT-development-suite/RAW_DATA/Shane_Kast_blue/600_4310_d55/b18.fits.gz\n",
      "\u001b[1;31m[WARNING] ::\u001b[0m UTC is not listed as a header keyword in file:\n",
      "             /Users/westfall/Work/packages/PYPIT-development-suite/RAW_DATA/Shane_Kast_blue/600_4310_d55/b19.fits.gz\n",
      "\u001b[1;31m[WARNING] ::\u001b[0m BINNING keyword not in header. Setting to None\n",
      "\u001b[1;32m[INFO]    ::\u001b[0m Successfully loaded headers for file:\n",
      "             /Users/westfall/Work/packages/PYPIT-development-suite/RAW_DATA/Shane_Kast_blue/600_4310_d55/b19.fits.gz\n",
      "\u001b[1;31m[WARNING] ::\u001b[0m UTC is not listed as a header keyword in file:\n",
      "             /Users/westfall/Work/packages/PYPIT-development-suite/RAW_DATA/Shane_Kast_blue/600_4310_d55/b2.fits.gz\n",
      "\u001b[1;31m[WARNING] ::\u001b[0m BINNING keyword not in header. Setting to None\n",
      "\u001b[1;32m[INFO]    ::\u001b[0m Successfully loaded headers for file:\n",
      "             /Users/westfall/Work/packages/PYPIT-development-suite/RAW_DATA/Shane_Kast_blue/600_4310_d55/b2.fits.gz\n",
      "\u001b[1;31m[WARNING] ::\u001b[0m UTC is not listed as a header keyword in file:\n",
      "             /Users/westfall/Work/packages/PYPIT-development-suite/RAW_DATA/Shane_Kast_blue/600_4310_d55/b20.fits.gz\n",
      "\u001b[1;31m[WARNING] ::\u001b[0m BINNING keyword not in header. Setting to None\n",
      "\u001b[1;32m[INFO]    ::\u001b[0m Successfully loaded headers for file:\n",
      "             /Users/westfall/Work/packages/PYPIT-development-suite/RAW_DATA/Shane_Kast_blue/600_4310_d55/b20.fits.gz\n",
      "\u001b[1;31m[WARNING] ::\u001b[0m UTC is not listed as a header keyword in file:\n",
      "             /Users/westfall/Work/packages/PYPIT-development-suite/RAW_DATA/Shane_Kast_blue/600_4310_d55/b21.fits.gz\n",
      "\u001b[1;31m[WARNING] ::\u001b[0m BINNING keyword not in header. Setting to None\n",
      "\u001b[1;32m[INFO]    ::\u001b[0m Successfully loaded headers for file:\n",
      "             /Users/westfall/Work/packages/PYPIT-development-suite/RAW_DATA/Shane_Kast_blue/600_4310_d55/b21.fits.gz\n",
      "\u001b[1;31m[WARNING] ::\u001b[0m UTC is not listed as a header keyword in file:\n",
      "             /Users/westfall/Work/packages/PYPIT-development-suite/RAW_DATA/Shane_Kast_blue/600_4310_d55/b22.fits.gz\n",
      "\u001b[1;31m[WARNING] ::\u001b[0m BINNING keyword not in header. Setting to None\n",
      "\u001b[1;32m[INFO]    ::\u001b[0m Successfully loaded headers for file:\n",
      "             /Users/westfall/Work/packages/PYPIT-development-suite/RAW_DATA/Shane_Kast_blue/600_4310_d55/b22.fits.gz\n",
      "\u001b[1;31m[WARNING] ::\u001b[0m UTC is not listed as a header keyword in file:\n",
      "             /Users/westfall/Work/packages/PYPIT-development-suite/RAW_DATA/Shane_Kast_blue/600_4310_d55/b23.fits.gz\n",
      "\u001b[1;31m[WARNING] ::\u001b[0m BINNING keyword not in header. Setting to None\n",
      "\u001b[1;32m[INFO]    ::\u001b[0m Successfully loaded headers for file:\n",
      "             /Users/westfall/Work/packages/PYPIT-development-suite/RAW_DATA/Shane_Kast_blue/600_4310_d55/b23.fits.gz\n",
      "\u001b[1;31m[WARNING] ::\u001b[0m UTC is not listed as a header keyword in file:\n",
      "             /Users/westfall/Work/packages/PYPIT-development-suite/RAW_DATA/Shane_Kast_blue/600_4310_d55/b24.fits.gz\n",
      "\u001b[1;31m[WARNING] ::\u001b[0m BINNING keyword not in header. Setting to None\n",
      "\u001b[1;32m[INFO]    ::\u001b[0m Successfully loaded headers for file:\n",
      "             /Users/westfall/Work/packages/PYPIT-development-suite/RAW_DATA/Shane_Kast_blue/600_4310_d55/b24.fits.gz\n",
      "\u001b[1;31m[WARNING] ::\u001b[0m UTC is not listed as a header keyword in file:\n",
      "             /Users/westfall/Work/packages/PYPIT-development-suite/RAW_DATA/Shane_Kast_blue/600_4310_d55/b27.fits.gz\n",
      "\u001b[1;31m[WARNING] ::\u001b[0m BINNING keyword not in header. Setting to None\n",
      "\u001b[1;32m[INFO]    ::\u001b[0m Successfully loaded headers for file:\n",
      "             /Users/westfall/Work/packages/PYPIT-development-suite/RAW_DATA/Shane_Kast_blue/600_4310_d55/b27.fits.gz\n",
      "\u001b[1;31m[WARNING] ::\u001b[0m UTC is not listed as a header keyword in file:\n",
      "             /Users/westfall/Work/packages/PYPIT-development-suite/RAW_DATA/Shane_Kast_blue/600_4310_d55/b28.fits.gz\n",
      "\u001b[1;31m[WARNING] ::\u001b[0m BINNING keyword not in header. Setting to None\n",
      "\u001b[1;32m[INFO]    ::\u001b[0m Successfully loaded headers for file:\n",
      "             /Users/westfall/Work/packages/PYPIT-development-suite/RAW_DATA/Shane_Kast_blue/600_4310_d55/b28.fits.gz\n",
      "\u001b[1;31m[WARNING] ::\u001b[0m UTC is not listed as a header keyword in file:\n",
      "             /Users/westfall/Work/packages/PYPIT-development-suite/RAW_DATA/Shane_Kast_blue/600_4310_d55/b29.fits.gz\n",
      "\u001b[1;31m[WARNING] ::\u001b[0m BINNING keyword not in header. Setting to None\n",
      "\u001b[1;32m[INFO]    ::\u001b[0m Successfully loaded headers for file:\n",
      "             /Users/westfall/Work/packages/PYPIT-development-suite/RAW_DATA/Shane_Kast_blue/600_4310_d55/b29.fits.gz\n",
      "\u001b[1;31m[WARNING] ::\u001b[0m UTC is not listed as a header keyword in file:\n",
      "             /Users/westfall/Work/packages/PYPIT-development-suite/RAW_DATA/Shane_Kast_blue/600_4310_d55/b3.fits.gz\n",
      "\u001b[1;31m[WARNING] ::\u001b[0m BINNING keyword not in header. Setting to None\n",
      "\u001b[1;32m[INFO]    ::\u001b[0m Successfully loaded headers for file:\n",
      "             /Users/westfall/Work/packages/PYPIT-development-suite/RAW_DATA/Shane_Kast_blue/600_4310_d55/b3.fits.gz\n",
      "\u001b[1;31m[WARNING] ::\u001b[0m UTC is not listed as a header keyword in file:\n",
      "             /Users/westfall/Work/packages/PYPIT-development-suite/RAW_DATA/Shane_Kast_blue/600_4310_d55/b4.fits.gz\n",
      "\u001b[1;31m[WARNING] ::\u001b[0m BINNING keyword not in header. Setting to None\n",
      "\u001b[1;32m[INFO]    ::\u001b[0m Successfully loaded headers for file:\n",
      "             /Users/westfall/Work/packages/PYPIT-development-suite/RAW_DATA/Shane_Kast_blue/600_4310_d55/b4.fits.gz\n",
      "\u001b[1;31m[WARNING] ::\u001b[0m UTC is not listed as a header keyword in file:\n",
      "             /Users/westfall/Work/packages/PYPIT-development-suite/RAW_DATA/Shane_Kast_blue/600_4310_d55/b5.fits.gz\n",
      "\u001b[1;31m[WARNING] ::\u001b[0m BINNING keyword not in header. Setting to None\n",
      "\u001b[1;32m[INFO]    ::\u001b[0m Successfully loaded headers for file:\n",
      "             /Users/westfall/Work/packages/PYPIT-development-suite/RAW_DATA/Shane_Kast_blue/600_4310_d55/b5.fits.gz\n",
      "\u001b[1;31m[WARNING] ::\u001b[0m UTC is not listed as a header keyword in file:\n",
      "             /Users/westfall/Work/packages/PYPIT-development-suite/RAW_DATA/Shane_Kast_blue/600_4310_d55/b6.fits.gz\n",
      "\u001b[1;31m[WARNING] ::\u001b[0m BINNING keyword not in header. Setting to None\n",
      "\u001b[1;32m[INFO]    ::\u001b[0m Successfully loaded headers for file:\n",
      "             /Users/westfall/Work/packages/PYPIT-development-suite/RAW_DATA/Shane_Kast_blue/600_4310_d55/b6.fits.gz\n",
      "\u001b[1;31m[WARNING] ::\u001b[0m UTC is not listed as a header keyword in file:\n",
      "             /Users/westfall/Work/packages/PYPIT-development-suite/RAW_DATA/Shane_Kast_blue/600_4310_d55/b7.fits.gz\n"
     ]
    },
    {
     "name": "stderr",
     "output_type": "stream",
     "text": [
      "\u001b[1;31m[WARNING] ::\u001b[0m BINNING keyword not in header. Setting to None\n",
      "\u001b[1;32m[INFO]    ::\u001b[0m Successfully loaded headers for file:\n",
      "             /Users/westfall/Work/packages/PYPIT-development-suite/RAW_DATA/Shane_Kast_blue/600_4310_d55/b7.fits.gz\n",
      "\u001b[1;31m[WARNING] ::\u001b[0m UTC is not listed as a header keyword in file:\n",
      "             /Users/westfall/Work/packages/PYPIT-development-suite/RAW_DATA/Shane_Kast_blue/600_4310_d55/b8.fits.gz\n",
      "\u001b[1;31m[WARNING] ::\u001b[0m BINNING keyword not in header. Setting to None\n",
      "\u001b[1;32m[INFO]    ::\u001b[0m Successfully loaded headers for file:\n",
      "             /Users/westfall/Work/packages/PYPIT-development-suite/RAW_DATA/Shane_Kast_blue/600_4310_d55/b8.fits.gz\n",
      "\u001b[1;31m[WARNING] ::\u001b[0m UTC is not listed as a header keyword in file:\n",
      "             /Users/westfall/Work/packages/PYPIT-development-suite/RAW_DATA/Shane_Kast_blue/600_4310_d55/b9.fits.gz\n",
      "\u001b[1;31m[WARNING] ::\u001b[0m BINNING keyword not in header. Setting to None\n",
      "\u001b[1;32m[INFO]    ::\u001b[0m Successfully loaded headers for file:\n",
      "             /Users/westfall/Work/packages/PYPIT-development-suite/RAW_DATA/Shane_Kast_blue/600_4310_d55/b9.fits.gz\n",
      "\u001b[1;32m[INFO]    ::\u001b[0m Checking spectrograph settings for required header information\n",
      "\u001b[1;32m[INFO]    ::\u001b[0m Headers loaded for 27 files successfully\n",
      "\u001b[1;32m[INFO]    ::\u001b[0m Typing files\n",
      "\u001b[1;32m[INFO]    ::\u001b[0m Typing completed!\n",
      "\u001b[1;32m[INFO]    ::\u001b[0m Adding file type information to the fitstbl\n",
      "\u001b[1;32m[INFO]    ::\u001b[0m Matching calibrations to Science frames\n",
      "\u001b[1;32m[INFO]    ::\u001b[0m =================================================\n",
      "\u001b[1;32m[INFO]    ::\u001b[0m Matching calibrations to J1217p3905: b27.fits.gz\n",
      "\u001b[1;32m[INFO]    ::\u001b[0m   Found 1 arc frame for J1217p3905 (1 required)\n",
      "\u001b[1;32m[INFO]    ::\u001b[0m   Found 10 bias frame for J1217p3905 (5 required)\n",
      "\u001b[1;32m[INFO]    ::\u001b[0m   Dark frames not required.  Not matching..\n",
      "\u001b[1;32m[INFO]    ::\u001b[0m    No pinhole frames are required.  Not matching..\n",
      "\u001b[1;32m[INFO]    ::\u001b[0m   Found 12 pixelflat frame for J1217p3905 (5 required)\n",
      "\u001b[1;32m[INFO]    ::\u001b[0m   Found 1 standard frame for J1217p3905 (1 required)\n",
      "\u001b[1;32m[INFO]    ::\u001b[0m   Found 12 trace frame for J1217p3905 (5 required)\n",
      "\u001b[1;32m[INFO]    ::\u001b[0m =================================================\n",
      "\u001b[1;32m[INFO]    ::\u001b[0m Matching calibrations to J1217p3905: b28.fits.gz\n",
      "\u001b[1;32m[INFO]    ::\u001b[0m   Found 1 arc frame for J1217p3905 (1 required)\n",
      "\u001b[1;32m[INFO]    ::\u001b[0m   Found 10 bias frame for J1217p3905 (5 required)\n",
      "\u001b[1;32m[INFO]    ::\u001b[0m   Dark frames not required.  Not matching..\n",
      "\u001b[1;32m[INFO]    ::\u001b[0m    No pinhole frames are required.  Not matching..\n",
      "\u001b[1;32m[INFO]    ::\u001b[0m   Found 12 pixelflat frame for J1217p3905 (5 required)\n",
      "\u001b[1;32m[INFO]    ::\u001b[0m   Found 1 standard frame for J1217p3905 (1 required)\n",
      "\u001b[1;32m[INFO]    ::\u001b[0m   Found 12 trace frame for J1217p3905 (5 required)\n",
      "\u001b[1;32m[INFO]    ::\u001b[0m =================================================\n",
      "\u001b[1;32m[INFO]    ::\u001b[0m Matching calibrations to J1217p3905: b29.fits.gz\n",
      "\u001b[1;32m[INFO]    ::\u001b[0m   Found 1 arc frame for J1217p3905 (1 required)\n",
      "\u001b[1;32m[INFO]    ::\u001b[0m   Found 10 bias frame for J1217p3905 (5 required)\n",
      "\u001b[1;32m[INFO]    ::\u001b[0m   Dark frames not required.  Not matching..\n",
      "\u001b[1;32m[INFO]    ::\u001b[0m    No pinhole frames are required.  Not matching..\n",
      "\u001b[1;32m[INFO]    ::\u001b[0m   Found 12 pixelflat frame for J1217p3905 (5 required)\n",
      "\u001b[1;32m[INFO]    ::\u001b[0m   Found 1 standard frame for J1217p3905 (1 required)\n",
      "\u001b[1;32m[INFO]    ::\u001b[0m   Found 12 trace frame for J1217p3905 (5 required)\n",
      "\u001b[1;32m[INFO]    ::\u001b[0m Science frames successfully matched to calibration frames\n",
      "\u001b[1;32m[INFO]    ::\u001b[0m Inspect the .calib file: tmp.calib\n",
      "\u001b[1;32m[INFO]    ::\u001b[0m *********************************************************\n",
      "\u001b[1;32m[INFO]    ::\u001b[0m Calibration check complete and successful!\n",
      "\u001b[1;32m[INFO]    ::\u001b[0m Set 'run calcheck False' to continue with data reduction\n",
      "\u001b[1;32m[INFO]    ::\u001b[0m *********************************************************\n"
     ]
    },
    {
     "data": {
      "text/plain": [
       "(None, None, None, None)"
      ]
     },
     "execution_count": 17,
     "metadata": {},
     "output_type": "execute_result"
    }
   ],
   "source": [
    "setupc = pypitsetup.PypitSetup(kast_blue_files, spectrograph_name='shane_kast_blue')\n",
    "setupc.run(calibration_check=True)"
   ]
  },
  {
   "cell_type": "markdown",
   "metadata": {},
   "source": [
    "### Now as setup"
   ]
  },
  {
   "cell_type": "code",
   "execution_count": 18,
   "metadata": {},
   "outputs": [
    {
     "name": "stderr",
     "output_type": "stream",
     "text": [
      "\u001b[1;31m[WARNING] ::\u001b[0m UTC is not listed as a header keyword in file:\n",
      "             /Users/westfall/Work/packages/PYPIT-development-suite/RAW_DATA/Shane_Kast_blue/600_4310_d55/b1.fits.gz\n",
      "\u001b[1;31m[WARNING] ::\u001b[0m BINNING keyword not in header. Setting to None\n",
      "\u001b[1;32m[INFO]    ::\u001b[0m Successfully loaded headers for file:\n",
      "             /Users/westfall/Work/packages/PYPIT-development-suite/RAW_DATA/Shane_Kast_blue/600_4310_d55/b1.fits.gz\n",
      "\u001b[1;31m[WARNING] ::\u001b[0m UTC is not listed as a header keyword in file:\n",
      "             /Users/westfall/Work/packages/PYPIT-development-suite/RAW_DATA/Shane_Kast_blue/600_4310_d55/b10.fits.gz\n",
      "\u001b[1;31m[WARNING] ::\u001b[0m BINNING keyword not in header. Setting to None\n",
      "\u001b[1;32m[INFO]    ::\u001b[0m Successfully loaded headers for file:\n",
      "             /Users/westfall/Work/packages/PYPIT-development-suite/RAW_DATA/Shane_Kast_blue/600_4310_d55/b10.fits.gz\n",
      "\u001b[1;31m[WARNING] ::\u001b[0m UTC is not listed as a header keyword in file:\n",
      "             /Users/westfall/Work/packages/PYPIT-development-suite/RAW_DATA/Shane_Kast_blue/600_4310_d55/b11.fits.gz\n",
      "\u001b[1;31m[WARNING] ::\u001b[0m BINNING keyword not in header. Setting to None\n",
      "\u001b[1;32m[INFO]    ::\u001b[0m Successfully loaded headers for file:\n",
      "             /Users/westfall/Work/packages/PYPIT-development-suite/RAW_DATA/Shane_Kast_blue/600_4310_d55/b11.fits.gz\n",
      "\u001b[1;31m[WARNING] ::\u001b[0m UTC is not listed as a header keyword in file:\n",
      "             /Users/westfall/Work/packages/PYPIT-development-suite/RAW_DATA/Shane_Kast_blue/600_4310_d55/b12.fits.gz\n",
      "\u001b[1;31m[WARNING] ::\u001b[0m BINNING keyword not in header. Setting to None\n",
      "\u001b[1;32m[INFO]    ::\u001b[0m Successfully loaded headers for file:\n",
      "             /Users/westfall/Work/packages/PYPIT-development-suite/RAW_DATA/Shane_Kast_blue/600_4310_d55/b12.fits.gz\n",
      "\u001b[1;31m[WARNING] ::\u001b[0m UTC is not listed as a header keyword in file:\n",
      "             /Users/westfall/Work/packages/PYPIT-development-suite/RAW_DATA/Shane_Kast_blue/600_4310_d55/b13.fits.gz\n",
      "\u001b[1;31m[WARNING] ::\u001b[0m BINNING keyword not in header. Setting to None\n",
      "\u001b[1;32m[INFO]    ::\u001b[0m Successfully loaded headers for file:\n",
      "             /Users/westfall/Work/packages/PYPIT-development-suite/RAW_DATA/Shane_Kast_blue/600_4310_d55/b13.fits.gz\n",
      "\u001b[1;31m[WARNING] ::\u001b[0m UTC is not listed as a header keyword in file:\n",
      "             /Users/westfall/Work/packages/PYPIT-development-suite/RAW_DATA/Shane_Kast_blue/600_4310_d55/b14.fits.gz\n",
      "\u001b[1;31m[WARNING] ::\u001b[0m BINNING keyword not in header. Setting to None\n",
      "\u001b[1;32m[INFO]    ::\u001b[0m Successfully loaded headers for file:\n",
      "             /Users/westfall/Work/packages/PYPIT-development-suite/RAW_DATA/Shane_Kast_blue/600_4310_d55/b14.fits.gz\n",
      "\u001b[1;31m[WARNING] ::\u001b[0m UTC is not listed as a header keyword in file:\n",
      "             /Users/westfall/Work/packages/PYPIT-development-suite/RAW_DATA/Shane_Kast_blue/600_4310_d55/b15.fits.gz\n",
      "\u001b[1;31m[WARNING] ::\u001b[0m BINNING keyword not in header. Setting to None\n",
      "\u001b[1;32m[INFO]    ::\u001b[0m Successfully loaded headers for file:\n",
      "             /Users/westfall/Work/packages/PYPIT-development-suite/RAW_DATA/Shane_Kast_blue/600_4310_d55/b15.fits.gz\n",
      "\u001b[1;31m[WARNING] ::\u001b[0m UTC is not listed as a header keyword in file:\n",
      "             /Users/westfall/Work/packages/PYPIT-development-suite/RAW_DATA/Shane_Kast_blue/600_4310_d55/b16.fits.gz\n",
      "\u001b[1;31m[WARNING] ::\u001b[0m BINNING keyword not in header. Setting to None\n",
      "\u001b[1;32m[INFO]    ::\u001b[0m Successfully loaded headers for file:\n",
      "             /Users/westfall/Work/packages/PYPIT-development-suite/RAW_DATA/Shane_Kast_blue/600_4310_d55/b16.fits.gz\n",
      "\u001b[1;31m[WARNING] ::\u001b[0m UTC is not listed as a header keyword in file:\n",
      "             /Users/westfall/Work/packages/PYPIT-development-suite/RAW_DATA/Shane_Kast_blue/600_4310_d55/b17.fits.gz\n",
      "\u001b[1;31m[WARNING] ::\u001b[0m BINNING keyword not in header. Setting to None\n",
      "\u001b[1;32m[INFO]    ::\u001b[0m Successfully loaded headers for file:\n",
      "             /Users/westfall/Work/packages/PYPIT-development-suite/RAW_DATA/Shane_Kast_blue/600_4310_d55/b17.fits.gz\n",
      "\u001b[1;31m[WARNING] ::\u001b[0m UTC is not listed as a header keyword in file:\n",
      "             /Users/westfall/Work/packages/PYPIT-development-suite/RAW_DATA/Shane_Kast_blue/600_4310_d55/b18.fits.gz\n",
      "\u001b[1;31m[WARNING] ::\u001b[0m BINNING keyword not in header. Setting to None\n",
      "\u001b[1;32m[INFO]    ::\u001b[0m Successfully loaded headers for file:\n",
      "             /Users/westfall/Work/packages/PYPIT-development-suite/RAW_DATA/Shane_Kast_blue/600_4310_d55/b18.fits.gz\n",
      "\u001b[1;31m[WARNING] ::\u001b[0m UTC is not listed as a header keyword in file:\n",
      "             /Users/westfall/Work/packages/PYPIT-development-suite/RAW_DATA/Shane_Kast_blue/600_4310_d55/b19.fits.gz\n",
      "\u001b[1;31m[WARNING] ::\u001b[0m BINNING keyword not in header. Setting to None\n",
      "\u001b[1;32m[INFO]    ::\u001b[0m Successfully loaded headers for file:\n",
      "             /Users/westfall/Work/packages/PYPIT-development-suite/RAW_DATA/Shane_Kast_blue/600_4310_d55/b19.fits.gz\n",
      "\u001b[1;31m[WARNING] ::\u001b[0m UTC is not listed as a header keyword in file:\n",
      "             /Users/westfall/Work/packages/PYPIT-development-suite/RAW_DATA/Shane_Kast_blue/600_4310_d55/b2.fits.gz\n",
      "\u001b[1;31m[WARNING] ::\u001b[0m BINNING keyword not in header. Setting to None\n",
      "\u001b[1;32m[INFO]    ::\u001b[0m Successfully loaded headers for file:\n",
      "             /Users/westfall/Work/packages/PYPIT-development-suite/RAW_DATA/Shane_Kast_blue/600_4310_d55/b2.fits.gz\n",
      "\u001b[1;31m[WARNING] ::\u001b[0m UTC is not listed as a header keyword in file:\n",
      "             /Users/westfall/Work/packages/PYPIT-development-suite/RAW_DATA/Shane_Kast_blue/600_4310_d55/b20.fits.gz\n",
      "\u001b[1;31m[WARNING] ::\u001b[0m BINNING keyword not in header. Setting to None\n",
      "\u001b[1;32m[INFO]    ::\u001b[0m Successfully loaded headers for file:\n",
      "             /Users/westfall/Work/packages/PYPIT-development-suite/RAW_DATA/Shane_Kast_blue/600_4310_d55/b20.fits.gz\n",
      "\u001b[1;31m[WARNING] ::\u001b[0m UTC is not listed as a header keyword in file:\n",
      "             /Users/westfall/Work/packages/PYPIT-development-suite/RAW_DATA/Shane_Kast_blue/600_4310_d55/b21.fits.gz\n",
      "\u001b[1;31m[WARNING] ::\u001b[0m BINNING keyword not in header. Setting to None\n",
      "\u001b[1;32m[INFO]    ::\u001b[0m Successfully loaded headers for file:\n",
      "             /Users/westfall/Work/packages/PYPIT-development-suite/RAW_DATA/Shane_Kast_blue/600_4310_d55/b21.fits.gz\n",
      "\u001b[1;31m[WARNING] ::\u001b[0m UTC is not listed as a header keyword in file:\n",
      "             /Users/westfall/Work/packages/PYPIT-development-suite/RAW_DATA/Shane_Kast_blue/600_4310_d55/b22.fits.gz\n",
      "\u001b[1;31m[WARNING] ::\u001b[0m BINNING keyword not in header. Setting to None\n",
      "\u001b[1;32m[INFO]    ::\u001b[0m Successfully loaded headers for file:\n",
      "             /Users/westfall/Work/packages/PYPIT-development-suite/RAW_DATA/Shane_Kast_blue/600_4310_d55/b22.fits.gz\n",
      "\u001b[1;31m[WARNING] ::\u001b[0m UTC is not listed as a header keyword in file:\n",
      "             /Users/westfall/Work/packages/PYPIT-development-suite/RAW_DATA/Shane_Kast_blue/600_4310_d55/b23.fits.gz\n",
      "\u001b[1;31m[WARNING] ::\u001b[0m BINNING keyword not in header. Setting to None\n",
      "\u001b[1;32m[INFO]    ::\u001b[0m Successfully loaded headers for file:\n",
      "             /Users/westfall/Work/packages/PYPIT-development-suite/RAW_DATA/Shane_Kast_blue/600_4310_d55/b23.fits.gz\n",
      "\u001b[1;31m[WARNING] ::\u001b[0m UTC is not listed as a header keyword in file:\n",
      "             /Users/westfall/Work/packages/PYPIT-development-suite/RAW_DATA/Shane_Kast_blue/600_4310_d55/b24.fits.gz\n",
      "\u001b[1;31m[WARNING] ::\u001b[0m BINNING keyword not in header. Setting to None\n",
      "\u001b[1;32m[INFO]    ::\u001b[0m Successfully loaded headers for file:\n",
      "             /Users/westfall/Work/packages/PYPIT-development-suite/RAW_DATA/Shane_Kast_blue/600_4310_d55/b24.fits.gz\n",
      "\u001b[1;31m[WARNING] ::\u001b[0m UTC is not listed as a header keyword in file:\n",
      "             /Users/westfall/Work/packages/PYPIT-development-suite/RAW_DATA/Shane_Kast_blue/600_4310_d55/b27.fits.gz\n",
      "\u001b[1;31m[WARNING] ::\u001b[0m BINNING keyword not in header. Setting to None\n",
      "\u001b[1;32m[INFO]    ::\u001b[0m Successfully loaded headers for file:\n",
      "             /Users/westfall/Work/packages/PYPIT-development-suite/RAW_DATA/Shane_Kast_blue/600_4310_d55/b27.fits.gz\n",
      "\u001b[1;31m[WARNING] ::\u001b[0m UTC is not listed as a header keyword in file:\n",
      "             /Users/westfall/Work/packages/PYPIT-development-suite/RAW_DATA/Shane_Kast_blue/600_4310_d55/b28.fits.gz\n",
      "\u001b[1;31m[WARNING] ::\u001b[0m BINNING keyword not in header. Setting to None\n",
      "\u001b[1;32m[INFO]    ::\u001b[0m Successfully loaded headers for file:\n",
      "             /Users/westfall/Work/packages/PYPIT-development-suite/RAW_DATA/Shane_Kast_blue/600_4310_d55/b28.fits.gz\n",
      "\u001b[1;31m[WARNING] ::\u001b[0m UTC is not listed as a header keyword in file:\n",
      "             /Users/westfall/Work/packages/PYPIT-development-suite/RAW_DATA/Shane_Kast_blue/600_4310_d55/b29.fits.gz\n",
      "\u001b[1;31m[WARNING] ::\u001b[0m BINNING keyword not in header. Setting to None\n",
      "\u001b[1;32m[INFO]    ::\u001b[0m Successfully loaded headers for file:\n",
      "             /Users/westfall/Work/packages/PYPIT-development-suite/RAW_DATA/Shane_Kast_blue/600_4310_d55/b29.fits.gz\n",
      "\u001b[1;31m[WARNING] ::\u001b[0m UTC is not listed as a header keyword in file:\n",
      "             /Users/westfall/Work/packages/PYPIT-development-suite/RAW_DATA/Shane_Kast_blue/600_4310_d55/b3.fits.gz\n",
      "\u001b[1;31m[WARNING] ::\u001b[0m BINNING keyword not in header. Setting to None\n",
      "\u001b[1;32m[INFO]    ::\u001b[0m Successfully loaded headers for file:\n",
      "             /Users/westfall/Work/packages/PYPIT-development-suite/RAW_DATA/Shane_Kast_blue/600_4310_d55/b3.fits.gz\n",
      "\u001b[1;31m[WARNING] ::\u001b[0m UTC is not listed as a header keyword in file:\n",
      "             /Users/westfall/Work/packages/PYPIT-development-suite/RAW_DATA/Shane_Kast_blue/600_4310_d55/b4.fits.gz\n",
      "\u001b[1;31m[WARNING] ::\u001b[0m BINNING keyword not in header. Setting to None\n",
      "\u001b[1;32m[INFO]    ::\u001b[0m Successfully loaded headers for file:\n",
      "             /Users/westfall/Work/packages/PYPIT-development-suite/RAW_DATA/Shane_Kast_blue/600_4310_d55/b4.fits.gz\n",
      "\u001b[1;31m[WARNING] ::\u001b[0m UTC is not listed as a header keyword in file:\n",
      "             /Users/westfall/Work/packages/PYPIT-development-suite/RAW_DATA/Shane_Kast_blue/600_4310_d55/b5.fits.gz\n",
      "\u001b[1;31m[WARNING] ::\u001b[0m BINNING keyword not in header. Setting to None\n",
      "\u001b[1;32m[INFO]    ::\u001b[0m Successfully loaded headers for file:\n",
      "             /Users/westfall/Work/packages/PYPIT-development-suite/RAW_DATA/Shane_Kast_blue/600_4310_d55/b5.fits.gz\n"
     ]
    },
    {
     "name": "stderr",
     "output_type": "stream",
     "text": [
      "\u001b[1;31m[WARNING] ::\u001b[0m UTC is not listed as a header keyword in file:\n",
      "             /Users/westfall/Work/packages/PYPIT-development-suite/RAW_DATA/Shane_Kast_blue/600_4310_d55/b6.fits.gz\n",
      "\u001b[1;31m[WARNING] ::\u001b[0m BINNING keyword not in header. Setting to None\n",
      "\u001b[1;32m[INFO]    ::\u001b[0m Successfully loaded headers for file:\n",
      "             /Users/westfall/Work/packages/PYPIT-development-suite/RAW_DATA/Shane_Kast_blue/600_4310_d55/b6.fits.gz\n",
      "\u001b[1;31m[WARNING] ::\u001b[0m UTC is not listed as a header keyword in file:\n",
      "             /Users/westfall/Work/packages/PYPIT-development-suite/RAW_DATA/Shane_Kast_blue/600_4310_d55/b7.fits.gz\n",
      "\u001b[1;31m[WARNING] ::\u001b[0m BINNING keyword not in header. Setting to None\n",
      "\u001b[1;32m[INFO]    ::\u001b[0m Successfully loaded headers for file:\n",
      "             /Users/westfall/Work/packages/PYPIT-development-suite/RAW_DATA/Shane_Kast_blue/600_4310_d55/b7.fits.gz\n",
      "\u001b[1;31m[WARNING] ::\u001b[0m UTC is not listed as a header keyword in file:\n",
      "             /Users/westfall/Work/packages/PYPIT-development-suite/RAW_DATA/Shane_Kast_blue/600_4310_d55/b8.fits.gz\n",
      "\u001b[1;31m[WARNING] ::\u001b[0m BINNING keyword not in header. Setting to None\n",
      "\u001b[1;32m[INFO]    ::\u001b[0m Successfully loaded headers for file:\n",
      "             /Users/westfall/Work/packages/PYPIT-development-suite/RAW_DATA/Shane_Kast_blue/600_4310_d55/b8.fits.gz\n",
      "\u001b[1;31m[WARNING] ::\u001b[0m UTC is not listed as a header keyword in file:\n",
      "             /Users/westfall/Work/packages/PYPIT-development-suite/RAW_DATA/Shane_Kast_blue/600_4310_d55/b9.fits.gz\n",
      "\u001b[1;31m[WARNING] ::\u001b[0m BINNING keyword not in header. Setting to None\n",
      "\u001b[1;32m[INFO]    ::\u001b[0m Successfully loaded headers for file:\n",
      "             /Users/westfall/Work/packages/PYPIT-development-suite/RAW_DATA/Shane_Kast_blue/600_4310_d55/b9.fits.gz\n",
      "\u001b[1;32m[INFO]    ::\u001b[0m Checking spectrograph settings for required header information\n",
      "\u001b[1;32m[INFO]    ::\u001b[0m Headers loaded for 27 files successfully\n",
      "\u001b[1;32m[INFO]    ::\u001b[0m Typing files\n",
      "\u001b[1;32m[INFO]    ::\u001b[0m Typing completed!\n",
      "\u001b[1;32m[INFO]    ::\u001b[0m Adding file type information to the fitstbl\n",
      "\u001b[1;32m[INFO]    ::\u001b[0m Matching calibrations to Science frames\n",
      "\u001b[1;32m[INFO]    ::\u001b[0m =================================================\n",
      "\u001b[1;32m[INFO]    ::\u001b[0m Matching calibrations to J1217p3905: b27.fits.gz\n",
      "\u001b[1;32m[INFO]    ::\u001b[0m   Found 1 arc frame for J1217p3905 (1 required)\n",
      "\u001b[1;32m[INFO]    ::\u001b[0m   Found 10 bias frame for J1217p3905 (0 required)\n",
      "\u001b[1;32m[INFO]    ::\u001b[0m   Dark frames not required.  Not matching..\n",
      "\u001b[1;32m[INFO]    ::\u001b[0m No matching criteria for pinhole frames with this instrument\n",
      "\u001b[1;32m[INFO]    ::\u001b[0m   Found 0 pinhole frame for J1217p3905 (0 required)\n",
      "\u001b[1;32m[INFO]    ::\u001b[0m   Found 12 pixelflat frame for J1217p3905 (0 required)\n",
      "\u001b[1;32m[INFO]    ::\u001b[0m   Found 1 standard frame for J1217p3905 (0 required)\n",
      "\u001b[1;32m[INFO]    ::\u001b[0m   Found 12 trace frame for J1217p3905 (0 required)\n",
      "\u001b[1;32m[INFO]    ::\u001b[0m =================================================\n",
      "\u001b[1;32m[INFO]    ::\u001b[0m Matching calibrations to J1217p3905: b28.fits.gz\n",
      "\u001b[1;32m[INFO]    ::\u001b[0m   Found 1 arc frame for J1217p3905 (1 required)\n",
      "\u001b[1;32m[INFO]    ::\u001b[0m   Found 10 bias frame for J1217p3905 (0 required)\n",
      "\u001b[1;32m[INFO]    ::\u001b[0m   Dark frames not required.  Not matching..\n",
      "\u001b[1;32m[INFO]    ::\u001b[0m No matching criteria for pinhole frames with this instrument\n",
      "\u001b[1;32m[INFO]    ::\u001b[0m   Found 0 pinhole frame for J1217p3905 (0 required)\n",
      "\u001b[1;32m[INFO]    ::\u001b[0m   Found 12 pixelflat frame for J1217p3905 (0 required)\n",
      "\u001b[1;32m[INFO]    ::\u001b[0m   Found 1 standard frame for J1217p3905 (0 required)\n",
      "\u001b[1;32m[INFO]    ::\u001b[0m   Found 12 trace frame for J1217p3905 (0 required)\n",
      "\u001b[1;32m[INFO]    ::\u001b[0m =================================================\n",
      "\u001b[1;32m[INFO]    ::\u001b[0m Matching calibrations to J1217p3905: b29.fits.gz\n",
      "\u001b[1;32m[INFO]    ::\u001b[0m   Found 1 arc frame for J1217p3905 (1 required)\n",
      "\u001b[1;32m[INFO]    ::\u001b[0m   Found 10 bias frame for J1217p3905 (0 required)\n",
      "\u001b[1;32m[INFO]    ::\u001b[0m   Dark frames not required.  Not matching..\n",
      "\u001b[1;32m[INFO]    ::\u001b[0m No matching criteria for pinhole frames with this instrument\n",
      "\u001b[1;32m[INFO]    ::\u001b[0m   Found 0 pinhole frame for J1217p3905 (0 required)\n",
      "\u001b[1;32m[INFO]    ::\u001b[0m   Found 12 pixelflat frame for J1217p3905 (0 required)\n",
      "\u001b[1;32m[INFO]    ::\u001b[0m   Found 1 standard frame for J1217p3905 (0 required)\n",
      "\u001b[1;32m[INFO]    ::\u001b[0m   Found 12 trace frame for J1217p3905 (0 required)\n",
      "\u001b[1;32m[INFO]    ::\u001b[0m Science frames successfully matched to calibration frames\n",
      "\u001b[1;32m[INFO]    ::\u001b[0m Wrote group dict to tmp.sorted\n",
      "\u001b[1;32m[INFO]    ::\u001b[0m Setup is complete.\n",
      "\u001b[1;32m[INFO]    ::\u001b[0m Inspect the .setups file\n"
     ]
    },
    {
     "data": {
      "text/plain": [
       "(None, None, None, None)"
      ]
     },
     "execution_count": 18,
     "metadata": {},
     "output_type": "execute_result"
    }
   ],
   "source": [
    "setupc = pypitsetup.PypitSetup(kast_blue_files, spectrograph_name='shane_kast_blue')\n",
    "setupc.run(setup_only=True)"
   ]
  },
  {
   "cell_type": "markdown",
   "metadata": {},
   "source": [
    "----"
   ]
  }
 ],
 "metadata": {
  "kernelspec": {
   "display_name": "Python 3",
   "language": "python",
   "name": "python3"
  },
  "language_info": {
   "codemirror_mode": {
    "name": "ipython",
    "version": 3
   },
   "file_extension": ".py",
   "mimetype": "text/x-python",
   "name": "python",
   "nbconvert_exporter": "python",
   "pygments_lexer": "ipython3",
   "version": "3.6.2"
  }
 },
 "nbformat": 4,
 "nbformat_minor": 2
}
