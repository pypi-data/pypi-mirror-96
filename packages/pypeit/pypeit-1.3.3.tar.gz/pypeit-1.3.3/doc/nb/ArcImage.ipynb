{
 "cells": [
  {
   "cell_type": "markdown",
   "metadata": {},
   "source": [
    "# Arc Image\n",
    "    v1 -- DataContainer\n",
    "    v1.1 -- With Detector"
   ]
  },
  {
   "cell_type": "code",
   "execution_count": 1,
   "metadata": {},
   "outputs": [],
   "source": [
    "# imports\n",
    "import numpy as np\n",
    "\n",
    "from astropy.io import fits\n",
    "\n",
    "from pypeit.images import pypeitimage\n",
    "from pypeit import arcimage\n",
    "from pypeit import masterframe\n",
    "from pypeit.images import detector_container"
   ]
  },
  {
   "cell_type": "markdown",
   "metadata": {},
   "source": [
    "# Dummy Detector"
   ]
  },
  {
   "cell_type": "code",
   "execution_count": 2,
   "metadata": {},
   "outputs": [],
   "source": [
    "def_det = dict(\n",
    "    dataext=0,\n",
    "    specaxis=1,\n",
    "    specflip=False,\n",
    "    spatflip=False,\n",
    "    platescale=0.43,\n",
    "    saturation=65535.,\n",
    "    mincounts=-1e10,\n",
    "    nonlinear=0.76,\n",
    "    numamplifiers=2,\n",
    "    gain=np.asarray([1.2, 1.2]),\n",
    "    ronoise=np.asarray([3.7, 3.7]),\n",
    "    det=1,\n",
    "    xgap=0.,\n",
    "    ygap=0.,\n",
    "    ysize=1.,\n",
    "    darkcurr=0.0,\n",
    "    datasec=np.asarray(['[:, 1:1024]', '[:, 1025:2048]']),  # These are rows, columns on the raw frame, 1-indexed\n",
    "    oscansec=np.asarray(['[:, 2050:2080]', '[:, 2081:2111]']))\n",
    "detector = detector_container.Detector(**def_det)"
   ]
  },
  {
   "cell_type": "markdown",
   "metadata": {},
   "source": [
    "# Instantiate"
   ]
  },
  {
   "cell_type": "markdown",
   "metadata": {},
   "source": [
    "## PypeItImage"
   ]
  },
  {
   "cell_type": "code",
   "execution_count": 3,
   "metadata": {},
   "outputs": [],
   "source": [
    "pypeitImage = pypeitimage.PypeItImage(np.ones((1000, 1000)))\n",
    "pypeitImage.mask.fullmask = np.zeros((1000, 1000), dtype=np.int64)\n",
    "pypeitImage.ivar = np.zeros_like(pypeitImage.image)\n",
    "pypeitImage.detector = detector"
   ]
  },
  {
   "cell_type": "markdown",
   "metadata": {},
   "source": [
    "## Do it"
   ]
  },
  {
   "cell_type": "code",
   "execution_count": 4,
   "metadata": {},
   "outputs": [
    {
     "data": {
      "text/plain": [
       "<ArcImage:  images={'image': True, 'ivar': True, 'rn2img': False}>"
      ]
     },
     "execution_count": 4,
     "metadata": {},
     "output_type": "execute_result"
    }
   ],
   "source": [
    "arcImage = arcimage.ArcImage.from_pypeitimage(pypeitImage)\n",
    "arcImage"
   ]
  },
  {
   "cell_type": "code",
   "execution_count": 5,
   "metadata": {},
   "outputs": [
    {
     "data": {
      "text/plain": [
       "('ARC_IMAGE', 'ARC_FULLMASK', 'ARC_DETECTOR')"
      ]
     },
     "execution_count": 5,
     "metadata": {},
     "output_type": "execute_result"
    }
   ],
   "source": [
    "arcImage.output_to_disk"
   ]
  },
  {
   "cell_type": "markdown",
   "metadata": {},
   "source": [
    "# Save"
   ]
  },
  {
   "cell_type": "markdown",
   "metadata": {},
   "source": [
    "## Simple"
   ]
  },
  {
   "cell_type": "code",
   "execution_count": 6,
   "metadata": {},
   "outputs": [
    {
     "name": "stderr",
     "output_type": "stream",
     "text": [
      "WARNING: VerifyWarning: Keyword name 'PLATESCALE' is greater than 8 characters or contains characters not allowed by the FITS standard; a HIERARCH card will be created. [astropy.io.fits.card]\n",
      "WARNING: VerifyWarning: Keyword name 'SATURATION' is greater than 8 characters or contains characters not allowed by the FITS standard; a HIERARCH card will be created. [astropy.io.fits.card]\n",
      "WARNING: VerifyWarning: Keyword name 'MINCOUNTS' is greater than 8 characters or contains characters not allowed by the FITS standard; a HIERARCH card will be created. [astropy.io.fits.card]\n",
      "WARNING: VerifyWarning: Keyword name 'NONLINEAR' is greater than 8 characters or contains characters not allowed by the FITS standard; a HIERARCH card will be created. [astropy.io.fits.card]\n",
      "WARNING: VerifyWarning: Keyword name 'NUMAMPLIFIERS' is greater than 8 characters or contains characters not allowed by the FITS standard; a HIERARCH card will be created. [astropy.io.fits.card]\n"
     ]
    },
    {
     "name": "stdout",
     "output_type": "stream",
     "text": [
      "File written to: tmp.fits\n"
     ]
    }
   ],
   "source": [
    "arcImage.to_file('tmp.fits', hdu_prefix=arcImage.hdu_prefix, overwrite=True)"
   ]
  },
  {
   "cell_type": "markdown",
   "metadata": {},
   "source": [
    "## Check"
   ]
  },
  {
   "cell_type": "code",
   "execution_count": 7,
   "metadata": {},
   "outputs": [
    {
     "name": "stdout",
     "output_type": "stream",
     "text": [
      "Filename: tmp.fits\n",
      "No.    Name      Ver    Type      Cards   Dimensions   Format\n",
      "  0  PRIMARY       1 PrimaryHDU      13   ()      \n",
      "  1  ARC_IMAGE     1 ImageHDU        19   (1000, 1000)   float64   \n",
      "  2  ARC_IVAR      1 ImageHDU        19   (1000, 1000)   float64   \n",
      "  3  ARC_FULLMASK    1 ImageHDU        19   (1000, 1000)   int64   \n",
      "  4  ARC_DETECTOR    1 BinTableHDU     42   2R x 4C   [1D, 1D, 14A, 14A]   \n"
     ]
    }
   ],
   "source": [
    "hdul = fits.open('tmp.fits')\n",
    "hdul.info()"
   ]
  },
  {
   "cell_type": "markdown",
   "metadata": {},
   "source": [
    "## As MasterFrame"
   ]
  },
  {
   "cell_type": "markdown",
   "metadata": {},
   "source": [
    "## To"
   ]
  },
  {
   "cell_type": "code",
   "execution_count": 8,
   "metadata": {},
   "outputs": [
    {
     "name": "stdout",
     "output_type": "stream",
     "text": [
      "File written to: ./MasterArc_A_01_22.fits\n"
     ]
    }
   ],
   "source": [
    "arcImage.to_master_file('./', 'A_01_22', 'shane_kast_blue')"
   ]
  },
  {
   "cell_type": "code",
   "execution_count": 9,
   "metadata": {},
   "outputs": [
    {
     "name": "stdout",
     "output_type": "stream",
     "text": [
      "Filename: ./MasterArc_A_01_22.fits\n",
      "No.    Name      Ver    Type      Cards   Dimensions   Format\n",
      "  0  PRIMARY       1 PrimaryHDU      18   ()      \n",
      "  1  ARC_IMAGE     1 ImageHDU        19   (1000, 1000)   float64   \n",
      "  2  ARC_FULLMASK    1 ImageHDU        19   (1000, 1000)   int64   \n",
      "  3  ARC_DETECTOR    1 BinTableHDU     42   2R x 4C   [1D, 1D, 14A, 14A]   \n"
     ]
    }
   ],
   "source": [
    "hdul2 = fits.open('./MasterArc_A_01_22.fits')\n",
    "hdul2.info()"
   ]
  },
  {
   "cell_type": "code",
   "execution_count": 10,
   "metadata": {},
   "outputs": [
    {
     "data": {
      "text/plain": [
       "SIMPLE  =                    T / conforms to FITS standard                      \n",
       "BITPIX  =                    8 / array data type                                \n",
       "NAXIS   =                    0 / number of array dimensions                     \n",
       "EXTEND  =                    T                                                  \n",
       "VERSPYT = '3.7.3   '           / Python version                                 \n",
       "VERSNPY = '1.18.1  '           / Numpy version                                  \n",
       "VERSSCI = '1.4.1   '           / Scipy version                                  \n",
       "VERSAST = '4.0     '           / Astropy version                                \n",
       "VERSSKL = '0.22.1  '           / Scikit-learn version                           \n",
       "VERSPYP = '0.13.2dev'          / PypeIt version                                 \n",
       "DATE    = '2020-03-13'         / UTC date created                               \n",
       "MSTRTYP = 'Arc     '           / PypeIt: Master frame type                      \n",
       "MSTRDIR = './      '           / PypeIt: Master directory                       \n",
       "MSTRKEY = 'A_01_22 '           / PypeIt: Calibration key                        \n",
       "MSTRVER = '1.0.0   '           / PypeIt: Master datamodel version               \n",
       "PYP_SPEC= 'shane_kast_blue'    / PypeIt: Spectrograph name                      \n",
       "CHECKSUM= '5edHAcd97cdEAcd9'   / HDU checksum updated 2020-03-13T15:49:24       \n",
       "DATASUM = '0       '           / data unit checksum updated 2020-03-13T15:49:24 "
      ]
     },
     "execution_count": 10,
     "metadata": {},
     "output_type": "execute_result"
    }
   ],
   "source": [
    "hdul2[0].header"
   ]
  },
  {
   "cell_type": "code",
   "execution_count": 12,
   "metadata": {},
   "outputs": [
    {
     "data": {
      "text/plain": [
       "XTENSION= 'BINTABLE'           / binary table extension                         \n",
       "BITPIX  =                    8 / array data type                                \n",
       "NAXIS   =                    2 / number of array dimensions                     \n",
       "NAXIS1  =                   44 / length of dimension 1                          \n",
       "NAXIS2  =                    2 / length of dimension 2                          \n",
       "PCOUNT  =                    0 / number of group parameters                     \n",
       "GCOUNT  =                    1 / number of groups                               \n",
       "TFIELDS =                    4 / number of table fields                         \n",
       "VERSPYT = '3.7.3   '           / Python version                                 \n",
       "VERSNPY = '1.18.1  '           / Numpy version                                  \n",
       "VERSSCI = '1.4.1   '           / Scipy version                                  \n",
       "VERSAST = '4.0     '           / Astropy version                                \n",
       "VERSSKL = '0.22.1  '           / Scikit-learn version                           \n",
       "VERSPYP = '0.13.2dev'          / PypeIt version                                 \n",
       "DATE    = '2020-03-13'         / UTC date created                               \n",
       "DMODCLS = 'Detector'           / Datamodel class                                \n",
       "DMODVER = '1.0.0   '           / Datamodel version                              \n",
       "DATAEXT =                    0                                                  \n",
       "SPECAXIS=                    1                                                  \n",
       "SPECFLIP=                    F                                                  \n",
       "SPATFLIP=                    F                                                  \n",
       "XGAP    =                  0.0                                                  \n",
       "YGAP    =                  0.0                                                  \n",
       "YSIZE   =                  1.0                                                  \n",
       "HIERARCH PLATESCALE = 0.43                                                      \n",
       "DARKCURR=                  0.0                                                  \n",
       "HIERARCH SATURATION = 65535.0                                                   \n",
       "HIERARCH MINCOUNTS = -10000000000.0                                             \n",
       "HIERARCH NONLINEAR = 0.76                                                       \n",
       "HIERARCH NUMAMPLIFIERS = 2                                                      \n",
       "DET     =                    1                                                  \n",
       "EXTNAME = 'ARC_DETECTOR'       / extension name                                 \n",
       "TTYPE1  = 'gain    '                                                            \n",
       "TFORM1  = '1D      '                                                            \n",
       "TTYPE2  = 'ronoise '                                                            \n",
       "TFORM2  = '1D      '                                                            \n",
       "TTYPE3  = 'datasec '                                                            \n",
       "TFORM3  = '14A     '                                                            \n",
       "TTYPE4  = 'oscansec'                                                            \n",
       "TFORM4  = '14A     '                                                            \n",
       "CHECKSUM= 'iLd9lLZ8iLb8iLZ8'   / HDU checksum updated 2020-03-13T15:49:24       \n",
       "DATASUM = '2118741250'         / data unit checksum updated 2020-03-13T15:49:24 "
      ]
     },
     "execution_count": 12,
     "metadata": {},
     "output_type": "execute_result"
    }
   ],
   "source": [
    "hdul2[3].header"
   ]
  },
  {
   "cell_type": "markdown",
   "metadata": {},
   "source": [
    "## From"
   ]
  },
  {
   "cell_type": "code",
   "execution_count": 17,
   "metadata": {},
   "outputs": [
    {
     "ename": "OSError",
     "evalue": "Bad datamodel type in your hdu's",
     "output_type": "error",
     "traceback": [
      "\u001b[0;31m---------------------------------------------------------------------------\u001b[0m",
      "\u001b[0;31mOSError\u001b[0m                                   Traceback (most recent call last)",
      "\u001b[0;32m<ipython-input-17-cf58ceb1be68>\u001b[0m in \u001b[0;36m<module>\u001b[0;34m\u001b[0m\n\u001b[0;32m----> 1\u001b[0;31m \u001b[0marcimage3\u001b[0m \u001b[0;34m=\u001b[0m \u001b[0marcImage\u001b[0m\u001b[0;34m.\u001b[0m\u001b[0mfrom_file\u001b[0m\u001b[0;34m(\u001b[0m\u001b[0;34m'./MasterArc_A_01_22.fits'\u001b[0m\u001b[0;34m,\u001b[0m \u001b[0mhdu_prefix\u001b[0m\u001b[0;34m=\u001b[0m\u001b[0;34m'ARC_'\u001b[0m\u001b[0;34m)\u001b[0m\u001b[0;34m\u001b[0m\u001b[0;34m\u001b[0m\u001b[0m\n\u001b[0m",
      "\u001b[0;32m/data/Projects/Python/PypeIt/pypeit/images/pypeitimage.py\u001b[0m in \u001b[0;36mfrom_file\u001b[0;34m(cls, file, hdu_prefix)\u001b[0m\n\u001b[1;32m     86\u001b[0m         \u001b[0mhdul\u001b[0m \u001b[0;34m=\u001b[0m \u001b[0mfits\u001b[0m\u001b[0;34m.\u001b[0m\u001b[0mopen\u001b[0m\u001b[0;34m(\u001b[0m\u001b[0mfile\u001b[0m\u001b[0;34m)\u001b[0m\u001b[0;34m\u001b[0m\u001b[0;34m\u001b[0m\u001b[0m\n\u001b[1;32m     87\u001b[0m \u001b[0;34m\u001b[0m\u001b[0m\n\u001b[0;32m---> 88\u001b[0;31m         \u001b[0mslf\u001b[0m \u001b[0;34m=\u001b[0m \u001b[0msuper\u001b[0m\u001b[0;34m(\u001b[0m\u001b[0mPypeItImage\u001b[0m\u001b[0;34m,\u001b[0m \u001b[0mcls\u001b[0m\u001b[0;34m)\u001b[0m\u001b[0;34m.\u001b[0m\u001b[0mfrom_hdu\u001b[0m\u001b[0;34m(\u001b[0m\u001b[0mhdul\u001b[0m\u001b[0;34m,\u001b[0m \u001b[0mhdu_prefix\u001b[0m\u001b[0;34m=\u001b[0m\u001b[0mhdu_prefix\u001b[0m\u001b[0;34m)\u001b[0m\u001b[0;34m\u001b[0m\u001b[0;34m\u001b[0m\u001b[0m\n\u001b[0m\u001b[1;32m     89\u001b[0m \u001b[0;34m\u001b[0m\u001b[0m\n\u001b[1;32m     90\u001b[0m         \u001b[0;31m# Header\u001b[0m\u001b[0;34m\u001b[0m\u001b[0;34m\u001b[0m\u001b[0;34m\u001b[0m\u001b[0m\n",
      "\u001b[0;32m/data/Projects/Python/PypeIt/pypeit/datamodel.py\u001b[0m in \u001b[0;36mfrom_hdu\u001b[0;34m(cls, hdu, hdu_prefix, chk_version)\u001b[0m\n\u001b[1;32m   1107\u001b[0m                 \u001b[0;32mraise\u001b[0m \u001b[0mIOError\u001b[0m\u001b[0;34m(\u001b[0m\u001b[0;34m\"Bad datamodel version in your hdu's\"\u001b[0m\u001b[0;34m)\u001b[0m\u001b[0;34m\u001b[0m\u001b[0;34m\u001b[0m\u001b[0m\n\u001b[1;32m   1108\u001b[0m             \u001b[0;32mif\u001b[0m \u001b[0;32mnot\u001b[0m \u001b[0mdm_type_passed\u001b[0m\u001b[0;34m:\u001b[0m\u001b[0;34m\u001b[0m\u001b[0;34m\u001b[0m\u001b[0m\n\u001b[0;32m-> 1109\u001b[0;31m                 \u001b[0;32mraise\u001b[0m \u001b[0mIOError\u001b[0m\u001b[0;34m(\u001b[0m\u001b[0;34m\"Bad datamodel type in your hdu's\"\u001b[0m\u001b[0;34m)\u001b[0m\u001b[0;34m\u001b[0m\u001b[0;34m\u001b[0m\u001b[0m\n\u001b[0m\u001b[1;32m   1110\u001b[0m         \u001b[0mDataContainer\u001b[0m\u001b[0;34m.\u001b[0m\u001b[0m__init__\u001b[0m\u001b[0;34m(\u001b[0m\u001b[0mself\u001b[0m\u001b[0;34m,\u001b[0m \u001b[0md\u001b[0m\u001b[0;34m)\u001b[0m\u001b[0;34m\u001b[0m\u001b[0;34m\u001b[0m\u001b[0m\n\u001b[1;32m   1111\u001b[0m         \u001b[0;32mreturn\u001b[0m \u001b[0mself\u001b[0m\u001b[0;34m\u001b[0m\u001b[0;34m\u001b[0m\u001b[0m\n",
      "\u001b[0;31mOSError\u001b[0m: Bad datamodel type in your hdu's"
     ]
    }
   ],
   "source": [
    "arcimage3 = arcImage.from_file('./MasterArc_A_01_22.fits', hdu_prefix='ARC_')"
   ]
  },
  {
   "cell_type": "code",
   "execution_count": null,
   "metadata": {},
   "outputs": [],
   "source": [
    "arcimage3"
   ]
  },
  {
   "cell_type": "markdown",
   "metadata": {},
   "source": [
    "----"
   ]
  },
  {
   "cell_type": "code",
   "execution_count": null,
   "metadata": {},
   "outputs": [],
   "source": []
  }
 ],
 "metadata": {
  "kernelspec": {
   "display_name": "Python 3",
   "language": "python",
   "name": "python3"
  },
  "language_info": {
   "codemirror_mode": {
    "name": "ipython",
    "version": 3
   },
   "file_extension": ".py",
   "mimetype": "text/x-python",
   "name": "python",
   "nbconvert_exporter": "python",
   "pygments_lexer": "ipython3",
   "version": "3.7.3"
  }
 },
 "nbformat": 4,
 "nbformat_minor": 2
}
