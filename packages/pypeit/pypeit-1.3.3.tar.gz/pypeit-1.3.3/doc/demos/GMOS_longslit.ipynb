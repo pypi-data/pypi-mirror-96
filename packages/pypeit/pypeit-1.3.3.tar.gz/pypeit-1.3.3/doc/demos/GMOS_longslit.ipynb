{
 "cells": [
  {
   "cell_type": "markdown",
   "metadata": {},
   "source": [
    "# Demo of PYPIT on GMOS Longslit [v1.1]\n",
    "    v1.1 -- B600"
   ]
  },
  {
   "cell_type": "code",
   "execution_count": 1,
   "metadata": {
    "collapsed": true
   },
   "outputs": [],
   "source": [
    "# import\n",
    "from importlib import reload\n",
    "import os\n",
    "import glob\n",
    "import numpy as np\n",
    "\n",
    "from astropy.io import fits\n",
    "\n",
    "# A few core routines\n",
    "from pypit.core import arsetup\n",
    "from pypit.core import arsort\n",
    "from pypit import arpixels\n",
    "from pypit.core import arprocimg\n",
    "from pypit.core import arwave\n",
    "from pypit.core import arsave\n",
    "from pypit import arutils\n",
    "from pypit import arload\n",
    "\n",
    "# Classes\n",
    "from pypit import calibrations\n",
    "from pypit import fluxspec\n",
    "from pypit import pypitsetup\n",
    "from pypit import scienceimage\n",
    "\n",
    "# Spectrgraph and Settings\n",
    "from pypit.spectrographs.util import load_spectrograph\n",
    "from pypit.par import pypitpar"
   ]
  },
  {
   "cell_type": "markdown",
   "metadata": {},
   "source": [
    "## To play along, you need the Development suite and the $PYPIT_DEV environmental variable pointed at it"
   ]
  },
  {
   "cell_type": "code",
   "execution_count": 2,
   "metadata": {},
   "outputs": [
    {
     "data": {
      "text/plain": [
       "'/data/Projects/Python/PYPIT-development-suite/'"
      ]
     },
     "execution_count": 2,
     "metadata": {},
     "output_type": "execute_result"
    }
   ],
   "source": [
    "os.getenv('PYPIT_DEV')"
   ]
  },
  {
   "cell_type": "markdown",
   "metadata": {},
   "source": [
    "## Spectrograph + Settings"
   ]
  },
  {
   "cell_type": "code",
   "execution_count": 3,
   "metadata": {
    "collapsed": true
   },
   "outputs": [],
   "source": [
    "spectro_name='gemini_gmos_south'"
   ]
  },
  {
   "cell_type": "code",
   "execution_count": 4,
   "metadata": {},
   "outputs": [],
   "source": [
    "spectrograph = load_spectrograph(spectrograph=spectro_name)"
   ]
  },
  {
   "cell_type": "code",
   "execution_count": 5,
   "metadata": {},
   "outputs": [
    {
     "data": {
      "text/plain": [
       "<GeminiGMOSSSpectrograph:  spectrograph=gemini_gmos_south, camera=GMOS-S>"
      ]
     },
     "execution_count": 5,
     "metadata": {},
     "output_type": "execute_result"
    }
   ],
   "source": [
    "spectrograph"
   ]
  },
  {
   "cell_type": "markdown",
   "metadata": {},
   "source": [
    "### Settings"
   ]
  },
  {
   "cell_type": "code",
   "execution_count": 6,
   "metadata": {},
   "outputs": [
    {
     "data": {
      "text/plain": [
       "['rdx',\n",
       " 'calibrations',\n",
       " 'scienceframe',\n",
       " 'objects',\n",
       " 'extract',\n",
       " 'skysubtract',\n",
       " 'flexure',\n",
       " 'fluxcalib']"
      ]
     },
     "execution_count": 6,
     "metadata": {},
     "output_type": "execute_result"
    }
   ],
   "source": [
    "par = pypitpar.PypitPar()\n",
    "par.keys()"
   ]
  },
  {
   "cell_type": "code",
   "execution_count": 24,
   "metadata": {},
   "outputs": [],
   "source": [
    "par['calibrations']['biasframe']['useframe'] = 'overscan'\n",
    "par['calibrations']['biasframe']['number'] = 0\n",
    "par['calibrations']['pixelflatframe']['number'] = 1\n",
    "par['calibrations']['traceframe']['number'] = 1"
   ]
  },
  {
   "cell_type": "markdown",
   "metadata": {},
   "source": [
    "## Build the fitstbl"
   ]
  },
  {
   "cell_type": "markdown",
   "metadata": {},
   "source": [
    "### Files"
   ]
  },
  {
   "cell_type": "code",
   "execution_count": 25,
   "metadata": {},
   "outputs": [
    {
     "data": {
      "text/plain": [
       "19"
      ]
     },
     "execution_count": 25,
     "metadata": {},
     "output_type": "execute_result"
    }
   ],
   "source": [
    "gemini_gmos_files = glob.glob(os.getenv('PYPIT_DEV')+'RAW_DATA/Gemini_GMOS/B600/S2018*')\n",
    "gemini_gmos_files.sort()\n",
    "len(gemini_gmos_files)"
   ]
  },
  {
   "cell_type": "code",
   "execution_count": 26,
   "metadata": {},
   "outputs": [
    {
     "data": {
      "text/plain": [
       "['/data/Projects/Python/PYPIT-development-suite/RAW_DATA/Gemini_GMOS/B600/S20180711S0180.fits',\n",
       " '/data/Projects/Python/PYPIT-development-suite/RAW_DATA/Gemini_GMOS/B600/S20180711S0181.fits',\n",
       " '/data/Projects/Python/PYPIT-development-suite/RAW_DATA/Gemini_GMOS/B600/S20180711S0182.fits',\n",
       " '/data/Projects/Python/PYPIT-development-suite/RAW_DATA/Gemini_GMOS/B600/S20180711S0183.fits',\n",
       " '/data/Projects/Python/PYPIT-development-suite/RAW_DATA/Gemini_GMOS/B600/S20180711S0184.fits',\n",
       " '/data/Projects/Python/PYPIT-development-suite/RAW_DATA/Gemini_GMOS/B600/S20180711S0185.fits',\n",
       " '/data/Projects/Python/PYPIT-development-suite/RAW_DATA/Gemini_GMOS/B600/S20180711S0186.fits',\n",
       " '/data/Projects/Python/PYPIT-development-suite/RAW_DATA/Gemini_GMOS/B600/S20180711S0187.fits',\n",
       " '/data/Projects/Python/PYPIT-development-suite/RAW_DATA/Gemini_GMOS/B600/S20180711S0188.fits',\n",
       " '/data/Projects/Python/PYPIT-development-suite/RAW_DATA/Gemini_GMOS/B600/S20180711S0189.fits',\n",
       " '/data/Projects/Python/PYPIT-development-suite/RAW_DATA/Gemini_GMOS/B600/S20180711S0190.fits',\n",
       " '/data/Projects/Python/PYPIT-development-suite/RAW_DATA/Gemini_GMOS/B600/S20180711S0256.fits',\n",
       " '/data/Projects/Python/PYPIT-development-suite/RAW_DATA/Gemini_GMOS/B600/S20180711S0257.fits',\n",
       " '/data/Projects/Python/PYPIT-development-suite/RAW_DATA/Gemini_GMOS/B600/S20180711S0258.fits',\n",
       " '/data/Projects/Python/PYPIT-development-suite/RAW_DATA/Gemini_GMOS/B600/S20180711S0259.fits',\n",
       " '/data/Projects/Python/PYPIT-development-suite/RAW_DATA/Gemini_GMOS/B600/S20180711S0260.fits',\n",
       " '/data/Projects/Python/PYPIT-development-suite/RAW_DATA/Gemini_GMOS/B600/S20180711S0281.fits',\n",
       " '/data/Projects/Python/PYPIT-development-suite/RAW_DATA/Gemini_GMOS/B600/S20180711S0282.fits',\n",
       " '/data/Projects/Python/PYPIT-development-suite/RAW_DATA/Gemini_GMOS/B600/S20180711S0283.fits']"
      ]
     },
     "execution_count": 26,
     "metadata": {},
     "output_type": "execute_result"
    }
   ],
   "source": [
    "gemini_gmos_files"
   ]
  },
  {
   "cell_type": "code",
   "execution_count": 27,
   "metadata": {},
   "outputs": [
    {
     "data": {
      "text/plain": [
       "['/data/Projects/Python/PYPIT-development-suite/RAW_DATA/Gemini_GMOS/B600/S20180711S0183.fits',\n",
       " '/data/Projects/Python/PYPIT-development-suite/RAW_DATA/Gemini_GMOS/B600/S20180711S0184.fits',\n",
       " '/data/Projects/Python/PYPIT-development-suite/RAW_DATA/Gemini_GMOS/B600/S20180711S0185.fits',\n",
       " '/data/Projects/Python/PYPIT-development-suite/RAW_DATA/Gemini_GMOS/B600/S20180711S0186.fits',\n",
       " '/data/Projects/Python/PYPIT-development-suite/RAW_DATA/Gemini_GMOS/B600/S20180711S0259.fits']"
      ]
     },
     "execution_count": 27,
     "metadata": {},
     "output_type": "execute_result"
    }
   ],
   "source": [
    "# restricting to 530nm\n",
    "gemini_gmos_files_530 = gemini_gmos_files[3:7] + [gemini_gmos_files[-5]]\n",
    "gemini_gmos_files_530"
   ]
  },
  {
   "cell_type": "markdown",
   "metadata": {},
   "source": [
    "### Looking at the Headers"
   ]
  },
  {
   "cell_type": "code",
   "execution_count": 28,
   "metadata": {},
   "outputs": [
    {
     "data": {
      "text/plain": [
       "SIMPLE  =                    T / file does conform to FITS standard             \n",
       "BITPIX  =                   16 / number of bits per data pixel                  \n",
       "NAXIS   =                    0 / number of data axes                            \n",
       "EXTEND  =                    T / FITS dataset may contain extensions            \n",
       "COMMENT   FITS (Flexible Image Transport System) format is defined in 'Astronomy\n",
       "COMMENT   and Astrophysics', volume 376, page 359; bibcode: 2001A&A...376..359H \n",
       "INSTRUME= 'GMOS-S  '           / Instrument used to acquire data                \n",
       "OBJECT  = 'GCALflat'           / Object Name                                    \n",
       "OBSTYPE = 'FLAT    '           / Observation type                               \n",
       "OBSCLASS= 'partnerCal'         / Observe class                                  \n",
       "GEMPRGID= 'GS-2018A-Q-205'     / Gemini programme ID                            \n",
       "OBSID   = 'GS-2018A-Q-205-32'  / Observation ID / Data label                    \n",
       "DATALAB = 'GS-2018A-Q-205-32-003' / DHS data label                              \n",
       "OBSERVER= 'D. Sanmartim'       / Observer                                       \n",
       "OBSERVAT= 'Gemini-South'       / Name of telescope (Gemini-North|Gemini-South)  \n",
       "TELESCOP= 'Gemini-South'       / Gemini-North                                   \n",
       "PARALLAX=                   0. / Parallax of Target                             \n",
       "RADVEL  =                   0. / Heliocentric Radial Velocity                   \n",
       "EPOCH   =                2000. / Epoch for Target coordinates                   \n",
       "EQUINOX =                2000. / Equinox of coordinate system                   \n",
       "TRKEQUIN=                2000. / Tracking equinox                               \n",
       "SSA     = 'E. Wenderoth'       / SSA                                            \n",
       "RA      =           333.853125 / Right Ascension                                \n",
       "DEC     =         -19.58527778 / Declination of Target                          \n",
       "ELEVATIO=     72.4190708333333 / Current Elevation                              \n",
       "AZIMUTH =     55.9693972222222 / Current Azimuth                                \n",
       "CRPA    =    -99.3985607666891 / Current Cass Rotator Position Angle            \n",
       "HA      = '-01:01:48.59'       / Telescope hour angle                           \n",
       "LT      = '03:41:02.7'         / Local time at start of observation             \n",
       "TRKFRAME= 'FK5     '           / Tracking co-ordinate                           \n",
       "DECTRACK=                   0. / Differential tracking rate Dec                 \n",
       "TRKEPOCH=         58310.268776 / Differential tracking reference epoch          \n",
       "RATRACK =                   0. / Differential tracking rate RA                  \n",
       "FRAME   = 'FK5     '           / Target coordinate system                       \n",
       "PMDEC   =                   0. / Proper Motion in Declination                   \n",
       "PMRA    =                   0. / Proper Motion in RA                            \n",
       "WAVELENG=                5300. / Effective Target Wavelength                    \n",
       "RAWIQ   = '85-percentile'      / Raw Image Quality                              \n",
       "RAWCC   = '70-percentile'      / Raw Cloud Cover                                \n",
       "RAWWV   = 'UNKNOWN '           / Raw Water Vapour/Transparency                  \n",
       "RAWBG   = '80-percentile'      / Raw Background                                 \n",
       "RAWPIREQ= 'YES     '           / PI Requirements Met                            \n",
       "RAWGEMQA= 'USABLE  '           / Gemini Quality Assessment                      \n",
       "CGUIDMOD= 'Basic   '           / Driving mode for carousel                      \n",
       "UT      = '06:41:03.2'         / UT at observation start                        \n",
       "DATE    = '2018-07-11'         / UT Date of observation (YYYY-MM-DD)            \n",
       "M2BAFFLE= 'VISIBLE '           / Position of M2 baffle                          \n",
       "M2CENBAF= 'CLOSED  '           / Position of M2 central hole baffle             \n",
       "ST      = '21:14:37.4'         / Sidereal time at the start of the exposure     \n",
       "XOFFSET =    -1.08139114520958 / Telescope offset in x in arcsec                \n",
       "YOFFSET =    0.910714007132838 / Telescope offset in y in arcsec                \n",
       "POFFSET =     1.07980000316546 / Telescope offset in p in arcsec                \n",
       "QOFFSET =   -0.912600002678895 / Telescope offset in q in arcsec                \n",
       "RAOFFSET=     1.39317422381637 / Telescope offset in RA in arcsec               \n",
       "DECOFFSE=    0.240566817785183 / Telescope offset in DEC in arcsec              \n",
       "RATRGOFF=                   0. / Target offset in RA in arcsec                  \n",
       "DECTRGOF=                   0. / Target offset in DEC in arcsec                 \n",
       "PA      =                 310. / Sky Position Angle at start of exposure        \n",
       "IAA     =                359.9 / Instrument Alignment Angle                     \n",
       "SFRT2   =               44.798 / Science fold rotation angle (degrees)          \n",
       "SFTILT  =                -0.19 / Science fold tilt angle (degrees)              \n",
       "SFLINEAR=                -6.24 / Science fold linear position (mm)              \n",
       "AOFOLD  = 'park-pos.'          / AO Pick-Off Mirror Position                    \n",
       "PWFS1_ST= 'parked  '           / PWFS1 probe state (frozen,guiding,parked)      \n",
       "PWFS2_ST= 'parked  '           / PWFS2 probe state (frozen,guiding,parked)      \n",
       "OIWFS_ST= 'guiding '           / OIWFS probe state (frozen,guiding,parked)      \n",
       "AOWFS_ST= 'parked  '           / AOWFS probe state (frozen,guiding,parked)      \n",
       "SCIBAND =                    2 / Science Ranking Band                           \n",
       "REQIQ   = '85-percentile'      / Requested Image Quality                        \n",
       "REQCC   = '80-percentile'      / Requested Cloud Cover                          \n",
       "REQBG   = '80-percentile'      / Requested Background                           \n",
       "REQWV   = 'Any     '           / Requested Water Vapour                         \n",
       "NUMREQTW=                    0 / Number of Requested Timing Window REQTW entries\n",
       "REQMINAM=                   1. / Requested Minimum Airmass                      \n",
       "REQMAXAM=                  1.3 / Requested Maximum Airmass                      \n",
       "GCALLAMP= 'QH      '           / GCAL Lamp name                                 \n",
       "GCALFILT= 'GMOS    '           / GCAL Filter name                               \n",
       "GCALDIFF= 'VISIBLE '           / GCAL Diffuser name                             \n",
       "GCALSHUT= 'CLOSED  '           / GCAL Shutter (OPEN or CLOSED)                  \n",
       "OIARA   =          333.8358375 / RA of OIWFS guide star                         \n",
       "OIARV   =                   0. / OIWFS Heliocentric Radial Velocity             \n",
       "OIAWAVEL=                6500. / OIWFS Effective Target Wavelength              \n",
       "OIADEC  =         -19.59176389 / Declination of OIWFS guide star                \n",
       "OIAEPOCH=                2000. / Epoch for OIWFS guide star coordinates         \n",
       "OIAEQUIN=                2000. / Equinox for OIWFS guide star coordinates       \n",
       "OIAFRAME= 'FK5     '           / OIWFS Target co-ordinate system                \n",
       "OIAOBJEC= '353-193502'         / Object Name for OIWFS, Chop A                  \n",
       "OIAPMDEC=               0.0019 / OIWFS Proper Motion in Declination             \n",
       "OIAPMRA =              0.00068 / OIWFS Proper Motion in RA                      \n",
       "OIAPARAL=                   0. / OIWFS Parallax of Target                       \n",
       "OIFREQ  =               -9999. / OIWFS sampling frequency (Hz)                  \n",
       "HUMIDITY=                  16. / The Relative Humidity (fraction, 0..101).      \n",
       "TAMBIENT=                  8.8 / The ambient temp (C).                          \n",
       "TAMBIEN2=                47.84 / The ambient temp (F).                          \n",
       "PRESSURE=            546.20384 / The atmospheric pressure (mm Hg).              \n",
       "PRESSUR2=               72800. / The atmospheric pressure (Pa).                 \n",
       "DEWPOINT=                -15.8 / The dew point (C).                             \n",
       "DEWPOIN2=                 3.56 / The dew point (F).                             \n",
       "WINDSPEE=                  7.6 / The wind speed (m/s).                          \n",
       "WINDSPE2=              17.0012 / The wind speed (mph).                          \n",
       "WINDDIRE=                 313. / The wind direction (degrees).                  \n",
       "INPORT  =                    3 / Number of ISS port where GMOS was located      \n",
       "GMOSCC  = 'GMOS-CP (V6-9)'     / GMOS components controller s/w                 \n",
       "TIME-OBS= '06:41:03.7'         / Time of observation                            \n",
       "PREIMAGE=                    F / MOS pre-imaging                                \n",
       "CONID   = 'ARC-III '           / Detector controller ID                         \n",
       "DETECTOR= 'GMOS + Hamamatsu_new' / Detector name                                \n",
       "DEWAR   = 'Lab Cryostat'       / Dewar name                                     \n",
       "ARRYTMPD=             -100.998 / Array temperature D (Celsius)                  \n",
       "ARRYTMPA=              -94.212 / Array temperature A (Celsius)                  \n",
       "ARRYTMPB=              -94.498 / Array temperature B (Celsius)                  \n",
       "ARRYTMPC=              -94.304 / Array temperature C (Celsius)                  \n",
       "ARRYTSET=                -101. / Array temperature Setpoint (Celsius)           \n",
       "DETSIZE = '[1:6144,1:4224]'    / Detector size                                  \n",
       "NCCDS   =                    3 / Number of CCD chips                            \n",
       "NAMPS   =                    4 / Number of amplifiers                           \n",
       "SHUTTER = 'OPEN    '           / Shutter state during observation               \n",
       "AMPINTEG=                11880 / Amplifier integration time                     \n",
       "OBSEPOCH=      2018.5236920462 / Epoch at start of exposure                     \n",
       "TIMESYS = 'UTC     '           / Time system used                               \n",
       "DATE-OBS= '2018-07-11'         / UT Date of observation (YYYY-MM-DD)            \n",
       "GMOSTHT = 'WARNING '           / Shutter health                                 \n",
       "NSUBEXP =                    1 / Number of sub exposures                        \n",
       "UTSTART = '06:41:05.6500'      / UT at observation start                        \n",
       "UTEND   = '06:41:09.6500'      / UT at observation end                          \n",
       "EXPTIME =                   4. / Exposure time in seconds                       \n",
       "ELAPSED =                   4. / Elapsed observation time in seconds            \n",
       "DARKTIME=     25.7666878700256 / Dark current integration in seconds            \n",
       "MASKID  =             10005373 / Mask/IFU barcode                               \n",
       "MASKNAME= '0.75arcsec'         / Mask name                                      \n",
       "MASKTYP =                    1 / Mask/IFU type (0=none/-1=IFU/1=mask)           \n",
       "MASKLOC =                    0 / Mask/IFU location (-1=unknown/0=FP/1=cassette) \n",
       "FILTER1 = 'open1-6 '           / Filter 1 name                                  \n",
       "FILTID1 =             20000033 / Filter 1 barcode                               \n",
       "FILTER2 = 'open2-8 '           / Filter 2 name                                  \n",
       "FILTID2 =             20000041 / Filter 2 barcode                               \n",
       "GRATING = 'B600+_G5323'        / Grating name                                   \n",
       "GRATID  =             30000014 / Grating barcode                                \n",
       "GRWLEN  =                 530. / Grating wavelength at slit (nm)                \n",
       "CENTWAVE=                 530. / Central wavelength (nm)                        \n",
       "GRORDER =                    1 / Grating order                                  \n",
       "GRTILT  =              54.8959 / Grating tilt angle (degrees)                   \n",
       "GRSTEP  =            5833.6694 / Requested grating motor step position          \n",
       "DTAX    =                 55.2 / Detector translation X position (microns)      \n",
       "DTAY    =               144.48 / Detector translation Y position (microns)      \n",
       "DTAZ    =                1380. / Detector translation Z position (microns)      \n",
       "DTAZST  =                1380. / Focus at observation start (microns)           \n",
       "DTAZEN  =                1380. / Focus at observation end (microns)             \n",
       "DTAZME  =                   0. / Mean focus during observation (microns)        \n",
       "DTMODE  = 'FOLLOW  '           / Detector translation stage mode                \n",
       "ADCMODE = '        '           / ADC mode                                       \n",
       "GMOSDC  = 'gmosdc-6.4AT1.6'    / GMOS detector controller s/w                   \n",
       "DETTYPE = 'S10892  '           / Detector array type                            \n",
       "DETID   = 'BI5-36-4k-2,BI11-33-4k-1,BI12-34-4k-1' / Chip IDs                    \n",
       "EXPOSURE=                   4. / Requested exposure time in seconds             \n",
       "ADCUSED =                    1 / ADC used? (0=yes/1=no)                         \n",
       "DETNROI =                    1 / No. regions of interest                        \n",
       "ADCENPST=                   0. / Start entrance prism angle of ADC              \n",
       "ADCENPEN=                   0. / End entrance prism angle of ADC                \n",
       "ADCENPME=                   0. / Mean entrance prism angle of ADC               \n",
       "ADCEXPST=                   0. / Start exit prism angle of ADC                  \n",
       "ADCEXPEN=                   0. / End exit prism angle of ADC                    \n",
       "ADCEXPME=                   0. / Mean exit prism angle of ADC                   \n",
       "ADCWLEN1=                   0. / Lower wavelength for ADC calculation           \n",
       "ADCWLEN2=                   0. / Upper wavelength for ADC calculation           \n",
       "DETRO1X =                    1 / ROI 1 X start                                  \n",
       "DETRO1XS=                 3072 / ROI 1 X size                                   \n",
       "DETRO1Y =                    1 / ROI 1 Y start                                  \n",
       "DETRO1YS=                 2112 / ROI 1 Y size                                   \n",
       "AIRMASS =                1.049 / Mean airmass for the observation               \n",
       "AMSTART =                1.049 / Airmass at start of exposure                   \n",
       "AMEND   =                1.048 / Airmass at end of exposure                     \n",
       "PROP_MD =                    F / Proprietary Metadata                           \n",
       "RELEASE = '2018-07-11'         / End of proprietary period YYY-MM-DD            \n",
       "                                                                                \n",
       "                                                                                \n",
       "                                                                                \n",
       "                                                                                \n",
       "                                                                                \n",
       "                                                                                \n",
       "                                                                                \n",
       "                                                                                \n",
       "                                                                                \n",
       "                                                                                \n",
       "                                                                                \n",
       "                                                                                \n",
       "                                                                                \n",
       "                                                                                \n",
       "                                                                                \n",
       "                                                                                \n",
       "                                                                                \n",
       "                                                                                \n",
       "                                                                                \n",
       "                                                                                \n",
       "                                                                                \n",
       "                                                                                \n",
       "                                                                                \n",
       "                                                                                \n",
       "                                                                                \n",
       "                                                                                \n",
       "                                                                                \n",
       "                                                                                \n",
       "                                                                                \n",
       "                                                                                \n",
       "                                                                                \n",
       "                                                                                \n",
       "                                                                                \n",
       "                                                                                \n",
       "                                                                                \n",
       "                                                                                \n",
       "                                                                                \n",
       "                                                                                \n",
       "                                                                                \n",
       "                                                                                \n",
       "                                                                                \n",
       "                                                                                \n",
       "                                                                                \n",
       "                                                                                \n",
       "                                                                                \n",
       "                                                                                \n",
       "                                                                                \n",
       "                                                                                \n",
       "                                                                                \n",
       "                                                                                \n",
       "                                                                                \n",
       "                                                                                \n",
       "                                                                                \n",
       "                                                                                \n",
       "                                                                                \n",
       "                                                                                \n",
       "                                                                                \n",
       "                                                                                \n",
       "                                                                                \n",
       "                                                                                \n",
       "                                                                                \n",
       "                                                                                \n",
       "                                                                                \n",
       "                                                                                \n",
       "                                                                                \n",
       "                                                                                \n",
       "                                                                                \n",
       "                                                                                \n",
       "                                                                                \n",
       "                                                                                \n",
       "                                                                                \n",
       "                                                                                \n",
       "                                                                                \n",
       "                                                                                \n",
       "                                                                                \n",
       "                                                                                \n",
       "                                                                                \n",
       "                                                                                "
      ]
     },
     "execution_count": 28,
     "metadata": {},
     "output_type": "execute_result"
    }
   ],
   "source": [
    "hdul = fits.open(gemini_gmos_files_530[2])\n",
    "hdul[0].header"
   ]
  },
  {
   "cell_type": "code",
   "execution_count": 29,
   "metadata": {},
   "outputs": [
    {
     "name": "stdout",
     "output_type": "stream",
     "text": [
      "Filename: /data/Projects/Python/PYPIT-development-suite/RAW_DATA/Gemini_GMOS/B600/S20180711S0185.fits\n",
      "No.    Name      Ver    Type      Cards   Dimensions   Format\n",
      "  0  PRIMARY       1 PrimaryHDU     252   ()      \n",
      "  1               -1 ImageHDU       324   (288, 2112)   int16 (rescales to uint16)   \n",
      "  2               -1 ImageHDU       288   (288, 2112)   int16 (rescales to uint16)   \n",
      "  3               -1 ImageHDU       252   (288, 2112)   int16 (rescales to uint16)   \n",
      "  4               -1 ImageHDU       252   (288, 2112)   int16 (rescales to uint16)   \n",
      "  5               -1 ImageHDU       216   (288, 2112)   int16 (rescales to uint16)   \n",
      "  6               -1 ImageHDU       180   (288, 2112)   int16 (rescales to uint16)   \n",
      "  7               -1 ImageHDU       180   (288, 2112)   int16 (rescales to uint16)   \n",
      "  8               -1 ImageHDU       144   (288, 2112)   int16 (rescales to uint16)   \n",
      "  9               -1 ImageHDU       108   (288, 2112)   int16 (rescales to uint16)   \n",
      " 10               -1 ImageHDU       108   (288, 2112)   int16 (rescales to uint16)   \n",
      " 11               -1 ImageHDU        72   (288, 2112)   int16 (rescales to uint16)   \n",
      " 12               -1 ImageHDU        38   (288, 2112)   int16 (rescales to uint16)   \n"
     ]
    }
   ],
   "source": [
    "hdul.info()"
   ]
  },
  {
   "cell_type": "code",
   "execution_count": 30,
   "metadata": {},
   "outputs": [
    {
     "data": {
      "text/plain": [
       "XTENSION= 'IMAGE   '           / IMAGE extension                                \n",
       "BITPIX  =                   16 / number of bits per data pixel                  \n",
       "NAXIS   =                    2 / number of data axes                            \n",
       "NAXIS1  =                  288 / length of data axis 1                          \n",
       "NAXIS2  =                 2112 / length of data axis 2                          \n",
       "PCOUNT  =                    0 / required keyword; must = 0                     \n",
       "GCOUNT  =                    1 / required keyword; must = 1                     \n",
       "BZERO   =                32768 / offset data range to that of unsigned short    \n",
       "BSCALE  =                    1 / default scaling factor                         \n",
       "INHERIT =                    F / inherit the primary header                     \n",
       "DATATYPE= 'Intensity'          / Type of Data                                   \n",
       "CTYPE1  = 'RA---TAN'           / R.A. in tangent plane projection               \n",
       "CRPIX1  =     1579.27409603176 / Ref pix of axis 1                              \n",
       "CRVAL1  =     333.853535840853 / RA at Ref pix in decimal degrees               \n",
       "CTYPE2  = 'DEC--TAN'           / DEC. in tangent plane projection               \n",
       "CRPIX2  =     1068.64877767275 / Ref pix of axis 2                              \n",
       "CRVAL2  =    -19.5852109401744 / DEC at Ref pix in decimal degrees              \n",
       "CD1_1   = -2.79298205192385E-05 / WCS matrix element 1 1                        \n",
       "CD1_2   = 3.39627130924844E-05 / WCS matrix element 1 2                         \n",
       "CD2_1   = -3.32332166528195E-05 / WCS matrix element 2 1                        \n",
       "CD2_2   = -2.87121876517384E-05 / WCS matrix element 2 2                        \n",
       "RADECSYS= 'FK5     '           / R.A./DEC. coordinate system reference          \n",
       "EQUINOX =                2000. / Equinox of coordinate system                   \n",
       "MJD-OBS =     58310.2793172773 / MJD of start of obseration                     \n",
       "CCDNAME = 'BI5-36-4k-2'        / CCD chip name(s)                               \n",
       "AMPNAME = 'BI5-36-4k-2, 4'     / Amplifier name(s)                              \n",
       "GAIN    =                   2. / Amplifier gain                                 \n",
       "RDNOISE =                   6. / Readout noise                                  \n",
       "CCDSIZE = '[1:2048,1:4224]'    / CCD chip size                                  \n",
       "CCDSUM  = '2 2     '           / CCD sum                                        \n",
       "CCDSEC  = '[1:512,1:4224]'     / CCD section(s)                                 \n",
       "DETSEC  = '[1:512,1:4224]'     / Detector section(s)                            \n",
       "DATASEC = '[1:256,1:2112]'     / Data section(s)                                \n",
       "BIASSEC = '[257:288,1:2112]'   / Bias section(s)                                \n",
       "FRMNAME = 'FRAME-0 ROI-0, CHIP-r<1>, AMP-4<0>' / Frame name                     \n",
       "FRAMEID = '0       '           / Frame Id                                       \n",
       "DATATYP = '        '           / Type of data frame                             \n",
       "EXTVER  =                   -1 / Number assigned to a FITS extension.           \n",
       "                                                                                \n",
       "                                                                                \n",
       "                                                                                \n",
       "                                                                                \n",
       "                                                                                \n",
       "                                                                                \n",
       "                                                                                \n",
       "                                                                                \n",
       "                                                                                \n",
       "                                                                                \n",
       "                                                                                \n",
       "                                                                                \n",
       "                                                                                \n",
       "                                                                                \n",
       "                                                                                \n",
       "                                                                                \n",
       "                                                                                \n",
       "                                                                                \n",
       "                                                                                \n",
       "                                                                                \n",
       "                                                                                \n",
       "                                                                                \n",
       "                                                                                \n",
       "                                                                                \n",
       "                                                                                \n",
       "                                                                                \n",
       "                                                                                \n",
       "                                                                                \n",
       "                                                                                \n",
       "                                                                                \n",
       "                                                                                \n",
       "                                                                                \n",
       "                                                                                \n",
       "                                                                                \n",
       "                                                                                \n",
       "                                                                                \n",
       "                                                                                \n",
       "                                                                                \n",
       "                                                                                \n",
       "                                                                                \n",
       "                                                                                \n",
       "                                                                                \n",
       "                                                                                \n",
       "                                                                                \n",
       "                                                                                \n",
       "                                                                                \n",
       "                                                                                \n",
       "                                                                                \n",
       "                                                                                \n",
       "                                                                                \n",
       "                                                                                \n",
       "                                                                                \n",
       "                                                                                \n",
       "                                                                                \n",
       "                                                                                \n",
       "                                                                                \n",
       "                                                                                \n",
       "                                                                                \n",
       "                                                                                \n",
       "                                                                                \n",
       "                                                                                \n",
       "                                                                                \n",
       "                                                                                \n",
       "                                                                                \n",
       "                                                                                \n",
       "                                                                                \n",
       "                                                                                \n",
       "                                                                                \n",
       "                                                                                \n",
       "                                                                                \n",
       "                                                                                \n",
       "                                                                                \n",
       "                                                                                \n",
       "                                                                                \n",
       "                                                                                \n",
       "                                                                                \n",
       "                                                                                \n",
       "                                                                                \n",
       "                                                                                \n",
       "                                                                                \n",
       "                                                                                \n",
       "                                                                                \n",
       "                                                                                \n",
       "                                                                                \n",
       "                                                                                \n",
       "                                                                                \n",
       "                                                                                \n",
       "                                                                                \n",
       "                                                                                \n",
       "                                                                                \n",
       "                                                                                \n",
       "                                                                                \n",
       "                                                                                \n",
       "                                                                                \n",
       "                                                                                \n",
       "                                                                                \n",
       "                                                                                \n",
       "                                                                                \n",
       "                                                                                \n",
       "                                                                                \n",
       "                                                                                \n",
       "                                                                                \n",
       "                                                                                \n",
       "                                                                                \n",
       "                                                                                \n",
       "                                                                                \n",
       "                                                                                \n",
       "                                                                                \n",
       "                                                                                \n",
       "                                                                                \n",
       "                                                                                \n",
       "                                                                                \n",
       "                                                                                \n",
       "                                                                                \n",
       "                                                                                \n",
       "                                                                                \n",
       "                                                                                \n",
       "                                                                                \n",
       "                                                                                \n",
       "                                                                                \n",
       "                                                                                \n",
       "                                                                                \n",
       "                                                                                \n",
       "                                                                                \n",
       "                                                                                \n",
       "                                                                                \n",
       "                                                                                \n",
       "                                                                                \n",
       "                                                                                \n",
       "                                                                                \n",
       "                                                                                \n",
       "                                                                                \n",
       "                                                                                \n",
       "                                                                                \n",
       "                                                                                \n",
       "                                                                                \n",
       "                                                                                \n",
       "                                                                                \n",
       "                                                                                \n",
       "                                                                                \n",
       "                                                                                \n",
       "                                                                                \n",
       "                                                                                \n",
       "                                                                                \n",
       "                                                                                \n",
       "                                                                                \n",
       "                                                                                \n",
       "                                                                                \n",
       "                                                                                \n",
       "                                                                                \n",
       "                                                                                \n",
       "                                                                                \n",
       "                                                                                \n",
       "                                                                                \n",
       "                                                                                \n",
       "                                                                                \n",
       "                                                                                \n",
       "                                                                                \n",
       "                                                                                \n",
       "                                                                                \n",
       "                                                                                \n",
       "                                                                                \n",
       "                                                                                \n",
       "                                                                                \n",
       "                                                                                \n",
       "                                                                                \n",
       "                                                                                \n",
       "                                                                                \n",
       "                                                                                \n",
       "                                                                                \n",
       "                                                                                \n",
       "                                                                                \n",
       "                                                                                \n",
       "                                                                                \n",
       "                                                                                \n",
       "                                                                                \n",
       "                                                                                \n",
       "                                                                                \n",
       "                                                                                \n",
       "                                                                                \n",
       "                                                                                \n",
       "                                                                                \n",
       "                                                                                \n",
       "                                                                                \n",
       "                                                                                \n",
       "                                                                                \n",
       "                                                                                \n",
       "                                                                                \n",
       "                                                                                \n",
       "                                                                                \n",
       "                                                                                \n",
       "                                                                                \n",
       "                                                                                \n",
       "                                                                                \n",
       "                                                                                \n",
       "                                                                                \n",
       "                                                                                \n",
       "                                                                                \n",
       "                                                                                \n",
       "                                                                                \n",
       "                                                                                \n",
       "                                                                                \n",
       "                                                                                \n",
       "                                                                                \n",
       "                                                                                \n",
       "                                                                                \n",
       "                                                                                \n",
       "                                                                                \n",
       "                                                                                \n",
       "                                                                                \n",
       "                                                                                \n",
       "                                                                                \n",
       "                                                                                \n",
       "                                                                                \n",
       "                                                                                \n",
       "                                                                                \n",
       "                                                                                \n",
       "                                                                                \n",
       "                                                                                \n",
       "                                                                                \n",
       "                                                                                \n",
       "                                                                                \n",
       "                                                                                \n",
       "                                                                                \n",
       "                                                                                \n",
       "                                                                                \n",
       "                                                                                \n",
       "                                                                                \n",
       "                                                                                \n",
       "                                                                                \n",
       "                                                                                \n",
       "                                                                                \n",
       "                                                                                \n",
       "                                                                                \n",
       "                                                                                \n",
       "                                                                                \n",
       "                                                                                \n",
       "                                                                                \n",
       "                                                                                \n",
       "                                                                                \n",
       "                                                                                \n",
       "                                                                                \n",
       "                                                                                \n",
       "                                                                                \n",
       "                                                                                \n",
       "                                                                                \n",
       "                                                                                \n",
       "                                                                                \n",
       "                                                                                \n",
       "                                                                                \n",
       "                                                                                \n",
       "                                                                                \n",
       "                                                                                \n",
       "                                                                                \n",
       "                                                                                \n",
       "                                                                                \n",
       "                                                                                \n",
       "                                                                                \n",
       "                                                                                \n",
       "                                                                                \n",
       "                                                                                \n",
       "                                                                                \n",
       "                                                                                \n",
       "                                                                                \n",
       "                                                                                \n",
       "                                                                                \n",
       "                                                                                \n",
       "                                                                                \n",
       "                                                                                \n",
       "                                                                                \n",
       "                                                                                \n",
       "                                                                                \n",
       "                                                                                \n",
       "                                                                                \n",
       "                                                                                \n",
       "                                                                                \n",
       "                                                                                \n",
       "                                                                                \n",
       "                                                                                \n",
       "                                                                                \n",
       "                                                                                \n",
       "                                                                                \n",
       "                                                                                \n",
       "                                                                                \n",
       "                                                                                \n",
       "                                                                                "
      ]
     },
     "execution_count": 30,
     "metadata": {},
     "output_type": "execute_result"
    }
   ],
   "source": [
    "hdul[1].header"
   ]
  },
  {
   "cell_type": "markdown",
   "metadata": {},
   "source": [
    "### PypitSetup"
   ]
  },
  {
   "cell_type": "code",
   "execution_count": 31,
   "metadata": {},
   "outputs": [],
   "source": [
    "# Init\n",
    "reload(pypitsetup)\n",
    "setupc = pypitsetup.PypitSetup(gemini_gmos_files_530, spectrograph_name='gemini_gmos_south', par=par)"
   ]
  },
  {
   "cell_type": "code",
   "execution_count": 32,
   "metadata": {},
   "outputs": [
    {
     "name": "stderr",
     "output_type": "stream",
     "text": [
      "\u001b[1;31m[WARNING] ::\u001b[0m BINNING keyword not in header. Setting to None\n",
      "\u001b[1;31m[WARNING] ::\u001b[0m SLITNAME keyword not in header. Setting to None\n",
      "\u001b[1;31m[WARNING] ::\u001b[0m DICHNAME keyword not in header. Setting to None\n",
      "\u001b[1;32m[INFO]    ::\u001b[0m Successfully loaded headers for file:\n",
      "             /data/Projects/Python/PYPIT-development-suite/RAW_DATA/Gemini_GMOS/B600/S20180711S0183.fits\n",
      "\u001b[1;31m[WARNING] ::\u001b[0m BINNING keyword not in header. Setting to None\n",
      "\u001b[1;31m[WARNING] ::\u001b[0m SLITNAME keyword not in header. Setting to None\n",
      "\u001b[1;31m[WARNING] ::\u001b[0m DICHNAME keyword not in header. Setting to None\n",
      "\u001b[1;32m[INFO]    ::\u001b[0m Successfully loaded headers for file:\n",
      "             /data/Projects/Python/PYPIT-development-suite/RAW_DATA/Gemini_GMOS/B600/S20180711S0184.fits\n",
      "\u001b[1;31m[WARNING] ::\u001b[0m BINNING keyword not in header. Setting to None\n",
      "\u001b[1;31m[WARNING] ::\u001b[0m SLITNAME keyword not in header. Setting to None\n",
      "\u001b[1;31m[WARNING] ::\u001b[0m DICHNAME keyword not in header. Setting to None\n",
      "\u001b[1;32m[INFO]    ::\u001b[0m Successfully loaded headers for file:\n",
      "             /data/Projects/Python/PYPIT-development-suite/RAW_DATA/Gemini_GMOS/B600/S20180711S0185.fits\n",
      "\u001b[1;31m[WARNING] ::\u001b[0m BINNING keyword not in header. Setting to None\n",
      "\u001b[1;31m[WARNING] ::\u001b[0m SLITNAME keyword not in header. Setting to None\n",
      "\u001b[1;31m[WARNING] ::\u001b[0m DICHNAME keyword not in header. Setting to None\n",
      "\u001b[1;32m[INFO]    ::\u001b[0m Successfully loaded headers for file:\n",
      "             /data/Projects/Python/PYPIT-development-suite/RAW_DATA/Gemini_GMOS/B600/S20180711S0186.fits\n",
      "\u001b[1;31m[WARNING] ::\u001b[0m BINNING keyword not in header. Setting to None\n",
      "\u001b[1;31m[WARNING] ::\u001b[0m SLITNAME keyword not in header. Setting to None\n",
      "\u001b[1;31m[WARNING] ::\u001b[0m DICHNAME keyword not in header. Setting to None\n",
      "\u001b[1;32m[INFO]    ::\u001b[0m Successfully loaded headers for file:\n",
      "             /data/Projects/Python/PYPIT-development-suite/RAW_DATA/Gemini_GMOS/B600/S20180711S0259.fits\n",
      "\u001b[1;32m[INFO]    ::\u001b[0m Checking spectrograph settings for required header information\n",
      "\u001b[1;32m[INFO]    ::\u001b[0m Headers loaded for 5 files successfully\n"
     ]
    }
   ],
   "source": [
    "fitstbl = setupc.build_fitstbl(gemini_gmos_files_530)"
   ]
  },
  {
   "cell_type": "code",
   "execution_count": 33,
   "metadata": {},
   "outputs": [
    {
     "data": {
      "text/html": [
       "<i>Table length=5</i>\n",
       "<table id=\"table140506790379872\" class=\"table-striped table-bordered table-condensed\">\n",
       "<thead><tr><th>directory</th><th>filename</th><th>utc</th><th>target</th><th>idname</th><th>time</th><th>date</th><th>ra</th><th>dec</th><th>airmass</th><th>binning</th><th>exptime</th><th>decker</th><th>dichroic</th><th>dispname</th><th>instrume</th></tr></thead>\n",
       "<thead><tr><th>str72</th><th>str19</th><th>str10</th><th>str12</th><th>str6</th><th>float64</th><th>str10</th><th>float64</th><th>float64</th><th>float64</th><th>str4</th><th>float64</th><th>str4</th><th>str4</th><th>str11</th><th>str17</th></tr></thead>\n",
       "<tr><td>/data/Projects/Python/PYPIT-development-suite/RAW_DATA/Gemini_GMOS/B600/</td><td>S20180711S0183.fits</td><td>06:37:17.2</td><td>ESO-606-G036</td><td>OBJECT</td><td>1399443.4794788086</td><td>2018-07-11</td><td>333.853125</td><td>-19.58527778</td><td>1.052</td><td>None</td><td>75.0</td><td>None</td><td>None</td><td>B600+_G5323</td><td>gemini_gmos_south</td></tr>\n",
       "<tr><td>/data/Projects/Python/PYPIT-development-suite/RAW_DATA/Gemini_GMOS/B600/</td><td>S20180711S0184.fits</td><td>06:39:02.2</td><td>ESO-606-G036</td><td>OBJECT</td><td>1399443.508718023</td><td>2018-07-11</td><td>333.853125</td><td>-19.58527778</td><td>1.05</td><td>None</td><td>75.0</td><td>None</td><td>None</td><td>B600+_G5323</td><td>gemini_gmos_south</td></tr>\n",
       "<tr><td>/data/Projects/Python/PYPIT-development-suite/RAW_DATA/Gemini_GMOS/B600/</td><td>S20180711S0185.fits</td><td>06:41:03.2</td><td>GCALflat</td><td>FLAT</td><td>1399443.5423247123</td><td>2018-07-11</td><td>333.853125</td><td>-19.58527778</td><td>1.049</td><td>None</td><td>4.0</td><td>None</td><td>None</td><td>B600+_G5323</td><td>gemini_gmos_south</td></tr>\n",
       "<tr><td>/data/Projects/Python/PYPIT-development-suite/RAW_DATA/Gemini_GMOS/B600/</td><td>S20180711S0186.fits</td><td>06:41:41.2</td><td>CuAr</td><td>ARC</td><td>1399443.552822083</td><td>2018-07-11</td><td>333.853125</td><td>-19.58527778</td><td>1.048</td><td>None</td><td>20.0</td><td>None</td><td>None</td><td>B600+_G5323</td><td>gemini_gmos_south</td></tr>\n",
       "<tr><td>/data/Projects/Python/PYPIT-development-suite/RAW_DATA/Gemini_GMOS/B600/</td><td>S20180711S0259.fits</td><td>10:43:27.7</td><td>LTT1788</td><td>OBJECT</td><td>1399447.5795640445</td><td>2018-07-11</td><td>57.09420833</td><td>-39.14358333</td><td>1.178</td><td>None</td><td>60.0</td><td>None</td><td>None</td><td>B600+_G5323</td><td>gemini_gmos_south</td></tr>\n",
       "</table>"
      ],
      "text/plain": [
       "<Table length=5>\n",
       "                               directory                                 ...\n",
       "                                 str72                                   ...\n",
       "------------------------------------------------------------------------ ...\n",
       "/data/Projects/Python/PYPIT-development-suite/RAW_DATA/Gemini_GMOS/B600/ ...\n",
       "/data/Projects/Python/PYPIT-development-suite/RAW_DATA/Gemini_GMOS/B600/ ...\n",
       "/data/Projects/Python/PYPIT-development-suite/RAW_DATA/Gemini_GMOS/B600/ ...\n",
       "/data/Projects/Python/PYPIT-development-suite/RAW_DATA/Gemini_GMOS/B600/ ...\n",
       "/data/Projects/Python/PYPIT-development-suite/RAW_DATA/Gemini_GMOS/B600/ ..."
      ]
     },
     "execution_count": 33,
     "metadata": {},
     "output_type": "execute_result"
    }
   ],
   "source": [
    "fitstbl"
   ]
  },
  {
   "cell_type": "markdown",
   "metadata": {},
   "source": [
    "## Image type\n",
    "    Classifies the images\n",
    "    Adds image type columns to the fitstbl"
   ]
  },
  {
   "cell_type": "code",
   "execution_count": 34,
   "metadata": {},
   "outputs": [
    {
     "name": "stderr",
     "output_type": "stream",
     "text": [
      "\u001b[1;32m[INFO]    ::\u001b[0m Typing files\n",
      "\u001b[1;32m[INFO]    ::\u001b[0m Couldn't identify the following files:\n",
      "\u001b[1;32m[INFO]    ::\u001b[0m S20180711S0183.fits\n",
      "\u001b[1;32m[INFO]    ::\u001b[0m S20180711S0184.fits\n",
      "\u001b[1;32m[INFO]    ::\u001b[0m S20180711S0185.fits\n",
      "\u001b[1;32m[INFO]    ::\u001b[0m S20180711S0186.fits\n",
      "\u001b[1;32m[INFO]    ::\u001b[0m S20180711S0259.fits\n",
      "\u001b[1;32m[INFO]    ::\u001b[0m Typing completed!\n",
      "\u001b[1;32m[INFO]    ::\u001b[0m Adding file type information to the fitstbl\n"
     ]
    }
   ],
   "source": [
    "filetypes = setupc.type_data(flag_unknown=True)"
   ]
  },
  {
   "cell_type": "markdown",
   "metadata": {},
   "source": [
    "### Show"
   ]
  },
  {
   "cell_type": "code",
   "execution_count": 35,
   "metadata": {},
   "outputs": [
    {
     "data": {
      "text/html": [
       "<i>Table length=5</i>\n",
       "<table id=\"table140506790085016\" class=\"table-striped table-bordered table-condensed\">\n",
       "<thead><tr><th>filename</th><th>arc</th><th>bias</th><th>pixelflat</th><th>science</th><th>standard</th><th>trace</th><th>unknown</th></tr></thead>\n",
       "<thead><tr><th>str19</th><th>bool</th><th>bool</th><th>bool</th><th>bool</th><th>bool</th><th>bool</th><th>bool</th></tr></thead>\n",
       "<tr><td>S20180711S0183.fits</td><td>False</td><td>False</td><td>False</td><td>False</td><td>False</td><td>False</td><td>True</td></tr>\n",
       "<tr><td>S20180711S0184.fits</td><td>False</td><td>False</td><td>False</td><td>False</td><td>False</td><td>False</td><td>True</td></tr>\n",
       "<tr><td>S20180711S0185.fits</td><td>False</td><td>False</td><td>False</td><td>False</td><td>False</td><td>False</td><td>True</td></tr>\n",
       "<tr><td>S20180711S0186.fits</td><td>False</td><td>False</td><td>False</td><td>False</td><td>False</td><td>False</td><td>True</td></tr>\n",
       "<tr><td>S20180711S0259.fits</td><td>False</td><td>False</td><td>False</td><td>False</td><td>False</td><td>False</td><td>True</td></tr>\n",
       "</table>"
      ],
      "text/plain": [
       "<Table length=5>\n",
       "      filename       arc   bias pixelflat science standard trace unknown\n",
       "       str19         bool  bool    bool     bool    bool    bool   bool \n",
       "------------------- ----- ----- --------- ------- -------- ----- -------\n",
       "S20180711S0183.fits False False     False   False    False False    True\n",
       "S20180711S0184.fits False False     False   False    False False    True\n",
       "S20180711S0185.fits False False     False   False    False False    True\n",
       "S20180711S0186.fits False False     False   False    False False    True\n",
       "S20180711S0259.fits False False     False   False    False False    True"
      ]
     },
     "execution_count": 35,
     "metadata": {},
     "output_type": "execute_result"
    }
   ],
   "source": [
    "setupc.fitstbl[['filename','arc','bias','pixelflat','science','standard','trace','unknown' ]]"
   ]
  },
  {
   "cell_type": "markdown",
   "metadata": {},
   "source": [
    "# KLUDGING"
   ]
  },
  {
   "cell_type": "code",
   "execution_count": 36,
   "metadata": {},
   "outputs": [
    {
     "data": {
      "text/plain": [
       "\"\\nsetupc.fitstbl[-3]['standard'] = True\\nsetupc.fitstbl[-3]['science'] = False\\nsetupc.fitstbl[-2]['pixelflat'] = True\\nsetupc.fitstbl[-2]['trace'] = True\\nsetupc.fitstbl[-1]['arc'] = True\\n\""
      ]
     },
     "execution_count": 36,
     "metadata": {},
     "output_type": "execute_result"
    }
   ],
   "source": [
    "setupc.fitstbl['unknown'] = False\n",
    "setupc.fitstbl[0:2]['science'] = True\n",
    "setupc.fitstbl[2]['pixelflat'] = True\n",
    "setupc.fitstbl[2]['trace'] = True\n",
    "setupc.fitstbl[3]['arc'] = True\n",
    "setupc.fitstbl[-1]['standard'] = True\n",
    "#setupc.fitstbl[-1]['science'] = False\n",
    "\n",
    "#setupc.fitstbl[5]['pixelflat'] = True\n",
    "#setupc.fitstbl[5]['trace'] = True\n",
    "#\n",
    "'''\n",
    "setupc.fitstbl[-3]['standard'] = True\n",
    "setupc.fitstbl[-3]['science'] = False\n",
    "setupc.fitstbl[-2]['pixelflat'] = True\n",
    "setupc.fitstbl[-2]['trace'] = True\n",
    "setupc.fitstbl[-1]['arc'] = True\n",
    "'''"
   ]
  },
  {
   "cell_type": "code",
   "execution_count": 37,
   "metadata": {},
   "outputs": [
    {
     "data": {
      "text/html": [
       "<i>Table length=5</i>\n",
       "<table id=\"table140506790087144\" class=\"table-striped table-bordered table-condensed\">\n",
       "<thead><tr><th>filename</th><th>arc</th><th>bias</th><th>pixelflat</th><th>science</th><th>standard</th><th>trace</th><th>unknown</th></tr></thead>\n",
       "<thead><tr><th>str19</th><th>bool</th><th>bool</th><th>bool</th><th>bool</th><th>bool</th><th>bool</th><th>bool</th></tr></thead>\n",
       "<tr><td>S20180711S0183.fits</td><td>False</td><td>False</td><td>False</td><td>True</td><td>False</td><td>False</td><td>False</td></tr>\n",
       "<tr><td>S20180711S0184.fits</td><td>False</td><td>False</td><td>False</td><td>True</td><td>False</td><td>False</td><td>False</td></tr>\n",
       "<tr><td>S20180711S0185.fits</td><td>False</td><td>False</td><td>True</td><td>False</td><td>False</td><td>True</td><td>False</td></tr>\n",
       "<tr><td>S20180711S0186.fits</td><td>True</td><td>False</td><td>False</td><td>False</td><td>False</td><td>False</td><td>False</td></tr>\n",
       "<tr><td>S20180711S0259.fits</td><td>False</td><td>False</td><td>False</td><td>False</td><td>True</td><td>False</td><td>False</td></tr>\n",
       "</table>"
      ],
      "text/plain": [
       "<Table length=5>\n",
       "      filename       arc   bias pixelflat science standard trace unknown\n",
       "       str19         bool  bool    bool     bool    bool    bool   bool \n",
       "------------------- ----- ----- --------- ------- -------- ----- -------\n",
       "S20180711S0183.fits False False     False    True    False False   False\n",
       "S20180711S0184.fits False False     False    True    False False   False\n",
       "S20180711S0185.fits False False      True   False    False  True   False\n",
       "S20180711S0186.fits  True False     False   False    False False   False\n",
       "S20180711S0259.fits False False     False   False     True False   False"
      ]
     },
     "execution_count": 37,
     "metadata": {},
     "output_type": "execute_result"
    }
   ],
   "source": [
    "setupc.fitstbl[['filename','arc','bias','pixelflat','science','standard','trace','unknown' ]]"
   ]
  },
  {
   "cell_type": "markdown",
   "metadata": {},
   "source": [
    "## Match to science"
   ]
  },
  {
   "cell_type": "code",
   "execution_count": 38,
   "metadata": {},
   "outputs": [
    {
     "name": "stderr",
     "output_type": "stream",
     "text": [
      "\u001b[1;32m[INFO]    ::\u001b[0m Matching calibrations to Science frames\n",
      "\u001b[1;32m[INFO]    ::\u001b[0m =================================================\n",
      "\u001b[1;32m[INFO]    ::\u001b[0m Matching calibrations to ESO-606-G036: S20180711S0183.fits\n",
      "\u001b[1;32m[INFO]    ::\u001b[0m   Found 1 arc frame for ESO-606-G036 (1 required)\n",
      "\u001b[1;32m[INFO]    ::\u001b[0m    No bias frames are required.  Not matching..\n",
      "\u001b[1;32m[INFO]    ::\u001b[0m   Dark frames not required.  Not matching..\n",
      "\u001b[1;32m[INFO]    ::\u001b[0m    No pinhole frames are required.  Not matching..\n",
      "\u001b[1;32m[INFO]    ::\u001b[0m   Found 1 pixelflat frame for ESO-606-G036 (1 required)\n",
      "\u001b[1;32m[INFO]    ::\u001b[0m   Found 1 standard frame for ESO-606-G036 (1 required)\n",
      "\u001b[1;32m[INFO]    ::\u001b[0m   Found 1 trace frame for ESO-606-G036 (1 required)\n",
      "\u001b[1;32m[INFO]    ::\u001b[0m =================================================\n",
      "\u001b[1;32m[INFO]    ::\u001b[0m Matching calibrations to ESO-606-G036: S20180711S0184.fits\n",
      "\u001b[1;32m[INFO]    ::\u001b[0m   Found 1 arc frame for ESO-606-G036 (1 required)\n",
      "\u001b[1;32m[INFO]    ::\u001b[0m    No bias frames are required.  Not matching..\n",
      "\u001b[1;32m[INFO]    ::\u001b[0m   Dark frames not required.  Not matching..\n",
      "\u001b[1;32m[INFO]    ::\u001b[0m    No pinhole frames are required.  Not matching..\n",
      "\u001b[1;32m[INFO]    ::\u001b[0m   Found 1 pixelflat frame for ESO-606-G036 (1 required)\n",
      "\u001b[1;32m[INFO]    ::\u001b[0m   Found 1 standard frame for ESO-606-G036 (1 required)\n",
      "\u001b[1;32m[INFO]    ::\u001b[0m   Found 1 trace frame for ESO-606-G036 (1 required)\n",
      "\u001b[1;32m[INFO]    ::\u001b[0m Science frames successfully matched to calibration frames\n"
     ]
    }
   ],
   "source": [
    "fitstbl = setupc.match_to_science()"
   ]
  },
  {
   "cell_type": "markdown",
   "metadata": {},
   "source": [
    "### Setup dict"
   ]
  },
  {
   "cell_type": "code",
   "execution_count": 39,
   "metadata": {
    "collapsed": true
   },
   "outputs": [],
   "source": [
    "setup_dict = setupc.build_setup_dict()"
   ]
  },
  {
   "cell_type": "code",
   "execution_count": 40,
   "metadata": {},
   "outputs": [
    {
     "data": {
      "text/plain": [
       "{'A': {'--': {'dichroic': 'None',\n",
       "   'disperser': {'angle': 'none', 'name': 'B600+_G5323'},\n",
       "   'slit': {'decker': 'None', 'slitlen': 'none', 'slitwid': 'none'}},\n",
       "  '01': {'binning': 'None', 'det': 1, 'namp': 4},\n",
       "  '02': {'binning': 'None', 'det': 2, 'namp': 4},\n",
       "  '03': {'binning': 'None', 'det': 3, 'namp': 4},\n",
       "  'aa': {'arc': ['S20180711S0186.fits'],\n",
       "   'bias': [],\n",
       "   'pixelflat': ['S20180711S0185.fits'],\n",
       "   'science': ['S20180711S0183.fits', 'S20180711S0184.fits'],\n",
       "   'trace': ['S20180711S0185.fits']}}}"
      ]
     },
     "execution_count": 40,
     "metadata": {},
     "output_type": "execute_result"
    }
   ],
   "source": [
    "setup_dict"
   ]
  },
  {
   "cell_type": "code",
   "execution_count": 41,
   "metadata": {},
   "outputs": [
    {
     "data": {
      "text/html": [
       "<i>Table length=5</i>\n",
       "<table id=\"table140506788940544\" class=\"table-striped table-bordered table-condensed\">\n",
       "<thead><tr><th>filename</th><th>arc</th><th>bias</th><th>pixelflat</th><th>science</th><th>standard</th><th>sci_ID</th></tr></thead>\n",
       "<thead><tr><th>str19</th><th>bool</th><th>bool</th><th>bool</th><th>bool</th><th>bool</th><th>int64</th></tr></thead>\n",
       "<tr><td>S20180711S0183.fits</td><td>False</td><td>False</td><td>False</td><td>True</td><td>False</td><td>1</td></tr>\n",
       "<tr><td>S20180711S0184.fits</td><td>False</td><td>False</td><td>False</td><td>True</td><td>False</td><td>2</td></tr>\n",
       "<tr><td>S20180711S0185.fits</td><td>False</td><td>False</td><td>True</td><td>False</td><td>False</td><td>3</td></tr>\n",
       "<tr><td>S20180711S0186.fits</td><td>True</td><td>False</td><td>False</td><td>False</td><td>False</td><td>3</td></tr>\n",
       "<tr><td>S20180711S0259.fits</td><td>False</td><td>False</td><td>False</td><td>False</td><td>True</td><td>3</td></tr>\n",
       "</table>"
      ],
      "text/plain": [
       "<Table length=5>\n",
       "      filename       arc   bias pixelflat science standard sci_ID\n",
       "       str19         bool  bool    bool     bool    bool   int64 \n",
       "------------------- ----- ----- --------- ------- -------- ------\n",
       "S20180711S0183.fits False False     False    True    False      1\n",
       "S20180711S0184.fits False False     False    True    False      2\n",
       "S20180711S0185.fits False False      True   False    False      3\n",
       "S20180711S0186.fits  True False     False   False    False      3\n",
       "S20180711S0259.fits False False     False   False     True      3"
      ]
     },
     "execution_count": 41,
     "metadata": {},
     "output_type": "execute_result"
    }
   ],
   "source": [
    "setupc.fitstbl[['filename','arc','bias','pixelflat','science','standard','sci_ID']]"
   ]
  },
  {
   "cell_type": "markdown",
   "metadata": {},
   "source": [
    "----"
   ]
  },
  {
   "cell_type": "markdown",
   "metadata": {
    "collapsed": true
   },
   "source": [
    "## Setup + datasec"
   ]
  },
  {
   "cell_type": "code",
   "execution_count": 42,
   "metadata": {
    "collapsed": true
   },
   "outputs": [],
   "source": [
    "# Image IDs\n",
    "sci_ID = 1  # First exposure ID\n",
    "det = 1     # \n",
    "dnum = 'det01'"
   ]
  },
  {
   "cell_type": "code",
   "execution_count": 43,
   "metadata": {},
   "outputs": [
    {
     "data": {
      "text/plain": [
       "0"
      ]
     },
     "execution_count": 43,
     "metadata": {},
     "output_type": "execute_result"
    }
   ],
   "source": [
    "# Index in fitstbl\n",
    "scidx = np.where((fitstbl['sci_ID'] == sci_ID) & fitstbl['science'])[0][0]\n",
    "scidx"
   ]
  },
  {
   "cell_type": "markdown",
   "metadata": {},
   "source": [
    "### Setup"
   ]
  },
  {
   "cell_type": "code",
   "execution_count": 44,
   "metadata": {
    "collapsed": true
   },
   "outputs": [],
   "source": [
    "setup = 'A_01_aa'"
   ]
  },
  {
   "cell_type": "markdown",
   "metadata": {},
   "source": [
    "## Calibrations"
   ]
  },
  {
   "cell_type": "code",
   "execution_count": 46,
   "metadata": {},
   "outputs": [],
   "source": [
    "reload(calibrations)\n",
    "caliBrate = calibrations.MultiSlitCalibrations(fitstbl, spectrograph=spectrograph, par=par['calibrations'], save_masters=False, write_qa=False)"
   ]
  },
  {
   "cell_type": "code",
   "execution_count": 47,
   "metadata": {
    "collapsed": true
   },
   "outputs": [],
   "source": [
    "caliBrate.reset(setup, 1, sci_ID)#, spectrograph.calib_par)"
   ]
  },
  {
   "cell_type": "markdown",
   "metadata": {},
   "source": [
    "## datasec_img"
   ]
  },
  {
   "cell_type": "code",
   "execution_count": 48,
   "metadata": {},
   "outputs": [
    {
     "name": "stderr",
     "output_type": "stream",
     "text": [
      "\u001b[1;32m[INFO]    ::\u001b[0m Reading GMOS file: /data/Projects/Python/PYPIT-development-suite/RAW_DATA/Gemini_GMOS/B600/S20180711S0183.fits\n",
      "\u001b[1;32m[INFO]    ::\u001b[0m Reading GMOS file: /data/Projects/Python/PYPIT-development-suite/RAW_DATA/Gemini_GMOS/B600/S20180711S0183.fits\n"
     ]
    },
    {
     "data": {
      "text/plain": [
       "(1024, 2112)"
      ]
     },
     "execution_count": 48,
     "metadata": {},
     "output_type": "execute_result"
    }
   ],
   "source": [
    "datasec_img = caliBrate.get_datasec_img()\n",
    "datasec_img.shape"
   ]
  },
  {
   "cell_type": "markdown",
   "metadata": {},
   "source": [
    "## Bias"
   ]
  },
  {
   "cell_type": "code",
   "execution_count": 49,
   "metadata": {
    "collapsed": true
   },
   "outputs": [],
   "source": [
    "caliBrate.par['biasframe']['useframe'] = 'overscan'"
   ]
  },
  {
   "cell_type": "code",
   "execution_count": 50,
   "metadata": {},
   "outputs": [
    {
     "data": {
      "text/plain": [
       "'overscan'"
      ]
     },
     "execution_count": 50,
     "metadata": {},
     "output_type": "execute_result"
    }
   ],
   "source": [
    "bias = caliBrate.get_bias()\n",
    "bias"
   ]
  },
  {
   "cell_type": "markdown",
   "metadata": {},
   "source": [
    "----"
   ]
  },
  {
   "cell_type": "markdown",
   "metadata": {},
   "source": [
    "## Arc Image frame"
   ]
  },
  {
   "cell_type": "code",
   "execution_count": 51,
   "metadata": {},
   "outputs": [
    {
     "name": "stderr",
     "output_type": "stream",
     "text": [
      "\u001b[1;32m[INFO]    ::\u001b[0m Preparing a master arc frame\n",
      "\u001b[1;32m[INFO]    ::\u001b[0m Reading GMOS file: /data/Projects/Python/PYPIT-development-suite/RAW_DATA/Gemini_GMOS/B600/S20180711S0186.fits\n",
      "\u001b[1;32m[INFO]    ::\u001b[0m Reading GMOS file: /data/Projects/Python/PYPIT-development-suite/RAW_DATA/Gemini_GMOS/B600/S20180711S0186.fits\n",
      "\u001b[1;32m[INFO]    ::\u001b[0m Reading GMOS file: /data/Projects/Python/PYPIT-development-suite/RAW_DATA/Gemini_GMOS/B600/S20180711S0186.fits\n",
      "\u001b[1;32m[INFO]    ::\u001b[0m Reading GMOS file: /data/Projects/Python/PYPIT-development-suite/RAW_DATA/Gemini_GMOS/B600/S20180711S0186.fits\n",
      "\u001b[1;32m[INFO]    ::\u001b[0m Reading GMOS file: /data/Projects/Python/PYPIT-development-suite/RAW_DATA/Gemini_GMOS/B600/S20180711S0186.fits\n",
      "\u001b[1;32m[INFO]    ::\u001b[0m Bias subtracting your image(s)\n",
      "\u001b[1;32m[INFO]    ::\u001b[0m Using overscan to subtact\n"
     ]
    }
   ],
   "source": [
    "arc = caliBrate.get_arc()"
   ]
  },
  {
   "cell_type": "code",
   "execution_count": 52,
   "metadata": {
    "collapsed": true
   },
   "outputs": [],
   "source": [
    "caliBrate.show(arc)"
   ]
  },
  {
   "cell_type": "markdown",
   "metadata": {},
   "source": [
    "----"
   ]
  },
  {
   "cell_type": "markdown",
   "metadata": {},
   "source": [
    "## Bad pixel mask"
   ]
  },
  {
   "cell_type": "code",
   "execution_count": 53,
   "metadata": {},
   "outputs": [
    {
     "name": "stderr",
     "output_type": "stream",
     "text": [
      "\u001b[1;32m[INFO]    ::\u001b[0m Reading GMOS file: /data/Projects/Python/PYPIT-development-suite/RAW_DATA/Gemini_GMOS/B600/S20180711S0183.fits\n",
      "\u001b[1;32m[INFO]    ::\u001b[0m Reading GMOS file: /data/Projects/Python/PYPIT-development-suite/RAW_DATA/Gemini_GMOS/B600/S20180711S0183.fits\n",
      "\u001b[1;32m[INFO]    ::\u001b[0m Reading GMOS file: /data/Projects/Python/PYPIT-development-suite/RAW_DATA/Gemini_GMOS/B600/S20180711S0183.fits\n"
     ]
    }
   ],
   "source": [
    "bpm = caliBrate.get_bpm()"
   ]
  },
  {
   "cell_type": "code",
   "execution_count": 54,
   "metadata": {},
   "outputs": [
    {
     "data": {
      "text/plain": [
       "0"
      ]
     },
     "execution_count": 54,
     "metadata": {},
     "output_type": "execute_result"
    }
   ],
   "source": [
    "np.sum(bpm)"
   ]
  },
  {
   "cell_type": "markdown",
   "metadata": {},
   "source": [
    "----"
   ]
  },
  {
   "cell_type": "markdown",
   "metadata": {},
   "source": [
    "## pixlocn"
   ]
  },
  {
   "cell_type": "code",
   "execution_count": 55,
   "metadata": {},
   "outputs": [
    {
     "name": "stderr",
     "output_type": "stream",
     "text": [
      "\u001b[1;32m[INFO]    ::\u001b[0m Deriving physical pixel locations on the detector\n",
      "\u001b[1;32m[INFO]    ::\u001b[0m Pixel gap in the dispersion direction = 0.000\n",
      "\u001b[1;32m[INFO]    ::\u001b[0m Pixel size in the dispersion direction = 1.000\n",
      "\u001b[1;32m[INFO]    ::\u001b[0m Pixel gap in the spatial direction = 0.000\n",
      "\u001b[1;32m[INFO]    ::\u001b[0m Pixel size in the spatial direction = 1.000\n",
      "\u001b[1;32m[INFO]    ::\u001b[0m Saving pixel locations\n"
     ]
    },
    {
     "data": {
      "text/plain": [
       "(1024, 2112, 4)"
      ]
     },
     "execution_count": 55,
     "metadata": {},
     "output_type": "execute_result"
    }
   ],
   "source": [
    "pixlocn = caliBrate.get_pixlocn()\n",
    "pixlocn.shape"
   ]
  },
  {
   "cell_type": "markdown",
   "metadata": {},
   "source": [
    "----"
   ]
  },
  {
   "cell_type": "markdown",
   "metadata": {},
   "source": [
    "## Trace slit(s)"
   ]
  },
  {
   "cell_type": "code",
   "execution_count": 56,
   "metadata": {
    "collapsed": true
   },
   "outputs": [],
   "source": [
    "caliBrate.msbpm[:,0:37] = 1.\n",
    "caliBrate.msbpm[:,-20:] = 1."
   ]
  },
  {
   "cell_type": "code",
   "execution_count": 57,
   "metadata": {
    "collapsed": true
   },
   "outputs": [],
   "source": [
    "#caliBrate.spectrograph.calib_par['slits']"
   ]
  },
  {
   "cell_type": "code",
   "execution_count": 58,
   "metadata": {
    "collapsed": true
   },
   "outputs": [],
   "source": [
    "caliBrate.par['slits']['sigdetect'] = 300.\n",
    "caliBrate.par['slits']['pca']['params'] = [1,0]"
   ]
  },
  {
   "cell_type": "code",
   "execution_count": 59,
   "metadata": {},
   "outputs": [
    {
     "name": "stderr",
     "output_type": "stream",
     "text": [
      "\u001b[1;32m[INFO]    ::\u001b[0m Reading GMOS file: /data/Projects/Python/PYPIT-development-suite/RAW_DATA/Gemini_GMOS/B600/S20180711S0185.fits\n",
      "\u001b[1;32m[INFO]    ::\u001b[0m Reading GMOS file: /data/Projects/Python/PYPIT-development-suite/RAW_DATA/Gemini_GMOS/B600/S20180711S0185.fits\n",
      "\u001b[1;32m[INFO]    ::\u001b[0m Reading GMOS file: /data/Projects/Python/PYPIT-development-suite/RAW_DATA/Gemini_GMOS/B600/S20180711S0185.fits\n",
      "\u001b[1;32m[INFO]    ::\u001b[0m Reading GMOS file: /data/Projects/Python/PYPIT-development-suite/RAW_DATA/Gemini_GMOS/B600/S20180711S0185.fits\n",
      "\u001b[1;32m[INFO]    ::\u001b[0m Reading GMOS file: /data/Projects/Python/PYPIT-development-suite/RAW_DATA/Gemini_GMOS/B600/S20180711S0185.fits\n",
      "\u001b[1;32m[INFO]    ::\u001b[0m Bias subtracting your image(s)\n",
      "\u001b[1;32m[INFO]    ::\u001b[0m Using overscan to subtact\n",
      "\u001b[1;32m[INFO]    ::\u001b[0m Reading GMOS file: /data/Projects/Python/PYPIT-development-suite/RAW_DATA/Gemini_GMOS/B600/S20180711S0185.fits\n",
      "\u001b[1;32m[INFO]    ::\u001b[0m Reading GMOS file: /data/Projects/Python/PYPIT-development-suite/RAW_DATA/Gemini_GMOS/B600/S20180711S0185.fits\n",
      "\u001b[1;31m[WARNING] ::\u001b[0m Should probably be measuring the gain across the amplifier boundary\n",
      "\u001b[1;32m[INFO]    ::\u001b[0m Detecting slit edges in the mstrace image\n",
      "\u001b[1;32m[INFO]    ::\u001b[0m Applying bad pixel mask\n",
      "\u001b[1;32m[INFO]    ::\u001b[0m 4 left edges and 3 right edges were found in the trace\n",
      "\u001b[1;32m[INFO]    ::\u001b[0m Assigning slit edge traces\n",
      "\u001b[1;32m[INFO]    ::\u001b[0m Assigning left slit edges\n",
      "             Outer left edge loop, Iteration 1\n",
      "               Inner loop, Iteration 1, 4 left edges assigned (4 total)\n",
      "             Outer left edge loop, Iteration 2\n",
      "               Inner loop, Iteration 1, 4 left edges assigned (4 total)\n",
      "\u001b[1;32m[INFO]    ::\u001b[0m Assigning right slit edges\n",
      "             Outer right edge loop, Iteration 1\n",
      "               Inner loop, Iteration 1, 1 right edges assigned (1 total)\n",
      "               Inner loop, Iteration 2, 1 right edges assigned (2 total)\n",
      "               Inner loop, Iteration 3, 1 right edges assigned (3 total)\n",
      "             Outer right edge loop, Iteration 2\n",
      "               Inner loop, Iteration 1, 1 right edges assigned (1 total)\n",
      "               Inner loop, Iteration 2, 1 right edges assigned (2 total)\n",
      "               Inner loop, Iteration 3, 1 right edges assigned (3 total)\n",
      "\u001b[1;32m[INFO]    ::\u001b[0m 4 left edges and 3 right edges were found in the trace\n",
      "\u001b[1;32m[INFO]    ::\u001b[0m Crude tracing the edges\n",
      "\u001b[1;31m[WARNING] ::\u001b[0m Adding in a left edge at start of detector which mirrors the first right edge\n",
      "\u001b[1;31m[WARNING] ::\u001b[0m Missing a right edge for slit with left edge at 1470\n",
      "\u001b[1;31m[WARNING] ::\u001b[0m Adding in a corresponding right edge!\n",
      "\u001b[1;31m[WARNING] ::\u001b[0m Last slit has no right edge.  Adding one in which will not touch the detector edge\n",
      "\u001b[1;32m[INFO]    ::\u001b[0m Fitting left slit traces\n",
      "\u001b[1;32m[INFO]    ::\u001b[0m Fitting right slit traces\n",
      "\u001b[1;32m[INFO]    ::\u001b[0m Synchronizing left and right slit traces\n",
      "\u001b[1;32m[INFO]    ::\u001b[0m Relabelling slit edges\n",
      "\u001b[1;32m[INFO]    ::\u001b[0m Performing a PCA on the slit traces\n",
      "               Reduced chi-squared = 3.250747E-27\n",
      "\u001b[1;32m[INFO]    ::\u001b[0m Slit 5 is less than fracignore - ignoring this slit\n",
      "\u001b[1;32m[INFO]    ::\u001b[0m Converting physical trace locations to nearest pixel\n",
      "\u001b[1;32m[INFO]    ::\u001b[0m Identifying the pixels belonging to each slit\n"
     ]
    }
   ],
   "source": [
    "tslits_dict, maskslits = caliBrate.get_slits()"
   ]
  },
  {
   "cell_type": "code",
   "execution_count": 60,
   "metadata": {
    "collapsed": true
   },
   "outputs": [],
   "source": [
    "caliBrate.show(caliBrate.traceSlits.mstrace)"
   ]
  },
  {
   "cell_type": "code",
   "execution_count": 61,
   "metadata": {
    "collapsed": true
   },
   "outputs": [],
   "source": [
    "caliBrate.traceSlits.show('siglev')"
   ]
  },
  {
   "cell_type": "code",
   "execution_count": 62,
   "metadata": {
    "collapsed": true
   },
   "outputs": [],
   "source": [
    "caliBrate.traceSlits.show('edges')"
   ]
  },
  {
   "cell_type": "markdown",
   "metadata": {},
   "source": [
    "### Mask the uninteresting slits"
   ]
  },
  {
   "cell_type": "code",
   "execution_count": 63,
   "metadata": {},
   "outputs": [
    {
     "data": {
      "text/plain": [
       "array([ True,  True, False,  True])"
      ]
     },
     "execution_count": 63,
     "metadata": {},
     "output_type": "execute_result"
    }
   ],
   "source": [
    "caliBrate.maskslits[0:2]= True\n",
    "caliBrate.maskslits[-1]= True\n",
    "caliBrate.maskslits"
   ]
  },
  {
   "cell_type": "markdown",
   "metadata": {},
   "source": [
    "----"
   ]
  },
  {
   "cell_type": "markdown",
   "metadata": {},
   "source": [
    "## Wavelength Calibration"
   ]
  },
  {
   "cell_type": "code",
   "execution_count": 64,
   "metadata": {
    "collapsed": true
   },
   "outputs": [],
   "source": [
    "#caliBrate.show(caliBrate.waveCalib.msarc)"
   ]
  },
  {
   "cell_type": "code",
   "execution_count": 65,
   "metadata": {
    "collapsed": true
   },
   "outputs": [],
   "source": [
    "#caliBrate.waveCalib.arccen.shape"
   ]
  },
  {
   "cell_type": "code",
   "execution_count": 66,
   "metadata": {
    "collapsed": true
   },
   "outputs": [],
   "source": [
    "#caliBrate.waveCalib.maskslits"
   ]
  },
  {
   "cell_type": "code",
   "execution_count": 67,
   "metadata": {},
   "outputs": [
    {
     "name": "stderr",
     "output_type": "stream",
     "text": [
      "\u001b[1;32m[INFO]    ::\u001b[0m Extracting an approximate arc spectrum at the centre of each slit\n",
      "\u001b[1;31m[WARNING] ::\u001b[0m Unable to parse input binning: None\n",
      "\u001b[1;31m[WARNING] ::\u001b[0m Assuming unbinned, i.e.  1x1\n",
      "\u001b[1;32m[INFO]    ::\u001b[0m Loading line list using CuAr lamps\n"
     ]
    },
    {
     "name": "stdout",
     "output_type": "stream",
     "text": [
      "> /data/Projects/Python/PYPIT/pypit/wavecalib.py(152)_build_wv_calib()\n",
      "-> self.wv_calib[str(slit)] = iwv_calib.copy()\n",
      "(Pdb) self.arccen\n",
      "array([[ 216.69519615,  800.75726452, 1279.44771077,  947.86225505],\n",
      "       [ 212.89519615,  812.15726452, 1289.24771077,  927.86225505],\n",
      "       [ 214.49519615,  831.35726452, 1276.44771077,  943.06225505],\n",
      "       ...,\n",
      "       [ 168.58719177,  473.54830918,  766.1358968 ,  623.51555356],\n",
      "       [ 162.78719177,  491.94830918,  764.5358968 ,  596.51555356],\n",
      "       [ 179.98719177,  487.94830918,  752.1358968 ,  609.51555356]])\n",
      "(Pdb) self.arccen.shape\n",
      "(1024, 4)\n",
      "(Pdb) from astropy.io import fits\n",
      "(Pdb) tmp = fits.PrimaryHDU(self.arccen)\n",
      "(Pdb) hdul = fits.HDUList([tmp])\n",
      "(Pdb) hdul.writeto('tmp.fits')\n",
      "(Pdb) exit\n"
     ]
    },
    {
     "ename": "BdbQuit",
     "evalue": "",
     "output_type": "error",
     "traceback": [
      "\u001b[0;31m---------------------------------------------------------------------------\u001b[0m",
      "\u001b[0;31mBdbQuit\u001b[0m                                   Traceback (most recent call last)",
      "\u001b[0;32m<ipython-input-67-bd727adfcae2>\u001b[0m in \u001b[0;36m<module>\u001b[0;34m()\u001b[0m\n\u001b[0;32m----> 1\u001b[0;31m \u001b[0mcaliBrate\u001b[0m\u001b[0;34m.\u001b[0m\u001b[0mget_wv_calib\u001b[0m\u001b[0;34m(\u001b[0m\u001b[0;34m)\u001b[0m\u001b[0;34m\u001b[0m\u001b[0m\n\u001b[0m",
      "\u001b[0;32m/data/Projects/Python/PYPIT/pypit/calibrations.py\u001b[0m in \u001b[0;36mget_wv_calib\u001b[0;34m(self)\u001b[0m\n\u001b[1;32m    578\u001b[0m         \u001b[0;32mif\u001b[0m \u001b[0mself\u001b[0m\u001b[0;34m.\u001b[0m\u001b[0mwv_calib\u001b[0m \u001b[0;32mis\u001b[0m \u001b[0;32mNone\u001b[0m\u001b[0;34m:\u001b[0m\u001b[0;34m\u001b[0m\u001b[0m\n\u001b[1;32m    579\u001b[0m             self.wv_calib, _ = self.waveCalib.run(self.tslits_dict['lcen'],\n\u001b[0;32m--> 580\u001b[0;31m                                                   \u001b[0mself\u001b[0m\u001b[0;34m.\u001b[0m\u001b[0mtslits_dict\u001b[0m\u001b[0;34m[\u001b[0m\u001b[0;34m'rcen'\u001b[0m\u001b[0;34m]\u001b[0m\u001b[0;34m,\u001b[0m \u001b[0mself\u001b[0m\u001b[0;34m.\u001b[0m\u001b[0mpixlocn\u001b[0m\u001b[0;34m,\u001b[0m\u001b[0;34m\u001b[0m\u001b[0m\n\u001b[0m\u001b[1;32m    581\u001b[0m                                                   nonlinear=nonlinear, skip_QA=(~self.write_qa))\n\u001b[1;32m    582\u001b[0m             \u001b[0;31m# Save to Masters\u001b[0m\u001b[0;34m\u001b[0m\u001b[0;34m\u001b[0m\u001b[0m\n",
      "\u001b[0;32m/data/Projects/Python/PYPIT/pypit/wavecalib.py\u001b[0m in \u001b[0;36mrun\u001b[0;34m(self, lordloc, rordloc, pixlocn, nonlinear, skip_QA)\u001b[0m\n\u001b[1;32m    337\u001b[0m         \u001b[0;31m# Load the arcparam, if one was not passed in.\u001b[0m\u001b[0;34m\u001b[0m\u001b[0;34m\u001b[0m\u001b[0m\n\u001b[1;32m    338\u001b[0m         \u001b[0;32mif\u001b[0m \u001b[0mself\u001b[0m\u001b[0;34m.\u001b[0m\u001b[0marcparam\u001b[0m \u001b[0;32mis\u001b[0m \u001b[0;32mNone\u001b[0m\u001b[0;34m:\u001b[0m\u001b[0;34m\u001b[0m\u001b[0m\n\u001b[0;32m--> 339\u001b[0;31m             \u001b[0m_\u001b[0m \u001b[0;34m=\u001b[0m \u001b[0mself\u001b[0m\u001b[0;34m.\u001b[0m\u001b[0m_load_arcparam\u001b[0m\u001b[0;34m(\u001b[0m\u001b[0;34m)\u001b[0m\u001b[0;34m\u001b[0m\u001b[0m\n\u001b[0m\u001b[1;32m    340\u001b[0m \u001b[0;34m\u001b[0m\u001b[0m\n\u001b[1;32m    341\u001b[0m         \u001b[0;31m# Fill up the calibrations and generate QA\u001b[0m\u001b[0;34m\u001b[0m\u001b[0;34m\u001b[0m\u001b[0m\n",
      "\u001b[0;32m/data/Projects/Python/PYPIT/pypit/wavecalib.py\u001b[0m in \u001b[0;36m_build_wv_calib\u001b[0;34m(self, method, skip_QA)\u001b[0m\n\u001b[1;32m    150\u001b[0m                 \u001b[0;32mexcept\u001b[0m\u001b[0;34m:\u001b[0m\u001b[0;34m\u001b[0m\u001b[0m\n\u001b[1;32m    151\u001b[0m                     \u001b[0mdebugger\u001b[0m\u001b[0;34m.\u001b[0m\u001b[0mset_trace\u001b[0m\u001b[0;34m(\u001b[0m\u001b[0;34m)\u001b[0m\u001b[0;34m\u001b[0m\u001b[0m\n\u001b[0;32m--> 152\u001b[0;31m             \u001b[0mself\u001b[0m\u001b[0;34m.\u001b[0m\u001b[0mwv_calib\u001b[0m\u001b[0;34m[\u001b[0m\u001b[0mstr\u001b[0m\u001b[0;34m(\u001b[0m\u001b[0mslit\u001b[0m\u001b[0;34m)\u001b[0m\u001b[0;34m]\u001b[0m \u001b[0;34m=\u001b[0m \u001b[0miwv_calib\u001b[0m\u001b[0;34m.\u001b[0m\u001b[0mcopy\u001b[0m\u001b[0;34m(\u001b[0m\u001b[0;34m)\u001b[0m\u001b[0;34m\u001b[0m\u001b[0m\n\u001b[0m\u001b[1;32m    153\u001b[0m             \u001b[0;31m# QA\u001b[0m\u001b[0;34m\u001b[0m\u001b[0;34m\u001b[0m\u001b[0m\n\u001b[1;32m    154\u001b[0m             \u001b[0;32mif\u001b[0m \u001b[0;32mnot\u001b[0m \u001b[0mskip_QA\u001b[0m\u001b[0;34m:\u001b[0m\u001b[0;34m\u001b[0m\u001b[0m\n",
      "\u001b[0;32m/data/Projects/Python/PYPIT/pypit/wavecalib.py\u001b[0m in \u001b[0;36m_build_wv_calib\u001b[0;34m(self, method, skip_QA)\u001b[0m\n\u001b[1;32m    150\u001b[0m                 \u001b[0;32mexcept\u001b[0m\u001b[0;34m:\u001b[0m\u001b[0;34m\u001b[0m\u001b[0m\n\u001b[1;32m    151\u001b[0m                     \u001b[0mdebugger\u001b[0m\u001b[0;34m.\u001b[0m\u001b[0mset_trace\u001b[0m\u001b[0;34m(\u001b[0m\u001b[0;34m)\u001b[0m\u001b[0;34m\u001b[0m\u001b[0m\n\u001b[0;32m--> 152\u001b[0;31m             \u001b[0mself\u001b[0m\u001b[0;34m.\u001b[0m\u001b[0mwv_calib\u001b[0m\u001b[0;34m[\u001b[0m\u001b[0mstr\u001b[0m\u001b[0;34m(\u001b[0m\u001b[0mslit\u001b[0m\u001b[0;34m)\u001b[0m\u001b[0;34m]\u001b[0m \u001b[0;34m=\u001b[0m \u001b[0miwv_calib\u001b[0m\u001b[0;34m.\u001b[0m\u001b[0mcopy\u001b[0m\u001b[0;34m(\u001b[0m\u001b[0;34m)\u001b[0m\u001b[0;34m\u001b[0m\u001b[0m\n\u001b[0m\u001b[1;32m    153\u001b[0m             \u001b[0;31m# QA\u001b[0m\u001b[0;34m\u001b[0m\u001b[0;34m\u001b[0m\u001b[0m\n\u001b[1;32m    154\u001b[0m             \u001b[0;32mif\u001b[0m \u001b[0;32mnot\u001b[0m \u001b[0mskip_QA\u001b[0m\u001b[0;34m:\u001b[0m\u001b[0;34m\u001b[0m\u001b[0m\n",
      "\u001b[0;32m/home/xavier/.pyenv/versions/anaconda3-4.4.0/lib/python3.6/bdb.py\u001b[0m in \u001b[0;36mtrace_dispatch\u001b[0;34m(self, frame, event, arg)\u001b[0m\n\u001b[1;32m     49\u001b[0m             \u001b[0;32mreturn\u001b[0m \u001b[0;31m# None\u001b[0m\u001b[0;34m\u001b[0m\u001b[0m\n\u001b[1;32m     50\u001b[0m         \u001b[0;32mif\u001b[0m \u001b[0mevent\u001b[0m \u001b[0;34m==\u001b[0m \u001b[0;34m'line'\u001b[0m\u001b[0;34m:\u001b[0m\u001b[0;34m\u001b[0m\u001b[0m\n\u001b[0;32m---> 51\u001b[0;31m             \u001b[0;32mreturn\u001b[0m \u001b[0mself\u001b[0m\u001b[0;34m.\u001b[0m\u001b[0mdispatch_line\u001b[0m\u001b[0;34m(\u001b[0m\u001b[0mframe\u001b[0m\u001b[0;34m)\u001b[0m\u001b[0;34m\u001b[0m\u001b[0m\n\u001b[0m\u001b[1;32m     52\u001b[0m         \u001b[0;32mif\u001b[0m \u001b[0mevent\u001b[0m \u001b[0;34m==\u001b[0m \u001b[0;34m'call'\u001b[0m\u001b[0;34m:\u001b[0m\u001b[0;34m\u001b[0m\u001b[0m\n\u001b[1;32m     53\u001b[0m             \u001b[0;32mreturn\u001b[0m \u001b[0mself\u001b[0m\u001b[0;34m.\u001b[0m\u001b[0mdispatch_call\u001b[0m\u001b[0;34m(\u001b[0m\u001b[0mframe\u001b[0m\u001b[0;34m,\u001b[0m \u001b[0marg\u001b[0m\u001b[0;34m)\u001b[0m\u001b[0;34m\u001b[0m\u001b[0m\n",
      "\u001b[0;32m/home/xavier/.pyenv/versions/anaconda3-4.4.0/lib/python3.6/bdb.py\u001b[0m in \u001b[0;36mdispatch_line\u001b[0;34m(self, frame)\u001b[0m\n\u001b[1;32m     68\u001b[0m         \u001b[0;32mif\u001b[0m \u001b[0mself\u001b[0m\u001b[0;34m.\u001b[0m\u001b[0mstop_here\u001b[0m\u001b[0;34m(\u001b[0m\u001b[0mframe\u001b[0m\u001b[0;34m)\u001b[0m \u001b[0;32mor\u001b[0m \u001b[0mself\u001b[0m\u001b[0;34m.\u001b[0m\u001b[0mbreak_here\u001b[0m\u001b[0;34m(\u001b[0m\u001b[0mframe\u001b[0m\u001b[0;34m)\u001b[0m\u001b[0;34m:\u001b[0m\u001b[0;34m\u001b[0m\u001b[0m\n\u001b[1;32m     69\u001b[0m             \u001b[0mself\u001b[0m\u001b[0;34m.\u001b[0m\u001b[0muser_line\u001b[0m\u001b[0;34m(\u001b[0m\u001b[0mframe\u001b[0m\u001b[0;34m)\u001b[0m\u001b[0;34m\u001b[0m\u001b[0m\n\u001b[0;32m---> 70\u001b[0;31m             \u001b[0;32mif\u001b[0m \u001b[0mself\u001b[0m\u001b[0;34m.\u001b[0m\u001b[0mquitting\u001b[0m\u001b[0;34m:\u001b[0m \u001b[0;32mraise\u001b[0m \u001b[0mBdbQuit\u001b[0m\u001b[0;34m\u001b[0m\u001b[0m\n\u001b[0m\u001b[1;32m     71\u001b[0m         \u001b[0;32mreturn\u001b[0m \u001b[0mself\u001b[0m\u001b[0;34m.\u001b[0m\u001b[0mtrace_dispatch\u001b[0m\u001b[0;34m\u001b[0m\u001b[0m\n\u001b[1;32m     72\u001b[0m \u001b[0;34m\u001b[0m\u001b[0m\n",
      "\u001b[0;31mBdbQuit\u001b[0m: "
     ]
    }
   ],
   "source": [
    "caliBrate.get_wv_calib()"
   ]
  },
  {
   "cell_type": "code",
   "execution_count": null,
   "metadata": {},
   "outputs": [],
   "source": [
    "caliBrate.wv_calib.keys()"
   ]
  },
  {
   "cell_type": "code",
   "execution_count": null,
   "metadata": {
    "collapsed": true
   },
   "outputs": [],
   "source": []
  },
  {
   "cell_type": "markdown",
   "metadata": {},
   "source": [
    "----"
   ]
  },
  {
   "cell_type": "markdown",
   "metadata": {},
   "source": [
    "## Wave Tilts"
   ]
  },
  {
   "cell_type": "code",
   "execution_count": null,
   "metadata": {},
   "outputs": [],
   "source": [
    "# Settings kludges\n",
    "tilt_settings = dict(tilts=settings.argflag['trace']['slits']['tilts'].copy(),\n",
    "                     masters=settings.argflag['reduce']['masters'])\n",
    "tilt_settings['tilts']['function'] = settings.argflag['trace']['slits']['function']"
   ]
  },
  {
   "cell_type": "code",
   "execution_count": null,
   "metadata": {
    "collapsed": true
   },
   "outputs": [],
   "source": [
    "# Instantiate\n",
    "waveTilts = wavetilts.WaveTilts(msarc, settings=tilt_settings,\n",
    "                                    det=det, setup=setup,\n",
    "                                    tslits_dict=tslits_dict, settings_det=settings_det,\n",
    "                                    pixlocn=pixlocn)"
   ]
  },
  {
   "cell_type": "code",
   "execution_count": null,
   "metadata": {
    "collapsed": true
   },
   "outputs": [],
   "source": [
    "# Run\n",
    "mstilts, wt_maskslits = waveTilts.run(maskslits=maskslits, wv_calib=wv_calib)"
   ]
  },
  {
   "cell_type": "code",
   "execution_count": null,
   "metadata": {
    "collapsed": true
   },
   "outputs": [],
   "source": [
    "waveTilts.show('fweight', slit=0)"
   ]
  },
  {
   "cell_type": "code",
   "execution_count": null,
   "metadata": {
    "collapsed": true
   },
   "outputs": [],
   "source": [
    "waveTilts.show('tilts', slit=0)"
   ]
  },
  {
   "cell_type": "markdown",
   "metadata": {},
   "source": [
    "----"
   ]
  },
  {
   "cell_type": "markdown",
   "metadata": {},
   "source": [
    "## Pixel Flat Field"
   ]
  },
  {
   "cell_type": "code",
   "execution_count": null,
   "metadata": {
    "collapsed": true
   },
   "outputs": [],
   "source": [
    "# Settings\n",
    "flat_settings = dict(flatfield=settings.argflag['reduce']['flatfield'].copy(),\n",
    "                     slitprofile=settings.argflag['reduce']['slitprofile'].copy(),\n",
    "                     combine=settings.argflag['pixelflat']['combine'].copy(),\n",
    "                     masters=settings.argflag['reduce']['masters'].copy(),\n",
    "                     detector=settings.spect[dnum])"
   ]
  },
  {
   "cell_type": "code",
   "execution_count": null,
   "metadata": {
    "collapsed": true
   },
   "outputs": [],
   "source": [
    "# Instantiate\n",
    "pixflat_image_files = arsort.list_of_files(fitstbl, 'pixelflat', sci_ID)\n",
    "flatField = flatfield.FlatField(file_list=pixflat_image_files, msbias=msbias,\n",
    "                                spectrograph=spectrograph,\n",
    "                                settings=flat_settings,\n",
    "                                tslits_dict=tslits_dict,\n",
    "                                tilts=mstilts, det=det, setup=setup,\n",
    "                                datasec_img=datasec_img)"
   ]
  },
  {
   "cell_type": "code",
   "execution_count": null,
   "metadata": {
    "collapsed": true
   },
   "outputs": [],
   "source": [
    "# Run\n",
    "mspixflatnrm, slitprof = flatField.run(armed=False)"
   ]
  },
  {
   "cell_type": "code",
   "execution_count": null,
   "metadata": {
    "collapsed": true
   },
   "outputs": [],
   "source": [
    "flatField.show('norm')"
   ]
  },
  {
   "cell_type": "markdown",
   "metadata": {},
   "source": [
    "----"
   ]
  },
  {
   "cell_type": "markdown",
   "metadata": {},
   "source": [
    "## Wavelength Image"
   ]
  },
  {
   "cell_type": "code",
   "execution_count": null,
   "metadata": {
    "collapsed": true
   },
   "outputs": [],
   "source": [
    "# Settings\n",
    "wvimg_settings = dict(masters=settings.argflag['reduce']['masters'].copy())"
   ]
  },
  {
   "cell_type": "code",
   "execution_count": null,
   "metadata": {
    "collapsed": true
   },
   "outputs": [],
   "source": [
    "# Instantiate\n",
    "waveImage = waveimage.WaveImage(mstilts, wv_calib, settings=wvimg_settings,\n",
    "                                    setup=setup, maskslits=maskslits,\n",
    "                                    slitpix=tslits_dict['slitpix'])"
   ]
  },
  {
   "cell_type": "code",
   "execution_count": null,
   "metadata": {
    "collapsed": true
   },
   "outputs": [],
   "source": [
    "# Build\n",
    "mswave = waveImage._build_wave()"
   ]
  },
  {
   "cell_type": "code",
   "execution_count": null,
   "metadata": {
    "collapsed": true
   },
   "outputs": [],
   "source": [
    "waveImage.show('wave')"
   ]
  },
  {
   "cell_type": "markdown",
   "metadata": {},
   "source": [
    "----"
   ]
  },
  {
   "cell_type": "markdown",
   "metadata": {},
   "source": [
    "## Science Image"
   ]
  },
  {
   "cell_type": "markdown",
   "metadata": {},
   "source": [
    "### File list"
   ]
  },
  {
   "cell_type": "code",
   "execution_count": null,
   "metadata": {
    "collapsed": true
   },
   "outputs": [],
   "source": [
    "sci_image_files = arsort.list_of_files(fitstbl, 'science', sci_ID)"
   ]
  },
  {
   "cell_type": "code",
   "execution_count": null,
   "metadata": {
    "collapsed": true
   },
   "outputs": [],
   "source": [
    "# Settings\n",
    "sci_settings = tsettings.copy()"
   ]
  },
  {
   "cell_type": "markdown",
   "metadata": {},
   "source": [
    "### Instantiate"
   ]
  },
  {
   "cell_type": "code",
   "execution_count": null,
   "metadata": {
    "collapsed": true
   },
   "outputs": [],
   "source": [
    "# Instantiate\n",
    "sciI = scienceimage.ScienceImage(file_list=sci_image_files, datasec_img=datasec_img,\n",
    "                                 bpm=msbpm, det=det, setup=setup, settings=sci_settings,\n",
    "                                 maskslits=maskslits, pixlocn=pixlocn, tslits_dict=tslits_dict,\n",
    "                                 tilts=mstilts, fitstbl=fitstbl, scidx=scidx)"
   ]
  },
  {
   "cell_type": "markdown",
   "metadata": {},
   "source": [
    "### Name, time"
   ]
  },
  {
   "cell_type": "code",
   "execution_count": null,
   "metadata": {
    "collapsed": true
   },
   "outputs": [],
   "source": [
    "# Names and time\n",
    "obstime, basename = sciI.init_time_names(settings.spect['mosaic']['camera'],\n",
    "                timeunit=settings.spect[\"fits\"][\"timeunit\"])\n",
    "basename"
   ]
  },
  {
   "cell_type": "markdown",
   "metadata": {},
   "source": [
    "### Process"
   ]
  },
  {
   "cell_type": "code",
   "execution_count": null,
   "metadata": {
    "collapsed": true
   },
   "outputs": [],
   "source": [
    "# Process (includes Variance image and CRs)\n",
    "dnoise = (settings_det['darkcurr'] * float(fitstbl[\"exptime\"][scidx])/3600.0)\n",
    "sciframe, rawvarframe, crmask = sciI._process(\n",
    "    msbias, mspixflatnrm, apply_gain=True, dnoise=dnoise)"
   ]
  },
  {
   "cell_type": "code",
   "execution_count": null,
   "metadata": {
    "collapsed": true
   },
   "outputs": [],
   "source": [
    "sciI.show('sci')"
   ]
  },
  {
   "cell_type": "markdown",
   "metadata": {},
   "source": [
    "### Global sky sub"
   ]
  },
  {
   "cell_type": "code",
   "execution_count": null,
   "metadata": {
    "collapsed": true
   },
   "outputs": [],
   "source": [
    "# Global skysub\n",
    "settings_skysub = {}\n",
    "settings_skysub['skysub'] = settings.argflag['reduce']['skysub'].copy()\n",
    "global_sky, modelvarframe = sciI.global_skysub(settings_skysub)"
   ]
  },
  {
   "cell_type": "code",
   "execution_count": null,
   "metadata": {
    "collapsed": true
   },
   "outputs": [],
   "source": [
    "sciI.show('skysub')"
   ]
  },
  {
   "cell_type": "markdown",
   "metadata": {},
   "source": [
    "### Find objects"
   ]
  },
  {
   "cell_type": "code",
   "execution_count": null,
   "metadata": {
    "collapsed": true
   },
   "outputs": [],
   "source": [
    "_, nobj = sciI.find_objects()"
   ]
  },
  {
   "cell_type": "markdown",
   "metadata": {},
   "source": [
    "### Repeat the last 2 steps"
   ]
  },
  {
   "cell_type": "code",
   "execution_count": null,
   "metadata": {
    "collapsed": true
   },
   "outputs": [],
   "source": [
    "# Mask the objects\n",
    "global_sky, modelvarframe = sciI.global_skysub(settings_skysub, use_tracemask=True)\n",
    "# Another round of finding objects\n",
    "_, nobj = sciI.find_objects()  "
   ]
  },
  {
   "cell_type": "markdown",
   "metadata": {},
   "source": [
    "### Extraction -- New algorithm in development"
   ]
  },
  {
   "cell_type": "code",
   "execution_count": null,
   "metadata": {
    "collapsed": true
   },
   "outputs": [],
   "source": [
    "specobjs, finalvar, finalsky = sciI.extraction(mswave)"
   ]
  },
  {
   "cell_type": "markdown",
   "metadata": {},
   "source": [
    "### Flexure"
   ]
  },
  {
   "cell_type": "code",
   "execution_count": null,
   "metadata": {
    "collapsed": true
   },
   "outputs": [],
   "source": [
    "flex_list = arwave.flexure_obj(\n",
    "    specobjs, maskslits, settings.argflag['reduce']['flexure']['method'],\n",
    "    spectrograph,\n",
    "    skyspec_fil = settings.argflag['reduce']['flexure']['spectrum'],\n",
    "    mxshft = settings.argflag['reduce']['flexure']['maxshift'])"
   ]
  },
  {
   "cell_type": "code",
   "execution_count": null,
   "metadata": {
    "collapsed": true
   },
   "outputs": [],
   "source": [
    "# QA \n",
    "arwave.flexure_qa(specobjs, maskslits, basename, det, flex_list)"
   ]
  },
  {
   "cell_type": "markdown",
   "metadata": {},
   "source": [
    "### Heliocentric (optional)"
   ]
  },
  {
   "cell_type": "code",
   "execution_count": null,
   "metadata": {
    "collapsed": true
   },
   "outputs": [],
   "source": [
    "vel, vel_corr = arwave.geomotion_correct(specobjs, maskslits, fitstbl, scidx,\n",
    "                                         obstime, settings.spect,\n",
    "                                         settings.argflag['reduce']['calibrate']['refframe'])"
   ]
  },
  {
   "cell_type": "code",
   "execution_count": null,
   "metadata": {
    "collapsed": true
   },
   "outputs": [],
   "source": [
    "sci_dict = {}\n",
    "sci_dict['meta'] = {}\n",
    "sci_dict['meta']['vel_corr'] = vel_corr"
   ]
  },
  {
   "cell_type": "markdown",
   "metadata": {},
   "source": [
    "----"
   ]
  },
  {
   "cell_type": "markdown",
   "metadata": {},
   "source": [
    "## Write"
   ]
  },
  {
   "cell_type": "markdown",
   "metadata": {},
   "source": [
    "### 1D spectra"
   ]
  },
  {
   "cell_type": "code",
   "execution_count": null,
   "metadata": {
    "collapsed": true
   },
   "outputs": [],
   "source": [
    "outfile = 'Science/spec1d_{:s}.fits'.format(basename)\n",
    "helio_dict = dict(refframe=settings.argflag['reduce']['calibrate']['refframe'],\n",
    "                  vel_correction=sci_dict['meta']['vel_corr'])\n",
    "arsave.save_1d_spectra_fits([specobjs], fitstbl[scidx], outfile,\n",
    "                                helio_dict=helio_dict, obs_dict=settings.spect['mosaic'])"
   ]
  },
  {
   "cell_type": "markdown",
   "metadata": {},
   "source": [
    "### 2D images"
   ]
  },
  {
   "cell_type": "code",
   "execution_count": null,
   "metadata": {
    "collapsed": true
   },
   "outputs": [],
   "source": [
    "# Write 2D images for the Science Frame\n",
    "arsave.save_2d_images(\n",
    "    sci_dict, fitstbl, scidx,\n",
    "    settings.spect['fits']['headext{0:02d}'.format(1)], setup,\n",
    "    settings.argflag['run']['directory']['master']+'_'+spectrograph, # MFDIR\n",
    "    'Science/',  basename)"
   ]
  },
  {
   "cell_type": "markdown",
   "metadata": {},
   "source": [
    "----"
   ]
  },
  {
   "cell_type": "markdown",
   "metadata": {},
   "source": [
    "## Fluxing (optional)"
   ]
  },
  {
   "cell_type": "markdown",
   "metadata": {},
   "source": [
    "### Reduce a standard star"
   ]
  },
  {
   "cell_type": "code",
   "execution_count": null,
   "metadata": {
    "collapsed": true
   },
   "outputs": [],
   "source": [
    "std_dict = {}\n",
    "# Reduce standard here; only legit if the mask is the same\n",
    "std_idx = arsort.ftype_indices(fitstbl, 'standard', sci_ID)[0]\n",
    "#\n",
    "std_image_files = arsort.list_of_files(fitstbl, 'standard', sci_ID)\n",
    "std_dict[std_idx] = {}\n",
    "\n",
    "# Instantiate for the Standard\n",
    "stdI = scienceimage.ScienceImage(file_list=std_image_files, datasec_img=datasec_img,\n",
    "                                 bpm=msbpm, det=det, setup=setup, settings=sci_settings,\n",
    "                                 maskslits=maskslits, pixlocn=pixlocn, tslits_dict=tslits_dict,\n",
    "                                 tilts=mstilts, fitstbl=fitstbl, scidx=std_idx,\n",
    "                                 objtype='standard')\n",
    "# Names and time\n",
    "_, std_basename = stdI.init_time_names(settings.spect['mosaic']['camera'],\n",
    "                                         timeunit=settings.spect[\"fits\"][\"timeunit\"])\n",
    "# Process (includes Variance image and CRs)\n",
    "stdframe, _, _ = stdI._process(msbias, mspixflatnrm, apply_gain=True, dnoise=dnoise)\n",
    "# Sky\n",
    "_ = stdI.global_skysub(settings_skysub)\n",
    "# Find objects\n",
    "_, nobj = stdI.find_objects()\n",
    "_ = stdI.global_skysub(settings_skysub, use_tracemask=True)\n",
    "# Extract\n",
    "stdobjs, _, _ = stdI.extraction(mswave)\n",
    "# Save for fluxing and output later\n",
    "std_dict[std_idx][det] = {}\n",
    "std_dict[std_idx][det]['basename'] = std_basename\n",
    "std_dict[std_idx][det]['specobjs'] = arutils.unravel_specobjs([stdobjs])\n"
   ]
  },
  {
   "cell_type": "markdown",
   "metadata": {},
   "source": [
    "### Sensitivity function"
   ]
  },
  {
   "cell_type": "code",
   "execution_count": null,
   "metadata": {
    "collapsed": true
   },
   "outputs": [],
   "source": [
    "# Settings\n",
    "fsettings = settings.spect.copy()\n",
    "fsettings['run'] = settings.argflag['run']\n",
    "fsettings['reduce'] = settings.argflag['reduce']"
   ]
  },
  {
   "cell_type": "code",
   "execution_count": null,
   "metadata": {
    "collapsed": true
   },
   "outputs": [],
   "source": [
    "# Build the list of stdobjs\n",
    "reload(fluxspec)\n",
    "all_std_objs = []\n",
    "for det in std_dict[std_idx].keys():\n",
    "    all_std_objs += std_dict[std_idx][det]['specobjs']\n",
    "FxSpec = fluxspec.FluxSpec(settings=fsettings, std_specobjs=all_std_objs,\n",
    "                           setup=setup)  # This takes the last setup run, which is as sensible as any..\n",
    "sensfunc = FxSpec.master(fitstbl[std_idx], save=False)"
   ]
  },
  {
   "cell_type": "code",
   "execution_count": null,
   "metadata": {
    "collapsed": true
   },
   "outputs": [],
   "source": [
    "all_std_objs"
   ]
  },
  {
   "cell_type": "code",
   "execution_count": null,
   "metadata": {
    "collapsed": true
   },
   "outputs": [],
   "source": [
    "# Show\n",
    "FxSpec.show_sensfunc()"
   ]
  },
  {
   "cell_type": "markdown",
   "metadata": {},
   "source": [
    "### Flux"
   ]
  },
  {
   "cell_type": "code",
   "execution_count": null,
   "metadata": {
    "collapsed": true
   },
   "outputs": [],
   "source": [
    "# Load\n",
    "sci_specobjs, sci_header = arload.load_specobj('Science/spec1d_OFF_J1044p6306_LRISr_2016Feb16T112439.fits')\n",
    "#\n",
    "FxSpec.sci_specobjs = sci_specobjs\n",
    "FxSpec.sci_header = sci_header\n",
    "# Flux\n",
    "FxSpec.flux_science()"
   ]
  },
  {
   "cell_type": "code",
   "execution_count": null,
   "metadata": {
    "collapsed": true
   },
   "outputs": [],
   "source": [
    "# Write\n",
    "FxSpec.write_science('Science/spec1d_OFF_J1044p6306_LRISr_2016Feb16T112439.fits')"
   ]
  },
  {
   "cell_type": "code",
   "execution_count": null,
   "metadata": {
    "collapsed": true
   },
   "outputs": [],
   "source": []
  }
 ],
 "metadata": {
  "kernelspec": {
   "display_name": "Python 3",
   "language": "python",
   "name": "python3"
  },
  "language_info": {
   "codemirror_mode": {
    "name": "ipython",
    "version": 3
   },
   "file_extension": ".py",
   "mimetype": "text/x-python",
   "name": "python",
   "nbconvert_exporter": "python",
   "pygments_lexer": "ipython3",
   "version": "3.6.5"
  }
 },
 "nbformat": 4,
 "nbformat_minor": 2
}
