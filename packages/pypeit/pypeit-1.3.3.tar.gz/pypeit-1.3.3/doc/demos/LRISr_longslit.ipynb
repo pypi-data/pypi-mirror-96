{
 "cells": [
  {
   "cell_type": "markdown",
   "metadata": {},
   "source": [
    "# Demo of PYPIT on LRISr Longslit [v1.1]"
   ]
  },
  {
   "cell_type": "code",
   "execution_count": 1,
   "metadata": {
    "collapsed": true
   },
   "outputs": [],
   "source": [
    "# import\n",
    "from importlib import reload\n",
    "import os\n",
    "import glob\n",
    "import numpy as np\n",
    "\n",
    "# A few core routines\n",
    "from pypit.core import arsetup\n",
    "from pypit.core import arsort\n",
    "from pypit import arpixels\n",
    "from pypit.core import arprocimg\n",
    "from pypit.core import arwave\n",
    "from pypit.core import arsave\n",
    "from pypit import arutils\n",
    "from pypit import arload\n",
    "\n",
    "# Classes\n",
    "from pypit import arcimage\n",
    "from pypit import biasframe\n",
    "from pypit import bpmimage\n",
    "from pypit import flatfield\n",
    "from pypit import fluxspec\n",
    "from pypit import pypitsetup\n",
    "from pypit import scienceimage\n",
    "from pypit import traceimage\n",
    "from pypit import traceslits\n",
    "from pypit import wavecalib\n",
    "from pypit import waveimage\n",
    "from pypit import wavetilts"
   ]
  },
  {
   "cell_type": "markdown",
   "metadata": {},
   "source": [
    "## To play along, you need the Development suite and the $PYPIT_DEV environmental variable pointed at it"
   ]
  },
  {
   "cell_type": "code",
   "execution_count": 2,
   "metadata": {},
   "outputs": [
    {
     "data": {
      "text/plain": [
       "'/home/xavier/local/Python/PYPIT-development-suite/'"
      ]
     },
     "execution_count": 2,
     "metadata": {},
     "output_type": "execute_result"
    }
   ],
   "source": [
    "os.getenv('PYPIT_DEV')"
   ]
  },
  {
   "cell_type": "markdown",
   "metadata": {},
   "source": [
    "## Kuldge for settings"
   ]
  },
  {
   "cell_type": "code",
   "execution_count": 3,
   "metadata": {
    "collapsed": true
   },
   "outputs": [],
   "source": [
    "spectrograph='keck_lris_red'"
   ]
  },
  {
   "cell_type": "code",
   "execution_count": 4,
   "metadata": {},
   "outputs": [
    {
     "name": "stderr",
     "output_type": "stream",
     "text": [
      "\u001b[1;32m[INFO]    ::\u001b[0m \u001b[1;34marparse.py 75 load_file()\u001b[0m - Loading default settings\n",
      "\u001b[1;32m[INFO]    ::\u001b[0m \u001b[1;34marparse.py 87 load_file()\u001b[0m - Loading base settings from settings.baseargflag\n",
      "\u001b[1;32m[INFO]    ::\u001b[0m \u001b[1;34marparse.py 1393 run_ncpus()\u001b[0m - Setting 7 CPUs\n",
      "\u001b[1;32m[INFO]    ::\u001b[0m \u001b[1;34marparse.py 75 load_file()\u001b[0m - Loading default settings\n",
      "\u001b[1;32m[INFO]    ::\u001b[0m \u001b[1;34marparse.py 75 load_file()\u001b[0m - Loading default settings\n",
      "\u001b[1;32m[INFO]    ::\u001b[0m \u001b[1;34marparse.py 87 load_file()\u001b[0m - Loading base settings from settings.basespect\n",
      "\u001b[1;32m[INFO]    ::\u001b[0m \u001b[1;34marparse.py 75 load_file()\u001b[0m - Loading default settings\n",
      "\u001b[1;32m[INFO]    ::\u001b[0m \u001b[1;34marparse.py 75 load_file()\u001b[0m - Loading default settings\n",
      "\u001b[1;32m[INFO]    ::\u001b[0m \u001b[1;34marparse.py 87 load_file()\u001b[0m - Loading base settings from settings.basespect\n",
      "\u001b[1;32m[INFO]    ::\u001b[0m \u001b[1;34marparse.py 75 load_file()\u001b[0m - Loading default settings\n"
     ]
    }
   ],
   "source": [
    "from pypit import arparse as settings\n",
    "settings.dummy_settings(spectrograph=spectrograph)\n",
    "settings.argflag['reduce']['masters']['setup'] = 'C_01_aa'\n",
    "#\n",
    "# Load default spectrograph settings\n",
    "spect = settings.get_spect_class(('ARMS', 'keck_lris_red', 'pypit'))# '.'.join(redname.split('.')[:-1])))\n",
    "lines = spect.load_file(base=True)  # Base spectrograph settings\n",
    "spect.set_paramlist(lines)\n",
    "lines = spect.load_file()  # Instrument specific\n",
    "spect.set_paramlist(lines)"
   ]
  },
  {
   "cell_type": "markdown",
   "metadata": {},
   "source": [
    "## Build the fitstbl"
   ]
  },
  {
   "cell_type": "code",
   "execution_count": 5,
   "metadata": {},
   "outputs": [
    {
     "data": {
      "text/plain": [
       "23"
      ]
     },
     "execution_count": 5,
     "metadata": {},
     "output_type": "execute_result"
    }
   ],
   "source": [
    "keck_lris_files = glob.glob(os.getenv('PYPIT_DEV')+'RAW_DATA/Keck_LRIS_red/long_600_7500_d560/LR*')\n",
    "len(keck_lris_files)"
   ]
  },
  {
   "cell_type": "code",
   "execution_count": 6,
   "metadata": {
    "collapsed": true
   },
   "outputs": [],
   "source": [
    "# Init\n",
    "setupc = pypitsetup.PypitSetup(settings.argflag, settings.spect)"
   ]
  },
  {
   "cell_type": "code",
   "execution_count": 7,
   "metadata": {},
   "outputs": [
    {
     "name": "stderr",
     "output_type": "stream",
     "text": [
      "\u001b[1;31m[WARNING] ::\u001b[0m \u001b[1;34marload.py 159 load_headers()\u001b[0m - TARGNAME keyword not in header. Setting to None\n",
      "\u001b[1;31m[WARNING] ::\u001b[0m \u001b[1;34marload.py 159 load_headers()\u001b[0m - RA keyword not in header. Setting to None\n",
      "\u001b[1;32m[INFO]    ::\u001b[0m \u001b[1;34marload.py 194 load_headers()\u001b[0m - Successfully loaded headers for file:\n",
      "             /home/xavier/local/Python/PYPIT-development-suite/RAW_DATA/Keck_LRIS_red/long_600_7500_d560/LR.20160216.05709.fits\n",
      "\u001b[1;32m[INFO]    ::\u001b[0m \u001b[1;34marload.py 194 load_headers()\u001b[0m - Successfully loaded headers for file:\n",
      "             /home/xavier/local/Python/PYPIT-development-suite/RAW_DATA/Keck_LRIS_red/long_600_7500_d560/LR.20160216.14244.fits\n",
      "\u001b[1;32m[INFO]    ::\u001b[0m \u001b[1;34marload.py 194 load_headers()\u001b[0m - Successfully loaded headers for file:\n",
      "             /home/xavier/local/Python/PYPIT-development-suite/RAW_DATA/Keck_LRIS_red/long_600_7500_d560/LR.20160216.05649.fits\n",
      "\u001b[1;32m[INFO]    ::\u001b[0m \u001b[1;34marload.py 194 load_headers()\u001b[0m - Successfully loaded headers for file:\n",
      "             /home/xavier/local/Python/PYPIT-development-suite/RAW_DATA/Keck_LRIS_red/long_600_7500_d560/LR.20160216.07587.fits\n",
      "\u001b[1;31m[WARNING] ::\u001b[0m \u001b[1;34marload.py 159 load_headers()\u001b[0m - TARGNAME keyword not in header. Setting to None\n",
      "\u001b[1;32m[INFO]    ::\u001b[0m \u001b[1;34marload.py 194 load_headers()\u001b[0m - Successfully loaded headers for file:\n",
      "             /home/xavier/local/Python/PYPIT-development-suite/RAW_DATA/Keck_LRIS_red/long_600_7500_d560/LR.20160216.07348.fits\n",
      "\u001b[1;32m[INFO]    ::\u001b[0m \u001b[1;34marload.py 194 load_headers()\u001b[0m - Successfully loaded headers for file:\n",
      "             /home/xavier/local/Python/PYPIT-development-suite/RAW_DATA/Keck_LRIS_red/long_600_7500_d560/LR.20160216.07529.fits\n",
      "\u001b[1;32m[INFO]    ::\u001b[0m \u001b[1;34marload.py 194 load_headers()\u001b[0m - Successfully loaded headers for file:\n",
      "             /home/xavier/local/Python/PYPIT-development-suite/RAW_DATA/Keck_LRIS_red/long_600_7500_d560/LR.20160216.05529.fits\n",
      "\u001b[1;32m[INFO]    ::\u001b[0m \u001b[1;34marload.py 194 load_headers()\u001b[0m - Successfully loaded headers for file:\n",
      "             /home/xavier/local/Python/PYPIT-development-suite/RAW_DATA/Keck_LRIS_red/long_600_7500_d560/LR.20160216.40478.fits\n",
      "\u001b[1;32m[INFO]    ::\u001b[0m \u001b[1;34marload.py 194 load_headers()\u001b[0m - Successfully loaded headers for file:\n",
      "             /home/xavier/local/Python/PYPIT-development-suite/RAW_DATA/Keck_LRIS_red/long_600_7500_d560/LR.20160216.14090.fits\n",
      "\u001b[1;32m[INFO]    ::\u001b[0m \u001b[1;34marload.py 194 load_headers()\u001b[0m - Successfully loaded headers for file:\n",
      "             /home/xavier/local/Python/PYPIT-development-suite/RAW_DATA/Keck_LRIS_red/long_600_7500_d560/LR.20160216.07762.fits\n",
      "\u001b[1;32m[INFO]    ::\u001b[0m \u001b[1;34marload.py 194 load_headers()\u001b[0m - Successfully loaded headers for file:\n",
      "             /home/xavier/local/Python/PYPIT-development-suite/RAW_DATA/Keck_LRIS_red/long_600_7500_d560/LR.20160216.07646.fits\n",
      "\u001b[1;32m[INFO]    ::\u001b[0m \u001b[1;34marload.py 194 load_headers()\u001b[0m - Successfully loaded headers for file:\n",
      "             /home/xavier/local/Python/PYPIT-development-suite/RAW_DATA/Keck_LRIS_red/long_600_7500_d560/LR.20160216.14399.fits\n",
      "\u001b[1;32m[INFO]    ::\u001b[0m \u001b[1;34marload.py 194 load_headers()\u001b[0m - Successfully loaded headers for file:\n",
      "             /home/xavier/local/Python/PYPIT-development-suite/RAW_DATA/Keck_LRIS_red/long_600_7500_d560/LR.20160216.07820.fits\n",
      "\u001b[1;32m[INFO]    ::\u001b[0m \u001b[1;34marload.py 194 load_headers()\u001b[0m - Successfully loaded headers for file:\n",
      "             /home/xavier/local/Python/PYPIT-development-suite/RAW_DATA/Keck_LRIS_red/long_600_7500_d560/LR.20160216.07937.fits\n",
      "\u001b[1;32m[INFO]    ::\u001b[0m \u001b[1;34marload.py 194 load_headers()\u001b[0m - Successfully loaded headers for file:\n",
      "             /home/xavier/local/Python/PYPIT-development-suite/RAW_DATA/Keck_LRIS_red/long_600_7500_d560/LR.20160216.07878.fits\n",
      "\u001b[1;32m[INFO]    ::\u001b[0m \u001b[1;34marload.py 194 load_headers()\u001b[0m - Successfully loaded headers for file:\n",
      "             /home/xavier/local/Python/PYPIT-development-suite/RAW_DATA/Keck_LRIS_red/long_600_7500_d560/LR.20160216.05589.fits\n",
      "\u001b[1;32m[INFO]    ::\u001b[0m \u001b[1;34marload.py 194 load_headers()\u001b[0m - Successfully loaded headers for file:\n",
      "             /home/xavier/local/Python/PYPIT-development-suite/RAW_DATA/Keck_LRIS_red/long_600_7500_d560/LR.20160216.07412.fits\n",
      "\u001b[1;32m[INFO]    ::\u001b[0m \u001b[1;34marload.py 194 load_headers()\u001b[0m - Successfully loaded headers for file:\n",
      "             /home/xavier/local/Python/PYPIT-development-suite/RAW_DATA/Keck_LRIS_red/long_600_7500_d560/LR.20160216.14322.fits\n",
      "\u001b[1;32m[INFO]    ::\u001b[0m \u001b[1;34marload.py 194 load_headers()\u001b[0m - Successfully loaded headers for file:\n",
      "             /home/xavier/local/Python/PYPIT-development-suite/RAW_DATA/Keck_LRIS_red/long_600_7500_d560/LR.20160216.13991.fits\n",
      "\u001b[1;32m[INFO]    ::\u001b[0m \u001b[1;34marload.py 194 load_headers()\u001b[0m - Successfully loaded headers for file:\n",
      "             /home/xavier/local/Python/PYPIT-development-suite/RAW_DATA/Keck_LRIS_red/long_600_7500_d560/LR.20160216.07703.fits\n",
      "\u001b[1;32m[INFO]    ::\u001b[0m \u001b[1;34marload.py 194 load_headers()\u001b[0m - Successfully loaded headers for file:\n",
      "             /home/xavier/local/Python/PYPIT-development-suite/RAW_DATA/Keck_LRIS_red/long_600_7500_d560/LR.20160216.14167.fits\n",
      "\u001b[1;32m[INFO]    ::\u001b[0m \u001b[1;34marload.py 194 load_headers()\u001b[0m - Successfully loaded headers for file:\n",
      "             /home/xavier/local/Python/PYPIT-development-suite/RAW_DATA/Keck_LRIS_red/long_600_7500_d560/LR.20160216.07470.fits\n",
      "\u001b[1;32m[INFO]    ::\u001b[0m \u001b[1;34marload.py 194 load_headers()\u001b[0m - Successfully loaded headers for file:\n",
      "             /home/xavier/local/Python/PYPIT-development-suite/RAW_DATA/Keck_LRIS_red/long_600_7500_d560/LR.20160216.17613.fits\n",
      "\u001b[1;32m[INFO]    ::\u001b[0m \u001b[1;34marload.py 197 load_headers()\u001b[0m - Checking spectrograph settings for required header information\n",
      "\u001b[1;32m[INFO]    ::\u001b[0m \u001b[1;34marload.py 206 load_headers()\u001b[0m - Headers loaded for 23 files successfully\n"
     ]
    }
   ],
   "source": [
    "fitstbl = setupc.build_fitstbl(keck_lris_files)"
   ]
  },
  {
   "cell_type": "code",
   "execution_count": 8,
   "metadata": {},
   "outputs": [
    {
     "data": {
      "text/html": [
       "<i>Table length=5</i>\n",
       "<table id=\"table140122373421992\" class=\"table-striped table-bordered table-condensed\">\n",
       "<thead><tr><th>directory</th><th>filename</th><th>utc</th><th>target</th><th>idname</th><th>time</th><th>date</th><th>equinox</th><th>ra</th><th>dec</th><th>airmass</th><th>naxis0</th><th>naxis1</th><th>binning</th><th>exptime</th><th>filter1</th><th>filter2</th><th>hatch</th><th>shutopen</th><th>shutclose</th><th>decker</th><th>lamps</th><th>slitwid</th><th>slitlen</th><th>detrot</th><th>dichroic</th><th>dispname</th><th>dispangle</th><th>lampname01</th><th>lampstat01</th><th>lampname02</th><th>lampstat02</th><th>lampname03</th><th>lampstat03</th><th>lampname04</th><th>lampstat04</th><th>lampname05</th><th>lampstat05</th><th>lampname06</th><th>lampstat06</th><th>lampname07</th><th>lampstat07</th><th>lampname08</th><th>lampstat08</th><th>lampname09</th><th>lampstat09</th><th>lampname10</th><th>lampstat10</th><th>lampname11</th><th>lampstat11</th><th>lampname12</th><th>lampstat12</th><th>wavecen</th><th>instrume</th></tr></thead>\n",
       "<thead><tr><th>str92</th><th>str22</th><th>str11</th><th>str14</th><th>str4</th><th>float64</th><th>str19</th><th>str4</th><th>str11</th><th>str11</th><th>float64</th><th>str4</th><th>str4</th><th>str3</th><th>int64</th><th>str5</th><th>str4</th><th>str6</th><th>str4</th><th>str4</th><th>str8</th><th>str4</th><th>str4</th><th>str4</th><th>str4</th><th>str3</th><th>str8</th><th>float64</th><th>str7</th><th>str3</th><th>str4</th><th>str3</th><th>str5</th><th>str3</th><th>str7</th><th>str3</th><th>str4</th><th>str3</th><th>str7</th><th>str3</th><th>str5</th><th>str3</th><th>str7</th><th>str3</th><th>str9</th><th>str3</th><th>str6</th><th>str3</th><th>str6</th><th>str3</th><th>str7</th><th>str3</th><th>float64</th><th>str13</th></tr></thead>\n",
       "<tr><td>/home/xavier/local/Python/PYPIT-development-suite/RAW_DATA/Keck_LRIS_red/long_600_7500_d560/</td><td>LR.20160216.05529.fits</td><td>01:32:09.90</td><td></td><td>dark</td><td>1378417.5361</td><td>2016-02-16T01:32:11</td><td>None</td><td>00:00:00.00</td><td>+00:00:00.0</td><td>1.41294028</td><td>None</td><td>None</td><td>2,2</td><td>1</td><td>clear</td><td>None</td><td>closed</td><td>None</td><td>None</td><td>long_0.7</td><td>None</td><td>None</td><td>None</td><td>None</td><td>560</td><td>600/7500</td><td>27.0812645</td><td>MERCURY</td><td>on</td><td>NEON</td><td>on</td><td>ARGON</td><td>on</td><td>CADMIUM</td><td>on</td><td>ZINC</td><td>on</td><td>KRYPTON</td><td>on</td><td>XENON</td><td>on</td><td>FEARGON</td><td>off</td><td>DEUTERIUM</td><td>off</td><td>FLAMP1</td><td>off</td><td>FLAMP2</td><td>off</td><td>HALOGEN</td><td>off</td><td>7150.0078125</td><td>keck_lris_red</td></tr>\n",
       "<tr><td>/home/xavier/local/Python/PYPIT-development-suite/RAW_DATA/Keck_LRIS_red/long_600_7500_d560/</td><td>LR.20160216.05589.fits</td><td>01:33:09.40</td><td></td><td>dark</td><td>1378417.55263</td><td>2016-02-16T01:33:11</td><td>None</td><td>00:00:00.00</td><td>+00:00:00.0</td><td>1.41294028</td><td>None</td><td>None</td><td>2,2</td><td>1</td><td>clear</td><td>None</td><td>closed</td><td>None</td><td>None</td><td>long_0.7</td><td>None</td><td>None</td><td>None</td><td>None</td><td>560</td><td>600/7500</td><td>27.0812645</td><td>MERCURY</td><td>on</td><td>NEON</td><td>on</td><td>ARGON</td><td>on</td><td>CADMIUM</td><td>on</td><td>ZINC</td><td>on</td><td>KRYPTON</td><td>on</td><td>XENON</td><td>on</td><td>FEARGON</td><td>off</td><td>DEUTERIUM</td><td>off</td><td>FLAMP1</td><td>off</td><td>FLAMP2</td><td>off</td><td>HALOGEN</td><td>off</td><td>7150.0078125</td><td>keck_lris_red</td></tr>\n",
       "<tr><td>/home/xavier/local/Python/PYPIT-development-suite/RAW_DATA/Keck_LRIS_red/long_600_7500_d560/</td><td>LR.20160216.05649.fits</td><td>01:34:09.64</td><td></td><td>dark</td><td>1378417.56936</td><td>2016-02-16T01:34:11</td><td>None</td><td>00:00:00.00</td><td>+00:00:00.0</td><td>1.41294028</td><td>None</td><td>None</td><td>2,2</td><td>1</td><td>clear</td><td>None</td><td>closed</td><td>None</td><td>None</td><td>long_0.7</td><td>None</td><td>None</td><td>None</td><td>None</td><td>560</td><td>600/7500</td><td>27.0812645</td><td>MERCURY</td><td>on</td><td>NEON</td><td>on</td><td>ARGON</td><td>on</td><td>CADMIUM</td><td>on</td><td>ZINC</td><td>on</td><td>KRYPTON</td><td>on</td><td>XENON</td><td>on</td><td>FEARGON</td><td>off</td><td>DEUTERIUM</td><td>off</td><td>FLAMP1</td><td>off</td><td>FLAMP2</td><td>off</td><td>HALOGEN</td><td>off</td><td>7150.0078125</td><td>keck_lris_red</td></tr>\n",
       "<tr><td>/home/xavier/local/Python/PYPIT-development-suite/RAW_DATA/Keck_LRIS_red/long_600_7500_d560/</td><td>LR.20160216.05709.fits</td><td>01:35:09.44</td><td>None</td><td>dark</td><td>1378417.58597</td><td>2016-02-16T01:35:11</td><td>None</td><td>None</td><td>+00:00:00.0</td><td>1.41294028</td><td>None</td><td>None</td><td>2,2</td><td>1</td><td>clear</td><td>None</td><td>closed</td><td>None</td><td>None</td><td>long_0.7</td><td>None</td><td>None</td><td>None</td><td>None</td><td>560</td><td>600/7500</td><td>27.0812645</td><td>MERCURY</td><td>on</td><td>NEON</td><td>on</td><td>ARGON</td><td>on</td><td>CADMIUM</td><td>on</td><td>ZINC</td><td>on</td><td>KRYPTON</td><td>on</td><td>XENON</td><td>on</td><td>FEARGON</td><td>off</td><td>DEUTERIUM</td><td>off</td><td>FLAMP1</td><td>off</td><td>FLAMP2</td><td>off</td><td>HALOGEN</td><td>off</td><td>7150.0078125</td><td>keck_lris_red</td></tr>\n",
       "<tr><td>/home/xavier/local/Python/PYPIT-development-suite/RAW_DATA/Keck_LRIS_red/long_600_7500_d560/</td><td>LR.20160216.07348.fits</td><td>02:02:28.34</td><td>None</td><td>dark</td><td>1378418.04122</td><td>2016-02-16T02:02:28</td><td>None</td><td>15:20:00.00</td><td>+45:00:00.0</td><td>1.41309745</td><td>None</td><td>None</td><td>2,2</td><td>0</td><td>clear</td><td>None</td><td>closed</td><td>None</td><td>None</td><td>long_0.7</td><td>None</td><td>None</td><td>None</td><td>None</td><td>560</td><td>600/7500</td><td>27.0812645</td><td>MERCURY</td><td>off</td><td>NEON</td><td>off</td><td>ARGON</td><td>off</td><td>CADMIUM</td><td>off</td><td>ZINC</td><td>off</td><td>KRYPTON</td><td>off</td><td>XENON</td><td>off</td><td>FEARGON</td><td>off</td><td>DEUTERIUM</td><td>off</td><td>FLAMP1</td><td>off</td><td>FLAMP2</td><td>off</td><td>HALOGEN</td><td>on</td><td>7150.0078125</td><td>keck_lris_red</td></tr>\n",
       "</table>"
      ],
      "text/plain": [
       "<Table length=5>\n",
       "                                         directory                                           ...\n",
       "                                           str92                                             ...\n",
       "-------------------------------------------------------------------------------------------- ...\n",
       "/home/xavier/local/Python/PYPIT-development-suite/RAW_DATA/Keck_LRIS_red/long_600_7500_d560/ ...\n",
       "/home/xavier/local/Python/PYPIT-development-suite/RAW_DATA/Keck_LRIS_red/long_600_7500_d560/ ...\n",
       "/home/xavier/local/Python/PYPIT-development-suite/RAW_DATA/Keck_LRIS_red/long_600_7500_d560/ ...\n",
       "/home/xavier/local/Python/PYPIT-development-suite/RAW_DATA/Keck_LRIS_red/long_600_7500_d560/ ...\n",
       "/home/xavier/local/Python/PYPIT-development-suite/RAW_DATA/Keck_LRIS_red/long_600_7500_d560/ ..."
      ]
     },
     "execution_count": 8,
     "metadata": {},
     "output_type": "execute_result"
    }
   ],
   "source": [
    "fitstbl[0:5]"
   ]
  },
  {
   "cell_type": "markdown",
   "metadata": {},
   "source": [
    "## Image type\n",
    "    Classifies the images\n",
    "    Adds image type columns to the fitstbl"
   ]
  },
  {
   "cell_type": "code",
   "execution_count": 9,
   "metadata": {},
   "outputs": [
    {
     "name": "stderr",
     "output_type": "stream",
     "text": [
      "\u001b[1;32m[INFO]    ::\u001b[0m \u001b[1;34marsort.py 110 type_data()\u001b[0m - Typing files\n",
      "\u001b[1;32m[INFO]    ::\u001b[0m \u001b[1;34marsort.py 169 type_data()\u001b[0m - Making forced file identification changes\n",
      "\u001b[1;31m[WARNING] ::\u001b[0m \u001b[1;34marsort.py 170 type_data()\u001b[0m - Note that the image will have *only* the specified type\n",
      "\u001b[1;32m[INFO]    ::\u001b[0m \u001b[1;34marsort.py 188 type_data()\u001b[0m - Couldn't identify the following files:\n",
      "\u001b[1;32m[INFO]    ::\u001b[0m \u001b[1;34marsort.py 190 type_data()\u001b[0m - LR.20160216.07348.fits\n",
      "\u001b[1;32m[INFO]    ::\u001b[0m \u001b[1;34marsort.py 202 type_data()\u001b[0m - Typing completed!\n",
      "\u001b[1;32m[INFO]    ::\u001b[0m \u001b[1;34mpypitsetup.py 228 type_data()\u001b[0m - Adding file type information to the fitstbl\n"
     ]
    }
   ],
   "source": [
    "filetypes = setupc.type_data(flag_unknown=True)"
   ]
  },
  {
   "cell_type": "markdown",
   "metadata": {},
   "source": [
    "### Show"
   ]
  },
  {
   "cell_type": "code",
   "execution_count": 10,
   "metadata": {},
   "outputs": [
    {
     "data": {
      "text/html": [
       "<i>Table length=23</i>\n",
       "<table id=\"table140122373288288\" class=\"table-striped table-bordered table-condensed\">\n",
       "<thead><tr><th>filename</th><th>arc</th><th>bias</th><th>pixelflat</th><th>science</th><th>standard</th><th>unknown</th></tr></thead>\n",
       "<thead><tr><th>str22</th><th>bool</th><th>bool</th><th>bool</th><th>bool</th><th>bool</th><th>bool</th></tr></thead>\n",
       "<tr><td>LR.20160216.05529.fits</td><td>True</td><td>False</td><td>False</td><td>False</td><td>False</td><td>False</td></tr>\n",
       "<tr><td>LR.20160216.05589.fits</td><td>True</td><td>False</td><td>False</td><td>False</td><td>False</td><td>False</td></tr>\n",
       "<tr><td>LR.20160216.05649.fits</td><td>True</td><td>False</td><td>False</td><td>False</td><td>False</td><td>False</td></tr>\n",
       "<tr><td>LR.20160216.05709.fits</td><td>True</td><td>False</td><td>False</td><td>False</td><td>False</td><td>False</td></tr>\n",
       "<tr><td>LR.20160216.07348.fits</td><td>False</td><td>False</td><td>False</td><td>False</td><td>False</td><td>True</td></tr>\n",
       "<tr><td>LR.20160216.07412.fits</td><td>False</td><td>True</td><td>False</td><td>False</td><td>False</td><td>False</td></tr>\n",
       "<tr><td>LR.20160216.07470.fits</td><td>False</td><td>True</td><td>False</td><td>False</td><td>False</td><td>False</td></tr>\n",
       "<tr><td>LR.20160216.07529.fits</td><td>False</td><td>True</td><td>False</td><td>False</td><td>False</td><td>False</td></tr>\n",
       "<tr><td>LR.20160216.07587.fits</td><td>False</td><td>True</td><td>False</td><td>False</td><td>False</td><td>False</td></tr>\n",
       "<tr><td>LR.20160216.07646.fits</td><td>False</td><td>True</td><td>False</td><td>False</td><td>False</td><td>False</td></tr>\n",
       "<tr><td>...</td><td>...</td><td>...</td><td>...</td><td>...</td><td>...</td><td>...</td></tr>\n",
       "<tr><td>LR.20160216.07878.fits</td><td>False</td><td>True</td><td>False</td><td>False</td><td>False</td><td>False</td></tr>\n",
       "<tr><td>LR.20160216.07937.fits</td><td>False</td><td>True</td><td>False</td><td>False</td><td>False</td><td>False</td></tr>\n",
       "<tr><td>LR.20160216.13991.fits</td><td>False</td><td>False</td><td>True</td><td>False</td><td>False</td><td>False</td></tr>\n",
       "<tr><td>LR.20160216.14090.fits</td><td>False</td><td>False</td><td>True</td><td>False</td><td>False</td><td>False</td></tr>\n",
       "<tr><td>LR.20160216.14167.fits</td><td>False</td><td>False</td><td>True</td><td>False</td><td>False</td><td>False</td></tr>\n",
       "<tr><td>LR.20160216.14244.fits</td><td>False</td><td>False</td><td>True</td><td>False</td><td>False</td><td>False</td></tr>\n",
       "<tr><td>LR.20160216.14322.fits</td><td>False</td><td>False</td><td>True</td><td>False</td><td>False</td><td>False</td></tr>\n",
       "<tr><td>LR.20160216.14399.fits</td><td>False</td><td>False</td><td>True</td><td>False</td><td>False</td><td>False</td></tr>\n",
       "<tr><td>LR.20160216.17613.fits</td><td>False</td><td>False</td><td>False</td><td>False</td><td>True</td><td>False</td></tr>\n",
       "<tr><td>LR.20160216.40478.fits</td><td>False</td><td>False</td><td>False</td><td>True</td><td>False</td><td>False</td></tr>\n",
       "</table>"
      ],
      "text/plain": [
       "<Table length=23>\n",
       "       filename         arc   bias pixelflat science standard unknown\n",
       "        str22           bool  bool    bool     bool    bool     bool \n",
       "---------------------- ----- ----- --------- ------- -------- -------\n",
       "LR.20160216.05529.fits  True False     False   False    False   False\n",
       "LR.20160216.05589.fits  True False     False   False    False   False\n",
       "LR.20160216.05649.fits  True False     False   False    False   False\n",
       "LR.20160216.05709.fits  True False     False   False    False   False\n",
       "LR.20160216.07348.fits False False     False   False    False    True\n",
       "LR.20160216.07412.fits False  True     False   False    False   False\n",
       "LR.20160216.07470.fits False  True     False   False    False   False\n",
       "LR.20160216.07529.fits False  True     False   False    False   False\n",
       "LR.20160216.07587.fits False  True     False   False    False   False\n",
       "LR.20160216.07646.fits False  True     False   False    False   False\n",
       "                   ...   ...   ...       ...     ...      ...     ...\n",
       "LR.20160216.07878.fits False  True     False   False    False   False\n",
       "LR.20160216.07937.fits False  True     False   False    False   False\n",
       "LR.20160216.13991.fits False False      True   False    False   False\n",
       "LR.20160216.14090.fits False False      True   False    False   False\n",
       "LR.20160216.14167.fits False False      True   False    False   False\n",
       "LR.20160216.14244.fits False False      True   False    False   False\n",
       "LR.20160216.14322.fits False False      True   False    False   False\n",
       "LR.20160216.14399.fits False False      True   False    False   False\n",
       "LR.20160216.17613.fits False False     False   False     True   False\n",
       "LR.20160216.40478.fits False False     False    True    False   False"
      ]
     },
     "execution_count": 10,
     "metadata": {},
     "output_type": "execute_result"
    }
   ],
   "source": [
    "setupc.fitstbl[['filename','arc','bias','pixelflat','science','standard','unknown' ]]"
   ]
  },
  {
   "cell_type": "markdown",
   "metadata": {},
   "source": [
    "## Match to science"
   ]
  },
  {
   "cell_type": "code",
   "execution_count": 11,
   "metadata": {},
   "outputs": [
    {
     "name": "stderr",
     "output_type": "stream",
     "text": [
      "\u001b[1;32m[INFO]    ::\u001b[0m \u001b[1;34marsort.py 964 match_to_science()\u001b[0m - Matching calibrations to Science frames\n",
      "\u001b[1;32m[INFO]    ::\u001b[0m \u001b[1;34marsort.py 973 match_to_science()\u001b[0m - =================================================\n",
      "\u001b[1;32m[INFO]    ::\u001b[0m \u001b[1;34marsort.py 975 match_to_science()\u001b[0m - Matching calibrations to OFF_J1044p6306: LR.20160216.40478.fits\n",
      "\u001b[1;32m[INFO]    ::\u001b[0m \u001b[1;34marsort.py 1025 match_to_science()\u001b[0m -   Found 4 arc frame for OFF_J1044p6306 (1 required)\n",
      "\u001b[1;32m[INFO]    ::\u001b[0m \u001b[1;34marsort.py 1025 match_to_science()\u001b[0m -   Found 10 bias frame for OFF_J1044p6306 (5 required)\n",
      "\u001b[1;32m[INFO]    ::\u001b[0m \u001b[1;34marsort.py 988 match_to_science()\u001b[0m -   Dark frames not required.  Not matching..\n",
      "\u001b[1;32m[INFO]    ::\u001b[0m \u001b[1;34marsort.py 1002 match_to_science()\u001b[0m -    No pinhole frames are required.  Not matching..\n",
      "\u001b[1;32m[INFO]    ::\u001b[0m \u001b[1;34marsort.py 1025 match_to_science()\u001b[0m -   Found 6 pixelflat frame for OFF_J1044p6306 (3 required)\n",
      "\u001b[1;32m[INFO]    ::\u001b[0m \u001b[1;34marsort.py 1025 match_to_science()\u001b[0m -   Found 1 standard frame for OFF_J1044p6306 (1 required)\n",
      "\u001b[1;32m[INFO]    ::\u001b[0m \u001b[1;34marsort.py 1025 match_to_science()\u001b[0m -   Found 6 trace frame for OFF_J1044p6306 (3 required)\n",
      "\u001b[1;32m[INFO]    ::\u001b[0m \u001b[1;34marsort.py 1047 match_to_science()\u001b[0m - Science frames successfully matched to calibration frames\n"
     ]
    }
   ],
   "source": [
    "fitstbl = setupc.match_to_science()"
   ]
  },
  {
   "cell_type": "markdown",
   "metadata": {},
   "source": [
    "### Setup dict"
   ]
  },
  {
   "cell_type": "code",
   "execution_count": 12,
   "metadata": {
    "collapsed": true
   },
   "outputs": [],
   "source": [
    "setup_dict = setupc.build_setup_dict()"
   ]
  },
  {
   "cell_type": "code",
   "execution_count": 13,
   "metadata": {},
   "outputs": [
    {
     "data": {
      "text/plain": [
       "{'A': {'--': {'dichroic': '560',\n",
       "   'disperser': {'angle': 27.0812645, 'name': '600/7500'},\n",
       "   'slit': {'decker': 'long_0.7', 'slitlen': 'None', 'slitwid': 'None'}},\n",
       "  '01': {'binning': '2,2', 'det': 1, 'namp': 2},\n",
       "  '02': {'binning': '2,2', 'det': 2, 'namp': 2},\n",
       "  'aa': {'arc': ['LR.20160216.05709.fits'],\n",
       "   'bias': ['LR.20160216.07703.fits',\n",
       "    'LR.20160216.07762.fits',\n",
       "    'LR.20160216.07820.fits',\n",
       "    'LR.20160216.07878.fits',\n",
       "    'LR.20160216.07937.fits'],\n",
       "   'pixelflat': ['LR.20160216.14244.fits',\n",
       "    'LR.20160216.14322.fits',\n",
       "    'LR.20160216.14399.fits'],\n",
       "   'science': ['LR.20160216.40478.fits'],\n",
       "   'trace': ['LR.20160216.14244.fits',\n",
       "    'LR.20160216.14322.fits',\n",
       "    'LR.20160216.14399.fits']}}}"
      ]
     },
     "execution_count": 13,
     "metadata": {},
     "output_type": "execute_result"
    }
   ],
   "source": [
    "setup_dict"
   ]
  },
  {
   "cell_type": "code",
   "execution_count": 14,
   "metadata": {},
   "outputs": [
    {
     "data": {
      "text/html": [
       "<i>Table length=23</i>\n",
       "<table id=\"table140122365398544\" class=\"table-striped table-bordered table-condensed\">\n",
       "<thead><tr><th>filename</th><th>arc</th><th>bias</th><th>pixelflat</th><th>science</th><th>standard</th><th>sci_ID</th></tr></thead>\n",
       "<thead><tr><th>str22</th><th>bool</th><th>bool</th><th>bool</th><th>bool</th><th>bool</th><th>int64</th></tr></thead>\n",
       "<tr><td>LR.20160216.05529.fits</td><td>True</td><td>False</td><td>False</td><td>False</td><td>False</td><td>0</td></tr>\n",
       "<tr><td>LR.20160216.05589.fits</td><td>True</td><td>False</td><td>False</td><td>False</td><td>False</td><td>0</td></tr>\n",
       "<tr><td>LR.20160216.05649.fits</td><td>True</td><td>False</td><td>False</td><td>False</td><td>False</td><td>0</td></tr>\n",
       "<tr><td>LR.20160216.05709.fits</td><td>True</td><td>False</td><td>False</td><td>False</td><td>False</td><td>1</td></tr>\n",
       "<tr><td>LR.20160216.07348.fits</td><td>False</td><td>False</td><td>False</td><td>False</td><td>False</td><td>0</td></tr>\n",
       "<tr><td>LR.20160216.07412.fits</td><td>False</td><td>True</td><td>False</td><td>False</td><td>False</td><td>0</td></tr>\n",
       "<tr><td>LR.20160216.07470.fits</td><td>False</td><td>True</td><td>False</td><td>False</td><td>False</td><td>0</td></tr>\n",
       "<tr><td>LR.20160216.07529.fits</td><td>False</td><td>True</td><td>False</td><td>False</td><td>False</td><td>0</td></tr>\n",
       "<tr><td>LR.20160216.07587.fits</td><td>False</td><td>True</td><td>False</td><td>False</td><td>False</td><td>0</td></tr>\n",
       "<tr><td>LR.20160216.07646.fits</td><td>False</td><td>True</td><td>False</td><td>False</td><td>False</td><td>0</td></tr>\n",
       "<tr><td>...</td><td>...</td><td>...</td><td>...</td><td>...</td><td>...</td><td>...</td></tr>\n",
       "<tr><td>LR.20160216.07878.fits</td><td>False</td><td>True</td><td>False</td><td>False</td><td>False</td><td>1</td></tr>\n",
       "<tr><td>LR.20160216.07937.fits</td><td>False</td><td>True</td><td>False</td><td>False</td><td>False</td><td>1</td></tr>\n",
       "<tr><td>LR.20160216.13991.fits</td><td>False</td><td>False</td><td>True</td><td>False</td><td>False</td><td>0</td></tr>\n",
       "<tr><td>LR.20160216.14090.fits</td><td>False</td><td>False</td><td>True</td><td>False</td><td>False</td><td>0</td></tr>\n",
       "<tr><td>LR.20160216.14167.fits</td><td>False</td><td>False</td><td>True</td><td>False</td><td>False</td><td>0</td></tr>\n",
       "<tr><td>LR.20160216.14244.fits</td><td>False</td><td>False</td><td>True</td><td>False</td><td>False</td><td>1</td></tr>\n",
       "<tr><td>LR.20160216.14322.fits</td><td>False</td><td>False</td><td>True</td><td>False</td><td>False</td><td>1</td></tr>\n",
       "<tr><td>LR.20160216.14399.fits</td><td>False</td><td>False</td><td>True</td><td>False</td><td>False</td><td>1</td></tr>\n",
       "<tr><td>LR.20160216.17613.fits</td><td>False</td><td>False</td><td>False</td><td>False</td><td>True</td><td>1</td></tr>\n",
       "<tr><td>LR.20160216.40478.fits</td><td>False</td><td>False</td><td>False</td><td>True</td><td>False</td><td>1</td></tr>\n",
       "</table>"
      ],
      "text/plain": [
       "<Table length=23>\n",
       "       filename         arc   bias pixelflat science standard sci_ID\n",
       "        str22           bool  bool    bool     bool    bool   int64 \n",
       "---------------------- ----- ----- --------- ------- -------- ------\n",
       "LR.20160216.05529.fits  True False     False   False    False      0\n",
       "LR.20160216.05589.fits  True False     False   False    False      0\n",
       "LR.20160216.05649.fits  True False     False   False    False      0\n",
       "LR.20160216.05709.fits  True False     False   False    False      1\n",
       "LR.20160216.07348.fits False False     False   False    False      0\n",
       "LR.20160216.07412.fits False  True     False   False    False      0\n",
       "LR.20160216.07470.fits False  True     False   False    False      0\n",
       "LR.20160216.07529.fits False  True     False   False    False      0\n",
       "LR.20160216.07587.fits False  True     False   False    False      0\n",
       "LR.20160216.07646.fits False  True     False   False    False      0\n",
       "                   ...   ...   ...       ...     ...      ...    ...\n",
       "LR.20160216.07878.fits False  True     False   False    False      1\n",
       "LR.20160216.07937.fits False  True     False   False    False      1\n",
       "LR.20160216.13991.fits False False      True   False    False      0\n",
       "LR.20160216.14090.fits False False      True   False    False      0\n",
       "LR.20160216.14167.fits False False      True   False    False      0\n",
       "LR.20160216.14244.fits False False      True   False    False      1\n",
       "LR.20160216.14322.fits False False      True   False    False      1\n",
       "LR.20160216.14399.fits False False      True   False    False      1\n",
       "LR.20160216.17613.fits False False     False   False     True      1\n",
       "LR.20160216.40478.fits False False     False    True    False      1"
      ]
     },
     "execution_count": 14,
     "metadata": {},
     "output_type": "execute_result"
    }
   ],
   "source": [
    "setupc.fitstbl[['filename','arc','bias','pixelflat','science','standard','sci_ID']]"
   ]
  },
  {
   "cell_type": "markdown",
   "metadata": {},
   "source": [
    "## Setup :: command line\n",
    "    pypit_setup /home/xavier/local/Python/PYPIT-development-suite/RAW_DATA/Keck_LRIS_red/long_600_7500_d560/LR.20160216 keck_lris_red -c"
   ]
  },
  {
   "cell_type": "code",
   "execution_count": 15,
   "metadata": {
    "collapsed": true
   },
   "outputs": [],
   "source": [
    "cols = ['filename', 'target']+setupc.ftypes+['failures', 'sci_ID']"
   ]
  },
  {
   "cell_type": "code",
   "execution_count": 16,
   "metadata": {},
   "outputs": [
    {
     "data": {
      "text/html": [
       "<i>Table length=23</i>\n",
       "<table id=\"table140122365396752\" class=\"table-striped table-bordered table-condensed\">\n",
       "<thead><tr><th>filename</th><th>target</th><th>arc</th><th>bias</th><th>dark</th><th>pinhole</th><th>pixelflat</th><th>science</th><th>standard</th><th>trace</th><th>unknown</th><th>failures</th><th>sci_ID</th></tr></thead>\n",
       "<thead><tr><th>str22</th><th>str14</th><th>bool</th><th>bool</th><th>bool</th><th>bool</th><th>bool</th><th>bool</th><th>bool</th><th>bool</th><th>bool</th><th>bool</th><th>int64</th></tr></thead>\n",
       "<tr><td>LR.20160216.05529.fits</td><td></td><td>True</td><td>False</td><td>False</td><td>False</td><td>False</td><td>False</td><td>False</td><td>False</td><td>False</td><td>False</td><td>0</td></tr>\n",
       "<tr><td>LR.20160216.05589.fits</td><td></td><td>True</td><td>False</td><td>False</td><td>False</td><td>False</td><td>False</td><td>False</td><td>False</td><td>False</td><td>False</td><td>0</td></tr>\n",
       "<tr><td>LR.20160216.05649.fits</td><td></td><td>True</td><td>False</td><td>False</td><td>False</td><td>False</td><td>False</td><td>False</td><td>False</td><td>False</td><td>False</td><td>0</td></tr>\n",
       "<tr><td>LR.20160216.05709.fits</td><td>None</td><td>True</td><td>False</td><td>False</td><td>False</td><td>False</td><td>False</td><td>False</td><td>False</td><td>False</td><td>False</td><td>1</td></tr>\n",
       "<tr><td>LR.20160216.07348.fits</td><td>None</td><td>False</td><td>False</td><td>False</td><td>False</td><td>False</td><td>False</td><td>False</td><td>False</td><td>True</td><td>False</td><td>0</td></tr>\n",
       "<tr><td>LR.20160216.07412.fits</td><td>unknown</td><td>False</td><td>True</td><td>False</td><td>False</td><td>False</td><td>False</td><td>False</td><td>False</td><td>False</td><td>False</td><td>0</td></tr>\n",
       "<tr><td>LR.20160216.07470.fits</td><td>unknown</td><td>False</td><td>True</td><td>False</td><td>False</td><td>False</td><td>False</td><td>False</td><td>False</td><td>False</td><td>False</td><td>0</td></tr>\n",
       "<tr><td>LR.20160216.07529.fits</td><td>unknown</td><td>False</td><td>True</td><td>False</td><td>False</td><td>False</td><td>False</td><td>False</td><td>False</td><td>False</td><td>False</td><td>0</td></tr>\n",
       "<tr><td>LR.20160216.07587.fits</td><td>unknown</td><td>False</td><td>True</td><td>False</td><td>False</td><td>False</td><td>False</td><td>False</td><td>False</td><td>False</td><td>False</td><td>0</td></tr>\n",
       "<tr><td>LR.20160216.07646.fits</td><td>unknown</td><td>False</td><td>True</td><td>False</td><td>False</td><td>False</td><td>False</td><td>False</td><td>False</td><td>False</td><td>False</td><td>0</td></tr>\n",
       "<tr><td>...</td><td>...</td><td>...</td><td>...</td><td>...</td><td>...</td><td>...</td><td>...</td><td>...</td><td>...</td><td>...</td><td>...</td><td>...</td></tr>\n",
       "<tr><td>LR.20160216.07878.fits</td><td>unknown</td><td>False</td><td>True</td><td>False</td><td>False</td><td>False</td><td>False</td><td>False</td><td>False</td><td>False</td><td>False</td><td>1</td></tr>\n",
       "<tr><td>LR.20160216.07937.fits</td><td>unknown</td><td>False</td><td>True</td><td>False</td><td>False</td><td>False</td><td>False</td><td>False</td><td>False</td><td>False</td><td>False</td><td>1</td></tr>\n",
       "<tr><td>LR.20160216.13991.fits</td><td>unknown</td><td>False</td><td>False</td><td>False</td><td>False</td><td>True</td><td>False</td><td>False</td><td>True</td><td>False</td><td>False</td><td>0</td></tr>\n",
       "<tr><td>LR.20160216.14090.fits</td><td>unknown</td><td>False</td><td>False</td><td>False</td><td>False</td><td>True</td><td>False</td><td>False</td><td>True</td><td>False</td><td>False</td><td>0</td></tr>\n",
       "<tr><td>LR.20160216.14167.fits</td><td>unknown</td><td>False</td><td>False</td><td>False</td><td>False</td><td>True</td><td>False</td><td>False</td><td>True</td><td>False</td><td>False</td><td>0</td></tr>\n",
       "<tr><td>LR.20160216.14244.fits</td><td>unknown</td><td>False</td><td>False</td><td>False</td><td>False</td><td>True</td><td>False</td><td>False</td><td>True</td><td>False</td><td>False</td><td>1</td></tr>\n",
       "<tr><td>LR.20160216.14322.fits</td><td>unknown</td><td>False</td><td>False</td><td>False</td><td>False</td><td>True</td><td>False</td><td>False</td><td>True</td><td>False</td><td>False</td><td>1</td></tr>\n",
       "<tr><td>LR.20160216.14399.fits</td><td>unknown</td><td>False</td><td>False</td><td>False</td><td>False</td><td>True</td><td>False</td><td>False</td><td>True</td><td>False</td><td>False</td><td>1</td></tr>\n",
       "<tr><td>LR.20160216.17613.fits</td><td>G1910B2B</td><td>False</td><td>False</td><td>False</td><td>False</td><td>False</td><td>False</td><td>True</td><td>False</td><td>False</td><td>False</td><td>1</td></tr>\n",
       "<tr><td>LR.20160216.40478.fits</td><td>OFF_J1044p6306</td><td>False</td><td>False</td><td>False</td><td>False</td><td>False</td><td>True</td><td>False</td><td>False</td><td>False</td><td>False</td><td>1</td></tr>\n",
       "</table>"
      ],
      "text/plain": [
       "<Table length=23>\n",
       "       filename            target      arc   bias ... unknown failures sci_ID\n",
       "        str22              str14       bool  bool ...   bool    bool   int64 \n",
       "---------------------- -------------- ----- ----- ... ------- -------- ------\n",
       "LR.20160216.05529.fits                 True False ...   False    False      0\n",
       "LR.20160216.05589.fits                 True False ...   False    False      0\n",
       "LR.20160216.05649.fits                 True False ...   False    False      0\n",
       "LR.20160216.05709.fits           None  True False ...   False    False      1\n",
       "LR.20160216.07348.fits           None False False ...    True    False      0\n",
       "LR.20160216.07412.fits        unknown False  True ...   False    False      0\n",
       "LR.20160216.07470.fits        unknown False  True ...   False    False      0\n",
       "LR.20160216.07529.fits        unknown False  True ...   False    False      0\n",
       "LR.20160216.07587.fits        unknown False  True ...   False    False      0\n",
       "LR.20160216.07646.fits        unknown False  True ...   False    False      0\n",
       "                   ...            ...   ...   ... ...     ...      ...    ...\n",
       "LR.20160216.07878.fits        unknown False  True ...   False    False      1\n",
       "LR.20160216.07937.fits        unknown False  True ...   False    False      1\n",
       "LR.20160216.13991.fits        unknown False False ...   False    False      0\n",
       "LR.20160216.14090.fits        unknown False False ...   False    False      0\n",
       "LR.20160216.14167.fits        unknown False False ...   False    False      0\n",
       "LR.20160216.14244.fits        unknown False False ...   False    False      1\n",
       "LR.20160216.14322.fits        unknown False False ...   False    False      1\n",
       "LR.20160216.14399.fits        unknown False False ...   False    False      1\n",
       "LR.20160216.17613.fits       G1910B2B False False ...   False    False      1\n",
       "LR.20160216.40478.fits OFF_J1044p6306 False False ...   False    False      1"
      ]
     },
     "execution_count": 16,
     "metadata": {},
     "output_type": "execute_result"
    }
   ],
   "source": [
    "setupc.fitstbl[cols]"
   ]
  },
  {
   "cell_type": "markdown",
   "metadata": {},
   "source": [
    "----"
   ]
  },
  {
   "cell_type": "markdown",
   "metadata": {
    "collapsed": true
   },
   "source": [
    "## Setup + datasec"
   ]
  },
  {
   "cell_type": "code",
   "execution_count": 17,
   "metadata": {
    "collapsed": true
   },
   "outputs": [],
   "source": [
    "# Image IDs\n",
    "sci_ID = 1  # First exposure ID\n",
    "det = 2     # Slitb for LRIS\n",
    "dnum = 'det02'"
   ]
  },
  {
   "cell_type": "code",
   "execution_count": 18,
   "metadata": {},
   "outputs": [
    {
     "data": {
      "text/plain": [
       "22"
      ]
     },
     "execution_count": 18,
     "metadata": {},
     "output_type": "execute_result"
    }
   ],
   "source": [
    "# Index in fitstbl\n",
    "scidx = np.where((fitstbl['sci_ID'] == sci_ID) & fitstbl['science'])[0][0]\n",
    "scidx"
   ]
  },
  {
   "cell_type": "markdown",
   "metadata": {},
   "source": [
    "### Settings"
   ]
  },
  {
   "cell_type": "code",
   "execution_count": 19,
   "metadata": {
    "collapsed": true
   },
   "outputs": [],
   "source": [
    "settings_det = settings.spect[dnum].copy()  # Should include naxis0, naxis1 in this"
   ]
  },
  {
   "cell_type": "code",
   "execution_count": 20,
   "metadata": {},
   "outputs": [
    {
     "data": {
      "text/plain": [
       "{'darkcurr': 0.0,\n",
       " 'gain': [1.191, 1.162],\n",
       " 'nonlinear': 0.76,\n",
       " 'numamplifiers': 2,\n",
       " 'platescale': 0.135,\n",
       " 'ronoise': [4.54, 4.62],\n",
       " 'saturation': 65535.0,\n",
       " 'suffix': '_02red',\n",
       " 'xgap': 0.0,\n",
       " 'ygap': 0.0,\n",
       " 'ysize': 1.0}"
      ]
     },
     "execution_count": 20,
     "metadata": {},
     "output_type": "execute_result"
    }
   ],
   "source": [
    "settings_det"
   ]
  },
  {
   "cell_type": "code",
   "execution_count": 21,
   "metadata": {
    "collapsed": true
   },
   "outputs": [],
   "source": [
    "# Ugliness\n",
    "settings_det['binning'] = fitstbl['binning'][0]\n",
    "#\n",
    "settings.spect[dnum] = settings_det.copy()  # Used internally..\n",
    "#\n",
    "tsettings = settings.argflag.copy()\n",
    "tsettings['detector'] = settings.spect[settings.get_dnum(det)]\n",
    "tsettings['detector']['dataext'] = None\n",
    "tsettings['detector']['dispaxis'] = settings.argflag['trace']['dispersion']['direction']"
   ]
  },
  {
   "cell_type": "markdown",
   "metadata": {},
   "source": [
    "### Setup"
   ]
  },
  {
   "cell_type": "code",
   "execution_count": 22,
   "metadata": {},
   "outputs": [
    {
     "data": {
      "text/plain": [
       "'A_02_aa'"
      ]
     },
     "execution_count": 22,
     "metadata": {},
     "output_type": "execute_result"
    }
   ],
   "source": [
    "setup = arsetup.instr_setup(sci_ID, det, fitstbl, setup_dict, settings_det['numamplifiers'], must_exist=True)\n",
    "setup"
   ]
  },
  {
   "cell_type": "markdown",
   "metadata": {},
   "source": [
    "### datasec"
   ]
  },
  {
   "cell_type": "code",
   "execution_count": 23,
   "metadata": {
    "collapsed": true
   },
   "outputs": [],
   "source": [
    "scifile = os.path.join(fitstbl['directory'][scidx],fitstbl['filename'][scidx])"
   ]
  },
  {
   "cell_type": "code",
   "execution_count": 24,
   "metadata": {},
   "outputs": [
    {
     "name": "stderr",
     "output_type": "stream",
     "text": [
      "\u001b[1;32m[INFO]    ::\u001b[0m \u001b[1;34marprocimg.py 174 get_datasec()\u001b[0m - Parsing datasec and oscansec from headers\n",
      "\u001b[1;32m[INFO]    ::\u001b[0m \u001b[1;34marlris.py 48 read_lris()\u001b[0m - Reading LRIS file: /home/xavier/local/Python/PYPIT-development-suite/RAW_DATA/Keck_LRIS_red/long_600_7500_d560/LR.20160216.40478.fits\n"
     ]
    }
   ],
   "source": [
    "datasec_img, naxis0, naxis1 = arprocimg.get_datasec_trimmed(\n",
    "    spectrograph, scifile, det, settings_det,\n",
    "    naxis0=fitstbl['naxis0'][scidx],\n",
    "    naxis1=fitstbl['naxis1'][scidx])"
   ]
  },
  {
   "cell_type": "code",
   "execution_count": 25,
   "metadata": {},
   "outputs": [
    {
     "data": {
      "text/plain": [
       "((2048, 1024), 2068, 1110)"
      ]
     },
     "execution_count": 25,
     "metadata": {},
     "output_type": "execute_result"
    }
   ],
   "source": [
    "datasec_img.shape, naxis0, naxis1"
   ]
  },
  {
   "cell_type": "code",
   "execution_count": 26,
   "metadata": {
    "collapsed": true
   },
   "outputs": [],
   "source": [
    "fitstbl['naxis0'][scidx] = naxis0\n",
    "fitstbl['naxis1'][scidx] = naxis1"
   ]
  },
  {
   "cell_type": "markdown",
   "metadata": {},
   "source": [
    "----"
   ]
  },
  {
   "cell_type": "markdown",
   "metadata": {},
   "source": [
    "## Bias"
   ]
  },
  {
   "cell_type": "code",
   "execution_count": 27,
   "metadata": {
    "collapsed": true
   },
   "outputs": [],
   "source": [
    "tsettings['bias']['combine']['reject']['cosmics'] = 3."
   ]
  },
  {
   "cell_type": "code",
   "execution_count": 28,
   "metadata": {
    "collapsed": true
   },
   "outputs": [],
   "source": [
    "biasFrame = biasframe.BiasFrame(settings=tsettings, setup=setup,\n",
    "                                    det=det, fitstbl=fitstbl, sci_ID=sci_ID)"
   ]
  },
  {
   "cell_type": "code",
   "execution_count": 29,
   "metadata": {},
   "outputs": [
    {
     "name": "stderr",
     "output_type": "stream",
     "text": [
      "\u001b[1;32m[INFO]    ::\u001b[0m \u001b[1;34marload.py 327 load_raw_frame()\u001b[0m - Loading raw_file: /home/xavier/local/Python/PYPIT-development-suite/RAW_DATA/Keck_LRIS_red/long_600_7500_d560/LR.20160216.07703.fits\n",
      "\u001b[1;32m[INFO]    ::\u001b[0m \u001b[1;34marlris.py 48 read_lris()\u001b[0m - Reading LRIS file: /home/xavier/local/Python/PYPIT-development-suite/RAW_DATA/Keck_LRIS_red/long_600_7500_d560/LR.20160216.07703.fits\n",
      "\u001b[1;32m[INFO]    ::\u001b[0m \u001b[1;34marload.py 327 load_raw_frame()\u001b[0m - Loading raw_file: /home/xavier/local/Python/PYPIT-development-suite/RAW_DATA/Keck_LRIS_red/long_600_7500_d560/LR.20160216.07762.fits\n",
      "\u001b[1;32m[INFO]    ::\u001b[0m \u001b[1;34marlris.py 48 read_lris()\u001b[0m - Reading LRIS file: /home/xavier/local/Python/PYPIT-development-suite/RAW_DATA/Keck_LRIS_red/long_600_7500_d560/LR.20160216.07762.fits\n",
      "\u001b[1;32m[INFO]    ::\u001b[0m \u001b[1;34marload.py 327 load_raw_frame()\u001b[0m - Loading raw_file: /home/xavier/local/Python/PYPIT-development-suite/RAW_DATA/Keck_LRIS_red/long_600_7500_d560/LR.20160216.07820.fits\n",
      "\u001b[1;32m[INFO]    ::\u001b[0m \u001b[1;34marlris.py 48 read_lris()\u001b[0m - Reading LRIS file: /home/xavier/local/Python/PYPIT-development-suite/RAW_DATA/Keck_LRIS_red/long_600_7500_d560/LR.20160216.07820.fits\n",
      "\u001b[1;32m[INFO]    ::\u001b[0m \u001b[1;34marload.py 327 load_raw_frame()\u001b[0m - Loading raw_file: /home/xavier/local/Python/PYPIT-development-suite/RAW_DATA/Keck_LRIS_red/long_600_7500_d560/LR.20160216.07878.fits\n",
      "\u001b[1;32m[INFO]    ::\u001b[0m \u001b[1;34marlris.py 48 read_lris()\u001b[0m - Reading LRIS file: /home/xavier/local/Python/PYPIT-development-suite/RAW_DATA/Keck_LRIS_red/long_600_7500_d560/LR.20160216.07878.fits\n",
      "\u001b[1;32m[INFO]    ::\u001b[0m \u001b[1;34marload.py 327 load_raw_frame()\u001b[0m - Loading raw_file: /home/xavier/local/Python/PYPIT-development-suite/RAW_DATA/Keck_LRIS_red/long_600_7500_d560/LR.20160216.07937.fits\n",
      "\u001b[1;32m[INFO]    ::\u001b[0m \u001b[1;34marlris.py 48 read_lris()\u001b[0m - Reading LRIS file: /home/xavier/local/Python/PYPIT-development-suite/RAW_DATA/Keck_LRIS_red/long_600_7500_d560/LR.20160216.07937.fits\n",
      "\u001b[1;32m[INFO]    ::\u001b[0m \u001b[1;34marprocimg.py 174 get_datasec()\u001b[0m - Parsing datasec and oscansec from headers\n",
      "\u001b[1;32m[INFO]    ::\u001b[0m \u001b[1;34marlris.py 48 read_lris()\u001b[0m - Reading LRIS file: /home/xavier/local/Python/PYPIT-development-suite/RAW_DATA/Keck_LRIS_red/long_600_7500_d560/LR.20160216.07703.fits\n",
      "\u001b[1;31m[WARNING] ::\u001b[0m \u001b[1;34mprocessimages.py 385 process()\u001b[0m - Your images have not been bias subtracted!\n",
      "\u001b[1;32m[INFO]    ::\u001b[0m \u001b[1;34marcomb.py 94 core_comb_frames()\u001b[0m - Combining 5 bias frames\n",
      "\u001b[1;30m[WORK IN ]::\u001b[0m\n",
      "\u001b[1;33m[PROGRESS]::\u001b[0m \u001b[1;34marcomb.py 98 core_comb_frames()\u001b[0m - lscomb feature has not been included here yet...\n",
      "\u001b[1;32m[INFO]    ::\u001b[0m \u001b[1;34marcomb.py 162 core_comb_frames()\u001b[0m - Finding saturated and non-linear pixels\n",
      "\u001b[1;32m[INFO]    ::\u001b[0m \u001b[1;34marcomb.py 189 core_comb_frames()\u001b[0m - Rejecting cosmic rays\n",
      "\u001b[1;32m[INFO]    ::\u001b[0m \u001b[1;34marcomb.py 231 core_comb_frames()\u001b[0m - Not rejecting any low/high pixels\n",
      "\u001b[1;32m[INFO]    ::\u001b[0m \u001b[1;34marcomb.py 235 core_comb_frames()\u001b[0m - Rejecting deviant pixels\n",
      "\u001b[1;32m[INFO]    ::\u001b[0m \u001b[1;34marcomb.py 256 core_comb_frames()\u001b[0m - Combining frames with a mean operation\n",
      "\u001b[1;32m[INFO]    ::\u001b[0m \u001b[1;34marcomb.py 294 core_comb_frames()\u001b[0m - Replacing completely masked pixels with the median value of the input frames\n",
      "\u001b[1;32m[INFO]    ::\u001b[0m \u001b[1;34marcomb.py 307 core_comb_frames()\u001b[0m - 5 bias frames combined successfully!\n"
     ]
    }
   ],
   "source": [
    "msbias = biasFrame.build_image()"
   ]
  },
  {
   "cell_type": "code",
   "execution_count": 30,
   "metadata": {},
   "outputs": [
    {
     "data": {
      "text/plain": [
       "(2068, 1110)"
      ]
     },
     "execution_count": 30,
     "metadata": {},
     "output_type": "execute_result"
    }
   ],
   "source": [
    "msbias.shape"
   ]
  },
  {
   "cell_type": "code",
   "execution_count": 31,
   "metadata": {
    "collapsed": true
   },
   "outputs": [],
   "source": [
    "biasFrame.show()"
   ]
  },
  {
   "cell_type": "markdown",
   "metadata": {},
   "source": [
    "----"
   ]
  },
  {
   "cell_type": "markdown",
   "metadata": {},
   "source": [
    "## Arc Image frame"
   ]
  },
  {
   "cell_type": "code",
   "execution_count": 32,
   "metadata": {
    "collapsed": true
   },
   "outputs": [],
   "source": [
    "arcImage = arcimage.ArcImage([], spectrograph=spectrograph,\n",
    "                             settings=tsettings, det=det, setup=setup,\n",
    "                             sci_ID=sci_ID, msbias=msbias, fitstbl=fitstbl)"
   ]
  },
  {
   "cell_type": "code",
   "execution_count": 33,
   "metadata": {},
   "outputs": [
    {
     "name": "stderr",
     "output_type": "stream",
     "text": [
      "\u001b[1;32m[INFO]    ::\u001b[0m \u001b[1;34marload.py 327 load_raw_frame()\u001b[0m - Loading raw_file: /home/xavier/local/Python/PYPIT-development-suite/RAW_DATA/Keck_LRIS_red/long_600_7500_d560/LR.20160216.05709.fits\n",
      "\u001b[1;32m[INFO]    ::\u001b[0m \u001b[1;34marlris.py 48 read_lris()\u001b[0m - Reading LRIS file: /home/xavier/local/Python/PYPIT-development-suite/RAW_DATA/Keck_LRIS_red/long_600_7500_d560/LR.20160216.05709.fits\n",
      "\u001b[1;32m[INFO]    ::\u001b[0m \u001b[1;34marprocimg.py 174 get_datasec()\u001b[0m - Parsing datasec and oscansec from headers\n",
      "\u001b[1;32m[INFO]    ::\u001b[0m \u001b[1;34marlris.py 48 read_lris()\u001b[0m - Reading LRIS file: /home/xavier/local/Python/PYPIT-development-suite/RAW_DATA/Keck_LRIS_red/long_600_7500_d560/LR.20160216.05709.fits\n",
      "\u001b[1;32m[INFO]    ::\u001b[0m \u001b[1;34mprocessimages.py 272 bias_subtract()\u001b[0m - Bias subtracting your image(s)\n",
      "\u001b[1;32m[INFO]    ::\u001b[0m \u001b[1;34marprocimg.py 77 bias_subtract()\u001b[0m - Subtracting bias image from raw frame\n"
     ]
    }
   ],
   "source": [
    "msarc = arcImage.build_image()"
   ]
  },
  {
   "cell_type": "code",
   "execution_count": 34,
   "metadata": {
    "collapsed": true
   },
   "outputs": [],
   "source": [
    "arcImage.show()"
   ]
  },
  {
   "cell_type": "markdown",
   "metadata": {},
   "source": [
    "----"
   ]
  },
  {
   "cell_type": "markdown",
   "metadata": {},
   "source": [
    "## Bad pixel mask"
   ]
  },
  {
   "cell_type": "code",
   "execution_count": 35,
   "metadata": {
    "collapsed": true
   },
   "outputs": [],
   "source": [
    "bpmImage = bpmimage.BPMImage(spectrograph=spectrograph,\n",
    "                             settings=tsettings, det=det,\n",
    "                             shape=msarc.shape,\n",
    "                             binning=fitstbl['binning'][scidx],\n",
    "                             reduce_badpix=False,\n",
    "                             msbias=msbias)"
   ]
  },
  {
   "cell_type": "code",
   "execution_count": 36,
   "metadata": {},
   "outputs": [
    {
     "name": "stderr",
     "output_type": "stream",
     "text": [
      "\u001b[1;32m[INFO]    ::\u001b[0m \u001b[1;34marlris.py 384 bpm()\u001b[0m - Using hard-coded BPM for det=2 on LRISr\n"
     ]
    }
   ],
   "source": [
    "msbpm = bpmImage.build()"
   ]
  },
  {
   "cell_type": "code",
   "execution_count": 37,
   "metadata": {},
   "outputs": [
    {
     "data": {
      "text/plain": [
       "(2048, 1024)"
      ]
     },
     "execution_count": 37,
     "metadata": {},
     "output_type": "execute_result"
    }
   ],
   "source": [
    "msbpm.shape"
   ]
  },
  {
   "cell_type": "markdown",
   "metadata": {},
   "source": [
    "----"
   ]
  },
  {
   "cell_type": "markdown",
   "metadata": {},
   "source": [
    "## pixlocn"
   ]
  },
  {
   "cell_type": "code",
   "execution_count": 38,
   "metadata": {},
   "outputs": [
    {
     "name": "stderr",
     "output_type": "stream",
     "text": [
      "\u001b[1;32m[INFO]    ::\u001b[0m \u001b[1;34marpixels.py 66 core_gen_pixloc()\u001b[0m - Deriving physical pixel locations on the detector\n",
      "\u001b[1;32m[INFO]    ::\u001b[0m \u001b[1;34marpixels.py 69 core_gen_pixloc()\u001b[0m - Pixel gap in the dispersion direction = 0.000\n",
      "\u001b[1;32m[INFO]    ::\u001b[0m \u001b[1;34marpixels.py 70 core_gen_pixloc()\u001b[0m - Pixel size in the dispersion direction = 1.000\n",
      "\u001b[1;32m[INFO]    ::\u001b[0m \u001b[1;34marpixels.py 73 core_gen_pixloc()\u001b[0m - Pixel gap in the spatial direction = 0.000\n",
      "\u001b[1;32m[INFO]    ::\u001b[0m \u001b[1;34marpixels.py 74 core_gen_pixloc()\u001b[0m - Pixel size in the spatial direction = 1.000\n",
      "\u001b[1;32m[INFO]    ::\u001b[0m \u001b[1;34marpixels.py 79 core_gen_pixloc()\u001b[0m - Saving pixel locations\n"
     ]
    }
   ],
   "source": [
    "pixlocn = arpixels.gen_pixloc(msarc.shape, det, settings.argflag)"
   ]
  },
  {
   "cell_type": "markdown",
   "metadata": {},
   "source": [
    "----"
   ]
  },
  {
   "cell_type": "markdown",
   "metadata": {},
   "source": [
    "## Trace slit(s)"
   ]
  },
  {
   "cell_type": "code",
   "execution_count": 39,
   "metadata": {
    "collapsed": true
   },
   "outputs": [],
   "source": [
    "# Settings\n",
    "ts_settings = dict(trace=settings.argflag['trace'], masters=settings.argflag['reduce']['masters'])"
   ]
  },
  {
   "cell_type": "code",
   "execution_count": 40,
   "metadata": {
    "collapsed": true
   },
   "outputs": [],
   "source": [
    "# Instantiate (without mstrace)\n",
    "traceSlits = traceslits.TraceSlits(None, pixlocn, settings=ts_settings,\n",
    "                                   det=det, setup=setup, binbpx=msbpm)"
   ]
  },
  {
   "cell_type": "markdown",
   "metadata": {},
   "source": [
    "### Build the trace image first"
   ]
  },
  {
   "cell_type": "code",
   "execution_count": 41,
   "metadata": {},
   "outputs": [
    {
     "name": "stderr",
     "output_type": "stream",
     "text": [
      "\u001b[1;32m[INFO]    ::\u001b[0m \u001b[1;34marload.py 327 load_raw_frame()\u001b[0m - Loading raw_file: /home/xavier/local/Python/PYPIT-development-suite/RAW_DATA/Keck_LRIS_red/long_600_7500_d560/LR.20160216.14244.fits\n",
      "\u001b[1;32m[INFO]    ::\u001b[0m \u001b[1;34marlris.py 48 read_lris()\u001b[0m - Reading LRIS file: /home/xavier/local/Python/PYPIT-development-suite/RAW_DATA/Keck_LRIS_red/long_600_7500_d560/LR.20160216.14244.fits\n",
      "\u001b[1;32m[INFO]    ::\u001b[0m \u001b[1;34marload.py 327 load_raw_frame()\u001b[0m - Loading raw_file: /home/xavier/local/Python/PYPIT-development-suite/RAW_DATA/Keck_LRIS_red/long_600_7500_d560/LR.20160216.14322.fits\n",
      "\u001b[1;32m[INFO]    ::\u001b[0m \u001b[1;34marlris.py 48 read_lris()\u001b[0m - Reading LRIS file: /home/xavier/local/Python/PYPIT-development-suite/RAW_DATA/Keck_LRIS_red/long_600_7500_d560/LR.20160216.14322.fits\n",
      "\u001b[1;32m[INFO]    ::\u001b[0m \u001b[1;34marload.py 327 load_raw_frame()\u001b[0m - Loading raw_file: /home/xavier/local/Python/PYPIT-development-suite/RAW_DATA/Keck_LRIS_red/long_600_7500_d560/LR.20160216.14399.fits\n",
      "\u001b[1;32m[INFO]    ::\u001b[0m \u001b[1;34marlris.py 48 read_lris()\u001b[0m - Reading LRIS file: /home/xavier/local/Python/PYPIT-development-suite/RAW_DATA/Keck_LRIS_red/long_600_7500_d560/LR.20160216.14399.fits\n",
      "\u001b[1;32m[INFO]    ::\u001b[0m \u001b[1;34marprocimg.py 174 get_datasec()\u001b[0m - Parsing datasec and oscansec from headers\n",
      "\u001b[1;32m[INFO]    ::\u001b[0m \u001b[1;34marlris.py 48 read_lris()\u001b[0m - Reading LRIS file: /home/xavier/local/Python/PYPIT-development-suite/RAW_DATA/Keck_LRIS_red/long_600_7500_d560/LR.20160216.14244.fits\n",
      "\u001b[1;32m[INFO]    ::\u001b[0m \u001b[1;34mprocessimages.py 272 bias_subtract()\u001b[0m - Bias subtracting your image(s)\n",
      "\u001b[1;32m[INFO]    ::\u001b[0m \u001b[1;34marprocimg.py 77 bias_subtract()\u001b[0m - Subtracting bias image from raw frame\n",
      "\u001b[1;32m[INFO]    ::\u001b[0m \u001b[1;34marprocimg.py 77 bias_subtract()\u001b[0m - Subtracting bias image from raw frame\n",
      "\u001b[1;32m[INFO]    ::\u001b[0m \u001b[1;34marprocimg.py 77 bias_subtract()\u001b[0m - Subtracting bias image from raw frame\n",
      "\u001b[1;32m[INFO]    ::\u001b[0m \u001b[1;34marcomb.py 94 core_comb_frames()\u001b[0m - Combining 3 trace_image frames\n",
      "\u001b[1;30m[WORK IN ]::\u001b[0m\n",
      "\u001b[1;33m[PROGRESS]::\u001b[0m \u001b[1;34marcomb.py 98 core_comb_frames()\u001b[0m - lscomb feature has not been included here yet...\n",
      "\u001b[1;32m[INFO]    ::\u001b[0m \u001b[1;34marcomb.py 162 core_comb_frames()\u001b[0m - Finding saturated and non-linear pixels\n",
      "\u001b[1;32m[INFO]    ::\u001b[0m \u001b[1;34marcomb.py 189 core_comb_frames()\u001b[0m - Rejecting cosmic rays\n",
      "\u001b[1;32m[INFO]    ::\u001b[0m \u001b[1;34marcomb.py 231 core_comb_frames()\u001b[0m - Not rejecting any low/high pixels\n",
      "\u001b[1;32m[INFO]    ::\u001b[0m \u001b[1;34marcomb.py 235 core_comb_frames()\u001b[0m - Rejecting deviant pixels\n",
      "\u001b[1;32m[INFO]    ::\u001b[0m \u001b[1;34marcomb.py 256 core_comb_frames()\u001b[0m - Combining frames with a weightmean operation\n",
      "\u001b[1;32m[INFO]    ::\u001b[0m \u001b[1;34marcomb.py 294 core_comb_frames()\u001b[0m - Replacing completely masked pixels with the maxnonsat value of the input frames\n",
      "\u001b[1;32m[INFO]    ::\u001b[0m \u001b[1;34marcomb.py 307 core_comb_frames()\u001b[0m - 3 trace_image frames combined successfully!\n",
      "\u001b[1;31m[WARNING] ::\u001b[0m \u001b[1;34marprocimg.py 505 gain_frame()\u001b[0m - Should probably be measuring the gain across the amplifier boundary\n"
     ]
    }
   ],
   "source": [
    "trace_image_files = arsort.list_of_files(fitstbl, 'trace', sci_ID)\n",
    "Timage = traceimage.TraceImage(trace_image_files,\n",
    "                               spectrograph=spectrograph,\n",
    "                               settings=tsettings, det=det,\n",
    "                               datasec_img=datasec_img)\n",
    "mstrace = Timage.process(bias_subtract=msbias, trim=True, apply_gain=True)"
   ]
  },
  {
   "cell_type": "code",
   "execution_count": 42,
   "metadata": {
    "collapsed": true
   },
   "outputs": [],
   "source": [
    "Timage.show()"
   ]
  },
  {
   "cell_type": "markdown",
   "metadata": {},
   "source": [
    "### Now trace"
   ]
  },
  {
   "cell_type": "code",
   "execution_count": 43,
   "metadata": {},
   "outputs": [
    {
     "name": "stderr",
     "output_type": "stream",
     "text": [
      "\u001b[1;32m[INFO]    ::\u001b[0m \u001b[1;34martraceslits.py 826 edgearr_from_binarr()\u001b[0m - Detecting slit edges in the mstrace image\n",
      "\u001b[1;32m[INFO]    ::\u001b[0m \u001b[1;34martraceslits.py 888 edgearr_from_binarr()\u001b[0m - Applying bad pixel mask\n",
      "\u001b[1;32m[INFO]    ::\u001b[0m \u001b[1;34martraceslits.py 946 edgearr_add_left_right()\u001b[0m - 1 left edge and 1 right edge were found in the trace\n",
      "\u001b[1;32m[INFO]    ::\u001b[0m \u001b[1;34martraceslits.py 972 edgearr_add_left_right()\u001b[0m - Assigning slit edge traces\n",
      "\u001b[1;32m[INFO]    ::\u001b[0m \u001b[1;34mtraceslits.py 363 _assign_edges()\u001b[0m - Assigning left slit edges\n",
      "\u001b[1;32m[INFO]    ::\u001b[0m \u001b[1;34mtraceslits.py 369 _assign_edges()\u001b[0m - Assigning right slit edges\n",
      "\u001b[1;32m[INFO]    ::\u001b[0m \u001b[1;34martraceslits.py 1160 edgearr_final_left_right()\u001b[0m - 1 left edge and 1 right edge were found in the trace\n",
      "\u001b[1;32m[INFO]    ::\u001b[0m \u001b[1;34martraceslits.py 574 edgearr_tcrude()\u001b[0m - Crude tracing the edges\n",
      "\u001b[1;32m[INFO]    ::\u001b[0m \u001b[1;34martraceslits.py 1329 fit_edges()\u001b[0m - Fitting left slit traces\n",
      "\u001b[1;32m[INFO]    ::\u001b[0m \u001b[1;34martraceslits.py 1331 fit_edges()\u001b[0m - Fitting right slit traces\n",
      "\u001b[1;32m[INFO]    ::\u001b[0m \u001b[1;34mtraceslits.py 392 _chk_for_longslit()\u001b[0m - Only one slit was identified. Should be a longslit.\n",
      "\u001b[1;32m[INFO]    ::\u001b[0m \u001b[1;34mtraceslits.py 521 _make_pixel_arrays()\u001b[0m - Converting physical trace locations to nearest pixel\n",
      "\u001b[1;32m[INFO]    ::\u001b[0m \u001b[1;34mtraceslits.py 528 _make_pixel_arrays()\u001b[0m - Identifying the pixels belonging to each slit\n"
     ]
    }
   ],
   "source": [
    "# Load up and get ready\n",
    "traceSlits.mstrace = mstrace\n",
    "_ = traceSlits.make_binarr()\n",
    "# Now we go forth\n",
    "tslits_dict = traceSlits.run(arms=True)\n",
    "# QA\n",
    "traceSlits._qa()"
   ]
  },
  {
   "cell_type": "code",
   "execution_count": 44,
   "metadata": {
    "collapsed": true
   },
   "outputs": [],
   "source": [
    "traceSlits.show('edges')"
   ]
  },
  {
   "cell_type": "code",
   "execution_count": 45,
   "metadata": {
    "collapsed": true
   },
   "outputs": [],
   "source": [
    "# Initialize maskslits\n",
    "nslits = tslits_dict['lcen'].shape[1]\n",
    "maskslits = np.zeros(nslits, dtype=bool)"
   ]
  },
  {
   "cell_type": "markdown",
   "metadata": {},
   "source": [
    "----"
   ]
  },
  {
   "cell_type": "markdown",
   "metadata": {},
   "source": [
    "## Wavelength Calibration"
   ]
  },
  {
   "cell_type": "code",
   "execution_count": 46,
   "metadata": {
    "collapsed": true
   },
   "outputs": [],
   "source": [
    "# Settings\n",
    "wvc_settings = dict(calibrate=settings.argflag['arc']['calibrate'], masters=settings.argflag['reduce']['masters'])"
   ]
  },
  {
   "cell_type": "code",
   "execution_count": 47,
   "metadata": {
    "collapsed": true
   },
   "outputs": [],
   "source": [
    "# Instantiate\n",
    "waveCalib = wavecalib.WaveCalib(msarc, spectrograph=spectrograph,\n",
    "                                settings=wvc_settings, det=det,\n",
    "                                setup=setup, fitstbl=fitstbl, sci_ID=sci_ID)"
   ]
  },
  {
   "cell_type": "code",
   "execution_count": 48,
   "metadata": {},
   "outputs": [
    {
     "name": "stderr",
     "output_type": "stream",
     "text": [
      "\u001b[1;32m[INFO]    ::\u001b[0m \u001b[1;34mararc.py 85 get_censpec()\u001b[0m - Extracting an approximate arc spectrum at the centre of each slit\n",
      "\u001b[1;32m[INFO]    ::\u001b[0m \u001b[1;34mararc.py 439 setup_param()\u001b[0m - Loading line list using ArI,NeI,HgI,KrI,XeI lamps\n",
      "\u001b[1;32m[INFO]    ::\u001b[0m \u001b[1;34mararclines.py 68 load_arcline_list()\u001b[0m - Rejecting select ArI lines\n",
      "\u001b[1;32m[INFO]    ::\u001b[0m \u001b[1;34mararclines.py 68 load_arcline_list()\u001b[0m - Rejecting select NeI lines\n",
      "\u001b[1;32m[INFO]    ::\u001b[0m \u001b[1;34mararclines.py 68 load_arcline_list()\u001b[0m - Rejecting select HgI lines\n",
      "\u001b[1;32m[INFO]    ::\u001b[0m \u001b[1;34mararclines.py 76 load_arcline_list()\u001b[0m - Cutting down line list by wvmnx: 2900,11000\n"
     ]
    },
    {
     "name": "stdout",
     "output_type": "stream",
     "text": [
      "---------------------------------------------------\n",
      "Report:\n",
      "::   Number of lines recovered    = 83\n",
      "::   Number of lines analyzed     = 83\n",
      "::   Number of acceptable matches = 81\n",
      "::   Best central wavelength      = 7174.84A\n",
      "::   Best dispersion              = 1.59702A/pix\n",
      "::   Best solution used pix_tol   = 1.0\n",
      "::   Best solution had unknown    = True\n",
      "---------------------------------------------------\n"
     ]
    }
   ],
   "source": [
    "# Run\n",
    "wv_calib, _ = waveCalib.run(tslits_dict['lcen'], tslits_dict['rcen'],\n",
    "                                    pixlocn, nonlinear=settings_det['nonlinear'])"
   ]
  },
  {
   "cell_type": "code",
   "execution_count": 49,
   "metadata": {},
   "outputs": [
    {
     "data": {
      "text/plain": [
       "{'Nstrong': 13,\n",
       " 'b1': 0.00030517578125,\n",
       " 'b2': 0.0,\n",
       " 'disp': 1.6,\n",
       " 'disp_toler': 0.1,\n",
       " 'func': 'legendre',\n",
       " 'lamps': ['ArI', 'NeI', 'HgI', 'KrI', 'XeI'],\n",
       " 'match_toler': 3.0,\n",
       " 'min_ampl': 300.0,\n",
       " 'n_final': 4,\n",
       " 'n_first': 3,\n",
       " 'nsig_rej': 2.0,\n",
       " 'nsig_rej_final': 3.0,\n",
       " 'wv_cen': 7150.0078125,\n",
       " 'wvmnx': [2900.0, 11000.0]}"
      ]
     },
     "execution_count": 49,
     "metadata": {},
     "output_type": "execute_result"
    }
   ],
   "source": [
    "wv_calib['arcparam']"
   ]
  },
  {
   "cell_type": "code",
   "execution_count": 50,
   "metadata": {},
   "outputs": [
    {
     "data": {
      "text/plain": [
       "dict_keys(['fitc', 'function', 'xfit', 'yfit', 'ions', 'fmin', 'fmax', 'xnorm', 'xrej', 'yrej', 'mask', 'spec', 'nrej', 'shift', 'tcent', 'rms'])"
      ]
     },
     "execution_count": 50,
     "metadata": {},
     "output_type": "execute_result"
    }
   ],
   "source": [
    "wv_calib['0'].keys()"
   ]
  },
  {
   "cell_type": "markdown",
   "metadata": {},
   "source": [
    "----"
   ]
  },
  {
   "cell_type": "markdown",
   "metadata": {},
   "source": [
    "## Wave Tilts"
   ]
  },
  {
   "cell_type": "code",
   "execution_count": 51,
   "metadata": {
    "collapsed": true
   },
   "outputs": [],
   "source": [
    "# Settings kludges\n",
    "tilt_settings = dict(tilts=settings.argflag['trace']['slits']['tilts'].copy(),\n",
    "                     masters=settings.argflag['reduce']['masters'])\n",
    "tilt_settings['tilts']['function'] = settings.argflag['trace']['slits']['function']"
   ]
  },
  {
   "cell_type": "code",
   "execution_count": 52,
   "metadata": {
    "collapsed": true
   },
   "outputs": [],
   "source": [
    "# Instantiate\n",
    "waveTilts = wavetilts.WaveTilts(msarc, settings=tilt_settings,\n",
    "                                    det=det, setup=setup,\n",
    "                                    tslits_dict=tslits_dict, settings_det=settings_det,\n",
    "                                    pixlocn=pixlocn)"
   ]
  },
  {
   "cell_type": "code",
   "execution_count": 53,
   "metadata": {},
   "outputs": [
    {
     "name": "stderr",
     "output_type": "stream",
     "text": [
      "\u001b[1;32m[INFO]    ::\u001b[0m \u001b[1;34mararc.py 85 get_censpec()\u001b[0m - Extracting an approximate arc spectrum at the centre of each slit\n",
      "\u001b[1;30m[WORK IN ]::\u001b[0m\n",
      "\u001b[1;33m[PROGRESS]::\u001b[0m \u001b[1;34martracewave.py 205 trace_tilt()\u001b[0m - Detecting lines for slit 1\n",
      "\u001b[1;32m[INFO]    ::\u001b[0m \u001b[1;34mararc.py 177 detect_lines()\u001b[0m - Detecting lines\n",
      "\u001b[1;32m[INFO]    ::\u001b[0m \u001b[1;34mararc.py 203 detect_lines()\u001b[0m - Detecting the strongest, nonsaturated lines\n",
      "\u001b[1;32m[INFO]    ::\u001b[0m \u001b[1;34martracewave.py 263 trace_tilt()\u001b[0m - Modelling arc line tilts with 51 arc lines\n",
      "\u001b[1;30m[WORK IN ]::\u001b[0m\n",
      "\u001b[1;33m[PROGRESS]::\u001b[0m \u001b[1;34martracewave.py 269 trace_tilt()\u001b[0m - This next step could be multiprocessed to speed up the reduction\n",
      "\u001b[1;32m[INFO]    ::\u001b[0m \u001b[1;34martracewave.py 437 trace_tilt()\u001b[0m - Completed spectral tilt tracing\n",
      "\u001b[1;31m[WARNING] ::\u001b[0m \u001b[1;34mwavetilts.py 192 _analyze_lines()\u001b[0m - There were 13 additional arc lines that should have been traced\n",
      "             (perhaps lines were saturated?). Check the spectral tilt solution\n",
      "\u001b[1;32m[INFO]    ::\u001b[0m \u001b[1;34martracewave.py 780 fit_tilts()\u001b[0m - Fitting tilts with a low order, 2D legendre\n",
      "\u001b[1;30m[WORK IN ]::\u001b[0m\n",
      "\u001b[1;33m[PROGRESS]::\u001b[0m \u001b[1;34marutils.py 811 polyfit2d_general()\u001b[0m - Generalize to different polynomial types\n",
      "\u001b[1;32m[INFO]    ::\u001b[0m \u001b[1;34martracewave.py 799 fit_tilts()\u001b[0m - RMS (pixels): 0.004461452134072074\n"
     ]
    }
   ],
   "source": [
    "# Run\n",
    "mstilts, wt_maskslits = waveTilts.run(maskslits=maskslits, wv_calib=wv_calib)"
   ]
  },
  {
   "cell_type": "code",
   "execution_count": 54,
   "metadata": {},
   "outputs": [
    {
     "name": "stderr",
     "output_type": "stream",
     "text": [
      "\u001b[1;32m[INFO]    ::\u001b[0m \u001b[1;34mwavetilts.py 429 show()\u001b[0m - Green = ok line;  red=not used\n"
     ]
    }
   ],
   "source": [
    "waveTilts.show('fweight', slit=0)"
   ]
  },
  {
   "cell_type": "code",
   "execution_count": 55,
   "metadata": {},
   "outputs": [
    {
     "name": "stderr",
     "output_type": "stream",
     "text": [
      "\u001b[1;31m[WARNING] ::\u001b[0m \u001b[1;34mwavetilts.py 464 show()\u001b[0m - Display via tilts is not exact\n"
     ]
    }
   ],
   "source": [
    "waveTilts.show('tilts', slit=0)"
   ]
  },
  {
   "cell_type": "markdown",
   "metadata": {},
   "source": [
    "----"
   ]
  },
  {
   "cell_type": "markdown",
   "metadata": {},
   "source": [
    "## Pixel Flat Field"
   ]
  },
  {
   "cell_type": "code",
   "execution_count": 56,
   "metadata": {
    "collapsed": true
   },
   "outputs": [],
   "source": [
    "# Settings\n",
    "flat_settings = dict(flatfield=settings.argflag['reduce']['flatfield'].copy(),\n",
    "                     slitprofile=settings.argflag['reduce']['slitprofile'].copy(),\n",
    "                     combine=settings.argflag['pixelflat']['combine'].copy(),\n",
    "                     masters=settings.argflag['reduce']['masters'].copy(),\n",
    "                     detector=settings.spect[dnum])"
   ]
  },
  {
   "cell_type": "code",
   "execution_count": 57,
   "metadata": {
    "collapsed": true
   },
   "outputs": [],
   "source": [
    "# Instantiate\n",
    "pixflat_image_files = arsort.list_of_files(fitstbl, 'pixelflat', sci_ID)\n",
    "flatField = flatfield.FlatField(file_list=pixflat_image_files, msbias=msbias,\n",
    "                                spectrograph=spectrograph,\n",
    "                                settings=flat_settings,\n",
    "                                tslits_dict=tslits_dict,\n",
    "                                tilts=mstilts, det=det, setup=setup,\n",
    "                                datasec_img=datasec_img)"
   ]
  },
  {
   "cell_type": "code",
   "execution_count": 58,
   "metadata": {},
   "outputs": [
    {
     "name": "stderr",
     "output_type": "stream",
     "text": [
      "\u001b[1;32m[INFO]    ::\u001b[0m \u001b[1;34marload.py 327 load_raw_frame()\u001b[0m - Loading raw_file: /home/xavier/local/Python/PYPIT-development-suite/RAW_DATA/Keck_LRIS_red/long_600_7500_d560/LR.20160216.14244.fits\n",
      "\u001b[1;32m[INFO]    ::\u001b[0m \u001b[1;34marlris.py 48 read_lris()\u001b[0m - Reading LRIS file: /home/xavier/local/Python/PYPIT-development-suite/RAW_DATA/Keck_LRIS_red/long_600_7500_d560/LR.20160216.14244.fits\n",
      "\u001b[1;32m[INFO]    ::\u001b[0m \u001b[1;34marload.py 327 load_raw_frame()\u001b[0m - Loading raw_file: /home/xavier/local/Python/PYPIT-development-suite/RAW_DATA/Keck_LRIS_red/long_600_7500_d560/LR.20160216.14322.fits\n",
      "\u001b[1;32m[INFO]    ::\u001b[0m \u001b[1;34marlris.py 48 read_lris()\u001b[0m - Reading LRIS file: /home/xavier/local/Python/PYPIT-development-suite/RAW_DATA/Keck_LRIS_red/long_600_7500_d560/LR.20160216.14322.fits\n",
      "\u001b[1;32m[INFO]    ::\u001b[0m \u001b[1;34marload.py 327 load_raw_frame()\u001b[0m - Loading raw_file: /home/xavier/local/Python/PYPIT-development-suite/RAW_DATA/Keck_LRIS_red/long_600_7500_d560/LR.20160216.14399.fits\n",
      "\u001b[1;32m[INFO]    ::\u001b[0m \u001b[1;34marlris.py 48 read_lris()\u001b[0m - Reading LRIS file: /home/xavier/local/Python/PYPIT-development-suite/RAW_DATA/Keck_LRIS_red/long_600_7500_d560/LR.20160216.14399.fits\n",
      "\u001b[1;32m[INFO]    ::\u001b[0m \u001b[1;34marprocimg.py 174 get_datasec()\u001b[0m - Parsing datasec and oscansec from headers\n",
      "\u001b[1;32m[INFO]    ::\u001b[0m \u001b[1;34marlris.py 48 read_lris()\u001b[0m - Reading LRIS file: /home/xavier/local/Python/PYPIT-development-suite/RAW_DATA/Keck_LRIS_red/long_600_7500_d560/LR.20160216.14244.fits\n",
      "\u001b[1;32m[INFO]    ::\u001b[0m \u001b[1;34mprocessimages.py 272 bias_subtract()\u001b[0m - Bias subtracting your image(s)\n",
      "\u001b[1;32m[INFO]    ::\u001b[0m \u001b[1;34marprocimg.py 77 bias_subtract()\u001b[0m - Subtracting bias image from raw frame\n",
      "\u001b[1;32m[INFO]    ::\u001b[0m \u001b[1;34marprocimg.py 77 bias_subtract()\u001b[0m - Subtracting bias image from raw frame\n",
      "\u001b[1;32m[INFO]    ::\u001b[0m \u001b[1;34marprocimg.py 77 bias_subtract()\u001b[0m - Subtracting bias image from raw frame\n",
      "\u001b[1;32m[INFO]    ::\u001b[0m \u001b[1;34marcomb.py 94 core_comb_frames()\u001b[0m - Combining 3 pixelflat frames\n",
      "\u001b[1;30m[WORK IN ]::\u001b[0m\n",
      "\u001b[1;33m[PROGRESS]::\u001b[0m \u001b[1;34marcomb.py 98 core_comb_frames()\u001b[0m - lscomb feature has not been included here yet...\n",
      "\u001b[1;32m[INFO]    ::\u001b[0m \u001b[1;34marcomb.py 162 core_comb_frames()\u001b[0m - Finding saturated and non-linear pixels\n",
      "\u001b[1;32m[INFO]    ::\u001b[0m \u001b[1;34marcomb.py 189 core_comb_frames()\u001b[0m - Rejecting cosmic rays\n",
      "\u001b[1;32m[INFO]    ::\u001b[0m \u001b[1;34marcomb.py 231 core_comb_frames()\u001b[0m - Not rejecting any low/high pixels\n",
      "\u001b[1;32m[INFO]    ::\u001b[0m \u001b[1;34marcomb.py 235 core_comb_frames()\u001b[0m - Rejecting deviant pixels\n",
      "\u001b[1;32m[INFO]    ::\u001b[0m \u001b[1;34marcomb.py 256 core_comb_frames()\u001b[0m - Combining frames with a weightmean operation\n",
      "\u001b[1;32m[INFO]    ::\u001b[0m \u001b[1;34marcomb.py 294 core_comb_frames()\u001b[0m - Replacing completely masked pixels with the maxnonsat value of the input frames\n",
      "\u001b[1;32m[INFO]    ::\u001b[0m \u001b[1;34marcomb.py 307 core_comb_frames()\u001b[0m - 3 pixelflat frames combined successfully!\n",
      "\u001b[1;31m[WARNING] ::\u001b[0m \u001b[1;34marprocimg.py 505 gain_frame()\u001b[0m - Should probably be measuring the gain across the amplifier boundary\n",
      "\u001b[1;32m[INFO]    ::\u001b[0m \u001b[1;34mflatfield.py 297 run()\u001b[0m - Setting pixels outside of slits to 1. in the flat.\n"
     ]
    }
   ],
   "source": [
    "# Run\n",
    "mspixflatnrm, slitprof = flatField.run(armed=False)"
   ]
  },
  {
   "cell_type": "code",
   "execution_count": 59,
   "metadata": {
    "collapsed": true
   },
   "outputs": [],
   "source": [
    "flatField.show('norm')"
   ]
  },
  {
   "cell_type": "markdown",
   "metadata": {},
   "source": [
    "----"
   ]
  },
  {
   "cell_type": "markdown",
   "metadata": {},
   "source": [
    "## Wavelength Image"
   ]
  },
  {
   "cell_type": "code",
   "execution_count": 60,
   "metadata": {
    "collapsed": true
   },
   "outputs": [],
   "source": [
    "# Settings\n",
    "wvimg_settings = dict(masters=settings.argflag['reduce']['masters'].copy())"
   ]
  },
  {
   "cell_type": "code",
   "execution_count": 61,
   "metadata": {
    "collapsed": true
   },
   "outputs": [],
   "source": [
    "# Instantiate\n",
    "waveImage = waveimage.WaveImage(mstilts, wv_calib, settings=wvimg_settings,\n",
    "                                    setup=setup, maskslits=maskslits,\n",
    "                                    slitpix=tslits_dict['slitpix'])"
   ]
  },
  {
   "cell_type": "code",
   "execution_count": 62,
   "metadata": {
    "collapsed": true
   },
   "outputs": [],
   "source": [
    "# Build\n",
    "mswave = waveImage._build_wave()"
   ]
  },
  {
   "cell_type": "code",
   "execution_count": 63,
   "metadata": {
    "collapsed": true
   },
   "outputs": [],
   "source": [
    "waveImage.show('wave')"
   ]
  },
  {
   "cell_type": "markdown",
   "metadata": {},
   "source": [
    "----"
   ]
  },
  {
   "cell_type": "markdown",
   "metadata": {},
   "source": [
    "## Science Image"
   ]
  },
  {
   "cell_type": "markdown",
   "metadata": {},
   "source": [
    "### File list"
   ]
  },
  {
   "cell_type": "code",
   "execution_count": 64,
   "metadata": {
    "collapsed": true
   },
   "outputs": [],
   "source": [
    "sci_image_files = arsort.list_of_files(fitstbl, 'science', sci_ID)"
   ]
  },
  {
   "cell_type": "code",
   "execution_count": 65,
   "metadata": {
    "collapsed": true
   },
   "outputs": [],
   "source": [
    "# Settings\n",
    "sci_settings = tsettings.copy()"
   ]
  },
  {
   "cell_type": "markdown",
   "metadata": {},
   "source": [
    "### Instantiate"
   ]
  },
  {
   "cell_type": "code",
   "execution_count": 66,
   "metadata": {
    "collapsed": true
   },
   "outputs": [],
   "source": [
    "# Instantiate\n",
    "sciI = scienceimage.ScienceImage(file_list=sci_image_files, datasec_img=datasec_img,\n",
    "                                 bpm=msbpm, det=det, setup=setup, settings=sci_settings,\n",
    "                                 maskslits=maskslits, pixlocn=pixlocn, tslits_dict=tslits_dict,\n",
    "                                 tilts=mstilts, fitstbl=fitstbl, scidx=scidx)"
   ]
  },
  {
   "cell_type": "markdown",
   "metadata": {},
   "source": [
    "### Name, time"
   ]
  },
  {
   "cell_type": "code",
   "execution_count": 67,
   "metadata": {},
   "outputs": [
    {
     "data": {
      "text/plain": [
       "'OFF_J1044p6306_LRISr_2016Feb16T112439'"
      ]
     },
     "execution_count": 67,
     "metadata": {},
     "output_type": "execute_result"
    }
   ],
   "source": [
    "# Names and time\n",
    "obstime, basename = sciI.init_time_names(settings.spect['mosaic']['camera'],\n",
    "                timeunit=settings.spect[\"fits\"][\"timeunit\"])\n",
    "basename"
   ]
  },
  {
   "cell_type": "markdown",
   "metadata": {},
   "source": [
    "### Process"
   ]
  },
  {
   "cell_type": "code",
   "execution_count": 68,
   "metadata": {},
   "outputs": [
    {
     "name": "stderr",
     "output_type": "stream",
     "text": [
      "\u001b[1;32m[INFO]    ::\u001b[0m \u001b[1;34marload.py 327 load_raw_frame()\u001b[0m - Loading raw_file: /home/xavier/local/Python/PYPIT-development-suite/RAW_DATA/Keck_LRIS_red/long_600_7500_d560/LR.20160216.40478.fits\n",
      "\u001b[1;32m[INFO]    ::\u001b[0m \u001b[1;34marlris.py 48 read_lris()\u001b[0m - Reading LRIS file: /home/xavier/local/Python/PYPIT-development-suite/RAW_DATA/Keck_LRIS_red/long_600_7500_d560/LR.20160216.40478.fits\n",
      "\u001b[1;32m[INFO]    ::\u001b[0m \u001b[1;34marprocimg.py 174 get_datasec()\u001b[0m - Parsing datasec and oscansec from headers\n",
      "\u001b[1;32m[INFO]    ::\u001b[0m \u001b[1;34marlris.py 48 read_lris()\u001b[0m - Reading LRIS file: /home/xavier/local/Python/PYPIT-development-suite/RAW_DATA/Keck_LRIS_red/long_600_7500_d560/LR.20160216.40478.fits\n",
      "\u001b[1;32m[INFO]    ::\u001b[0m \u001b[1;34mprocessimages.py 272 bias_subtract()\u001b[0m - Bias subtracting your image(s)\n",
      "\u001b[1;32m[INFO]    ::\u001b[0m \u001b[1;34marprocimg.py 77 bias_subtract()\u001b[0m - Subtracting bias image from raw frame\n",
      "\u001b[1;31m[WARNING] ::\u001b[0m \u001b[1;34marprocimg.py 505 gain_frame()\u001b[0m - Should probably be measuring the gain across the amplifier boundary\n",
      "\u001b[1;32m[INFO]    ::\u001b[0m \u001b[1;34mprocessimages.py 430 build_rawvarframe()\u001b[0m - Generate raw variance frame (from detected counts [flat fielded])\n",
      "\u001b[1;32m[INFO]    ::\u001b[0m \u001b[1;34marprocimg.py 236 lacosmic()\u001b[0m - Detecting cosmic rays with the L.A.Cosmic algorithm\n",
      "\u001b[1;30m[WORK IN ]::\u001b[0m\n",
      "\u001b[1;33m[PROGRESS]::\u001b[0m \u001b[1;34marprocimg.py 237 lacosmic()\u001b[0m - Include these parameters in the settings files to be adjusted by the user\n",
      "\u001b[1;32m[INFO]    ::\u001b[0m \u001b[1;34marprocimg.py 259 lacosmic()\u001b[0m - Convolving image with Laplacian kernel\n",
      "\u001b[1;32m[INFO]    ::\u001b[0m \u001b[1;34marprocimg.py 267 lacosmic()\u001b[0m - Creating noise model\n",
      "\u001b[1;32m[INFO]    ::\u001b[0m \u001b[1;34marprocimg.py 274 lacosmic()\u001b[0m - Calculating Laplacian signal to noise ratio\n",
      "\u001b[1;32m[INFO]    ::\u001b[0m \u001b[1;34marprocimg.py 282 lacosmic()\u001b[0m - Selecting candidate cosmic rays\n",
      "\u001b[1;32m[INFO]    ::\u001b[0m \u001b[1;34marprocimg.py 287 lacosmic()\u001b[0m - 80163 candidate pixels\n",
      "\u001b[1;32m[INFO]    ::\u001b[0m \u001b[1;34marprocimg.py 291 lacosmic()\u001b[0m - Masking saturated pixels\n",
      "\u001b[1;32m[INFO]    ::\u001b[0m \u001b[1;34marprocimg.py 295 lacosmic()\u001b[0m - 80161 candidate pixels not part of saturated stars\n",
      "\u001b[1;32m[INFO]    ::\u001b[0m \u001b[1;34marprocimg.py 297 lacosmic()\u001b[0m - Building fine structure image\n",
      "\u001b[1;32m[INFO]    ::\u001b[0m \u001b[1;34marprocimg.py 306 lacosmic()\u001b[0m - Removing suspected compact bright objects\n",
      "\u001b[1;32m[INFO]    ::\u001b[0m \u001b[1;34marprocimg.py 316 lacosmic()\u001b[0m - 49554 remaining candidate pixels\n",
      "\u001b[1;32m[INFO]    ::\u001b[0m \u001b[1;34marprocimg.py 320 lacosmic()\u001b[0m - Finding neighboring pixels affected by cosmic rays\n",
      "\u001b[1;32m[INFO]    ::\u001b[0m \u001b[1;34marprocimg.py 336 lacosmic()\u001b[0m - Masking saturated stars\n",
      "\u001b[1;32m[INFO]    ::\u001b[0m \u001b[1;34marprocimg.py 341 lacosmic()\u001b[0m - 109612 pixels detected as cosmics\n",
      "\u001b[1;32m[INFO]    ::\u001b[0m \u001b[1;34marprocimg.py 350 lacosmic()\u001b[0m - Iteration 1 -- 109612 pixels identified as cosmic rays (109612 new)\n",
      "\u001b[1;30m[WORK IN ]::\u001b[0m\n",
      "\u001b[1;33m[PROGRESS]::\u001b[0m \u001b[1;34marprocimg.py 353 lacosmic()\u001b[0m - The following algorithm would be better on the rectified, tilts-corrected image\n",
      "\u001b[1;32m[INFO]    ::\u001b[0m \u001b[1;34marprocimg.py 408 lacosmic()\u001b[0m - Growing cosmic ray mask by 1 pixel\n"
     ]
    }
   ],
   "source": [
    "# Process (includes Variance image and CRs)\n",
    "dnoise = (settings_det['darkcurr'] * float(fitstbl[\"exptime\"][scidx])/3600.0)\n",
    "sciframe, rawvarframe, crmask = sciI._process(\n",
    "    msbias, mspixflatnrm, apply_gain=True, dnoise=dnoise)"
   ]
  },
  {
   "cell_type": "code",
   "execution_count": 69,
   "metadata": {
    "collapsed": true
   },
   "outputs": [],
   "source": [
    "sciI.show('sci')"
   ]
  },
  {
   "cell_type": "markdown",
   "metadata": {},
   "source": [
    "### Global sky sub"
   ]
  },
  {
   "cell_type": "code",
   "execution_count": 70,
   "metadata": {},
   "outputs": [
    {
     "name": "stderr",
     "output_type": "stream",
     "text": [
      "\u001b[1;32m[INFO]    ::\u001b[0m \u001b[1;34mscienceimage.py 459 global_skysub()\u001b[0m - Working on slit: 0\n",
      "\u001b[1;32m[INFO]    ::\u001b[0m \u001b[1;34marutils.py 198 bspline_profile()\u001b[0m - Fitting npoly =  1 profile basis functions, nx=584071 pixels\n",
      "\u001b[1;32m[INFO]    ::\u001b[0m \u001b[1;34marutils.py 199 bspline_profile()\u001b[0m - ****************************  Iter  Chi^2  # rejected  Rel. fact   ****************************\n",
      "\u001b[1;32m[INFO]    ::\u001b[0m \u001b[1;34marutils.py 200 bspline_profile()\u001b[0m -                               ----  -----  ----------  --------- \n",
      "\u001b[1;32m[INFO]    ::\u001b[0m \u001b[1;34marutils.py 281 bspline_profile()\u001b[0m -                                 1   0.003        0        1.00\n",
      "\u001b[1;32m[INFO]    ::\u001b[0m \u001b[1;34marutils.py 286 bspline_profile()\u001b[0m - ***********************************************************************************************\n",
      "\u001b[1;32m[INFO]    ::\u001b[0m \u001b[1;34marutils.py 289 bspline_profile()\u001b[0m - Final fit after  1 iterations: reduced_chi =    0.003, rejected =       0, relative_factor =   1.00\n",
      "\u001b[1;32m[INFO]    ::\u001b[0m \u001b[1;34marutils.py 198 bspline_profile()\u001b[0m - Fitting npoly =  1 profile basis functions, nx=584197 pixels\n",
      "\u001b[1;32m[INFO]    ::\u001b[0m \u001b[1;34marutils.py 199 bspline_profile()\u001b[0m - ****************************  Iter  Chi^2  # rejected  Rel. fact   ****************************\n",
      "\u001b[1;32m[INFO]    ::\u001b[0m \u001b[1;34marutils.py 200 bspline_profile()\u001b[0m -                               ----  -----  ----------  --------- \n",
      "\u001b[1;32m[INFO]    ::\u001b[0m \u001b[1;34marutils.py 281 bspline_profile()\u001b[0m -                                 1   1.242     4682        1.00\n",
      "\u001b[1;32m[INFO]    ::\u001b[0m \u001b[1;34marutils.py 286 bspline_profile()\u001b[0m - ***********************************************************************************************\n",
      "\u001b[1;32m[INFO]    ::\u001b[0m \u001b[1;34marutils.py 289 bspline_profile()\u001b[0m - Final fit after  1 iterations: reduced_chi =    1.242, rejected =    4682, relative_factor =   1.00\n",
      "\u001b[1;32m[INFO]    ::\u001b[0m \u001b[1;34mscienceimage.py 469 global_skysub()\u001b[0m - Building model variance from the Sky frame\n"
     ]
    }
   ],
   "source": [
    "# Global skysub\n",
    "settings_skysub = {}\n",
    "settings_skysub['skysub'] = settings.argflag['reduce']['skysub'].copy()\n",
    "global_sky, modelvarframe = sciI.global_skysub(settings_skysub)"
   ]
  },
  {
   "cell_type": "code",
   "execution_count": 71,
   "metadata": {
    "collapsed": true
   },
   "outputs": [],
   "source": [
    "sciI.show('skysub')"
   ]
  },
  {
   "cell_type": "markdown",
   "metadata": {},
   "source": [
    "### Find objects"
   ]
  },
  {
   "cell_type": "code",
   "execution_count": 72,
   "metadata": {},
   "outputs": [
    {
     "name": "stderr",
     "output_type": "stream",
     "text": [
      "\u001b[1;32m[INFO]    ::\u001b[0m \u001b[1;34martrace.py 285 trace_objects_in_slit()\u001b[0m - Rectifying science frame\n",
      "\u001b[1;32m[INFO]    ::\u001b[0m \u001b[1;34martrace.py 306 trace_objects_in_slit()\u001b[0m - Estimating object profiles\n",
      "\u001b[1;32m[INFO]    ::\u001b[0m \u001b[1;34martrace.py 375 trace_objects_in_slit()\u001b[0m - Identifying objects that are significantly detected\n",
      "\u001b[1;31m[WARNING] ::\u001b[0m \u001b[1;34martrace.py 430 trace_objects_in_slit()\u001b[0m - Removed objects near the slit edges\n",
      "\u001b[1;32m[INFO]    ::\u001b[0m \u001b[1;34martrace.py 461 trace_objects_in_slit()\u001b[0m - Found 4 objects\n",
      "\u001b[1;32m[INFO]    ::\u001b[0m \u001b[1;34martrace.py 462 trace_objects_in_slit()\u001b[0m - Tracing 4 objects\n",
      "\u001b[1;32m[INFO]    ::\u001b[0m \u001b[1;34martrace.py 498 trace_objects_in_slit()\u001b[0m - Performing global trace to all objects\n",
      "\u001b[1;32m[INFO]    ::\u001b[0m \u001b[1;34martrace.py 501 trace_objects_in_slit()\u001b[0m - Constructing a trace for all objects\n",
      "\u001b[1;32m[INFO]    ::\u001b[0m \u001b[1;34martrace.py 509 trace_objects_in_slit()\u001b[0m - Converting object traces to detector pixels\n",
      "\u001b[1;32m[INFO]    ::\u001b[0m \u001b[1;34martrace.py 90 trace_objbg_image()\u001b[0m - Creating an image weighted by object pixels for 4 objects\n",
      "\u001b[1;32m[INFO]    ::\u001b[0m \u001b[1;34martrace.py 99 trace_objbg_image()\u001b[0m - Creating an image weighted by background pixels\n"
     ]
    }
   ],
   "source": [
    "_, nobj = sciI.find_objects()"
   ]
  },
  {
   "cell_type": "markdown",
   "metadata": {},
   "source": [
    "### Repeat the last 2 steps"
   ]
  },
  {
   "cell_type": "code",
   "execution_count": 73,
   "metadata": {},
   "outputs": [
    {
     "name": "stderr",
     "output_type": "stream",
     "text": [
      "\u001b[1;32m[INFO]    ::\u001b[0m \u001b[1;34mscienceimage.py 459 global_skysub()\u001b[0m - Working on slit: 0\n",
      "\u001b[1;32m[INFO]    ::\u001b[0m \u001b[1;34marutils.py 198 bspline_profile()\u001b[0m - Fitting npoly =  1 profile basis functions, nx=519297 pixels\n",
      "\u001b[1;32m[INFO]    ::\u001b[0m \u001b[1;34marutils.py 199 bspline_profile()\u001b[0m - ****************************  Iter  Chi^2  # rejected  Rel. fact   ****************************\n",
      "\u001b[1;32m[INFO]    ::\u001b[0m \u001b[1;34marutils.py 200 bspline_profile()\u001b[0m -                               ----  -----  ----------  --------- \n",
      "\u001b[1;32m[INFO]    ::\u001b[0m \u001b[1;34marutils.py 281 bspline_profile()\u001b[0m -                                 1   0.003        0        1.00\n",
      "\u001b[1;32m[INFO]    ::\u001b[0m \u001b[1;34marutils.py 286 bspline_profile()\u001b[0m - ***********************************************************************************************\n",
      "\u001b[1;32m[INFO]    ::\u001b[0m \u001b[1;34marutils.py 289 bspline_profile()\u001b[0m - Final fit after  1 iterations: reduced_chi =    0.003, rejected =       0, relative_factor =   1.00\n",
      "\u001b[1;32m[INFO]    ::\u001b[0m \u001b[1;34marutils.py 198 bspline_profile()\u001b[0m - Fitting npoly =  1 profile basis functions, nx=519420 pixels\n",
      "\u001b[1;32m[INFO]    ::\u001b[0m \u001b[1;34marutils.py 199 bspline_profile()\u001b[0m - ****************************  Iter  Chi^2  # rejected  Rel. fact   ****************************\n",
      "\u001b[1;32m[INFO]    ::\u001b[0m \u001b[1;34marutils.py 200 bspline_profile()\u001b[0m -                               ----  -----  ----------  --------- \n",
      "\u001b[1;32m[INFO]    ::\u001b[0m \u001b[1;34marutils.py 281 bspline_profile()\u001b[0m -                                 1   1.287     4524        1.00\n",
      "\u001b[1;32m[INFO]    ::\u001b[0m \u001b[1;34marutils.py 286 bspline_profile()\u001b[0m - ***********************************************************************************************\n",
      "\u001b[1;32m[INFO]    ::\u001b[0m \u001b[1;34marutils.py 289 bspline_profile()\u001b[0m - Final fit after  1 iterations: reduced_chi =    1.287, rejected =    4524, relative_factor =   1.00\n",
      "\u001b[1;32m[INFO]    ::\u001b[0m \u001b[1;34mscienceimage.py 469 global_skysub()\u001b[0m - Building model variance from the Sky frame\n",
      "\u001b[1;32m[INFO]    ::\u001b[0m \u001b[1;34martrace.py 285 trace_objects_in_slit()\u001b[0m - Rectifying science frame\n",
      "\u001b[1;32m[INFO]    ::\u001b[0m \u001b[1;34martrace.py 306 trace_objects_in_slit()\u001b[0m - Estimating object profiles\n",
      "\u001b[1;32m[INFO]    ::\u001b[0m \u001b[1;34martrace.py 375 trace_objects_in_slit()\u001b[0m - Identifying objects that are significantly detected\n",
      "\u001b[1;31m[WARNING] ::\u001b[0m \u001b[1;34martrace.py 430 trace_objects_in_slit()\u001b[0m - Removed objects near the slit edges\n",
      "\u001b[1;32m[INFO]    ::\u001b[0m \u001b[1;34martrace.py 461 trace_objects_in_slit()\u001b[0m - Found 4 objects\n",
      "\u001b[1;32m[INFO]    ::\u001b[0m \u001b[1;34martrace.py 462 trace_objects_in_slit()\u001b[0m - Tracing 4 objects\n",
      "\u001b[1;32m[INFO]    ::\u001b[0m \u001b[1;34martrace.py 498 trace_objects_in_slit()\u001b[0m - Performing global trace to all objects\n",
      "\u001b[1;32m[INFO]    ::\u001b[0m \u001b[1;34martrace.py 501 trace_objects_in_slit()\u001b[0m - Constructing a trace for all objects\n",
      "\u001b[1;32m[INFO]    ::\u001b[0m \u001b[1;34martrace.py 509 trace_objects_in_slit()\u001b[0m - Converting object traces to detector pixels\n",
      "\u001b[1;32m[INFO]    ::\u001b[0m \u001b[1;34martrace.py 90 trace_objbg_image()\u001b[0m - Creating an image weighted by object pixels for 4 objects\n",
      "\u001b[1;32m[INFO]    ::\u001b[0m \u001b[1;34martrace.py 99 trace_objbg_image()\u001b[0m - Creating an image weighted by background pixels\n"
     ]
    }
   ],
   "source": [
    "# Mask the objects\n",
    "global_sky, modelvarframe = sciI.global_skysub(settings_skysub, use_tracemask=True)\n",
    "# Another round of finding objects\n",
    "_, nobj = sciI.find_objects()  "
   ]
  },
  {
   "cell_type": "markdown",
   "metadata": {},
   "source": [
    "### Extraction -- New algorithm in development"
   ]
  },
  {
   "cell_type": "code",
   "execution_count": 74,
   "metadata": {},
   "outputs": [
    {
     "name": "stderr",
     "output_type": "stream",
     "text": [
      "\u001b[1;32m[INFO]    ::\u001b[0m \u001b[1;34mscienceimage.py 278 boxcar()\u001b[0m - Performing boxcar extraction\n",
      "\u001b[1;32m[INFO]    ::\u001b[0m \u001b[1;34marextract.py 80 boxcar()\u001b[0m - Performing boxcar extraction of object 1/4 in slit 1/1\n",
      "\u001b[1;32m[INFO]    ::\u001b[0m \u001b[1;34marextract.py 89 boxcar()\u001b[0m -    Fitting the background\n",
      "\u001b[1;32m[INFO]    ::\u001b[0m \u001b[1;34marextract.py 166 boxcar()\u001b[0m -    Summing object counts\n",
      "\u001b[1;32m[INFO]    ::\u001b[0m \u001b[1;34marextract.py 169 boxcar()\u001b[0m -    Summing variance array\n",
      "\u001b[1;32m[INFO]    ::\u001b[0m \u001b[1;34marextract.py 80 boxcar()\u001b[0m - Performing boxcar extraction of object 2/4 in slit 1/1\n",
      "\u001b[1;32m[INFO]    ::\u001b[0m \u001b[1;34marextract.py 89 boxcar()\u001b[0m -    Fitting the background\n",
      "\u001b[1;32m[INFO]    ::\u001b[0m \u001b[1;34marextract.py 166 boxcar()\u001b[0m -    Summing object counts\n",
      "\u001b[1;32m[INFO]    ::\u001b[0m \u001b[1;34marextract.py 169 boxcar()\u001b[0m -    Summing variance array\n",
      "\u001b[1;32m[INFO]    ::\u001b[0m \u001b[1;34marextract.py 80 boxcar()\u001b[0m - Performing boxcar extraction of object 3/4 in slit 1/1\n",
      "\u001b[1;32m[INFO]    ::\u001b[0m \u001b[1;34marextract.py 89 boxcar()\u001b[0m -    Fitting the background\n",
      "\u001b[1;32m[INFO]    ::\u001b[0m \u001b[1;34marextract.py 166 boxcar()\u001b[0m -    Summing object counts\n",
      "\u001b[1;32m[INFO]    ::\u001b[0m \u001b[1;34marextract.py 169 boxcar()\u001b[0m -    Summing variance array\n",
      "\u001b[1;32m[INFO]    ::\u001b[0m \u001b[1;34marextract.py 80 boxcar()\u001b[0m - Performing boxcar extraction of object 4/4 in slit 1/1\n",
      "\u001b[1;32m[INFO]    ::\u001b[0m \u001b[1;34marextract.py 89 boxcar()\u001b[0m -    Fitting the background\n",
      "\u001b[1;32m[INFO]    ::\u001b[0m \u001b[1;34marextract.py 166 boxcar()\u001b[0m -    Summing object counts\n",
      "\u001b[1;32m[INFO]    ::\u001b[0m \u001b[1;34marextract.py 169 boxcar()\u001b[0m -    Summing variance array\n",
      "\u001b[1;32m[INFO]    ::\u001b[0m \u001b[1;34mscienceimage.py 306 original_optimal()\u001b[0m - Attempting optimal extraction with model profile\n",
      "\u001b[1;30m[WORK IN ]::\u001b[0m\n",
      "\u001b[1;33m[PROGRESS]::\u001b[0m \u001b[1;34marextract.py 259 obj_profiles()\u001b[0m - Should probably loop on S/N\n",
      "\u001b[1;32m[INFO]    ::\u001b[0m \u001b[1;34marextract.py 261 obj_profiles()\u001b[0m - Deriving spatial profile of object 1/4 in slit 1/1\n",
      "\u001b[1;30m[WORK IN ]::\u001b[0m\n",
      "\u001b[1;33m[PROGRESS]::\u001b[0m \u001b[1;34martrace.py 1819 slit_image()\u001b[0m - Use 2D spline to evaluate tilts\n",
      "\u001b[1;30m[WORK IN ]::\u001b[0m\n",
      "\u001b[1;33m[PROGRESS]::\u001b[0m \u001b[1;34martrace.py 1824 slit_image()\u001b[0m - Should worry about changing plate scale\n",
      "\u001b[1;32m[INFO]    ::\u001b[0m \u001b[1;34marextract.py 284 obj_profiles()\u001b[0m - Good S/N for profile\n",
      "\u001b[1;30m[WORK IN ]::\u001b[0m\n",
      "\u001b[1;33m[PROGRESS]::\u001b[0m \u001b[1;34marextract.py 294 obj_profiles()\u001b[0m - Weight by S/N in boxcar extraction? [avoid CRs; smooth?]\n",
      "\u001b[1;30m[WORK IN ]::\u001b[0m\n",
      "\u001b[1;33m[PROGRESS]::\u001b[0m \u001b[1;34marextract.py 303 obj_profiles()\u001b[0m - Might give our own guess here instead of using default\n",
      "\u001b[1;30m[WORK IN ]::\u001b[0m\n",
      "\u001b[1;33m[PROGRESS]::\u001b[0m \u001b[1;34marextract.py 323 obj_profiles()\u001b[0m - Consider flagging/removing CRs here\n",
      "\u001b[1;32m[INFO]    ::\u001b[0m \u001b[1;34marextract.py 261 obj_profiles()\u001b[0m - Deriving spatial profile of object 2/4 in slit 1/1\n",
      "\u001b[1;30m[WORK IN ]::\u001b[0m\n",
      "\u001b[1;33m[PROGRESS]::\u001b[0m \u001b[1;34martrace.py 1819 slit_image()\u001b[0m - Use 2D spline to evaluate tilts\n",
      "\u001b[1;30m[WORK IN ]::\u001b[0m\n",
      "\u001b[1;33m[PROGRESS]::\u001b[0m \u001b[1;34martrace.py 1824 slit_image()\u001b[0m - Should worry about changing plate scale\n",
      "\u001b[1;32m[INFO]    ::\u001b[0m \u001b[1;34marextract.py 284 obj_profiles()\u001b[0m - Good S/N for profile\n",
      "\u001b[1;30m[WORK IN ]::\u001b[0m\n",
      "\u001b[1;33m[PROGRESS]::\u001b[0m \u001b[1;34marextract.py 294 obj_profiles()\u001b[0m - Weight by S/N in boxcar extraction? [avoid CRs; smooth?]\n",
      "\u001b[1;30m[WORK IN ]::\u001b[0m\n",
      "\u001b[1;33m[PROGRESS]::\u001b[0m \u001b[1;34marextract.py 303 obj_profiles()\u001b[0m - Might give our own guess here instead of using default\n",
      "\u001b[1;30m[WORK IN ]::\u001b[0m\n",
      "\u001b[1;33m[PROGRESS]::\u001b[0m \u001b[1;34marextract.py 323 obj_profiles()\u001b[0m - Consider flagging/removing CRs here\n",
      "\u001b[1;32m[INFO]    ::\u001b[0m \u001b[1;34marextract.py 261 obj_profiles()\u001b[0m - Deriving spatial profile of object 3/4 in slit 1/1\n",
      "\u001b[1;30m[WORK IN ]::\u001b[0m\n",
      "\u001b[1;33m[PROGRESS]::\u001b[0m \u001b[1;34martrace.py 1819 slit_image()\u001b[0m - Use 2D spline to evaluate tilts\n",
      "\u001b[1;30m[WORK IN ]::\u001b[0m\n",
      "\u001b[1;33m[PROGRESS]::\u001b[0m \u001b[1;34martrace.py 1824 slit_image()\u001b[0m - Should worry about changing plate scale\n",
      "\u001b[1;32m[INFO]    ::\u001b[0m \u001b[1;34marextract.py 284 obj_profiles()\u001b[0m - Good S/N for profile\n",
      "\u001b[1;30m[WORK IN ]::\u001b[0m\n",
      "\u001b[1;33m[PROGRESS]::\u001b[0m \u001b[1;34marextract.py 294 obj_profiles()\u001b[0m - Weight by S/N in boxcar extraction? [avoid CRs; smooth?]\n",
      "\u001b[1;30m[WORK IN ]::\u001b[0m\n",
      "\u001b[1;33m[PROGRESS]::\u001b[0m \u001b[1;34marextract.py 303 obj_profiles()\u001b[0m - Might give our own guess here instead of using default\n",
      "\u001b[1;30m[WORK IN ]::\u001b[0m\n",
      "\u001b[1;33m[PROGRESS]::\u001b[0m \u001b[1;34marextract.py 323 obj_profiles()\u001b[0m - Consider flagging/removing CRs here\n",
      "\u001b[1;32m[INFO]    ::\u001b[0m \u001b[1;34marextract.py 261 obj_profiles()\u001b[0m - Deriving spatial profile of object 4/4 in slit 1/1\n",
      "\u001b[1;30m[WORK IN ]::\u001b[0m\n",
      "\u001b[1;33m[PROGRESS]::\u001b[0m \u001b[1;34martrace.py 1819 slit_image()\u001b[0m - Use 2D spline to evaluate tilts\n",
      "\u001b[1;30m[WORK IN ]::\u001b[0m\n",
      "\u001b[1;33m[PROGRESS]::\u001b[0m \u001b[1;34martrace.py 1824 slit_image()\u001b[0m - Should worry about changing plate scale\n",
      "\u001b[1;32m[INFO]    ::\u001b[0m \u001b[1;34marextract.py 284 obj_profiles()\u001b[0m - Good S/N for profile\n",
      "\u001b[1;30m[WORK IN ]::\u001b[0m\n",
      "\u001b[1;33m[PROGRESS]::\u001b[0m \u001b[1;34marextract.py 294 obj_profiles()\u001b[0m - Weight by S/N in boxcar extraction? [avoid CRs; smooth?]\n",
      "\u001b[1;30m[WORK IN ]::\u001b[0m\n",
      "\u001b[1;33m[PROGRESS]::\u001b[0m \u001b[1;34marextract.py 303 obj_profiles()\u001b[0m - Might give our own guess here instead of using default\n",
      "\u001b[1;30m[WORK IN ]::\u001b[0m\n",
      "\u001b[1;33m[PROGRESS]::\u001b[0m \u001b[1;34marextract.py 323 obj_profiles()\u001b[0m - Consider flagging/removing CRs here\n",
      "\u001b[1;32m[INFO]    ::\u001b[0m \u001b[1;34marextract.py 465 optimal_extract()\u001b[0m - Performing optimal extraction of object 1/4 in slit 1/1\n",
      "\u001b[1;30m[WORK IN ]::\u001b[0m\n",
      "\u001b[1;33m[PROGRESS]::\u001b[0m \u001b[1;34martrace.py 1819 slit_image()\u001b[0m - Use 2D spline to evaluate tilts\n",
      "\u001b[1;30m[WORK IN ]::\u001b[0m\n",
      "\u001b[1;33m[PROGRESS]::\u001b[0m \u001b[1;34martrace.py 1824 slit_image()\u001b[0m - Should worry about changing plate scale\n",
      "\u001b[1;32m[INFO]    ::\u001b[0m \u001b[1;34marextract.py 465 optimal_extract()\u001b[0m - Performing optimal extraction of object 2/4 in slit 1/1\n",
      "\u001b[1;30m[WORK IN ]::\u001b[0m\n",
      "\u001b[1;33m[PROGRESS]::\u001b[0m \u001b[1;34martrace.py 1819 slit_image()\u001b[0m - Use 2D spline to evaluate tilts\n",
      "\u001b[1;30m[WORK IN ]::\u001b[0m\n",
      "\u001b[1;33m[PROGRESS]::\u001b[0m \u001b[1;34martrace.py 1824 slit_image()\u001b[0m - Should worry about changing plate scale\n",
      "\u001b[1;31m[WARNING] ::\u001b[0m \u001b[1;34marextract.py 507 optimal_extract()\u001b[0m - Replacing fully masked regions with mean wavelengths\n",
      "\u001b[1;32m[INFO]    ::\u001b[0m \u001b[1;34marextract.py 465 optimal_extract()\u001b[0m - Performing optimal extraction of object 3/4 in slit 1/1\n",
      "\u001b[1;30m[WORK IN ]::\u001b[0m\n",
      "\u001b[1;33m[PROGRESS]::\u001b[0m \u001b[1;34martrace.py 1819 slit_image()\u001b[0m - Use 2D spline to evaluate tilts\n",
      "\u001b[1;30m[WORK IN ]::\u001b[0m\n",
      "\u001b[1;33m[PROGRESS]::\u001b[0m \u001b[1;34martrace.py 1824 slit_image()\u001b[0m - Should worry about changing plate scale\n",
      "\u001b[1;31m[WARNING] ::\u001b[0m \u001b[1;34marextract.py 507 optimal_extract()\u001b[0m - Replacing fully masked regions with mean wavelengths\n",
      "\u001b[1;32m[INFO]    ::\u001b[0m \u001b[1;34marextract.py 465 optimal_extract()\u001b[0m - Performing optimal extraction of object 4/4 in slit 1/1\n",
      "\u001b[1;30m[WORK IN ]::\u001b[0m\n",
      "\u001b[1;33m[PROGRESS]::\u001b[0m \u001b[1;34martrace.py 1819 slit_image()\u001b[0m - Use 2D spline to evaluate tilts\n",
      "\u001b[1;30m[WORK IN ]::\u001b[0m\n",
      "\u001b[1;33m[PROGRESS]::\u001b[0m \u001b[1;34martrace.py 1824 slit_image()\u001b[0m - Should worry about changing plate scale\n",
      "\u001b[1;31m[WARNING] ::\u001b[0m \u001b[1;34marextract.py 507 optimal_extract()\u001b[0m - Replacing fully masked regions with mean wavelengths\n",
      "\u001b[1;32m[INFO]    ::\u001b[0m \u001b[1;34mscienceimage.py 360 extraction()\u001b[0m - Update model variance image (and trace?) and repeat\n",
      "\u001b[1;32m[INFO]    ::\u001b[0m \u001b[1;34mscienceimage.py 306 original_optimal()\u001b[0m - Attempting optimal extraction with model profile\n",
      "\u001b[1;30m[WORK IN ]::\u001b[0m\n",
      "\u001b[1;33m[PROGRESS]::\u001b[0m \u001b[1;34marextract.py 259 obj_profiles()\u001b[0m - Should probably loop on S/N\n",
      "\u001b[1;32m[INFO]    ::\u001b[0m \u001b[1;34marextract.py 261 obj_profiles()\u001b[0m - Deriving spatial profile of object 1/4 in slit 1/1\n",
      "\u001b[1;30m[WORK IN ]::\u001b[0m\n",
      "\u001b[1;33m[PROGRESS]::\u001b[0m \u001b[1;34martrace.py 1819 slit_image()\u001b[0m - Use 2D spline to evaluate tilts\n",
      "\u001b[1;30m[WORK IN ]::\u001b[0m\n",
      "\u001b[1;33m[PROGRESS]::\u001b[0m \u001b[1;34martrace.py 1824 slit_image()\u001b[0m - Should worry about changing plate scale\n",
      "\u001b[1;32m[INFO]    ::\u001b[0m \u001b[1;34marextract.py 284 obj_profiles()\u001b[0m - Good S/N for profile\n",
      "\u001b[1;30m[WORK IN ]::\u001b[0m\n",
      "\u001b[1;33m[PROGRESS]::\u001b[0m \u001b[1;34marextract.py 294 obj_profiles()\u001b[0m - Weight by S/N in boxcar extraction? [avoid CRs; smooth?]\n",
      "\u001b[1;30m[WORK IN ]::\u001b[0m\n",
      "\u001b[1;33m[PROGRESS]::\u001b[0m \u001b[1;34marextract.py 303 obj_profiles()\u001b[0m - Might give our own guess here instead of using default\n"
     ]
    },
    {
     "name": "stderr",
     "output_type": "stream",
     "text": [
      "\u001b[1;30m[WORK IN ]::\u001b[0m\n",
      "\u001b[1;33m[PROGRESS]::\u001b[0m \u001b[1;34marextract.py 323 obj_profiles()\u001b[0m - Consider flagging/removing CRs here\n",
      "\u001b[1;32m[INFO]    ::\u001b[0m \u001b[1;34marextract.py 261 obj_profiles()\u001b[0m - Deriving spatial profile of object 2/4 in slit 1/1\n",
      "\u001b[1;30m[WORK IN ]::\u001b[0m\n",
      "\u001b[1;33m[PROGRESS]::\u001b[0m \u001b[1;34martrace.py 1819 slit_image()\u001b[0m - Use 2D spline to evaluate tilts\n",
      "\u001b[1;30m[WORK IN ]::\u001b[0m\n",
      "\u001b[1;33m[PROGRESS]::\u001b[0m \u001b[1;34martrace.py 1824 slit_image()\u001b[0m - Should worry about changing plate scale\n",
      "\u001b[1;32m[INFO]    ::\u001b[0m \u001b[1;34marextract.py 284 obj_profiles()\u001b[0m - Good S/N for profile\n",
      "\u001b[1;30m[WORK IN ]::\u001b[0m\n",
      "\u001b[1;33m[PROGRESS]::\u001b[0m \u001b[1;34marextract.py 294 obj_profiles()\u001b[0m - Weight by S/N in boxcar extraction? [avoid CRs; smooth?]\n",
      "\u001b[1;30m[WORK IN ]::\u001b[0m\n",
      "\u001b[1;33m[PROGRESS]::\u001b[0m \u001b[1;34marextract.py 303 obj_profiles()\u001b[0m - Might give our own guess here instead of using default\n",
      "\u001b[1;30m[WORK IN ]::\u001b[0m\n",
      "\u001b[1;33m[PROGRESS]::\u001b[0m \u001b[1;34marextract.py 323 obj_profiles()\u001b[0m - Consider flagging/removing CRs here\n",
      "\u001b[1;32m[INFO]    ::\u001b[0m \u001b[1;34marextract.py 261 obj_profiles()\u001b[0m - Deriving spatial profile of object 3/4 in slit 1/1\n",
      "\u001b[1;30m[WORK IN ]::\u001b[0m\n",
      "\u001b[1;33m[PROGRESS]::\u001b[0m \u001b[1;34martrace.py 1819 slit_image()\u001b[0m - Use 2D spline to evaluate tilts\n",
      "\u001b[1;30m[WORK IN ]::\u001b[0m\n",
      "\u001b[1;33m[PROGRESS]::\u001b[0m \u001b[1;34martrace.py 1824 slit_image()\u001b[0m - Should worry about changing plate scale\n",
      "\u001b[1;32m[INFO]    ::\u001b[0m \u001b[1;34marextract.py 284 obj_profiles()\u001b[0m - Good S/N for profile\n",
      "\u001b[1;30m[WORK IN ]::\u001b[0m\n",
      "\u001b[1;33m[PROGRESS]::\u001b[0m \u001b[1;34marextract.py 294 obj_profiles()\u001b[0m - Weight by S/N in boxcar extraction? [avoid CRs; smooth?]\n",
      "\u001b[1;30m[WORK IN ]::\u001b[0m\n",
      "\u001b[1;33m[PROGRESS]::\u001b[0m \u001b[1;34marextract.py 303 obj_profiles()\u001b[0m - Might give our own guess here instead of using default\n",
      "\u001b[1;30m[WORK IN ]::\u001b[0m\n",
      "\u001b[1;33m[PROGRESS]::\u001b[0m \u001b[1;34marextract.py 323 obj_profiles()\u001b[0m - Consider flagging/removing CRs here\n",
      "\u001b[1;32m[INFO]    ::\u001b[0m \u001b[1;34marextract.py 261 obj_profiles()\u001b[0m - Deriving spatial profile of object 4/4 in slit 1/1\n",
      "\u001b[1;30m[WORK IN ]::\u001b[0m\n",
      "\u001b[1;33m[PROGRESS]::\u001b[0m \u001b[1;34martrace.py 1819 slit_image()\u001b[0m - Use 2D spline to evaluate tilts\n",
      "\u001b[1;30m[WORK IN ]::\u001b[0m\n",
      "\u001b[1;33m[PROGRESS]::\u001b[0m \u001b[1;34martrace.py 1824 slit_image()\u001b[0m - Should worry about changing plate scale\n",
      "\u001b[1;32m[INFO]    ::\u001b[0m \u001b[1;34marextract.py 284 obj_profiles()\u001b[0m - Good S/N for profile\n",
      "\u001b[1;30m[WORK IN ]::\u001b[0m\n",
      "\u001b[1;33m[PROGRESS]::\u001b[0m \u001b[1;34marextract.py 294 obj_profiles()\u001b[0m - Weight by S/N in boxcar extraction? [avoid CRs; smooth?]\n",
      "\u001b[1;30m[WORK IN ]::\u001b[0m\n",
      "\u001b[1;33m[PROGRESS]::\u001b[0m \u001b[1;34marextract.py 303 obj_profiles()\u001b[0m - Might give our own guess here instead of using default\n",
      "\u001b[1;30m[WORK IN ]::\u001b[0m\n",
      "\u001b[1;33m[PROGRESS]::\u001b[0m \u001b[1;34marextract.py 323 obj_profiles()\u001b[0m - Consider flagging/removing CRs here\n",
      "\u001b[1;32m[INFO]    ::\u001b[0m \u001b[1;34marextract.py 465 optimal_extract()\u001b[0m - Performing optimal extraction of object 1/4 in slit 1/1\n",
      "\u001b[1;30m[WORK IN ]::\u001b[0m\n",
      "\u001b[1;33m[PROGRESS]::\u001b[0m \u001b[1;34martrace.py 1819 slit_image()\u001b[0m - Use 2D spline to evaluate tilts\n",
      "\u001b[1;30m[WORK IN ]::\u001b[0m\n",
      "\u001b[1;33m[PROGRESS]::\u001b[0m \u001b[1;34martrace.py 1824 slit_image()\u001b[0m - Should worry about changing plate scale\n",
      "\u001b[1;32m[INFO]    ::\u001b[0m \u001b[1;34marextract.py 465 optimal_extract()\u001b[0m - Performing optimal extraction of object 2/4 in slit 1/1\n",
      "\u001b[1;30m[WORK IN ]::\u001b[0m\n",
      "\u001b[1;33m[PROGRESS]::\u001b[0m \u001b[1;34martrace.py 1819 slit_image()\u001b[0m - Use 2D spline to evaluate tilts\n",
      "\u001b[1;30m[WORK IN ]::\u001b[0m\n",
      "\u001b[1;33m[PROGRESS]::\u001b[0m \u001b[1;34martrace.py 1824 slit_image()\u001b[0m - Should worry about changing plate scale\n",
      "\u001b[1;31m[WARNING] ::\u001b[0m \u001b[1;34marextract.py 507 optimal_extract()\u001b[0m - Replacing fully masked regions with mean wavelengths\n",
      "\u001b[1;32m[INFO]    ::\u001b[0m \u001b[1;34marextract.py 465 optimal_extract()\u001b[0m - Performing optimal extraction of object 3/4 in slit 1/1\n",
      "\u001b[1;30m[WORK IN ]::\u001b[0m\n",
      "\u001b[1;33m[PROGRESS]::\u001b[0m \u001b[1;34martrace.py 1819 slit_image()\u001b[0m - Use 2D spline to evaluate tilts\n",
      "\u001b[1;30m[WORK IN ]::\u001b[0m\n",
      "\u001b[1;33m[PROGRESS]::\u001b[0m \u001b[1;34martrace.py 1824 slit_image()\u001b[0m - Should worry about changing plate scale\n",
      "\u001b[1;31m[WARNING] ::\u001b[0m \u001b[1;34marextract.py 507 optimal_extract()\u001b[0m - Replacing fully masked regions with mean wavelengths\n",
      "\u001b[1;32m[INFO]    ::\u001b[0m \u001b[1;34marextract.py 465 optimal_extract()\u001b[0m - Performing optimal extraction of object 4/4 in slit 1/1\n",
      "\u001b[1;30m[WORK IN ]::\u001b[0m\n",
      "\u001b[1;33m[PROGRESS]::\u001b[0m \u001b[1;34martrace.py 1819 slit_image()\u001b[0m - Use 2D spline to evaluate tilts\n",
      "\u001b[1;30m[WORK IN ]::\u001b[0m\n",
      "\u001b[1;33m[PROGRESS]::\u001b[0m \u001b[1;34martrace.py 1824 slit_image()\u001b[0m - Should worry about changing plate scale\n",
      "\u001b[1;31m[WARNING] ::\u001b[0m \u001b[1;34marextract.py 507 optimal_extract()\u001b[0m - Replacing fully masked regions with mean wavelengths\n"
     ]
    }
   ],
   "source": [
    "specobjs, finalvar, finalsky = sciI.extraction(mswave)"
   ]
  },
  {
   "cell_type": "markdown",
   "metadata": {},
   "source": [
    "### Flexure"
   ]
  },
  {
   "cell_type": "code",
   "execution_count": 75,
   "metadata": {},
   "outputs": [
    {
     "name": "stderr",
     "output_type": "stream",
     "text": [
      "\u001b[1;30m[WORK IN ]::\u001b[0m\n",
      "\u001b[1;33m[PROGRESS]::\u001b[0m \u001b[1;34marwave.py 281 flexure_obj()\u001b[0m - Consider doing 2 passes in flexure as in LowRedux\n",
      "\u001b[1;32m[INFO]    ::\u001b[0m \u001b[1;34marwave.py 204 flexure_archive()\u001b[0m - Using paranal_sky.fits file for Sky spectrum\n",
      "\u001b[1;32m[INFO]    ::\u001b[0m \u001b[1;34marwave.py 297 flexure_obj()\u001b[0m - Working on flexure in slit (if an object was detected): 0\n",
      "\u001b[1;31m[WARNING] ::\u001b[0m \u001b[1;34marwave.py 44 flex_shift()\u001b[0m - If we use Paranal, cut down on wavelength early on\n",
      "\u001b[1;32m[INFO]    ::\u001b[0m \u001b[1;34mararc.py 177 detect_lines()\u001b[0m - Detecting lines\n",
      "\u001b[1;32m[INFO]    ::\u001b[0m \u001b[1;34mararc.py 203 detect_lines()\u001b[0m - Detecting the strongest, nonsaturated lines\n",
      "\u001b[1;32m[INFO]    ::\u001b[0m \u001b[1;34mararc.py 177 detect_lines()\u001b[0m - Detecting lines\n",
      "\u001b[1;32m[INFO]    ::\u001b[0m \u001b[1;34mararc.py 203 detect_lines()\u001b[0m - Detecting the strongest, nonsaturated lines\n",
      "\u001b[1;32m[INFO]    ::\u001b[0m \u001b[1;34marwave.py 72 flex_shift()\u001b[0m - Resolution of Archive=34127.6 and Observation=2744.53\n",
      "\u001b[1;30m[WORK IN ]::\u001b[0m\n",
      "\u001b[1;33m[PROGRESS]::\u001b[0m \u001b[1;34marwave.py 137 flex_shift()\u001b[0m - Need to mask bad pixels\n",
      "\u001b[1;30m[WORK IN ]::\u001b[0m\n",
      "\u001b[1;33m[PROGRESS]::\u001b[0m \u001b[1;34marwave.py 140 flex_shift()\u001b[0m - Consider taking median first [5 pixel]\n",
      "\u001b[1;30m[WORK IN ]::\u001b[0m\n",
      "\u001b[1;33m[PROGRESS]::\u001b[0m \u001b[1;34marwave.py 153 flex_shift()\u001b[0m - Consider taking median first [5 pixel]\n",
      "\u001b[1;32m[INFO]    ::\u001b[0m \u001b[1;34marwave.py 172 flex_shift()\u001b[0m - Flexure correction of -2.89474 pixels\n",
      "\u001b[1;32m[INFO]    ::\u001b[0m \u001b[1;34marwave.py 324 flexure_obj()\u001b[0m - Applying flexure correction to boxcar extraction for object:\n",
      "             <SpecObjExp: O221-S1517-D02-I0022 == Setup S-D560-G6007500-T270812645-B22 Object at 0.22065 in Slit at 0.151719 with det=02, scidx=22 and objtype=science>\n",
      "\u001b[1;32m[INFO]    ::\u001b[0m \u001b[1;34marwave.py 324 flexure_obj()\u001b[0m - Applying flexure correction to optimal extraction for object:\n",
      "             <SpecObjExp: O221-S1517-D02-I0022 == Setup S-D560-G6007500-T270812645-B22 Object at 0.22065 in Slit at 0.151719 with det=02, scidx=22 and objtype=science>\n",
      "\u001b[1;31m[WARNING] ::\u001b[0m \u001b[1;34marwave.py 44 flex_shift()\u001b[0m - If we use Paranal, cut down on wavelength early on\n",
      "\u001b[1;32m[INFO]    ::\u001b[0m \u001b[1;34mararc.py 177 detect_lines()\u001b[0m - Detecting lines\n",
      "\u001b[1;32m[INFO]    ::\u001b[0m \u001b[1;34mararc.py 203 detect_lines()\u001b[0m - Detecting the strongest, nonsaturated lines\n",
      "\u001b[1;32m[INFO]    ::\u001b[0m \u001b[1;34mararc.py 177 detect_lines()\u001b[0m - Detecting lines\n",
      "\u001b[1;32m[INFO]    ::\u001b[0m \u001b[1;34mararc.py 203 detect_lines()\u001b[0m - Detecting the strongest, nonsaturated lines\n",
      "\u001b[1;32m[INFO]    ::\u001b[0m \u001b[1;34marwave.py 72 flex_shift()\u001b[0m - Resolution of Archive=34127.6 and Observation=2765.26\n",
      "\u001b[1;30m[WORK IN ]::\u001b[0m\n",
      "\u001b[1;33m[PROGRESS]::\u001b[0m \u001b[1;34marwave.py 137 flex_shift()\u001b[0m - Need to mask bad pixels\n",
      "\u001b[1;30m[WORK IN ]::\u001b[0m\n",
      "\u001b[1;33m[PROGRESS]::\u001b[0m \u001b[1;34marwave.py 140 flex_shift()\u001b[0m - Consider taking median first [5 pixel]\n",
      "\u001b[1;30m[WORK IN ]::\u001b[0m\n",
      "\u001b[1;33m[PROGRESS]::\u001b[0m \u001b[1;34marwave.py 153 flex_shift()\u001b[0m - Consider taking median first [5 pixel]\n",
      "\u001b[1;32m[INFO]    ::\u001b[0m \u001b[1;34marwave.py 172 flex_shift()\u001b[0m - Flexure correction of -2.89587 pixels\n",
      "\u001b[1;32m[INFO]    ::\u001b[0m \u001b[1;34marwave.py 324 flexure_obj()\u001b[0m - Applying flexure correction to boxcar extraction for object:\n",
      "             <SpecObjExp: O607-S1517-D02-I0022 == Setup S-D560-G6007500-T270812645-B22 Object at 0.60662 in Slit at 0.151719 with det=02, scidx=22 and objtype=science>\n",
      "\u001b[1;32m[INFO]    ::\u001b[0m \u001b[1;34marwave.py 324 flexure_obj()\u001b[0m - Applying flexure correction to optimal extraction for object:\n",
      "             <SpecObjExp: O607-S1517-D02-I0022 == Setup S-D560-G6007500-T270812645-B22 Object at 0.60662 in Slit at 0.151719 with det=02, scidx=22 and objtype=science>\n",
      "\u001b[1;31m[WARNING] ::\u001b[0m \u001b[1;34marwave.py 44 flex_shift()\u001b[0m - If we use Paranal, cut down on wavelength early on\n",
      "\u001b[1;32m[INFO]    ::\u001b[0m \u001b[1;34mararc.py 177 detect_lines()\u001b[0m - Detecting lines\n",
      "\u001b[1;32m[INFO]    ::\u001b[0m \u001b[1;34mararc.py 203 detect_lines()\u001b[0m - Detecting the strongest, nonsaturated lines\n",
      "\u001b[1;32m[INFO]    ::\u001b[0m \u001b[1;34mararc.py 177 detect_lines()\u001b[0m - Detecting lines\n",
      "\u001b[1;32m[INFO]    ::\u001b[0m \u001b[1;34mararc.py 203 detect_lines()\u001b[0m - Detecting the strongest, nonsaturated lines\n",
      "\u001b[1;32m[INFO]    ::\u001b[0m \u001b[1;34marwave.py 72 flex_shift()\u001b[0m - Resolution of Archive=34127.6 and Observation=2711.16\n",
      "\u001b[1;30m[WORK IN ]::\u001b[0m\n",
      "\u001b[1;33m[PROGRESS]::\u001b[0m \u001b[1;34marwave.py 137 flex_shift()\u001b[0m - Need to mask bad pixels\n",
      "\u001b[1;30m[WORK IN ]::\u001b[0m\n",
      "\u001b[1;33m[PROGRESS]::\u001b[0m \u001b[1;34marwave.py 140 flex_shift()\u001b[0m - Consider taking median first [5 pixel]\n",
      "\u001b[1;30m[WORK IN ]::\u001b[0m\n",
      "\u001b[1;33m[PROGRESS]::\u001b[0m \u001b[1;34marwave.py 153 flex_shift()\u001b[0m - Consider taking median first [5 pixel]\n",
      "\u001b[1;32m[INFO]    ::\u001b[0m \u001b[1;34marwave.py 172 flex_shift()\u001b[0m - Flexure correction of -2.89529 pixels\n",
      "\u001b[1;32m[INFO]    ::\u001b[0m \u001b[1;34marwave.py 324 flexure_obj()\u001b[0m - Applying flexure correction to boxcar extraction for object:\n",
      "             <SpecObjExp: O802-S1517-D02-I0022 == Setup S-D560-G6007500-T270812645-B22 Object at 0.802417 in Slit at 0.151719 with det=02, scidx=22 and objtype=science>\n",
      "\u001b[1;32m[INFO]    ::\u001b[0m \u001b[1;34marwave.py 324 flexure_obj()\u001b[0m - Applying flexure correction to optimal extraction for object:\n",
      "             <SpecObjExp: O802-S1517-D02-I0022 == Setup S-D560-G6007500-T270812645-B22 Object at 0.802417 in Slit at 0.151719 with det=02, scidx=22 and objtype=science>\n",
      "\u001b[1;31m[WARNING] ::\u001b[0m \u001b[1;34marwave.py 44 flex_shift()\u001b[0m - If we use Paranal, cut down on wavelength early on\n",
      "\u001b[1;32m[INFO]    ::\u001b[0m \u001b[1;34mararc.py 177 detect_lines()\u001b[0m - Detecting lines\n",
      "\u001b[1;32m[INFO]    ::\u001b[0m \u001b[1;34mararc.py 203 detect_lines()\u001b[0m - Detecting the strongest, nonsaturated lines\n",
      "\u001b[1;32m[INFO]    ::\u001b[0m \u001b[1;34mararc.py 177 detect_lines()\u001b[0m - Detecting lines\n",
      "\u001b[1;32m[INFO]    ::\u001b[0m \u001b[1;34mararc.py 203 detect_lines()\u001b[0m - Detecting the strongest, nonsaturated lines\n",
      "\u001b[1;32m[INFO]    ::\u001b[0m \u001b[1;34marwave.py 72 flex_shift()\u001b[0m - Resolution of Archive=34127.6 and Observation=2760.3\n",
      "\u001b[1;30m[WORK IN ]::\u001b[0m\n",
      "\u001b[1;33m[PROGRESS]::\u001b[0m \u001b[1;34marwave.py 137 flex_shift()\u001b[0m - Need to mask bad pixels\n",
      "\u001b[1;30m[WORK IN ]::\u001b[0m\n",
      "\u001b[1;33m[PROGRESS]::\u001b[0m \u001b[1;34marwave.py 140 flex_shift()\u001b[0m - Consider taking median first [5 pixel]\n",
      "\u001b[1;30m[WORK IN ]::\u001b[0m\n",
      "\u001b[1;33m[PROGRESS]::\u001b[0m \u001b[1;34marwave.py 153 flex_shift()\u001b[0m - Consider taking median first [5 pixel]\n",
      "\u001b[1;32m[INFO]    ::\u001b[0m \u001b[1;34marwave.py 172 flex_shift()\u001b[0m - Flexure correction of -2.89537 pixels\n",
      "\u001b[1;32m[INFO]    ::\u001b[0m \u001b[1;34marwave.py 324 flexure_obj()\u001b[0m - Applying flexure correction to boxcar extraction for object:\n",
      "             <SpecObjExp: O845-S1517-D02-I0022 == Setup S-D560-G6007500-T270812645-B22 Object at 0.844828 in Slit at 0.151719 with det=02, scidx=22 and objtype=science>\n",
      "\u001b[1;32m[INFO]    ::\u001b[0m \u001b[1;34marwave.py 324 flexure_obj()\u001b[0m - Applying flexure correction to optimal extraction for object:\n",
      "             <SpecObjExp: O845-S1517-D02-I0022 == Setup S-D560-G6007500-T270812645-B22 Object at 0.844828 in Slit at 0.151719 with det=02, scidx=22 and objtype=science>\n"
     ]
    }
   ],
   "source": [
    "flex_list = arwave.flexure_obj(\n",
    "    specobjs, maskslits, settings.argflag['reduce']['flexure']['method'],\n",
    "    spectrograph,\n",
    "    skyspec_fil = settings.argflag['reduce']['flexure']['spectrum'],\n",
    "    mxshft = settings.argflag['reduce']['flexure']['maxshift'])"
   ]
  },
  {
   "cell_type": "code",
   "execution_count": 76,
   "metadata": {
    "collapsed": true
   },
   "outputs": [],
   "source": [
    "# QA \n",
    "arwave.flexure_qa(specobjs, maskslits, basename, det, flex_list)"
   ]
  },
  {
   "cell_type": "markdown",
   "metadata": {},
   "source": [
    "### Heliocentric (optional)"
   ]
  },
  {
   "cell_type": "code",
   "execution_count": 77,
   "metadata": {},
   "outputs": [
    {
     "name": "stderr",
     "output_type": "stream",
     "text": [
      "\u001b[1;32m[INFO]    ::\u001b[0m \u001b[1;34marwave.py 403 geomotion_correct()\u001b[0m - Applying heliocentric correction to boxcar extraction for object:\n",
      "             <SpecObjExp: O221-S1517-D02-I0022 == Setup S-D560-G6007500-T270812645-B22 Object at 0.22065 in Slit at 0.151719 with det=02, scidx=22 and objtype=science>\n",
      "\u001b[1;32m[INFO]    ::\u001b[0m \u001b[1;34marwave.py 403 geomotion_correct()\u001b[0m - Applying heliocentric correction to optimal extraction for object:\n",
      "             <SpecObjExp: O221-S1517-D02-I0022 == Setup S-D560-G6007500-T270812645-B22 Object at 0.22065 in Slit at 0.151719 with det=02, scidx=22 and objtype=science>\n",
      "\u001b[1;32m[INFO]    ::\u001b[0m \u001b[1;34marwave.py 403 geomotion_correct()\u001b[0m - Applying heliocentric correction to boxcar extraction for object:\n",
      "             <SpecObjExp: O607-S1517-D02-I0022 == Setup S-D560-G6007500-T270812645-B22 Object at 0.60662 in Slit at 0.151719 with det=02, scidx=22 and objtype=science>\n",
      "\u001b[1;32m[INFO]    ::\u001b[0m \u001b[1;34marwave.py 403 geomotion_correct()\u001b[0m - Applying heliocentric correction to optimal extraction for object:\n",
      "             <SpecObjExp: O607-S1517-D02-I0022 == Setup S-D560-G6007500-T270812645-B22 Object at 0.60662 in Slit at 0.151719 with det=02, scidx=22 and objtype=science>\n",
      "\u001b[1;32m[INFO]    ::\u001b[0m \u001b[1;34marwave.py 403 geomotion_correct()\u001b[0m - Applying heliocentric correction to boxcar extraction for object:\n",
      "             <SpecObjExp: O802-S1517-D02-I0022 == Setup S-D560-G6007500-T270812645-B22 Object at 0.802417 in Slit at 0.151719 with det=02, scidx=22 and objtype=science>\n",
      "\u001b[1;32m[INFO]    ::\u001b[0m \u001b[1;34marwave.py 403 geomotion_correct()\u001b[0m - Applying heliocentric correction to optimal extraction for object:\n",
      "             <SpecObjExp: O802-S1517-D02-I0022 == Setup S-D560-G6007500-T270812645-B22 Object at 0.802417 in Slit at 0.151719 with det=02, scidx=22 and objtype=science>\n",
      "\u001b[1;32m[INFO]    ::\u001b[0m \u001b[1;34marwave.py 403 geomotion_correct()\u001b[0m - Applying heliocentric correction to boxcar extraction for object:\n",
      "             <SpecObjExp: O845-S1517-D02-I0022 == Setup S-D560-G6007500-T270812645-B22 Object at 0.844828 in Slit at 0.151719 with det=02, scidx=22 and objtype=science>\n",
      "\u001b[1;32m[INFO]    ::\u001b[0m \u001b[1;34marwave.py 403 geomotion_correct()\u001b[0m - Applying heliocentric correction to optimal extraction for object:\n",
      "             <SpecObjExp: O845-S1517-D02-I0022 == Setup S-D560-G6007500-T270812645-B22 Object at 0.844828 in Slit at 0.151719 with det=02, scidx=22 and objtype=science>\n"
     ]
    }
   ],
   "source": [
    "vel, vel_corr = arwave.geomotion_correct(specobjs, maskslits, fitstbl, scidx,\n",
    "                                         obstime, settings.spect,\n",
    "                                         settings.argflag['reduce']['calibrate']['refframe'])"
   ]
  },
  {
   "cell_type": "code",
   "execution_count": 78,
   "metadata": {
    "collapsed": true
   },
   "outputs": [],
   "source": [
    "sci_dict = {}\n",
    "sci_dict['meta'] = {}\n",
    "sci_dict['meta']['vel_corr'] = vel_corr"
   ]
  },
  {
   "cell_type": "markdown",
   "metadata": {},
   "source": [
    "----"
   ]
  },
  {
   "cell_type": "markdown",
   "metadata": {},
   "source": [
    "## Write"
   ]
  },
  {
   "cell_type": "markdown",
   "metadata": {},
   "source": [
    "### 1D spectra"
   ]
  },
  {
   "cell_type": "code",
   "execution_count": 79,
   "metadata": {},
   "outputs": [
    {
     "name": "stderr",
     "output_type": "stream",
     "text": [
      "\u001b[1;32m[INFO]    ::\u001b[0m \u001b[1;34marsave.py 451 save_1d_spectra_fits()\u001b[0m - Wrote 1D spectra to Science/spec1d_OFF_J1044p6306_LRISr_2016Feb16T112439.fits\n"
     ]
    },
    {
     "data": {
      "text/plain": [
       "'Science/spec1d_OFF_J1044p6306_LRISr_2016Feb16T112439.fits'"
      ]
     },
     "execution_count": 79,
     "metadata": {},
     "output_type": "execute_result"
    }
   ],
   "source": [
    "outfile = 'Science/spec1d_{:s}.fits'.format(basename)\n",
    "helio_dict = dict(refframe=settings.argflag['reduce']['calibrate']['refframe'],\n",
    "                  vel_correction=sci_dict['meta']['vel_corr'])\n",
    "arsave.save_1d_spectra_fits([specobjs], fitstbl[scidx], outfile,\n",
    "                                helio_dict=helio_dict, obs_dict=settings.spect['mosaic'])"
   ]
  },
  {
   "cell_type": "markdown",
   "metadata": {},
   "source": [
    "### 2D images"
   ]
  },
  {
   "cell_type": "code",
   "execution_count": 80,
   "metadata": {},
   "outputs": [
    {
     "name": "stderr",
     "output_type": "stream",
     "text": [
      "\u001b[1;32m[INFO]    ::\u001b[0m \u001b[1;34marsave.py 727 save_2d_images()\u001b[0m - Wrote: Science//spec2d_OFF_J1044p6306_LRISr_2016Feb16T112439.fits\n"
     ]
    }
   ],
   "source": [
    "# Write 2D images for the Science Frame\n",
    "arsave.save_2d_images(\n",
    "    sci_dict, fitstbl, scidx,\n",
    "    settings.spect['fits']['headext{0:02d}'.format(1)], setup,\n",
    "    settings.argflag['run']['directory']['master']+'_'+spectrograph, # MFDIR\n",
    "    'Science/',  basename)"
   ]
  },
  {
   "cell_type": "markdown",
   "metadata": {},
   "source": [
    "----"
   ]
  },
  {
   "cell_type": "markdown",
   "metadata": {},
   "source": [
    "## Fluxing (optional)"
   ]
  },
  {
   "cell_type": "markdown",
   "metadata": {},
   "source": [
    "### Reduce a standard star"
   ]
  },
  {
   "cell_type": "code",
   "execution_count": 81,
   "metadata": {},
   "outputs": [
    {
     "name": "stderr",
     "output_type": "stream",
     "text": [
      "\u001b[1;32m[INFO]    ::\u001b[0m \u001b[1;34marload.py 327 load_raw_frame()\u001b[0m - Loading raw_file: /home/xavier/local/Python/PYPIT-development-suite/RAW_DATA/Keck_LRIS_red/long_600_7500_d560/LR.20160216.17613.fits\n",
      "\u001b[1;32m[INFO]    ::\u001b[0m \u001b[1;34marlris.py 48 read_lris()\u001b[0m - Reading LRIS file: /home/xavier/local/Python/PYPIT-development-suite/RAW_DATA/Keck_LRIS_red/long_600_7500_d560/LR.20160216.17613.fits\n",
      "\u001b[1;32m[INFO]    ::\u001b[0m \u001b[1;34marprocimg.py 174 get_datasec()\u001b[0m - Parsing datasec and oscansec from headers\n",
      "\u001b[1;32m[INFO]    ::\u001b[0m \u001b[1;34marlris.py 48 read_lris()\u001b[0m - Reading LRIS file: /home/xavier/local/Python/PYPIT-development-suite/RAW_DATA/Keck_LRIS_red/long_600_7500_d560/LR.20160216.17613.fits\n",
      "\u001b[1;32m[INFO]    ::\u001b[0m \u001b[1;34mprocessimages.py 272 bias_subtract()\u001b[0m - Bias subtracting your image(s)\n",
      "\u001b[1;32m[INFO]    ::\u001b[0m \u001b[1;34marprocimg.py 77 bias_subtract()\u001b[0m - Subtracting bias image from raw frame\n",
      "\u001b[1;31m[WARNING] ::\u001b[0m \u001b[1;34marprocimg.py 505 gain_frame()\u001b[0m - Should probably be measuring the gain across the amplifier boundary\n",
      "\u001b[1;32m[INFO]    ::\u001b[0m \u001b[1;34mprocessimages.py 430 build_rawvarframe()\u001b[0m - Generate raw variance frame (from detected counts [flat fielded])\n",
      "\u001b[1;32m[INFO]    ::\u001b[0m \u001b[1;34marprocimg.py 236 lacosmic()\u001b[0m - Detecting cosmic rays with the L.A.Cosmic algorithm\n",
      "\u001b[1;30m[WORK IN ]::\u001b[0m\n",
      "\u001b[1;33m[PROGRESS]::\u001b[0m \u001b[1;34marprocimg.py 237 lacosmic()\u001b[0m - Include these parameters in the settings files to be adjusted by the user\n",
      "\u001b[1;32m[INFO]    ::\u001b[0m \u001b[1;34marprocimg.py 259 lacosmic()\u001b[0m - Convolving image with Laplacian kernel\n",
      "\u001b[1;32m[INFO]    ::\u001b[0m \u001b[1;34marprocimg.py 267 lacosmic()\u001b[0m - Creating noise model\n",
      "\u001b[1;32m[INFO]    ::\u001b[0m \u001b[1;34marprocimg.py 274 lacosmic()\u001b[0m - Calculating Laplacian signal to noise ratio\n",
      "\u001b[1;32m[INFO]    ::\u001b[0m \u001b[1;34marprocimg.py 282 lacosmic()\u001b[0m - Selecting candidate cosmic rays\n",
      "\u001b[1;32m[INFO]    ::\u001b[0m \u001b[1;34marprocimg.py 287 lacosmic()\u001b[0m - 11894 candidate pixels\n",
      "\u001b[1;32m[INFO]    ::\u001b[0m \u001b[1;34marprocimg.py 291 lacosmic()\u001b[0m - Masking saturated pixels\n",
      "\u001b[1;32m[INFO]    ::\u001b[0m \u001b[1;34marprocimg.py 295 lacosmic()\u001b[0m - 11892 candidate pixels not part of saturated stars\n",
      "\u001b[1;32m[INFO]    ::\u001b[0m \u001b[1;34marprocimg.py 297 lacosmic()\u001b[0m - Building fine structure image\n",
      "\u001b[1;32m[INFO]    ::\u001b[0m \u001b[1;34marprocimg.py 306 lacosmic()\u001b[0m - Removing suspected compact bright objects\n",
      "\u001b[1;32m[INFO]    ::\u001b[0m \u001b[1;34marprocimg.py 316 lacosmic()\u001b[0m -  6297 remaining candidate pixels\n",
      "\u001b[1;32m[INFO]    ::\u001b[0m \u001b[1;34marprocimg.py 320 lacosmic()\u001b[0m - Finding neighboring pixels affected by cosmic rays\n",
      "\u001b[1;32m[INFO]    ::\u001b[0m \u001b[1;34marprocimg.py 336 lacosmic()\u001b[0m - Masking saturated stars\n",
      "\u001b[1;32m[INFO]    ::\u001b[0m \u001b[1;34marprocimg.py 341 lacosmic()\u001b[0m - 14586 pixels detected as cosmics\n",
      "\u001b[1;32m[INFO]    ::\u001b[0m \u001b[1;34marprocimg.py 350 lacosmic()\u001b[0m - Iteration 1 -- 14586 pixels identified as cosmic rays (14586 new)\n",
      "\u001b[1;30m[WORK IN ]::\u001b[0m\n",
      "\u001b[1;33m[PROGRESS]::\u001b[0m \u001b[1;34marprocimg.py 353 lacosmic()\u001b[0m - The following algorithm would be better on the rectified, tilts-corrected image\n",
      "\u001b[1;32m[INFO]    ::\u001b[0m \u001b[1;34marprocimg.py 408 lacosmic()\u001b[0m - Growing cosmic ray mask by 1 pixel\n",
      "\u001b[1;32m[INFO]    ::\u001b[0m \u001b[1;34mscienceimage.py 459 global_skysub()\u001b[0m - Working on slit: 0\n",
      "\u001b[1;32m[INFO]    ::\u001b[0m \u001b[1;34marutils.py 198 bspline_profile()\u001b[0m - Fitting npoly =  1 profile basis functions, nx=590811 pixels\n",
      "\u001b[1;32m[INFO]    ::\u001b[0m \u001b[1;34marutils.py 199 bspline_profile()\u001b[0m - ****************************  Iter  Chi^2  # rejected  Rel. fact   ****************************\n",
      "\u001b[1;32m[INFO]    ::\u001b[0m \u001b[1;34marutils.py 200 bspline_profile()\u001b[0m -                               ----  -----  ----------  --------- \n",
      "\u001b[1;32m[INFO]    ::\u001b[0m \u001b[1;34marutils.py 281 bspline_profile()\u001b[0m -                                 1   0.010        0        1.00\n",
      "\u001b[1;32m[INFO]    ::\u001b[0m \u001b[1;34marutils.py 286 bspline_profile()\u001b[0m - ***********************************************************************************************\n",
      "\u001b[1;32m[INFO]    ::\u001b[0m \u001b[1;34marutils.py 289 bspline_profile()\u001b[0m - Final fit after  1 iterations: reduced_chi =    0.010, rejected =       0, relative_factor =   1.00\n",
      "\u001b[1;32m[INFO]    ::\u001b[0m \u001b[1;34marutils.py 198 bspline_profile()\u001b[0m - Fitting npoly =  1 profile basis functions, nx=590811 pixels\n",
      "\u001b[1;32m[INFO]    ::\u001b[0m \u001b[1;34marutils.py 199 bspline_profile()\u001b[0m - ****************************  Iter  Chi^2  # rejected  Rel. fact   ****************************\n",
      "\u001b[1;32m[INFO]    ::\u001b[0m \u001b[1;34marutils.py 200 bspline_profile()\u001b[0m -                               ----  -----  ----------  --------- \n",
      "\u001b[1;32m[INFO]    ::\u001b[0m \u001b[1;34marutils.py 281 bspline_profile()\u001b[0m -                                 1   1.315     6726        1.00\n",
      "\u001b[1;32m[INFO]    ::\u001b[0m \u001b[1;34marutils.py 286 bspline_profile()\u001b[0m - ***********************************************************************************************\n",
      "\u001b[1;32m[INFO]    ::\u001b[0m \u001b[1;34marutils.py 289 bspline_profile()\u001b[0m - Final fit after  1 iterations: reduced_chi =    1.315, rejected =    6726, relative_factor =   1.00\n",
      "\u001b[1;32m[INFO]    ::\u001b[0m \u001b[1;34mscienceimage.py 469 global_skysub()\u001b[0m - Building model variance from the Sky frame\n",
      "\u001b[1;32m[INFO]    ::\u001b[0m \u001b[1;34martrace.py 285 trace_objects_in_slit()\u001b[0m - Rectifying science frame\n",
      "\u001b[1;32m[INFO]    ::\u001b[0m \u001b[1;34martrace.py 306 trace_objects_in_slit()\u001b[0m - Estimating object profiles\n",
      "\u001b[1;32m[INFO]    ::\u001b[0m \u001b[1;34martrace.py 375 trace_objects_in_slit()\u001b[0m - Identifying objects that are significantly detected\n",
      "\u001b[1;31m[WARNING] ::\u001b[0m \u001b[1;34martrace.py 430 trace_objects_in_slit()\u001b[0m - Removed objects near the slit edges\n",
      "\u001b[1;32m[INFO]    ::\u001b[0m \u001b[1;34martrace.py 461 trace_objects_in_slit()\u001b[0m - Found 8 objects\n",
      "\u001b[1;32m[INFO]    ::\u001b[0m \u001b[1;34martrace.py 462 trace_objects_in_slit()\u001b[0m - Tracing 8 objects\n",
      "\u001b[1;32m[INFO]    ::\u001b[0m \u001b[1;34martrace.py 498 trace_objects_in_slit()\u001b[0m - Performing global trace to all objects\n",
      "\u001b[1;32m[INFO]    ::\u001b[0m \u001b[1;34martrace.py 501 trace_objects_in_slit()\u001b[0m - Constructing a trace for all objects\n",
      "\u001b[1;32m[INFO]    ::\u001b[0m \u001b[1;34martrace.py 509 trace_objects_in_slit()\u001b[0m - Converting object traces to detector pixels\n",
      "\u001b[1;32m[INFO]    ::\u001b[0m \u001b[1;34martrace.py 90 trace_objbg_image()\u001b[0m - Creating an image weighted by object pixels for 8 objects\n",
      "\u001b[1;32m[INFO]    ::\u001b[0m \u001b[1;34martrace.py 99 trace_objbg_image()\u001b[0m - Creating an image weighted by background pixels\n",
      "\u001b[1;32m[INFO]    ::\u001b[0m \u001b[1;34mscienceimage.py 459 global_skysub()\u001b[0m - Working on slit: 0\n",
      "\u001b[1;32m[INFO]    ::\u001b[0m \u001b[1;34marutils.py 198 bspline_profile()\u001b[0m - Fitting npoly =  1 profile basis functions, nx=461991 pixels\n",
      "\u001b[1;32m[INFO]    ::\u001b[0m \u001b[1;34marutils.py 199 bspline_profile()\u001b[0m - ****************************  Iter  Chi^2  # rejected  Rel. fact   ****************************\n",
      "\u001b[1;32m[INFO]    ::\u001b[0m \u001b[1;34marutils.py 200 bspline_profile()\u001b[0m -                               ----  -----  ----------  --------- \n",
      "\u001b[1;32m[INFO]    ::\u001b[0m \u001b[1;34marutils.py 281 bspline_profile()\u001b[0m -                                 1   0.000        0        1.00\n",
      "\u001b[1;32m[INFO]    ::\u001b[0m \u001b[1;34marutils.py 286 bspline_profile()\u001b[0m - ***********************************************************************************************\n",
      "\u001b[1;32m[INFO]    ::\u001b[0m \u001b[1;34marutils.py 289 bspline_profile()\u001b[0m - Final fit after  1 iterations: reduced_chi =    0.000, rejected =       0, relative_factor =   1.00\n",
      "\u001b[1;32m[INFO]    ::\u001b[0m \u001b[1;34marutils.py 198 bspline_profile()\u001b[0m - Fitting npoly =  1 profile basis functions, nx=461991 pixels\n",
      "\u001b[1;32m[INFO]    ::\u001b[0m \u001b[1;34marutils.py 199 bspline_profile()\u001b[0m - ****************************  Iter  Chi^2  # rejected  Rel. fact   ****************************\n",
      "\u001b[1;32m[INFO]    ::\u001b[0m \u001b[1;34marutils.py 200 bspline_profile()\u001b[0m -                               ----  -----  ----------  --------- \n",
      "\u001b[1;32m[INFO]    ::\u001b[0m \u001b[1;34marutils.py 281 bspline_profile()\u001b[0m -                                 1   1.193     3310        1.00\n",
      "\u001b[1;32m[INFO]    ::\u001b[0m \u001b[1;34marutils.py 286 bspline_profile()\u001b[0m - ***********************************************************************************************\n",
      "\u001b[1;32m[INFO]    ::\u001b[0m \u001b[1;34marutils.py 289 bspline_profile()\u001b[0m - Final fit after  1 iterations: reduced_chi =    1.193, rejected =    3310, relative_factor =   1.00\n"
     ]
    },
    {
     "name": "stderr",
     "output_type": "stream",
     "text": [
      "\u001b[1;32m[INFO]    ::\u001b[0m \u001b[1;34mscienceimage.py 469 global_skysub()\u001b[0m - Building model variance from the Sky frame\n",
      "\u001b[1;32m[INFO]    ::\u001b[0m \u001b[1;34mscienceimage.py 278 boxcar()\u001b[0m - Performing boxcar extraction\n",
      "\u001b[1;32m[INFO]    ::\u001b[0m \u001b[1;34marextract.py 80 boxcar()\u001b[0m - Performing boxcar extraction of object 1/8 in slit 1/1\n",
      "\u001b[1;32m[INFO]    ::\u001b[0m \u001b[1;34marextract.py 89 boxcar()\u001b[0m -    Fitting the background\n",
      "\u001b[1;32m[INFO]    ::\u001b[0m \u001b[1;34marextract.py 166 boxcar()\u001b[0m -    Summing object counts\n",
      "\u001b[1;32m[INFO]    ::\u001b[0m \u001b[1;34marextract.py 169 boxcar()\u001b[0m -    Summing variance array\n",
      "\u001b[1;32m[INFO]    ::\u001b[0m \u001b[1;34marextract.py 80 boxcar()\u001b[0m - Performing boxcar extraction of object 2/8 in slit 1/1\n",
      "\u001b[1;32m[INFO]    ::\u001b[0m \u001b[1;34marextract.py 89 boxcar()\u001b[0m -    Fitting the background\n",
      "\u001b[1;32m[INFO]    ::\u001b[0m \u001b[1;34marextract.py 166 boxcar()\u001b[0m -    Summing object counts\n",
      "\u001b[1;32m[INFO]    ::\u001b[0m \u001b[1;34marextract.py 169 boxcar()\u001b[0m -    Summing variance array\n",
      "\u001b[1;32m[INFO]    ::\u001b[0m \u001b[1;34marextract.py 80 boxcar()\u001b[0m - Performing boxcar extraction of object 3/8 in slit 1/1\n",
      "\u001b[1;32m[INFO]    ::\u001b[0m \u001b[1;34marextract.py 89 boxcar()\u001b[0m -    Fitting the background\n",
      "\u001b[1;32m[INFO]    ::\u001b[0m \u001b[1;34marextract.py 166 boxcar()\u001b[0m -    Summing object counts\n",
      "\u001b[1;32m[INFO]    ::\u001b[0m \u001b[1;34marextract.py 169 boxcar()\u001b[0m -    Summing variance array\n",
      "\u001b[1;32m[INFO]    ::\u001b[0m \u001b[1;34marextract.py 80 boxcar()\u001b[0m - Performing boxcar extraction of object 4/8 in slit 1/1\n",
      "\u001b[1;32m[INFO]    ::\u001b[0m \u001b[1;34marextract.py 89 boxcar()\u001b[0m -    Fitting the background\n",
      "\u001b[1;32m[INFO]    ::\u001b[0m \u001b[1;34marextract.py 166 boxcar()\u001b[0m -    Summing object counts\n",
      "\u001b[1;32m[INFO]    ::\u001b[0m \u001b[1;34marextract.py 169 boxcar()\u001b[0m -    Summing variance array\n",
      "\u001b[1;32m[INFO]    ::\u001b[0m \u001b[1;34marextract.py 80 boxcar()\u001b[0m - Performing boxcar extraction of object 5/8 in slit 1/1\n",
      "\u001b[1;32m[INFO]    ::\u001b[0m \u001b[1;34marextract.py 89 boxcar()\u001b[0m -    Fitting the background\n",
      "\u001b[1;32m[INFO]    ::\u001b[0m \u001b[1;34marextract.py 166 boxcar()\u001b[0m -    Summing object counts\n",
      "\u001b[1;32m[INFO]    ::\u001b[0m \u001b[1;34marextract.py 169 boxcar()\u001b[0m -    Summing variance array\n",
      "\u001b[1;32m[INFO]    ::\u001b[0m \u001b[1;34marextract.py 80 boxcar()\u001b[0m - Performing boxcar extraction of object 6/8 in slit 1/1\n",
      "\u001b[1;32m[INFO]    ::\u001b[0m \u001b[1;34marextract.py 89 boxcar()\u001b[0m -    Fitting the background\n",
      "\u001b[1;32m[INFO]    ::\u001b[0m \u001b[1;34marextract.py 166 boxcar()\u001b[0m -    Summing object counts\n",
      "\u001b[1;32m[INFO]    ::\u001b[0m \u001b[1;34marextract.py 169 boxcar()\u001b[0m -    Summing variance array\n",
      "\u001b[1;32m[INFO]    ::\u001b[0m \u001b[1;34marextract.py 80 boxcar()\u001b[0m - Performing boxcar extraction of object 7/8 in slit 1/1\n",
      "\u001b[1;32m[INFO]    ::\u001b[0m \u001b[1;34marextract.py 89 boxcar()\u001b[0m -    Fitting the background\n",
      "\u001b[1;32m[INFO]    ::\u001b[0m \u001b[1;34marextract.py 166 boxcar()\u001b[0m -    Summing object counts\n",
      "\u001b[1;32m[INFO]    ::\u001b[0m \u001b[1;34marextract.py 169 boxcar()\u001b[0m -    Summing variance array\n",
      "\u001b[1;32m[INFO]    ::\u001b[0m \u001b[1;34marextract.py 80 boxcar()\u001b[0m - Performing boxcar extraction of object 8/8 in slit 1/1\n",
      "\u001b[1;32m[INFO]    ::\u001b[0m \u001b[1;34marextract.py 89 boxcar()\u001b[0m -    Fitting the background\n",
      "\u001b[1;32m[INFO]    ::\u001b[0m \u001b[1;34marextract.py 166 boxcar()\u001b[0m -    Summing object counts\n",
      "\u001b[1;32m[INFO]    ::\u001b[0m \u001b[1;34marextract.py 169 boxcar()\u001b[0m -    Summing variance array\n"
     ]
    }
   ],
   "source": [
    "std_dict = {}\n",
    "# Reduce standard here; only legit if the mask is the same\n",
    "std_idx = arsort.ftype_indices(fitstbl, 'standard', sci_ID)[0]\n",
    "#\n",
    "std_image_files = arsort.list_of_files(fitstbl, 'standard', sci_ID)\n",
    "std_dict[std_idx] = {}\n",
    "\n",
    "# Instantiate for the Standard\n",
    "stdI = scienceimage.ScienceImage(file_list=std_image_files, datasec_img=datasec_img,\n",
    "                                 bpm=msbpm, det=det, setup=setup, settings=sci_settings,\n",
    "                                 maskslits=maskslits, pixlocn=pixlocn, tslits_dict=tslits_dict,\n",
    "                                 tilts=mstilts, fitstbl=fitstbl, scidx=std_idx,\n",
    "                                 objtype='standard')\n",
    "# Names and time\n",
    "_, std_basename = stdI.init_time_names(settings.spect['mosaic']['camera'],\n",
    "                                         timeunit=settings.spect[\"fits\"][\"timeunit\"])\n",
    "# Process (includes Variance image and CRs)\n",
    "stdframe, _, _ = stdI._process(msbias, mspixflatnrm, apply_gain=True, dnoise=dnoise)\n",
    "# Sky\n",
    "_ = stdI.global_skysub(settings_skysub)\n",
    "# Find objects\n",
    "_, nobj = stdI.find_objects()\n",
    "_ = stdI.global_skysub(settings_skysub, use_tracemask=True)\n",
    "# Extract\n",
    "stdobjs, _, _ = stdI.extraction(mswave)\n",
    "# Save for fluxing and output later\n",
    "std_dict[std_idx][det] = {}\n",
    "std_dict[std_idx][det]['basename'] = std_basename\n",
    "std_dict[std_idx][det]['specobjs'] = arutils.unravel_specobjs([stdobjs])\n"
   ]
  },
  {
   "cell_type": "markdown",
   "metadata": {},
   "source": [
    "### Sensitivity function"
   ]
  },
  {
   "cell_type": "code",
   "execution_count": 82,
   "metadata": {
    "collapsed": true
   },
   "outputs": [],
   "source": [
    "# Settings\n",
    "fsettings = settings.spect.copy()\n",
    "fsettings['run'] = settings.argflag['run']\n",
    "fsettings['reduce'] = settings.argflag['reduce']"
   ]
  },
  {
   "cell_type": "code",
   "execution_count": 83,
   "metadata": {},
   "outputs": [
    {
     "name": "stderr",
     "output_type": "stream",
     "text": [
      "\u001b[1;32m[INFO]    ::\u001b[0m \u001b[1;34marflux.py 442 find_standard()\u001b[0m - Putative standard star <SpecObjExp: O233-S1517-D02-I0021 == Setup S-D560-G6007500-T2708013535-B22 Object at 0.232859 in Slit at 0.151719 with det=02, scidx=21 and objtype=standard> has a median boxcar count of 34232.22224319243\n",
      "\u001b[1;32m[INFO]    ::\u001b[0m \u001b[1;34marflux.py 370 load_extinction_data()\u001b[0m - Using mkoextinct.dat for extinction corrections.\n",
      "\u001b[1;32m[INFO]    ::\u001b[0m \u001b[1;34marflux.py 300 find_standard_file()\u001b[0m - Using standard star G191B2B\n",
      "\u001b[1;32m[INFO]    ::\u001b[0m \u001b[1;34marflux.py 406 load_standard_file()\u001b[0m - Loading standard star file: /home/xavier/local/Python/PYPIT/pypit/data/standards/calspec/g191b2b_mod_005.fits.gz\n",
      "\u001b[1;32m[INFO]    ::\u001b[0m \u001b[1;34marflux.py 407 load_standard_file()\u001b[0m - Fluxes are flambda, normalized to 1e-17\n",
      "\u001b[1;32m[INFO]    ::\u001b[0m \u001b[1;34marflux.py 507 generate_sensfunc()\u001b[0m - Masking edges\n",
      "\u001b[1;31m[WARNING] ::\u001b[0m \u001b[1;34marflux.py 513 generate_sensfunc()\u001b[0m - Should pull resolution from arc line analysis\n",
      "\u001b[1;32m[INFO]    ::\u001b[0m \u001b[1;34marflux.py 517 generate_sensfunc()\u001b[0m - Masking Balmer\n",
      "\u001b[1;32m[INFO]    ::\u001b[0m \u001b[1;34marflux.py 525 generate_sensfunc()\u001b[0m - Masking Telluric\n",
      "\u001b[1;32m[INFO]    ::\u001b[0m \u001b[1;34marflux.py 532 generate_sensfunc()\u001b[0m - Masking Below the atmospheric cutoff\n",
      "\u001b[1;32m[INFO]    ::\u001b[0m \u001b[1;34marflux.py 203 bspline_magfit()\u001b[0m - Difference between fits is 8.8605e-05\n",
      "\u001b[1;30m[WORK IN ]::\u001b[0m\n",
      "\u001b[1;33m[PROGRESS]::\u001b[0m \u001b[1;34marflux.py 206 bspline_magfit()\u001b[0m - Add QA for sensitivity function\n"
     ]
    }
   ],
   "source": [
    "# Build the list of stdobjs\n",
    "reload(fluxspec)\n",
    "all_std_objs = []\n",
    "for det in std_dict[std_idx].keys():\n",
    "    all_std_objs += std_dict[std_idx][det]['specobjs']\n",
    "FxSpec = fluxspec.FluxSpec(settings=fsettings, std_specobjs=all_std_objs,\n",
    "                           setup=setup)  # This takes the last setup run, which is as sensible as any..\n",
    "sensfunc = FxSpec.master(fitstbl[std_idx], save=False)"
   ]
  },
  {
   "cell_type": "code",
   "execution_count": 84,
   "metadata": {},
   "outputs": [
    {
     "data": {
      "text/plain": [
       "[<SpecObjExp: O233-S1517-D02-I0021 == Setup S-D560-G6007500-T2708013535-B22 Object at 0.232859 in Slit at 0.151719 with det=02, scidx=21 and objtype=standard>,\n",
       " <SpecObjExp: O394-S1517-D02-I0021 == Setup S-D560-G6007500-T2708013535-B22 Object at 0.393931 in Slit at 0.151719 with det=02, scidx=21 and objtype=standard>,\n",
       " <SpecObjExp: O608-S1517-D02-I0021 == Setup S-D560-G6007500-T2708013535-B22 Object at 0.607527 in Slit at 0.151719 with det=02, scidx=21 and objtype=standard>,\n",
       " <SpecObjExp: O805-S1517-D02-I0021 == Setup S-D560-G6007500-T2708013535-B22 Object at 0.804754 in Slit at 0.151719 with det=02, scidx=21 and objtype=standard>,\n",
       " <SpecObjExp: O846-S1517-D02-I0021 == Setup S-D560-G6007500-T2708013535-B22 Object at 0.845834 in Slit at 0.151719 with det=02, scidx=21 and objtype=standard>,\n",
       " <SpecObjExp: O671-S1517-D02-I0021 == Setup S-D560-G6007500-T2708013535-B22 Object at 0.671486 in Slit at 0.151719 with det=02, scidx=21 and objtype=standard>,\n",
       " <SpecObjExp: O934-S1517-D02-I0021 == Setup S-D560-G6007500-T2708013535-B22 Object at 0.933993 in Slit at 0.151719 with det=02, scidx=21 and objtype=standard>,\n",
       " <SpecObjExp: O942-S1517-D02-I0021 == Setup S-D560-G6007500-T2708013535-B22 Object at 0.942221 in Slit at 0.151719 with det=02, scidx=21 and objtype=standard>]"
      ]
     },
     "execution_count": 84,
     "metadata": {},
     "output_type": "execute_result"
    }
   ],
   "source": [
    "all_std_objs"
   ]
  },
  {
   "cell_type": "code",
   "execution_count": 85,
   "metadata": {},
   "outputs": [
    {
     "data": {
      "image/png": "[encoded data removed]",
      "text/plain": [
       "<matplotlib.figure.Figure at 0x7f70c7b4c550>"
      ]
     },
     "metadata": {},
     "output_type": "display_data"
    }
   ],
   "source": [
    "# Show\n",
    "FxSpec.show_sensfunc()"
   ]
  },
  {
   "cell_type": "markdown",
   "metadata": {},
   "source": [
    "### Flux"
   ]
  },
  {
   "cell_type": "code",
   "execution_count": 86,
   "metadata": {},
   "outputs": [
    {
     "name": "stderr",
     "output_type": "stream",
     "text": [
      "\u001b[1;32m[INFO]    ::\u001b[0m \u001b[1;34marflux.py 370 load_extinction_data()\u001b[0m - Using mkoextinct.dat for extinction corrections.\n",
      "\u001b[1;32m[INFO]    ::\u001b[0m \u001b[1;34marflux.py 46 apply_sensfunc()\u001b[0m - Fluxing boxcar extraction for:\n",
      "             <SpecObjExp: O221-S1517-D02-I0022 == Setup dum_config Object at 0.221 in Slit at 0.1517 with det=02, scidx=22 and objtype=unknown>\n",
      "\u001b[1;32m[INFO]    ::\u001b[0m \u001b[1;34marflux.py 46 apply_sensfunc()\u001b[0m - Fluxing optimal extraction for:\n",
      "             <SpecObjExp: O221-S1517-D02-I0022 == Setup dum_config Object at 0.221 in Slit at 0.1517 with det=02, scidx=22 and objtype=unknown>\n",
      "\u001b[1;32m[INFO]    ::\u001b[0m \u001b[1;34marflux.py 370 load_extinction_data()\u001b[0m - Using mkoextinct.dat for extinction corrections.\n",
      "\u001b[1;32m[INFO]    ::\u001b[0m \u001b[1;34marflux.py 46 apply_sensfunc()\u001b[0m - Fluxing boxcar extraction for:\n",
      "             <SpecObjExp: O607-S1517-D02-I0022 == Setup dum_config Object at 0.607 in Slit at 0.1517 with det=02, scidx=22 and objtype=unknown>\n",
      "\u001b[1;32m[INFO]    ::\u001b[0m \u001b[1;34marflux.py 46 apply_sensfunc()\u001b[0m - Fluxing optimal extraction for:\n",
      "             <SpecObjExp: O607-S1517-D02-I0022 == Setup dum_config Object at 0.607 in Slit at 0.1517 with det=02, scidx=22 and objtype=unknown>\n",
      "\u001b[1;32m[INFO]    ::\u001b[0m \u001b[1;34marflux.py 370 load_extinction_data()\u001b[0m - Using mkoextinct.dat for extinction corrections.\n",
      "\u001b[1;32m[INFO]    ::\u001b[0m \u001b[1;34marflux.py 46 apply_sensfunc()\u001b[0m - Fluxing boxcar extraction for:\n",
      "             <SpecObjExp: O802-S1517-D02-I0022 == Setup dum_config Object at 0.802 in Slit at 0.1517 with det=02, scidx=22 and objtype=unknown>\n",
      "\u001b[1;32m[INFO]    ::\u001b[0m \u001b[1;34marflux.py 46 apply_sensfunc()\u001b[0m - Fluxing optimal extraction for:\n",
      "             <SpecObjExp: O802-S1517-D02-I0022 == Setup dum_config Object at 0.802 in Slit at 0.1517 with det=02, scidx=22 and objtype=unknown>\n",
      "\u001b[1;32m[INFO]    ::\u001b[0m \u001b[1;34marflux.py 370 load_extinction_data()\u001b[0m - Using mkoextinct.dat for extinction corrections.\n",
      "\u001b[1;32m[INFO]    ::\u001b[0m \u001b[1;34marflux.py 46 apply_sensfunc()\u001b[0m - Fluxing boxcar extraction for:\n",
      "             <SpecObjExp: O845-S1517-D02-I0022 == Setup dum_config Object at 0.845 in Slit at 0.1517 with det=02, scidx=22 and objtype=unknown>\n",
      "\u001b[1;32m[INFO]    ::\u001b[0m \u001b[1;34marflux.py 46 apply_sensfunc()\u001b[0m - Fluxing optimal extraction for:\n",
      "             <SpecObjExp: O845-S1517-D02-I0022 == Setup dum_config Object at 0.845 in Slit at 0.1517 with det=02, scidx=22 and objtype=unknown>\n"
     ]
    }
   ],
   "source": [
    "# Load\n",
    "sci_specobjs, sci_header = arload.load_specobj('Science/spec1d_OFF_J1044p6306_LRISr_2016Feb16T112439.fits')\n",
    "#\n",
    "FxSpec.sci_specobjs = sci_specobjs\n",
    "FxSpec.sci_header = sci_header\n",
    "# Flux\n",
    "FxSpec.flux_science()"
   ]
  },
  {
   "cell_type": "code",
   "execution_count": 87,
   "metadata": {},
   "outputs": [
    {
     "name": "stderr",
     "output_type": "stream",
     "text": [
      "\u001b[1;32m[INFO]    ::\u001b[0m \u001b[1;34marsave.py 451 save_1d_spectra_fits()\u001b[0m - Wrote 1D spectra to Science/spec1d_OFF_J1044p6306_LRISr_2016Feb16T112439.fits\n"
     ]
    }
   ],
   "source": [
    "# Write\n",
    "FxSpec.write_science('Science/spec1d_OFF_J1044p6306_LRISr_2016Feb16T112439.fits')"
   ]
  },
  {
   "cell_type": "code",
   "execution_count": null,
   "metadata": {
    "collapsed": true
   },
   "outputs": [],
   "source": []
  }
 ],
 "metadata": {
  "kernelspec": {
   "display_name": "Python 3",
   "language": "python",
   "name": "python3"
  },
  "language_info": {
   "codemirror_mode": {
    "name": "ipython",
    "version": 3
   },
   "file_extension": ".py",
   "mimetype": "text/x-python",
   "name": "python",
   "nbconvert_exporter": "python",
   "pygments_lexer": "ipython3",
   "version": "3.6.5"
  }
 },
 "nbformat": 4,
 "nbformat_minor": 2
}
