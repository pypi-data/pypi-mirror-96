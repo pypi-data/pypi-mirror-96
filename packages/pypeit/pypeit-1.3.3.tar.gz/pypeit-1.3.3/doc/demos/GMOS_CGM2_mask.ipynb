{
 "cells": [
  {
   "cell_type": "markdown",
   "metadata": {},
   "source": [
    "# Fussing with a GMOS CGM^2 Mask"
   ]
  },
  {
   "cell_type": "code",
   "execution_count": 12,
   "metadata": {
    "collapsed": true
   },
   "outputs": [],
   "source": [
    "# imports\n",
    "import numpy as np\n",
    "\n",
    "from linetools import utils as ltu\n",
    "\n",
    "from pypeit import pypeit\n",
    "from pypeit import pypeitsetup\n",
    "from pypeit import traceimage\n",
    "from pypeit.core import parse"
   ]
  },
  {
   "cell_type": "markdown",
   "metadata": {},
   "source": [
    "## Instantiate"
   ]
  },
  {
   "cell_type": "code",
   "execution_count": 2,
   "metadata": {},
   "outputs": [
    {
     "name": "stderr",
     "output_type": "stream",
     "text": [
      "\u001b[1;32m[INFO]    ::\u001b[0m \u001b[1;34mutil.py 431 parse_pypeit_file()\u001b[0m - Loading the reduction file\n",
      "\u001b[1;32m[INFO]    ::\u001b[0m \u001b[1;34mutil.py 456 parse_pypeit_file()\u001b[0m - Found 9 raw data frames\n",
      "\u001b[1;32m[INFO]    ::\u001b[0m \u001b[1;34mutil.py 468 parse_pypeit_file()\u001b[0m - Input file loaded successfully\n"
     ]
    }
   ],
   "source": [
    "pypeit_file = '/scratch/REDUX/Gemini/J1059+1441/gemini_gmos_north_e2v_setup_A/gemini_gmos_north_e2v_setup_A.pypeit'\n",
    "pypeitSetup = pypeitsetup.PypeItSetup.from_pypeit_file(pypeit_file)"
   ]
  },
  {
   "cell_type": "code",
   "execution_count": 3,
   "metadata": {
    "collapsed": true
   },
   "outputs": [],
   "source": [
    "pypeIt = pypeit.instantiate_me(pypeitSetup.spectrograph, verbosity=2, overwrite=True, show=True) #, logname=logname, show=args.show)"
   ]
  },
  {
   "cell_type": "markdown",
   "metadata": {},
   "source": [
    "## Setup "
   ]
  },
  {
   "cell_type": "code",
   "execution_count": 4,
   "metadata": {
    "collapsed": true
   },
   "outputs": [],
   "source": [
    "redux_dir = '/scratch/REDUX/Gemini/J1059+1441/gemini_gmos_north_e2v_setup_A/'"
   ]
  },
  {
   "cell_type": "code",
   "execution_count": 5,
   "metadata": {},
   "outputs": [
    {
     "name": "stderr",
     "output_type": "stream",
     "text": [
      "\u001b[1;32m[INFO]    ::\u001b[0m \u001b[1;34mutil.py 431 parse_pypeit_file()\u001b[0m - Loading the reduction file\n",
      "\u001b[1;32m[INFO]    ::\u001b[0m \u001b[1;34mutil.py 456 parse_pypeit_file()\u001b[0m - Found 9 raw data frames\n",
      "\u001b[1;32m[INFO]    ::\u001b[0m \u001b[1;34mutil.py 468 parse_pypeit_file()\u001b[0m - Input file loaded successfully\n",
      "\u001b[1;31m[WARNING] ::\u001b[0m \u001b[1;34mspectrograph.py 449 check_headers()\u001b[0m - Specific header keyword checks have not been implemented for gemini_gmos_north_e2v.\n",
      "\u001b[1;32m[INFO]    ::\u001b[0m \u001b[1;34mmetadata.py 192 _build()\u001b[0m - Successfully loaded headers for file:\n",
      "             /scratch/REDUX/Gemini/J1059+1441/Raw/N20150116S0251.fits\n",
      "\u001b[1;31m[WARNING] ::\u001b[0m \u001b[1;34mspectrograph.py 449 check_headers()\u001b[0m - Specific header keyword checks have not been implemented for gemini_gmos_north_e2v.\n",
      "\u001b[1;32m[INFO]    ::\u001b[0m \u001b[1;34mmetadata.py 192 _build()\u001b[0m - Successfully loaded headers for file:\n",
      "             /scratch/REDUX/Gemini/J1059+1441/Raw/N20150116S0252.fits\n",
      "\u001b[1;31m[WARNING] ::\u001b[0m \u001b[1;34mspectrograph.py 449 check_headers()\u001b[0m - Specific header keyword checks have not been implemented for gemini_gmos_north_e2v.\n",
      "\u001b[1;32m[INFO]    ::\u001b[0m \u001b[1;34mmetadata.py 192 _build()\u001b[0m - Successfully loaded headers for file:\n",
      "             /scratch/REDUX/Gemini/J1059+1441/Raw/N20150116S0253.fits\n",
      "\u001b[1;31m[WARNING] ::\u001b[0m \u001b[1;34mspectrograph.py 449 check_headers()\u001b[0m - Specific header keyword checks have not been implemented for gemini_gmos_north_e2v.\n",
      "\u001b[1;32m[INFO]    ::\u001b[0m \u001b[1;34mmetadata.py 192 _build()\u001b[0m - Successfully loaded headers for file:\n",
      "             /scratch/REDUX/Gemini/J1059+1441/Raw/N20150116S0095.fits\n",
      "\u001b[1;31m[WARNING] ::\u001b[0m \u001b[1;34mspectrograph.py 449 check_headers()\u001b[0m - Specific header keyword checks have not been implemented for gemini_gmos_north_e2v.\n",
      "\u001b[1;32m[INFO]    ::\u001b[0m \u001b[1;34mmetadata.py 192 _build()\u001b[0m - Successfully loaded headers for file:\n",
      "             /scratch/REDUX/Gemini/J1059+1441/Raw/N20150116S0096.fits\n",
      "\u001b[1;31m[WARNING] ::\u001b[0m \u001b[1;34mspectrograph.py 449 check_headers()\u001b[0m - Specific header keyword checks have not been implemented for gemini_gmos_north_e2v.\n",
      "\u001b[1;32m[INFO]    ::\u001b[0m \u001b[1;34mmetadata.py 192 _build()\u001b[0m - Successfully loaded headers for file:\n",
      "             /scratch/REDUX/Gemini/J1059+1441/Raw/N20150116S0099.fits\n",
      "\u001b[1;31m[WARNING] ::\u001b[0m \u001b[1;34mspectrograph.py 449 check_headers()\u001b[0m - Specific header keyword checks have not been implemented for gemini_gmos_north_e2v.\n",
      "\u001b[1;32m[INFO]    ::\u001b[0m \u001b[1;34mmetadata.py 192 _build()\u001b[0m - Successfully loaded headers for file:\n",
      "             /scratch/REDUX/Gemini/J1059+1441/Raw/N20150116S0094.fits\n",
      "\u001b[1;31m[WARNING] ::\u001b[0m \u001b[1;34mspectrograph.py 449 check_headers()\u001b[0m - Specific header keyword checks have not been implemented for gemini_gmos_north_e2v.\n",
      "\u001b[1;32m[INFO]    ::\u001b[0m \u001b[1;34mmetadata.py 192 _build()\u001b[0m - Successfully loaded headers for file:\n",
      "             /scratch/REDUX/Gemini/J1059+1441/Raw/N20150116S0097.fits\n",
      "\u001b[1;31m[WARNING] ::\u001b[0m \u001b[1;34mspectrograph.py 449 check_headers()\u001b[0m - Specific header keyword checks have not been implemented for gemini_gmos_north_e2v.\n",
      "\u001b[1;32m[INFO]    ::\u001b[0m \u001b[1;34mmetadata.py 192 _build()\u001b[0m - Successfully loaded headers for file:\n",
      "             /scratch/REDUX/Gemini/J1059+1441/Raw/N20150116S0098.fits\n",
      "\u001b[1;32m[INFO]    ::\u001b[0m \u001b[1;34mmetadata.py 195 _build()\u001b[0m - Headers loaded for 9 files successfully\n",
      "\u001b[1;32m[INFO]    ::\u001b[0m \u001b[1;34mmetadata.py 426 get_frame_types()\u001b[0m - Typing files\n",
      "\u001b[1;32m[INFO]    ::\u001b[0m \u001b[1;34mmetadata.py 433 get_frame_types()\u001b[0m - Using user-provided frame types.\n",
      "\u001b[1;32m[INFO]    ::\u001b[0m \u001b[1;34mmetadata.py 583 match_to_science()\u001b[0m - Matching calibrations to Science frames\n",
      "\u001b[1;32m[INFO]    ::\u001b[0m \u001b[1;34mmetadata.py 604 match_to_science()\u001b[0m - ==================================================\n",
      "\u001b[1;32m[INFO]    ::\u001b[0m \u001b[1;34mmetadata.py 605 match_to_science()\u001b[0m - Matching calibrations to frame: J1059+1441\n",
      "\u001b[1;32m[INFO]    ::\u001b[0m \u001b[1;34mmetadata.py 660 match_to_science()\u001b[0m -   Found 3 trace frame for J1059+1441 (3 required)\n",
      "\u001b[1;32m[INFO]    ::\u001b[0m \u001b[1;34mmetadata.py 637 match_to_science()\u001b[0m -    No standard frames are required.  Not matching...\n",
      "\u001b[1;32m[INFO]    ::\u001b[0m \u001b[1;34mmetadata.py 660 match_to_science()\u001b[0m -   Found 3 arc frame for J1059+1441 (1 required)\n",
      "\u001b[1;32m[INFO]    ::\u001b[0m \u001b[1;34mmetadata.py 619 match_to_science()\u001b[0m -   Dark frames not required.  Not matching...\n",
      "\u001b[1;32m[INFO]    ::\u001b[0m \u001b[1;34mmetadata.py 637 match_to_science()\u001b[0m -    No pinhole frames are required.  Not matching...\n",
      "\u001b[1;32m[INFO]    ::\u001b[0m \u001b[1;34mmetadata.py 660 match_to_science()\u001b[0m -   Found 3 pixelflat frame for J1059+1441 (3 required)\n",
      "\u001b[1;32m[INFO]    ::\u001b[0m \u001b[1;34mmetadata.py 660 match_to_science()\u001b[0m -   Found 0 bias frame for J1059+1441 (5 required)\n",
      "\u001b[1;31m[WARNING] ::\u001b[0m \u001b[1;34mframematch.py 398 match_warnings()\u001b[0m -   Only 0/5 bias frames for J1059+1441\n",
      "\u001b[1;32m[INFO]    ::\u001b[0m \u001b[1;34mmetadata.py 604 match_to_science()\u001b[0m - ==================================================\n",
      "\u001b[1;32m[INFO]    ::\u001b[0m \u001b[1;34mmetadata.py 605 match_to_science()\u001b[0m - Matching calibrations to frame: J1059+1441\n",
      "\u001b[1;32m[INFO]    ::\u001b[0m \u001b[1;34mmetadata.py 660 match_to_science()\u001b[0m -   Found 3 trace frame for J1059+1441 (3 required)\n",
      "\u001b[1;32m[INFO]    ::\u001b[0m \u001b[1;34mmetadata.py 637 match_to_science()\u001b[0m -    No standard frames are required.  Not matching...\n",
      "\u001b[1;32m[INFO]    ::\u001b[0m \u001b[1;34mmetadata.py 660 match_to_science()\u001b[0m -   Found 3 arc frame for J1059+1441 (1 required)\n",
      "\u001b[1;32m[INFO]    ::\u001b[0m \u001b[1;34mmetadata.py 619 match_to_science()\u001b[0m -   Dark frames not required.  Not matching...\n",
      "\u001b[1;32m[INFO]    ::\u001b[0m \u001b[1;34mmetadata.py 637 match_to_science()\u001b[0m -    No pinhole frames are required.  Not matching...\n",
      "\u001b[1;32m[INFO]    ::\u001b[0m \u001b[1;34mmetadata.py 660 match_to_science()\u001b[0m -   Found 3 pixelflat frame for J1059+1441 (3 required)\n",
      "\u001b[1;32m[INFO]    ::\u001b[0m \u001b[1;34mmetadata.py 660 match_to_science()\u001b[0m -   Found 0 bias frame for J1059+1441 (5 required)\n",
      "\u001b[1;31m[WARNING] ::\u001b[0m \u001b[1;34mframematch.py 398 match_warnings()\u001b[0m -   Only 0/5 bias frames for J1059+1441\n",
      "\u001b[1;32m[INFO]    ::\u001b[0m \u001b[1;34mmetadata.py 604 match_to_science()\u001b[0m - ==================================================\n",
      "\u001b[1;32m[INFO]    ::\u001b[0m \u001b[1;34mmetadata.py 605 match_to_science()\u001b[0m - Matching calibrations to frame: J1059+1441\n",
      "\u001b[1;32m[INFO]    ::\u001b[0m \u001b[1;34mmetadata.py 660 match_to_science()\u001b[0m -   Found 3 trace frame for J1059+1441 (3 required)\n",
      "\u001b[1;32m[INFO]    ::\u001b[0m \u001b[1;34mmetadata.py 637 match_to_science()\u001b[0m -    No standard frames are required.  Not matching...\n",
      "\u001b[1;32m[INFO]    ::\u001b[0m \u001b[1;34mmetadata.py 660 match_to_science()\u001b[0m -   Found 3 arc frame for J1059+1441 (1 required)\n",
      "\u001b[1;32m[INFO]    ::\u001b[0m \u001b[1;34mmetadata.py 619 match_to_science()\u001b[0m -   Dark frames not required.  Not matching...\n",
      "\u001b[1;32m[INFO]    ::\u001b[0m \u001b[1;34mmetadata.py 637 match_to_science()\u001b[0m -    No pinhole frames are required.  Not matching...\n",
      "\u001b[1;32m[INFO]    ::\u001b[0m \u001b[1;34mmetadata.py 660 match_to_science()\u001b[0m -   Found 3 pixelflat frame for J1059+1441 (3 required)\n",
      "\u001b[1;32m[INFO]    ::\u001b[0m \u001b[1;34mmetadata.py 660 match_to_science()\u001b[0m -   Found 0 bias frame for J1059+1441 (5 required)\n",
      "\u001b[1;31m[WARNING] ::\u001b[0m \u001b[1;34mframematch.py 398 match_warnings()\u001b[0m -   Only 0/5 bias frames for J1059+1441\n",
      "\u001b[1;32m[INFO]    ::\u001b[0m \u001b[1;34mmetadata.py 683 match_to_science()\u001b[0m - Science frames successfully matched to calibration frames.\n",
      "\u001b[1;32m[INFO]    ::\u001b[0m \u001b[1;34mmetadata.py 532 write()\u001b[0m - Writing fits file metadata to /scratch/REDUX/Gemini/J1059+1441/gemini_gmos_north_e2v_setup_A/gemini_gmos_north_e2v_setup_A.lst.\n",
      "\u001b[1;32m[INFO]    ::\u001b[0m \u001b[1;34mpypeitsetup.py 483 run()\u001b[0m - Inspect the .calib file: /scratch/REDUX/Gemini/J1059+1441/gemini_gmos_north_e2v_setup_A/gemini_gmos_north_e2v_setup_A.calib\n",
      "\u001b[1;32m[INFO]    ::\u001b[0m \u001b[1;34mpypeitsetup.py 484 run()\u001b[0m - *********************************************************\n",
      "\u001b[1;32m[INFO]    ::\u001b[0m \u001b[1;34mpypeitsetup.py 485 run()\u001b[0m - Calibration check complete and successful!\n",
      "\u001b[1;32m[INFO]    ::\u001b[0m \u001b[1;34mpypeitsetup.py 487 run()\u001b[0m - *********************************************************\n",
      "\u001b[1;32m[INFO]    ::\u001b[0m \u001b[1;34mpypeit.py 520 init_setup()\u001b[0m - Setting reduction path to /scratch/REDUX/Gemini/J1059+1441/gemini_gmos_north_e2v_setup_A/\n",
      "\u001b[1;32m[INFO]    ::\u001b[0m \u001b[1;34mpaths.py 38 make_dirs()\u001b[0m - Creating Science directory\n",
      "\u001b[1;32m[INFO]    ::\u001b[0m \u001b[1;34mpaths.py 41 make_dirs()\u001b[0m - The following directory already exists:\n",
      "             /scratch/REDUX/Gemini/J1059+1441/gemini_gmos_north_e2v_setup_A/Science\n"
     ]
    },
    {
     "name": "stderr",
     "output_type": "stream",
     "text": [
      "\u001b[1;32m[INFO]    ::\u001b[0m \u001b[1;34mpaths.py 63 make_dirs()\u001b[0m - Creating Object directories\n",
      "\u001b[1;32m[INFO]    ::\u001b[0m \u001b[1;34mpaths.py 66 make_dirs()\u001b[0m - Creating Master Calibrations directory\n",
      "\u001b[1;32m[INFO]    ::\u001b[0m \u001b[1;34mpaths.py 86 make_dirs()\u001b[0m - Creating QA directory\n",
      "\u001b[1;31m[WARNING] ::\u001b[0m \u001b[1;34mpaths.py 89 make_dirs()\u001b[0m - Pre-existing QA plots will be overwritten\n"
     ]
    }
   ],
   "source": [
    "pypeIt.init_setup(pypeit_file, redux_dir, calibration_check=True)"
   ]
  },
  {
   "cell_type": "markdown",
   "metadata": {},
   "source": [
    "# Reduce"
   ]
  },
  {
   "cell_type": "code",
   "execution_count": 6,
   "metadata": {},
   "outputs": [
    {
     "data": {
      "text/plain": [
       "Parameter       Value       Default     Type        Callable\n",
       "------------------------------------------------------------\n",
       "function        legendre    legendre    str         False   \n",
       "polyorder       3           3           int         False   \n",
       "medrep          0           0           int         False   \n",
       "number          -1          -1          int         False   \n",
       "trim            3, 3        3, 3        tuple       False   \n",
       "maxgap          None        None        int         False   \n",
       "maxshift        0.15        0.15        int, float  False   \n",
       "pad             0           0           int         False   \n",
       "sigdetect       20.0        20.0        int, float  False   \n",
       "fracignore      0.02        0.01        float       False   \n",
       "min_slit_width  4.0         6.0         float       False   \n",
       "diffpolyorder   2           2           int         False   \n",
       "single          []          []          list        False   \n",
       "sobel_mode      nearest     nearest     str         False   \n",
       "pcatype         pixel       pixel       str         False   \n",
       "pcapar          3, 2, 1, 0  3, 2, 1, 0  list        False   \n",
       "pcaextrap       0, 0        0, 0        list        False   "
      ]
     },
     "execution_count": 6,
     "metadata": {},
     "output_type": "execute_result"
    }
   ],
   "source": [
    "pypeIt.caliBrate.par['slits']['min_slit_width'] = 4.0\n",
    "pypeIt.caliBrate.par['slits']"
   ]
  },
  {
   "cell_type": "code",
   "execution_count": 7,
   "metadata": {},
   "outputs": [
    {
     "name": "stderr",
     "output_type": "stream",
     "text": [
      "\u001b[1;32m[INFO]    ::\u001b[0m \u001b[1;34mpypeit.py 325 reduce_exposure()\u001b[0m - Reducing file N20150116S0094.fits, target J1059+1441\n",
      "\u001b[1;32m[INFO]    ::\u001b[0m \u001b[1;34mpypeit.py 339 reduce_exposure()\u001b[0m - Working on detector 1\n",
      "\u001b[1;32m[INFO]    ::\u001b[0m \u001b[1;34mcalibrations.py 194 get_arc()\u001b[0m - Preparing a master arc frame\n",
      "\u001b[1;32m[INFO]    ::\u001b[0m \u001b[1;34mgemini_gmos.py 485 read_gmos()\u001b[0m - Reading GMOS file: /scratch/REDUX/Gemini/J1059+1441/Raw/N20150116S0251.fits\n",
      "\u001b[1;32m[INFO]    ::\u001b[0m \u001b[1;34mgemini_gmos.py 485 read_gmos()\u001b[0m - Reading GMOS file: /scratch/REDUX/Gemini/J1059+1441/Raw/N20150116S0251.fits\n",
      "\u001b[1;32m[INFO]    ::\u001b[0m \u001b[1;34mgemini_gmos.py 485 read_gmos()\u001b[0m - Reading GMOS file: /scratch/REDUX/Gemini/J1059+1441/Raw/N20150116S0251.fits\n",
      "\u001b[1;32m[INFO]    ::\u001b[0m \u001b[1;34mgemini_gmos.py 485 read_gmos()\u001b[0m - Reading GMOS file: /scratch/REDUX/Gemini/J1059+1441/Raw/N20150116S0251.fits\n",
      "\u001b[1;32m[INFO]    ::\u001b[0m \u001b[1;34mgemini_gmos.py 485 read_gmos()\u001b[0m - Reading GMOS file: /scratch/REDUX/Gemini/J1059+1441/Raw/N20150116S0251.fits\n",
      "\u001b[1;32m[INFO]    ::\u001b[0m \u001b[1;34mprocessimages.py 275 bias_subtract()\u001b[0m - Bias subtracting your image(s)\n",
      "\u001b[1;32m[INFO]    ::\u001b[0m \u001b[1;34mprocessimages.py 288 bias_subtract()\u001b[0m - Using overscan to subtact\n",
      "\u001b[1;32m[INFO]    ::\u001b[0m \u001b[1;34mmasters.py 368 save_master()\u001b[0m - Saving master arc frame as:\n",
      "             /scratch/REDUX/Gemini/J1059+1441/gemini_gmos_north_e2v_setup_A/MF_gemini_gmos_north_e2v/MasterArc_A_01_aa.fits\n",
      "\u001b[1;32m[INFO]    ::\u001b[0m \u001b[1;34mmasters.py 386 save_master()\u001b[0m - Writing header information\n",
      "\u001b[1;31m[WARNING] ::\u001b[0m \u001b[1;34mmasters.py 397 save_master()\u001b[0m - Overwriting file:\n",
      "             /scratch/REDUX/Gemini/J1059+1441/gemini_gmos_north_e2v_setup_A/MF_gemini_gmos_north_e2v/MasterArc_A_01_aa.fits\n",
      "\u001b[1;32m[INFO]    ::\u001b[0m \u001b[1;34mmasters.py 401 save_master()\u001b[0m - Master arc frame saved successfully:\n",
      "             /scratch/REDUX/Gemini/J1059+1441/gemini_gmos_north_e2v_setup_A/MF_gemini_gmos_north_e2v/MasterArc_A_01_aa.fits\n",
      "\u001b[1;32m[INFO]    ::\u001b[0m \u001b[1;34mgemini_gmos.py 485 read_gmos()\u001b[0m - Reading GMOS file: /scratch/REDUX/Gemini/J1059+1441/Raw/N20150116S0094.fits\n",
      "\u001b[1;32m[INFO]    ::\u001b[0m \u001b[1;34mgemini_gmos.py 485 read_gmos()\u001b[0m - Reading GMOS file: /scratch/REDUX/Gemini/J1059+1441/Raw/N20150116S0094.fits\n",
      "\u001b[1;32m[INFO]    ::\u001b[0m \u001b[1;34mgemini_gmos.py 485 read_gmos()\u001b[0m - Reading GMOS file: /scratch/REDUX/Gemini/J1059+1441/Raw/N20150116S0094.fits\n",
      "\u001b[1;32m[INFO]    ::\u001b[0m \u001b[1;34mpixels.py 37 gen_pixloc()\u001b[0m - Deriving physical pixel locations on the detector\n",
      "\u001b[1;32m[INFO]    ::\u001b[0m \u001b[1;34mpixels.py 40 gen_pixloc()\u001b[0m - Pixel gap in the dispersion direction = 0.000\n",
      "\u001b[1;32m[INFO]    ::\u001b[0m \u001b[1;34mpixels.py 41 gen_pixloc()\u001b[0m - Pixel size in the dispersion direction = 1.000\n",
      "\u001b[1;32m[INFO]    ::\u001b[0m \u001b[1;34mpixels.py 44 gen_pixloc()\u001b[0m - Pixel gap in the spatial direction = 0.000\n",
      "\u001b[1;32m[INFO]    ::\u001b[0m \u001b[1;34mpixels.py 45 gen_pixloc()\u001b[0m - Pixel size in the spatial direction = 1.000\n",
      "\u001b[1;32m[INFO]    ::\u001b[0m \u001b[1;34mpixels.py 50 gen_pixloc()\u001b[0m - Saving pixel locations\n",
      "\u001b[1;32m[INFO]    ::\u001b[0m \u001b[1;34mgemini_gmos.py 485 read_gmos()\u001b[0m - Reading GMOS file: /scratch/REDUX/Gemini/J1059+1441/Raw/N20150116S0095.fits\n",
      "\u001b[1;32m[INFO]    ::\u001b[0m \u001b[1;34mgemini_gmos.py 485 read_gmos()\u001b[0m - Reading GMOS file: /scratch/REDUX/Gemini/J1059+1441/Raw/N20150116S0096.fits\n",
      "\u001b[1;32m[INFO]    ::\u001b[0m \u001b[1;34mgemini_gmos.py 485 read_gmos()\u001b[0m - Reading GMOS file: /scratch/REDUX/Gemini/J1059+1441/Raw/N20150116S0099.fits\n",
      "\u001b[1;32m[INFO]    ::\u001b[0m \u001b[1;34mgemini_gmos.py 485 read_gmos()\u001b[0m - Reading GMOS file: /scratch/REDUX/Gemini/J1059+1441/Raw/N20150116S0095.fits\n",
      "\u001b[1;32m[INFO]    ::\u001b[0m \u001b[1;34mgemini_gmos.py 485 read_gmos()\u001b[0m - Reading GMOS file: /scratch/REDUX/Gemini/J1059+1441/Raw/N20150116S0095.fits\n",
      "\u001b[1;32m[INFO]    ::\u001b[0m \u001b[1;34mgemini_gmos.py 485 read_gmos()\u001b[0m - Reading GMOS file: /scratch/REDUX/Gemini/J1059+1441/Raw/N20150116S0095.fits\n",
      "\u001b[1;32m[INFO]    ::\u001b[0m \u001b[1;34mgemini_gmos.py 485 read_gmos()\u001b[0m - Reading GMOS file: /scratch/REDUX/Gemini/J1059+1441/Raw/N20150116S0095.fits\n",
      "\u001b[1;32m[INFO]    ::\u001b[0m \u001b[1;34mprocessimages.py 275 bias_subtract()\u001b[0m - Bias subtracting your image(s)\n",
      "\u001b[1;32m[INFO]    ::\u001b[0m \u001b[1;34mprocessimages.py 288 bias_subtract()\u001b[0m - Using overscan to subtact\n",
      "\u001b[1;32m[INFO]    ::\u001b[0m \u001b[1;34mprocessimages.py 288 bias_subtract()\u001b[0m - Using overscan to subtact\n",
      "\u001b[1;32m[INFO]    ::\u001b[0m \u001b[1;34mprocessimages.py 288 bias_subtract()\u001b[0m - Using overscan to subtact\n",
      "\u001b[1;32m[INFO]    ::\u001b[0m \u001b[1;34mcombine.py 62 comb_frames()\u001b[0m - Combining 3 trace_image frames\n",
      "\u001b[1;30m[WORK IN ]::\u001b[0m\n",
      "\u001b[1;33m[PROGRESS]::\u001b[0m \u001b[1;34mcombine.py 66 comb_frames()\u001b[0m - lscomb feature has not been included here yet...\n",
      "\u001b[1;32m[INFO]    ::\u001b[0m \u001b[1;34mcombine.py 95 comb_frames()\u001b[0m - Finding saturated and non-linear pixels\n",
      "\u001b[1;32m[INFO]    ::\u001b[0m \u001b[1;34mcombine.py 119 comb_frames()\u001b[0m - Rejecting cosmic rays\n",
      "\u001b[1;32m[INFO]    ::\u001b[0m \u001b[1;34mcombine.py 163 comb_frames()\u001b[0m - Not rejecting any low/high pixels\n",
      "\u001b[1;32m[INFO]    ::\u001b[0m \u001b[1;34mcombine.py 171 comb_frames()\u001b[0m - Rejecting deviant pixels\n",
      "\u001b[1;32m[INFO]    ::\u001b[0m \u001b[1;34mcombine.py 188 comb_frames()\u001b[0m - Combining frames with a weightmean operation\n",
      "\u001b[1;32m[INFO]    ::\u001b[0m \u001b[1;34mcombine.py 201 comb_frames()\u001b[0m - Replacing completely masked pixels with the maxnonsat value of the input frames\n",
      "\u001b[1;32m[INFO]    ::\u001b[0m \u001b[1;34mcombine.py 215 comb_frames()\u001b[0m - 3 trace_image frames combined successfully!\n",
      "\u001b[1;32m[INFO]    ::\u001b[0m \u001b[1;34mgemini_gmos.py 485 read_gmos()\u001b[0m - Reading GMOS file: /scratch/REDUX/Gemini/J1059+1441/Raw/N20150116S0095.fits\n",
      "\u001b[1;32m[INFO]    ::\u001b[0m \u001b[1;34mgemini_gmos.py 485 read_gmos()\u001b[0m - Reading GMOS file: /scratch/REDUX/Gemini/J1059+1441/Raw/N20150116S0095.fits\n",
      "\u001b[1;31m[WARNING] ::\u001b[0m \u001b[1;34mprocimg.py 456 gain_frame()\u001b[0m - Should probably be measuring the gain across the amplifier boundary\n",
      "\u001b[1;32m[INFO]    ::\u001b[0m \u001b[1;34mtrace_slits.py 813 edgearr_from_binarr()\u001b[0m - Detecting slit edges in the mstrace image\n",
      "\u001b[1;32m[INFO]    ::\u001b[0m \u001b[1;34mtrace_slits.py 874 edgearr_from_binarr()\u001b[0m - Applying bad pixel mask\n",
      "\u001b[1;32m[INFO]    ::\u001b[0m \u001b[1;34mtrace_slits.py 933 edgearr_add_left_right()\u001b[0m - 49 left edges and 48 right edges were found in the trace\n",
      "\u001b[1;32m[INFO]    ::\u001b[0m \u001b[1;34mtrace_slits.py 960 edgearr_add_left_right()\u001b[0m - Assigning slit edge traces\n",
      "\u001b[1;32m[INFO]    ::\u001b[0m \u001b[1;34mtraceslits.py 361 _assign_edges()\u001b[0m - Assigning left slit edges\n",
      "             \u001b[1;34mtrace_slits.py 160 assign_slits()\u001b[0m - Outer left edge loop, Iteration 1\n",
      "             \u001b[1;34mtrace_slits.py 298 assign_slits()\u001b[0m -   Inner loop, Iteration 1, 49 left edges assigned (49 total)\n",
      "             \u001b[1;34mtrace_slits.py 160 assign_slits()\u001b[0m - Outer left edge loop, Iteration 2\n",
      "             \u001b[1;34mtrace_slits.py 298 assign_slits()\u001b[0m -   Inner loop, Iteration 1, 49 left edges assigned (49 total)\n",
      "\u001b[1;32m[INFO]    ::\u001b[0m \u001b[1;34mtraceslits.py 369 _assign_edges()\u001b[0m - Assigning right slit edges\n",
      "             \u001b[1;34mtrace_slits.py 160 assign_slits()\u001b[0m - Outer right edge loop, Iteration 1\n",
      "             \u001b[1;34mtrace_slits.py 298 assign_slits()\u001b[0m -   Inner loop, Iteration 1, 47 right edges assigned (47 total)\n",
      "             \u001b[1;34mtrace_slits.py 298 assign_slits()\u001b[0m -   Inner loop, Iteration 2, 1 right edges assigned (48 total)\n",
      "             \u001b[1;34mtrace_slits.py 160 assign_slits()\u001b[0m - Outer right edge loop, Iteration 2\n",
      "             \u001b[1;34mtrace_slits.py 298 assign_slits()\u001b[0m -   Inner loop, Iteration 1, 47 right edges assigned (47 total)\n",
      "             \u001b[1;34mtrace_slits.py 298 assign_slits()\u001b[0m -   Inner loop, Iteration 2, 1 right edges assigned (48 total)\n",
      "\u001b[1;32m[INFO]    ::\u001b[0m \u001b[1;34mtrace_slits.py 1157 edgearr_final_left_right()\u001b[0m - 49 left edges and 48 right edges were found in the trace\n",
      "\u001b[1;32m[INFO]    ::\u001b[0m \u001b[1;34mtrace_slits.py 560 edgearr_tcrude()\u001b[0m - Crude tracing the edges\n",
      "\u001b[1;31m[WARNING] ::\u001b[0m \u001b[1;34mtrace_slits.py 472 edgearr_mslit_sync()\u001b[0m - Missing a right edge for slit with left edge at 1442\n",
      "\u001b[1;31m[WARNING] ::\u001b[0m \u001b[1;34mtrace_slits.py 473 edgearr_mslit_sync()\u001b[0m - Adding in a corresponding right edge!\n",
      "\u001b[1;32m[INFO]    ::\u001b[0m \u001b[1;34mtrace_slits.py 1309 fit_edges()\u001b[0m - Fitting left slit traces\n"
     ]
    },
    {
     "name": "stderr",
     "output_type": "stream",
     "text": [
      "\u001b[1;32m[INFO]    ::\u001b[0m \u001b[1;34mtrace_slits.py 1311 fit_edges()\u001b[0m - Fitting right slit traces\n",
      "\u001b[1;32m[INFO]    ::\u001b[0m \u001b[1;34mtraceslits.py 797 _synchronize()\u001b[0m - Synchronizing left and right slit traces\n",
      "\u001b[1;32m[INFO]    ::\u001b[0m \u001b[1;34mtrace_slits.py 2437 synchronize_edges()\u001b[0m - Relabelling slit edges\n",
      "\u001b[1;30m[WORK IN ]::\u001b[0m\n",
      "\u001b[1;33m[PROGRESS]::\u001b[0m \u001b[1;34mtrace_slits.py 2080 pca_pixel_slit_edges()\u001b[0m - May need to do a check here to make sure ofit is reasonable\n",
      "\u001b[1;32m[INFO]    ::\u001b[0m \u001b[1;34mtrace_slits.py 2086 pca_pixel_slit_edges()\u001b[0m - Performing a PCA on the slit traces\n",
      "             \u001b[1;34mpca.py 98 basis()\u001b[0m -   Reduced chi-squared = 2.109613E-07\n",
      "\u001b[1;32m[INFO]    ::\u001b[0m \u001b[1;34mtraceslits.py 845 _trim_slits()\u001b[0m - Slit 13 has width = 2.1837675380609904 < less than min_slit_width = 4.0 arcseconds - ignoring this slit\n",
      "\u001b[1;32m[INFO]    ::\u001b[0m \u001b[1;34mtraceslits.py 845 _trim_slits()\u001b[0m - Slit 39 has width = 2.1278821357908866 < less than min_slit_width = 4.0 arcseconds - ignoring this slit\n",
      "\u001b[1;32m[INFO]    ::\u001b[0m \u001b[1;34mtraceslits.py 845 _trim_slits()\u001b[0m - Slit 42 has width = 1.871624592335081 < less than min_slit_width = 4.0 arcseconds - ignoring this slit\n",
      "\u001b[1;32m[INFO]    ::\u001b[0m \u001b[1;34mtraceslits.py 845 _trim_slits()\u001b[0m - Slit 49 has width = 2.162858407606137 < less than min_slit_width = 4.0 arcseconds - ignoring this slit\n",
      "\u001b[1;32m[INFO]    ::\u001b[0m \u001b[1;34mtraceslits.py 535 _make_pixel_arrays()\u001b[0m - Converting physical trace locations to nearest pixel\n",
      "\u001b[1;32m[INFO]    ::\u001b[0m \u001b[1;34mtraceslits.py 542 _make_pixel_arrays()\u001b[0m - Identifying the pixels belonging to each slit\n",
      "\u001b[1;32m[INFO]    ::\u001b[0m \u001b[1;34mtraceslits.py 933 save_master()\u001b[0m - Wrote TraceSlit arrays to /scratch/REDUX/Gemini/J1059+1441/gemini_gmos_north_e2v_setup_A/MF_gemini_gmos_north_e2v/MasterTrace_A_01_aa.fits\n",
      "\u001b[1;32m[INFO]    ::\u001b[0m \u001b[1;34mtraceslits.py 935 save_master()\u001b[0m - gzip compressing /scratch/REDUX/Gemini/J1059+1441/gemini_gmos_north_e2v_setup_A/MF_gemini_gmos_north_e2v/MasterTrace_A_01_aa.fits\n",
      "\u001b[1;32m[INFO]    ::\u001b[0m \u001b[1;34mtraceslits.py 949 save_master()\u001b[0m - Writing TraceSlit dict to /scratch/REDUX/Gemini/J1059+1441/gemini_gmos_north_e2v_setup_A/MF_gemini_gmos_north_e2v/MasterTrace_A_01_aa.json\n",
      "\u001b[1;32m[INFO]    ::\u001b[0m \u001b[1;34marc.py 148 get_censpec()\u001b[0m - Extracting an approximate arc spectrum at the centre of slit 1\n",
      "\u001b[1;32m[INFO]    ::\u001b[0m \u001b[1;34marc.py 148 get_censpec()\u001b[0m - Extracting an approximate arc spectrum at the centre of slit 2\n",
      "\u001b[1;32m[INFO]    ::\u001b[0m \u001b[1;34marc.py 148 get_censpec()\u001b[0m - Extracting an approximate arc spectrum at the centre of slit 3\n",
      "\u001b[1;32m[INFO]    ::\u001b[0m \u001b[1;34marc.py 148 get_censpec()\u001b[0m - Extracting an approximate arc spectrum at the centre of slit 4\n",
      "\u001b[1;32m[INFO]    ::\u001b[0m \u001b[1;34marc.py 148 get_censpec()\u001b[0m - Extracting an approximate arc spectrum at the centre of slit 5\n",
      "\u001b[1;32m[INFO]    ::\u001b[0m \u001b[1;34marc.py 148 get_censpec()\u001b[0m - Extracting an approximate arc spectrum at the centre of slit 6\n",
      "\u001b[1;32m[INFO]    ::\u001b[0m \u001b[1;34marc.py 148 get_censpec()\u001b[0m - Extracting an approximate arc spectrum at the centre of slit 7\n",
      "\u001b[1;32m[INFO]    ::\u001b[0m \u001b[1;34marc.py 148 get_censpec()\u001b[0m - Extracting an approximate arc spectrum at the centre of slit 8\n",
      "\u001b[1;32m[INFO]    ::\u001b[0m \u001b[1;34marc.py 148 get_censpec()\u001b[0m - Extracting an approximate arc spectrum at the centre of slit 9\n",
      "\u001b[1;32m[INFO]    ::\u001b[0m \u001b[1;34marc.py 148 get_censpec()\u001b[0m - Extracting an approximate arc spectrum at the centre of slit 10\n",
      "\u001b[1;32m[INFO]    ::\u001b[0m \u001b[1;34marc.py 148 get_censpec()\u001b[0m - Extracting an approximate arc spectrum at the centre of slit 11\n",
      "\u001b[1;32m[INFO]    ::\u001b[0m \u001b[1;34marc.py 148 get_censpec()\u001b[0m - Extracting an approximate arc spectrum at the centre of slit 12\n",
      "\u001b[1;32m[INFO]    ::\u001b[0m \u001b[1;34marc.py 148 get_censpec()\u001b[0m - Extracting an approximate arc spectrum at the centre of slit 13\n",
      "\u001b[1;32m[INFO]    ::\u001b[0m \u001b[1;34marc.py 148 get_censpec()\u001b[0m - Extracting an approximate arc spectrum at the centre of slit 14\n",
      "\u001b[1;32m[INFO]    ::\u001b[0m \u001b[1;34marc.py 148 get_censpec()\u001b[0m - Extracting an approximate arc spectrum at the centre of slit 15\n",
      "\u001b[1;32m[INFO]    ::\u001b[0m \u001b[1;34marc.py 148 get_censpec()\u001b[0m - Extracting an approximate arc spectrum at the centre of slit 16\n",
      "\u001b[1;32m[INFO]    ::\u001b[0m \u001b[1;34marc.py 148 get_censpec()\u001b[0m - Extracting an approximate arc spectrum at the centre of slit 17\n",
      "\u001b[1;32m[INFO]    ::\u001b[0m \u001b[1;34marc.py 148 get_censpec()\u001b[0m - Extracting an approximate arc spectrum at the centre of slit 18\n",
      "\u001b[1;32m[INFO]    ::\u001b[0m \u001b[1;34marc.py 148 get_censpec()\u001b[0m - Extracting an approximate arc spectrum at the centre of slit 19\n",
      "\u001b[1;32m[INFO]    ::\u001b[0m \u001b[1;34marc.py 148 get_censpec()\u001b[0m - Extracting an approximate arc spectrum at the centre of slit 20\n",
      "\u001b[1;32m[INFO]    ::\u001b[0m \u001b[1;34marc.py 148 get_censpec()\u001b[0m - Extracting an approximate arc spectrum at the centre of slit 21\n",
      "\u001b[1;32m[INFO]    ::\u001b[0m \u001b[1;34marc.py 148 get_censpec()\u001b[0m - Extracting an approximate arc spectrum at the centre of slit 22\n",
      "\u001b[1;32m[INFO]    ::\u001b[0m \u001b[1;34marc.py 148 get_censpec()\u001b[0m - Extracting an approximate arc spectrum at the centre of slit 23\n",
      "\u001b[1;32m[INFO]    ::\u001b[0m \u001b[1;34marc.py 148 get_censpec()\u001b[0m - Extracting an approximate arc spectrum at the centre of slit 24\n",
      "\u001b[1;32m[INFO]    ::\u001b[0m \u001b[1;34marc.py 148 get_censpec()\u001b[0m - Extracting an approximate arc spectrum at the centre of slit 25\n",
      "\u001b[1;32m[INFO]    ::\u001b[0m \u001b[1;34marc.py 148 get_censpec()\u001b[0m - Extracting an approximate arc spectrum at the centre of slit 26\n",
      "\u001b[1;32m[INFO]    ::\u001b[0m \u001b[1;34marc.py 148 get_censpec()\u001b[0m - Extracting an approximate arc spectrum at the centre of slit 27\n",
      "\u001b[1;32m[INFO]    ::\u001b[0m \u001b[1;34marc.py 148 get_censpec()\u001b[0m - Extracting an approximate arc spectrum at the centre of slit 28\n",
      "\u001b[1;32m[INFO]    ::\u001b[0m \u001b[1;34marc.py 148 get_censpec()\u001b[0m - Extracting an approximate arc spectrum at the centre of slit 29\n",
      "\u001b[1;32m[INFO]    ::\u001b[0m \u001b[1;34marc.py 148 get_censpec()\u001b[0m - Extracting an approximate arc spectrum at the centre of slit 30\n",
      "\u001b[1;32m[INFO]    ::\u001b[0m \u001b[1;34marc.py 148 get_censpec()\u001b[0m - Extracting an approximate arc spectrum at the centre of slit 31\n",
      "\u001b[1;32m[INFO]    ::\u001b[0m \u001b[1;34marc.py 148 get_censpec()\u001b[0m - Extracting an approximate arc spectrum at the centre of slit 32\n",
      "\u001b[1;32m[INFO]    ::\u001b[0m \u001b[1;34marc.py 148 get_censpec()\u001b[0m - Extracting an approximate arc spectrum at the centre of slit 33\n",
      "\u001b[1;32m[INFO]    ::\u001b[0m \u001b[1;34marc.py 148 get_censpec()\u001b[0m - Extracting an approximate arc spectrum at the centre of slit 34\n",
      "\u001b[1;32m[INFO]    ::\u001b[0m \u001b[1;34marc.py 148 get_censpec()\u001b[0m - Extracting an approximate arc spectrum at the centre of slit 35\n",
      "\u001b[1;32m[INFO]    ::\u001b[0m \u001b[1;34marc.py 148 get_censpec()\u001b[0m - Extracting an approximate arc spectrum at the centre of slit 36\n",
      "\u001b[1;32m[INFO]    ::\u001b[0m \u001b[1;34marc.py 148 get_censpec()\u001b[0m - Extracting an approximate arc spectrum at the centre of slit 37\n",
      "\u001b[1;32m[INFO]    ::\u001b[0m \u001b[1;34marc.py 148 get_censpec()\u001b[0m - Extracting an approximate arc spectrum at the centre of slit 38\n",
      "\u001b[1;32m[INFO]    ::\u001b[0m \u001b[1;34marc.py 148 get_censpec()\u001b[0m - Extracting an approximate arc spectrum at the centre of slit 39\n",
      "\u001b[1;32m[INFO]    ::\u001b[0m \u001b[1;34marc.py 148 get_censpec()\u001b[0m - Extracting an approximate arc spectrum at the centre of slit 40\n",
      "\u001b[1;32m[INFO]    ::\u001b[0m \u001b[1;34marc.py 148 get_censpec()\u001b[0m - Extracting an approximate arc spectrum at the centre of slit 41\n",
      "\u001b[1;32m[INFO]    ::\u001b[0m \u001b[1;34marc.py 148 get_censpec()\u001b[0m - Extracting an approximate arc spectrum at the centre of slit 42\n",
      "\u001b[1;32m[INFO]    ::\u001b[0m \u001b[1;34marc.py 148 get_censpec()\u001b[0m - Extracting an approximate arc spectrum at the centre of slit 43\n",
      "\u001b[1;32m[INFO]    ::\u001b[0m \u001b[1;34marc.py 148 get_censpec()\u001b[0m - Extracting an approximate arc spectrum at the centre of slit 44\n",
      "\u001b[1;32m[INFO]    ::\u001b[0m \u001b[1;34marc.py 148 get_censpec()\u001b[0m - Extracting an approximate arc spectrum at the centre of slit 45\n",
      "\u001b[1;32m[INFO]    ::\u001b[0m \u001b[1;34marc.py 71 setup_param()\u001b[0m - Loading line list using CuAr lamps\n"
     ]
    },
    {
     "name": "stdout",
     "output_type": "stream",
     "text": [
      "> /data/Projects/Python/PypeIt/pypeit/core/wavecal/waveio.py(148)load_line_lists()\n",
      "-> raise IOError(\"Input line {:s} is not included in arclines\".format(line))\n",
      "(Pdb) line\n",
      "'CuAr'\n",
      "(Pdb) w\n",
      "  /home/xavier/.pyenv/versions/anaconda3-4.4.0/lib/python3.6/runpy.py(193)_run_module_as_main()\n",
      "-> \"__main__\", mod_spec)\n",
      "  /home/xavier/.pyenv/versions/anaconda3-4.4.0/lib/python3.6/runpy.py(85)_run_code()\n",
      "-> exec(code, run_globals)\n",
      "  /home/xavier/.pyenv/versions/anaconda3-4.4.0/lib/python3.6/site-packages/ipykernel_launcher.py(16)<module>()\n",
      "-> app.launch_new_instance()\n",
      "  /home/xavier/.pyenv/versions/anaconda3-4.4.0/lib/python3.6/site-packages/traitlets/config/application.py(658)launch_instance()\n",
      "-> app.start()\n",
      "  /home/xavier/.pyenv/versions/anaconda3-4.4.0/lib/python3.6/site-packages/ipykernel/kernelapp.py(477)start()\n",
      "-> ioloop.IOLoop.instance().start()\n",
      "  /home/xavier/.pyenv/versions/anaconda3-4.4.0/lib/python3.6/site-packages/zmq/eventloop/ioloop.py(177)start()\n",
      "-> super(ZMQIOLoop, self).start()\n",
      "  /home/xavier/.pyenv/versions/anaconda3-4.4.0/lib/python3.6/site-packages/tornado/ioloop.py(888)start()\n",
      "-> handler_func(fd_obj, events)\n",
      "  /home/xavier/.pyenv/versions/anaconda3-4.4.0/lib/python3.6/site-packages/tornado/stack_context.py(277)null_wrapper()\n",
      "-> return fn(*args, **kwargs)\n",
      "  /home/xavier/.pyenv/versions/anaconda3-4.4.0/lib/python3.6/site-packages/zmq/eventloop/zmqstream.py(440)_handle_events()\n",
      "-> self._handle_recv()\n",
      "  /home/xavier/.pyenv/versions/anaconda3-4.4.0/lib/python3.6/site-packages/zmq/eventloop/zmqstream.py(472)_handle_recv()\n",
      "-> self._run_callback(callback, msg)\n",
      "  /home/xavier/.pyenv/versions/anaconda3-4.4.0/lib/python3.6/site-packages/zmq/eventloop/zmqstream.py(414)_run_callback()\n",
      "-> callback(*args, **kwargs)\n",
      "  /home/xavier/.pyenv/versions/anaconda3-4.4.0/lib/python3.6/site-packages/tornado/stack_context.py(277)null_wrapper()\n",
      "-> return fn(*args, **kwargs)\n",
      "  /home/xavier/.pyenv/versions/anaconda3-4.4.0/lib/python3.6/site-packages/ipykernel/kernelbase.py(283)dispatcher()\n",
      "-> return self.dispatch_shell(stream, msg)\n",
      "  /home/xavier/.pyenv/versions/anaconda3-4.4.0/lib/python3.6/site-packages/ipykernel/kernelbase.py(235)dispatch_shell()\n",
      "-> handler(stream, idents, msg)\n",
      "  /home/xavier/.pyenv/versions/anaconda3-4.4.0/lib/python3.6/site-packages/ipykernel/kernelbase.py(399)execute_request()\n",
      "-> user_expressions, allow_stdin)\n",
      "  /home/xavier/.pyenv/versions/anaconda3-4.4.0/lib/python3.6/site-packages/ipykernel/ipkernel.py(196)do_execute()\n",
      "-> res = shell.run_cell(code, store_history=store_history, silent=silent)\n",
      "  /home/xavier/.pyenv/versions/anaconda3-4.4.0/lib/python3.6/site-packages/ipykernel/zmqshell.py(533)run_cell()\n",
      "-> return super(ZMQInteractiveShell, self).run_cell(*args, **kwargs)\n",
      "  /home/xavier/.pyenv/versions/anaconda3-4.4.0/lib/python3.6/site-packages/IPython/core/interactiveshell.py(2717)run_cell()\n",
      "-> interactivity=interactivity, compiler=compiler, result=result)\n",
      "  /home/xavier/.pyenv/versions/anaconda3-4.4.0/lib/python3.6/site-packages/IPython/core/interactiveshell.py(2827)run_ast_nodes()\n",
      "-> if self.run_code(code, result):\n",
      "  /home/xavier/.pyenv/versions/anaconda3-4.4.0/lib/python3.6/site-packages/IPython/core/interactiveshell.py(2881)run_code()\n",
      "-> exec(code_obj, self.user_global_ns, self.user_ns)\n",
      "  <ipython-input-7-84c6e515cd69>(1)<module>()\n",
      "-> pypeIt.reduce_all()\n",
      "  /data/Projects/Python/PypeIt/pypeit/pypeit.py(229)reduce_all()\n",
      "-> sci_dict = self.reduce_exposure(sci_ID, reuse_masters=reuse_masters)\n",
      "  /data/Projects/Python/PypeIt/pypeit/pypeit.py(343)reduce_exposure()\n",
      "-> self.calibrate_one(sci_ID, det)\n",
      "  /data/Projects/Python/PypeIt/pypeit/pypeit.py(697)calibrate_one()\n",
      "-> self.caliBrate.run_the_steps()\n",
      "  /data/Projects/Python/PypeIt/pypeit/calibrations.py(694)run_the_steps()\n",
      "-> getattr(self, 'get_{:s}'.format(step))()\n",
      "  /data/Projects/Python/PypeIt/pypeit/calibrations.py(591)get_wv_calib()\n",
      "-> nonlinear=nonlinear, skip_QA=(not self.write_qa))\n",
      "  /data/Projects/Python/PypeIt/pypeit/wavecalib.py(327)run()\n",
      "-> self.wv_calib = self._build_wv_calib(self.par['method'], skip_QA=skip_QA)\n",
      "  /data/Projects/Python/PypeIt/pypeit/wavecalib.py(134)_build_wv_calib()\n",
      "-> self.wv_calib = arc.calib_with_arclines(self.arcparam, self.arccen, ok_mask=ok_mask)\n",
      "  /data/Projects/Python/PypeIt/pypeit/core/arc.py(882)calib_with_arclines()\n",
      "-> arcfitter = autoid.General(spec, aparm['lamps'], ok_mask=ok_mask, fit_parm=aparm, min_ampl=aparm['min_ampl'], nonlinear_counts = aparm['nonlinear_counts'])\n",
      "  /data/Projects/Python/PypeIt/pypeit/core/wavecal/autoid.py(393)__init__()\n",
      "-> self.load_linelist()\n",
      "  /data/Projects/Python/PypeIt/pypeit/core/wavecal/autoid.py(424)load_linelist()\n",
      "-> self._line_lists = waveio.load_line_lists(self._lines)\n",
      "> /data/Projects/Python/PypeIt/pypeit/core/wavecal/waveio.py(148)load_line_lists()\n",
      "-> raise IOError(\"Input line {:s} is not included in arclines\".format(line))\n",
      "(Pdb) exit\n"
     ]
    },
    {
     "ename": "BdbQuit",
     "evalue": "",
     "output_type": "error",
     "traceback": [
      "\u001b[0;31m---------------------------------------------------------------------------\u001b[0m",
      "\u001b[0;31mBdbQuit\u001b[0m                                   Traceback (most recent call last)",
      "\u001b[0;32m<ipython-input-7-84c6e515cd69>\u001b[0m in \u001b[0;36m<module>\u001b[0;34m()\u001b[0m\n\u001b[0;32m----> 1\u001b[0;31m \u001b[0mpypeIt\u001b[0m\u001b[0;34m.\u001b[0m\u001b[0mreduce_all\u001b[0m\u001b[0;34m(\u001b[0m\u001b[0;34m)\u001b[0m\u001b[0;34m\u001b[0m\u001b[0m\n\u001b[0m",
      "\u001b[0;32m/data/Projects/Python/PypeIt/pypeit/pypeit.py\u001b[0m in \u001b[0;36mreduce_all\u001b[0;34m(self, reuse_masters)\u001b[0m\n\u001b[1;32m    227\u001b[0m \u001b[0;34m\u001b[0m\u001b[0m\n\u001b[1;32m    228\u001b[0m         \u001b[0;32mfor\u001b[0m \u001b[0mkk\u001b[0m\u001b[0;34m,\u001b[0m\u001b[0msci_ID\u001b[0m \u001b[0;32min\u001b[0m \u001b[0menumerate\u001b[0m\u001b[0;34m(\u001b[0m\u001b[0mall_sci_ID\u001b[0m\u001b[0;34m)\u001b[0m\u001b[0;34m:\u001b[0m\u001b[0;34m\u001b[0m\u001b[0m\n\u001b[0;32m--> 229\u001b[0;31m             \u001b[0msci_dict\u001b[0m \u001b[0;34m=\u001b[0m \u001b[0mself\u001b[0m\u001b[0;34m.\u001b[0m\u001b[0mreduce_exposure\u001b[0m\u001b[0;34m(\u001b[0m\u001b[0msci_ID\u001b[0m\u001b[0;34m,\u001b[0m \u001b[0mreuse_masters\u001b[0m\u001b[0;34m=\u001b[0m\u001b[0mreuse_masters\u001b[0m\u001b[0;34m)\u001b[0m\u001b[0;34m\u001b[0m\u001b[0m\n\u001b[0m\u001b[1;32m    230\u001b[0m             \u001b[0;31m# Save\u001b[0m\u001b[0;34m\u001b[0m\u001b[0;34m\u001b[0m\u001b[0m\n\u001b[1;32m    231\u001b[0m             \u001b[0mscidx\u001b[0m \u001b[0;34m=\u001b[0m \u001b[0mself\u001b[0m\u001b[0;34m.\u001b[0m\u001b[0mfitstbl\u001b[0m\u001b[0;34m.\u001b[0m\u001b[0mfind_frames\u001b[0m\u001b[0;34m(\u001b[0m\u001b[0;34m'science'\u001b[0m\u001b[0;34m,\u001b[0m \u001b[0msci_ID\u001b[0m\u001b[0;34m=\u001b[0m\u001b[0msci_ID\u001b[0m\u001b[0;34m,\u001b[0m \u001b[0mindex\u001b[0m\u001b[0;34m=\u001b[0m\u001b[0;32mTrue\u001b[0m\u001b[0;34m)\u001b[0m\u001b[0;34m[\u001b[0m\u001b[0;36m0\u001b[0m\u001b[0;34m]\u001b[0m\u001b[0;34m\u001b[0m\u001b[0m\n",
      "\u001b[0;32m/data/Projects/Python/PypeIt/pypeit/pypeit.py\u001b[0m in \u001b[0;36mreduce_exposure\u001b[0;34m(self, sci_ID, reuse_masters)\u001b[0m\n\u001b[1;32m    341\u001b[0m \u001b[0;34m\u001b[0m\u001b[0m\n\u001b[1;32m    342\u001b[0m             \u001b[0;31m# Calibrate\u001b[0m\u001b[0;34m\u001b[0m\u001b[0;34m\u001b[0m\u001b[0m\n\u001b[0;32m--> 343\u001b[0;31m             \u001b[0mself\u001b[0m\u001b[0;34m.\u001b[0m\u001b[0mcalibrate_one\u001b[0m\u001b[0;34m(\u001b[0m\u001b[0msci_ID\u001b[0m\u001b[0;34m,\u001b[0m \u001b[0mdet\u001b[0m\u001b[0;34m)\u001b[0m\u001b[0;34m\u001b[0m\u001b[0m\n\u001b[0m\u001b[1;32m    344\u001b[0m \u001b[0;34m\u001b[0m\u001b[0m\n\u001b[1;32m    345\u001b[0m             \u001b[0;31m# Init ScienceImage class\u001b[0m\u001b[0;34m\u001b[0m\u001b[0;34m\u001b[0m\u001b[0m\n",
      "\u001b[0;32m/data/Projects/Python/PypeIt/pypeit/pypeit.py\u001b[0m in \u001b[0;36mcalibrate_one\u001b[0;34m(self, sci_ID, det)\u001b[0m\n\u001b[1;32m    695\u001b[0m         \u001b[0mself\u001b[0m\u001b[0;34m.\u001b[0m\u001b[0mcaliBrate\u001b[0m\u001b[0;34m.\u001b[0m\u001b[0mreset\u001b[0m\u001b[0;34m(\u001b[0m\u001b[0mself\u001b[0m\u001b[0;34m.\u001b[0m\u001b[0msetup\u001b[0m\u001b[0;34m,\u001b[0m \u001b[0mdet\u001b[0m\u001b[0;34m,\u001b[0m \u001b[0msci_ID\u001b[0m\u001b[0;34m,\u001b[0m \u001b[0mself\u001b[0m\u001b[0;34m.\u001b[0m\u001b[0mpar\u001b[0m\u001b[0;34m[\u001b[0m\u001b[0;34m'calibrations'\u001b[0m\u001b[0;34m]\u001b[0m\u001b[0;34m)\u001b[0m\u001b[0;34m\u001b[0m\u001b[0m\n\u001b[1;32m    696\u001b[0m         \u001b[0;31m# Run em\u001b[0m\u001b[0;34m\u001b[0m\u001b[0;34m\u001b[0m\u001b[0m\n\u001b[0;32m--> 697\u001b[0;31m         \u001b[0mself\u001b[0m\u001b[0;34m.\u001b[0m\u001b[0mcaliBrate\u001b[0m\u001b[0;34m.\u001b[0m\u001b[0mrun_the_steps\u001b[0m\u001b[0;34m(\u001b[0m\u001b[0;34m)\u001b[0m\u001b[0;34m\u001b[0m\u001b[0m\n\u001b[0m\u001b[1;32m    698\u001b[0m \u001b[0;34m\u001b[0m\u001b[0m\n\u001b[1;32m    699\u001b[0m         \u001b[0mmsgs\u001b[0m\u001b[0;34m.\u001b[0m\u001b[0minfo\u001b[0m\u001b[0;34m(\u001b[0m\u001b[0;34m\"Successful Calibration!\"\u001b[0m\u001b[0;34m)\u001b[0m\u001b[0;34m\u001b[0m\u001b[0m\n",
      "\u001b[0;32m/data/Projects/Python/PypeIt/pypeit/calibrations.py\u001b[0m in \u001b[0;36mrun_the_steps\u001b[0;34m(self)\u001b[0m\n\u001b[1;32m    692\u001b[0m         \"\"\"\n\u001b[1;32m    693\u001b[0m         \u001b[0;32mfor\u001b[0m \u001b[0mstep\u001b[0m \u001b[0;32min\u001b[0m \u001b[0mself\u001b[0m\u001b[0;34m.\u001b[0m\u001b[0msteps\u001b[0m\u001b[0;34m:\u001b[0m\u001b[0;34m\u001b[0m\u001b[0m\n\u001b[0;32m--> 694\u001b[0;31m             \u001b[0mgetattr\u001b[0m\u001b[0;34m(\u001b[0m\u001b[0mself\u001b[0m\u001b[0;34m,\u001b[0m \u001b[0;34m'get_{:s}'\u001b[0m\u001b[0;34m.\u001b[0m\u001b[0mformat\u001b[0m\u001b[0;34m(\u001b[0m\u001b[0mstep\u001b[0m\u001b[0;34m)\u001b[0m\u001b[0;34m)\u001b[0m\u001b[0;34m(\u001b[0m\u001b[0;34m)\u001b[0m\u001b[0;34m\u001b[0m\u001b[0m\n\u001b[0m\u001b[1;32m    695\u001b[0m \u001b[0;34m\u001b[0m\u001b[0m\n\u001b[1;32m    696\u001b[0m     \u001b[0;31m# This is general to any attribute\u001b[0m\u001b[0;34m\u001b[0m\u001b[0;34m\u001b[0m\u001b[0m\n",
      "\u001b[0;32m/data/Projects/Python/PypeIt/pypeit/calibrations.py\u001b[0m in \u001b[0;36mget_wv_calib\u001b[0;34m(self)\u001b[0m\n\u001b[1;32m    589\u001b[0m                                                   \u001b[0mself\u001b[0m\u001b[0;34m.\u001b[0m\u001b[0mtslits_dict\u001b[0m\u001b[0;34m[\u001b[0m\u001b[0;34m'rcen'\u001b[0m\u001b[0;34m]\u001b[0m\u001b[0;34m,\u001b[0m\u001b[0;34m\u001b[0m\u001b[0m\n\u001b[1;32m    590\u001b[0m                                                   \u001b[0mself\u001b[0m\u001b[0;34m.\u001b[0m\u001b[0mtslits_dict\u001b[0m\u001b[0;34m[\u001b[0m\u001b[0;34m'slitpix'\u001b[0m\u001b[0;34m]\u001b[0m\u001b[0;34m,\u001b[0m\u001b[0;34m\u001b[0m\u001b[0m\n\u001b[0;32m--> 591\u001b[0;31m                                                   nonlinear=nonlinear, skip_QA=(not self.write_qa))\n\u001b[0m\u001b[1;32m    592\u001b[0m             \u001b[0;31m# Save to Masters\u001b[0m\u001b[0;34m\u001b[0m\u001b[0;34m\u001b[0m\u001b[0m\n\u001b[1;32m    593\u001b[0m             \u001b[0;32mif\u001b[0m \u001b[0mself\u001b[0m\u001b[0;34m.\u001b[0m\u001b[0msave_masters\u001b[0m\u001b[0;34m:\u001b[0m\u001b[0;34m\u001b[0m\u001b[0m\n",
      "\u001b[0;32m/data/Projects/Python/PypeIt/pypeit/wavecalib.py\u001b[0m in \u001b[0;36mrun\u001b[0;34m(self, lordloc, rordloc, slitpix, nonlinear, skip_QA)\u001b[0m\n\u001b[1;32m    325\u001b[0m \u001b[0;34m\u001b[0m\u001b[0m\n\u001b[1;32m    326\u001b[0m         \u001b[0;31m# Fill up the calibrations and generate QA\u001b[0m\u001b[0;34m\u001b[0m\u001b[0;34m\u001b[0m\u001b[0m\n\u001b[0;32m--> 327\u001b[0;31m         \u001b[0mself\u001b[0m\u001b[0;34m.\u001b[0m\u001b[0mwv_calib\u001b[0m \u001b[0;34m=\u001b[0m \u001b[0mself\u001b[0m\u001b[0;34m.\u001b[0m\u001b[0m_build_wv_calib\u001b[0m\u001b[0;34m(\u001b[0m\u001b[0mself\u001b[0m\u001b[0;34m.\u001b[0m\u001b[0mpar\u001b[0m\u001b[0;34m[\u001b[0m\u001b[0;34m'method'\u001b[0m\u001b[0;34m]\u001b[0m\u001b[0;34m,\u001b[0m \u001b[0mskip_QA\u001b[0m\u001b[0;34m=\u001b[0m\u001b[0mskip_QA\u001b[0m\u001b[0;34m)\u001b[0m\u001b[0;34m\u001b[0m\u001b[0m\n\u001b[0m\u001b[1;32m    328\u001b[0m         \u001b[0mself\u001b[0m\u001b[0;34m.\u001b[0m\u001b[0mwv_calib\u001b[0m\u001b[0;34m[\u001b[0m\u001b[0;34m'steps'\u001b[0m\u001b[0;34m]\u001b[0m \u001b[0;34m=\u001b[0m \u001b[0mself\u001b[0m\u001b[0;34m.\u001b[0m\u001b[0msteps\u001b[0m\u001b[0;34m\u001b[0m\u001b[0m\n\u001b[1;32m    329\u001b[0m         \u001b[0msv_aparam\u001b[0m \u001b[0;34m=\u001b[0m \u001b[0mself\u001b[0m\u001b[0;34m.\u001b[0m\u001b[0marcparam\u001b[0m\u001b[0;34m.\u001b[0m\u001b[0mcopy\u001b[0m\u001b[0;34m(\u001b[0m\u001b[0;34m)\u001b[0m\u001b[0;34m\u001b[0m\u001b[0m\n",
      "\u001b[0;32m/data/Projects/Python/PypeIt/pypeit/wavecalib.py\u001b[0m in \u001b[0;36m_build_wv_calib\u001b[0;34m(self, method, skip_QA)\u001b[0m\n\u001b[1;32m    132\u001b[0m                                                     IDwaves=self.par['IDwaves'])\n\u001b[1;32m    133\u001b[0m         \u001b[0;32melif\u001b[0m \u001b[0mmethod\u001b[0m \u001b[0;34m==\u001b[0m \u001b[0;34m'arclines'\u001b[0m\u001b[0;34m:\u001b[0m\u001b[0;34m\u001b[0m\u001b[0m\n\u001b[0;32m--> 134\u001b[0;31m             \u001b[0mself\u001b[0m\u001b[0;34m.\u001b[0m\u001b[0mwv_calib\u001b[0m \u001b[0;34m=\u001b[0m \u001b[0marc\u001b[0m\u001b[0;34m.\u001b[0m\u001b[0mcalib_with_arclines\u001b[0m\u001b[0;34m(\u001b[0m\u001b[0mself\u001b[0m\u001b[0;34m.\u001b[0m\u001b[0marcparam\u001b[0m\u001b[0;34m,\u001b[0m \u001b[0mself\u001b[0m\u001b[0;34m.\u001b[0m\u001b[0marccen\u001b[0m\u001b[0;34m,\u001b[0m \u001b[0mok_mask\u001b[0m\u001b[0;34m=\u001b[0m\u001b[0mok_mask\u001b[0m\u001b[0;34m)\u001b[0m\u001b[0;34m\u001b[0m\u001b[0m\n\u001b[0m\u001b[1;32m    135\u001b[0m \u001b[0;34m\u001b[0m\u001b[0m\n\u001b[1;32m    136\u001b[0m         \u001b[0;31m# QA\u001b[0m\u001b[0;34m\u001b[0m\u001b[0;34m\u001b[0m\u001b[0m\n",
      "\u001b[0;32m/data/Projects/Python/PypeIt/pypeit/core/arc.py\u001b[0m in \u001b[0;36mcalib_with_arclines\u001b[0;34m(aparm, spec, ok_mask, use_method)\u001b[0m\n\u001b[1;32m    880\u001b[0m     \u001b[0;32melse\u001b[0m\u001b[0;34m:\u001b[0m\u001b[0;34m\u001b[0m\u001b[0m\n\u001b[1;32m    881\u001b[0m         \u001b[0;31m# Now preferred\u001b[0m\u001b[0;34m\u001b[0m\u001b[0;34m\u001b[0m\u001b[0m\n\u001b[0;32m--> 882\u001b[0;31m         \u001b[0marcfitter\u001b[0m \u001b[0;34m=\u001b[0m \u001b[0mautoid\u001b[0m\u001b[0;34m.\u001b[0m\u001b[0mGeneral\u001b[0m\u001b[0;34m(\u001b[0m\u001b[0mspec\u001b[0m\u001b[0;34m,\u001b[0m \u001b[0maparm\u001b[0m\u001b[0;34m[\u001b[0m\u001b[0;34m'lamps'\u001b[0m\u001b[0;34m]\u001b[0m\u001b[0;34m,\u001b[0m \u001b[0mok_mask\u001b[0m\u001b[0;34m=\u001b[0m\u001b[0mok_mask\u001b[0m\u001b[0;34m,\u001b[0m \u001b[0mfit_parm\u001b[0m\u001b[0;34m=\u001b[0m\u001b[0maparm\u001b[0m\u001b[0;34m,\u001b[0m \u001b[0mmin_ampl\u001b[0m\u001b[0;34m=\u001b[0m\u001b[0maparm\u001b[0m\u001b[0;34m[\u001b[0m\u001b[0;34m'min_ampl'\u001b[0m\u001b[0;34m]\u001b[0m\u001b[0;34m,\u001b[0m \u001b[0mnonlinear_counts\u001b[0m \u001b[0;34m=\u001b[0m \u001b[0maparm\u001b[0m\u001b[0;34m[\u001b[0m\u001b[0;34m'nonlinear_counts'\u001b[0m\u001b[0;34m]\u001b[0m\u001b[0;34m)\u001b[0m\u001b[0;34m\u001b[0m\u001b[0m\n\u001b[0m\u001b[1;32m    883\u001b[0m         \u001b[0mpatt_dict\u001b[0m\u001b[0;34m,\u001b[0m \u001b[0mfinal_fit\u001b[0m \u001b[0;34m=\u001b[0m \u001b[0marcfitter\u001b[0m\u001b[0;34m.\u001b[0m\u001b[0mget_results\u001b[0m\u001b[0;34m(\u001b[0m\u001b[0;34m)\u001b[0m\u001b[0;34m\u001b[0m\u001b[0m\n\u001b[1;32m    884\u001b[0m     \u001b[0;32mreturn\u001b[0m \u001b[0mfinal_fit\u001b[0m\u001b[0;34m\u001b[0m\u001b[0m\n",
      "\u001b[0;32m/data/Projects/Python/PypeIt/pypeit/core/wavecal/autoid.py\u001b[0m in \u001b[0;36m__init__\u001b[0;34m(self, spec, lines, ok_mask, min_ampl, nonlinear_counts, islinelist, outroot, debug, verbose, fit_parm, lowest_ampl, rms_threshold, binw, bind, nstore, use_unknowns)\u001b[0m\n\u001b[1;32m    391\u001b[0m \u001b[0;34m\u001b[0m\u001b[0m\n\u001b[1;32m    392\u001b[0m         \u001b[0;31m# Load the linelist to be used for pattern matching\u001b[0m\u001b[0;34m\u001b[0m\u001b[0;34m\u001b[0m\u001b[0m\n\u001b[0;32m--> 393\u001b[0;31m         \u001b[0mself\u001b[0m\u001b[0;34m.\u001b[0m\u001b[0mload_linelist\u001b[0m\u001b[0;34m(\u001b[0m\u001b[0;34m)\u001b[0m\u001b[0;34m\u001b[0m\u001b[0m\n\u001b[0m\u001b[1;32m    394\u001b[0m \u001b[0;34m\u001b[0m\u001b[0m\n\u001b[1;32m    395\u001b[0m         \u001b[0;31m# Find the wavelength solution!\u001b[0m\u001b[0;34m\u001b[0m\u001b[0;34m\u001b[0m\u001b[0m\n",
      "\u001b[0;32m/data/Projects/Python/PypeIt/pypeit/core/wavecal/autoid.py\u001b[0m in \u001b[0;36mload_linelist\u001b[0;34m(self)\u001b[0m\n\u001b[1;32m    422\u001b[0m                 \u001b[0mself\u001b[0m\u001b[0;34m.\u001b[0m\u001b[0m_unknwns\u001b[0m \u001b[0;34m=\u001b[0m \u001b[0mline_lists_all\u001b[0m\u001b[0;34m[\u001b[0m\u001b[0mnp\u001b[0m\u001b[0;34m.\u001b[0m\u001b[0mwhere\u001b[0m\u001b[0;34m(\u001b[0m\u001b[0mline_lists_all\u001b[0m\u001b[0;34m[\u001b[0m\u001b[0;34m'ion'\u001b[0m\u001b[0;34m]\u001b[0m \u001b[0;34m==\u001b[0m \u001b[0;34m'UNKNWN'\u001b[0m\u001b[0;34m)\u001b[0m\u001b[0;34m]\u001b[0m\u001b[0;34m\u001b[0m\u001b[0m\n\u001b[1;32m    423\u001b[0m             \u001b[0;32melse\u001b[0m\u001b[0;34m:\u001b[0m\u001b[0;34m\u001b[0m\u001b[0m\n\u001b[0;32m--> 424\u001b[0;31m                 \u001b[0mself\u001b[0m\u001b[0;34m.\u001b[0m\u001b[0m_line_lists\u001b[0m \u001b[0;34m=\u001b[0m \u001b[0mwaveio\u001b[0m\u001b[0;34m.\u001b[0m\u001b[0mload_line_lists\u001b[0m\u001b[0;34m(\u001b[0m\u001b[0mself\u001b[0m\u001b[0;34m.\u001b[0m\u001b[0m_lines\u001b[0m\u001b[0;34m)\u001b[0m\u001b[0;34m\u001b[0m\u001b[0m\n\u001b[0m\u001b[1;32m    425\u001b[0m                 \u001b[0mself\u001b[0m\u001b[0;34m.\u001b[0m\u001b[0m_unknwns\u001b[0m \u001b[0;34m=\u001b[0m \u001b[0mwaveio\u001b[0m\u001b[0;34m.\u001b[0m\u001b[0mload_unknown_list\u001b[0m\u001b[0;34m(\u001b[0m\u001b[0mself\u001b[0m\u001b[0;34m.\u001b[0m\u001b[0m_lines\u001b[0m\u001b[0;34m)\u001b[0m\u001b[0;34m\u001b[0m\u001b[0m\n\u001b[1;32m    426\u001b[0m \u001b[0;34m\u001b[0m\u001b[0m\n",
      "\u001b[0;32m/data/Projects/Python/PypeIt/pypeit/core/wavecal/waveio.py\u001b[0m in \u001b[0;36mload_line_lists\u001b[0;34m(lines, unknown, skip, all, NIST)\u001b[0m\n\u001b[1;32m    146\u001b[0m             \u001b[0;32mif\u001b[0m \u001b[0;32mnot\u001b[0m \u001b[0mskip\u001b[0m\u001b[0;34m:\u001b[0m\u001b[0;34m\u001b[0m\u001b[0m\n\u001b[1;32m    147\u001b[0m                 \u001b[0;32mimport\u001b[0m \u001b[0mpdb\u001b[0m\u001b[0;34m;\u001b[0m \u001b[0mpdb\u001b[0m\u001b[0;34m.\u001b[0m\u001b[0mset_trace\u001b[0m\u001b[0;34m(\u001b[0m\u001b[0;34m)\u001b[0m\u001b[0;34m\u001b[0m\u001b[0m\n\u001b[0;32m--> 148\u001b[0;31m                 \u001b[0;32mraise\u001b[0m \u001b[0mIOError\u001b[0m\u001b[0;34m(\u001b[0m\u001b[0;34m\"Input line {:s} is not included in arclines\"\u001b[0m\u001b[0;34m.\u001b[0m\u001b[0mformat\u001b[0m\u001b[0;34m(\u001b[0m\u001b[0mline\u001b[0m\u001b[0;34m)\u001b[0m\u001b[0;34m)\u001b[0m\u001b[0;34m\u001b[0m\u001b[0m\n\u001b[0m\u001b[1;32m    149\u001b[0m         \u001b[0;32melse\u001b[0m\u001b[0;34m:\u001b[0m\u001b[0;34m\u001b[0m\u001b[0m\n\u001b[1;32m    150\u001b[0m             \u001b[0mlists\u001b[0m\u001b[0;34m.\u001b[0m\u001b[0mappend\u001b[0m\u001b[0;34m(\u001b[0m\u001b[0mload_line_list\u001b[0m\u001b[0;34m(\u001b[0m\u001b[0mline_file\u001b[0m\u001b[0;34m,\u001b[0m \u001b[0mNIST\u001b[0m\u001b[0;34m=\u001b[0m\u001b[0mNIST\u001b[0m\u001b[0;34m)\u001b[0m\u001b[0;34m)\u001b[0m\u001b[0;34m\u001b[0m\u001b[0m\n",
      "\u001b[0;32m/data/Projects/Python/PypeIt/pypeit/core/wavecal/waveio.py\u001b[0m in \u001b[0;36mload_line_lists\u001b[0;34m(lines, unknown, skip, all, NIST)\u001b[0m\n\u001b[1;32m    146\u001b[0m             \u001b[0;32mif\u001b[0m \u001b[0;32mnot\u001b[0m \u001b[0mskip\u001b[0m\u001b[0;34m:\u001b[0m\u001b[0;34m\u001b[0m\u001b[0m\n\u001b[1;32m    147\u001b[0m                 \u001b[0;32mimport\u001b[0m \u001b[0mpdb\u001b[0m\u001b[0;34m;\u001b[0m \u001b[0mpdb\u001b[0m\u001b[0;34m.\u001b[0m\u001b[0mset_trace\u001b[0m\u001b[0;34m(\u001b[0m\u001b[0;34m)\u001b[0m\u001b[0;34m\u001b[0m\u001b[0m\n\u001b[0;32m--> 148\u001b[0;31m                 \u001b[0;32mraise\u001b[0m \u001b[0mIOError\u001b[0m\u001b[0;34m(\u001b[0m\u001b[0;34m\"Input line {:s} is not included in arclines\"\u001b[0m\u001b[0;34m.\u001b[0m\u001b[0mformat\u001b[0m\u001b[0;34m(\u001b[0m\u001b[0mline\u001b[0m\u001b[0;34m)\u001b[0m\u001b[0;34m)\u001b[0m\u001b[0;34m\u001b[0m\u001b[0m\n\u001b[0m\u001b[1;32m    149\u001b[0m         \u001b[0;32melse\u001b[0m\u001b[0;34m:\u001b[0m\u001b[0;34m\u001b[0m\u001b[0m\n\u001b[1;32m    150\u001b[0m             \u001b[0mlists\u001b[0m\u001b[0;34m.\u001b[0m\u001b[0mappend\u001b[0m\u001b[0;34m(\u001b[0m\u001b[0mload_line_list\u001b[0m\u001b[0;34m(\u001b[0m\u001b[0mline_file\u001b[0m\u001b[0;34m,\u001b[0m \u001b[0mNIST\u001b[0m\u001b[0;34m=\u001b[0m\u001b[0mNIST\u001b[0m\u001b[0;34m)\u001b[0m\u001b[0;34m)\u001b[0m\u001b[0;34m\u001b[0m\u001b[0m\n",
      "\u001b[0;32m/home/xavier/.pyenv/versions/anaconda3-4.4.0/lib/python3.6/bdb.py\u001b[0m in \u001b[0;36mtrace_dispatch\u001b[0;34m(self, frame, event, arg)\u001b[0m\n\u001b[1;32m     49\u001b[0m             \u001b[0;32mreturn\u001b[0m \u001b[0;31m# None\u001b[0m\u001b[0;34m\u001b[0m\u001b[0m\n\u001b[1;32m     50\u001b[0m         \u001b[0;32mif\u001b[0m \u001b[0mevent\u001b[0m \u001b[0;34m==\u001b[0m \u001b[0;34m'line'\u001b[0m\u001b[0;34m:\u001b[0m\u001b[0;34m\u001b[0m\u001b[0m\n\u001b[0;32m---> 51\u001b[0;31m             \u001b[0;32mreturn\u001b[0m \u001b[0mself\u001b[0m\u001b[0;34m.\u001b[0m\u001b[0mdispatch_line\u001b[0m\u001b[0;34m(\u001b[0m\u001b[0mframe\u001b[0m\u001b[0;34m)\u001b[0m\u001b[0;34m\u001b[0m\u001b[0m\n\u001b[0m\u001b[1;32m     52\u001b[0m         \u001b[0;32mif\u001b[0m \u001b[0mevent\u001b[0m \u001b[0;34m==\u001b[0m \u001b[0;34m'call'\u001b[0m\u001b[0;34m:\u001b[0m\u001b[0;34m\u001b[0m\u001b[0m\n\u001b[1;32m     53\u001b[0m             \u001b[0;32mreturn\u001b[0m \u001b[0mself\u001b[0m\u001b[0;34m.\u001b[0m\u001b[0mdispatch_call\u001b[0m\u001b[0;34m(\u001b[0m\u001b[0mframe\u001b[0m\u001b[0;34m,\u001b[0m \u001b[0marg\u001b[0m\u001b[0;34m)\u001b[0m\u001b[0;34m\u001b[0m\u001b[0m\n",
      "\u001b[0;32m/home/xavier/.pyenv/versions/anaconda3-4.4.0/lib/python3.6/bdb.py\u001b[0m in \u001b[0;36mdispatch_line\u001b[0;34m(self, frame)\u001b[0m\n\u001b[1;32m     68\u001b[0m         \u001b[0;32mif\u001b[0m \u001b[0mself\u001b[0m\u001b[0;34m.\u001b[0m\u001b[0mstop_here\u001b[0m\u001b[0;34m(\u001b[0m\u001b[0mframe\u001b[0m\u001b[0;34m)\u001b[0m \u001b[0;32mor\u001b[0m \u001b[0mself\u001b[0m\u001b[0;34m.\u001b[0m\u001b[0mbreak_here\u001b[0m\u001b[0;34m(\u001b[0m\u001b[0mframe\u001b[0m\u001b[0;34m)\u001b[0m\u001b[0;34m:\u001b[0m\u001b[0;34m\u001b[0m\u001b[0m\n\u001b[1;32m     69\u001b[0m             \u001b[0mself\u001b[0m\u001b[0;34m.\u001b[0m\u001b[0muser_line\u001b[0m\u001b[0;34m(\u001b[0m\u001b[0mframe\u001b[0m\u001b[0;34m)\u001b[0m\u001b[0;34m\u001b[0m\u001b[0m\n\u001b[0;32m---> 70\u001b[0;31m             \u001b[0;32mif\u001b[0m \u001b[0mself\u001b[0m\u001b[0;34m.\u001b[0m\u001b[0mquitting\u001b[0m\u001b[0;34m:\u001b[0m \u001b[0;32mraise\u001b[0m \u001b[0mBdbQuit\u001b[0m\u001b[0;34m\u001b[0m\u001b[0m\n\u001b[0m\u001b[1;32m     71\u001b[0m         \u001b[0;32mreturn\u001b[0m \u001b[0mself\u001b[0m\u001b[0;34m.\u001b[0m\u001b[0mtrace_dispatch\u001b[0m\u001b[0;34m\u001b[0m\u001b[0m\n\u001b[1;32m     72\u001b[0m \u001b[0;34m\u001b[0m\u001b[0m\n",
      "\u001b[0;31mBdbQuit\u001b[0m: "
     ]
    }
   ],
   "source": [
    "pypeIt.reduce_all()"
   ]
  },
  {
   "cell_type": "code",
   "execution_count": null,
   "metadata": {},
   "outputs": [],
   "source": [
    "pypeIt.caliBrate.traceSlits.tslits_dict"
   ]
  },
  {
   "cell_type": "markdown",
   "metadata": {},
   "source": [
    "## Slits"
   ]
  },
  {
   "cell_type": "markdown",
   "metadata": {},
   "source": [
    "### Generate trace image"
   ]
  },
  {
   "cell_type": "code",
   "execution_count": null,
   "metadata": {},
   "outputs": [],
   "source": [
    "pypeIt.caliBrate.trace_image_files"
   ]
  },
  {
   "cell_type": "code",
   "execution_count": null,
   "metadata": {
    "collapsed": true
   },
   "outputs": [],
   "source": [
    "# Instantiate\n",
    "traceImage = traceimage.TraceImage(pypeitSetup.spectrograph,\n",
    "                               file_list=pypeIt.caliBrate.trace_image_files, det=1,\n",
    "                               par=pypeIt.caliBrate.par['traceframe'])"
   ]
  },
  {
   "cell_type": "code",
   "execution_count": null,
   "metadata": {},
   "outputs": [],
   "source": [
    "# Process\n",
    "mstrace = traceImage.process(bias_subtract='overscan', trim=pypeIt.caliBrate.par['trim'], apply_gain=True)"
   ]
  },
  {
   "cell_type": "code",
   "execution_count": null,
   "metadata": {
    "collapsed": true
   },
   "outputs": [],
   "source": [
    "traceImage.show()"
   ]
  },
  {
   "cell_type": "markdown",
   "metadata": {},
   "source": [
    "### binarr"
   ]
  },
  {
   "cell_type": "code",
   "execution_count": null,
   "metadata": {},
   "outputs": [],
   "source": [
    "_= pypeIt.caliBrate.traceSlits.make_binarr()"
   ]
  },
  {
   "cell_type": "code",
   "execution_count": null,
   "metadata": {},
   "outputs": [],
   "source": [
    "32*0.0728*2"
   ]
  },
  {
   "cell_type": "markdown",
   "metadata": {},
   "source": [
    "### Plate scale"
   ]
  },
  {
   "cell_type": "code",
   "execution_count": null,
   "metadata": {},
   "outputs": [],
   "source": [
    "# Compute the plate scale in arcsec which is needed to trim short slits\n",
    "scidx = np.where(pypeIt.caliBrate.fitstbl.find_frames('science', sci_ID=pypeIt.caliBrate.sci_ID))[0][0]\n",
    "binspatial, binspectral = parse.parse_binning(pypeIt.caliBrate.fitstbl['binning'][scidx])\n",
    "## Old code: binspatial, binspectral = parse.parse_binning(self.fitstbl['binning'][scidx])\n",
    "plate_scale = binspatial*pypeitSetup.spectrograph.detector[0]['platescale']\n",
    "plate_scale"
   ]
  },
  {
   "cell_type": "markdown",
   "metadata": {},
   "source": [
    "### Edgearr"
   ]
  },
  {
   "cell_type": "code",
   "execution_count": null,
   "metadata": {},
   "outputs": [],
   "source": [
    "_= pypeIt.caliBrate.traceSlits._edgearr_from_binarr()"
   ]
  },
  {
   "cell_type": "code",
   "execution_count": null,
   "metadata": {
    "collapsed": true
   },
   "outputs": [],
   "source": [
    "pypeIt.caliBrate.traceSlits.show('edgearr')"
   ]
  },
  {
   "cell_type": "markdown",
   "metadata": {},
   "source": [
    "### Match edges"
   ]
  },
  {
   "cell_type": "code",
   "execution_count": null,
   "metadata": {},
   "outputs": [],
   "source": [
    "pypeIt.caliBrate.traceSlits._match_edges()"
   ]
  },
  {
   "cell_type": "markdown",
   "metadata": {},
   "source": [
    "### Assign edges"
   ]
  },
  {
   "cell_type": "code",
   "execution_count": null,
   "metadata": {},
   "outputs": [],
   "source": [
    "pypeIt.caliBrate.traceSlits._assign_edges()"
   ]
  },
  {
   "cell_type": "markdown",
   "metadata": {},
   "source": [
    "### Final left/right"
   ]
  },
  {
   "cell_type": "code",
   "execution_count": null,
   "metadata": {},
   "outputs": [],
   "source": [
    "pypeIt.caliBrate.traceSlits._final_left_right()"
   ]
  },
  {
   "cell_type": "markdown",
   "metadata": {},
   "source": [
    "### Mslit magic"
   ]
  },
  {
   "cell_type": "code",
   "execution_count": null,
   "metadata": {},
   "outputs": [],
   "source": [
    "pypeIt.caliBrate.traceSlits._mslit_tcrude()"
   ]
  },
  {
   "cell_type": "code",
   "execution_count": null,
   "metadata": {},
   "outputs": [],
   "source": [
    "pypeIt.caliBrate.traceSlits._mslit_sync()"
   ]
  },
  {
   "cell_type": "markdown",
   "metadata": {},
   "source": [
    "### Fit Edges"
   ]
  },
  {
   "cell_type": "code",
   "execution_count": null,
   "metadata": {},
   "outputs": [],
   "source": [
    "pypeIt.caliBrate.traceSlits._set_lrminx()\n",
    "pypeIt.caliBrate.traceSlits._fit_edges('left')\n",
    "pypeIt.caliBrate.traceSlits._fit_edges('right')"
   ]
  },
  {
   "cell_type": "markdown",
   "metadata": {},
   "source": [
    "### Synchronize"
   ]
  },
  {
   "cell_type": "code",
   "execution_count": null,
   "metadata": {},
   "outputs": [],
   "source": [
    "pypeIt.caliBrate.traceSlits._synchronize()"
   ]
  },
  {
   "cell_type": "markdown",
   "metadata": {},
   "source": [
    "### PCA"
   ]
  },
  {
   "cell_type": "code",
   "execution_count": null,
   "metadata": {},
   "outputs": [],
   "source": [
    "pypeIt.caliBrate.traceSlits._pca()"
   ]
  },
  {
   "cell_type": "code",
   "execution_count": null,
   "metadata": {},
   "outputs": [],
   "source": [
    "pypeIt.caliBrate.traceSlits.show('edges')"
   ]
  },
  {
   "cell_type": "code",
   "execution_count": null,
   "metadata": {},
   "outputs": [],
   "source": [
    "pypeIt.caliBrate.traceImage.show()"
   ]
  },
  {
   "cell_type": "code",
   "execution_count": null,
   "metadata": {
    "collapsed": true
   },
   "outputs": [],
   "source": [
    "pypeIt.caliBrate.traceSlits.show('siglev')"
   ]
  },
  {
   "cell_type": "code",
   "execution_count": null,
   "metadata": {
    "collapsed": true
   },
   "outputs": [],
   "source": [
    "pypeIt.caliBrate.traceSlits.show('edgearr')"
   ]
  },
  {
   "cell_type": "code",
   "execution_count": null,
   "metadata": {},
   "outputs": [],
   "source": [
    "pypeIt.caliBrate.par"
   ]
  },
  {
   "cell_type": "markdown",
   "metadata": {},
   "source": [
    "----"
   ]
  },
  {
   "cell_type": "markdown",
   "metadata": {},
   "source": [
    "## Wavelengths"
   ]
  },
  {
   "cell_type": "code",
   "execution_count": 8,
   "metadata": {},
   "outputs": [
    {
     "data": {
      "text/plain": [
       "(1024, 45)"
      ]
     },
     "execution_count": 8,
     "metadata": {},
     "output_type": "execute_result"
    }
   ],
   "source": [
    "pypeIt.caliBrate.waveCalib.arccen.shape"
   ]
  },
  {
   "cell_type": "code",
   "execution_count": 9,
   "metadata": {
    "collapsed": true
   },
   "outputs": [],
   "source": [
    "from pypeit import debugger"
   ]
  },
  {
   "cell_type": "code",
   "execution_count": 11,
   "metadata": {},
   "outputs": [
    {
     "data": {
      "image/png": "[encoded data removed]",
      "text/plain": [
       "<Figure size 640x480 with 1 Axes>"
      ]
     },
     "metadata": {},
     "output_type": "display_data"
    }
   ],
   "source": [
    "debugger.plot1d(pypeIt.caliBrate.waveCalib.arccen[:,1])"
   ]
  },
  {
   "cell_type": "markdown",
   "metadata": {},
   "source": [
    "### Save to disk"
   ]
  },
  {
   "cell_type": "code",
   "execution_count": 13,
   "metadata": {
    "collapsed": true
   },
   "outputs": [],
   "source": [
    "tdict = {}\n",
    "tdict['arccen'] = pypeIt.caliBrate.waveCalib.arccen\n",
    "#\n",
    "jdict = ltu.jsonify(tdict)"
   ]
  },
  {
   "cell_type": "code",
   "execution_count": 17,
   "metadata": {},
   "outputs": [],
   "source": [
    "ltu.savejson('GMOS_R400_blue.json', jdict)"
   ]
  },
  {
   "cell_type": "markdown",
   "metadata": {},
   "source": [
    "----"
   ]
  },
  {
   "cell_type": "code",
   "execution_count": 19,
   "metadata": {
    "collapsed": true
   },
   "outputs": [],
   "source": [
    "IDpixels = np.array([802.14, 487.28, 322.49, 31.8])\n",
    "IDwave =   np.array([5189.191, 4766.197, 4546.3258, 4159.762])"
   ]
  },
  {
   "cell_type": "code",
   "execution_count": 20,
   "metadata": {
    "collapsed": true
   },
   "outputs": [],
   "source": [
    "dwv = (IDwave-np.roll(IDwave,1))/(IDpixels-np.roll(IDpixels,1))"
   ]
  },
  {
   "cell_type": "code",
   "execution_count": 22,
   "metadata": {},
   "outputs": [
    {
     "data": {
      "text/plain": [
       "array([0.66816536, 0.67171759, 0.66712543, 0.66490729])"
      ]
     },
     "execution_count": 22,
     "metadata": {},
     "output_type": "execute_result"
    }
   ],
   "source": [
    "dwv/2"
   ]
  },
  {
   "cell_type": "code",
   "execution_count": null,
   "metadata": {
    "collapsed": true
   },
   "outputs": [],
   "source": []
  }
 ],
 "metadata": {
  "kernelspec": {
   "display_name": "Python 3",
   "language": "python",
   "name": "python3"
  },
  "language_info": {
   "codemirror_mode": {
    "name": "ipython",
    "version": 3
   },
   "file_extension": ".py",
   "mimetype": "text/x-python",
   "name": "python",
   "nbconvert_exporter": "python",
   "pygments_lexer": "ipython3",
   "version": "3.6.5"
  }
 },
 "nbformat": 4,
 "nbformat_minor": 2
}
