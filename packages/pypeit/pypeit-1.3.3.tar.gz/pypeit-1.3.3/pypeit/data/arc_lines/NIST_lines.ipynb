{
 "cells": [
  {
   "cell_type": "markdown",
   "metadata": {},
   "source": [
    "# Trolling NIST (v1.3)"
   ]
  },
  {
   "cell_type": "code",
   "execution_count": 1,
   "metadata": {
    "collapsed": false
   },
   "outputs": [
    {
     "name": "stderr",
     "output_type": "stream",
     "text": [
      "/Users/xavier/local/Python/PYPIT/pypit/arutils.py:29: UserWarning: ds9 module not installed\n",
      "  warnings.warn(\"ds9 module not installed\")\n"
     ]
    }
   ],
   "source": [
    "# import\n",
    "import mechanize\n",
    "import yaml\n",
    "from pypit import pyputils\n",
    "import pypit\n",
    "msgs = pyputils.get_dummy_logger()\n",
    "\n",
    "from pypit import ararclines as alines\n",
    "from pypit import arutils as arut\n",
    "from pypit import arwave as arwv"
   ]
  },
  {
   "cell_type": "markdown",
   "metadata": {},
   "source": [
    "## Dummy Self"
   ]
  },
  {
   "cell_type": "code",
   "execution_count": 2,
   "metadata": {
    "collapsed": true
   },
   "outputs": [],
   "source": [
    "slf = arut.dummy_self()"
   ]
  },
  {
   "cell_type": "markdown",
   "metadata": {},
   "source": [
    "## Testing"
   ]
  },
  {
   "cell_type": "code",
   "execution_count": 3,
   "metadata": {
    "collapsed": true
   },
   "outputs": [],
   "source": [
    "# init\n",
    "browser = mechanize.Browser(factory=mechanize.RobustFactory())\n",
    "browser.set_handle_robots(False)"
   ]
  },
  {
   "cell_type": "code",
   "execution_count": 8,
   "metadata": {
    "collapsed": false
   },
   "outputs": [],
   "source": [
    "page = browser.open(\"http://physics.nist.gov/PhysRefData/ASD/lines_form.html\")"
   ]
  },
  {
   "cell_type": "code",
   "execution_count": 11,
   "metadata": {
    "collapsed": false
   },
   "outputs": [
    {
     "ename": "FormNotFoundError",
     "evalue": "no form matching name 'upp_wn'",
     "output_type": "error",
     "traceback": [
      "\u001b[0;31m---------------------------------------------------------------------------\u001b[0m",
      "\u001b[0;31mFormNotFoundError\u001b[0m                         Traceback (most recent call last)",
      "\u001b[0;32m<ipython-input-11-790d75c77078>\u001b[0m in \u001b[0;36m<module>\u001b[0;34m()\u001b[0m\n\u001b[0;32m----> 1\u001b[0;31m \u001b[0mbrowser\u001b[0m\u001b[0;34m.\u001b[0m\u001b[0mselect_form\u001b[0m\u001b[0;34m(\u001b[0m\u001b[0mname\u001b[0m\u001b[0;34m=\u001b[0m\u001b[0;34m\"upp_wn\"\u001b[0m\u001b[0;34m)\u001b[0m\u001b[0;34m\u001b[0m\u001b[0m\n\u001b[0m",
      "\u001b[0;32m/Users/xavier/anaconda/lib/python2.7/site-packages/mechanize-0.2.6.dev20151024-py2.7.egg/mechanize/_mechanize.pyc\u001b[0m in \u001b[0;36mselect_form\u001b[0;34m(self, name, predicate, nr)\u001b[0m\n\u001b[1;32m    522\u001b[0m             \u001b[0;32mif\u001b[0m \u001b[0morig_nr\u001b[0m \u001b[0;32mis\u001b[0m \u001b[0;32mnot\u001b[0m \u001b[0mNone\u001b[0m\u001b[0;34m:\u001b[0m \u001b[0mdescription\u001b[0m\u001b[0;34m.\u001b[0m\u001b[0mappend\u001b[0m\u001b[0;34m(\u001b[0m\u001b[0;34m\"nr %d\"\u001b[0m \u001b[0;34m%\u001b[0m \u001b[0morig_nr\u001b[0m\u001b[0;34m)\u001b[0m\u001b[0;34m\u001b[0m\u001b[0m\n\u001b[1;32m    523\u001b[0m             \u001b[0mdescription\u001b[0m \u001b[0;34m=\u001b[0m \u001b[0;34m\", \"\u001b[0m\u001b[0;34m.\u001b[0m\u001b[0mjoin\u001b[0m\u001b[0;34m(\u001b[0m\u001b[0mdescription\u001b[0m\u001b[0;34m)\u001b[0m\u001b[0;34m\u001b[0m\u001b[0m\n\u001b[0;32m--> 524\u001b[0;31m             \u001b[0;32mraise\u001b[0m \u001b[0mFormNotFoundError\u001b[0m\u001b[0;34m(\u001b[0m\u001b[0;34m\"no form matching \"\u001b[0m\u001b[0;34m+\u001b[0m\u001b[0mdescription\u001b[0m\u001b[0;34m)\u001b[0m\u001b[0;34m\u001b[0m\u001b[0m\n\u001b[0m\u001b[1;32m    525\u001b[0m \u001b[0;34m\u001b[0m\u001b[0m\n\u001b[1;32m    526\u001b[0m     \u001b[0;32mdef\u001b[0m \u001b[0mclick\u001b[0m\u001b[0;34m(\u001b[0m\u001b[0mself\u001b[0m\u001b[0;34m,\u001b[0m \u001b[0;34m*\u001b[0m\u001b[0margs\u001b[0m\u001b[0;34m,\u001b[0m \u001b[0;34m**\u001b[0m\u001b[0mkwds\u001b[0m\u001b[0;34m)\u001b[0m\u001b[0;34m:\u001b[0m\u001b[0;34m\u001b[0m\u001b[0m\n",
      "\u001b[0;31mFormNotFoundError\u001b[0m: no form matching name 'upp_wn'"
     ]
    }
   ],
   "source": [
    "browser.select_form(name=\"upp_wn\")"
   ]
  },
  {
   "cell_type": "markdown",
   "metadata": {},
   "source": [
    "### Must be using Java Script..."
   ]
  },
  {
   "cell_type": "markdown",
   "metadata": {},
   "source": [
    "## Pulling by hand...\n",
    "\n",
    "    e.g.  Zn I  3000.  10000."
   ]
  },
  {
   "cell_type": "markdown",
   "metadata": {},
   "source": [
    "### Parse"
   ]
  },
  {
   "cell_type": "code",
   "execution_count": 5,
   "metadata": {
    "collapsed": false
   },
   "outputs": [],
   "source": [
    "reload(alines)\n",
    "tbl = alines.parse_nist(slf,'ZnI')"
   ]
  },
  {
   "cell_type": "code",
   "execution_count": 6,
   "metadata": {
    "collapsed": false
   },
   "outputs": [
    {
     "data": {
      "text/html": [
       "&lt;Table masked=True length=37&gt;\n",
       "<table id=\"table4551819152\">\n",
       "<thead><tr><th>wave</th><th>Aki</th><th>Acc.</th><th>Ei           Ek</th><th>Lower level</th><th>Upper level</th><th>Type</th><th>TP</th><th>Line</th><th>RelInt</th><th>Ion</th></tr></thead>\n",
       "<thead><tr><th>float64</th><th>float64</th><th>int64</th><th>int64</th><th>int64</th><th>int64</th><th>int64</th><th>str5</th><th>str5</th><th>int64</th><th>str5</th></tr></thead>\n",
       "<tr><td>3019.24</td><td>--</td><td>--</td><td>--</td><td>--</td><td>--</td><td>--</td><td>--</td><td>L4741</td><td>125</td><td>ZnI</td></tr>\n",
       "<tr><td>3036.66</td><td>--</td><td>--</td><td>--</td><td>--</td><td>--</td><td>--</td><td>--</td><td>L4741</td><td>200</td><td>ZnI</td></tr>\n",
       "<tr><td>3072.95</td><td>--</td><td>--</td><td>--</td><td>--</td><td>--</td><td>--</td><td>--</td><td>L4741</td><td>200</td><td>ZnI</td></tr>\n",
       "<tr><td>3076.79</td><td>32900.0</td><td>--</td><td>--</td><td>0</td><td>1</td><td>--</td><td>T3464</td><td>L4741</td><td>150</td><td>ZnI</td></tr>\n",
       "<tr><td>3283.28</td><td>90000000.0</td><td>--</td><td>--</td><td>0</td><td>1</td><td>--</td><td>T3464</td><td>L4741</td><td>500</td><td>ZnI</td></tr>\n",
       "<tr><td>3303.53</td><td>120000000.0</td><td>--</td><td>--</td><td>1</td><td>2</td><td>--</td><td>T3464</td><td>L4741</td><td>800</td><td>ZnI</td></tr>\n",
       "<tr><td>3303.89</td><td>67000000.0</td><td>--</td><td>--</td><td>1</td><td>1</td><td>--</td><td>T3464</td><td>L4741</td><td>700</td><td>ZnI</td></tr>\n",
       "<tr><td>3345.98</td><td>170000000.0</td><td>--</td><td>--</td><td>2</td><td>3</td><td>--</td><td>T3464</td><td>L4741</td><td>800</td><td>ZnI</td></tr>\n",
       "<tr><td>3346.53</td><td>40000000.0</td><td>--</td><td>--</td><td>2</td><td>2</td><td>--</td><td>T3464</td><td>L4741</td><td>500</td><td>ZnI</td></tr>\n",
       "<tr><td>3346.9</td><td>4500000.0</td><td>--</td><td>--</td><td>2</td><td>1</td><td>--</td><td>T3464</td><td>L4741</td><td>150</td><td>ZnI</td></tr>\n",
       "<tr><td>...</td><td>...</td><td>...</td><td>...</td><td>...</td><td>...</td><td>...</td><td>...</td><td>...</td><td>...</td><td>...</td></tr>\n",
       "<tr><td>5777.1</td><td>--</td><td>--</td><td>--</td><td>--</td><td>--</td><td>--</td><td>--</td><td>L3284</td><td>4</td><td>ZnI</td></tr>\n",
       "<tr><td>5778.71</td><td>--</td><td>--</td><td>--</td><td>--</td><td>--</td><td>--</td><td>--</td><td>L3284</td><td>10</td><td>ZnI</td></tr>\n",
       "<tr><td>6239.63</td><td>--</td><td>--</td><td>--</td><td>--</td><td>--</td><td>--</td><td>--</td><td>L4741</td><td>8</td><td>ZnI</td></tr>\n",
       "<tr><td>6240.9</td><td>--</td><td>--</td><td>--</td><td>--</td><td>--</td><td>--</td><td>--</td><td>L4741</td><td>8</td><td>ZnI</td></tr>\n",
       "<tr><td>6364.1</td><td>47400000.0</td><td>--</td><td>--</td><td>1</td><td>2</td><td>--</td><td>T3464</td><td>L4741</td><td>1000</td><td>ZnI</td></tr>\n",
       "<tr><td>6480.97</td><td>--</td><td>--</td><td>--</td><td>--</td><td>--</td><td>--</td><td>--</td><td>L4741</td><td>10</td><td>ZnI</td></tr>\n",
       "<tr><td>6930.23</td><td>--</td><td>--</td><td>--</td><td>--</td><td>--</td><td>--</td><td>--</td><td>L3284</td><td>15</td><td>ZnI</td></tr>\n",
       "<tr><td>6940.38</td><td>--</td><td>--</td><td>--</td><td>--</td><td>--</td><td>--</td><td>--</td><td>L3284</td><td>8</td><td>ZnI</td></tr>\n",
       "<tr><td>6945.12</td><td>--</td><td>--</td><td>--</td><td>--</td><td>--</td><td>--</td><td>--</td><td>L3284</td><td>3</td><td>ZnI</td></tr>\n",
       "<tr><td>7801.51</td><td>--</td><td>--</td><td>--</td><td>--</td><td>--</td><td>--</td><td>--</td><td>L3284</td><td>10</td><td>ZnI</td></tr>\n",
       "</table>"
      ],
      "text/plain": [
       "<Table masked=True length=37>\n",
       "  wave      Aki      Acc. Ei           Ek ...   TP   Line RelInt Ion \n",
       "float64   float64   int64      int64      ...  str5  str5 int64  str5\n",
       "------- ----------- ----- --------------- ... ----- ----- ------ ----\n",
       "3019.24          --    --              -- ...    -- L4741    125  ZnI\n",
       "3036.66          --    --              -- ...    -- L4741    200  ZnI\n",
       "3072.95          --    --              -- ...    -- L4741    200  ZnI\n",
       "3076.79     32900.0    --              -- ... T3464 L4741    150  ZnI\n",
       "3283.28  90000000.0    --              -- ... T3464 L4741    500  ZnI\n",
       "3303.53 120000000.0    --              -- ... T3464 L4741    800  ZnI\n",
       "3303.89  67000000.0    --              -- ... T3464 L4741    700  ZnI\n",
       "3345.98 170000000.0    --              -- ... T3464 L4741    800  ZnI\n",
       "3346.53  40000000.0    --              -- ... T3464 L4741    500  ZnI\n",
       " 3346.9   4500000.0    --              -- ... T3464 L4741    150  ZnI\n",
       "    ...         ...   ...             ... ...   ...   ...    ...  ...\n",
       " 5777.1          --    --              -- ...    -- L3284      4  ZnI\n",
       "5778.71          --    --              -- ...    -- L3284     10  ZnI\n",
       "6239.63          --    --              -- ...    -- L4741      8  ZnI\n",
       " 6240.9          --    --              -- ...    -- L4741      8  ZnI\n",
       " 6364.1  47400000.0    --              -- ... T3464 L4741   1000  ZnI\n",
       "6480.97          --    --              -- ...    -- L4741     10  ZnI\n",
       "6930.23          --    --              -- ...    -- L3284     15  ZnI\n",
       "6940.38          --    --              -- ...    -- L3284      8  ZnI\n",
       "6945.12          --    --              -- ...    -- L3284      3  ZnI\n",
       "7801.51          --    --              -- ...    -- L3284     10  ZnI"
      ]
     },
     "execution_count": 6,
     "metadata": {},
     "output_type": "execute_result"
    }
   ],
   "source": [
    "tbl"
   ]
  },
  {
   "cell_type": "markdown",
   "metadata": {},
   "source": [
    "### CdI"
   ]
  },
  {
   "cell_type": "code",
   "execution_count": 9,
   "metadata": {
    "collapsed": false
   },
   "outputs": [
    {
     "name": "stderr",
     "output_type": "stream",
     "text": [
      "\u001b[1;31m[WARNING] ::\u001b[0m Using arutils.dummy_self.  Better know what you are doing.\n"
     ]
    }
   ],
   "source": [
    "reload(alines)\n",
    "cdI = alines.parse_nist(None,'CdI')"
   ]
  },
  {
   "cell_type": "code",
   "execution_count": 10,
   "metadata": {
    "collapsed": false
   },
   "outputs": [
    {
     "data": {
      "text/html": [
       "&lt;Table masked=True length=31&gt;\n",
       "<table id=\"table4575222800\">\n",
       "<thead><tr><th>wave</th><th>Aki</th><th>Acc.</th><th>Ei           Ek</th><th>Lower level</th><th>Upper level</th><th>Type</th><th>TP</th><th>Line</th><th>RelInt</th><th>Ion</th></tr></thead>\n",
       "<thead><tr><th>float64</th><th>float64</th><th>int64</th><th>str24</th><th>str21</th><th>str21</th><th>int64</th><th>str5</th><th>str8</th><th>int64</th><th>str5</th></tr></thead>\n",
       "<tr><td>3081.7172</td><td>--</td><td>--</td><td>30113.990   -  62563.435</td><td>4d10.5s.5p | 3P*  | 0</td><td>4d10.5s.7s | 3S   | 1</td><td>--</td><td>--</td><td>L3486</td><td>150</td><td>CdI</td></tr>\n",
       "<tr><td>3083.4887</td><td>--</td><td>--</td><td>30656.087   -  63086.896</td><td>4d10.5s.5p | 3P*  | 1</td><td>4d10.5s.7s | 1S   | 0</td><td>--</td><td>--</td><td>L3486</td><td>30</td><td>CdI</td></tr>\n",
       "<tr><td>3134.0746</td><td>--</td><td>--</td><td>30656.087   -  62563.435</td><td>4d10.5s.5p | 3P*  | 1</td><td>4d10.5s.7s | 3S   | 1</td><td>--</td><td>--</td><td>L3486</td><td>200</td><td>CdI</td></tr>\n",
       "<tr><td>3253.4622</td><td>--</td><td>--</td><td>31826.952   -  62563.435</td><td>4d10.5s.5p | 3P*  | 2</td><td>4d10.5s.7s | 3S   | 1</td><td>--</td><td>--</td><td>L3486</td><td>300</td><td>CdI</td></tr>\n",
       "<tr><td>3261.9951</td><td>406000.0</td><td>--</td><td>0.000   -  30656.087</td><td>4d10.5s2   | 1S   | 0</td><td>4d10.5s.5p | 3P*  | 1</td><td>--</td><td>T3464</td><td>L3486</td><td>300</td><td>CdI</td></tr>\n",
       "<tr><td>3404.6287</td><td>77000000.0</td><td>--</td><td>30113.990   -  59485.768</td><td>4d10.5s.5p | 3P*  | 0</td><td>4d10.5s.5d | 3D   | 1</td><td>--</td><td>T3464</td><td>L3486</td><td>800</td><td>CdI</td></tr>\n",
       "<tr><td>3467.1923</td><td>120000000.0</td><td>--</td><td>30656.087   -  59497.868</td><td>4d10.5s.5p | 3P*  | 1</td><td>4d10.5s.5d | 3D   | 2</td><td>--</td><td>T3464</td><td>L3486</td><td>1000</td><td>CdI</td></tr>\n",
       "<tr><td>3468.6477</td><td>67000000.0</td><td>--</td><td>30656.087   -  59485.768</td><td>4d10.5s.5p | 3P*  | 1</td><td>4d10.5s.5d | 3D   | 1</td><td>--</td><td>T3464</td><td>L3486</td><td>800</td><td>CdI</td></tr>\n",
       "<tr><td>3500.9531</td><td>--</td><td>--</td><td>30656.087   -  59219.734</td><td>4d10.5s.5p | 3P*  | 1</td><td>4d10.5s.5d | 1D   | 2</td><td>--</td><td>--</td><td>L3486</td><td>25</td><td>CdI</td></tr>\n",
       "<tr><td>3611.5375</td><td>130000000.0</td><td>--</td><td>31826.952   -  59515.980</td><td>4d10.5s.5p | 3P*  | 2</td><td>4d10.5s.5d | 3D   | 3</td><td>--</td><td>T3464</td><td>L3486</td><td>1000</td><td>CdI</td></tr>\n",
       "<tr><td>...</td><td>...</td><td>...</td><td>...</td><td>...</td><td>...</td><td>...</td><td>...</td><td>...</td><td>...</td><td>...</td></tr>\n",
       "<tr><td>5156.0964</td><td>--</td><td>--</td><td>43692.384   -  63086.896</td><td>4d10.5s.5p | 1P*  | 1</td><td>4d10.5s.7s | 1S   | 0</td><td>--</td><td>--</td><td>L3486</td><td>6</td><td>CdI</td></tr>\n",
       "<tr><td>6100.8305</td><td>--</td><td>--</td><td>51483.980   -  67875.191</td><td>4d10.5s.6s | 3S   | 1</td><td>4d10.5s.8p | 3P*  | 2</td><td>--</td><td>--</td><td>L3486</td><td>300</td><td>CdI</td></tr>\n",
       "<tr><td>6113.187</td><td>--</td><td>--</td><td>51483.980   -  67842.06</td><td>4d10.5s.6s | 3S   | 1</td><td>4d10.5s.8p | 3P*  | 1</td><td>--</td><td>--</td><td>L3486</td><td>100</td><td>CdI</td></tr>\n",
       "<tr><td>6326.9151</td><td>--</td><td>--</td><td>43692.384   -  59497.868</td><td>4d10.5s.5p | 1P*  | 1</td><td>4d10.5s.5d | 3D   | 2</td><td>--</td><td>--</td><td>L3486</td><td>100</td><td>CdI</td></tr>\n",
       "<tr><td>6331.7636</td><td>--</td><td>--</td><td>43692.384   -  59485.768</td><td>4d10.5s.5p | 1P*  | 1</td><td>4d10.5s.5d | 3D   | 1</td><td>--</td><td>--</td><td>L3486</td><td>30</td><td>CdI</td></tr>\n",
       "<tr><td>6440.249</td><td>59000000.0</td><td>--</td><td>43692.384   -  59219.734</td><td>4d10.5s.5p | 1P*  | 1</td><td>4d10.5s.5d | 1D   | 2</td><td>--</td><td>T3464</td><td>L3486</td><td>2000</td><td>CdI</td></tr>\n",
       "<tr><td>6779.9865</td><td>--</td><td>--</td><td>53310.101   -  68059.393</td><td>4d10.5s.6s | 1S   | 0</td><td>4d10.5s.8p | 1P*  | 1</td><td>--</td><td>--</td><td>L3486</td><td>30</td><td>CdI</td></tr>\n",
       "<tr><td>7347.6941</td><td>--</td><td>--</td><td>51483.980   -  65093.702</td><td>4d10.5s.6s | 3S   | 1</td><td>4d10.5s.7p | 3P*  | 2</td><td>--</td><td>--</td><td>L3486</td><td>1000</td><td>CdI</td></tr>\n",
       "<tr><td>8202.5633</td><td>--</td><td>--</td><td>53310.101   -  65501.412</td><td>4d10.5s.6s | 1S   | 0</td><td>4d10.5s.7p | 1P*  | 1</td><td>--</td><td>--</td><td>L3486</td><td>5</td><td>CdI</td></tr>\n",
       "<tr><td>9295.0</td><td>--</td><td>--</td><td>58635.7     -  69400.900</td><td>4d10.5s.6p | 3P*  | 2</td><td>4d10.5s.8d | 3D   | 1</td><td>--</td><td>--</td><td>L7381</td><td>20</td><td>CdI</td></tr>\n",
       "</table>"
      ],
      "text/plain": [
       "<Table masked=True length=31>\n",
       "   wave       Aki      Acc.     Ei           Ek      ...   TP   Line RelInt Ion \n",
       " float64    float64   int64          str24           ...  str5  str8 int64  str5\n",
       "--------- ----------- ----- ------------------------ ... ----- ----- ------ ----\n",
       "3081.7172          --    -- 30113.990   -  62563.435 ...    -- L3486    150  CdI\n",
       "3083.4887          --    -- 30656.087   -  63086.896 ...    -- L3486     30  CdI\n",
       "3134.0746          --    -- 30656.087   -  62563.435 ...    -- L3486    200  CdI\n",
       "3253.4622          --    -- 31826.952   -  62563.435 ...    -- L3486    300  CdI\n",
       "3261.9951    406000.0    --     0.000   -  30656.087 ... T3464 L3486    300  CdI\n",
       "3404.6287  77000000.0    -- 30113.990   -  59485.768 ... T3464 L3486    800  CdI\n",
       "3467.1923 120000000.0    -- 30656.087   -  59497.868 ... T3464 L3486   1000  CdI\n",
       "3468.6477  67000000.0    -- 30656.087   -  59485.768 ... T3464 L3486    800  CdI\n",
       "3500.9531          --    -- 30656.087   -  59219.734 ...    -- L3486     25  CdI\n",
       "3611.5375 130000000.0    -- 31826.952   -  59515.980 ... T3464 L3486   1000  CdI\n",
       "      ...         ...   ...                      ... ...   ...   ...    ...  ...\n",
       "5156.0964          --    -- 43692.384   -  63086.896 ...    -- L3486      6  CdI\n",
       "6100.8305          --    -- 51483.980   -  67875.191 ...    -- L3486    300  CdI\n",
       " 6113.187          --    --  51483.980   -  67842.06 ...    -- L3486    100  CdI\n",
       "6326.9151          --    -- 43692.384   -  59497.868 ...    -- L3486    100  CdI\n",
       "6331.7636          --    -- 43692.384   -  59485.768 ...    -- L3486     30  CdI\n",
       " 6440.249  59000000.0    -- 43692.384   -  59219.734 ... T3464 L3486   2000  CdI\n",
       "6779.9865          --    -- 53310.101   -  68059.393 ...    -- L3486     30  CdI\n",
       "7347.6941          --    -- 51483.980   -  65093.702 ...    -- L3486   1000  CdI\n",
       "8202.5633          --    -- 53310.101   -  65501.412 ...    -- L3486      5  CdI\n",
       "   9295.0          --    -- 58635.7     -  69400.900 ...    -- L7381     20  CdI"
      ]
     },
     "execution_count": 10,
     "metadata": {},
     "output_type": "execute_result"
    }
   ],
   "source": [
    "cdI"
   ]
  },
  {
   "cell_type": "markdown",
   "metadata": {},
   "source": [
    "### HgI"
   ]
  },
  {
   "cell_type": "code",
   "execution_count": 11,
   "metadata": {
    "collapsed": false
   },
   "outputs": [
    {
     "name": "stderr",
     "output_type": "stream",
     "text": [
      "\u001b[1;31m[WARNING] ::\u001b[0m Using arutils.dummy_self.  Better know what you are doing.\n"
     ]
    }
   ],
   "source": [
    "reload(alines)\n",
    "HgI = alines.parse_nist(None,'HgI')"
   ]
  },
  {
   "cell_type": "code",
   "execution_count": 12,
   "metadata": {
    "collapsed": false
   },
   "outputs": [
    {
     "data": {
      "text/html": [
       "&lt;Table masked=True length=15&gt;\n",
       "<table id=\"table4575220688\">\n",
       "<thead><tr><th>wave</th><th>Aki</th><th>Acc.</th><th>Ei           Ek</th><th>Lower level</th><th>Upper level</th><th>Type</th><th>TP</th><th>Line</th><th>RelInt</th><th>Ion</th></tr></thead>\n",
       "<thead><tr><th>float64</th><th>float64</th><th>int64</th><th>str25</th><th>str34</th><th>str34</th><th>str2</th><th>str5</th><th>str15</th><th>int64</th><th>str5</th></tr></thead>\n",
       "<tr><td>3022.384</td><td>50900000.0</td><td>--</td><td>44042.909    -  77129.372</td><td>5d10.6s.6p           | 3P*     | 2</td><td>5d10.6s.7d           | 3D      | 3</td><td>--</td><td>T3464</td><td>L7247</td><td>1200</td><td>HgI</td></tr>\n",
       "<tr><td>3126.58</td><td>65600000.0</td><td>--</td><td>39412.237    -  71396.073</td><td>5d10.6s.6p           | 3P*     | 1</td><td>5d10.6s.6d           | 3D      | 2</td><td>--</td><td>T3464</td><td>L7247</td><td>4000</td><td>HgI</td></tr>\n",
       "<tr><td>3132.463</td><td>--</td><td>--</td><td>39412.237    -  71336.005</td><td>5d10.6s.6p           | 3P*     | 1</td><td>5d10.6s.6d           | 3D      | 1</td><td>--</td><td>--</td><td>L7247</td><td>3000</td><td>HgI</td></tr>\n",
       "<tr><td>3132.752</td><td>--</td><td>--</td><td>39412.237    -  71333.053</td><td>5d10.6s.6p           | 3P*     | 1</td><td>5d10.6s.6d           | 1D      | 2</td><td>--</td><td>--</td><td>L7247</td><td>4000</td><td>HgI</td></tr>\n",
       "<tr><td>3651.198</td><td>130000000.0</td><td>--</td><td>44042.909    -  71431.180</td><td>5d10.6s.6p           | 3P*     | 2</td><td>5d10.6s.6d           | 3D      | 3</td><td>--</td><td>T3464</td><td>L7247</td><td>9000</td><td>HgI</td></tr>\n",
       "<tr><td>3655.883</td><td>18000000.0</td><td>--</td><td>44042.909    -  71396.073</td><td>5d10.6s.6p           | 3P*     | 2</td><td>5d10.6s.6d           | 3D      | 2</td><td>--</td><td>T3464</td><td>L7247</td><td>3000</td><td>HgI</td></tr>\n",
       "<tr><td>3664.327</td><td>--</td><td>--</td><td>44042.909    -  71333.053</td><td>5d10.6s.6p           | 3P*     | 2</td><td>5d10.6s.6d           | 1D      | 2</td><td>--</td><td>--</td><td>L7247</td><td>2000</td><td>HgI</td></tr>\n",
       "<tr><td>4047.708</td><td>21000000.0</td><td>--</td><td>37644.982    -  62350.325</td><td>5d10.6s.6p           | 3P*     | 0</td><td>5d10.6s.7s           | 3S      | 1</td><td>--</td><td>T3464</td><td>L7247</td><td>12000</td><td>HgI</td></tr>\n",
       "<tr><td>4078.988</td><td>4000000.0</td><td>--</td><td>39412.237    -  63928.120</td><td>5d10.6s.6p           | 3P*     | 1</td><td>5d10.6s.7s           | 1S      | 0</td><td>--</td><td>T3464</td><td>L7247</td><td>1000</td><td>HgI</td></tr>\n",
       "<tr><td>4359.56</td><td>55700000.0</td><td>--</td><td>39412.237    -  62350.325</td><td>5d10.6s.6p           | 3P*     | 1</td><td>5d10.6s.7s           | 3S      | 1</td><td>--</td><td>T3464</td><td>L7247</td><td>12000</td><td>HgI</td></tr>\n",
       "<tr><td>5462.268</td><td>48700000.0</td><td>--</td><td>44042.909    -  62350.325</td><td>5d10.6s.6p           | 3P*     | 2</td><td>5d10.6s.7s           | 3S      | 1</td><td>--</td><td>T3464</td><td>L7247</td><td>6000</td><td>HgI</td></tr>\n",
       "<tr><td>5771.21</td><td>23600000.0</td><td>--</td><td>54068.6829   -  71396.073</td><td>5d10.6s.6p           | 1P*     | 1</td><td>5d10.6s.6d           | 3D      | 2</td><td>--</td><td>T3464</td><td>L7247</td><td>1000</td><td>HgI</td></tr>\n",
       "<tr><td>5792.276</td><td>--</td><td>--</td><td>54068.6829   -  71333.053</td><td>5d10.6s.6p           | 1P*     | 1</td><td>5d10.6s.6d           | 1D      | 2</td><td>--</td><td>--</td><td>L7247</td><td>900</td><td>HgI</td></tr>\n",
       "<tr><td>6909.37</td><td>2800000.0</td><td>--</td><td>62350.325    -  76823.43</td><td>5d10.6s.7s           | 3S      | 1</td><td>5d10.6s.8p           | 3P*     | 2</td><td>--</td><td>T3464</td><td>L15184</td><td>1000</td><td>HgI</td></tr>\n",
       "<tr><td>7083.854</td><td>--</td><td>--</td><td>62350.325    -  76466.936</td><td>5d10.6s.7s           | 3S      | 1</td><td>5d10.6s.8p           | 3P*     | 1</td><td>--</td><td>--</td><td>L3499</td><td>1000</td><td>HgI</td></tr>\n",
       "</table>"
      ],
      "text/plain": [
       "<Table masked=True length=15>\n",
       "  wave       Aki      Acc.      Ei           Ek      ...  Line  RelInt Ion \n",
       "float64    float64   int64           str25           ... str15  int64  str5\n",
       "-------- ----------- ----- ------------------------- ... ------ ------ ----\n",
       "3022.384  50900000.0    -- 44042.909    -  77129.372 ...  L7247   1200  HgI\n",
       " 3126.58  65600000.0    -- 39412.237    -  71396.073 ...  L7247   4000  HgI\n",
       "3132.463          --    -- 39412.237    -  71336.005 ...  L7247   3000  HgI\n",
       "3132.752          --    -- 39412.237    -  71333.053 ...  L7247   4000  HgI\n",
       "3651.198 130000000.0    -- 44042.909    -  71431.180 ...  L7247   9000  HgI\n",
       "3655.883  18000000.0    -- 44042.909    -  71396.073 ...  L7247   3000  HgI\n",
       "3664.327          --    -- 44042.909    -  71333.053 ...  L7247   2000  HgI\n",
       "4047.708  21000000.0    -- 37644.982    -  62350.325 ...  L7247  12000  HgI\n",
       "4078.988   4000000.0    -- 39412.237    -  63928.120 ...  L7247   1000  HgI\n",
       " 4359.56  55700000.0    -- 39412.237    -  62350.325 ...  L7247  12000  HgI\n",
       "5462.268  48700000.0    -- 44042.909    -  62350.325 ...  L7247   6000  HgI\n",
       " 5771.21  23600000.0    -- 54068.6829   -  71396.073 ...  L7247   1000  HgI\n",
       "5792.276          --    -- 54068.6829   -  71333.053 ...  L7247    900  HgI\n",
       " 6909.37   2800000.0    --  62350.325    -  76823.43 ... L15184   1000  HgI\n",
       "7083.854          --    -- 62350.325    -  76466.936 ...  L3499   1000  HgI"
      ]
     },
     "execution_count": 12,
     "metadata": {},
     "output_type": "execute_result"
    }
   ],
   "source": [
    "HgI[HgI['RelInt']>800]"
   ]
  },
  {
   "cell_type": "markdown",
   "metadata": {},
   "source": [
    "### HeI"
   ]
  },
  {
   "cell_type": "code",
   "execution_count": 13,
   "metadata": {
    "collapsed": false
   },
   "outputs": [
    {
     "name": "stderr",
     "output_type": "stream",
     "text": [
      "\u001b[1;31m[WARNING] ::\u001b[0m Using arutils.dummy_self.  Better know what you are doing.\n"
     ]
    }
   ],
   "source": [
    "reload(alines)\n",
    "HeI = alines.parse_nist(None,'HeI')"
   ]
  },
  {
   "cell_type": "code",
   "execution_count": 14,
   "metadata": {
    "collapsed": false
   },
   "outputs": [
    {
     "data": {
      "text/html": [
       "&lt;Table masked=True length=43&gt;\n",
       "<table id=\"table4575223888\">\n",
       "<thead><tr><th>wave</th><th>Aki</th><th>Acc.</th><th>Ei           Ek</th><th>Lower level</th><th>Upper level</th><th>Type</th><th>TP</th><th>Line</th><th>RelInt</th><th>Ion</th></tr></thead>\n",
       "<thead><tr><th>float64</th><th>float64</th><th>str3</th><th>str39</th><th>str21</th><th>str21</th><th>str2</th><th>str8</th><th>str9</th><th>int64</th><th>str5</th></tr></thead>\n",
       "<tr><td>2945.967</td><td>3200600.0</td><td>AAA</td><td>[159855.9743297]   - [193800.767563]</td><td>1s.2s  | 3S   | 1</td><td>1s.5p  | 3P*  | 0</td><td>--</td><td>T8636c73</td><td>L14925c72</td><td>10</td><td>HeI</td></tr>\n",
       "<tr><td>3014.6</td><td>--</td><td>--</td><td>481301.5          -  514473.5</td><td>2p2    | 3P   | 0,1,2</td><td>2p.3d  | 3D*  | 1,2,3</td><td>--</td><td>--</td><td>L1786</td><td>40</td><td>HeI</td></tr>\n",
       "<tr><td>3188.667</td><td>5636100.0</td><td>AAA</td><td>[159855.9743297]   - [191217.049963]</td><td>1s.2s  | 3S   | 1</td><td>1s.4p  | 3P*  | 1</td><td>--</td><td>T8636c73</td><td>L14925c72</td><td>20</td><td>HeI</td></tr>\n",
       "<tr><td>3232.199</td><td>510150.0</td><td>AAA</td><td>[166277.440141]    - [197216.0895622]</td><td>1s.2s  | 1S   | 0</td><td>1s.10p | 1P*  | 1</td><td>--</td><td>T8636c73</td><td>L14924</td><td>0</td><td>HeI</td></tr>\n",
       "<tr><td>3259.215</td><td>696270.0</td><td>AAA</td><td>[166277.440141]    - [196959.6928160]</td><td>1s.2s  | 1S   | 0</td><td>1s.9p  | 1P*  | 1</td><td>--</td><td>T8636c73</td><td>L14924</td><td>1</td><td>HeI</td></tr>\n",
       "<tr><td>3555.43</td><td>36386.0</td><td>AAA</td><td>[169086.7664725]   - [197212.82712336]</td><td>1s.2p  | 3P*  | 2</td><td>1s.10d | 3D   | 1</td><td>--</td><td>T8636c73</td><td>L551</td><td>1</td><td>HeI</td></tr>\n",
       "<tr><td>3563.997</td><td>268680.0</td><td>AAA</td><td>[169086.7664725]   - [197145.2332580]</td><td>1s.2p  | 3P*  | 2</td><td>1s.10s | 3S   | 1</td><td>--</td><td>T8636c73</td><td>L366</td><td>0</td><td>HeI</td></tr>\n",
       "<tr><td>3588.294</td><td>50298.0</td><td>AAA</td><td>[169086.7664725]   - [196955.22825838]</td><td>1s.2p  | 3P*  | 2</td><td>1s.9d  | 3D   | 1</td><td>--</td><td>T8636c73</td><td>L551</td><td>1</td><td>HeI</td></tr>\n",
       "<tr><td>3614.674</td><td>3802200.0</td><td>AAA</td><td>[166277.440141]    - [193942.462294]</td><td>1s.2s  | 1S   | 0</td><td>1s.5p  | 1P*  | 1</td><td>--</td><td>T8636c73</td><td>L14925c72</td><td>3</td><td>HeI</td></tr>\n",
       "<tr><td>3653.031</td><td>541360.0</td><td>AAA</td><td>[169086.7664725]   - [196461.3618105]</td><td>1s.2p  | 3P*  | 2</td><td>1s.8s  | 3S   | 1</td><td>--</td><td>T8636c73</td><td>L366</td><td>1</td><td>HeI</td></tr>\n",
       "<tr><td>...</td><td>...</td><td>...</td><td>...</td><td>...</td><td>...</td><td>...</td><td>...</td><td>...</td><td>...</td><td>...</td></tr>\n",
       "<tr><td>7283.355</td><td>18299000.0</td><td>AAA</td><td>[171134.896946]    - [184864.82932]</td><td>1s.2p  | 1P*  | 1</td><td>1s.3s  | 1S   | 0</td><td>--</td><td>T8636c73</td><td>L366</td><td>50</td><td>HeI</td></tr>\n",
       "<tr><td>9212.865</td><td>2268.5</td><td>AAA</td><td>[186101.5461767]   - [196955.946184774]</td><td>1s.3d  | 3D   | 3</td><td>1s.9f  | 3F*  | 2</td><td>--</td><td>T8636c73</td><td>L551</td><td>2</td><td>HeI</td></tr>\n",
       "<tr><td>9528.78</td><td>3383.4</td><td>AAA</td><td>[186101.5461767]   - [196596.080442094]</td><td>1s.3d  | 3D   | 3</td><td>1s.8f  | 3F*  | 2</td><td>--</td><td>T8636c73</td><td>L8200</td><td>3</td><td>HeI</td></tr>\n",
       "<tr><td>9531.88</td><td>589760.0</td><td>AAA</td><td>[186104.9666893]   - [196596.082092602]</td><td>1s.3d  | 1D   | 2</td><td>1s.8f  | 1F*  | 3</td><td>--</td><td>T8636c73</td><td>L366</td><td>1</td><td>HeI</td></tr>\n",
       "<tr><td>10030.48</td><td>5414.7</td><td>AAA</td><td>[186101.5461767]   - [196071.178729980]</td><td>1s.3d  | 3D   | 3</td><td>1s.7f  | 3F*  | 2</td><td>--</td><td>T8636c73</td><td>L8200</td><td>6</td><td>HeI</td></tr>\n",
       "<tr><td>10033.91</td><td>928920.0</td><td>AAA</td><td>[186104.9666893]   - [196071.181064965]</td><td>1s.3d  | 1D   | 2</td><td>1s.7f  | 1F*  | 3</td><td>--</td><td>T8636c73</td><td>L8200</td><td>2</td><td>HeI</td></tr>\n",
       "<tr><td>10915.91</td><td>9619.7</td><td>AAA</td><td>[186101.5461767]   - [195262.428373005]</td><td>1s.3d  | 3D   | 3</td><td>1s.6f  | 3F*  | 2</td><td>--</td><td>T8636c73</td><td>L7293</td><td>12</td><td>HeI</td></tr>\n",
       "<tr><td>10916.04</td><td>1818100.0</td><td>AAA</td><td>[186101.5928903]   - [195262.428373005]</td><td>1s.3d  | 3D   | 1</td><td>1s.6f  | 3F*  | 2</td><td>--</td><td>T8636c73</td><td>L885</td><td>9</td><td>HeI</td></tr>\n",
       "<tr><td>10920.09</td><td>1608300.0</td><td>AAA</td><td>[186104.9666893]   - [195262.431784358]</td><td>1s.3d  | 1D   | 2</td><td>1s.6f  | 1F*  | 3</td><td>--</td><td>T8636c73</td><td>L885</td><td>3</td><td>HeI</td></tr>\n",
       "<tr><td>11972.4</td><td>2608400.0</td><td>AAA</td><td>[185564.583895]    - [193917.15192855]</td><td>1s.3p  | 3P*  | 1</td><td>1s.5d  | 3D   | 2</td><td>--</td><td>T8636c73</td><td>L885</td><td>30</td><td>HeI</td></tr>\n",
       "</table>"
      ],
      "text/plain": [
       "<Table masked=True length=43>\n",
       "  wave      Aki     Acc. ...    Line   RelInt Ion \n",
       "float64   float64   str3 ...    str9   int64  str5\n",
       "-------- ---------- ---- ... --------- ------ ----\n",
       "2945.967  3200600.0  AAA ... L14925c72     10  HeI\n",
       "  3014.6         --   -- ...     L1786     40  HeI\n",
       "3188.667  5636100.0  AAA ... L14925c72     20  HeI\n",
       "3232.199   510150.0  AAA ...    L14924      0  HeI\n",
       "3259.215   696270.0  AAA ...    L14924      1  HeI\n",
       " 3555.43    36386.0  AAA ...      L551      1  HeI\n",
       "3563.997   268680.0  AAA ...      L366      0  HeI\n",
       "3588.294    50298.0  AAA ...      L551      1  HeI\n",
       "3614.674  3802200.0  AAA ... L14925c72      3  HeI\n",
       "3653.031   541360.0  AAA ...      L366      1  HeI\n",
       "     ...        ...  ... ...       ...    ...  ...\n",
       "7283.355 18299000.0  AAA ...      L366     50  HeI\n",
       "9212.865     2268.5  AAA ...      L551      2  HeI\n",
       " 9528.78     3383.4  AAA ...     L8200      3  HeI\n",
       " 9531.88   589760.0  AAA ...      L366      1  HeI\n",
       "10030.48     5414.7  AAA ...     L8200      6  HeI\n",
       "10033.91   928920.0  AAA ...     L8200      2  HeI\n",
       "10915.91     9619.7  AAA ...     L7293     12  HeI\n",
       "10916.04  1818100.0  AAA ...      L885      9  HeI\n",
       "10920.09  1608300.0  AAA ...      L885      3  HeI\n",
       " 11972.4  2608400.0  AAA ...      L885     30  HeI"
      ]
     },
     "execution_count": 14,
     "metadata": {},
     "output_type": "execute_result"
    }
   ],
   "source": [
    "HeI"
   ]
  },
  {
   "cell_type": "markdown",
   "metadata": {},
   "source": [
    "### NeI"
   ]
  },
  {
   "cell_type": "code",
   "execution_count": 15,
   "metadata": {
    "collapsed": false
   },
   "outputs": [
    {
     "name": "stderr",
     "output_type": "stream",
     "text": [
      "\u001b[1;31m[WARNING] ::\u001b[0m Using arutils.dummy_self.  Better know what you are doing.\n"
     ]
    }
   ],
   "source": [
    "reload(alines)\n",
    "NeI = alines.parse_nist(None,'NeI')"
   ]
  },
  {
   "cell_type": "code",
   "execution_count": 16,
   "metadata": {
    "collapsed": false
   },
   "outputs": [
    {
     "data": {
      "text/html": [
       "&lt;Table masked=True length=96&gt;\n",
       "<table id=\"table4577631184\">\n",
       "<thead><tr><th>wave</th><th>Aki</th><th>Acc.</th><th>Ei           Ek</th><th>Lower level</th><th>Upper level</th><th>Type</th><th>TP</th><th>Line</th><th>RelInt</th><th>Ion</th></tr></thead>\n",
       "<thead><tr><th>float64</th><th>float64</th><th>str2</th><th>str28</th><th>str35</th><th>str36</th><th>str2</th><th>str10</th><th>str5</th><th>int64</th><th>str5</th></tr></thead>\n",
       "<tr><td>3455.1838</td><td>3700000.0</td><td>C</td><td>134459.2871   -  163401.3061</td><td>2s2.2p5.(2P*&lt;3/2&gt;).3s | 2[3/2]* | 1</td><td>2s2.2p5.(2P*&lt;3/2&gt;).4p  | 2[1/2]  | 0</td><td>--</td><td>T172</td><td>L3451</td><td>1000</td><td>NeI</td></tr>\n",
       "<tr><td>3473.5649</td><td>1700000.0</td><td>C</td><td>134041.8400   -  162830.7073</td><td>2s2.2p5.(2P*&lt;3/2&gt;).3s | 2[3/2]* | 2</td><td>2s2.2p5.(2P*&lt;3/2&gt;).4p  | 2[5/2]  | 3</td><td>--</td><td>T172</td><td>L3451</td><td>5000</td><td>NeI</td></tr>\n",
       "<tr><td>3502.2171</td><td>1200000.0</td><td>D</td><td>134459.2871   -  163012.6247</td><td>2s2.2p5.(2P*&lt;3/2&gt;).3s | 2[3/2]* | 1</td><td>2s2.2p5.(2P*&lt;3/2&gt;).4p  | 2[3/2]  | 1</td><td>--</td><td>T8043</td><td>L3451</td><td>2000</td><td>NeI</td></tr>\n",
       "<tr><td>3511.7248</td><td>220000.0</td><td>D</td><td>134041.8400   -  162517.8755</td><td>2s2.2p5.(2P*&lt;3/2&gt;).3s | 2[3/2]* | 2</td><td>2s2.2p5.(2P*&lt;3/2&gt;).4p  | 2[1/2]  | 1</td><td>--</td><td>T8043</td><td>L3451</td><td>500</td><td>NeI</td></tr>\n",
       "<tr><td>3516.1952</td><td>690000.0</td><td>D</td><td>134459.2871   -  162899.1169</td><td>2s2.2p5.(2P*&lt;3/2&gt;).3s | 2[3/2]* | 1</td><td>2s2.2p5.(2P*&lt;3/2&gt;).4p  | 2[5/2]  | 2</td><td>--</td><td>T8043</td><td>L3451</td><td>2000</td><td>NeI</td></tr>\n",
       "<tr><td>3521.478</td><td>9300000.0</td><td>C</td><td>135888.7173   -  164285.8872</td><td>2s2.2p5.(2P*&lt;1/2&gt;).3s | 2[1/2]* | 1</td><td>2s2.2p5.(2P*&lt;1/2&gt;).4p  | 2[1/2]  | 0</td><td>--</td><td>T172</td><td>L3451</td><td>10000</td><td>NeI</td></tr>\n",
       "<tr><td>3594.5517</td><td>990000.0</td><td>D</td><td>135888.7173   -  163708.6029</td><td>2s2.2p5.(2P*&lt;1/2&gt;).3s | 2[1/2]* | 1</td><td>2s2.2p5.(2P*&lt;1/2&gt;).4p  | 2[3/2]  | 2</td><td>--</td><td>T8043</td><td>L3451</td><td>5000</td><td>NeI</td></tr>\n",
       "<tr><td>3594.6639</td><td>660000.0</td><td>D</td><td>135888.7173   -  163707.7261</td><td>2s2.2p5.(2P*&lt;1/2&gt;).3s | 2[1/2]* | 1</td><td>2s2.2p5.(2P*&lt;1/2&gt;).4p  | 2[1/2]  | 1</td><td>--</td><td>T8043</td><td>L5951</td><td>3000</td><td>NeI</td></tr>\n",
       "<tr><td>3601.1965</td><td>430000.0</td><td>D</td><td>135888.7173   -  163657.2726</td><td>2s2.2p5.(2P*&lt;1/2&gt;).3s | 2[1/2]* | 1</td><td>2s2.2p5.(2P*&lt;1/2&gt;).4p  | 2[3/2]  | 1</td><td>--</td><td>T8043</td><td>L3451</td><td>1000</td><td>NeI</td></tr>\n",
       "<tr><td>3634.7001</td><td>1100000.0</td><td>D</td><td>135888.7173   -  163401.3061</td><td>2s2.2p5.(2P*&lt;1/2&gt;).3s | 2[1/2]* | 1</td><td>2s2.2p5.(2P*&lt;3/2&gt;).4p  | 2[1/2]  | 0</td><td>--</td><td>T8043</td><td>L3451</td><td>1000</td><td>NeI</td></tr>\n",
       "<tr><td>...</td><td>...</td><td>...</td><td>...</td><td>...</td><td>...</td><td>...</td><td>...</td><td>...</td><td>...</td><td>...</td></tr>\n",
       "<tr><td>8656.7599</td><td>44500000.0</td><td>C</td><td>150858.5079   -  162410.1736</td><td>2s2.2p5.(2P*&lt;1/2&gt;).3p | 2[3/2]  | 2</td><td>2s2.2p5.(2P*&lt;1/2&gt;).3d  | 2[5/2]* | 3</td><td>--</td><td>T682n</td><td>L9097</td><td>64000</td><td>NeI</td></tr>\n",
       "<tr><td>8684.3062</td><td>21000000.0</td><td>D</td><td>150121.5922   -  161636.6175</td><td>2s2.2p5.(2P*&lt;3/2&gt;).3p | 2[3/2]  | 1</td><td>2s2.2p5.(2P*&lt;3/2&gt;).3d  | 2[3/2]* | 1</td><td>--</td><td>T8043</td><td>L3451</td><td>15000</td><td>NeI</td></tr>\n",
       "<tr><td>8769.944</td><td>110000.0</td><td>D</td><td>150121.5922   -  161524.1739</td><td>2s2.2p5.(2P*&lt;3/2&gt;).3p | 2[3/2]  | 1</td><td>2s2.2p5.(2P*&lt;3/2&gt;).3d  | 2[1/2]* | 1</td><td>--</td><td>T8043</td><td>L9097</td><td>160</td><td>NeI</td></tr>\n",
       "<tr><td>8774.0664</td><td>16000000.0</td><td>D</td><td>151038.4524   -  162435.6780</td><td>2s2.2p5.(2P*&lt;1/2&gt;).3p | 2[1/2]  | 1</td><td>2s2.2p5.(2P*&lt;1/2&gt;).3d  | 2[3/2]* | 1</td><td>--</td><td>T8043</td><td>L9097</td><td>10000</td><td>NeI</td></tr>\n",
       "<tr><td>8786.166</td><td>31300000.0</td><td>C</td><td>151038.4524   -  162419.9818</td><td>2s2.2p5.(2P*&lt;1/2&gt;).3p | 2[1/2]  | 1</td><td>2s2.2p5.(2P*&lt;1/2&gt;).3d  | 2[3/2]* | 2</td><td>--</td><td>T8043</td><td>L3451</td><td>43000</td><td>NeI</td></tr>\n",
       "<tr><td>8867.7399</td><td>940000.0</td><td>D</td><td>148257.7898   -  159534.6196</td><td>2s2.2p5.(2P*&lt;3/2&gt;).3p | 2[1/2]  | 1</td><td>2s2.2p5.(2P*&lt;1/2&gt;).4s  | 2[1/2]* | 1</td><td>--</td><td>T8043</td><td>L3451</td><td>2100</td><td>NeI</td></tr>\n",
       "<tr><td>9204.2841</td><td>9100000.0</td><td>D</td><td>150772.1118   -  161636.6175</td><td>2s2.2p5.(2P*&lt;1/2&gt;).3p | 2[3/2]  | 1</td><td>2s2.2p5.(2P*&lt;3/2&gt;).3d  | 2[3/2]* | 1</td><td>--</td><td>T8043</td><td>L9097</td><td>8900</td><td>NeI</td></tr>\n",
       "<tr><td>9435.5961</td><td>110000.0</td><td>D</td><td>151038.4524   -  161636.6175</td><td>2s2.2p5.(2P*&lt;1/2&gt;).3p | 2[1/2]  | 1</td><td>2s2.2p5.(2P*&lt;3/2&gt;).3d  | 2[3/2]* | 1</td><td>--</td><td>T8043</td><td>L9097</td><td>66</td><td>NeI</td></tr>\n",
       "<tr><td>9489.2849</td><td>2500000.0</td><td>D</td><td>148257.7898   -  158795.9924</td><td>2s2.2p5.(2P*&lt;3/2&gt;).3p | 2[1/2]  | 1</td><td>2s2.2p5.(2P*&lt;3/2&gt;).4s  | 2[3/2]* | 1</td><td>--</td><td>T8043</td><td>L9097</td><td>5000</td><td>NeI</td></tr>\n",
       "<tr><td>9536.7793</td><td>6300000.0</td><td>D</td><td>151038.4524   -  161524.1739</td><td>2s2.2p5.(2P*&lt;1/2&gt;).3p | 2[1/2]  | 1</td><td>2s2.2p5.(2P*&lt;3/2&gt;).3d  | 2[1/2]* | 1</td><td>--</td><td>T8043</td><td>L9097</td><td>6100</td><td>NeI</td></tr>\n",
       "</table>"
      ],
      "text/plain": [
       "<Table masked=True length=96>\n",
       "   wave      Aki     Acc.       Ei           Ek        ...  Line RelInt Ion \n",
       " float64   float64   str2            str28             ...  str5 int64  str5\n",
       "--------- ---------- ---- ---------------------------- ... ----- ------ ----\n",
       "3455.1838  3700000.0    C 134459.2871   -  163401.3061 ... L3451   1000  NeI\n",
       "3473.5649  1700000.0    C 134041.8400   -  162830.7073 ... L3451   5000  NeI\n",
       "3502.2171  1200000.0    D 134459.2871   -  163012.6247 ... L3451   2000  NeI\n",
       "3511.7248   220000.0    D 134041.8400   -  162517.8755 ... L3451    500  NeI\n",
       "3516.1952   690000.0    D 134459.2871   -  162899.1169 ... L3451   2000  NeI\n",
       " 3521.478  9300000.0    C 135888.7173   -  164285.8872 ... L3451  10000  NeI\n",
       "3594.5517   990000.0    D 135888.7173   -  163708.6029 ... L3451   5000  NeI\n",
       "3594.6639   660000.0    D 135888.7173   -  163707.7261 ... L5951   3000  NeI\n",
       "3601.1965   430000.0    D 135888.7173   -  163657.2726 ... L3451   1000  NeI\n",
       "3634.7001  1100000.0    D 135888.7173   -  163401.3061 ... L3451   1000  NeI\n",
       "      ...        ...  ...                          ... ...   ...    ...  ...\n",
       "8656.7599 44500000.0    C 150858.5079   -  162410.1736 ... L9097  64000  NeI\n",
       "8684.3062 21000000.0    D 150121.5922   -  161636.6175 ... L3451  15000  NeI\n",
       " 8769.944   110000.0    D 150121.5922   -  161524.1739 ... L9097    160  NeI\n",
       "8774.0664 16000000.0    D 151038.4524   -  162435.6780 ... L9097  10000  NeI\n",
       " 8786.166 31300000.0    C 151038.4524   -  162419.9818 ... L3451  43000  NeI\n",
       "8867.7399   940000.0    D 148257.7898   -  159534.6196 ... L3451   2100  NeI\n",
       "9204.2841  9100000.0    D 150772.1118   -  161636.6175 ... L9097   8900  NeI\n",
       "9435.5961   110000.0    D 151038.4524   -  161636.6175 ... L9097     66  NeI\n",
       "9489.2849  2500000.0    D 148257.7898   -  158795.9924 ... L9097   5000  NeI\n",
       "9536.7793  6300000.0    D 151038.4524   -  161524.1739 ... L9097   6100  NeI"
      ]
     },
     "execution_count": 16,
     "metadata": {},
     "output_type": "execute_result"
    }
   ],
   "source": [
    "NeI[NeI['Aki']>0.]"
   ]
  },
  {
   "cell_type": "markdown",
   "metadata": {},
   "source": [
    "### ArI"
   ]
  },
  {
   "cell_type": "code",
   "execution_count": 17,
   "metadata": {
    "collapsed": false
   },
   "outputs": [
    {
     "name": "stderr",
     "output_type": "stream",
     "text": [
      "\u001b[1;31m[WARNING] ::\u001b[0m Using arutils.dummy_self.  Better know what you are doing.\n"
     ]
    }
   ],
   "source": [
    "ArI = alines.parse_nist(None,'ArI')"
   ]
  },
  {
   "cell_type": "code",
   "execution_count": 18,
   "metadata": {
    "collapsed": false
   },
   "outputs": [
    {
     "data": {
      "text/html": [
       "&lt;Table masked=True length=136&gt;\n",
       "<table id=\"table4575716688\">\n",
       "<thead><tr><th>wave</th><th>Aki</th><th>Acc.</th><th>Ei           Ek</th><th>Lower level</th><th>Upper level</th><th>Type</th><th>TP</th><th>Line</th><th>RelInt</th><th>Ion</th></tr></thead>\n",
       "<thead><tr><th>float64</th><th>float64</th><th>str2</th><th>str28</th><th>str35</th><th>str36</th><th>int64</th><th>str20</th><th>str5</th><th>int64</th><th>str5</th></tr></thead>\n",
       "<tr><td>3201.29</td><td>--</td><td>--</td><td>--</td><td>|         |</td><td>|         |</td><td>--</td><td>--</td><td>L2131</td><td>8</td><td>ArI</td></tr>\n",
       "<tr><td>3320.3</td><td>--</td><td>--</td><td>--</td><td>|         |</td><td>|         |</td><td>--</td><td>--</td><td>L3512</td><td>7</td><td>ArI</td></tr>\n",
       "<tr><td>3374.44</td><td>--</td><td>--</td><td>--</td><td>|         |</td><td>|         |</td><td>--</td><td>--</td><td>L3512</td><td>7</td><td>ArI</td></tr>\n",
       "<tr><td>3394.7</td><td>--</td><td>--</td><td>--</td><td>|         |</td><td>|         |</td><td>--</td><td>--</td><td>L3512</td><td>7</td><td>ArI</td></tr>\n",
       "<tr><td>3462.06</td><td>67000.0</td><td>D</td><td>93750.5978   -  122635.054</td><td>3s2.3p5.(2P*&lt;3/2&gt;).4s | 2[3/2]* | 1</td><td>3s2.3p5.(2P*&lt;1/2&gt;).6p  | 2[3/2]  | 2</td><td>--</td><td>T1086n</td><td>L3512</td><td>7</td><td>ArI</td></tr>\n",
       "<tr><td>3555.321</td><td>270000.0</td><td>D</td><td>93143.7600   -  121270.617</td><td>3s2.3p5.(2P*&lt;3/2&gt;).4s | 2[3/2]* | 2</td><td>3s2.3p5.(2P*&lt;3/2&gt;).6p  | 2[3/2]  | 2</td><td>--</td><td>T1086n</td><td>L2634</td><td>7</td><td>ArI</td></tr>\n",
       "<tr><td>3607.551</td><td>760000.0</td><td>D</td><td>93750.5978   -  121470.238</td><td>3s2.3p5.(2P*&lt;3/2&gt;).4s | 2[3/2]* | 1</td><td>3s2.3p5.(2P*&lt;3/2&gt;).6p  | 2[1/2]  | 0</td><td>--</td><td>T1086n</td><td>L2634</td><td>7</td><td>ArI</td></tr>\n",
       "<tr><td>3771.44</td><td>70000.0</td><td>D</td><td>94553.6652   -  121068.736</td><td>3s2.3p5.(2P*&lt;1/2&gt;).4s | 2[1/2]* | 0</td><td>3s2.3p5.(2P*&lt;3/2&gt;).6p  | 2[1/2]  | 1</td><td>--</td><td>T1086n</td><td>L2634</td><td>20</td><td>ArI</td></tr>\n",
       "<tr><td>3835.767</td><td>750000.0</td><td>D</td><td>95399.8276   -  121470.238</td><td>3s2.3p5.(2P*&lt;1/2&gt;).4s | 2[1/2]* | 1</td><td>3s2.3p5.(2P*&lt;3/2&gt;).6p  | 2[1/2]  | 0</td><td>--</td><td>T1086n</td><td>L2634</td><td>7</td><td>ArI</td></tr>\n",
       "<tr><td>3948.622</td><td>56000.0</td><td>C</td><td>93143.7600   -  118469.0508</td><td>3s2.3p5.(2P*&lt;3/2&gt;).4s | 2[3/2]* | 2</td><td>3s2.3p5.(2P*&lt;1/2&gt;).5p  | 2[3/2]  | 2</td><td>--</td><td>T1419n,T1218n</td><td>L2634</td><td>7</td><td>ArI</td></tr>\n",
       "<tr><td>...</td><td>...</td><td>...</td><td>...</td><td>...</td><td>...</td><td>...</td><td>...</td><td>...</td><td>...</td><td>...</td></tr>\n",
       "<tr><td>8670.325</td><td>2430000.0</td><td>C</td><td>94553.6652   -  106087.2598</td><td>3s2.3p5.(2P*&lt;1/2&gt;).4s | 2[1/2]* | 0</td><td>3s2.3p5.(2P*&lt;3/2&gt;).4p  | 2[3/2]  | 1</td><td>--</td><td>T1242n</td><td>L2634</td><td>4500</td><td>ArI</td></tr>\n",
       "<tr><td>8852.34</td><td>--</td><td>--</td><td>--</td><td>|         |</td><td>|         |</td><td>--</td><td>--</td><td>L2131</td><td>180</td><td>ArI</td></tr>\n",
       "<tr><td>9077.885</td><td>1200000.0</td><td>D</td><td>107496.4166   -  118512.197</td><td>3s2.3p5.(2P*&lt;1/2&gt;).4p | 2[1/2]  | 1</td><td>3s2.3p5.(2P*&lt;3/2&gt;).4d  | 2[1/2]* | 0</td><td>--</td><td>T1218n</td><td>L2634</td><td>20</td><td>ArI</td></tr>\n",
       "<tr><td>9125.471</td><td>18900000.0</td><td>C</td><td>93143.7600   -  104102.0990</td><td>3s2.3p5.(2P*&lt;3/2&gt;).4s | 2[3/2]* | 2</td><td>3s2.3p5.(2P*&lt;3/2&gt;).4p  | 2[1/2]  | 1</td><td>--</td><td>T1242n</td><td>L2634</td><td>35000</td><td>ArI</td></tr>\n",
       "<tr><td>9197.161</td><td>1760000.0</td><td>C</td><td>104102.0990   -  114975.019</td><td>3s2.3p5.(2P*&lt;3/2&gt;).4p | 2[1/2]  | 1</td><td>3s2.3p5.(2P*&lt;1/2&gt;).5s  | 2[1/2]* | 1</td><td>--</td><td>T1618n</td><td>L2634</td><td>550</td><td>ArI</td></tr>\n",
       "<tr><td>9227.03</td><td>5030000.0</td><td>C</td><td>95399.8276   -  106237.5518</td><td>3s2.3p5.(2P*&lt;1/2&gt;).4s | 2[1/2]* | 1</td><td>3s2.3p5.(2P*&lt;3/2&gt;).4p  | 2[3/2]  | 2</td><td>--</td><td>T1242n</td><td>L2634</td><td>15000</td><td>ArI</td></tr>\n",
       "<tr><td>9294.081</td><td>3260000.0</td><td>C</td><td>104102.0990   -  114861.635</td><td>3s2.3p5.(2P*&lt;3/2&gt;).4p | 2[1/2]  | 1</td><td>3s2.3p5.(2P*&lt;1/2&gt;).5s  | 2[1/2]* | 0</td><td>--</td><td>T1618n</td><td>L2634</td><td>400</td><td>ArI</td></tr>\n",
       "<tr><td>9356.787</td><td>1060000.0</td><td>C</td><td>95399.8276   -  106087.2598</td><td>3s2.3p5.(2P*&lt;1/2&gt;).4s | 2[1/2]* | 1</td><td>3s2.3p5.(2P*&lt;3/2&gt;).4p  | 2[3/2]  | 1</td><td>--</td><td>T1242n</td><td>L2634</td><td>1600</td><td>ArI</td></tr>\n",
       "<tr><td>9660.435</td><td>5430000.0</td><td>C</td><td>93750.5978   -  104102.0990</td><td>3s2.3p5.(2P*&lt;3/2&gt;).4s | 2[3/2]* | 1</td><td>3s2.3p5.(2P*&lt;3/2&gt;).4p  | 2[1/2]  | 1</td><td>--</td><td>T1242n</td><td>L2634</td><td>25000</td><td>ArI</td></tr>\n",
       "<tr><td>9787.186</td><td>1470000.0</td><td>C</td><td>95399.8276   -  105617.2700</td><td>3s2.3p5.(2P*&lt;1/2&gt;).4s | 2[1/2]* | 1</td><td>3s2.3p5.(2P*&lt;3/2&gt;).4p  | 2[5/2]  | 2</td><td>--</td><td>T1242n</td><td>L2634</td><td>4500</td><td>ArI</td></tr>\n",
       "</table>"
      ],
      "text/plain": [
       "<Table masked=True length=136>\n",
       "  wave      Aki     Acc.       Ei           Ek       ...  Line RelInt Ion \n",
       "float64   float64   str2            str28            ...  str5 int64  str5\n",
       "-------- ---------- ---- --------------------------- ... ----- ------ ----\n",
       " 3201.29         --   --                          -- ... L2131      8  ArI\n",
       "  3320.3         --   --                          -- ... L3512      7  ArI\n",
       " 3374.44         --   --                          -- ... L3512      7  ArI\n",
       "  3394.7         --   --                          -- ... L3512      7  ArI\n",
       " 3462.06    67000.0    D  93750.5978   -  122635.054 ... L3512      7  ArI\n",
       "3555.321   270000.0    D  93143.7600   -  121270.617 ... L2634      7  ArI\n",
       "3607.551   760000.0    D  93750.5978   -  121470.238 ... L2634      7  ArI\n",
       " 3771.44    70000.0    D  94553.6652   -  121068.736 ... L2634     20  ArI\n",
       "3835.767   750000.0    D  95399.8276   -  121470.238 ... L2634      7  ArI\n",
       "3948.622    56000.0    C 93143.7600   -  118469.0508 ... L2634      7  ArI\n",
       "     ...        ...  ...                         ... ...   ...    ...  ...\n",
       "8670.325  2430000.0    C 94553.6652   -  106087.2598 ... L2634   4500  ArI\n",
       " 8852.34         --   --                          -- ... L2131    180  ArI\n",
       "9077.885  1200000.0    D 107496.4166   -  118512.197 ... L2634     20  ArI\n",
       "9125.471 18900000.0    C 93143.7600   -  104102.0990 ... L2634  35000  ArI\n",
       "9197.161  1760000.0    C 104102.0990   -  114975.019 ... L2634    550  ArI\n",
       " 9227.03  5030000.0    C 95399.8276   -  106237.5518 ... L2634  15000  ArI\n",
       "9294.081  3260000.0    C 104102.0990   -  114861.635 ... L2634    400  ArI\n",
       "9356.787  1060000.0    C 95399.8276   -  106087.2598 ... L2634   1600  ArI\n",
       "9660.435  5430000.0    C 93750.5978   -  104102.0990 ... L2634  25000  ArI\n",
       "9787.186  1470000.0    C 95399.8276   -  105617.2700 ... L2634   4500  ArI"
      ]
     },
     "execution_count": 18,
     "metadata": {},
     "output_type": "execute_result"
    }
   ],
   "source": [
    "ArI"
   ]
  },
  {
   "cell_type": "markdown",
   "metadata": {},
   "source": [
    "## KrI\n",
    "\n",
    "  * Retrieve data (Kr I, 4000., 12000. Ang, Format = ASCII\n",
    "  * Comment out the ---- lines\n",
    "  * Add comment at start"
   ]
  },
  {
   "cell_type": "code",
   "execution_count": 19,
   "metadata": {
    "collapsed": false
   },
   "outputs": [
    {
     "name": "stderr",
     "output_type": "stream",
     "text": [
      "\u001b[1;31m[WARNING] ::\u001b[0m Using arutils.dummy_self.  Better know what you are doing.\n"
     ]
    }
   ],
   "source": [
    "reload(alines)\n",
    "KrI = alines.parse_nist(None,'KrI')"
   ]
  },
  {
   "cell_type": "code",
   "execution_count": 20,
   "metadata": {
    "collapsed": false
   },
   "outputs": [
    {
     "data": {
      "text/html": [
       "&lt;Table masked=True length=458&gt;\n",
       "<table id=\"table4575715856\">\n",
       "<thead><tr><th>wave</th><th>Aki</th><th>Acc.</th><th>Ei           Ek</th><th>Lower level</th><th>Upper level</th><th>Type</th><th>TP</th><th>Line</th><th>RelInt</th><th>Ion</th></tr></thead>\n",
       "<thead><tr><th>float64</th><th>float64</th><th>str1</th><th>str27</th><th>str35</th><th>str36</th><th>str2</th><th>str5</th><th>str7</th><th>int64</th><th>str5</th></tr></thead>\n",
       "<tr><td>4001.85</td><td>--</td><td>--</td><td>85191.6166   -  110180.08</td><td>4s2.4p5.(2P*&lt;1/2&gt;).5s | 2[1/2]* | 0</td><td>4s2.4p5.(2P*&lt;3/2&gt;).9p  | 2[1/2]  | 1</td><td>--</td><td>--</td><td>L7408</td><td>2</td><td>KrI</td></tr>\n",
       "<tr><td>4029.17</td><td>--</td><td>--</td><td>85846.7046   -  110665.75</td><td>4s2.4p5.(2P*&lt;1/2&gt;).5s | 2[1/2]* | 1</td><td>4s2.4p5.(2P*&lt;3/2&gt;).7f  | 2[5/2]  | 2</td><td>--</td><td>--</td><td>L7408</td><td>1</td><td>KrI</td></tr>\n",
       "<tr><td>4030.8</td><td>--</td><td>--</td><td>85846.7046   -  110655.45</td><td>4s2.4p5.(2P*&lt;1/2&gt;).5s | 2[1/2]* | 1</td><td>4s2.4p5.(2P*&lt;3/2&gt;).7f  | 2[3/2]  | 1</td><td>--</td><td>--</td><td>L7408</td><td>2</td><td>KrI</td></tr>\n",
       "<tr><td>4057.72</td><td>--</td><td>--</td><td>85191.6166   -  109836.15</td><td>4s2.4p5.(2P*&lt;1/2&gt;).5s | 2[1/2]* | 0</td><td>4s2.4p5.(2P*&lt;3/2&gt;).6f  | 2[3/2]  | 1</td><td>--</td><td>--</td><td>L7408</td><td>3</td><td>KrI</td></tr>\n",
       "<tr><td>4088.05</td><td>--</td><td>--</td><td>85846.7046   -  110308.14</td><td>4s2.4p5.(2P*&lt;1/2&gt;).5s | 2[1/2]* | 1</td><td>4s2.4p5.(2P*&lt;3/2&gt;).9p  | 2[1/2]  | 0</td><td>--</td><td>--</td><td>L7408</td><td>2</td><td>KrI</td></tr>\n",
       "<tr><td>4099.0</td><td>--</td><td>--</td><td>85846.7046   -  110242.83</td><td>4s2.4p5.(2P*&lt;1/2&gt;).5s | 2[1/2]* | 1</td><td>4s2.4p5.(2P*&lt;3/2&gt;).9p  | 2[3/2]  | 2</td><td>--</td><td>--</td><td>L7408</td><td>1</td><td>KrI</td></tr>\n",
       "<tr><td>4109.59</td><td>--</td><td>--</td><td>85846.7046   -  110180.08</td><td>4s2.4p5.(2P*&lt;1/2&gt;).5s | 2[1/2]* | 1</td><td>4s2.4p5.(2P*&lt;3/2&gt;).9p  | 2[1/2]  | 1</td><td>--</td><td>--</td><td>L7408</td><td>3</td><td>KrI</td></tr>\n",
       "<tr><td>4165.65</td><td>--</td><td>--</td><td>85846.7046   -  109852.76</td><td>4s2.4p5.(2P*&lt;1/2&gt;).5s | 2[1/2]* | 1</td><td>4s2.4p5.(2P*&lt;3/2&gt;).6f  | 2[5/2]  | 2</td><td>--</td><td>--</td><td>L7408</td><td>2</td><td>KrI</td></tr>\n",
       "<tr><td>4168.45</td><td>--</td><td>--</td><td>85846.7046   -  109836.15</td><td>4s2.4p5.(2P*&lt;1/2&gt;).5s | 2[1/2]* | 1</td><td>4s2.4p5.(2P*&lt;3/2&gt;).6f  | 2[3/2]  | 1</td><td>--</td><td>--</td><td>L7408</td><td>0</td><td>KrI</td></tr>\n",
       "<tr><td>4174.01</td><td>--</td><td>--</td><td>85191.6166   -  109149.694</td><td>4s2.4p5.(2P*&lt;1/2&gt;).5s | 2[1/2]* | 0</td><td>4s2.4p5.(2P*&lt;3/2&gt;).8p  | 2[3/2]  | 1</td><td>--</td><td>--</td><td>L7408</td><td>3</td><td>KrI</td></tr>\n",
       "<tr><td>...</td><td>...</td><td>...</td><td>...</td><td>...</td><td>...</td><td>...</td><td>...</td><td>...</td><td>...</td><td>...</td></tr>\n",
       "<tr><td>11319.2</td><td>--</td><td>--</td><td>99646.212    -  108480.751</td><td>4s2.4p5.(2P*&lt;3/2&gt;).4d | 2[3/2]* | 1</td><td>4s2.4p5.(2P*&lt;3/2&gt;).5f  | 2[3/2]  | 1</td><td>--</td><td>--</td><td>L7293</td><td>1</td><td>KrI</td></tr>\n",
       "<tr><td>11331.61</td><td>--</td><td>--</td><td>99646.212    -  108471.1277</td><td>4s2.4p5.(2P*&lt;3/2&gt;).4d | 2[3/2]* | 1</td><td>4s2.4p5.(2P*&lt;3/2&gt;).5f  | 2[3/2]  | 2</td><td>--</td><td>--</td><td>L7293</td><td>4</td><td>KrI</td></tr>\n",
       "<tr><td>11336.54</td><td>--</td><td>--</td><td>98855.0698   -  107676.1489</td><td>4s2.4p5.(2P*&lt;1/2&gt;).5p | 2[1/2]  | 0</td><td>4s2.4p5.(2P*&lt;3/2&gt;).6d  | 2[1/2]* | 1</td><td>--</td><td>--</td><td>L7293</td><td>1</td><td>KrI</td></tr>\n",
       "<tr><td>11460.614</td><td>--</td><td>--</td><td>91168.5150   -   99894.0485</td><td>4s2.4p5.(2P*&lt;3/2&gt;).5p | 2[1/2]  | 1</td><td>4s2.4p5.(2P*&lt;3/2&gt;).6s  | 2[3/2]* | 1</td><td>--</td><td>--</td><td>L9760</td><td>220</td><td>KrI</td></tr>\n",
       "<tr><td>11614.8</td><td>--</td><td>--</td><td>103115.6343   -  111725.213</td><td>4s2.4p5.(2P*&lt;3/2&gt;).6p | 2[5/2]  | 3</td><td>4s2.4p5.(2P*&lt;3/2&gt;).11d | 2[7/2]* | 4</td><td>--</td><td>--</td><td>L7293</td><td>1</td><td>KrI</td></tr>\n",
       "<tr><td>11659.0</td><td>--</td><td>--</td><td>99894.0485   -  108471.1277</td><td>4s2.4p5.(2P*&lt;3/2&gt;).6s | 2[3/2]* | 1</td><td>4s2.4p5.(2P*&lt;3/2&gt;).5f  | 2[3/2]  | 2</td><td>--</td><td>--</td><td>L7293</td><td>1</td><td>KrI</td></tr>\n",
       "<tr><td>11795.64</td><td>--</td><td>--</td><td>91168.5150   -   99646.212</td><td>4s2.4p5.(2P*&lt;3/2&gt;).5p | 2[1/2]  | 1</td><td>4s2.4p5.(2P*&lt;3/2&gt;).4d  | 2[3/2]* | 1</td><td>--</td><td>--</td><td>L125</td><td>140</td><td>KrI</td></tr>\n",
       "<tr><td>11822.6136</td><td>--</td><td>--</td><td>91168.5150   -   99626.882</td><td>4s2.4p5.(2P*&lt;3/2&gt;).5p | 2[1/2]  | 1</td><td>4s2.4p5.(2P*&lt;3/2&gt;).6s  | 2[3/2]* | 2</td><td>--</td><td>--</td><td>L4205c2</td><td>1800</td><td>KrI</td></tr>\n",
       "<tr><td>11970.457</td><td>--</td><td>--</td><td>98867.429    -  107221.333</td><td>4s2.4p5.(2P*&lt;3/2&gt;).4d | 2[5/2]* | 2</td><td>4s2.4p5.(2P*&lt;3/2&gt;).7p  | 2[3/2]  | 1</td><td>--</td><td>--</td><td>L9760</td><td>2</td><td>KrI</td></tr>\n",
       "<tr><td>11999.28</td><td>--</td><td>--</td><td>97687.779    -  106021.607</td><td>4s2.4p5.(2P*&lt;3/2&gt;).4d | 2[3/2]* | 2</td><td>4s2.4p5.(2P*&lt;3/2&gt;).4f  | 2[5/2]  | 2</td><td>--</td><td>--</td><td>L125</td><td>32</td><td>KrI</td></tr>\n",
       "</table>"
      ],
      "text/plain": [
       "<Table masked=True length=458>\n",
       "   wave      Aki   Acc.       Ei           Ek       ...  TP    Line  RelInt Ion \n",
       " float64   float64 str1            str27            ... str5   str7  int64  str5\n",
       "---------- ------- ---- --------------------------- ... ---- ------- ------ ----\n",
       "   4001.85      --   --   85191.6166   -  110180.08 ...   --   L7408      2  KrI\n",
       "   4029.17      --   --   85846.7046   -  110665.75 ...   --   L7408      1  KrI\n",
       "    4030.8      --   --   85846.7046   -  110655.45 ...   --   L7408      2  KrI\n",
       "   4057.72      --   --   85191.6166   -  109836.15 ...   --   L7408      3  KrI\n",
       "   4088.05      --   --   85846.7046   -  110308.14 ...   --   L7408      2  KrI\n",
       "    4099.0      --   --   85846.7046   -  110242.83 ...   --   L7408      1  KrI\n",
       "   4109.59      --   --   85846.7046   -  110180.08 ...   --   L7408      3  KrI\n",
       "   4165.65      --   --   85846.7046   -  109852.76 ...   --   L7408      2  KrI\n",
       "   4168.45      --   --   85846.7046   -  109836.15 ...   --   L7408      0  KrI\n",
       "   4174.01      --   --  85191.6166   -  109149.694 ...   --   L7408      3  KrI\n",
       "       ...     ...  ...                         ... ...  ...     ...    ...  ...\n",
       "   11319.2      --   --  99646.212    -  108480.751 ...   --   L7293      1  KrI\n",
       "  11331.61      --   -- 99646.212    -  108471.1277 ...   --   L7293      4  KrI\n",
       "  11336.54      --   -- 98855.0698   -  107676.1489 ...   --   L7293      1  KrI\n",
       " 11460.614      --   -- 91168.5150   -   99894.0485 ...   --   L9760    220  KrI\n",
       "   11614.8      --   -- 103115.6343   -  111725.213 ...   --   L7293      1  KrI\n",
       "   11659.0      --   -- 99894.0485   -  108471.1277 ...   --   L7293      1  KrI\n",
       "  11795.64      --   --  91168.5150   -   99646.212 ...   --    L125    140  KrI\n",
       "11822.6136      --   --  91168.5150   -   99626.882 ...   -- L4205c2   1800  KrI\n",
       " 11970.457      --   --  98867.429    -  107221.333 ...   --   L9760      2  KrI\n",
       "  11999.28      --   --  97687.779    -  106021.607 ...   --    L125     32  KrI"
      ]
     },
     "execution_count": 20,
     "metadata": {},
     "output_type": "execute_result"
    }
   ],
   "source": [
    "KrI"
   ]
  },
  {
   "cell_type": "markdown",
   "metadata": {},
   "source": [
    "## XeI\n",
    "\n",
    "  * Retrieve data (Xe I, 4000., 12000. Ang, Format = ASCII, min intensity=1000)\n",
    "  * Comment out the ---- lines\n",
    "  * Add comment at start"
   ]
  },
  {
   "cell_type": "markdown",
   "metadata": {},
   "source": [
    "## CuI"
   ]
  },
  {
   "cell_type": "code",
   "execution_count": 21,
   "metadata": {
    "collapsed": false
   },
   "outputs": [
    {
     "name": "stderr",
     "output_type": "stream",
     "text": [
      "\u001b[1;31m[WARNING] ::\u001b[0m Using arutils.dummy_self.  Better know what you are doing.\n"
     ]
    }
   ],
   "source": [
    "reload(alines)\n",
    "CuI = alines.parse_nist(None,'CuI')"
   ]
  },
  {
   "cell_type": "code",
   "execution_count": 22,
   "metadata": {
    "collapsed": false
   },
   "outputs": [
    {
     "data": {
      "text/html": [
       "&lt;Table masked=True length=460&gt;\n",
       "<table id=\"table4551819088\">\n",
       "<thead><tr><th>wave</th><th>Aki</th><th>Acc.</th><th>Ei           Ek</th><th>Lower level</th><th>Upper level</th><th>Type</th><th>TP</th><th>Line</th><th>RelInt</th><th>Ion</th></tr></thead>\n",
       "<thead><tr><th>float64</th><th>float64</th><th>str2</th><th>str25</th><th>str33</th><th>str34</th><th>str2</th><th>str5</th><th>str9</th><th>int64</th><th>str5</th></tr></thead>\n",
       "<tr><td>3002.11</td><td>--</td><td>--</td><td>43514.01    -  76824.52</td><td>3d9.(2D).4s.4p.(3P*) | 4D*  | 7/2</td><td>3d9.4s.(3D).5d       | 2G   | 9/2</td><td>--</td><td>--</td><td>L772</td><td>5</td><td>CuI</td></tr>\n",
       "<tr><td>3002.649</td><td>--</td><td>--</td><td>43726.24    -  77030.29</td><td>3d9.(2D).4s.4p.(3P*) | 2F*  | 5/2</td><td>3d9.4s.(3D).5d       | 4P   | 5/2</td><td>--</td><td>--</td><td>L772</td><td>2</td><td>CuI</td></tr>\n",
       "<tr><td>3003.156</td><td>--</td><td>--</td><td>45820.94    -  79119.17</td><td>3d9.(2D).4s.4p.(3P*) | 2P*  | 1/2</td><td>3d9.4s.(3D).5d       | 4F   | 3/2</td><td>--</td><td>--</td><td>L772</td><td>10</td><td>CuI</td></tr>\n",
       "<tr><td>3005.61</td><td>--</td><td>--</td><td>44544.16    -  77814.7</td><td>3d9.(2D).4s.4p.(3P*) | 4D*  | 3/2</td><td>3d9.4s.(3D).5d       | 4P   | 1/2</td><td>--</td><td>--</td><td>L772</td><td>1</td><td>CuI</td></tr>\n",
       "<tr><td>3008.68</td><td>--</td><td>--</td><td>45879.32    -  79116.79</td><td>3d9.(2D).4s.4p.(3P*) | 2P*  | 3/2</td><td>3d9.4s.(3D).5d       | 4F   | 5/2</td><td>--</td><td>--</td><td>L772</td><td>1</td><td>CuI</td></tr>\n",
       "<tr><td>3009.0</td><td>--</td><td>--</td><td>43726.24    -  76960.23</td><td>3d9.(2D).4s.4p.(3P*) | 2F*  | 5/2</td><td>3d9.4s.(3D).5d       | 2F   | 7/2</td><td>--</td><td>--</td><td>L772</td><td>0</td><td>CuI</td></tr>\n",
       "<tr><td>3011.715</td><td>--</td><td>--</td><td>11202.618   -  44406.32</td><td>3d9.4s2              | 2D   | 5/2</td><td>3d9.(2D).4s.4p.(3P*) | 4D*  | 5/2</td><td>--</td><td>--</td><td>L772</td><td>2000</td><td>CuI</td></tr>\n",
       "<tr><td>3012.883</td><td>--</td><td>--</td><td>40114.01    -  73304.66</td><td>3d9.(2D).4s.4p.(3P*) | 4P*  | 3/2</td><td>3d9.4s.(3D).4d       | 4F   | 5/2</td><td>--</td><td>--</td><td>L772</td><td>250</td><td>CuI</td></tr>\n",
       "<tr><td>3013.653</td><td>--</td><td>--</td><td>45820.94    -  79003.46</td><td>3d9.(2D).4s.4p.(3P*) | 2P*  | 1/2</td><td>3d9.4s.(3D).5d       | 4D   | 3/2</td><td>--</td><td>--</td><td>L772</td><td>1</td><td>CuI</td></tr>\n",
       "<tr><td>3014.388</td><td>--</td><td>--</td><td>45879.32    -  79053.38</td><td>3d9.(2D).4s.4p.(3P*) | 2P*  | 3/2</td><td>3d9.4s.(3D).5d       | 4G   | 5/2</td><td>--</td><td>--</td><td>L772</td><td>2</td><td>CuI</td></tr>\n",
       "<tr><td>...</td><td>...</td><td>...</td><td>...</td><td>...</td><td>...</td><td>...</td><td>...</td><td>...</td><td>...</td><td>...</td></tr>\n",
       "<tr><td>8410.46</td><td>--</td><td>--</td><td>43137.229   -  55027.762</td><td>3d10.5s              | 2S   | 1/2</td><td>3d10.6p              | 2P*  | 1/2</td><td>--</td><td>--</td><td>L150,L772</td><td>20</td><td>CuI</td></tr>\n",
       "<tr><td>8586.4</td><td>--</td><td>--</td><td>43137.229   -  54784.065</td><td>3d10.5s              | 2S   | 1/2</td><td>3d10.6p              | 2P*  | 3/2</td><td>--</td><td>--</td><td>L150,L772</td><td>10</td><td>CuI</td></tr>\n",
       "<tr><td>8833.7</td><td>--</td><td>--</td><td>56651.41    -  67972.02</td><td>3d9.(2D).4s.4p.(1P*) | 2D*  | 5/2</td><td>3d9.4s.(1D).5s       | 2D   | 3/2</td><td>--</td><td>--</td><td>L772</td><td>1</td><td>CuI</td></tr>\n",
       "<tr><td>8998.7</td><td>--</td><td>--</td><td>56029.89    -  67142.68</td><td>3d9.(2D).4s.4p.(1P*) | 2F*  | 7/2</td><td>3d9.4s.(1D).5s       | 2D   | 5/2</td><td>--</td><td>--</td><td>L772</td><td>20</td><td>CuI</td></tr>\n",
       "<tr><td>9216.28</td><td>--</td><td>--</td><td>45820.94    -  56671.377</td><td>3d9.(2D).4s.4p.(3P*) | 2P*  | 1/2</td><td>3d10.7s              | 2S   | 1/2</td><td>--</td><td>--</td><td>L772</td><td>0</td><td>CuI</td></tr>\n",
       "<tr><td>9259.3</td><td>--</td><td>--</td><td>56343.62    -  67142.68</td><td>3d9.(2D).4s.4p.(1P*) | 2P*  | 3/2</td><td>3d9.4s.(1D).5s       | 2D   | 5/2</td><td>--</td><td>--</td><td>L150</td><td>1</td><td>CuI</td></tr>\n",
       "<tr><td>9266.08</td><td>--</td><td>--</td><td>45879.32    -  56671.377</td><td>3d9.(2D).4s.4p.(3P*) | 2P*  | 3/2</td><td>3d10.7s              | 2S   | 1/2</td><td>--</td><td>--</td><td>L772</td><td>3</td><td>CuI</td></tr>\n",
       "<tr><td>9475.0</td><td>--</td><td>--</td><td>57419.24    -  67972.02</td><td>3d10.7p              | 2P*  | 1/2</td><td>3d9.4s.(1D).5s       | 2D   | 3/2</td><td>--</td><td>--</td><td>L150</td><td>2</td><td>CuI</td></tr>\n",
       "<tr><td>9532.9</td><td>--</td><td>--</td><td>56651.41    -  67142.68</td><td>3d9.(2D).4s.4p.(1P*) | 2D*  | 5/2</td><td>3d9.4s.(1D).5s       | 2D   | 5/2</td><td>--</td><td>--</td><td>L150</td><td>10</td><td>CuI</td></tr>\n",
       "<tr><td>9742.3</td><td>--</td><td>--</td><td>49383.264   -  59647.87</td><td>3d10.5p              | 2P*  | 1/2</td><td>3d10.9s              | 2S   | 1/2</td><td>--</td><td>--</td><td>L150</td><td>4</td><td>CuI</td></tr>\n",
       "</table>"
      ],
      "text/plain": [
       "<Table masked=True length=460>\n",
       "  wave     Aki   Acc.     Ei           Ek      ...  TP     Line   RelInt Ion \n",
       "float64  float64 str2          str25           ... str5    str9   int64  str5\n",
       "-------- ------- ---- ------------------------ ... ---- --------- ------ ----\n",
       " 3002.11      --   --  43514.01    -  76824.52 ...   --      L772      5  CuI\n",
       "3002.649      --   --  43726.24    -  77030.29 ...   --      L772      2  CuI\n",
       "3003.156      --   --  45820.94    -  79119.17 ...   --      L772     10  CuI\n",
       " 3005.61      --   --   44544.16    -  77814.7 ...   --      L772      1  CuI\n",
       " 3008.68      --   --  45879.32    -  79116.79 ...   --      L772      1  CuI\n",
       "  3009.0      --   --  43726.24    -  76960.23 ...   --      L772      0  CuI\n",
       "3011.715      --   --  11202.618   -  44406.32 ...   --      L772   2000  CuI\n",
       "3012.883      --   --  40114.01    -  73304.66 ...   --      L772    250  CuI\n",
       "3013.653      --   --  45820.94    -  79003.46 ...   --      L772      1  CuI\n",
       "3014.388      --   --  45879.32    -  79053.38 ...   --      L772      2  CuI\n",
       "     ...     ...  ...                      ... ...  ...       ...    ...  ...\n",
       " 8410.46      --   -- 43137.229   -  55027.762 ...   -- L150,L772     20  CuI\n",
       "  8586.4      --   -- 43137.229   -  54784.065 ...   -- L150,L772     10  CuI\n",
       "  8833.7      --   --  56651.41    -  67972.02 ...   --      L772      1  CuI\n",
       "  8998.7      --   --  56029.89    -  67142.68 ...   --      L772     20  CuI\n",
       " 9216.28      --   -- 45820.94    -  56671.377 ...   --      L772      0  CuI\n",
       "  9259.3      --   --  56343.62    -  67142.68 ...   --      L150      1  CuI\n",
       " 9266.08      --   -- 45879.32    -  56671.377 ...   --      L772      3  CuI\n",
       "  9475.0      --   --  57419.24    -  67972.02 ...   --      L150      2  CuI\n",
       "  9532.9      --   --  56651.41    -  67142.68 ...   --      L150     10  CuI\n",
       "  9742.3      --   --  49383.264   -  59647.87 ...   --      L150      4  CuI"
      ]
     },
     "execution_count": 22,
     "metadata": {},
     "output_type": "execute_result"
    }
   ],
   "source": [
    "CuI"
   ]
  },
  {
   "cell_type": "markdown",
   "metadata": {},
   "source": [
    "## Rejecting lines"
   ]
  },
  {
   "cell_type": "code",
   "execution_count": 18,
   "metadata": {
    "collapsed": true
   },
   "outputs": [],
   "source": [
    "# Read yaml\n",
    "with open('rejected_lines.yaml', 'r') as infile:\n",
    "    rej_lines = yaml.load(infile)"
   ]
  },
  {
   "cell_type": "code",
   "execution_count": 19,
   "metadata": {
    "collapsed": false
   },
   "outputs": [
    {
     "data": {
      "text/plain": [
       "{'ArI': {8014.786: {'kast_red': '600/7500'}},\n",
       " 'CdI': {3252.524: {'lris_blue': 'all'}},\n",
       " 'HgI': {3131.555: 'all', 3131.844: 'all', 3654.842: 'all'},\n",
       " 'ZnI': {3345.57: 'all'}}"
      ]
     },
     "execution_count": 19,
     "metadata": {},
     "output_type": "execute_result"
    }
   ],
   "source": [
    "rej_lines"
   ]
  },
  {
   "cell_type": "code",
   "execution_count": 20,
   "metadata": {
    "collapsed": false
   },
   "outputs": [
    {
     "data": {
      "text/plain": [
       "['lris_blue']"
      ]
     },
     "execution_count": 20,
     "metadata": {},
     "output_type": "execute_result"
    }
   ],
   "source": [
    "rej_lines['CdI'][3252.524].keys()#['lris_blue'])"
   ]
  },
  {
   "cell_type": "markdown",
   "metadata": {},
   "source": [
    "## Load a full line list"
   ]
  },
  {
   "cell_type": "code",
   "execution_count": 2,
   "metadata": {
    "collapsed": false
   },
   "outputs": [
    {
     "name": "stderr",
     "output_type": "stream",
     "text": [
      "\u001b[1;31m[WARNING] ::\u001b[0m Using arutils.dummy_self.  Better know what you are doing.\n",
      "\u001b[1;32m[INFO]    ::\u001b[0m Rejecting select CdI lines\n",
      "\u001b[1;32m[INFO]    ::\u001b[0m Rejecting select ArI lines\n",
      "\u001b[1;32m[INFO]    ::\u001b[0m Rejecting select NeI lines\n",
      "\u001b[1;32m[INFO]    ::\u001b[0m Rejecting select HgI lines\n"
     ]
    }
   ],
   "source": [
    "reload(alines)\n",
    "#alist = alines.load_arcline_list(None,['ZnI','CdI','HgI'])\n",
    "alist = alines.load_arcline_list(None,None,['CdI','ArI','NeI','HgI','KrI','XeI'],None)"
   ]
  },
  {
   "cell_type": "code",
   "execution_count": 3,
   "metadata": {
    "collapsed": false
   },
   "outputs": [
    {
     "data": {
      "text/plain": [
       "171"
      ]
     },
     "execution_count": 3,
     "metadata": {},
     "output_type": "execute_result"
    }
   ],
   "source": [
    "len(alist)"
   ]
  },
  {
   "cell_type": "code",
   "execution_count": 4,
   "metadata": {
    "collapsed": false
   },
   "outputs": [
    {
     "data": {
      "text/html": [
       "&lt;Table masked=True length=17&gt;\n",
       "<table id=\"table4574472592\">\n",
       "<thead><tr><th>Ion</th><th>wave</th><th>RelInt</th></tr></thead>\n",
       "<thead><tr><th>str5</th><th>float64</th><th>int64</th></tr></thead>\n",
       "<tr><td>ArI</td><td>7725.887</td><td>15000</td></tr>\n",
       "<tr><td>ArI</td><td>7726.333</td><td>10000</td></tr>\n",
       "<tr><td>ArI</td><td>7950.362</td><td>20000</td></tr>\n",
       "<tr><td>ArI</td><td>8008.359</td><td>20000</td></tr>\n",
       "<tr><td>ArI</td><td>8016.99</td><td>25000</td></tr>\n",
       "<tr><td>ArI</td><td>8105.921</td><td>20000</td></tr>\n",
       "<tr><td>ArI</td><td>8117.542</td><td>35000</td></tr>\n",
       "<tr><td>ArI</td><td>8266.794</td><td>10000</td></tr>\n",
       "<tr><td>ArI</td><td>8410.521</td><td>15000</td></tr>\n",
       "<tr><td>ArI</td><td>8426.963</td><td>20000</td></tr>\n",
       "<tr><td>ArI</td><td>8523.783</td><td>15000</td></tr>\n",
       "<tr><td>ArI</td><td>8670.325</td><td>4500</td></tr>\n",
       "<tr><td>ArI</td><td>9125.471</td><td>35000</td></tr>\n",
       "<tr><td>ArI</td><td>9227.03</td><td>15000</td></tr>\n",
       "<tr><td>ArI</td><td>9356.787</td><td>1600</td></tr>\n",
       "<tr><td>ArI</td><td>9660.435</td><td>25000</td></tr>\n",
       "<tr><td>ArI</td><td>9787.186</td><td>4500</td></tr>\n",
       "</table>"
      ],
      "text/plain": [
       "<Table masked=True length=17>\n",
       "Ion    wave   RelInt\n",
       "str5 float64  int64 \n",
       "---- -------- ------\n",
       " ArI 7725.887  15000\n",
       " ArI 7726.333  10000\n",
       " ArI 7950.362  20000\n",
       " ArI 8008.359  20000\n",
       " ArI  8016.99  25000\n",
       " ArI 8105.921  20000\n",
       " ArI 8117.542  35000\n",
       " ArI 8266.794  10000\n",
       " ArI 8410.521  15000\n",
       " ArI 8426.963  20000\n",
       " ArI 8523.783  15000\n",
       " ArI 8670.325   4500\n",
       " ArI 9125.471  35000\n",
       " ArI  9227.03  15000\n",
       " ArI 9356.787   1600\n",
       " ArI 9660.435  25000\n",
       " ArI 9787.186   4500"
      ]
     },
     "execution_count": 4,
     "metadata": {},
     "output_type": "execute_result"
    }
   ],
   "source": [
    "alist[(alist['Ion']=='ArI') & (alist['wave'] > 7700)]"
   ]
  },
  {
   "cell_type": "code",
   "execution_count": 5,
   "metadata": {
    "collapsed": false
   },
   "outputs": [
    {
     "data": {
      "text/html": [
       "&lt;Table masked=True length=0&gt;\n",
       "<table id=\"table4574473104\">\n",
       "<thead><tr><th>Ion</th><th>wave</th><th>RelInt</th></tr></thead>\n",
       "<thead><tr><th>str5</th><th>float64</th><th>int64</th></tr></thead>\n",
       "</table>"
      ],
      "text/plain": [
       "<Table masked=True length=0>\n",
       "Ion    wave  RelInt\n",
       "str5 float64 int64 \n",
       "---- ------- ------"
      ]
     },
     "execution_count": 5,
     "metadata": {},
     "output_type": "execute_result"
    }
   ],
   "source": [
    "alist[alist['Ion']=='HeI']"
   ]
  },
  {
   "cell_type": "code",
   "execution_count": 6,
   "metadata": {
    "collapsed": false
   },
   "outputs": [
    {
     "data": {
      "text/html": [
       "&lt;Table masked=True length=31&gt;\n",
       "<table id=\"table4574427792\">\n",
       "<thead><tr><th>Ion</th><th>wave</th><th>RelInt</th></tr></thead>\n",
       "<thead><tr><th>str5</th><th>float64</th><th>int64</th></tr></thead>\n",
       "<tr><td>KrI</td><td>4275.1722</td><td>1000</td></tr>\n",
       "<tr><td>KrI</td><td>4352.58282</td><td>100</td></tr>\n",
       "<tr><td>KrI</td><td>4363.86767</td><td>500</td></tr>\n",
       "<tr><td>KrI</td><td>4377.35124</td><td>800</td></tr>\n",
       "<tr><td>KrI</td><td>4401.20227</td><td>200</td></tr>\n",
       "<tr><td>KrI</td><td>4411.6068</td><td>50</td></tr>\n",
       "<tr><td>KrI</td><td>4426.43265</td><td>100</td></tr>\n",
       "<tr><td>KrI</td><td>4455.16765</td><td>600</td></tr>\n",
       "<tr><td>KrI</td><td>4464.94273</td><td>800</td></tr>\n",
       "<tr><td>KrI</td><td>4503.61721</td><td>600</td></tr>\n",
       "<tr><td>...</td><td>...</td><td>...</td></tr>\n",
       "<tr><td>KrI</td><td>8061.7211</td><td>100</td></tr>\n",
       "<tr><td>KrI</td><td>8106.5945</td><td>4000</td></tr>\n",
       "<tr><td>KrI</td><td>8115.132</td><td>500</td></tr>\n",
       "<tr><td>KrI</td><td>8192.3082</td><td>300</td></tr>\n",
       "<tr><td>KrI</td><td>8265.514</td><td>400</td></tr>\n",
       "<tr><td>KrI</td><td>8283.3284</td><td>200</td></tr>\n",
       "<tr><td>KrI</td><td>8300.3907</td><td>500</td></tr>\n",
       "<tr><td>KrI</td><td>8511.2106</td><td>200</td></tr>\n",
       "<tr><td>KrI</td><td>8779.1607</td><td>300</td></tr>\n",
       "<tr><td>KrI</td><td>8931.1447</td><td>200</td></tr>\n",
       "</table>"
      ],
      "text/plain": [
       "<Table masked=True length=31>\n",
       "Ion     wave    RelInt\n",
       "str5  float64   int64 \n",
       "---- ---------- ------\n",
       " KrI  4275.1722   1000\n",
       " KrI 4352.58282    100\n",
       " KrI 4363.86767    500\n",
       " KrI 4377.35124    800\n",
       " KrI 4401.20227    200\n",
       " KrI  4411.6068     50\n",
       " KrI 4426.43265    100\n",
       " KrI 4455.16765    600\n",
       " KrI 4464.94273    800\n",
       " KrI 4503.61721    600\n",
       " ...        ...    ...\n",
       " KrI  8061.7211    100\n",
       " KrI  8106.5945   4000\n",
       " KrI   8115.132    500\n",
       " KrI  8192.3082    300\n",
       " KrI   8265.514    400\n",
       " KrI  8283.3284    200\n",
       " KrI  8300.3907    500\n",
       " KrI  8511.2106    200\n",
       " KrI  8779.1607    300\n",
       " KrI  8931.1447    200"
      ]
     },
     "execution_count": 6,
     "metadata": {},
     "output_type": "execute_result"
    }
   ],
   "source": [
    "alist[alist['Ion']=='KrI']"
   ]
  },
  {
   "cell_type": "code",
   "execution_count": 7,
   "metadata": {
    "collapsed": false
   },
   "outputs": [
    {
     "data": {
      "text/html": [
       "&lt;Table masked=True length=11&gt;\n",
       "<table id=\"table4551810192\">\n",
       "<thead><tr><th>Ion</th><th>wave</th><th>RelInt</th></tr></thead>\n",
       "<thead><tr><th>str5</th><th>float64</th><th>int64</th></tr></thead>\n",
       "<tr><td>XeI</td><td>8233.8964</td><td>10000</td></tr>\n",
       "<tr><td>XeI</td><td>8282.3921</td><td>7000</td></tr>\n",
       "<tr><td>XeI</td><td>8349.1157</td><td>2000</td></tr>\n",
       "<tr><td>XeI</td><td>8411.5002</td><td>2000</td></tr>\n",
       "<tr><td>XeI</td><td>8821.8324</td><td>5000</td></tr>\n",
       "<tr><td>XeI</td><td>8954.7086</td><td>1000</td></tr>\n",
       "<tr><td>XeI</td><td>9802.384</td><td>2000</td></tr>\n",
       "<tr><td>XeI</td><td>9925.919</td><td>3000</td></tr>\n",
       "<tr><td>XeI</td><td>10841.31</td><td>1000</td></tr>\n",
       "<tr><td>XeI</td><td>11088.273</td><td>1900</td></tr>\n",
       "<tr><td>XeI</td><td>11745.45</td><td>1750</td></tr>\n",
       "</table>"
      ],
      "text/plain": [
       "<Table masked=True length=11>\n",
       "Ion     wave   RelInt\n",
       "str5  float64  int64 \n",
       "---- --------- ------\n",
       " XeI 8233.8964  10000\n",
       " XeI 8282.3921   7000\n",
       " XeI 8349.1157   2000\n",
       " XeI 8411.5002   2000\n",
       " XeI 8821.8324   5000\n",
       " XeI 8954.7086   1000\n",
       " XeI  9802.384   2000\n",
       " XeI  9925.919   3000\n",
       " XeI  10841.31   1000\n",
       " XeI 11088.273   1900\n",
       " XeI  11745.45   1750"
      ]
     },
     "execution_count": 7,
     "metadata": {},
     "output_type": "execute_result"
    }
   ],
   "source": [
    "alist[alist['Ion']=='XeI']"
   ]
  },
  {
   "cell_type": "markdown",
   "metadata": {},
   "source": [
    "## ISIS (CuAr, CuNe)"
   ]
  },
  {
   "cell_type": "code",
   "execution_count": 22,
   "metadata": {
    "collapsed": false
   },
   "outputs": [
    {
     "name": "stderr",
     "output_type": "stream",
     "text": [
      "\u001b[1;31m[WARNING] ::\u001b[0m Using arutils.dummy_self.  Better know what you are doing.\n",
      "\u001b[1;32m[INFO]    ::\u001b[0m Rejecting select ArI lines\n",
      "\u001b[1;32m[INFO]    ::\u001b[0m Rejecting select NeI lines\n"
     ]
    }
   ],
   "source": [
    "from pypit import pyputils\n",
    "msgs = pyputils.get_dummy_logger()\n",
    "\n",
    "from pypit import ararclines as alines\n",
    "from pypit import arwave as arwv\n",
    "alist = alines.load_arcline_list(None,None,['CuI','ArI','NeI'],None, \n",
    "                                 modify_parse_dict=dict(NeI={'min_wave': 3000.},ArI={'min_intensity': 399.}))"
   ]
  },
  {
   "cell_type": "code",
   "execution_count": 8,
   "metadata": {
    "collapsed": false
   },
   "outputs": [],
   "source": [
    "NeI = alist['Ion'] == 'NeI'"
   ]
  },
  {
   "cell_type": "code",
   "execution_count": 9,
   "metadata": {
    "collapsed": false
   },
   "outputs": [
    {
     "data": {
      "text/plain": [
       "3455.1837999999998"
      ]
     },
     "execution_count": 9,
     "metadata": {},
     "output_type": "execute_result"
    }
   ],
   "source": [
    "np.min(alist[NeI]['wave'])"
   ]
  },
  {
   "cell_type": "code",
   "execution_count": 10,
   "metadata": {
    "collapsed": false
   },
   "outputs": [
    {
     "data": {
      "text/html": [
       "&lt;Table masked=True length=88&gt;\n",
       "<table id=\"table4616956752\">\n",
       "<thead><tr><th>Ion</th><th>wave</th><th>RelInt</th></tr></thead>\n",
       "<thead><tr><th>str5</th><th>float64</th><th>int64</th></tr></thead>\n",
       "<tr><td>NeI</td><td>3455.1838</td><td>1000</td></tr>\n",
       "<tr><td>NeI</td><td>3473.5649</td><td>5000</td></tr>\n",
       "<tr><td>NeI</td><td>3502.2171</td><td>2000</td></tr>\n",
       "<tr><td>NeI</td><td>3511.7248</td><td>500</td></tr>\n",
       "<tr><td>NeI</td><td>3516.1952</td><td>2000</td></tr>\n",
       "<tr><td>NeI</td><td>3521.478</td><td>10000</td></tr>\n",
       "<tr><td>NeI</td><td>3594.5517</td><td>5000</td></tr>\n",
       "<tr><td>NeI</td><td>3594.6639</td><td>3000</td></tr>\n",
       "<tr><td>NeI</td><td>3601.1965</td><td>1000</td></tr>\n",
       "<tr><td>NeI</td><td>3634.7001</td><td>1000</td></tr>\n",
       "<tr><td>...</td><td>...</td><td>...</td></tr>\n",
       "<tr><td>NeI</td><td>8585.2609</td><td>1600</td></tr>\n",
       "<tr><td>NeI</td><td>8649.4164</td><td>6000</td></tr>\n",
       "<tr><td>NeI</td><td>8656.7599</td><td>64000</td></tr>\n",
       "<tr><td>NeI</td><td>8684.3062</td><td>15000</td></tr>\n",
       "<tr><td>NeI</td><td>8774.0664</td><td>10000</td></tr>\n",
       "<tr><td>NeI</td><td>8786.166</td><td>43000</td></tr>\n",
       "<tr><td>NeI</td><td>8867.7399</td><td>2100</td></tr>\n",
       "<tr><td>NeI</td><td>9204.2841</td><td>8900</td></tr>\n",
       "<tr><td>NeI</td><td>9489.2849</td><td>5000</td></tr>\n",
       "<tr><td>NeI</td><td>9536.7793</td><td>6100</td></tr>\n",
       "</table>"
      ],
      "text/plain": [
       "<Table masked=True length=88>\n",
       "Ion     wave   RelInt\n",
       "str5  float64  int64 \n",
       "---- --------- ------\n",
       " NeI 3455.1838   1000\n",
       " NeI 3473.5649   5000\n",
       " NeI 3502.2171   2000\n",
       " NeI 3511.7248    500\n",
       " NeI 3516.1952   2000\n",
       " NeI  3521.478  10000\n",
       " NeI 3594.5517   5000\n",
       " NeI 3594.6639   3000\n",
       " NeI 3601.1965   1000\n",
       " NeI 3634.7001   1000\n",
       " ...       ...    ...\n",
       " NeI 8585.2609   1600\n",
       " NeI 8649.4164   6000\n",
       " NeI 8656.7599  64000\n",
       " NeI 8684.3062  15000\n",
       " NeI 8774.0664  10000\n",
       " NeI  8786.166  43000\n",
       " NeI 8867.7399   2100\n",
       " NeI 9204.2841   8900\n",
       " NeI 9489.2849   5000\n",
       " NeI 9536.7793   6100"
      ]
     },
     "execution_count": 10,
     "metadata": {},
     "output_type": "execute_result"
    }
   ],
   "source": [
    "alist[NeI]"
   ]
  },
  {
   "cell_type": "code",
   "execution_count": 3,
   "metadata": {
    "collapsed": false
   },
   "outputs": [
    {
     "data": {
      "text/html": [
       "&lt;Table length=199&gt;\n",
       "<table id=\"table4616991248\">\n",
       "<thead><tr><th>wave</th><th>flag</th><th>label</th></tr></thead>\n",
       "<thead><tr><th>float64</th><th>int64</th><th>str9</th></tr></thead>\n",
       "<tr><td>3247.54</td><td>1</td><td>CuAr+CuNe</td></tr>\n",
       "<tr><td>3273.962</td><td>1</td><td>CuAr+CuNe</td></tr>\n",
       "<tr><td>3447.703</td><td>1</td><td>CuAr+CuNe</td></tr>\n",
       "<tr><td>3520.472</td><td>1</td><td>CuAr+CuNe</td></tr>\n",
       "<tr><td>3713.08</td><td>1</td><td>CuAr+CuNe</td></tr>\n",
       "<tr><td>3777.13</td><td>1</td><td>CuAr+CuNe</td></tr>\n",
       "<tr><td>3947.53</td><td>1</td><td>CuAr+CuNe</td></tr>\n",
       "<tr><td>4022.66</td><td>1</td><td>CuAr+CuNe</td></tr>\n",
       "<tr><td>4043.9</td><td>1</td><td>CuAr+CuNe</td></tr>\n",
       "<tr><td>4072.11</td><td>1</td><td>CuAr+CuNe</td></tr>\n",
       "<tr><td>...</td><td>...</td><td>...</td></tr>\n",
       "<tr><td>9194.639</td><td>1</td><td>CuAr+CuNe</td></tr>\n",
       "<tr><td>9224.499</td><td>1</td><td>CuAr+CuNe</td></tr>\n",
       "<tr><td>9291.531</td><td>1</td><td>CuAr+CuNe</td></tr>\n",
       "<tr><td>9300.85</td><td>1</td><td>CuAr+CuNe</td></tr>\n",
       "<tr><td>9326.52</td><td>1</td><td>CuAr+CuNe</td></tr>\n",
       "<tr><td>9354.22</td><td>1</td><td>CuAr+CuNe</td></tr>\n",
       "<tr><td>9425.38</td><td>1</td><td>CuAr+CuNe</td></tr>\n",
       "<tr><td>9657.786</td><td>1</td><td>CuAr+CuNe</td></tr>\n",
       "<tr><td>9665.424</td><td>1</td><td>CuAr+CuNe</td></tr>\n",
       "<tr><td>9784.503</td><td>1</td><td>CuAr+CuNe</td></tr>\n",
       "</table>"
      ],
      "text/plain": [
       "<Table length=199>\n",
       "  wave    flag   label  \n",
       "float64  int64    str9  \n",
       "-------- ----- ---------\n",
       " 3247.54     1 CuAr+CuNe\n",
       "3273.962     1 CuAr+CuNe\n",
       "3447.703     1 CuAr+CuNe\n",
       "3520.472     1 CuAr+CuNe\n",
       " 3713.08     1 CuAr+CuNe\n",
       " 3777.13     1 CuAr+CuNe\n",
       " 3947.53     1 CuAr+CuNe\n",
       " 4022.66     1 CuAr+CuNe\n",
       "  4043.9     1 CuAr+CuNe\n",
       " 4072.11     1 CuAr+CuNe\n",
       "     ...   ...       ...\n",
       "9194.639     1 CuAr+CuNe\n",
       "9224.499     1 CuAr+CuNe\n",
       "9291.531     1 CuAr+CuNe\n",
       " 9300.85     1 CuAr+CuNe\n",
       " 9326.52     1 CuAr+CuNe\n",
       " 9354.22     1 CuAr+CuNe\n",
       " 9425.38     1 CuAr+CuNe\n",
       "9657.786     1 CuAr+CuNe\n",
       "9665.424     1 CuAr+CuNe\n",
       "9784.503     1 CuAr+CuNe"
      ]
     },
     "execution_count": 3,
     "metadata": {},
     "output_type": "execute_result"
    }
   ],
   "source": [
    "isis = Table.read('ISIS_CuNeCuAr.lst', format='ascii')\n",
    "isis"
   ]
  },
  {
   "cell_type": "code",
   "execution_count": 4,
   "metadata": {
    "collapsed": false
   },
   "outputs": [],
   "source": [
    "isis_vac = arwv.airtovac(isis['wave']*u.AA)"
   ]
  },
  {
   "cell_type": "code",
   "execution_count": 23,
   "metadata": {
    "collapsed": false
   },
   "outputs": [],
   "source": [
    "pyp_vac = alist['wave']*u.AA"
   ]
  },
  {
   "cell_type": "code",
   "execution_count": 26,
   "metadata": {
    "collapsed": false
   },
   "outputs": [
    {
     "name": "stdout",
     "output_type": "stream",
     "text": [
      "3247.54   3248.47695931 Angstrom\n",
      "3273.962  3274.905665 Angstrom  \n",
      "3447.703  3448.69100016 Angstrom\n",
      "3520.472  3521.47868082 Angstrom\n",
      "3713.08   3714.13639437 Angstrom\n",
      "3777.13   3778.20300291 Angstrom\n",
      "3947.53   3948.64734975 Angstrom\n",
      "4022.66   4023.7969697 Angstrom \n",
      "4043.9    4045.0425233 Angstrom \n",
      "4072.11   4073.25990385 Angstrom\n",
      "4103.912  4105.07023016 Angstrom\n",
      "4131.724  4132.8895169 Angstrom \n",
      "4158.591  4159.76356044 Angstrom\n",
      "4181.884  4183.06267041 Angstrom\n",
      "4190.87   4192.05102835 Angstrom\n",
      "4198.317  4199.49998281 Angstrom\n",
      "4259.362  4260.56101556 Angstrom\n",
      "4275.11   4276.31315485 Angstrom\n",
      "4277.528  4278.73179053 Angstrom\n",
      "4300.101  4301.31072631 Angstrom\n",
      "4331.31   4332.52793733 Angstrom\n",
      "4348.064  4349.2863473 Angstrom \n",
      "4370.753  4371.98132168 Angstrom\n",
      "4427.05   4428.29315632 Angstrom\n",
      "4474.759  4476.01473952 Angstrom\n",
      "4481.811  4483.06860036 Angstrom\n",
      "4510.733  4511.99823439 Angstrom\n",
      "4530.82   4532.09053855 Angstrom\n",
      "4545.052  4546.32629768 Angstrom\n",
      "4579.35   4580.63336041 Angstrom\n",
      "4589.899  4591.18514881 Angstrom\n",
      "4609.567  4610.85834882 Angstrom\n",
      "4651.13   4652.43234274 Angstrom\n",
      "4657.901  4659.2051344 Angstrom \n",
      "4702.316  4703.6318913 Angstrom \n",
      "4704.395  4705.71144181 Angstrom\n",
      "4726.868  4728.19039355 Angstrom\n",
      "4735.906  4737.2307877 Angstrom \n",
      "4764.865  4766.19746088 Angstrom\n",
      "4806.021  4807.36437103 Angstrom\n",
      "4847.81   4849.16445502 Angstrom\n",
      "4879.864  4881.22696092 Angstrom\n",
      "4884.915  4886.27930158 Angstrom\n",
      "4889.042  4890.40739704 Angstrom\n",
      "4933.209  4934.58612413 Angstrom\n",
      "4965.08   4966.46559028 Angstrom\n",
      "5009.334  5010.73135106 Angstrom\n",
      "5017.163  5018.56243228 Angstrom\n",
      "5037.7505 5039.15540604 Angstrom\n",
      "5062.037  5063.44836489 Angstrom\n",
      "5080.383  5081.79924504 Angstrom\n",
      "5090.495  5091.91393531 Angstrom\n",
      "5105.541  5106.96393879 Angstrom\n",
      "5116.503  5117.928856 Angstrom  \n",
      "5141.783  5143.21558478 Angstrom\n",
      "5153.235  5154.67063355 Angstrom\n",
      "5162.285  5163.7230431 Angstrom \n",
      "5187.746  5189.19082327 Angstrom\n",
      "5218.202  5219.65493585 Angstrom\n",
      "5221.07   5222.52369993 Angstrom\n",
      "5253.13   5254.59224264 Angstrom\n",
      "5330.778  5332.26094354 Angstrom\n",
      "5341.091  5342.5766941 Angstrom \n",
      "5373.494  5374.98833792 Angstrom\n",
      "5400.5619 5402.06346045 Angstrom\n",
      "5421.352  5422.85910904 Angstrom\n",
      "5451.652  5453.16719747 Angstrom\n",
      "5495.874  5497.40100603 Angstrom\n",
      "5506.113  5507.64274076 Angstrom\n",
      "5524.957  5526.49177439 Angstrom\n",
      "5558.702  5560.2457903 Angstrom \n",
      "5572.541  5574.08848847 Angstrom\n",
      "5606.733  5608.28962726 Angstrom\n",
      "5650.704  5652.27238329 Angstrom\n",
      "5681.9    5683.47672618 Angstrom\n",
      "5689.91   5691.48886864 Angstrom\n",
      "5739.52   5741.11214076 Angstrom\n",
      "5748.299  5749.89348989 Angstrom\n",
      "5764.418  5766.01680347 Angstrom\n",
      "5772.114  5773.71486316 Angstrom\n",
      "5802.08   5803.68888404 Angstrom\n",
      "5834.263  5835.88050017 Angstrom\n",
      "5852.4878 5854.1101802 Angstrom \n",
      "5860.31   5861.93447493 Angstrom\n",
      "5881.895  5883.52525578 Angstrom\n",
      "5882.624  5884.25445103 Angstrom\n",
      "5888.584  5890.21604738 Angstrom\n",
      "5912.085  5913.72334257 Angstrom\n",
      "5928.813  5930.45582407 Angstrom\n",
      "5944.834  5946.4811166 Angstrom \n",
      "5975.534  5977.18934332 Angstrom\n",
      "5987.302  5988.96049723 Angstrom\n",
      "5998.999  6000.66063233 Angstrom\n",
      "6025.15   6026.8186423 Angstrom \n",
      "6030.0    6031.6699425 Angstrom \n",
      "6032.127  6033.79751272 Angstrom\n",
      "6043.223  6044.89648755 Angstrom\n",
      "6052.723  6054.39903464 Angstrom\n",
      "6059.373  6061.05081769 Angstrom\n",
      "6074.338  6076.01983049 Angstrom\n",
      "6096.163  6097.8506834 Angstrom \n",
      "6098.803  6100.49139143 Angstrom\n",
      "6105.635  6107.32522377 Angstrom\n",
      "6114.923  6116.61571494 Angstrom\n",
      "6143.063  6144.76326327 Angstrom\n",
      "6145.441  6147.14190121 Angstrom\n",
      "6155.239  6156.94252977 Angstrom\n",
      "6163.594  6165.29977131 Angstrom\n",
      "6172.03   6173.7380347 Angstrom \n",
      "6214.02   6215.73930224 Angstrom\n",
      "6217.281  6219.0011774 Angstrom \n",
      "6243.12   6244.84711241 Angstrom\n",
      "6266.495  6268.22838693 Angstrom\n",
      "6296.872  6298.61354214 Angstrom\n",
      "6304.789  6306.53266781 Angstrom\n",
      "6307.657  6309.40143787 Angstrom\n",
      "6334.428  6336.17962647 Angstrom\n",
      "6369.575  6371.3360657 Angstrom \n",
      "6382.991  6384.7556692 Angstrom \n",
      "6384.717  6386.48213282 Angstrom\n",
      "6402.247  6404.01684173 Angstrom\n",
      "6416.307  6418.08061883 Angstrom\n",
      "6506.528  6508.32586204 Angstrom\n",
      "6532.882  6534.68694556 Angstrom\n",
      "6598.953  6600.77570813 Angstrom\n",
      "6677.282  6679.12577293 Angstrom\n",
      "6678.277  6680.12104056 Angstrom\n",
      "6684.293  6686.13865873 Angstrom\n",
      "6717.043  6718.89746848 Angstrom\n",
      "6752.834  6754.69809766 Angstrom\n",
      "6871.289  6873.18497675 Angstrom\n",
      "6929.468  6931.3796396 Angstrom \n",
      "6937.664  6939.57784639 Angstrom\n",
      "6965.43   6967.35132297 Angstrom\n",
      "7030.252  7032.19078067 Angstrom\n",
      "7032.413  7034.35236273 Angstrom\n",
      "7067.218  7069.16673811 Angstrom\n",
      "7107.478  7109.43758435 Angstrom\n",
      "7125.82   7127.78452628 Angstrom\n",
      "7147.042  7149.01224458 Angstrom\n",
      "7173.939  7175.91649261 Angstrom\n",
      "7206.98   7208.9663972 Angstrom \n",
      "7245.167  7247.16368987 Angstrom\n",
      "7272.936  7274.94017536 Angstrom\n",
      "7311.716  7313.73063013 Angstrom\n",
      "7353.293  7355.31884041 Angstrom\n",
      "7372.118  7374.14891661 Angstrom\n",
      "7383.981  7386.01511565 Angstrom\n",
      "7535.775  7537.85005945 Angstrom\n",
      "7635.106  7637.20786214 Angstrom\n",
      "7435.368  7437.41597431 Angstrom\n",
      "7438.899  7440.94792667 Angstrom\n",
      "7471.164  7473.22162948 Angstrom\n",
      "7488.872  7490.9344062 Angstrom \n",
      "7503.869  7505.93545182 Angstrom\n",
      "7514.652  7516.72136078 Angstrom\n",
      "7723.98   7726.1058495 Angstrom \n",
      "7891.075  7893.24596432 Angstrom\n",
      "7943.18   7945.36503635 Angstrom\n",
      "7948.176  7950.36238572 Angstrom\n",
      "8006.157  8008.35904699 Angstrom\n",
      "8014.786  8016.99037796 Angstrom\n",
      "8053.309  8055.52378484 Angstrom\n",
      "8082.458  8084.68065999 Angstrom\n",
      "8103.693  8105.92139736 Angstrom\n",
      "8115.311  8117.54253649 Angstrom\n",
      "8136.406  8138.64323646 Angstrom\n",
      "8264.523  8266.79486013 Angstrom\n",
      "8266.08   8268.35228097 Angstrom\n",
      "8300.326  8302.60753765 Angstrom\n",
      "8377.607  8379.90942914 Angstrom\n",
      "8408.21   8410.52070303 Angstrom\n",
      "8418.427  8420.74046544 Angstrom\n",
      "8424.648  8426.96314746 Angstrom\n",
      "8495.36   8497.69426791 Angstrom\n",
      "8521.442  8523.78332114 Angstrom\n",
      "8591.258  8593.61820291 Angstrom\n",
      "8605.776  8608.14012963 Angstrom\n",
      "8634.648  8637.01993904 Angstrom\n",
      "8654.383  8656.76027728 Angstrom\n",
      "8667.944  8670.32494559 Angstrom\n",
      "8761.686  8764.09230575 Angstrom\n",
      "8849.97   8852.40019326 Angstrom\n",
      "8853.866  8856.29724751 Angstrom\n",
      "8865.67   8868.10444169 Angstrom\n",
      "8919.5    8921.949009 Angstrom  \n",
      "9075.395  9077.88620427 Angstrom\n",
      "9122.967  9125.47108247 Angstrom\n",
      "9148.68   9151.19104364 Angstrom\n",
      "9194.639  9197.16248661 Angstrom\n",
      "9224.499  9227.0305714 Angstrom \n",
      "9291.531  9294.08072211 Angstrom\n",
      "9300.85   9303.40224562 Angstrom\n",
      "9326.52   9329.07919704 Angstrom\n",
      "9354.22   9356.78669848 Angstrom\n",
      "9425.38   9427.96597071 Angstrom\n",
      "9657.786  9660.43492659 Angstrom\n",
      "9665.424  9668.07499597 Angstrom\n",
      "9784.503  9787.18626093 Angstrom\n"
     ]
    }
   ],
   "source": [
    "xdb.xpcol(isis['wave'],isis_vac)"
   ]
  },
  {
   "cell_type": "code",
   "execution_count": 25,
   "metadata": {
    "collapsed": false
   },
   "outputs": [
    {
     "name": "stdout",
     "output_type": "stream",
     "text": [
      "No match for 3448.69 Angstrom\n",
      "No match for 3714.14 Angstrom\n",
      "No match for 3778.2 Angstrom\n",
      "No match for 3948.65 Angstrom\n",
      "No match for 4045.04 Angstrom\n",
      "No match for 4073.26 Angstrom\n",
      "No match for 4105.07 Angstrom\n",
      "No match for 4132.89 Angstrom\n",
      "No match for 4183.06 Angstrom\n",
      "No match for 4192.05 Angstrom\n",
      "No match for 4199.5 Angstrom\n",
      "No match for 4278.73 Angstrom\n",
      "No match for 4301.31 Angstrom\n",
      "No match for 4332.53 Angstrom\n",
      "No match for 4349.29 Angstrom\n",
      "No match for 4371.98 Angstrom\n",
      "No match for 4428.29 Angstrom\n",
      "No match for 4476.01 Angstrom\n",
      "No match for 4483.07 Angstrom\n",
      "No match for 4512 Angstrom\n",
      "No match for 4546.33 Angstrom\n",
      "No match for 4580.63 Angstrom\n",
      "No match for 4591.19 Angstrom\n",
      "No match for 4610.86 Angstrom\n",
      "No match for 4659.21 Angstrom\n",
      "No match for 4703.63 Angstrom\n",
      "No match for 4705.71 Angstrom\n",
      "No match for 4728.19 Angstrom\n",
      "No match for 4737.23 Angstrom\n",
      "No match for 4766.2 Angstrom\n",
      "No match for 4807.36 Angstrom\n",
      "No match for 4849.16 Angstrom\n",
      "No match for 4881.23 Angstrom\n",
      "No match for 4886.28 Angstrom\n",
      "No match for 4890.41 Angstrom\n",
      "No match for 4934.59 Angstrom\n",
      "No match for 4966.47 Angstrom\n",
      "No match for 5010.73 Angstrom\n",
      "No match for 5018.56 Angstrom\n",
      "No match for 5039.16 Angstrom\n",
      "No match for 5063.45 Angstrom\n",
      "No match for 5081.8 Angstrom\n",
      "No match for 5091.91 Angstrom\n",
      "No match for 5117.93 Angstrom\n",
      "No match for 5143.22 Angstrom\n",
      "No match for 5163.72 Angstrom\n",
      "No match for 5189.19 Angstrom\n",
      "No match for 5222.52 Angstrom\n",
      "No match for 5254.59 Angstrom\n",
      "No match for 5332.26 Angstrom\n",
      "No match for 5374.99 Angstrom\n",
      "No match for 5422.86 Angstrom\n",
      "No match for 5453.17 Angstrom\n",
      "No match for 5497.4 Angstrom\n",
      "No match for 5507.64 Angstrom\n",
      "No match for 5526.49 Angstrom\n",
      "No match for 5560.25 Angstrom\n",
      "No match for 5574.09 Angstrom\n",
      "No match for 5608.29 Angstrom\n",
      "No match for 5652.27 Angstrom\n",
      "No match for 5683.48 Angstrom\n",
      "No match for 5691.49 Angstrom\n",
      "No match for 5741.11 Angstrom\n",
      "No match for 5749.89 Angstrom\n",
      "No match for 5766.02 Angstrom\n",
      "No match for 5773.71 Angstrom\n",
      "No match for 5803.69 Angstrom\n",
      "No match for 5835.88 Angstrom\n",
      "No match for 5861.93 Angstrom\n",
      "No match for 5884.25 Angstrom\n",
      "No match for 5890.22 Angstrom\n",
      "No match for 5913.72 Angstrom\n",
      "No match for 5930.46 Angstrom\n",
      "No match for 5988.96 Angstrom\n",
      "No match for 6000.66 Angstrom\n",
      "No match for 6026.82 Angstrom\n",
      "No match for 6033.8 Angstrom\n",
      "No match for 6044.9 Angstrom\n",
      "No match for 6054.4 Angstrom\n",
      "No match for 6061.05 Angstrom\n",
      "No match for 6100.49 Angstrom\n",
      "No match for 6107.33 Angstrom\n",
      "No match for 6116.62 Angstrom\n",
      "No match for 6147.14 Angstrom\n",
      "No match for 6156.94 Angstrom\n",
      "No match for 6173.74 Angstrom\n",
      "No match for 6215.74 Angstrom\n",
      "No match for 6244.85 Angstrom\n",
      "No match for 6298.61 Angstrom\n",
      "No match for 6309.4 Angstrom\n",
      "No match for 6371.34 Angstrom\n",
      "No match for 6386.48 Angstrom\n",
      "No match for 6418.08 Angstrom\n",
      "No match for 6679.13 Angstrom\n",
      "No match for 6686.14 Angstrom\n",
      "No match for 6754.7 Angstrom\n",
      "No match for 6873.18 Angstrom\n",
      "No match for 6939.58 Angstrom\n",
      "No match for 7032.19 Angstrom\n",
      "No match for 7109.44 Angstrom\n",
      "No match for 7127.78 Angstrom\n",
      "No match for 7208.97 Angstrom\n",
      "No match for 7313.73 Angstrom\n",
      "No match for 7355.32 Angstrom\n",
      "No match for 7374.15 Angstrom\n",
      "No match for 7437.42 Angstrom\n",
      "No match for 7473.22 Angstrom\n",
      "No match for 7726.11 Angstrom\n",
      "No match for 7893.25 Angstrom\n",
      "No match for 7945.37 Angstrom\n",
      "No match for 8055.52 Angstrom\n",
      "No match for 8138.64 Angstrom\n",
      "No match for 8268.35 Angstrom\n",
      "No match for 8302.61 Angstrom\n",
      "No match for 8420.74 Angstrom\n",
      "No match for 8593.62 Angstrom\n",
      "No match for 8608.14 Angstrom\n",
      "No match for 8637.02 Angstrom\n",
      "No match for 8764.09 Angstrom\n",
      "No match for 8852.4 Angstrom\n",
      "No match for 8856.3 Angstrom\n",
      "No match for 8868.1 Angstrom\n",
      "No match for 8921.95 Angstrom\n",
      "No match for 9077.89 Angstrom\n",
      "No match for 9151.19 Angstrom\n",
      "No match for 9303.4 Angstrom\n",
      "No match for 9329.08 Angstrom\n",
      "No match for 9427.97 Angstrom\n",
      "No match for 9668.07 Angstrom\n"
     ]
    }
   ],
   "source": [
    "for ivac in isis_vac:\n",
    "    mdiff = np.min(np.abs(ivac-pyp_vac))\n",
    "    if mdiff > 0.1*u.AA:\n",
    "        print(\"No match for {:g}\".format(ivac))"
   ]
  },
  {
   "cell_type": "code",
   "execution_count": 19,
   "metadata": {
    "collapsed": false
   },
   "outputs": [
    {
     "data": {
      "text/plain": [
       "{'color': 'blue', 'dum': '1'}"
      ]
     },
     "execution_count": 19,
     "metadata": {},
     "output_type": "execute_result"
    }
   ],
   "source": [
    "d1 = dict(color='red', dum='1')\n",
    "d2 = dict(color='blue')\n",
    "d1.update(d2)\n",
    "d1"
   ]
  },
  {
   "cell_type": "code",
   "execution_count": null,
   "metadata": {
    "collapsed": true
   },
   "outputs": [],
   "source": []
  }
 ],
 "metadata": {
  "kernelspec": {
   "display_name": "Python 2",
   "language": "python",
   "name": "python2"
  },
  "language_info": {
   "codemirror_mode": {
    "name": "ipython",
    "version": 2
   },
   "file_extension": ".py",
   "mimetype": "text/x-python",
   "name": "python",
   "nbconvert_exporter": "python",
   "pygments_lexer": "ipython2",
   "version": "2.7.11"
  }
 },
 "nbformat": 4,
 "nbformat_minor": 0
}
