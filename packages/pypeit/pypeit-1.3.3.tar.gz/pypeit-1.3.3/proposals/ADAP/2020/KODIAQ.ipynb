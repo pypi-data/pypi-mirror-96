{
 "cells": [
  {
   "cell_type": "markdown",
   "metadata": {},
   "source": [
    "# KODIAQ"
   ]
  },
  {
   "cell_type": "code",
   "execution_count": 18,
   "metadata": {},
   "outputs": [],
   "source": [
    "# imports\n",
    "import pandas\n",
    "import numpy as np\n",
    "\n",
    "from matplotlib import pyplot as plt\n",
    "\n",
    "from astropy.table import Table\n",
    "from astropy.coordinates import SkyCoord, match_coordinates_sky\n",
    "from astropy import units\n",
    "\n",
    "from specdb import specdb"
   ]
  },
  {
   "cell_type": "markdown",
   "metadata": {},
   "source": [
    "# Load KOA"
   ]
  },
  {
   "cell_type": "code",
   "execution_count": 2,
   "metadata": {},
   "outputs": [],
   "source": [
    "all_qsos = pandas.read_fwf('qso_results.txt')"
   ]
  },
  {
   "cell_type": "code",
   "execution_count": 3,
   "metadata": {},
   "outputs": [],
   "source": [
    "all_qsos['total'] = all_qsos['nires'] + all_qsos['mosfire'] + all_qsos['nirspec'] + all_qsos['esi'] + all_qsos['deimos'] + all_qsos['hires']"
   ]
  },
  {
   "cell_type": "code",
   "execution_count": 10,
   "metadata": {},
   "outputs": [],
   "source": [
    "qsos = Table.read('qso_rsg4p5_v2.0_all_20200609.fits')"
   ]
  },
  {
   "cell_type": "markdown",
   "metadata": {},
   "source": [
    "# Load KODIAQ"
   ]
  },
  {
   "cell_type": "code",
   "execution_count": 5,
   "metadata": {},
   "outputs": [
    {
     "name": "stdout",
     "output_type": "stream",
     "text": [
      "Loading igmspec from /data/spec_DB/IGMspec_DB_v03.1.hdf5\n"
     ]
    },
    {
     "name": "stderr",
     "output_type": "stream",
     "text": [
      "/data/Projects/Python/specdb/specdb/query_catalog.py:69: H5pyDeprecationWarning: dataset.value has been deprecated. Use dataset[()] instead.\n",
      "  self.cat = Table(hdf['catalog'].value)\n"
     ]
    },
    {
     "name": "stdout",
     "output_type": "stream",
     "text": [
      "Database is igmspec\n",
      "Created on 2019-Mar-06\n",
      "Version: v03.1\n"
     ]
    }
   ],
   "source": [
    "igmspec = specdb.IgmSpec()"
   ]
  },
  {
   "cell_type": "code",
   "execution_count": 6,
   "metadata": {},
   "outputs": [
    {
     "data": {
      "text/plain": [
       "['BOSS_DR14',\n",
       " 'SQUAD_DR1',\n",
       " 'ESI_z6',\n",
       " 'KODIAQ_DR2',\n",
       " 'SDSS_DR7',\n",
       " 'KODIAQ_DR1',\n",
       " 'HD-LLS_DR1',\n",
       " 'GGG',\n",
       " 'HST_z2',\n",
       " 'XQ-100',\n",
       " 'HDLA100',\n",
       " '2QZ',\n",
       " 'ESI_DLA',\n",
       " 'COS-Halos',\n",
       " 'COS-Dwarfs',\n",
       " 'HSTQSO',\n",
       " 'MUSoDLA',\n",
       " 'UVES_Dall',\n",
       " 'UVpSM4']"
      ]
     },
     "execution_count": 6,
     "metadata": {},
     "output_type": "execute_result"
    }
   ],
   "source": [
    "igmspec.groups"
   ]
  },
  {
   "cell_type": "markdown",
   "metadata": {},
   "source": [
    "# Coords"
   ]
  },
  {
   "cell_type": "markdown",
   "metadata": {},
   "source": [
    "## KOA"
   ]
  },
  {
   "cell_type": "code",
   "execution_count": 16,
   "metadata": {},
   "outputs": [
    {
     "data": {
      "text/plain": [
       "194"
      ]
     },
     "execution_count": 16,
     "metadata": {},
     "output_type": "execute_result"
    }
   ],
   "source": [
    "subset = all_qsos['total'] > 0\n",
    "sub_koa = qsos[subset.values]\n",
    "len(sub_koa)"
   ]
  },
  {
   "cell_type": "code",
   "execution_count": 19,
   "metadata": {},
   "outputs": [],
   "source": [
    "koa_coord = SkyCoord(ra=sub_koa['RA'], dec=sub_koa['DEC'], frame='icrs', unit=(units.hourangle, units.deg))"
   ]
  },
  {
   "cell_type": "markdown",
   "metadata": {},
   "source": [
    "## KODIAQ1"
   ]
  },
  {
   "cell_type": "code",
   "execution_count": 24,
   "metadata": {},
   "outputs": [
    {
     "data": {
      "text/html": [
       "<i>Table length=3</i>\n",
       "<table id=\"table140436842960936\" class=\"table-striped table-bordered table-condensed\">\n",
       "<thead><tr><th>zem_GROUP</th><th>kodetime</th><th>kodwblue</th><th>kodwred</th><th>kodrelease</th><th>RA_GROUP</th><th>DEC_GROUP</th><th>sig_zem</th><th>EPOCH</th><th>NPIX</th><th>WV_MIN</th><th>WV_MAX</th><th>R</th><th>GROUP_ID</th><th>IGM_ID</th><th>qso</th><th>sRA</th><th>sDEC</th><th>pi_date</th><th>spec_prefix</th><th>redux_setup</th><th>targname</th><th>deckname</th><th>elaptime</th><th>qaflag</th><th>DATE-OBS</th><th>STYPE</th><th>flag_zem</th><th>SPEC_FILE</th><th>INSTR</th><th>TELESCOPE</th><th>DISPERSER</th></tr></thead>\n",
       "<thead><tr><th>float64</th><th>int64</th><th>int64</th><th>int64</th><th>int64</th><th>float64</th><th>float64</th><th>float64</th><th>float64</th><th>int64</th><th>float64</th><th>float64</th><th>float64</th><th>int64</th><th>int64</th><th>str14</th><th>str11</th><th>str12</th><th>str27</th><th>str20</th><th>str8</th><th>str14</th><th>str2</th><th>str18</th><th>str4</th><th>str10</th><th>str3</th><th>str6</th><th>str27</th><th>str5</th><th>str6</th><th>str4</th></tr></thead>\n",
       "<tr><td>2.350</td><td>1200</td><td>3334</td><td>6198</td><td>1</td><td>2.38096</td><td>2.28542</td><td>0.0</td><td>2000.0</td><td>71497</td><td>3334.1</td><td>6198.2</td><td>48000.0</td><td>0</td><td>526970</td><td>J000931+021707</td><td>00:09:31.43</td><td>+02:17:07.5</td><td>Tytler_Dec_10_12_13_14_2009</td><td>J000931+021707</td><td>Setup_2</td><td>0009+0217</td><td>C1</td><td>1200</td><td>ok</td><td>2009-12-10</td><td>QSO</td><td>SIMBAD</td><td>J000931+021707_f.fits</td><td>HIRES</td><td>Keck-I</td><td>BLUE</td></tr>\n",
       "<tr><td>2.596</td><td>700</td><td>3366</td><td>6198</td><td>1</td><td>5.36396</td><td>-2.05933</td><td>0.0</td><td>2000.0</td><td>70404</td><td>3365.8</td><td>6198.2</td><td>48000.0</td><td>1</td><td>526971</td><td>J002127-020333</td><td>00:21:27.35</td><td>-02:03:33.6</td><td>Tytler_Dec_10_12_13_14_2009</td><td>J002127-020333</td><td>Setup_2</td><td>0021-0203</td><td>C1</td><td>700</td><td>ok</td><td>2009-12-10</td><td>QSO</td><td>SIMBAD</td><td>J002127-020333_f.fits</td><td>HIRES</td><td>Keck-I</td><td>BLUE</td></tr>\n",
       "<tr><td>2.400</td><td>600</td><td>3366</td><td>6198</td><td>1</td><td>7.12683</td><td>-28.28467</td><td>0.0</td><td>2000.0</td><td>70404</td><td>3365.9</td><td>6198.2</td><td>48000.0</td><td>2</td><td>526972</td><td>J002830-281704</td><td>00:28:30.44</td><td>-28:17:04.8</td><td>Tytler_Dec_10_12_13_14_2009</td><td>J002830-281704</td><td>Setup_2</td><td>0028-2817</td><td>C1</td><td>600</td><td>ok</td><td>2009-12-10</td><td>QSO</td><td>SIMBAD</td><td>J002830-281704_f.fits</td><td>HIRES</td><td>Keck-I</td><td>BLUE</td></tr>\n",
       "</table>"
      ],
      "text/plain": [
       "<Table length=3>\n",
       "zem_GROUP kodetime kodwblue kodwred ... INSTR TELESCOPE DISPERSER\n",
       " float64   int64    int64    int64  ...  str5    str6      str4  \n",
       "--------- -------- -------- ------- ... ----- --------- ---------\n",
       "    2.350     1200     3334    6198 ... HIRES    Keck-I      BLUE\n",
       "    2.596      700     3366    6198 ... HIRES    Keck-I      BLUE\n",
       "    2.400      600     3366    6198 ... HIRES    Keck-I      BLUE"
      ]
     },
     "execution_count": 24,
     "metadata": {},
     "output_type": "execute_result"
    }
   ],
   "source": [
    "kodiaq1 = igmspec['KODIAQ_DR1'].meta\n",
    "kodiaq1[0:3]"
   ]
  },
  {
   "cell_type": "code",
   "execution_count": 25,
   "metadata": {},
   "outputs": [],
   "source": [
    "kodiaq1_coord = SkyCoord(ra=kodiaq1['RA_GROUP'], dec=kodiaq1['DEC_GROUP'], unit='deg')"
   ]
  },
  {
   "cell_type": "markdown",
   "metadata": {},
   "source": [
    "## KODIAQ2"
   ]
  },
  {
   "cell_type": "code",
   "execution_count": 26,
   "metadata": {},
   "outputs": [
    {
     "name": "stderr",
     "output_type": "stream",
     "text": [
      "/data/Projects/Python/specdb/specdb/interface_group.py:70: H5pyDeprecationWarning: dataset.value has been deprecated. Use dataset[()] instead.\n",
      "  self.meta = spdbu.hdf_decode(self.hdf[group+'/meta'].value, itype='Table')\n"
     ]
    },
    {
     "data": {
      "text/html": [
       "<i>Table length=3</i>\n",
       "<table id=\"table140436809239184\" class=\"table-striped table-bordered table-condensed\">\n",
       "<thead><tr><th>zem_GROUP</th><th>kodetime</th><th>kodwblue</th><th>kodwred</th><th>kodrelease</th><th>RA_GROUP</th><th>DEC_GROUP</th><th>sig_zem</th><th>IGM_ID</th><th>EPOCH</th><th>NPIX</th><th>WV_MIN</th><th>WV_MAX</th><th>R</th><th>GROUP_ID</th><th>qso</th><th>sRA</th><th>sDEC</th><th>pi_date</th><th>spec_prefix</th><th>redux_setup</th><th>targname</th><th>deckname</th><th>elaptime</th><th>qaflag</th><th>DATE-OBS</th><th>INSTR</th><th>TELESCOPE</th><th>STYPE</th><th>flag_zem</th><th>SPEC_FILE</th><th>DISPERSER</th></tr></thead>\n",
       "<thead><tr><th>float64</th><th>int64</th><th>int64</th><th>int64</th><th>int64</th><th>float64</th><th>float64</th><th>float64</th><th>int64</th><th>float64</th><th>int64</th><th>float64</th><th>float64</th><th>float64</th><th>int64</th><th>str14</th><th>str11</th><th>str12</th><th>str31</th><th>str20</th><th>str8</th><th>str14</th><th>str2</th><th>str18</th><th>str4</th><th>str10</th><th>str5</th><th>str6</th><th>str3</th><th>str11</th><th>str27</th><th>str4</th></tr></thead>\n",
       "<tr><td>2.810</td><td>25000</td><td>4111</td><td>6520</td><td>2</td><td>0.45833</td><td>-1.99444</td><td>0.0</td><td>1088</td><td>2000.0</td><td>53189</td><td>4110.7</td><td>6520.0</td><td>36000.0</td><td>0</td><td>J000150-015940</td><td>00:01:50.0</td><td>-01:59:40</td><td>Wolfe_Sep_29_30_1997</td><td>J000150-015940</td><td>Setup_3</td><td>Q2359-OBJ</td><td>C5</td><td>2x7200,2x5400</td><td>ok</td><td>1997-09-29</td><td>HIRES</td><td>Keck-I</td><td>QSO</td><td>SDSS-SIMBAD</td><td>J000150-015940_f.fits</td><td>RED</td></tr>\n",
       "<tr><td>1.887</td><td>8000</td><td>3307</td><td>4849</td><td>2</td><td>1.33421</td><td>5.40300</td><td>0.0</td><td>447263</td><td>2000.0</td><td>44149</td><td>3306.7</td><td>4849.3</td><td>48000.0</td><td>1</td><td>J000520+052410</td><td>00:05:20.21</td><td>+05:24:10.79</td><td>Sargent_Oct_12_13_14_1999</td><td>J000520+052410</td><td>Setup_1</td><td>Q0002+0507</td><td>C1</td><td>2x4000</td><td>ok</td><td>1999-10-12</td><td>HIRES</td><td>Keck-I</td><td>QSO</td><td>SDSS-SIMBAD</td><td>J000520+052410_f.fits</td><td>BLUE</td></tr>\n",
       "<tr><td>1.887</td><td>8000</td><td>3340</td><td>4888</td><td>2</td><td>1.33421</td><td>5.40300</td><td>0.0</td><td>447263</td><td>2000.0</td><td>43918</td><td>3339.9</td><td>4888.2</td><td>48000.0</td><td>2</td><td>J000520+052410</td><td>00:05:20.21</td><td>+05:24:10.79</td><td>Sargent_Oct_12_13_14_1999</td><td>J000520+052410_spec2</td><td>Setup_2</td><td>Q0002+0507</td><td>C1</td><td>2x4000</td><td>ok</td><td>1999-10-12</td><td>HIRES</td><td>Keck-I</td><td>QSO</td><td>SDSS-SIMBAD</td><td>J000520+052410_spec2_f.fits</td><td>BLUE</td></tr>\n",
       "</table>"
      ],
      "text/plain": [
       "<Table length=3>\n",
       "zem_GROUP kodetime kodwblue ...          SPEC_FILE          DISPERSER\n",
       " float64   int64    int64   ...            str27               str4  \n",
       "--------- -------- -------- ... --------------------------- ---------\n",
       "    2.810    25000     4111 ...       J000150-015940_f.fits       RED\n",
       "    1.887     8000     3307 ...       J000520+052410_f.fits      BLUE\n",
       "    1.887     8000     3340 ... J000520+052410_spec2_f.fits      BLUE"
      ]
     },
     "execution_count": 26,
     "metadata": {},
     "output_type": "execute_result"
    }
   ],
   "source": [
    "kodiaq2 = igmspec['KODIAQ_DR2'].meta\n",
    "kodiaq2[0:3]"
   ]
  },
  {
   "cell_type": "code",
   "execution_count": 27,
   "metadata": {},
   "outputs": [],
   "source": [
    "kodiaq2_coord = SkyCoord(ra=kodiaq2['RA_GROUP'], dec=kodiaq2['DEC_GROUP'], unit='deg')"
   ]
  },
  {
   "cell_type": "markdown",
   "metadata": {},
   "source": [
    "## KODIAQ3"
   ]
  },
  {
   "cell_type": "code",
   "execution_count": 31,
   "metadata": {},
   "outputs": [],
   "source": [
    "kodiaq3 = Table.read('DR3_summary.txt', format='ascii')"
   ]
  },
  {
   "cell_type": "code",
   "execution_count": 32,
   "metadata": {},
   "outputs": [
    {
     "data": {
      "text/html": [
       "<i>Table length=3</i>\n",
       "<table id=\"table140436815695264\" class=\"table-striped table-bordered table-condensed\">\n",
       "<thead><tr><th>Index</th><th>Name</th><th>RA</th><th>DEC</th><th>Ref</th><th>z</th><th>wvmin</th><th>wvmax</th><th>flag</th><th>s2n</th><th>s2nB</th></tr></thead>\n",
       "<thead><tr><th>int64</th><th>str14</th><th>str13</th><th>str13</th><th>str19</th><th>float64</th><th>float64</th><th>float64</th><th>float64</th><th>float64</th><th>float64</th></tr></thead>\n",
       "<tr><td>1</td><td>J000211-052908</td><td>00:02:11.7696</td><td>-05:29:08.484</td><td>Martin_20111025</td><td>2.8</td><td>4000.0</td><td>10130.6</td><td>-1.0</td><td>24.741</td><td>34.043</td></tr>\n",
       "<tr><td>2</td><td>J000216-053007</td><td>00:02:16.668</td><td>-05:30:07.632</td><td>Martin_20111025</td><td>3.1592</td><td>4000.0</td><td>10130.6</td><td>-1.0</td><td>25.504</td><td>31.442</td></tr>\n",
       "<tr><td>3</td><td>J000221+002149</td><td>00:02:21.1176</td><td>+00:21:49.356</td><td>Becker_20001229</td><td>3.05703</td><td>4000.0</td><td>10134.9</td><td>-1.0</td><td>14.029</td><td>18.327</td></tr>\n",
       "</table>"
      ],
      "text/plain": [
       "<Table length=3>\n",
       "Index      Name            RA           DEC      ...   flag    s2n     s2nB \n",
       "int64     str14          str13         str13     ... float64 float64 float64\n",
       "----- -------------- ------------- ------------- ... ------- ------- -------\n",
       "    1 J000211-052908 00:02:11.7696 -05:29:08.484 ...    -1.0  24.741  34.043\n",
       "    2 J000216-053007  00:02:16.668 -05:30:07.632 ...    -1.0  25.504  31.442\n",
       "    3 J000221+002149 00:02:21.1176 +00:21:49.356 ...    -1.0  14.029  18.327"
      ]
     },
     "execution_count": 32,
     "metadata": {},
     "output_type": "execute_result"
    }
   ],
   "source": [
    "kodiaq3[0:3]"
   ]
  },
  {
   "cell_type": "code",
   "execution_count": 33,
   "metadata": {},
   "outputs": [],
   "source": [
    "kodiaq3_coord = SkyCoord(ra=kodiaq3['RA'], dec=kodiaq3['DEC'], frame='icrs', unit=(units.hourangle, units.deg))"
   ]
  },
  {
   "cell_type": "markdown",
   "metadata": {},
   "source": [
    "# Match me!"
   ]
  },
  {
   "cell_type": "code",
   "execution_count": 35,
   "metadata": {},
   "outputs": [
    {
     "name": "stdout",
     "output_type": "stream",
     "text": [
      "KODIAQ1 has 4 matches\n",
      "KODIAQ2 has 3 matches\n",
      "KODIAQ3 has 108 matches\n"
     ]
    }
   ],
   "source": [
    "for kk, kodiaq_coord in enumerate([kodiaq1_coord, kodiaq2_coord, kodiaq3_coord]):\n",
    "    # Match\n",
    "    idx, d2d, _ = match_coordinates_sky(koa_coord, kodiaq_coord, nthneighbor=1)\n",
    "    # Close\n",
    "    match = d2d < 2*units.arcsec\n",
    "    # Answer\n",
    "    print(\"KODIAQ{} has {} matches\".format(kk+1, np.sum(match)))"
   ]
  },
  {
   "cell_type": "markdown",
   "metadata": {},
   "source": [
    "## Explore KODIAQ3"
   ]
  },
  {
   "cell_type": "code",
   "execution_count": 36,
   "metadata": {},
   "outputs": [],
   "source": [
    "idx3, d2d3, _ = match_coordinates_sky(koa_coord, kodiaq3_coord, nthneighbor=1)"
   ]
  },
  {
   "cell_type": "code",
   "execution_count": 37,
   "metadata": {},
   "outputs": [],
   "source": [
    "match3 = d2d3 < 2 * units.arcsec"
   ]
  },
  {
   "cell_type": "code",
   "execution_count": 42,
   "metadata": {},
   "outputs": [
    {
     "data": {
      "text/plain": [
       "array([6.438   , 6.4189  , 6.427   , 6.311   , 6.247   , 6.25    ,\n",
       "       6.2284  , 6.13    , 6.13    , 6.118   , 6.12    , 6.117   ,\n",
       "       6.07    , 6.065   , 6.049   , 6.04    , 6.0379  , 6.016   ,\n",
       "       6.01    , 6.02    , 6.13    , 5.98    , 5.9012  , 5.927   ,\n",
       "       5.85    , 5.82    , 5.8441  , 5.7824  , 5.7722  , 5.72    ,\n",
       "       5.62    , 5.41353 , 5.3383  , 5.33    , 5.31312 , 5.305602,\n",
       "       5.31775 , 5.290043, 5.273   , 5.2924  , 5.20557 , 5.167925,\n",
       "       5.214469, 5.1877  , 5.14174 , 5.16359 , 5.13512 , 5.27264 ,\n",
       "       5.092134, 5.10933 , 5.068   , 5.1195  , 5.10693 , 5.0589  ,\n",
       "       5.07091 , 5.051909, 4.99    , 5.02249 , 5.005901, 4.976896,\n",
       "       4.95    , 4.92177 , 4.9     , 4.92302 , 4.918688, 4.908   ,\n",
       "       4.91233 , 4.897   , 4.996   , 4.897885, 4.881   , 4.88142 ,\n",
       "       4.85927 , 4.79034 , 4.935   , 4.87299 , 4.88504 , 4.81    ,\n",
       "       4.904886, 4.78947 , 4.846415, 4.795   , 4.784268, 4.772255,\n",
       "       4.79807 , 4.754505, 4.70677 , 4.70859 , 4.707273, 4.77497 ,\n",
       "       4.715   , 4.68778 , 4.703384, 4.673994, 4.65872 , 4.672   ,\n",
       "       4.69453 , 4.61919 , 4.615936, 4.545   , 4.579   , 4.538072,\n",
       "       4.558   , 4.57    , 4.532   , 4.52    , 4.52    , 4.52041 ])"
      ]
     },
     "execution_count": 42,
     "metadata": {},
     "output_type": "execute_result"
    }
   ],
   "source": [
    "kodiaq3[idx3[match3]]['z'].data"
   ]
  },
  {
   "cell_type": "code",
   "execution_count": 43,
   "metadata": {},
   "outputs": [
    {
     "data": {
      "text/plain": [
       "108"
      ]
     },
     "execution_count": 43,
     "metadata": {},
     "output_type": "execute_result"
    }
   ],
   "source": [
    "m3_z4 = kodiaq3[idx3[match3]]['z'].data > 4\n",
    "np.sum(m3_z4)"
   ]
  },
  {
   "cell_type": "code",
   "execution_count": null,
   "metadata": {},
   "outputs": [],
   "source": []
  }
 ],
 "metadata": {
  "kernelspec": {
   "display_name": "Python 3",
   "language": "python",
   "name": "python3"
  },
  "language_info": {
   "codemirror_mode": {
    "name": "ipython",
    "version": 3
   },
   "file_extension": ".py",
   "mimetype": "text/x-python",
   "name": "python",
   "nbconvert_exporter": "python",
   "pygments_lexer": "ipython3",
   "version": "3.7.3"
  }
 },
 "nbformat": 4,
 "nbformat_minor": 4
}
