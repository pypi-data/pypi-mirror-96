{
 "cells": [
  {
   "cell_type": "markdown",
   "metadata": {
    "collapsed": true
   },
   "source": [
    "# DataPath Example 2\n",
    "This notebook gives a very basic example of how to access data. \n",
    "It assumes that you understand the concepts presented in the \n",
    "example 1 notebook."
   ]
  },
  {
   "cell_type": "code",
   "execution_count": 1,
   "metadata": {},
   "outputs": [],
   "source": [
    "# Import deriva modules\n",
    "from deriva.core import ErmrestCatalog, get_credential"
   ]
  },
  {
   "cell_type": "code",
   "execution_count": 2,
   "metadata": {},
   "outputs": [],
   "source": [
    "# Connect with the deriva catalog\n",
    "protocol = 'https'\n",
    "hostname = 'www.facebase.org'\n",
    "catalog_number = 1\n",
    "credential = get_credential(hostname)\n",
    "catalog = ErmrestCatalog(protocol, hostname, catalog_number, credential)"
   ]
  },
  {
   "cell_type": "code",
   "execution_count": 3,
   "metadata": {},
   "outputs": [],
   "source": [
    "# Get the path builder interface for this catalog\n",
    "pb = catalog.getPathBuilder()"
   ]
  },
  {
   "cell_type": "markdown",
   "metadata": {},
   "source": [
    "## DataPaths\n",
    "The `PathBuilder` object allows you to begin `DataPath`s from the base `Table`s. A `DataPath` begins with a `Table` (or an `TableAlias` to be discussed later) as its \"root\" from which one can \"`link`\", \"`filter`\", and fetch its \"`entities`\"."
   ]
  },
  {
   "cell_type": "markdown",
   "metadata": {},
   "source": [
    "### Start a path rooted at a table from the catalog\n",
    "We will reference a table from the PathBuilder `pb` variable from above. Using the PathBuilder, we will reference the \"isa\" schema, then the \"dataset\" table, and from that table start a path."
   ]
  },
  {
   "cell_type": "code",
   "execution_count": 4,
   "metadata": {},
   "outputs": [],
   "source": [
    "path = pb.schemas['isa'].tables['dataset'].path"
   ]
  },
  {
   "cell_type": "markdown",
   "metadata": {},
   "source": [
    "We could have used the more compact dot-notation to start the same path."
   ]
  },
  {
   "cell_type": "code",
   "execution_count": 5,
   "metadata": {},
   "outputs": [],
   "source": [
    "path = pb.isa.dataset.path"
   ]
  },
  {
   "cell_type": "markdown",
   "metadata": {},
   "source": [
    "### Getting the URI of the current path\n",
    "All DataPaths have URIs for the referenced resources in ERMrest. The URI identifies the resources which are available through \"RESTful\" Web protocols supported by ERMrest."
   ]
  },
  {
   "cell_type": "code",
   "execution_count": 6,
   "metadata": {},
   "outputs": [
    {
     "name": "stdout",
     "output_type": "stream",
     "text": [
      "https://www.facebase.org/ermrest/catalog/1/entity/dataset:=isa:dataset\n"
     ]
    }
   ],
   "source": [
    "print(path.uri)"
   ]
  },
  {
   "cell_type": "markdown",
   "metadata": {},
   "source": [
    "## ResultSets\n",
    "The data from a DataPath are accessed through a pythonic container object, the `ResultSet`. The `ResultSet` is returned by the DataPath's `entities()` and other methods."
   ]
  },
  {
   "cell_type": "code",
   "execution_count": 7,
   "metadata": {},
   "outputs": [],
   "source": [
    "results = path.entities()"
   ]
  },
  {
   "cell_type": "markdown",
   "metadata": {},
   "source": [
    "### Fetch entities from the catalog\n",
    "Now we can get entities from the server using the ResultSet's `fetch()` method."
   ]
  },
  {
   "cell_type": "code",
   "execution_count": 8,
   "metadata": {},
   "outputs": [
    {
     "data": {
      "text/plain": [
       "<deriva.core.datapath.ResultSet at 0x10db10eb8>"
      ]
     },
     "execution_count": 8,
     "metadata": {},
     "output_type": "execute_result"
    }
   ],
   "source": [
    "results.fetch()"
   ]
  },
  {
   "cell_type": "markdown",
   "metadata": {},
   "source": [
    "`ResultSet`s behave like python containers. For example, we can check the count of rows in this ResultSet."
   ]
  },
  {
   "cell_type": "code",
   "execution_count": 9,
   "metadata": {},
   "outputs": [
    {
     "data": {
      "text/plain": [
       "854"
      ]
     },
     "execution_count": 9,
     "metadata": {},
     "output_type": "execute_result"
    }
   ],
   "source": [
    "len(results)"
   ]
  },
  {
   "cell_type": "markdown",
   "metadata": {},
   "source": [
    "**Note**: If we had not explicitly called the `fetch()` method, then it would have been called implicitly on the first container operation such as `len(...)`, `list(...)`, `iter(...)` or get item `[...]`."
   ]
  },
  {
   "cell_type": "markdown",
   "metadata": {},
   "source": [
    "### Get an entity\n",
    "To get one entity from the set, use the usual container operator to get an item."
   ]
  },
  {
   "cell_type": "code",
   "execution_count": 10,
   "metadata": {},
   "outputs": [
    {
     "data": {
      "text/plain": [
       "{'id': 14244,\n",
       " 'accession': 'FB00001000',\n",
       " 'title': 'FB0036_21mo male with midline cleft lip, spheno-ethmoidal meningocele, micropthalmia_Candidate Gene: KLF8',\n",
       " 'project': 309,\n",
       " 'funding': None,\n",
       " 'summary': None,\n",
       " 'description': 'The purpose of this study is to collect, process, and study samples from individuals with known or possible genetic disease, and their family members. The study’s broad goals are to better understand the genetic causes of disease in order to improve the ability to diagnose, treat, and even prevent illness. Our goal is to obtain a genetic diagnosis for health problem(s) the proband has, so the information can be used, when appropriate, to guide medical decisions made by the affected individuals doctor.\\n\\n **This is restricted-access human data.**  To gain access to this data, you must first go through the [process outlined here](/odocs/data-guidelines/).\\n\\nThis case was brought to the attention of FaceBase from Dr. Joan Stoler of Boston Children’s Hospital.\\n\\nPhenotype:\\n- midline cleft lip\\n- spheno-ethmoidal meningocele\\n- micropthalmia\\n\\n\\n \\n',\n",
       " 'mouse_genetic': None,\n",
       " 'human_anatomic': None,\n",
       " 'study_design': '1. Interesting cases are seen by the clinicians on our protocol and they are presented at a monthly meeting.\\n2. The cases are looked at based on the solvability of the case, if we can obtain the correct family members for sequencing and if the family is willing to participate.\\n3. Samples are obtained, usually for WES first, but sometimes WES has not led to an answer, so WGS is done.\\n4. The data is sent to Brigham and Women’s Hospital analysis program, Brigham Genomic Medicine, where computational biologists look at the sequences and find the variant(s) that explains the phenotype seen in the proband.\\n5. Functional analysis is done to mimic the phenotype in a mouse, which confirms what was seen with the variant.\\n6. Findings are shared with the clinicians, so they may share with their patient.\\n\\n',\n",
       " 'release_date': '2019-01-29',\n",
       " 'show_in_jbrowse': None,\n",
       " '_keywords': None,\n",
       " 'RID': '1-415C',\n",
       " 'RCB': 'https://auth.globus.org/de244c2a-618a-4f51-9497-4910a200e99a',\n",
       " 'RMB': 'https://www.facebase.org/webauthn_robot/fb_cron',\n",
       " 'RCT': '2018-10-01T12:13:32.627187-07:00',\n",
       " 'RMT': '2019-09-17T19:00:18.380718-07:00',\n",
       " 'released': True,\n",
       " 'Requires_DOI?': True,\n",
       " 'DOI': '10.25550/1-415C'}"
      ]
     },
     "execution_count": 10,
     "metadata": {},
     "output_type": "execute_result"
    }
   ],
   "source": [
    "results[9]"
   ]
  },
  {
   "cell_type": "markdown",
   "metadata": {},
   "source": [
    "### Get a specific attribute value from an entity\n",
    "To get one attribute value from an entity get the item using its `Column`'s `name` property."
   ]
  },
  {
   "cell_type": "code",
   "execution_count": 11,
   "metadata": {},
   "outputs": [
    {
     "name": "stdout",
     "output_type": "stream",
     "text": [
      "FB00001000\n"
     ]
    }
   ],
   "source": [
    "dataset = pb.schemas['isa'].tables['dataset']\n",
    "print(results[9][dataset.accession.name])"
   ]
  },
  {
   "cell_type": "markdown",
   "metadata": {},
   "source": [
    "## Fetch a Limited Number of Results\n",
    "To set a limit on the number of results to be fetched from the catalog, use the explicit `fetch(limit=...)` method with the desired upper limit to fetch from the catalog."
   ]
  },
  {
   "cell_type": "code",
   "execution_count": 12,
   "metadata": {},
   "outputs": [
    {
     "data": {
      "text/plain": [
       "3"
      ]
     },
     "execution_count": 12,
     "metadata": {},
     "output_type": "execute_result"
    }
   ],
   "source": [
    "results.fetch(limit=3)\n",
    "len(results)"
   ]
  },
  {
   "cell_type": "markdown",
   "metadata": {},
   "source": [
    "### Iterate over the ResultSet\n",
    "`ResultSet`s are iterable like a typical container."
   ]
  },
  {
   "cell_type": "code",
   "execution_count": 13,
   "metadata": {},
   "outputs": [
    {
     "name": "stdout",
     "output_type": "stream",
     "text": [
      "FB00000329.02\n",
      "FB00000982\n",
      "FB00000957\n"
     ]
    }
   ],
   "source": [
    "for entity in results:\n",
    "    print(entity[dataset.accession.name])"
   ]
  },
  {
   "cell_type": "markdown",
   "metadata": {},
   "source": [
    "## Convert to Pandas DataFrame\n",
    "ResultSets can be transformed into the popular Pandas DataFrame."
   ]
  },
  {
   "cell_type": "code",
   "execution_count": 14,
   "metadata": {},
   "outputs": [
    {
     "data": {
      "text/html": [
       "<div>\n",
       "<style scoped>\n",
       "    .dataframe tbody tr th:only-of-type {\n",
       "        vertical-align: middle;\n",
       "    }\n",
       "\n",
       "    .dataframe tbody tr th {\n",
       "        vertical-align: top;\n",
       "    }\n",
       "\n",
       "    .dataframe thead th {\n",
       "        text-align: right;\n",
       "    }\n",
       "</style>\n",
       "<table border=\"1\" class=\"dataframe\">\n",
       "  <thead>\n",
       "    <tr style=\"text-align: right;\">\n",
       "      <th></th>\n",
       "      <th>id</th>\n",
       "      <th>accession</th>\n",
       "      <th>title</th>\n",
       "      <th>project</th>\n",
       "      <th>funding</th>\n",
       "      <th>summary</th>\n",
       "      <th>description</th>\n",
       "      <th>mouse_genetic</th>\n",
       "      <th>human_anatomic</th>\n",
       "      <th>study_design</th>\n",
       "      <th>...</th>\n",
       "      <th>show_in_jbrowse</th>\n",
       "      <th>_keywords</th>\n",
       "      <th>RID</th>\n",
       "      <th>RCB</th>\n",
       "      <th>RMB</th>\n",
       "      <th>RCT</th>\n",
       "      <th>RMT</th>\n",
       "      <th>released</th>\n",
       "      <th>Requires_DOI?</th>\n",
       "      <th>DOI</th>\n",
       "    </tr>\n",
       "  </thead>\n",
       "  <tbody>\n",
       "    <tr>\n",
       "      <th>0</th>\n",
       "      <td>10655</td>\n",
       "      <td>FB00000329.02</td>\n",
       "      <td>microCT - Bone Tissue of C57BL6J mouse at P0</td>\n",
       "      <td>156</td>\n",
       "      <td>This study was supported by grants from the Na...</td>\n",
       "      <td>Mouse ID: JI221; This dataset includes 1 micro...</td>\n",
       "      <td>Mouse ID: JI221\\n This dataset includes 1 micr...</td>\n",
       "      <td>None</td>\n",
       "      <td>None</td>\n",
       "      <td>None</td>\n",
       "      <td>...</td>\n",
       "      <td>None</td>\n",
       "      <td>Research on Functional Genomics, Image Analysi...</td>\n",
       "      <td>V1J</td>\n",
       "      <td>None</td>\n",
       "      <td>https://www.facebase.org/webauthn_robot/fb_cron</td>\n",
       "      <td>2017-09-22T17:33:18.797126-07:00</td>\n",
       "      <td>2019-09-17T19:11:31.882241-07:00</td>\n",
       "      <td>True</td>\n",
       "      <td>True</td>\n",
       "      <td>10.25550/V1J</td>\n",
       "    </tr>\n",
       "    <tr>\n",
       "      <th>1</th>\n",
       "      <td>14226</td>\n",
       "      <td>FB00000982</td>\n",
       "      <td>FB0064_Male with Congenital craniosynostosis_C...</td>\n",
       "      <td>309</td>\n",
       "      <td>None</td>\n",
       "      <td>None</td>\n",
       "      <td>The purpose of this study is to collect, proce...</td>\n",
       "      <td>None</td>\n",
       "      <td>None</td>\n",
       "      <td>1.\\tInteresting cases are seen by the clinicia...</td>\n",
       "      <td>...</td>\n",
       "      <td>None</td>\n",
       "      <td>None</td>\n",
       "      <td>1-3SW2</td>\n",
       "      <td>https://auth.globus.org/de244c2a-618a-4f51-949...</td>\n",
       "      <td>https://www.facebase.org/webauthn_robot/fb_cron</td>\n",
       "      <td>2018-06-12T12:09:23.852494-07:00</td>\n",
       "      <td>2019-09-17T19:00:05.25666-07:00</td>\n",
       "      <td>True</td>\n",
       "      <td>True</td>\n",
       "      <td>10.25550/1-3SW2</td>\n",
       "    </tr>\n",
       "    <tr>\n",
       "      <th>2</th>\n",
       "      <td>14201</td>\n",
       "      <td>FB00000957</td>\n",
       "      <td>FB0123_10mo girl with brain stem compression, ...</td>\n",
       "      <td>309</td>\n",
       "      <td>None</td>\n",
       "      <td>None</td>\n",
       "      <td>The purpose of this study is to collect, proce...</td>\n",
       "      <td>None</td>\n",
       "      <td>None</td>\n",
       "      <td>1. Interesting cases are seen by the clinician...</td>\n",
       "      <td>...</td>\n",
       "      <td>None</td>\n",
       "      <td>Rapid Identification and Validation of Human C...</td>\n",
       "      <td>2BAP</td>\n",
       "      <td>https://auth.globus.org/de244c2a-618a-4f51-949...</td>\n",
       "      <td>https://www.facebase.org/webauthn_robot/fb_cron</td>\n",
       "      <td>2018-02-27T14:34:27.418699-08:00</td>\n",
       "      <td>2019-09-17T19:00:06.837819-07:00</td>\n",
       "      <td>True</td>\n",
       "      <td>True</td>\n",
       "      <td>10.25550/2BAP</td>\n",
       "    </tr>\n",
       "  </tbody>\n",
       "</table>\n",
       "<p>3 rows × 21 columns</p>\n",
       "</div>"
      ],
      "text/plain": [
       "      id      accession                                              title  \\\n",
       "0  10655  FB00000329.02       microCT - Bone Tissue of C57BL6J mouse at P0   \n",
       "1  14226     FB00000982  FB0064_Male with Congenital craniosynostosis_C...   \n",
       "2  14201     FB00000957  FB0123_10mo girl with brain stem compression, ...   \n",
       "\n",
       "   project                                            funding  \\\n",
       "0      156  This study was supported by grants from the Na...   \n",
       "1      309                                               None   \n",
       "2      309                                               None   \n",
       "\n",
       "                                             summary  \\\n",
       "0  Mouse ID: JI221; This dataset includes 1 micro...   \n",
       "1                                               None   \n",
       "2                                               None   \n",
       "\n",
       "                                         description mouse_genetic  \\\n",
       "0  Mouse ID: JI221\\n This dataset includes 1 micr...          None   \n",
       "1  The purpose of this study is to collect, proce...          None   \n",
       "2  The purpose of this study is to collect, proce...          None   \n",
       "\n",
       "  human_anatomic                                       study_design  ...  \\\n",
       "0           None                                               None  ...   \n",
       "1           None  1.\\tInteresting cases are seen by the clinicia...  ...   \n",
       "2           None  1. Interesting cases are seen by the clinician...  ...   \n",
       "\n",
       "  show_in_jbrowse                                          _keywords     RID  \\\n",
       "0            None  Research on Functional Genomics, Image Analysi...     V1J   \n",
       "1            None                                               None  1-3SW2   \n",
       "2            None  Rapid Identification and Validation of Human C...    2BAP   \n",
       "\n",
       "                                                 RCB  \\\n",
       "0                                               None   \n",
       "1  https://auth.globus.org/de244c2a-618a-4f51-949...   \n",
       "2  https://auth.globus.org/de244c2a-618a-4f51-949...   \n",
       "\n",
       "                                               RMB  \\\n",
       "0  https://www.facebase.org/webauthn_robot/fb_cron   \n",
       "1  https://www.facebase.org/webauthn_robot/fb_cron   \n",
       "2  https://www.facebase.org/webauthn_robot/fb_cron   \n",
       "\n",
       "                                RCT                               RMT  \\\n",
       "0  2017-09-22T17:33:18.797126-07:00  2019-09-17T19:11:31.882241-07:00   \n",
       "1  2018-06-12T12:09:23.852494-07:00   2019-09-17T19:00:05.25666-07:00   \n",
       "2  2018-02-27T14:34:27.418699-08:00  2019-09-17T19:00:06.837819-07:00   \n",
       "\n",
       "  released  Requires_DOI?              DOI  \n",
       "0     True           True     10.25550/V1J  \n",
       "1     True           True  10.25550/1-3SW2  \n",
       "2     True           True    10.25550/2BAP  \n",
       "\n",
       "[3 rows x 21 columns]"
      ]
     },
     "execution_count": 14,
     "metadata": {},
     "output_type": "execute_result"
    }
   ],
   "source": [
    "from pandas import DataFrame\n",
    "DataFrame(results)"
   ]
  },
  {
   "cell_type": "markdown",
   "metadata": {
    "collapsed": true
   },
   "source": [
    "## Selecting Attributes\n",
    "It is also possible to fetch only a subset of attributes from the catalog. The `attributes(...)` method accepts a variable argument list followed by keyword arguments. Each argument must be a `Column` object from the table's `columns` container.\n",
    "\n",
    "### Renaming selected attributes\n",
    "To rename the selected attributes, use the `alias(...)` method on the column object. For example, `attributes(table.column.alias('new_name'))` will rename `table.column` with `new_name` in the entities returned from the server. (It will not change anything in the stored catalog data.)"
   ]
  },
  {
   "cell_type": "code",
   "execution_count": 15,
   "metadata": {},
   "outputs": [],
   "source": [
    "results = path.attributes(dataset.accession, dataset.title, dataset.released.alias('is_released')).fetch(limit=5)"
   ]
  },
  {
   "cell_type": "markdown",
   "metadata": {},
   "source": [
    "### Convert to list\n",
    "Now we can look at the results from the above fetch. To demonstrate a different access mode, we can convert the entities to a standard python list and dump to the console."
   ]
  },
  {
   "cell_type": "code",
   "execution_count": 16,
   "metadata": {},
   "outputs": [
    {
     "data": {
      "text/plain": [
       "[{'accession': 'FB00000329.02',\n",
       "  'title': 'microCT - Bone Tissue of C57BL6J mouse at P0',\n",
       "  'is_released': True},\n",
       " {'accession': 'FB00000982',\n",
       "  'title': 'FB0064_Male with Congenital craniosynostosis_Candidate Gene: FREM2',\n",
       "  'is_released': True},\n",
       " {'accession': 'FB00000957',\n",
       "  'title': 'FB0123_10mo girl with brain stem compression, multiple skeletal anomalies, cranioal bone anomalies, clinodactyly, cleft palate, unusual skull configuration (only 3 bones), stenosis of ear canal',\n",
       "  'is_released': True},\n",
       " {'accession': 'FB00000953',\n",
       "  'title': 'FB0109_Male with Robin sequence, cleft palate, midface hypoplasia, round almond-shaped eyes, negative CMA, positive family Hx_Candidate Gene: HOXB2',\n",
       "  'is_released': True},\n",
       " {'accession': 'FB00000319',\n",
       "  'title': 'microCT - Soft Tissue of Tgfbr2fl/+ Control mouse at P0',\n",
       "  'is_released': True}]"
      ]
     },
     "execution_count": 16,
     "metadata": {},
     "output_type": "execute_result"
    }
   ],
   "source": [
    "list(results)"
   ]
  },
  {
   "cell_type": "code",
   "execution_count": null,
   "metadata": {},
   "outputs": [],
   "source": []
  }
 ],
 "metadata": {
  "kernelspec": {
   "display_name": "Python 3",
   "language": "python",
   "name": "python3"
  },
  "language_info": {
   "codemirror_mode": {
    "name": "ipython",
    "version": 3
   },
   "file_extension": ".py",
   "mimetype": "text/x-python",
   "name": "python",
   "nbconvert_exporter": "python",
   "pygments_lexer": "ipython3",
   "version": "3.7.2"
  }
 },
 "nbformat": 4,
 "nbformat_minor": 2
}
