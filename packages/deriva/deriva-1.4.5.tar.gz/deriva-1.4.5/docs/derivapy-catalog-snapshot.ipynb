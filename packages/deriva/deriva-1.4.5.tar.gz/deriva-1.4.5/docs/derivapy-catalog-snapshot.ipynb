{
 "cells": [
  {
   "cell_type": "markdown",
   "metadata": {},
   "source": [
    "# Deriva Ermrest Catalog Snapshot Examples\n",
    "This notebook gives examples of connecting to ERMrest versioned catalogs."
   ]
  },
  {
   "cell_type": "code",
   "execution_count": 1,
   "metadata": {
    "collapsed": true
   },
   "outputs": [],
   "source": [
    "from deriva.core import DerivaServer, get_credential, ErmrestCatalogMutationError"
   ]
  },
  {
   "cell_type": "markdown",
   "metadata": {},
   "source": [
    "Fill in your desired scheme, hostname and catalog number."
   ]
  },
  {
   "cell_type": "code",
   "execution_count": 2,
   "metadata": {
    "collapsed": true
   },
   "outputs": [],
   "source": [
    "scheme = 'https'\n",
    "hostname = 'synapse-dev.isrd.isi.edu'\n",
    "catalog_number = 1"
   ]
  },
  {
   "cell_type": "markdown",
   "metadata": {},
   "source": [
    "Use DERIVA-Auth to get a `credential` or use `None` if your catalog allows anonymous access."
   ]
  },
  {
   "cell_type": "code",
   "execution_count": 3,
   "metadata": {
    "collapsed": true
   },
   "outputs": [],
   "source": [
    "credential = get_credential(hostname)"
   ]
  },
  {
   "cell_type": "markdown",
   "metadata": {},
   "source": [
    "Get a handle representing your server."
   ]
  },
  {
   "cell_type": "code",
   "execution_count": 4,
   "metadata": {
    "collapsed": true
   },
   "outputs": [],
   "source": [
    "server = DerivaServer(scheme, hostname, credential)"
   ]
  },
  {
   "cell_type": "markdown",
   "metadata": {},
   "source": [
    "### Connect to a catalog (unversioned)\n",
    "Connect to a catalog, and list its schemas."
   ]
  },
  {
   "cell_type": "code",
   "execution_count": 5,
   "metadata": {},
   "outputs": [
    {
     "data": {
      "text/plain": [
       "['Synapse', 'public', 'Zebrafish']"
      ]
     },
     "execution_count": 5,
     "metadata": {},
     "output_type": "execute_result"
    }
   ],
   "source": [
    "catalog = server.connect_ermrest(catalog_number)\n",
    "pb = catalog.getPathBuilder()\n",
    "list(pb.schemas)"
   ]
  },
  {
   "cell_type": "markdown",
   "metadata": {},
   "source": [
    "### Get latest snapshot\n",
    "The current `catalog` handle can return a handle to the latest snapshot."
   ]
  },
  {
   "cell_type": "code",
   "execution_count": 6,
   "metadata": {},
   "outputs": [
    {
     "data": {
      "text/plain": [
       "['Synapse', 'public', 'Zebrafish']"
      ]
     },
     "execution_count": 6,
     "metadata": {},
     "output_type": "execute_result"
    }
   ],
   "source": [
    "latest = catalog.latest_snapshot()\n",
    "pb = latest.getPathBuilder()\n",
    "list(pb.schemas)"
   ]
  },
  {
   "cell_type": "markdown",
   "metadata": {},
   "source": [
    "Print the snaptime of this catalog snapshot."
   ]
  },
  {
   "cell_type": "code",
   "execution_count": 7,
   "metadata": {},
   "outputs": [
    {
     "name": "stdout",
     "output_type": "stream",
     "text": [
      "2PS-ERRT-HD8E\n"
     ]
    }
   ],
   "source": [
    "print(latest.snaptime)"
   ]
  },
  {
   "cell_type": "markdown",
   "metadata": {},
   "source": [
    "### Connect to a catalog snapshot\n",
    "Here we pass the `snaptime` parameter explicitly in the `connect_ermrest` method."
   ]
  },
  {
   "cell_type": "code",
   "execution_count": 8,
   "metadata": {},
   "outputs": [
    {
     "data": {
      "text/plain": [
       "['Synapse', 'public', 'Zebrafish']"
      ]
     },
     "execution_count": 8,
     "metadata": {},
     "output_type": "execute_result"
    }
   ],
   "source": [
    "snapshot = server.connect_ermrest('1', '2PM-DGYP-56Z4')\n",
    "pb = snapshot.getPathBuilder()\n",
    "list(pb.schemas)"
   ]
  },
  {
   "cell_type": "markdown",
   "metadata": {},
   "source": [
    "Alternatively, we could pass a \"versioned\" `catalog_id` to the `connect_ermrest` method."
   ]
  },
  {
   "cell_type": "code",
   "execution_count": 9,
   "metadata": {},
   "outputs": [
    {
     "data": {
      "text/plain": [
       "['Synapse', 'public', 'Zebrafish']"
      ]
     },
     "execution_count": 9,
     "metadata": {},
     "output_type": "execute_result"
    }
   ],
   "source": [
    "snapshot = server.connect_ermrest('1@2PM-DGYP-56Z4')\n",
    "pb = snapshot.getPathBuilder()\n",
    "list(pb.schemas)"
   ]
  },
  {
   "cell_type": "markdown",
   "metadata": {},
   "source": [
    "Finally, we can poke around at schemas and tables as they existed at the specified snaptime."
   ]
  },
  {
   "cell_type": "code",
   "execution_count": 10,
   "metadata": {},
   "outputs": [
    {
     "name": "stdout",
     "output_type": "stream",
     "text": [
      "https://synapse-dev.isrd.isi.edu/ermrest/catalog/1@2PM-DGYP-56Z4/entity/Subject:=Zebrafish:Subject\n"
     ]
    }
   ],
   "source": [
    "subject = pb.schemas['Zebrafish'].tables['Subject']\n",
    "print(subject.uri)"
   ]
  },
  {
   "cell_type": "markdown",
   "metadata": {},
   "source": [
    "Data may be read from the snapshot. Here, we will see how many subjects existed at that point in time."
   ]
  },
  {
   "cell_type": "code",
   "execution_count": 11,
   "metadata": {},
   "outputs": [
    {
     "data": {
      "text/plain": [
       "486"
      ]
     },
     "execution_count": 11,
     "metadata": {},
     "output_type": "execute_result"
    }
   ],
   "source": [
    "e = subject.entities()\n",
    "len(e)"
   ]
  },
  {
   "cell_type": "markdown",
   "metadata": {},
   "source": [
    "However, mutation operations on a catalog snapshot are disabled."
   ]
  },
  {
   "cell_type": "code",
   "execution_count": 12,
   "metadata": {},
   "outputs": [
    {
     "name": "stdout",
     "output_type": "stream",
     "text": [
      "Catalog snapshot is immutable\n"
     ]
    }
   ],
   "source": [
    "try:\n",
    "    subject.insert([{'foo': 'bar'}])\n",
    "except ErmrestCatalogMutationError as e:\n",
    "    print(e)"
   ]
  },
  {
   "cell_type": "code",
   "execution_count": null,
   "metadata": {
    "collapsed": true
   },
   "outputs": [],
   "source": []
  }
 ],
 "metadata": {
  "kernelspec": {
   "display_name": "Python 3",
   "language": "python",
   "name": "python3"
  },
  "language_info": {
   "codemirror_mode": {
    "name": "ipython",
    "version": 3
   },
   "file_extension": ".py",
   "mimetype": "text/x-python",
   "name": "python",
   "nbconvert_exporter": "python",
   "pygments_lexer": "ipython3",
   "version": "3.6.2"
  }
 },
 "nbformat": 4,
 "nbformat_minor": 2
}
