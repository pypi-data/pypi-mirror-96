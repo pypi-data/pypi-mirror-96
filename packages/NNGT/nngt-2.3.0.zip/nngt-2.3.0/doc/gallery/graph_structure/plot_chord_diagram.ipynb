{
  "cells": [
    {
      "cell_type": "code",
      "execution_count": null,
      "metadata": {
        "collapsed": false
      },
      "outputs": [],
      "source": [
        "%matplotlib inline"
      ]
    },
    {
      "cell_type": "markdown",
      "metadata": {},
      "source": [
        "\n# Chord diagram\n"
      ]
    },
    {
      "cell_type": "code",
      "execution_count": null,
      "metadata": {
        "collapsed": false
      },
      "outputs": [],
      "source": [
        "import matplotlib.pyplot as plt\n\nimport nngt\n\n\nnngt.seed(0)\n\n\n# create a structured graph\n\nroom1 = nngt.Group(25)\nroom2 = nngt.Group(50)\nroom3 = nngt.Group(40)\nroom4 = nngt.Group(35)\n\nnames = [\"R1\", \"R2\", \"R3\", \"R4\"]\n\nstruct = nngt.Structure.from_groups((room1, room2, room3, room4), names)\n\ng = nngt.Graph(structure=struct)\n\nfor room in struct:\n    nngt.generation.connect_groups(g, room, room, \"all_to_all\")\n\nnngt.generation.connect_groups(g, (room1, room2), struct, \"erdos_renyi\",\n                               avg_deg=10, ignore_invalid=True)\n\nnngt.generation.connect_groups(g, room3, room1, \"erdos_renyi\", avg_deg=20)\n\nnngt.generation.connect_groups(g, room4, room3, \"erdos_renyi\", avg_deg=10)\n\n\n# get the structure graph and plot\n\nsg = g.get_structure_graph()\n\nnngt.plot.chord_diagram(sg, names=\"name\", sort=\"distance\",\n                        use_gradient=True, show=True)"
      ]
    }
  ],
  "metadata": {
    "kernelspec": {
      "display_name": "Python 3",
      "language": "python",
      "name": "python3"
    },
    "language_info": {
      "codemirror_mode": {
        "name": "ipython",
        "version": 3
      },
      "file_extension": ".py",
      "mimetype": "text/x-python",
      "name": "python",
      "nbconvert_exporter": "python",
      "pygments_lexer": "ipython3",
      "version": "3.8.6"
    }
  },
  "nbformat": 4,
  "nbformat_minor": 0
}