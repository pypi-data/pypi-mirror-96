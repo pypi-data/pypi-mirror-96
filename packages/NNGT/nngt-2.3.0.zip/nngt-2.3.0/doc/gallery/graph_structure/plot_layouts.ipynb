{
  "cells": [
    {
      "cell_type": "code",
      "execution_count": null,
      "metadata": {
        "collapsed": false
      },
      "outputs": [],
      "source": [
        "%matplotlib inline"
      ]
    },
    {
      "cell_type": "markdown",
      "metadata": {},
      "source": [
        "\n# Layouts for topological representations\n"
      ]
    },
    {
      "cell_type": "code",
      "execution_count": null,
      "metadata": {
        "collapsed": false
      },
      "outputs": [],
      "source": [
        "import os\n\nimport matplotlib as mpl\nimport matplotlib.pyplot as plt\n\nimport nngt\n\n\nnngt.seed(0)\n\n\n# set matplotlib backend depending on the library\nmpl_backend = mpl.get_backend()\n\nif nngt.get_config(\"backend\") in (\"graph-tool\", \"igraph\"):\n\n    if mpl_backend.startswith(\"Qt4\"):\n        if mpl_backend != \"Qt4Cairo\":\n            plt.switch_backend(\"Qt4Cairo\")\n    elif mpl_backend.startswith(\"Qt5\"):\n        if mpl_backend != \"Qt5Cairo\":\n            plt.switch_backend(\"Qt5Cairo\")\n    elif mpl_backend.startswith(\"GTK\"):\n        if mpl_backend != \"GTK3Cairo\":\n            plt.switch_backend(\"GTK3Cairo\")\n    elif mpl_backend != \"cairo\":\n        plt.switch_backend(\"cairo\")\n\n\n# prepare figure and parameters\n\n_, axes = plt.subplots(2, 2, figsize=(10, 8))\n\nnum_nodes = 50\n\n\n# spring-block layout for structured graph\n\nroom1 = nngt.Group(10)\nroom2 = nngt.Group(20)\nroom3 = nngt.Group(20)\n\nnames = [\"R1\", \"R2\", \"R3\"]\n\nstruct = nngt.Structure.from_groups((room1, room2, room3), names)\n\ng = nngt.Graph(structure=struct)\n\nfor room in struct:\n    nngt.generation.connect_groups(g, room, room, \"erdos_renyi\", avg_deg=5)\n\nnngt.generation.connect_groups(g, (room1, room2), struct, \"erdos_renyi\",\n                               avg_deg=3, ignore_invalid=True)\n\nnngt.generation.connect_groups(g, room3, room1, \"erdos_renyi\", avg_deg=5)\n\nnngt.plot.library_draw(g, tight=False, axis=axes[0, 0], show=False)\n\naxes[0, 0].set_title(\"Spring-block layout\")\n\n\n# random layout\n\nsw = nngt.generation.watts_strogatz(4, 0.3, nodes=num_nodes)\n\nbetw = nngt.analysis.betweenness(sw, \"node\")\n\nnngt.plot.draw_network(sw, nsize=betw, ncolor=\"out-degree\", axis=axes[0, 1],\n                       tight=False, show=False)\n\naxes[0, 1].set_title(\"Random layout\")\n\n\n# circular layout for small-world networks\n\nnngt.plot.draw_network(sw, nsize=betw, ncolor=\"out-degree\", layout=\"circular\",\n                       axis=axes[1, 0], show=False, tight=False)\n\naxes[1, 0].set_title(\"Circular layout\")\n\n\n# spatial layout\n\nc1 = nngt.geometry.Shape.disk(100)\nc2 = nngt.geometry.Shape.disk(100, centroid=(50, 0))\n\nshape = nngt.geometry.Shape.from_polygon(c1.union(c2))\n\nnpos  = shape.seed_neurons(num_nodes)\n\ng = nngt.generation.distance_rule(10, shape=shape, nodes=num_nodes, avg_deg=5)\n\ncc = nngt.analysis.local_clustering(g)\n\nnngt.plot.draw_network(g, ncolor=cc, axis=axes[1, 1], tight=False, show=False)\n\naxes[1, 1].set_title(\"Spatial layout\")\n\nplt.tight_layout()\n\n# save figure\n\nfname = os.getcwd() + \"/layouts.png\"\n\nplt.savefig(fname)\nplt.switch_backend(mpl_backend)\n\nimg = plt.imread(fname)\n\n_, ax = plt.subplots(figsize=(10, 8))\nax.imshow(img)\n\nax.axis('off')\n\nplt.tight_layout()\nplt.show()\n\ntry:\n    os.remove(fname)\nexcept:\n    pass"
      ]
    },
    {
      "cell_type": "markdown",
      "metadata": {},
      "source": [
        "Note that the last lines are just a little trick to make the figure be\nautomatically detected by Sphinx-gallery. For normal use cases you can just\ndo a regular ``plt.show()``.\n\n"
      ]
    }
  ],
  "metadata": {
    "kernelspec": {
      "display_name": "Python 3",
      "language": "python",
      "name": "python3"
    },
    "language_info": {
      "codemirror_mode": {
        "name": "ipython",
        "version": 3
      },
      "file_extension": ".py",
      "mimetype": "text/x-python",
      "name": "python",
      "nbconvert_exporter": "python",
      "pygments_lexer": "ipython3",
      "version": "3.8.6"
    }
  },
  "nbformat": 4,
  "nbformat_minor": 0
}