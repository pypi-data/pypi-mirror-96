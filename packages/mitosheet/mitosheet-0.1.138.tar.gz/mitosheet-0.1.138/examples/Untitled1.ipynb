{
 "cells": [
  {
   "cell_type": "code",
   "execution_count": 2,
   "id": "subject-embassy",
   "metadata": {},
   "outputs": [
    {
     "data": {
      "application/vnd.jupyter.widget-view+json": {
       "model_id": "ccfe1c17bfa04ad99d6277d0e77edf56",
       "version_major": 2,
       "version_minor": 0
      },
      "text/plain": [
       "MitoWidget(analysis_name='UUID-b160fd60-1983-45b5-8c2d-d1dd90b2f8f0', code_json='{\"imports\": \"from mitosheet i…"
      ]
     },
     "metadata": {},
     "output_type": "display_data"
    }
   ],
   "source": [
    "import pandas as pd\n",
    "import mitosheet\n",
    "df1 = pd.DataFrame(data={'A': ['123', '1', '2', '3', '4', '5', '5', '6', '7', '8', '9'], 'B': [123, 1, 2, 3, 4, 5, 5, 6, 7, 8, 9], 'C': [123, '1', '2', '3', 4, 5, 5, 6, 7, 8, 9], 'Date': ['2001-01-01', '2002-01-01', '2003-01-01','2004-01-01', '2005-01-01', '2006-01-01', '2007-01-01', '2008-01-01', '2009-01-01', '2010-01-01', '2011-01-01']})\n",
    "df1['Date'] = pd.to_datetime(df1['Date'])\n",
    "mitosheet.sheet(df1)"
   ]
  },
  {
   "cell_type": "code",
   "execution_count": null,
   "id": "sunset-capability",
   "metadata": {},
   "outputs": [],
   "source": [
    "# MITO CODE START (DO NOT EDIT)\n",
    "# SAVED-ANALYSIS-STARTUUID-b160fd60-1983-45b5-8c2d-d1dd90b2f8f0SAVED-ANALYSIS-END\n",
    "\n",
    "from mitosheet import *\n",
    "\n",
    "# Step 1\n",
    "\n",
    "df1['E'] = 0\n",
    "\n",
    "# Step 2\n",
    "\n",
    "df1.drop('E', axis=1, inplace=True)\n",
    "\n",
    "# Step 3\n",
    "\n",
    "df1['E'] = 0\n",
    "\n",
    "# Step 4\n",
    "\n",
    "df1['F'] = 0\n",
    "\n",
    "# Step 5\n",
    "\n",
    "df1['G'] = 0\n",
    "\n",
    "# Step 6\n",
    "\n",
    "temp_df = df1.drop_duplicates(subset='A')\n",
    "\n",
    "df2 = df1.merge(temp_df, left_on=['A'], right_on=['A'], how='left', suffixes=['_df1', '_df1_2'])\n",
    "\n",
    "# Step 7\n",
    "\n",
    "df3 = pd.DataFrame(data={})\n",
    "\n",
    "# Step 8\n",
    "\n",
    "df1_columns = [col for col in df1.columns if col != 'C']\n",
    "\n",
    "df1_columns.insert(1, 'C')\n",
    "\n",
    "df1 = df1[df1_columns]\n",
    "\n",
    "# Step 9\n",
    "\n",
    "df1.rename(columns={\"C\": \"Renamed\"}, inplace=True)\n",
    "\n",
    "# Step 10\n",
    "\n",
    "import pandas as pd\n",
    "\n",
    "df2_csv = pd.read_csv('df2.csv')\n",
    "\n",
    "# Step 11\n",
    "\n",
    "import pandas as pd\n",
    "\n",
    "df = pd.DataFrame({'A': [123]})\n",
    "\n",
    "# Step 12\n",
    "\n",
    "import pandas as pd\n",
    "\n",
    "df2_csv_0 = pd.read_csv('df2.csv')\n",
    "\n",
    "df2_csv_1 = pd.read_csv('df2.csv')\n",
    "\n",
    "df1_csv = pd.read_csv('df1.csv')\n",
    "\n",
    "# Step 13\n",
    "\n",
    "del df1_csv\n",
    "\n",
    "# Step 14\n",
    "\n",
    "df2_csv_1_copy = df2_csv_1.copy(deep=True)\n",
    "\n",
    "# Step 15\n",
    "\n",
    "Test = df2_csv_1_copy\n",
    "  \n",
    "# MITO CODE END (DO NOT EDIT)"
   ]
  },
  {
   "cell_type": "code",
   "execution_count": null,
   "id": "unlike-action",
   "metadata": {},
   "outputs": [],
   "source": []
  }
 ],
 "metadata": {
  "kernelspec": {
   "display_name": "Python 3",
   "language": "python",
   "name": "python3"
  },
  "language_info": {
   "codemirror_mode": {
    "name": "ipython",
    "version": 3
   },
   "file_extension": ".py",
   "mimetype": "text/x-python",
   "name": "python",
   "nbconvert_exporter": "python",
   "pygments_lexer": "ipython3",
   "version": "3.8.5"
  },
  "widgets": {
   "application/vnd.jupyter.widget-state+json": {
    "state": {
     "578cdda7aa0e4b0991bfa7aab1e80143": {
      "model_module": "mitosheet",
      "model_module_version": "^0.1.127",
      "model_name": "ExampleModel",
      "state": {
       "_model_module_version": "^0.1.127",
       "_view_module_version": "^0.1.127",
       "analysis_name": "UUID-b25458ab-f858-4741-b1db-7b99208ed153",
       "code_json": "{\"imports\": \"from mitosheet import *\", \"code\": [\"# Step 1\", \"df1['E'] = 0\", \"# Step 2\", \"df1.drop('E', axis=1, inplace=True)\", \"# Step 3\", \"df1['E'] = 0\", \"# Step 4\", \"df1['F'] = 0\", \"# Step 5\", \"df1['G'] = 0\", \"# Step 6\", \"temp_df = df1.drop_duplicates(subset='A')\", \"df2 = df1.merge(temp_df, left_on=['A'], right_on=['A'], how='left', suffixes=['_df1', '_df1_2'])\", \"# Step 7\", \"df3 = pd.DataFrame(data={})\", \"# Step 8\", \"df1_columns = [col for col in df1.columns if col != 'C']\", \"df1_columns.insert(1, 'C')\", \"df1 = df1[df1_columns]\", \"# Step 9\", \"df1.rename(columns={\\\"C\\\": \\\"Renamed\\\"}, inplace=True)\", \"# Step 10\", \"import pandas as pd\", \"df2_csv = pd.read_csv('df2.csv')\", \"# Step 11\", \"import pandas as pd\", \"df = pd.DataFrame({'A': [123]})\", \"# Step 12\", \"import pandas as pd\", \"df2_csv_0 = pd.read_csv('df2.csv')\", \"df2_csv_1 = pd.read_csv('df2.csv')\", \"df1_csv = pd.read_csv('df1.csv')\", \"# Step 13\", \"del df1_csv\", \"# Step 14\", \"df2_csv_1_copy = df2_csv_1.copy(deep=True)\", \"# Step 15\", \"Test = df2_csv_1_copy\"]}",
       "column_filters_json": "[{\"A\": {\"operator\": \"And\", \"filters\": []}, \"B\": {\"operator\": \"And\", \"filters\": []}, \"Date\": {\"operator\": \"And\", \"filters\": []}, \"E\": {\"operator\": \"And\", \"filters\": []}, \"F\": {\"operator\": \"And\", \"filters\": []}, \"G\": {\"operator\": \"And\", \"filters\": []}, \"Renamed\": {\"operator\": \"And\", \"filters\": []}}, {\"A\": {\"operator\": \"And\", \"filters\": []}, \"B_df1\": {\"operator\": \"And\", \"filters\": []}, \"C_df1\": {\"operator\": \"And\", \"filters\": []}, \"Date_df1\": {\"operator\": \"And\", \"filters\": []}, \"E_df1\": {\"operator\": \"And\", \"filters\": []}, \"F_df1\": {\"operator\": \"And\", \"filters\": []}, \"G_df1\": {\"operator\": \"And\", \"filters\": []}, \"B_df1_2\": {\"operator\": \"And\", \"filters\": []}, \"C_df1_2\": {\"operator\": \"And\", \"filters\": []}, \"Date_df1_2\": {\"operator\": \"And\", \"filters\": []}, \"E_df1_2\": {\"operator\": \"And\", \"filters\": []}, \"F_df1_2\": {\"operator\": \"And\", \"filters\": []}, \"G_df1_2\": {\"operator\": \"And\", \"filters\": []}}, {}, {\"A\": {\"operator\": \"And\", \"filters\": []}, \"B\": {\"operator\": \"And\", \"filters\": []}}, {\"A\": {\"operator\": \"And\", \"filters\": []}}, {\"A\": {\"operator\": \"And\", \"filters\": []}, \"B\": {\"operator\": \"And\", \"filters\": []}}, {\"A\": {\"operator\": \"And\", \"filters\": []}, \"B\": {\"operator\": \"And\", \"filters\": []}}, {\"A\": {\"operator\": \"And\", \"filters\": []}, \"B\": {\"operator\": \"And\", \"filters\": []}}]",
       "column_spreadsheet_code_json": "[{\"A\": \"\", \"B\": \"\", \"Date\": \"\", \"E\": \"=0\", \"F\": \"=0\", \"G\": \"=0\", \"Renamed\": \"\"}, {\"A\": \"\", \"B_df1\": \"\", \"C_df1\": \"\", \"Date_df1\": \"\", \"E_df1\": \"\", \"F_df1\": \"\", \"G_df1\": \"\", \"B_df1_2\": \"\", \"C_df1_2\": \"\", \"Date_df1_2\": \"\", \"E_df1_2\": \"\", \"F_df1_2\": \"\", \"G_df1_2\": \"\"}, {}, {\"A\": \"\", \"B\": \"\"}, {\"A\": \"\"}, {\"A\": \"\", \"B\": \"\"}, {\"A\": \"\", \"B\": \"\"}, {\"A\": \"\", \"B\": \"\"}]",
       "column_type_json": "[{\"A\": \"string\", \"B\": \"number\", \"Date\": \"datetime\", \"E\": \"number\", \"F\": \"number\", \"G\": \"number\", \"Renamed\": \"string\"}, {\"A\": \"string\", \"B_df1\": \"number\", \"C_df1\": \"string\", \"Date_df1\": \"datetime\", \"E_df1\": \"number\", \"F_df1\": \"number\", \"G_df1\": \"number\", \"B_df1_2\": \"number\", \"C_df1_2\": \"string\", \"Date_df1_2\": \"datetime\", \"E_df1_2\": \"number\", \"F_df1_2\": \"number\", \"G_df1_2\": \"number\"}, {}, {\"A\": \"number\", \"B\": \"number\"}, {\"A\": \"number\"}, {\"A\": \"number\", \"B\": \"number\"}, {\"A\": \"number\", \"B\": \"number\"}, {\"A\": \"number\", \"B\": \"number\"}]",
       "df_names_json": "{\"df_names\": [\"df1\", \"df2\", \"df3\", \"df2_csv\", \"df\", \"df2_csv_0\", \"df2_csv_1\", \"Test\"]}",
       "df_shape_json": "[{\"rows\": 11, \"cols\": 7}, {\"rows\": 11, \"cols\": 13}, {\"rows\": 0, \"cols\": 0}, {\"rows\": 3, \"cols\": 2}, {\"rows\": 1, \"cols\": 1}, {\"rows\": 3, \"cols\": 2}, {\"rows\": 3, \"cols\": 2}, {\"rows\": 3, \"cols\": 2}]",
       "has_rendered": true,
       "is_local_deployment": true,
       "layout": "IPY_MODEL_6ff8765fb08e4a73a4976c295da372ce",
       "saved_analysis_names_json": "[\"111\", \"1111\", \"28\", \"Testing\", \"_3arkvynuo\", \"_3e8aofl97\", \"_3lq89onhk\", \"_419wxryas\", \"_49hlkjtgp\", \"_88amfqk2f\", \"_8b9x4aa2m\", \"_cb27694sr\", \"_gs9b8mudg\", \"_hexaujrz3\", \"_jtip39qtx\", \"_k4ce9w8om\", \"_ktv9i6xtb\", \"_nauipuq8o\", \"_ojtvedr82\", \"_pqhosvvvn\", \"_rqyqe9rfu\", \"_yd64b4y4m\", \"test\", \"to_test\"]",
       "sheet_json": "[{\"columns\": [\"A\", \"Renamed\", \"B\", \"Date\", \"E\", \"F\", \"G\"], \"index\": [0, 1, 2, 3, 4, 5, 6, 7, 8, 9, 10], \"data\": [[\"123\", 123, 123, \"2001-01-01 00:00:00\", 0, 0, 0], [\"1\", \"1\", 1, \"2002-01-01 00:00:00\", 0, 0, 0], [\"2\", \"2\", 2, \"2003-01-01 00:00:00\", 0, 0, 0], [\"3\", \"3\", 3, \"2004-01-01 00:00:00\", 0, 0, 0], [\"4\", 4, 4, \"2005-01-01 00:00:00\", 0, 0, 0], [\"5\", 5, 5, \"2006-01-01 00:00:00\", 0, 0, 0], [\"5\", 5, 5, \"2007-01-01 00:00:00\", 0, 0, 0], [\"6\", 6, 6, \"2008-01-01 00:00:00\", 0, 0, 0], [\"7\", 7, 7, \"2009-01-01 00:00:00\", 0, 0, 0], [\"8\", 8, 8, \"2010-01-01 00:00:00\", 0, 0, 0], [\"9\", 9, 9, \"2011-01-01 00:00:00\", 0, 0, 0]]}, {\"columns\": [\"A\", \"B_df1\", \"C_df1\", \"Date_df1\", \"E_df1\", \"F_df1\", \"G_df1\", \"B_df1_2\", \"C_df1_2\", \"Date_df1_2\", \"E_df1_2\", \"F_df1_2\", \"G_df1_2\"], \"index\": [0, 1, 2, 3, 4, 5, 6, 7, 8, 9, 10], \"data\": [[\"123\", 123, 123, \"2001-01-01 00:00:00\", 0, 0, 0, 123, 123, \"2001-01-01 00:00:00\", 0, 0, 0], [\"1\", 1, \"1\", \"2002-01-01 00:00:00\", 0, 0, 0, 1, \"1\", \"2002-01-01 00:00:00\", 0, 0, 0], [\"2\", 2, \"2\", \"2003-01-01 00:00:00\", 0, 0, 0, 2, \"2\", \"2003-01-01 00:00:00\", 0, 0, 0], [\"3\", 3, \"3\", \"2004-01-01 00:00:00\", 0, 0, 0, 3, \"3\", \"2004-01-01 00:00:00\", 0, 0, 0], [\"4\", 4, 4, \"2005-01-01 00:00:00\", 0, 0, 0, 4, 4, \"2005-01-01 00:00:00\", 0, 0, 0], [\"5\", 5, 5, \"2006-01-01 00:00:00\", 0, 0, 0, 5, 5, \"2006-01-01 00:00:00\", 0, 0, 0], [\"5\", 5, 5, \"2007-01-01 00:00:00\", 0, 0, 0, 5, 5, \"2006-01-01 00:00:00\", 0, 0, 0], [\"6\", 6, 6, \"2008-01-01 00:00:00\", 0, 0, 0, 6, 6, \"2008-01-01 00:00:00\", 0, 0, 0], [\"7\", 7, 7, \"2009-01-01 00:00:00\", 0, 0, 0, 7, 7, \"2009-01-01 00:00:00\", 0, 0, 0], [\"8\", 8, 8, \"2010-01-01 00:00:00\", 0, 0, 0, 8, 8, \"2010-01-01 00:00:00\", 0, 0, 0], [\"9\", 9, 9, \"2011-01-01 00:00:00\", 0, 0, 0, 9, 9, \"2011-01-01 00:00:00\", 0, 0, 0]]}, {\"columns\": [], \"index\": [], \"data\": []}, {\"columns\": [\"A\", \"B\"], \"index\": [0, 1, 2], \"data\": [[7, 10], [8, 11], [9, 12]]}, {\"columns\": [\"A\"], \"index\": [0], \"data\": [[123]]}, {\"columns\": [\"A\", \"B\"], \"index\": [0, 1, 2], \"data\": [[7, 10], [8, 11], [9, 12]]}, {\"columns\": [\"A\", \"B\"], \"index\": [0, 1, 2], \"data\": [[7, 10], [8, 11], [9, 12]]}, {\"columns\": [\"A\", \"B\"], \"index\": [0, 1, 2], \"data\": [[7, 10], [8, 11], [9, 12]]}]",
       "should_upgrade_mitosheet": false,
       "step_data_list_json": "[{\"step_id\": \"init\", \"step_type\": \"initialize\", \"step_display_name\": \"Created a Mitosheet\", \"step_description\": \"Created a mitosheet with 1 dataframes\"}, {\"step_id\": \"55fd310e-7065-11eb-ba39-acde48001122\", \"step_type\": \"add_column\", \"step_display_name\": \"Added a Column\", \"step_description\": \"Added column E to df1\"}, {\"step_id\": \"55fd6e3a-7065-11eb-ba39-acde48001122\", \"step_type\": \"delete_column\", \"step_display_name\": \"Deleted a Column\", \"step_description\": \"Deleted column E from df1\"}, {\"step_id\": \"55fd8d2a-7065-11eb-ba39-acde48001122\", \"step_type\": \"add_column\", \"step_display_name\": \"Added a Column\", \"step_description\": \"Added column E to df1\"}, {\"step_id\": \"55fdae68-7065-11eb-ba39-acde48001122\", \"step_type\": \"add_column\", \"step_display_name\": \"Added a Column\", \"step_description\": \"Added column F to df1\"}, {\"step_id\": \"55fdcc18-7065-11eb-ba39-acde48001122\", \"step_type\": \"add_column\", \"step_display_name\": \"Added a Column\", \"step_description\": \"Added column G to df1\"}, {\"step_id\": \"55fefea8-7065-11eb-ba39-acde48001122\", \"step_type\": \"merge\", \"step_display_name\": \"Merged Two Dataframes\", \"step_description\": \"Merged df1 and df1\"}, {\"step_id\": \"55ff196a-7065-11eb-ba39-acde48001122\", \"step_type\": \"pivot\", \"step_display_name\": \"Pivoted a Dataframe\", \"step_description\": \"Pivoted df2 into df3\"}, {\"step_id\": \"55ff4aac-7065-11eb-ba39-acde48001122\", \"step_type\": \"reorder_column\", \"step_display_name\": \"Reordered Columns\", \"step_description\": \"Reordered C in df1\"}, {\"step_id\": \"55ff702c-7065-11eb-ba39-acde48001122\", \"step_type\": \"rename_column\", \"step_display_name\": \"Renamed a Column\", \"step_description\": \"Renamed C to Renamed in df1\"}, {\"step_id\": \"55ffffec-7065-11eb-ba39-acde48001122\", \"step_type\": \"simple_import\", \"step_display_name\": \"Imported CSV Files\", \"step_description\": \"Imported df2.csv\"}, {\"step_id\": \"56003804-7065-11eb-ba39-acde48001122\", \"step_type\": \"raw_python_import\", \"step_display_name\": \"Imported Using Python Code\", \"step_description\": \"Imported df\"}, {\"step_id\": \"56010a9a-7065-11eb-ba39-acde48001122\", \"step_type\": \"simple_import\", \"step_display_name\": \"Imported CSV Files\", \"step_description\": \"Imported df2.csv, df2.csv, df1.csv\"}, {\"step_id\": \"56012b6a-7065-11eb-ba39-acde48001122\", \"step_type\": \"dataframe_delete\", \"step_display_name\": \"Deleted a Dataframe\", \"step_description\": \"Deleted dataframe df1_csv\"}, {\"step_id\": \"56014cbc-7065-11eb-ba39-acde48001122\", \"step_type\": \"dataframe_duplicate\", \"step_display_name\": \"Duplicated a Dataframe\", \"step_description\": \"Duplicated df2_csv_1 to df2_csv_1_copy\"}, {\"step_id\": \"56016a4e-7065-11eb-ba39-acde48001122\", \"step_type\": \"dataframe_rename\", \"step_display_name\": \"Renamed a Dataframe\", \"step_description\": \"Renamed df2_csv_1_copy to Test\"}]",
       "tutorial_mode": false,
       "user_email": "naterush1997@gmail.com",
       "value": "Hello World"
      }
     },
     "6ff8765fb08e4a73a4976c295da372ce": {
      "model_module": "@jupyter-widgets/base",
      "model_module_version": "1.2.0",
      "model_name": "LayoutModel",
      "state": {}
     },
     "c52625a08e8d49688c178ed41e34bebb": {
      "model_module": "@jupyter-widgets/base",
      "model_module_version": "1.2.0",
      "model_name": "LayoutModel",
      "state": {}
     },
     "ccfe1c17bfa04ad99d6277d0e77edf56": {
      "model_module": "mitosheet",
      "model_module_version": "^0.1.127",
      "model_name": "ExampleModel",
      "state": {
       "_model_module_version": "^0.1.127",
       "_view_module_version": "^0.1.127",
       "analysis_name": "UUID-b160fd60-1983-45b5-8c2d-d1dd90b2f8f0",
       "code_json": "{\"imports\": \"from mitosheet import *\", \"code\": [\"# Step 1\", \"df1['E'] = 0\", \"# Step 2\", \"df1.drop('E', axis=1, inplace=True)\", \"# Step 3\", \"df1['E'] = 0\", \"# Step 4\", \"df1['F'] = 0\", \"# Step 5\", \"df1['G'] = 0\", \"# Step 6\", \"temp_df = df1.drop_duplicates(subset='A')\", \"df2 = df1.merge(temp_df, left_on=['A'], right_on=['A'], how='left', suffixes=['_df1', '_df1_2'])\", \"# Step 7\", \"df3 = pd.DataFrame(data={})\", \"# Step 8\", \"df1_columns = [col for col in df1.columns if col != 'C']\", \"df1_columns.insert(1, 'C')\", \"df1 = df1[df1_columns]\", \"# Step 9\", \"df1.rename(columns={\\\"C\\\": \\\"Renamed\\\"}, inplace=True)\", \"# Step 10\", \"import pandas as pd\", \"df2_csv = pd.read_csv('df2.csv')\", \"# Step 11\", \"import pandas as pd\", \"df = pd.DataFrame({'A': [123]})\", \"# Step 12\", \"import pandas as pd\", \"df2_csv_0 = pd.read_csv('df2.csv')\", \"df2_csv_1 = pd.read_csv('df2.csv')\", \"df1_csv = pd.read_csv('df1.csv')\", \"# Step 13\", \"del df1_csv\", \"# Step 14\", \"df2_csv_1_copy = df2_csv_1.copy(deep=True)\", \"# Step 15\", \"Test = df2_csv_1_copy\"]}",
       "column_filters_json": "[{\"A\": {\"operator\": \"And\", \"filters\": []}, \"B\": {\"operator\": \"And\", \"filters\": []}, \"Date\": {\"operator\": \"And\", \"filters\": []}, \"E\": {\"operator\": \"And\", \"filters\": []}, \"F\": {\"operator\": \"And\", \"filters\": []}, \"G\": {\"operator\": \"And\", \"filters\": []}, \"Renamed\": {\"operator\": \"And\", \"filters\": []}}, {\"A\": {\"operator\": \"And\", \"filters\": []}, \"B_df1\": {\"operator\": \"And\", \"filters\": []}, \"C_df1\": {\"operator\": \"And\", \"filters\": []}, \"Date_df1\": {\"operator\": \"And\", \"filters\": []}, \"E_df1\": {\"operator\": \"And\", \"filters\": []}, \"F_df1\": {\"operator\": \"And\", \"filters\": []}, \"G_df1\": {\"operator\": \"And\", \"filters\": []}, \"B_df1_2\": {\"operator\": \"And\", \"filters\": []}, \"C_df1_2\": {\"operator\": \"And\", \"filters\": []}, \"Date_df1_2\": {\"operator\": \"And\", \"filters\": []}, \"E_df1_2\": {\"operator\": \"And\", \"filters\": []}, \"F_df1_2\": {\"operator\": \"And\", \"filters\": []}, \"G_df1_2\": {\"operator\": \"And\", \"filters\": []}}, {}, {\"A\": {\"operator\": \"And\", \"filters\": []}, \"B\": {\"operator\": \"And\", \"filters\": []}}, {\"A\": {\"operator\": \"And\", \"filters\": []}}, {\"A\": {\"operator\": \"And\", \"filters\": []}, \"B\": {\"operator\": \"And\", \"filters\": []}}, {\"A\": {\"operator\": \"And\", \"filters\": []}, \"B\": {\"operator\": \"And\", \"filters\": []}}, {\"A\": {\"operator\": \"And\", \"filters\": []}, \"B\": {\"operator\": \"And\", \"filters\": []}}]",
       "column_spreadsheet_code_json": "[{\"A\": \"\", \"B\": \"\", \"Date\": \"\", \"E\": \"=0\", \"F\": \"=0\", \"G\": \"=0\", \"Renamed\": \"\"}, {\"A\": \"\", \"B_df1\": \"\", \"C_df1\": \"\", \"Date_df1\": \"\", \"E_df1\": \"\", \"F_df1\": \"\", \"G_df1\": \"\", \"B_df1_2\": \"\", \"C_df1_2\": \"\", \"Date_df1_2\": \"\", \"E_df1_2\": \"\", \"F_df1_2\": \"\", \"G_df1_2\": \"\"}, {}, {\"A\": \"\", \"B\": \"\"}, {\"A\": \"\"}, {\"A\": \"\", \"B\": \"\"}, {\"A\": \"\", \"B\": \"\"}, {\"A\": \"\", \"B\": \"\"}]",
       "column_type_json": "[{\"A\": \"string\", \"B\": \"number\", \"Date\": \"datetime\", \"E\": \"number\", \"F\": \"number\", \"G\": \"number\", \"Renamed\": \"string\"}, {\"A\": \"string\", \"B_df1\": \"number\", \"C_df1\": \"string\", \"Date_df1\": \"datetime\", \"E_df1\": \"number\", \"F_df1\": \"number\", \"G_df1\": \"number\", \"B_df1_2\": \"number\", \"C_df1_2\": \"string\", \"Date_df1_2\": \"datetime\", \"E_df1_2\": \"number\", \"F_df1_2\": \"number\", \"G_df1_2\": \"number\"}, {}, {\"A\": \"number\", \"B\": \"number\"}, {\"A\": \"number\"}, {\"A\": \"number\", \"B\": \"number\"}, {\"A\": \"number\", \"B\": \"number\"}, {\"A\": \"number\", \"B\": \"number\"}]",
       "df_names_json": "{\"df_names\": [\"df1\", \"df2\", \"df3\", \"df2_csv\", \"df\", \"df2_csv_0\", \"df2_csv_1\", \"Test\"]}",
       "df_shape_json": "[{\"rows\": 11, \"cols\": 7}, {\"rows\": 11, \"cols\": 13}, {\"rows\": 0, \"cols\": 0}, {\"rows\": 3, \"cols\": 2}, {\"rows\": 1, \"cols\": 1}, {\"rows\": 3, \"cols\": 2}, {\"rows\": 3, \"cols\": 2}, {\"rows\": 3, \"cols\": 2}]",
       "has_rendered": true,
       "is_local_deployment": true,
       "layout": "IPY_MODEL_c52625a08e8d49688c178ed41e34bebb",
       "saved_analysis_names_json": "[\"111\", \"1111\", \"28\", \"Testing\", \"_3arkvynuo\", \"_3e8aofl97\", \"_3lq89onhk\", \"_419wxryas\", \"_49hlkjtgp\", \"_88amfqk2f\", \"_8b9x4aa2m\", \"_cb27694sr\", \"_gs9b8mudg\", \"_hexaujrz3\", \"_jtip39qtx\", \"_k4ce9w8om\", \"_ktv9i6xtb\", \"_nauipuq8o\", \"_ojtvedr82\", \"_pqhosvvvn\", \"_rqyqe9rfu\", \"_yd64b4y4m\", \"test\", \"to_test\"]",
       "sheet_json": "[{\"columns\": [\"A\", \"Renamed\", \"B\", \"Date\", \"E\", \"F\", \"G\"], \"index\": [0, 1, 2, 3, 4, 5, 6, 7, 8, 9, 10], \"data\": [[\"123\", 123, 123, \"2001-01-01 00:00:00\", 0, 0, 0], [\"1\", \"1\", 1, \"2002-01-01 00:00:00\", 0, 0, 0], [\"2\", \"2\", 2, \"2003-01-01 00:00:00\", 0, 0, 0], [\"3\", \"3\", 3, \"2004-01-01 00:00:00\", 0, 0, 0], [\"4\", 4, 4, \"2005-01-01 00:00:00\", 0, 0, 0], [\"5\", 5, 5, \"2006-01-01 00:00:00\", 0, 0, 0], [\"5\", 5, 5, \"2007-01-01 00:00:00\", 0, 0, 0], [\"6\", 6, 6, \"2008-01-01 00:00:00\", 0, 0, 0], [\"7\", 7, 7, \"2009-01-01 00:00:00\", 0, 0, 0], [\"8\", 8, 8, \"2010-01-01 00:00:00\", 0, 0, 0], [\"9\", 9, 9, \"2011-01-01 00:00:00\", 0, 0, 0]]}, {\"columns\": [\"A\", \"B_df1\", \"C_df1\", \"Date_df1\", \"E_df1\", \"F_df1\", \"G_df1\", \"B_df1_2\", \"C_df1_2\", \"Date_df1_2\", \"E_df1_2\", \"F_df1_2\", \"G_df1_2\"], \"index\": [0, 1, 2, 3, 4, 5, 6, 7, 8, 9, 10], \"data\": [[\"123\", 123, 123, \"2001-01-01 00:00:00\", 0, 0, 0, 123, 123, \"2001-01-01 00:00:00\", 0, 0, 0], [\"1\", 1, \"1\", \"2002-01-01 00:00:00\", 0, 0, 0, 1, \"1\", \"2002-01-01 00:00:00\", 0, 0, 0], [\"2\", 2, \"2\", \"2003-01-01 00:00:00\", 0, 0, 0, 2, \"2\", \"2003-01-01 00:00:00\", 0, 0, 0], [\"3\", 3, \"3\", \"2004-01-01 00:00:00\", 0, 0, 0, 3, \"3\", \"2004-01-01 00:00:00\", 0, 0, 0], [\"4\", 4, 4, \"2005-01-01 00:00:00\", 0, 0, 0, 4, 4, \"2005-01-01 00:00:00\", 0, 0, 0], [\"5\", 5, 5, \"2006-01-01 00:00:00\", 0, 0, 0, 5, 5, \"2006-01-01 00:00:00\", 0, 0, 0], [\"5\", 5, 5, \"2007-01-01 00:00:00\", 0, 0, 0, 5, 5, \"2006-01-01 00:00:00\", 0, 0, 0], [\"6\", 6, 6, \"2008-01-01 00:00:00\", 0, 0, 0, 6, 6, \"2008-01-01 00:00:00\", 0, 0, 0], [\"7\", 7, 7, \"2009-01-01 00:00:00\", 0, 0, 0, 7, 7, \"2009-01-01 00:00:00\", 0, 0, 0], [\"8\", 8, 8, \"2010-01-01 00:00:00\", 0, 0, 0, 8, 8, \"2010-01-01 00:00:00\", 0, 0, 0], [\"9\", 9, 9, \"2011-01-01 00:00:00\", 0, 0, 0, 9, 9, \"2011-01-01 00:00:00\", 0, 0, 0]]}, {\"columns\": [], \"index\": [], \"data\": []}, {\"columns\": [\"A\", \"B\"], \"index\": [0, 1, 2], \"data\": [[7, 10], [8, 11], [9, 12]]}, {\"columns\": [\"A\"], \"index\": [0], \"data\": [[123]]}, {\"columns\": [\"A\", \"B\"], \"index\": [0, 1, 2], \"data\": [[7, 10], [8, 11], [9, 12]]}, {\"columns\": [\"A\", \"B\"], \"index\": [0, 1, 2], \"data\": [[7, 10], [8, 11], [9, 12]]}, {\"columns\": [\"A\", \"B\"], \"index\": [0, 1, 2], \"data\": [[7, 10], [8, 11], [9, 12]]}]",
       "should_upgrade_mitosheet": false,
       "step_data_list_json": "[{\"step_id\": \"init\", \"step_type\": \"initialize\", \"step_display_name\": \"Created a Mitosheet\", \"step_description\": \"Created a mitosheet with 1 dataframes\"}, {\"step_id\": \"66ef068a-7066-11eb-ba39-acde48001122\", \"step_type\": \"add_column\", \"step_display_name\": \"Added a Column\", \"step_description\": \"Added column E to df1\"}, {\"step_id\": \"66ef449c-7066-11eb-ba39-acde48001122\", \"step_type\": \"delete_column\", \"step_display_name\": \"Deleted a Column\", \"step_description\": \"Deleted column E from df1\"}, {\"step_id\": \"66ef6436-7066-11eb-ba39-acde48001122\", \"step_type\": \"add_column\", \"step_display_name\": \"Added a Column\", \"step_description\": \"Added column E to df1\"}, {\"step_id\": \"66ef7dfe-7066-11eb-ba39-acde48001122\", \"step_type\": \"add_column\", \"step_display_name\": \"Added a Column\", \"step_description\": \"Added column F to df1\"}, {\"step_id\": \"66ef9622-7066-11eb-ba39-acde48001122\", \"step_type\": \"add_column\", \"step_display_name\": \"Added a Column\", \"step_description\": \"Added column G to df1\"}, {\"step_id\": \"66f0adc8-7066-11eb-ba39-acde48001122\", \"step_type\": \"merge\", \"step_display_name\": \"Merged Two Dataframes\", \"step_description\": \"Merged df1 and df1\"}, {\"step_id\": \"66f0d136-7066-11eb-ba39-acde48001122\", \"step_type\": \"pivot\", \"step_display_name\": \"Pivoted a Dataframe\", \"step_description\": \"Pivoted df2 into df3\"}, {\"step_id\": \"66f10c1e-7066-11eb-ba39-acde48001122\", \"step_type\": \"reorder_column\", \"step_display_name\": \"Reordered Columns\", \"step_description\": \"Reordered C in df1\"}, {\"step_id\": \"66f12e4c-7066-11eb-ba39-acde48001122\", \"step_type\": \"rename_column\", \"step_display_name\": \"Renamed a Column\", \"step_description\": \"Renamed C to Renamed in df1\"}, {\"step_id\": \"66f1bb1e-7066-11eb-ba39-acde48001122\", \"step_type\": \"simple_import\", \"step_display_name\": \"Imported CSV Files\", \"step_description\": \"Imported df2.csv\"}, {\"step_id\": \"66f1f2dc-7066-11eb-ba39-acde48001122\", \"step_type\": \"raw_python_import\", \"step_display_name\": \"Imported Using Python Code\", \"step_description\": \"Imported df\"}, {\"step_id\": \"66f2db7a-7066-11eb-ba39-acde48001122\", \"step_type\": \"simple_import\", \"step_display_name\": \"Imported CSV Files\", \"step_description\": \"Imported df2.csv, df2.csv, df1.csv\"}, {\"step_id\": \"66f30122-7066-11eb-ba39-acde48001122\", \"step_type\": \"dataframe_delete\", \"step_display_name\": \"Deleted a Dataframe\", \"step_description\": \"Deleted dataframe df1_csv\"}, {\"step_id\": \"66f326e8-7066-11eb-ba39-acde48001122\", \"step_type\": \"dataframe_duplicate\", \"step_display_name\": \"Duplicated a Dataframe\", \"step_description\": \"Duplicated df2_csv_1 to df2_csv_1_copy\"}, {\"step_id\": \"66f34b78-7066-11eb-ba39-acde48001122\", \"step_type\": \"dataframe_rename\", \"step_display_name\": \"Renamed a Dataframe\", \"step_description\": \"Renamed df2_csv_1_copy to Test\"}]",
       "tutorial_mode": false,
       "user_email": "naterush1997@gmail.com",
       "value": "Hello World"
      }
     }
    },
    "version_major": 2,
    "version_minor": 0
   }
  }
 },
 "nbformat": 4,
 "nbformat_minor": 5
}
