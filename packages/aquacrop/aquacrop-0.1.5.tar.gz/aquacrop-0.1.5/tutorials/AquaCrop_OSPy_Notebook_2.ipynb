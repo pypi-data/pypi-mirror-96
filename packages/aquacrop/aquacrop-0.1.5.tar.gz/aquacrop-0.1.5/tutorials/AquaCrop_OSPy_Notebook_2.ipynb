{
 "cells": [
  {
   "cell_type": "markdown",
   "metadata": {
    "id": "F46q9WuSNxCZ"
   },
   "source": [
    "# AquaCrop-OSPy: Bridging the gap between research and practice in crop-water modelling\n"
   ]
  },
  {
   "cell_type": "markdown",
   "metadata": {
    "id": "qrRbaHsji3A-"
   },
   "source": [
    "This series of notebooks provides users with an introduction to AquaCrop-OSPy, an open-source Python implementation of the U.N. Food and Agriculture Organization (FAO) AquaCrop model. AquaCrop-OSPy is accompanied by a series of Jupyter notebooks, which guide users interactively through a range of common applications of the model. Only basic Python experience is required, and the notebooks can easily be extended and adapted by users for their own applications and needs."
   ]
  },
  {
   "cell_type": "markdown",
   "metadata": {
    "id": "YDm931IGNxCb"
   },
   "source": [
    "\n",
    "This notebook series consists of four parts:\n",
    "\n",
    "1.   <a href=https://colab.research.google.com/github/thomasdkelly/aquacrop/blob/master/tutorials/AquaCrop_OSPy_Notebook_1.ipynb>Running an AquaCrop-OSPy model</a>\n",
    "2.   <a href=https://colab.research.google.com/github/thomasdkelly/aquacrop/blob/master/tutorials/AquaCrop_OSPy_Notebook_2.ipynb>Estimation of irrigation water demands</a>\n",
    "3.   <a href=https://colab.research.google.com/github/thomasdkelly/aquacrop/blob/master/tutorials/AquaCrop_OSPy_Notebook_3.ipynb>Optimisation of irrigation management strategies</a>\n",
    "4.  <a href=https://colab.research.google.com/github/thomasdkelly/aquacrop/blob/master/tutorials/AquaCrop_OSPy_Notebook_4.ipynb>Projection of climate change impacts</a>\n"
   ]
  },
  {
   "cell_type": "markdown",
   "metadata": {
    "id": "S_5UOF8zsBnW"
   },
   "source": [
    "## Install and import AquaCrop-OSPy"
   ]
  },
  {
   "cell_type": "markdown",
   "metadata": {
    "id": "RGc6jj9wCEXL"
   },
   "source": [
    "Install and import aquacrop as we did in Notebook 1."
   ]
  },
  {
   "cell_type": "code",
   "execution_count": 1,
   "metadata": {
    "id": "B3U8T2CFsANX"
   },
   "outputs": [],
   "source": [
    "!pip install aquacrop==0.1.5\n",
    "\n",
    "from aquacrop.classes import    *\n",
    "from aquacrop.core import       *\n",
    "\n",
    "from google.colab import output\n",
    "output.clear()"
   ]
  },
  {
   "cell_type": "markdown",
   "metadata": {
    "id": "i1uPuwNbIUYa"
   },
   "source": [
    "# Notebook 2: Estimating irrigation water demands under different irrigation strategies"
   ]
  },
  {
   "cell_type": "markdown",
   "metadata": {
    "id": "YSGuaoYFJQ8n"
   },
   "source": [
    "In Notebook 1, we learned how to create an `AquaCropModel` by selecting a weather data file, `SoilClass`, `CropClass` and `InitWCClass` (initial water content). In this notebook, we show how AquaCrop-OSPy can be used to explore impacts of different irrigation management strategies on water use and crop yields. The example workflow below shows how different irrigation management practices can be defined in the model, and resulting impacts on water use productivity explored to support efficient irrigation scheduling and planning decisions.\n",
    "\n",
    "We start by creating a weather DataFrame containing daily measurements of minimum temperature, maximum temperature, precipitation and reference evapotranspiration. In this example we will use the built in file containing weather data from Champion, Nebraska, USA. (**link**). \n"
   ]
  },
  {
   "cell_type": "code",
   "execution_count": 2,
   "metadata": {
    "colab": {
     "base_uri": "https://localhost:8080/",
     "height": 419
    },
    "id": "OP24JYiSqaoN",
    "outputId": "6dc139d3-038b-4353-c93f-678e5b4b9ed3"
   },
   "outputs": [
    {
     "data": {
      "text/html": [
       "<div>\n",
       "<style scoped>\n",
       "    .dataframe tbody tr th:only-of-type {\n",
       "        vertical-align: middle;\n",
       "    }\n",
       "\n",
       "    .dataframe tbody tr th {\n",
       "        vertical-align: top;\n",
       "    }\n",
       "\n",
       "    .dataframe thead th {\n",
       "        text-align: right;\n",
       "    }\n",
       "</style>\n",
       "<table border=\"1\" class=\"dataframe\">\n",
       "  <thead>\n",
       "    <tr style=\"text-align: right;\">\n",
       "      <th></th>\n",
       "      <th>MinTemp</th>\n",
       "      <th>MaxTemp</th>\n",
       "      <th>Precipitation</th>\n",
       "      <th>ReferenceET</th>\n",
       "      <th>Date</th>\n",
       "    </tr>\n",
       "  </thead>\n",
       "  <tbody>\n",
       "    <tr>\n",
       "      <th>0</th>\n",
       "      <td>-21.11</td>\n",
       "      <td>3.33</td>\n",
       "      <td>0.0</td>\n",
       "      <td>1.59</td>\n",
       "      <td>1982-01-01</td>\n",
       "    </tr>\n",
       "    <tr>\n",
       "      <th>1</th>\n",
       "      <td>-10.00</td>\n",
       "      <td>0.56</td>\n",
       "      <td>0.0</td>\n",
       "      <td>0.86</td>\n",
       "      <td>1982-01-02</td>\n",
       "    </tr>\n",
       "    <tr>\n",
       "      <th>2</th>\n",
       "      <td>-11.67</td>\n",
       "      <td>-2.22</td>\n",
       "      <td>0.0</td>\n",
       "      <td>0.72</td>\n",
       "      <td>1982-01-03</td>\n",
       "    </tr>\n",
       "    <tr>\n",
       "      <th>3</th>\n",
       "      <td>-12.22</td>\n",
       "      <td>7.22</td>\n",
       "      <td>0.0</td>\n",
       "      <td>1.71</td>\n",
       "      <td>1982-01-04</td>\n",
       "    </tr>\n",
       "    <tr>\n",
       "      <th>4</th>\n",
       "      <td>-14.44</td>\n",
       "      <td>-1.11</td>\n",
       "      <td>0.0</td>\n",
       "      <td>0.92</td>\n",
       "      <td>1982-01-05</td>\n",
       "    </tr>\n",
       "    <tr>\n",
       "      <th>...</th>\n",
       "      <td>...</td>\n",
       "      <td>...</td>\n",
       "      <td>...</td>\n",
       "      <td>...</td>\n",
       "      <td>...</td>\n",
       "    </tr>\n",
       "    <tr>\n",
       "      <th>13509</th>\n",
       "      <td>-7.93</td>\n",
       "      <td>-2.01</td>\n",
       "      <td>0.0</td>\n",
       "      <td>0.52</td>\n",
       "      <td>2018-12-27</td>\n",
       "    </tr>\n",
       "    <tr>\n",
       "      <th>13510</th>\n",
       "      <td>-15.52</td>\n",
       "      <td>-5.35</td>\n",
       "      <td>0.0</td>\n",
       "      <td>0.62</td>\n",
       "      <td>2018-12-28</td>\n",
       "    </tr>\n",
       "    <tr>\n",
       "      <th>13511</th>\n",
       "      <td>-17.23</td>\n",
       "      <td>2.76</td>\n",
       "      <td>0.0</td>\n",
       "      <td>1.37</td>\n",
       "      <td>2018-12-29</td>\n",
       "    </tr>\n",
       "    <tr>\n",
       "      <th>13512</th>\n",
       "      <td>-11.28</td>\n",
       "      <td>10.96</td>\n",
       "      <td>0.0</td>\n",
       "      <td>2.13</td>\n",
       "      <td>2018-12-30</td>\n",
       "    </tr>\n",
       "    <tr>\n",
       "      <th>13513</th>\n",
       "      <td>-13.80</td>\n",
       "      <td>0.19</td>\n",
       "      <td>0.0</td>\n",
       "      <td>1.04</td>\n",
       "      <td>2018-12-31</td>\n",
       "    </tr>\n",
       "  </tbody>\n",
       "</table>\n",
       "<p>13514 rows × 5 columns</p>\n",
       "</div>"
      ],
      "text/plain": [
       "       MinTemp  MaxTemp  Precipitation  ReferenceET       Date\n",
       "0       -21.11     3.33            0.0         1.59 1982-01-01\n",
       "1       -10.00     0.56            0.0         0.86 1982-01-02\n",
       "2       -11.67    -2.22            0.0         0.72 1982-01-03\n",
       "3       -12.22     7.22            0.0         1.71 1982-01-04\n",
       "4       -14.44    -1.11            0.0         0.92 1982-01-05\n",
       "...        ...      ...            ...          ...        ...\n",
       "13509    -7.93    -2.01            0.0         0.52 2018-12-27\n",
       "13510   -15.52    -5.35            0.0         0.62 2018-12-28\n",
       "13511   -17.23     2.76            0.0         1.37 2018-12-29\n",
       "13512   -11.28    10.96            0.0         2.13 2018-12-30\n",
       "13513   -13.80     0.19            0.0         1.04 2018-12-31\n",
       "\n",
       "[13514 rows x 5 columns]"
      ]
     },
     "execution_count": 2,
     "metadata": {},
     "output_type": "execute_result"
    }
   ],
   "source": [
    "path = get_filepath('champion_climate.txt')\n",
    "wdf = prepare_weather(path)\n",
    "wdf"
   ]
  },
  {
   "cell_type": "markdown",
   "metadata": {
    "id": "jJJZ7HBGyavO"
   },
   "source": [
    "We will run a 37 season simulation starting at 1982-05-01 and ending on 2018-10-30"
   ]
  },
  {
   "cell_type": "code",
   "execution_count": 3,
   "metadata": {
    "id": "iDDiRd49ys4z"
   },
   "outputs": [],
   "source": [
    "sim_start = '1982/05/01'\n",
    "sim_end = '2018/10/30'"
   ]
  },
  {
   "cell_type": "markdown",
   "metadata": {
    "id": "_uC6-xp9qgqr"
   },
   "source": [
    "Next we must define a soil, crop and initial soil water content. This is done by creating a `SoilClass`, `CropClass` and `InitWCClass`. In this example we select a sandy loam soil, a Maize crop, and with the soil initially at Field Capacity."
   ]
  },
  {
   "cell_type": "code",
   "execution_count": 4,
   "metadata": {
    "id": "48rao7npqhP5"
   },
   "outputs": [],
   "source": [
    "soil= SoilClass('SandyLoam')\n",
    "\n",
    "crop = CropClass('Maize',PlantingDate='05/01')\n",
    "\n",
    "initWC = InitWCClass(value=['FC'])"
   ]
  },
  {
   "cell_type": "markdown",
   "metadata": {
    "id": "idMQI6irqQ-W"
   },
   "source": [
    "\n",
    "Irrigation management parameters are selected by creating an `IrrMngtClass` object. With this class we can specify a range of different irrigation management strategies. The 6 different strategies can be selected using the `IrrMethod` argument when creating the class. These strategies are as follows:\n",
    "\n",
    "\n",
    "*   `IrrMethod=0`: Rainfed (no irrigation)\n",
    "*   `IrrMethod=1`: Irrigation is triggered if soil water content drops below a specified threshold (or four thresholds representing four major crop growth stages (emergence, canopy growth, max canopy, senescence).\n",
    "*   `IrrMethod=2`: Irrigation is triggered every N days\n",
    "*   `IrrMethod=3`: Predefined irrigation schedule\n",
    "*   `IrrMethod=4`: Net irrigation (maintain a soil-water level by topping up all compartments daily)\n",
    "*   `IrrMethod=5`: Constant depth applied each day\n",
    "\n",
    "\n",
    "The full list of parameters you can edit are:\n",
    "\n",
    "Variable Name | Type | Description | Default\n",
    "--- | --- | --- | ---\n",
    "IrrMethod| `int` | Irrigation method: | 0\n",
    " || 0 : rainfed | \n",
    " || 1 : soil moisture targets\n",
    " || 2 : set time interval | \n",
    " || 3: predefined schedule | \n",
    " || 4: net irrigation | \n",
    " || 5: constant depth | \n",
    "SMT | `list[float]` | Soil moisture targets (%TAW) to maintain in each growth stage  | [100,100,100,100]\n",
    "|| (only used if irrigation method is equal to 1) |\n",
    "IrrInterval  | `int` | Irrigation interval in days | 3\n",
    "|| (only used if irrigation method is equal to 2) |\n",
    "Schedule | `pandas.DataFrame` | DataFrame containing dates and depths | None\n",
    "|| (only used if irrigation method is equal to 3) |\n",
    "NetIrrSMT | `float` | Net irrigation threshold moisture level (% of TAW that will be maintained) | 80.\n",
    "|| (only used if irrigation method is equal to 4) |\n",
    "depth  | `float` | constant depth to apply on each day | 0.\n",
    "|| (only used if irrigation method is equal to 5) |\n",
    "WetSurf | `int` | Soil surface wetted by irrigation (%) | 100\n",
    "AppEff | `int` |  Irrigation application efficiency (%) | 100\n",
    "MaxIrr |  `float` | Maximum depth (mm) that can be applied each day | 25\n",
    "MaxIrrSeason |  `float` | Maximum total irrigation (mm) that can be applied in one season | 10_000\n",
    "\n",
    "\n"
   ]
  },
  {
   "cell_type": "markdown",
   "metadata": {},
   "source": [
    "For the purposes of this demonstration we will investigate the yields and irrigation applied for a range of constant soil-moisture thresholds. Meaning that all 4 soil-moisture thresholds are equal. These irrigation strategies will be compared over a 37 year period. The cell below will create and run an `AquaCropModel` for each irrigation strategy and save the final output. "
   ]
  },
  {
   "cell_type": "code",
   "execution_count": 5,
   "metadata": {
    "id": "w4OIG8Y1VSXx"
   },
   "outputs": [],
   "source": [
    "# define labels to help after\n",
    "labels=[]\n",
    "\n",
    "outputs=[]\n",
    "for smt in range(0,110,20):\n",
    "    crop.Name = str(smt) # add helpfull label\n",
    "    labels.append(str(smt))\n",
    "    irr_mngt = IrrMngtClass(IrrMethod=1,SMT=[smt]*4) # specify irrigation management\n",
    "    model = AquaCropModel(sim_start,sim_end,wdf,soil,crop,InitWC=initWC,IrrMngt=irr_mngt) # create model\n",
    "    model.initialize() # initilize model\n",
    "    model.step(till_termination=True) # run model till the end\n",
    "    outputs.append(model.Outputs.Final) # save results"
   ]
  },
  {
   "cell_type": "markdown",
   "metadata": {
    "id": "k8A46rizDsSc"
   },
   "source": [
    "Combine results so that they can be easily visualized."
   ]
  },
  {
   "cell_type": "code",
   "execution_count": 6,
   "metadata": {
    "id": "2sGLsnvSMtT3"
   },
   "outputs": [],
   "source": [
    "import pandas as pd\n",
    "\n",
    "dflist=outputs\n",
    "labels[0]='Rainfed'\n",
    "outlist=[]\n",
    "for i in range(len(dflist)):\n",
    "    temp = pd.DataFrame(dflist[i][['Yield (tonne/ha)',\n",
    "                                   'Seasonal irrigation (mm)']])\n",
    "    temp['label']=labels[i]\n",
    "    outlist.append(temp)\n",
    "\n",
    "all_outputs = pd.concat(outlist,axis=0)"
   ]
  },
  {
   "cell_type": "code",
   "execution_count": 7,
   "metadata": {
    "id": "3ErPHqS8OUGq"
   },
   "outputs": [],
   "source": [
    "# combine all results\n",
    "results=pd.concat(outlist)"
   ]
  },
  {
   "cell_type": "markdown",
   "metadata": {
    "id": "kyu18H_PDw5s"
   },
   "source": [
    "Use `matplotlib` and `seaborn` to show the range of yields and total irrigation for each strategy over the simulation years."
   ]
  },
  {
   "cell_type": "code",
   "execution_count": 8,
   "metadata": {
    "colab": {
     "base_uri": "https://localhost:8080/",
     "height": 864
    },
    "id": "rjxiifLkOHsj",
    "outputId": "f8d6ca56-23f6-468b-b33f-24e842ed8f21"
   },
   "outputs": [
    {
     "name": "stderr",
     "output_type": "stream",
     "text": [
      "No handles with labels found to put in legend.\n"
     ]
    },
    {
     "data": {
      "text/plain": [
       "<matplotlib.legend.Legend at 0x7fc94d3f47c0>"
      ]
     },
     "execution_count": 8,
     "metadata": {},
     "output_type": "execute_result"
    },
    {
     "data": {
      "image/png": "[encoded data removed]",
      "text/plain": [
       "<Figure size 720x1008 with 2 Axes>"
      ]
     },
     "metadata": {
      "needs_background": "light"
     },
     "output_type": "display_data"
    }
   ],
   "source": [
    "# import plotting libraries\n",
    "import matplotlib.pyplot as plt\n",
    "import seaborn as sns\n",
    "\n",
    "# create figure consisting of 2 plots\n",
    "fig,ax=plt.subplots(2,1,figsize=(10,14))\n",
    "\n",
    "# create two box plots\n",
    "sns.boxplot(data=results,x='label',y='Yield (tonne/ha)',ax=ax[0])\n",
    "sns.boxplot(data=results,x='label',y='Seasonal irrigation (mm)',ax=ax[1])\n",
    "\n",
    "# labels and font sizes\n",
    "ax[0].tick_params(labelsize=15)\n",
    "ax[0].set_xlabel('Soil-moisture threshold (%TAW)',fontsize=18)\n",
    "ax[0].set_ylabel('Yield (t/ha)',fontsize=18)\n",
    "\n",
    "ax[1].tick_params(labelsize=15)\n",
    "ax[1].set_xlabel('Soil-moisture threshold (%TAW)',fontsize=18)\n",
    "ax[1].set_ylabel('Total Irrigation (ha-mm)',fontsize=18)\n",
    "\n",
    "plt.legend(fontsize=18)\n"
   ]
  },
  {
   "cell_type": "markdown",
   "metadata": {
    "id": "-cEmoa3vTaW1"
   },
   "source": [
    "# Appendix A: Other types of irrigation strategy"
   ]
  },
  {
   "cell_type": "markdown",
   "metadata": {},
   "source": [
    "Testing different irrigation strategies is as simple as creating multiple `IrrMngtClass` objects. The **first** strategy we will test is rainfed growth (no irrigation)."
   ]
  },
  {
   "cell_type": "code",
   "execution_count": 9,
   "metadata": {
    "id": "WTWjHSPWqnda"
   },
   "outputs": [],
   "source": [
    "# define irrigation management\n",
    "rainfed = IrrMngtClass(IrrMethod=0)"
   ]
  },
  {
   "cell_type": "markdown",
   "metadata": {
    "id": "4UV8pXWwtrs5"
   },
   "source": [
    "The **second** strategy triggers irrigation if the root-zone water content drops below an irrigation threshold. There are 4 thresholds corresponding to four main crop growth stages (emergence, canopy growth, max canopy,  canopy senescence). The quantity of water applied is given by `min(depletion,MaxIrr)` where `MaxIrr` can be specified when creating an `IrrMngtClass`."
   ]
  },
  {
   "cell_type": "code",
   "execution_count": 10,
   "metadata": {
    "id": "5ohZSNRJtVvV"
   },
   "outputs": [],
   "source": [
    "# irrigate according to 4 different soil-moisture thresholds\n",
    "threshold4_irrigate = IrrMngtClass(IrrMethod=1,SMT=[40,60,70,30]*4)"
   ]
  },
  {
   "cell_type": "markdown",
   "metadata": {
    "id": "Wm8nS2wUuMcv"
   },
   "source": [
    "The **third** strategy irrigates every `IrrInterval` days where the quantity of water applied is given by `min(depletion,MaxIrr)` where `MaxIrr` can be specified when creating an `IrrMngtClass`."
   ]
  },
  {
   "cell_type": "code",
   "execution_count": 11,
   "metadata": {
    "id": "M-4ugbeqvWL3"
   },
   "outputs": [],
   "source": [
    "# irrigate every 7 days\n",
    "interval_7 = IrrMngtClass(IrrMethod=2,IrrInterval=7)"
   ]
  },
  {
   "cell_type": "markdown",
   "metadata": {
    "id": "kk0n7-BHvjXp"
   },
   "source": [
    "The **fourth** strategy irrigates according to a predefined calendar. This calendar is defined as a pandas DataFrame and this example, we will create a calendar that irrigates on the first Tuesday of each month. "
   ]
  },
  {
   "cell_type": "code",
   "execution_count": 12,
   "metadata": {
    "id": "OPvLr_pb1aLW"
   },
   "outputs": [],
   "source": [
    "import pandas as pd # import pandas library\n",
    "\n",
    "all_days = pd.date_range(sim_start,sim_end) # list of all dates in simulation period\n",
    "\n",
    "new_month=True\n",
    "dates=[]\n",
    "# iterate through all simulation days\n",
    "for date in all_days:\n",
    "    #check if new month\n",
    "    if date.is_month_start:\n",
    "        new_month=True\n",
    "\n",
    "    if new_month:\n",
    "        # check if tuesday (dayofweek=1)\n",
    "        if date.dayofweek==1:\n",
    "            #save date\n",
    "            dates.append(date)\n",
    "            new_month=False"
   ]
  },
  {
   "cell_type": "markdown",
   "metadata": {
    "id": "H-IbWAX6PGji"
   },
   "source": [
    "Now we have a list of all the first Tuesdays of the month, we can create the full schedule."
   ]
  },
  {
   "cell_type": "code",
   "execution_count": 13,
   "metadata": {
    "colab": {
     "base_uri": "https://localhost:8080/",
     "height": 419
    },
    "id": "UxZJPapOwCtT",
    "outputId": "b14f5061-9f45-444d-988d-153f06cb2f6a"
   },
   "outputs": [
    {
     "data": {
      "text/html": [
       "<div>\n",
       "<style scoped>\n",
       "    .dataframe tbody tr th:only-of-type {\n",
       "        vertical-align: middle;\n",
       "    }\n",
       "\n",
       "    .dataframe tbody tr th {\n",
       "        vertical-align: top;\n",
       "    }\n",
       "\n",
       "    .dataframe thead th {\n",
       "        text-align: right;\n",
       "    }\n",
       "</style>\n",
       "<table border=\"1\" class=\"dataframe\">\n",
       "  <thead>\n",
       "    <tr style=\"text-align: right;\">\n",
       "      <th></th>\n",
       "      <th>Date</th>\n",
       "      <th>Depth</th>\n",
       "    </tr>\n",
       "  </thead>\n",
       "  <tbody>\n",
       "    <tr>\n",
       "      <th>0</th>\n",
       "      <td>1982-05-04</td>\n",
       "      <td>25</td>\n",
       "    </tr>\n",
       "    <tr>\n",
       "      <th>1</th>\n",
       "      <td>1982-06-01</td>\n",
       "      <td>25</td>\n",
       "    </tr>\n",
       "    <tr>\n",
       "      <th>2</th>\n",
       "      <td>1982-07-06</td>\n",
       "      <td>25</td>\n",
       "    </tr>\n",
       "    <tr>\n",
       "      <th>3</th>\n",
       "      <td>1982-08-03</td>\n",
       "      <td>25</td>\n",
       "    </tr>\n",
       "    <tr>\n",
       "      <th>4</th>\n",
       "      <td>1982-09-07</td>\n",
       "      <td>25</td>\n",
       "    </tr>\n",
       "    <tr>\n",
       "      <th>...</th>\n",
       "      <td>...</td>\n",
       "      <td>...</td>\n",
       "    </tr>\n",
       "    <tr>\n",
       "      <th>433</th>\n",
       "      <td>2018-06-05</td>\n",
       "      <td>25</td>\n",
       "    </tr>\n",
       "    <tr>\n",
       "      <th>434</th>\n",
       "      <td>2018-07-03</td>\n",
       "      <td>25</td>\n",
       "    </tr>\n",
       "    <tr>\n",
       "      <th>435</th>\n",
       "      <td>2018-08-07</td>\n",
       "      <td>25</td>\n",
       "    </tr>\n",
       "    <tr>\n",
       "      <th>436</th>\n",
       "      <td>2018-09-04</td>\n",
       "      <td>25</td>\n",
       "    </tr>\n",
       "    <tr>\n",
       "      <th>437</th>\n",
       "      <td>2018-10-02</td>\n",
       "      <td>25</td>\n",
       "    </tr>\n",
       "  </tbody>\n",
       "</table>\n",
       "<p>438 rows × 2 columns</p>\n",
       "</div>"
      ],
      "text/plain": [
       "          Date Depth\n",
       "0   1982-05-04    25\n",
       "1   1982-06-01    25\n",
       "2   1982-07-06    25\n",
       "3   1982-08-03    25\n",
       "4   1982-09-07    25\n",
       "..         ...   ...\n",
       "433 2018-06-05    25\n",
       "434 2018-07-03    25\n",
       "435 2018-08-07    25\n",
       "436 2018-09-04    25\n",
       "437 2018-10-02    25\n",
       "\n",
       "[438 rows x 2 columns]"
      ]
     },
     "execution_count": 13,
     "metadata": {},
     "output_type": "execute_result"
    }
   ],
   "source": [
    "depths = [25]*len(dates) # depth of irrigation applied\n",
    "schedule=pd.DataFrame([dates,depths]).T # create pandas DataFrame\n",
    "schedule.columns=['Date','Depth'] # name columns\n",
    "\n",
    "schedule"
   ]
  },
  {
   "cell_type": "markdown",
   "metadata": {
    "id": "qGOAKyVbPtGj"
   },
   "source": [
    "Then pass this schedule into our `IrrMngtClass`."
   ]
  },
  {
   "cell_type": "code",
   "execution_count": 14,
   "metadata": {
    "id": "jWUMbBT50ih_"
   },
   "outputs": [],
   "source": [
    "irrigate_schedule = IrrMngtClass(IrrMethod=3,Schedule=schedule)"
   ]
  },
  {
   "cell_type": "markdown",
   "metadata": {
    "id": "yjyRSh9ZQLaO"
   },
   "source": [
    "The **fifth** strategy is net irrigation. This keeps the soil-moisture content above a specified level. This method differs from the soil moisture thresholds (second strategy) as each compartment is filled to field capacity, instead of water starting above the first compartment and filtering down. In this example the net irrigation mode will maintain a water content of 70% total available water.  "
   ]
  },
  {
   "cell_type": "code",
   "execution_count": 15,
   "metadata": {
    "id": "kLuVLxZ6w3Da"
   },
   "outputs": [],
   "source": [
    "net_irrigation = IrrMngtClass(IrrMethod=4,NetIrrSMT=70)"
   ]
  },
  {
   "cell_type": "markdown",
   "metadata": {
    "id": "OoN6Ve1sVK8x"
   },
   "source": [
    "Now its time to compare the strategies over the 37 year period. The cell below will create and run an `AquaCropModel` for each irrigation strategy and save the final output. "
   ]
  },
  {
   "cell_type": "code",
   "execution_count": 16,
   "metadata": {
    "id": "w4OIG8Y1VSXx"
   },
   "outputs": [],
   "source": [
    "# define labels to help after\n",
    "labels=['rainfed','four thresholds','interval','schedule','net']\n",
    "strategies = [rainfed,threshold4_irrigate,interval_7,irrigate_schedule,net_irrigation]\n",
    "\n",
    "outputs=[]\n",
    "for i,irr_mngt in enumerate(strategies): # for both irrigation strategies...\n",
    "    crop.Name = labels[i] # add helpfull label\n",
    "    model = AquaCropModel(sim_start,sim_end,wdf,soil,crop,InitWC=initWC,IrrMngt=irr_mngt) # create model\n",
    "    model.initialize() # initilize model\n",
    "    model.step(till_termination=True) # run model till the end\n",
    "    outputs.append(model.Outputs.Final) # save results"
   ]
  },
  {
   "cell_type": "markdown",
   "metadata": {},
   "source": [
    "The final strategy to show is for a custom irrigation strategy. This is one of the key features of AquaCrop-OSPy as users can define an a complex irrigation strategy that incorperates any external data, code bases or machine learning models. To showcase this feature, we will  define a function that will irrigate according to the follwong logic:\n",
    "\n",
    "1) There will be no rain over the next 10 days -> Irrigate 10mm\n",
    "\n",
    "2) There will be rain in the next 10 days but the soil is over 70% depleted -> Irrigate 10mm\n",
    "\n",
    "3) Otherwise -> No irrigation"
   ]
  },
  {
   "cell_type": "code",
   "execution_count": 17,
   "metadata": {},
   "outputs": [],
   "source": [
    "# function to return the irrigation depth to apply on next day\n",
    "def get_depth(model):    \n",
    "    t = model.ClockStruct.TimeStepCounter # current timestep\n",
    "    # get weather data for next 7 days\n",
    "    weather10 = model.weather[t+1:min(t+10+1,len(model.weather))]\n",
    "    # if it will rain in next 7 days\n",
    "    if sum(weather10[:,2])>0:\n",
    "        # check if soil is over 70% depleted\n",
    "        if t>0 and model.InitCond.Depletion/model.InitCond.TAW > 0.7:\n",
    "            depth=10\n",
    "        else:\n",
    "            depth=0\n",
    "    else:\n",
    "        # no rain for next 10 days\n",
    "        depth=10\n",
    "\n",
    "\n",
    "    return depth"
   ]
  },
  {
   "cell_type": "code",
   "execution_count": 18,
   "metadata": {},
   "outputs": [],
   "source": [
    "# create model with IrrMethod= Constant depth\n",
    "crop.Name = 'weather' # add helpfull label\n",
    "\n",
    "model = AquaCropModel(sim_start,sim_end,wdf,soil,crop,InitWC=initWC,\n",
    "                      IrrMngt=IrrMngtClass(IrrMethod=5,)) \n",
    "\n",
    "model.initialize()\n",
    "\n",
    "while not model.ClockStruct.ModelTermination:\n",
    "    # get depth to apply\n",
    "    depth=get_depth(model)\n",
    "    \n",
    "    model.ParamStruct.IrrMngt.depth=depth\n",
    "\n",
    "    model.step()"
   ]
  },
  {
   "cell_type": "code",
   "execution_count": 19,
   "metadata": {},
   "outputs": [],
   "source": [
    "outputs.append(model.Outputs.Final) # save results\n",
    "labels.append('weather')"
   ]
  },
  {
   "cell_type": "markdown",
   "metadata": {
    "id": "k8A46rizDsSc"
   },
   "source": [
    "Combine results so that they can be easily visualized."
   ]
  },
  {
   "cell_type": "code",
   "execution_count": 20,
   "metadata": {
    "id": "2sGLsnvSMtT3"
   },
   "outputs": [],
   "source": [
    "dflist=outputs\n",
    "outlist=[]\n",
    "for i in range(len(dflist)):\n",
    "    temp = pd.DataFrame(dflist[i][['Yield (tonne/ha)','Seasonal irrigation (mm)']])\n",
    "    temp['label']=labels[i]\n",
    "    outlist.append(temp)\n",
    "\n",
    "all_outputs = pd.concat(outlist,axis=0)"
   ]
  },
  {
   "cell_type": "code",
   "execution_count": 21,
   "metadata": {
    "id": "3ErPHqS8OUGq"
   },
   "outputs": [],
   "source": [
    "# combine all results\n",
    "results=pd.concat(outlist)"
   ]
  },
  {
   "cell_type": "markdown",
   "metadata": {
    "id": "kyu18H_PDw5s"
   },
   "source": [
    "Use `matplotlib` and `seaborn` to show the range of yields and total irrigation for each strategy over the simulation years."
   ]
  },
  {
   "cell_type": "code",
   "execution_count": 22,
   "metadata": {
    "colab": {
     "base_uri": "https://localhost:8080/",
     "height": 864
    },
    "id": "rjxiifLkOHsj",
    "outputId": "f8d6ca56-23f6-468b-b33f-24e842ed8f21"
   },
   "outputs": [
    {
     "name": "stderr",
     "output_type": "stream",
     "text": [
      "No handles with labels found to put in legend.\n"
     ]
    },
    {
     "data": {
      "text/plain": [
       "<matplotlib.legend.Legend at 0x7fc94c84b3d0>"
      ]
     },
     "execution_count": 22,
     "metadata": {},
     "output_type": "execute_result"
    },
    {
     "data": {
      "image/png": "[encoded data removed]",
      "text/plain": [
       "<Figure size 720x1008 with 2 Axes>"
      ]
     },
     "metadata": {
      "needs_background": "light"
     },
     "output_type": "display_data"
    }
   ],
   "source": [
    "# import plotting libraries\n",
    "import matplotlib.pyplot as plt\n",
    "import seaborn as sns\n",
    "\n",
    "# create figure consisting of 2 plots\n",
    "fig,ax=plt.subplots(2,1,figsize=(10,14))\n",
    "\n",
    "# create two box plots\n",
    "sns.boxplot(data=results,x='label',y='Yield (tonne/ha)',ax=ax[0])\n",
    "sns.boxplot(data=results,x='label',y='Seasonal irrigation (mm)',ax=ax[1])\n",
    "\n",
    "# labels and font sizes\n",
    "ax[0].tick_params(labelsize=15)\n",
    "ax[0].set_xlabel(' ')\n",
    "ax[0].set_ylabel('Yield (t/ha)',fontsize=18)\n",
    "\n",
    "ax[1].tick_params(labelsize=15)\n",
    "ax[1].set_xlabel(' ')\n",
    "ax[1].set_ylabel('Total Irrigation (ha-mm)',fontsize=18)\n",
    "\n",
    "plt.legend(fontsize=18)\n"
   ]
  },
  {
   "cell_type": "code",
   "execution_count": null,
   "metadata": {},
   "outputs": [],
   "source": []
  },
  {
   "cell_type": "code",
   "execution_count": null,
   "metadata": {},
   "outputs": [],
   "source": []
  }
 ],
 "metadata": {
  "colab": {
   "collapsed_sections": [],
   "name": "AquaCrop-OSPy: Notebook 2.ipynb",
   "provenance": []
  },
  "kernelspec": {
   "display_name": "Python 3",
   "language": "python",
   "name": "python3"
  },
  "language_info": {
   "codemirror_mode": {
    "name": "ipython",
    "version": 3
   },
   "file_extension": ".py",
   "mimetype": "text/x-python",
   "name": "python",
   "nbconvert_exporter": "python",
   "pygments_lexer": "ipython3",
   "version": "3.8.5"
  }
 },
 "nbformat": 4,
 "nbformat_minor": 4
}
