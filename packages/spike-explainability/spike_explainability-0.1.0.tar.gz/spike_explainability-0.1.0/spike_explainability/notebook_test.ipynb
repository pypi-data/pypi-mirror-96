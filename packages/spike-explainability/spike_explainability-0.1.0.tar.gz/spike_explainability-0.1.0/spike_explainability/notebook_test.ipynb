{
 "metadata": {
  "language_info": {
   "codemirror_mode": {
    "name": "ipython",
    "version": 3
   },
   "file_extension": ".py",
   "mimetype": "text/x-python",
   "name": "python",
   "nbconvert_exporter": "python",
   "pygments_lexer": "ipython3",
   "version": "3.8.5-final"
  },
  "orig_nbformat": 2,
  "kernelspec": {
   "name": "python3",
   "display_name": "Python 3.8.5 64-bit (conda)",
   "metadata": {
    "interpreter": {
     "hash": "a50c12bcea60dcae6a6ebf23149da79d4d4e0bf8a0c8b2e67200597be57b0e7a"
    }
   }
  }
 },
 "nbformat": 4,
 "nbformat_minor": 2,
 "cells": [
  {
   "cell_type": "code",
   "execution_count": 2,
   "metadata": {},
   "outputs": [],
   "source": [
    "import numpy as np\n",
    "import shap\n",
    "import lightgbm as lgbm\n",
    "\n",
    "# Modelo lightGBM para test\n",
    "data, target = shap.datasets.boston(display=False)\n",
    "data['MEDV']=target\n",
    "y = 'MEDV'\n",
    "X = [name for name in data.columns if name not in [y]]\n",
    "split_ratio = 0.80\n",
    "split = np.random.rand(len(data)) < split_ratio\n",
    "train, test = data[split], data[~split]\n",
    "train_dataframe =lgbm.Dataset(data=train[X],label=train[y].values,free_raw_data=False)\n",
    "valid_dataframe =lgbm.Dataset(data =test[X],label=test[y].values,free_raw_data=False)\n",
    "model_params = {\"objective\": \"regression\",\"metric\": \"rmse\",\"boosting\": \"gbdt\",\"learning_rate\": 0.01,\"num_leaves\": 31,\n",
    "                \"max_depth\": -1,\"min_data_in_leaf\": 20,\"bagging_fraction\": 0.9,\"feature_fraction\": 0.7,\"lambda_l2\": 0.,\n",
    "                \"seed\": 42,\"deterministic\": True,\"verbose\": -1}\n",
    "model = lgbm.train(train_set = train_dataframe,valid_sets = [valid_dataframe, ],num_boost_round = 1000,\n",
    "                   early_stopping_rounds = 50,params = model_params,verbose_eval=False)\n",
    "test_yhat = test.copy()\n",
    "yhat, resid = 'prediction', 'residuals'\n",
    "test_yhat[yhat] = model.predict(test[X])\n",
    "test_yhat[resid] = test_yhat[y] - test_yhat[yhat]"
   ]
  },
  {
   "cell_type": "code",
   "execution_count": 4,
   "metadata": {},
   "outputs": [],
   "source": [
    "from calculate import *"
   ]
  },
  {
   "cell_type": "code",
   "execution_count": 16,
   "metadata": {},
   "outputs": [],
   "source": [
    "shap_values = get_shap_values(model, test[X])"
   ]
  },
  {
   "cell_type": "code",
   "execution_count": 12,
   "metadata": {},
   "outputs": [
    {
     "output_type": "execute_result",
     "data": {
      "text/plain": [
       "True"
      ]
     },
     "metadata": {},
     "execution_count": 12
    }
   ],
   "source": [
    "str(type(shap_values))==\"<class 'shap._explanation.Explanation'>\""
   ]
  },
  {
   "cell_type": "code",
   "execution_count": 24,
   "metadata": {},
   "outputs": [],
   "source": [
    "assert type(shap_importance(X, shap_values))==tuple\n",
    "assert type(shap_importance(X, shap_values)[0])==list\n",
    "assert type(shap_importance(X, shap_values)[1])==np.ndarray"
   ]
  },
  {
   "cell_type": "code",
   "execution_count": 28,
   "metadata": {},
   "outputs": [
    {
     "output_type": "execute_result",
     "data": {
      "text/plain": [
       "list"
      ]
     },
     "metadata": {},
     "execution_count": 28
    }
   ],
   "source": [
    "type(permutation_VI(model, test[X])[1])"
   ]
  },
  {
   "cell_type": "code",
   "execution_count": null,
   "metadata": {},
   "outputs": [],
   "source": []
  }
 ]
}