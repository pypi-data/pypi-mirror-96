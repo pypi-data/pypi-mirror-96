{
 "cells": [
  {
   "cell_type": "code",
   "execution_count": 1,
   "metadata": {},
   "outputs": [],
   "source": [
    "import numpy as np\n",
    "import napari\n",
    "from napari_video.napari_video import VideoReaderNP\n",
    "\n",
    "path='/Users/janc/localhost-20181120_144618.mp4'\n",
    "vr  = VideoReaderNP(path)\n"
   ]
  },
  {
   "cell_type": "code",
   "execution_count": 17,
   "metadata": {},
   "outputs": [],
   "source": [
    "# generate tracks - ID, T, Y, X (make xb exporter)\n",
    "import numpy as np\n",
    "from itertools import product\n",
    "\n",
    "nb_id = 2\n",
    "nb_t = 60_000\n",
    "sigma = 4\n",
    "tracks = np.zeros((nb_id * nb_t, 4))\n",
    "\n",
    "# init\n",
    "t = 0\n",
    "for id in range(nb_id):\n",
    "    tracks[id, :] = (id, t, *np.random.randint(low=100, high=800, size=2))\n",
    "\n",
    "\n",
    "for cnt, (t, id) in enumerate(product(range(1, nb_t), range(nb_id)), start=nb_id):\n",
    "    tracks[cnt, :2] = (id, t)\n",
    "    tracks[cnt, 2:] = tracks[cnt - nb_id, 2:] + np.random.randn(2) * sigma\n"
   ]
  },
  {
   "cell_type": "code",
   "execution_count": 18,
   "metadata": {},
   "outputs": [],
   "source": [
    "with napari.gui_qt():\n",
    "    viewer = napari.view_image(vr, name=path)\n",
    "    viewer.add_tracks(tracks, name='tracks')\n"
   ]
  }
 ],
 "metadata": {
  "kernel_info": {
   "name": "python3"
  },
  "kernelspec": {
   "display_name": "Python [conda env:np]",
   "language": "python",
   "name": "conda-env-np-py"
  },
  "language_info": {
   "codemirror_mode": {
    "name": "ipython",
    "version": 3
   },
   "file_extension": ".py",
   "mimetype": "text/x-python",
   "name": "python",
   "nbconvert_exporter": "python",
   "pygments_lexer": "ipython3",
   "version": "3.9.2"
  },
  "nteract": {
   "version": "0.12.3"
  }
 },
 "nbformat": 4,
 "nbformat_minor": 4
}
