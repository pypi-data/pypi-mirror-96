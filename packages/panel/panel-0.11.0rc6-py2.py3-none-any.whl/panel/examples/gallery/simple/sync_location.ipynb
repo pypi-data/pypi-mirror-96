{
 "cells": [
  {
   "cell_type": "code",
   "execution_count": null,
   "metadata": {},
   "outputs": [],
   "source": [
    "import panel as pn"
   ]
  },
  {
   "cell_type": "markdown",
   "metadata": {},
   "source": [
    "This example demonstrates how to sync widget state with the URL bar, restoring it from the URL parameters on page load and updating it when the widgets change. Note this example will only work when served with `panel serve`. In a notebook `pn.state.location` does not exist until after the first object has been displayed:"
   ]
  },
  {
   "cell_type": "code",
   "execution_count": null,
   "metadata": {},
   "outputs": [],
   "source": [
    "widget = pn.widgets.FloatSlider(name='Slider', start=0, end=10)\n",
    "widget2 = pn.widgets.TextInput(name='Text')\n",
    "widget3 = pn.widgets.RangeSlider(name='RangeSlider', start=0, end=10)\n",
    "\n",
    "if pn.state.location:\n",
    "    pn.state.location.sync(widget, {'value': 'slider_value'})\n",
    "    pn.state.location.sync(widget2, {'value': 'text_value'})\n",
    "    pn.state.location.sync(widget3, {'value': 'range_value'})\n",
    "\n",
    "pn.Row(widget, widget2, widget3).servable()"
   ]
  }
 ],
 "metadata": {
  "kernelspec": {
   "display_name": "Python 3",
   "language": "python",
   "name": "python3"
  },
  "language_info": {
   "codemirror_mode": {
    "name": "ipython",
    "version": 3
   },
   "file_extension": ".py",
   "mimetype": "text/x-python",
   "name": "python",
   "nbconvert_exporter": "python",
   "pygments_lexer": "ipython3",
   "version": "3.7.5"
  },
  "widgets": {
   "application/vnd.jupyter.widget-state+json": {
    "state": {},
    "version_major": 2,
    "version_minor": 0
   }
  }
 },
 "nbformat": 4,
 "nbformat_minor": 4
}
