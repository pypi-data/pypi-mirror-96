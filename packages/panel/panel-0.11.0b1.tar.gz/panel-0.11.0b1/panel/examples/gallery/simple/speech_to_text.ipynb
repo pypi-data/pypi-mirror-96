{
 "cells": [
  {
   "cell_type": "markdown",
   "metadata": {},
   "source": [
    "# SpeechToText Examples\n",
    "\n",
    "A collection of examples using the `SpeechToText` widget.\n",
    "\n",
    "<img src=\"https://miro.medium.com/max/1024/1*hvhbk3n9SAcI3yS_D1IuXQ.png\" style=\"height: 100px\">\n",
    "\n",
    "Please note the [HTML5 SpeechRecognition API](https://developer.mozilla.org/en-US/docs/Web/API/SpeechRecognition) used is **experimental** and **only supported by Chrome and a few other browsers**."
   ]
  },
  {
   "cell_type": "code",
   "execution_count": null,
   "metadata": {},
   "outputs": [],
   "source": [
    "import panel as pn\n",
    "from panel.widgets import SpeechToText, GrammarList\n",
    "pn.extension()"
   ]
  },
  {
   "cell_type": "markdown",
   "metadata": {},
   "source": [
    "## Speech Color Changer\n",
    "\n",
    "This app lets you change the background color via speech.\n",
    "\n",
    "Inspired by the original [Speech Color Changer](https://mdn.github.io/web-speech-api/speech-color-changer/)."
   ]
  },
  {
   "cell_type": "code",
   "execution_count": null,
   "metadata": {},
   "outputs": [],
   "source": [
    "speech_to_text_color = SpeechToText(button_type=\"light\", continuous=True)\n",
    "\n",
    "app = pn.Column(sizing_mode=\"stretch_width\", height=500)"
   ]
  },
  {
   "cell_type": "markdown",
   "metadata": {},
   "source": [
    "Here we define the `grammars`. Please note that Chrome as of 20200102 ignores this grammar. It is just here because the original Speech Color Changer supplies it. And it might start being supported one day in the future."
   ]
  },
  {
   "cell_type": "code",
   "execution_count": null,
   "metadata": {},
   "outputs": [],
   "source": [
    "colors = [\n",
    "    \"aqua\", \"azure\", \"beige\", \"bisque\", \"black\", \"blue\", \"brown\", \"chocolate\", \"coral\", \"crimson\", \"cyan\", \"fuchsia\", \"ghostwhite\", \"gold\", \"goldenrod\", \"gray\", \"green\", \"indigo\", \"ivory\", \"khaki\", \"lavender\", \"lime\", \"linen\", \"magenta\", \"maroon\", \"moccasin\", \"navy\", \"olive\", \"orange\", \"orchid\", \"peru\", \"pink\", \"plum\", \"purple\", \"red\", \"salmon\", \"sienna\", \"silver\", \"snow\", \"tan\", \"teal\", \"thistle\", \"tomato\", \"turquoise\", \"violet\", \"white\", \"yellow\"\n",
    "]\n",
    "src = \"#JSGF V1.0; grammar colors; public <color> = \" + \" | \".join(colors) + \" ;\"\n",
    "grammar_list = GrammarList()\n",
    "grammar_list.add_from_string(src, 1)\n",
    "\n",
    "speech_to_text_color.grammars = grammar_list"
   ]
  },
  {
   "cell_type": "markdown",
   "metadata": {},
   "source": [
    "We define the app content"
   ]
  },
  {
   "cell_type": "code",
   "execution_count": null,
   "metadata": {},
   "outputs": [],
   "source": [
    "colors_html=\", \".join([f\"<span style='background:{color};'>{color}</span>\" for color in colors])\n",
    "content_html = f\"\"\"\n",
    "<h1>Speech Color Changer</h1>\n",
    "\n",
    "<p>Tap/click the microphone icon and say a color to change the background color of the app. Try {colors_html}\n",
    "\"\"\"\n",
    "\n",
    "content_panel = pn.pane.HTML(content_html, sizing_mode=\"stretch_width\")"
   ]
  },
  {
   "cell_type": "markdown",
   "metadata": {},
   "source": [
    "We implement the functionality to change the background color"
   ]
  },
  {
   "cell_type": "code",
   "execution_count": null,
   "metadata": {},
   "outputs": [],
   "source": [
    "result_panel = pn.pane.Markdown(sizing_mode=\"stretch_width\")\n",
    "\n",
    "@pn.depends(speech_to_text_color, watch=True)\n",
    "def update_result_panel(results_last):\n",
    "    results_last = results_last.lower()\n",
    "    if results_last in colors:\n",
    "        app.background = results_last\n",
    "        result_panel.object = \"Result received: \" + results_last\n",
    "    else:\n",
    "        app.background = \"white\"\n",
    "        result_panel.object = \"Result received: \" + results_last + \" (Not recognized)\""
   ]
  },
  {
   "cell_type": "markdown",
   "metadata": {},
   "source": [
    "Finally we lay out and show our app"
   ]
  },
  {
   "cell_type": "code",
   "execution_count": null,
   "metadata": {},
   "outputs": [],
   "source": [
    "app[:] = [\n",
    "    content_panel, \n",
    "    speech_to_text_color,  \n",
    "    result_panel,\n",
    "]\n",
    "app"
   ]
  },
  {
   "cell_type": "markdown",
   "metadata": {},
   "source": [
    "## Additional JS Examples\n",
    "\n",
    "These might be converted to Panel examples one day. Feel free to contribute\n",
    "\n",
    "- [Guess the movie](https://guess-the-movie-dev.netlify.app/)"
   ]
  }
 ],
 "metadata": {
  "kernelspec": {
   "display_name": "Python 3",
   "language": "python",
   "name": "python3"
  },
  "language_info": {
   "codemirror_mode": {
    "name": "ipython",
    "version": 3
   },
   "file_extension": ".py",
   "mimetype": "text/x-python",
   "name": "python",
   "nbconvert_exporter": "python",
   "pygments_lexer": "ipython3",
   "version": "3.8.2"
  },
  "widgets": {
   "application/vnd.jupyter.widget-state+json": {
    "state": {},
    "version_major": 2,
    "version_minor": 0
   }
  }
 },
 "nbformat": 4,
 "nbformat_minor": 4
}
