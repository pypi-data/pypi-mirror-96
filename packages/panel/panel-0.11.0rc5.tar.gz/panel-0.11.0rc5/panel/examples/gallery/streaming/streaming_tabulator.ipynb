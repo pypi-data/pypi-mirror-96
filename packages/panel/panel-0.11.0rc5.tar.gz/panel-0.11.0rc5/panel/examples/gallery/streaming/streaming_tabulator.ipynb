{
 "cells": [
  {
   "cell_type": "code",
   "execution_count": null,
   "metadata": {},
   "outputs": [],
   "source": [
    "import numpy as np\n",
    "import pandas as pd\n",
    "import panel as pn\n",
    "\n",
    "pn.extension()"
   ]
  },
  {
   "cell_type": "code",
   "execution_count": null,
   "metadata": {},
   "outputs": [],
   "source": [
    "df = pd.DataFrame(np.random.randn(10, 4), columns=list('ABCD')).cumsum()\n",
    "\n",
    "rollover = pn.widgets.IntInput(name='Rollover', value=15)\n",
    "follow = pn.widgets.Checkbox(name='Follow', value=True, align='end')\n",
    "\n",
    "tabulator = pn.widgets.Tabulator(df, height=450)\n",
    "\n",
    "def color_negative_red(val):\n",
    "    \"\"\"\n",
    "    Takes a scalar and returns a string with\n",
    "    the css property `'color: red'` for negative\n",
    "    strings, black otherwise.\n",
    "    \"\"\"\n",
    "    color = 'red' if val < 0 else 'green'\n",
    "    return 'color: %s' % color\n",
    "\n",
    "tabulator.style.applymap(color_negative_red)\n",
    "\n",
    "def stream():\n",
    "    data = df.iloc[-1] + np.random.randn(4)\n",
    "    tabulator.stream(data, rollover=rollover.value, follow=follow.value)\n",
    "\n",
    "cb = pn.state.add_periodic_callback(stream, 200)\n",
    "\n",
    "pn.Column(\n",
    "    pn.Row(cb.param.period, rollover, follow, width=400),\n",
    "    tabulator,\n",
    ").servable()"
   ]
  }
 ],
 "metadata": {
  "kernelspec": {
   "display_name": "Python 3",
   "language": "python",
   "name": "python3"
  },
  "language_info": {
   "codemirror_mode": {
    "name": "ipython",
    "version": 3
   },
   "file_extension": ".py",
   "mimetype": "text/x-python",
   "name": "python",
   "nbconvert_exporter": "python",
   "pygments_lexer": "ipython3",
   "version": "3.8.2"
  },
  "widgets": {
   "application/vnd.jupyter.widget-state+json": {
    "state": {},
    "version_major": 2,
    "version_minor": 0
   }
  }
 },
 "nbformat": 4,
 "nbformat_minor": 4
}
