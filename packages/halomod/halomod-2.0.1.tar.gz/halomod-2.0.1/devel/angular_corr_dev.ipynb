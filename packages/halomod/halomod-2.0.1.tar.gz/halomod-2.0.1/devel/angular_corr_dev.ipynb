{
 "cells": [
  {
   "cell_type": "markdown",
   "metadata": {},
   "source": [
    "# Development of Angular correlation function routine"
   ]
  },
  {
   "cell_type": "markdown",
   "metadata": {},
   "source": [
    "## Theory"
   ]
  },
  {
   "cell_type": "markdown",
   "metadata": {},
   "source": [
    "### General Derivation\n",
    "\n",
    "In this development, we basically follow the arguments of the Simon+2007 paper, and try to repdroduce its results to test consistency.\n",
    "\n",
    "In general, the correlation function takes two data-sets, which we'll subscript with 1 and 2 throughout. We usually want the \"auto-correlation\", which means the two sets are equivalent.\n",
    "\n",
    "Let $n_1(\\vec{r})$ and $n_2(\\vec{r})$ be two densities fields, as a function of the position $\\vec{r}$ in comoving co-ordinates. To obtain the projected density at any angle $\\vec{\\theta}$, we integrate over all radii, but also filter each slice by a function $q(r)$, which takes into account selection effects (i.e. $q$ is the fraction of galaxies at $r$ that are actually *seen*). Thus:\n",
    "\n",
    "$$ \\hat{n}_i(\\vec{\\theta}) = \\int_0^\\infty dr\\ q_i(r) n_i(r\\vec{\\theta},r), $$\n",
    "\n",
    "and \n",
    "\n",
    "$$ \\int_0^\\infty dr\\ q_i(r) = 1, $$\n",
    "\n",
    "Specifying a different filter function based on the relationship of density *contrast* to density, we have\n",
    "\n",
    "$$ p_i(r) = \\frac{q_i(r) \\bar{n}_i(r)}{\\int_0^\\infty dr\\  q_i(r) \\bar{n}_i(r)}. $$\n",
    "\n",
    "This weight specifies not the chance of detecting a given galaxy at radius $r$ (as does $q$), but rather the chance of a galaxy in the sample coming from $r$. That is, it is the radial distribution of galaxies. From here, the formula for the projected correlation simply falls out as\n",
    "\n",
    "$$ w(\\theta) = \\int_0^\\infty dr_1\\ \\int_0^\\infty dr_2\\ p_1(r)1 p_2(r_2) \\langle \\delta_1(r_1 \\theta'_1,r_1) \\delta_2(r_2\\theta'_2,r_2)\\rangle $$\n",
    "\n",
    "where $\\delta$ is the overdensity, and $\\theta'_i$ connotes the actual position of the two co-ordinates, which are separated by $\\theta$.\n",
    "\n",
    "The last term here is almost exactly the same as the standard correlation function, and can be transformed to such if we assume that a) the field is isotropic and homogeneous and b) the correlation function doesn't change significantly between $r_1$ and $r_2$ (in the case of an auto-correlation, this is always perfectly true). With these, we get the following general form:\n",
    "\n",
    "$$ w(\\theta) \\approx \\int_0^\\infty dr_1\\int_0^\\infty dr_2\\ p_1(r_1) p_2(r_2) \\xi(R,\\bar{r}), $$\n",
    "\n",
    "where \n",
    "\n",
    "$$ R \\equiv \\sqrt{r_1^2 + r_2^2 - 2r_1r_2 \\cos \\theta}, $$\n",
    "\n",
    "and \n",
    "\n",
    "$$ \\bar{r} = (r_1+r_2)/2. $$"
   ]
  },
  {
   "cell_type": "markdown",
   "metadata": {},
   "source": [
    "### Limber's Approximation"
   ]
  },
  {
   "cell_type": "markdown",
   "metadata": {},
   "source": [
    "Limber's approximation is this:\n",
    "\n",
    "$$ w(\\theta) = 2\\int_0^\\infty d\\bar{r} p_1(\\bar{r}) p_2(\\bar{r}) \\int_0^{\\infty} d\\Delta r \\xi(R,\\bar{r}), $$\n",
    "\n",
    "where \n",
    "\n",
    "$$ R \\equiv \\sqrt{\\bar{r}^2 \\theta^2 + \\Delta r^2}, $$\n",
    "\n",
    "and the factor of 2 arises because of the symmetry of the integrand around 0.\n",
    "\n",
    "The main usefulness of this approxiation is that in the case of a power-law $\\xi(r)$, the result is analytic.\n",
    "\n",
    "However, this breaks down in at least two regimes: \n",
    "\n",
    "1. when the distribution of galaxies is thin (approaching a delta function)\n",
    "2. when $\\theta$ is large.\n",
    "\n",
    "One easy way to see this is to notice that the general result for a correlation function with power-law slope $-\\gamma$ is a power-law with slope $1-\\gamma$.\n",
    "\n",
    "However, using the more general equation, with $p_i = \\delta(r-r')$, we get the simple result that $w(\\theta) = \\xi(r'\\theta,r')$, i.e. the slope is unchanged."
   ]
  },
  {
   "cell_type": "markdown",
   "metadata": {},
   "source": [
    "### Transformation of general equation for numerical use"
   ]
  },
  {
   "cell_type": "markdown",
   "metadata": {},
   "source": [
    "Though the general equation is valid, it is not necessarily optimal for numerical evaluation, because we can't force $R$ to be logarithmic. However, we can transform the integral to the following:\n",
    "\n",
    "$$ w(\\theta) = \\frac{1}{1+\\cos \\theta} \\int_0^\\infty d\\bar{r} \\int\\limits_{\\bar{r}\\sqrt{2(1-\\cos \\theta)}}^{2\\bar{r}} dR\\ Q(\\bar{r},\\Delta) \\xi(R,\\bar{r}) \\frac{R}{\\Delta}, $$\n",
    "\n",
    "where \n",
    "\n",
    "$$ \\Delta \\equiv \\frac{1}{\\sqrt{2}} \\sqrt{\\frac{R^2 - 2\\bar{r}^2(1-\\cos \\theta)}{1+\\cos \\theta}}.$$\n",
    "\n",
    "and \n",
    "\n",
    "$$ Q(\\bar{r},\\Delta) \\equiv p_1(\\bar{r}-\\Delta)p_2(\\bar{r}+\\Delta)+p_1(\\bar{r}+\\Delta)p_2(\\bar{r}-\\Delta).$$\n",
    "\n",
    "\n",
    "In the case of Limber's approximation, we also want to do a similar transformation. We have\n",
    "\n",
    "$$ \\frac{dR}{d\\Delta r} = \\frac{\\Delta r}{2R}, $$\n",
    "\n",
    "so we have\n",
    "\n",
    "$$ w(\\theta) = 2\\int_0^\\infty d\\bar{r}\\ p_1(\\bar{r}) p_2(\\bar{r}) \\int_{\\bar{r}\\theta}^\\infty dR\\ \\frac{2R}{\\sqrt{R^2-\\bar{r}^2\\theta^2}} \\xi(R,\\bar{r}). $$"
   ]
  },
  {
   "cell_type": "markdown",
   "metadata": {},
   "source": [
    "### Small-angle approximation"
   ]
  },
  {
   "cell_type": "markdown",
   "metadata": {},
   "source": [
    "In-built into the Limber approximation is the small-angle approximation, in which $1+\\cos \\theta \\approx 2$. This is accurate to $\\sim 10\\%$ for angles less than 40 degrees. For their comparison of the general form to the Limber approximation, Simon+2007 employ this approximation to gaurantee fairness, and we'll implement it as well to test. In that case, we have\n",
    "\n",
    "\\begin{align}\n",
    " \\frac{1}{1+\\cos \\theta} &\\approx 1/2 \\\\\n",
    " \\Delta &\\approx \\frac{1}{2} \\sqrt{R^2 - \\bar{r}^2\\theta^2}\\\\\n",
    " \\bar{r}\\sqrt{2(1-\\cos\\theta)} &\\approx \\bar{r}\\theta.\n",
    "\\end{align}"
   ]
  },
  {
   "cell_type": "markdown",
   "metadata": {},
   "source": [
    "## Implementation"
   ]
  },
  {
   "cell_type": "markdown",
   "metadata": {},
   "source": [
    "Throughout the following there's a few things to keep in mind. I don't have the luxury of just passing a function which calculates $\\xi(R,r)$. I'll have to base it on having array-style functions."
   ]
  },
  {
   "cell_type": "code",
   "execution_count": 14,
   "metadata": {
    "collapsed": true
   },
   "outputs": [],
   "source": [
    "%matplotlib inline\n",
    "import matplotlib.pyplot as plt\n",
    "import numpy as np\n",
    "\n",
    "from halomod.halo_exclusion import dblsimps\n",
    "from scipy.integrate import simps\n",
    "from mrpy.special import gamma as Gamma"
   ]
  },
  {
   "cell_type": "code",
   "execution_count": 115,
   "metadata": {},
   "outputs": [],
   "source": [
    "# LIMBER APPROXIMATION\n",
    "\n",
    "def limber_no_r_dep(theta,xi,p1,p2=None,logx_min=-5,logx_max=5,xnum=100,\n",
    "                   logu_min=-4,logu_max=2,unum=500):\n",
    "    # Arrays\n",
    "    u = np.logspace(logu_min,logu_max,unum) \n",
    "    x = np.logspace(logx_min,logx_max,xnum)\n",
    "    dlnx = np.log(x[1]/x[0])\n",
    "    dlnu = np.log(u[1]/u[0])\n",
    "    \n",
    "    p1 = check_p(p1,x,dlnx)\n",
    "    \n",
    "    if p2 is None:\n",
    "        p2 = p1\n",
    "    else:\n",
    "        p2 = check_p(p2,x,dlnx)\n",
    "    \n",
    "    R = np.sqrt(np.add.outer(np.outer(theta**2 ,x**2),u**2)).flatten()\n",
    "    \n",
    "    integrand = np.einsum(\"kij,i,j->kij\", xi(R).reshape((len(theta),len(x), len(u))), p1(x)*p2(x)* x, u)\n",
    "    \n",
    "    return 2*dblsimps(integrand,dlnx,dlnu)\n",
    "\n",
    "def limber_r_dep(theta,xi,p1,p2=None,logx_min=-5,logx_max=5,xnum=100,\n",
    "                 logu_min=-4,logu_max=2,unum=500):\n",
    "    # Arrays\n",
    "    u = np.logspace(logu_min,logu_max,unum) \n",
    "    x = np.logspace(logx_min,logx_max,xnum)\n",
    "    dlnx = np.log(x[1]/x[0])\n",
    "    dlnu = np.log(u[1]/u[0])\n",
    "    \n",
    "    p1 = check_p(p1,x,dlnx)\n",
    "    \n",
    "    if p2 is None:\n",
    "        p2 = p1\n",
    "    else:\n",
    "        p2 = check_p(p2,x,dlnx)\n",
    "    \n",
    "    R = np.sqrt(np.add.outer(np.outer(theta**2 ,x**2),u**2))\n",
    "    xi = xi(np.transpose(R,(0,2,1)),x) #theta, u , x\n",
    "    print xi.shape\n",
    "    print (p1(x)*p2(x)* x).shape\n",
    "    xu_bit = np.outer(u,p1(x)*p2(x)* x)\n",
    "    \n",
    "    integrand =  xi*xu_bit\n",
    "#    np.einsum(\"kij,i,j->kij\", xi , )\n",
    "    \n",
    "    return 2*dblsimps(integrand,dlnx,dlnu)\n",
    "    \n",
    "def check_p(p,x,dlnx):\n",
    "    integ = simps(p(x)*x,dx=dlnx)\n",
    "    if not np.isclose(integ,1.0,rtol=0.01):\n",
    "        print \"WARNING: Filter function p(x) did not integrate to 1 (%s). Tentatively re-normalising.\"%integ\n",
    "        return (lambda x: p(x)/integ)\n",
    "    else:\n",
    "        return p\n",
    "    \n",
    "def limber_analytic_pl(theta,gamma,r0,p1,logx_min=-5,logx_max=5.0,p2=None):\n",
    "    x = np.logspace(logx_min,logx_max,100)\n",
    "    dlnx = np.log(x[1]/x[0])\n",
    "    \n",
    "    p1 = check_p(p1,x,dlnx)\n",
    "    \n",
    "    if p2 is None:\n",
    "        p2 = p1\n",
    "    else:\n",
    "        p2 = check_p(p2,x,dlnx)\n",
    "        \n",
    "    pl = 1-gamma\n",
    "        \n",
    "    integ = p1(x)*p2(x)*x**pl\n",
    "    \n",
    "    Aw = np.sqrt(np.pi)*r0**gamma * Gamma(gamma/2-0.5)/Gamma(gamma/2) * simps(integ*x,dx=dlnx)\n",
    "    print pl, Aw\n",
    "    return Aw*theta**pl"
   ]
  },
  {
   "cell_type": "code",
   "execution_count": 118,
   "metadata": {},
   "outputs": [
    {
     "name": "stdout",
     "output_type": "stream",
     "text": [
      "WARNING: Filter function p(x) did not integrate to 1 (48056763.8822). Tentatively re-normalising.\n",
      "-0.77 0.00233979249471\n",
      "WARNING: Filter function p(x) did not integrate to 1 (48056763.8822). Tentatively re-normalising.\n",
      "WARNING: Filter function p(x) did not integrate to 1 (48056763.8822). Tentatively re-normalising.\n",
      "(50, 500, 100)\n",
      "(100,)\n",
      "WARNING: Filter function p(x) did not integrate to 1 (48056763.8822). Tentatively re-normalising.\n",
      "(50, 500, 100)\n",
      "(100,)\n",
      "WARNING: Filter function p(x) did not integrate to 1 (129985466.684). Tentatively re-normalising.\n",
      "-0.77 0.000945429471088\n",
      "WARNING: Filter function p(x) did not integrate to 1 (129985466.684). Tentatively re-normalising.\n"
     ]
    },
    {
     "data": {
      "text/plain": [
       "<matplotlib.text.Text at 0x7f5630870350>"
      ]
     },
     "execution_count": 118,
     "metadata": {},
     "output_type": "execute_result"
    },
    {
     "data": {
      "image/png": "[encoded data removed]",
      "text/plain": [
       "<matplotlib.figure.Figure at 0x7f563037dd90>"
      ]
     },
     "metadata": {},
     "output_type": "display_data"
    }
   ],
   "source": [
    "theta = np.logspace(-1,0,50)/3437.75\n",
    "\n",
    "def pform(xc,sigp):\n",
    "    return (lambda x: x**2 * np.exp(-0.5*(x-xc)**2/sigp**2))\n",
    "\n",
    "def pl_xi(gamma,r0):\n",
    "    return (lambda r: (r/r0)**(-gamma))\n",
    "\n",
    "def pl_xi_rdep(gamma,r0,rind):\n",
    "    return (lambda r,x: x**rind * (r/r0)**(-gamma))\n",
    "\n",
    "plt.plot(3437.75*theta,limber_analytic_pl(theta,1.77,5.4,pform(500,500*0.15),logx_min=2,logx_max=3),color=\"b\")\n",
    "plt.plot(3437.75*theta,limber_no_r_dep(theta,pl_xi(1.77,5.4),pform(500,500*0.15),logx_min=2,logx_max=3,logu_max=5),color=\"b\")\n",
    "plt.plot(3437.75*theta,limber_r_dep(theta,pl_xi_rdep(1.77,5.4,0.0),pform(500,500*0.15),logx_min=2,logx_max=3,logu_max=5),color=\"g\")\n",
    "plt.plot(3437.75*theta,limber_r_dep(theta,pl_xi_rdep(1.77,5.4,0.2),pform(500,500*0.15),logx_min=2,logx_max=3,logu_max=5),color=\"g\")\n",
    "\n",
    "plt.plot(3437.75*theta,limber_analytic_pl(theta,1.77,5.4,pform(500,500*0.37),logx_min=2,logx_max=3),color=\"r\")\n",
    "plt.plot(3437.75*theta,limber_no_r_dep(theta,pl_xi(1.77,5.4),pform(500,500*0.37),logx_min=2,logx_max=3,logu_max=5),color=\"r\")\n",
    "\n",
    "plt.xscale('log')\n",
    "plt.yscale('log')\n",
    "plt.xlabel(\"arcmin\")"
   ]
  },
  {
   "cell_type": "code",
   "execution_count": 94,
   "metadata": {},
   "outputs": [],
   "source": [
    "def general_no_r_dep(theta,xi,p1,p2=None,logx_min=-5,logx_max=5,xnum=100,\n",
    "                     rmin=0.01,rmax = 1e4,\n",
    "                     f=0.001,Rnum=500,dR_min=1e-4):\n",
    "    # Arrays\n",
    "    x = np.logspace(logx_min,logx_max,xnum)\n",
    "    dlnx = np.log(x[1]/x[0])\n",
    "    \n",
    "    p1 = check_p(p1,x,dlnx)\n",
    "    if p2 is None:\n",
    "        p2 = p1\n",
    "    else:\n",
    "        p2 = check_p(p2,x,dlnx)\n",
    "    \n",
    "    Rmin = np.outer(x,np.sqrt(2*(1-np.cos(theta))))   # (x*theta array)\n",
    "    \n",
    "    # Assuming a roughly power-law slope, get approximately 1-f of the integral\n",
    "    # below (1-f)**(1./(1-slope)) times the minimum.\n",
    "    slope = -np.log(xi(rmax)/xi(rmin))/np.log(rmax/rmin)\n",
    "    a = f**(1./(1-slope))\n",
    "    print slope, a\n",
    "    \n",
    "    # Problem witht he following is that Rmax may be greater than 2*x, which is impossible.\n",
    "    #Rmax = Rmin * a\n",
    "    R = np.logspace(0,np.log10(a),Rnum)\n",
    "    dlnR = np.log(R[1])\n",
    "    \n",
    "    R = np.outer(R,(Rmin+dR_min)).reshape((Rnum,len(x),len(theta))) #(Rnum,x,theta) array.\n",
    "    x2theta = np.outer(2*x**2,(1-np.cos(theta))) # (x,theta) array\n",
    "    x2theta = np.clip(R**2 - x2theta,0,np.inf)\n",
    "    \n",
    "    Delta = np.transpose(np.sqrt(x2theta/(2*(1+np.cos(theta)))),(2,0,1)) #(theta,Rnum,x) array\n",
    "    \n",
    "    Q = p1(x-Delta)*p2(x+Delta) + p1(x+Delta)*p2(x-Delta) #(theta,Rnum,x array)\n",
    "    integrand = Q*xi(R.flatten()).reshape((len(theta),Rnum,len(x))) * np.transpose(R**2,(2,0,1))/Delta * x\n",
    "    \n",
    "    #print integrand, dlnR, dlnx\n",
    "    return dblsimps(integrand,dlnR, dlnx)"
   ]
  },
  {
   "cell_type": "code",
   "execution_count": 95,
   "metadata": {},
   "outputs": [
    {
     "name": "stdout",
     "output_type": "stream",
     "text": [
      "WARNING: Filter function p(x) did not integrate to 1 (228685537.537). Tentatively re-normalising.\n",
      "1.77 7872.34096884\n",
      "[  3.42481852e+08   4.08858649e+05   6.00569789e+04   1.05714466e+03\n",
      "   5.54148752e-02]\n"
     ]
    }
   ],
   "source": [
    "theta = np.logspace(-2,-1,5)\n",
    "a = general_no_r_dep(theta,pl_xi(1.77,5.4),pform(500,500*0.15),xnum=10,Rnum=8)\n",
    "print a"
   ]
  },
  {
   "cell_type": "code",
   "execution_count": 92,
   "metadata": {},
   "outputs": [
    {
     "data": {
      "text/plain": [
       "array([  3.42481852e+08,   4.08858649e+05,   6.00569789e+04,\n",
       "         1.05714466e+03,   5.54148752e-02])"
      ]
     },
     "execution_count": 92,
     "metadata": {},
     "output_type": "execute_result"
    }
   ],
   "source": [
    "a"
   ]
  },
  {
   "cell_type": "code",
   "execution_count": 96,
   "metadata": {},
   "outputs": [
    {
     "name": "stdout",
     "output_type": "stream",
     "text": [
      "WARNING: Filter function p(x) did not integrate to 1 (48056763.8822). Tentatively re-normalising.\n",
      "-0.77 0.00233979249471\n",
      "WARNING: Filter function p(x) did not integrate to 1 (48056763.8822). Tentatively re-normalising.\n",
      "WARNING: Filter function p(x) did not integrate to 1 (48052555.9096). Tentatively re-normalising.\n",
      "1.77 7872.34096884\n",
      "WARNING: Filter function p(x) did not integrate to 1 (129985466.684). Tentatively re-normalising.\n",
      "-0.77 0.000945429471088\n",
      "WARNING: Filter function p(x) did not integrate to 1 (129985466.684). Tentatively re-normalising.\n"
     ]
    },
    {
     "data": {
      "text/plain": [
       "<matplotlib.text.Text at 0x7f5630efbf50>"
      ]
     },
     "execution_count": 96,
     "metadata": {},
     "output_type": "execute_result"
    },
    {
     "data": {
      "image/png": "[encoded data removed]",
      "text/plain": [
       "<matplotlib.figure.Figure at 0x7f563120fcd0>"
      ]
     },
     "metadata": {},
     "output_type": "display_data"
    }
   ],
   "source": [
    "theta = np.logspace(-1,0,50)/3437.75\n",
    "\n",
    "def pform(xc,sigp):\n",
    "    return (lambda x: x**2 * np.exp(-0.5*(x-xc)**2/sigp**2))\n",
    "\n",
    "def pl_xi(gamma,r0):\n",
    "    return (lambda r: (r/r0)**(-gamma))\n",
    "\n",
    "plt.plot(3437.75*theta,limber_analytic_pl(theta,1.77,5.4,pform(500,500*0.15),logx_min=2,logx_max=3),color=\"b\")\n",
    "plt.plot(3437.75*theta,limber_no_r_dep(theta,pl_xi(1.77,5.4),pform(500,500*0.15),logx_min=2,logx_max=3,logu_max=5),color=\"b\")\n",
    "plt.plot(3437.75*theta,general_no_r_dep(theta,pl_xi(1.77,5.4),pform(500,500*0.15)),color=\"b\")\n",
    "\n",
    "plt.plot(3437.75*theta,limber_analytic_pl(theta,1.77,5.4,pform(500,500*0.37),logx_min=2,logx_max=3),color=\"r\")\n",
    "plt.plot(3437.75*theta,limber_no_r_dep(theta,pl_xi(1.77,5.4),pform(500,500*0.37),logx_min=2,logx_max=3,logu_max=5),color=\"r\")\n",
    "\n",
    "plt.xscale('log')\n",
    "plt.yscale('log')\n",
    "plt.xlabel(\"arcmin\")"
   ]
  },
  {
   "cell_type": "code",
   "execution_count": 38,
   "metadata": {},
   "outputs": [
    {
     "data": {
      "image/png": "[encoded data removed]",
      "text/plain": [
       "<matplotlib.figure.Figure at 0x7f563235e310>"
      ]
     },
     "metadata": {},
     "output_type": "display_data"
    }
   ],
   "source": [
    "theta = np.logspace(-2,1,50)\n",
    "plt.plot(theta*180.0/np.pi,2./np.sqrt(2*(1-np.cos(theta))))\n",
    "plt.xscale('log')\n",
    "plt.yscale('log')"
   ]
  },
  {
   "cell_type": "code",
   "execution_count": null,
   "metadata": {
    "collapsed": true
   },
   "outputs": [],
   "source": []
  }
 ],
 "metadata": {
  "hide_input": true,
  "kernelspec": {
   "display_name": "Python [conda env:halomod]",
   "language": "python",
   "name": "conda-env-halomod-py"
  },
  "language_info": {
   "codemirror_mode": {
    "name": "ipython",
    "version": 3
   },
   "file_extension": ".py",
   "mimetype": "text/x-python",
   "name": "python",
   "nbconvert_exporter": "python",
   "pygments_lexer": "ipython3",
   "version": "3.7.0"
  },
  "latex_envs": {
   "LaTeX_envs_menu_present": true,
   "autoclose": true,
   "autocomplete": true,
   "bibliofile": "biblio.bib",
   "cite_by": "apalike",
   "current_citInitial": 1,
   "eqLabelWithNumbers": true,
   "eqNumInitial": 0,
   "hotkeys": {
    "equation": "Ctrl-E",
    "itemize": "Ctrl-I"
   },
   "labels_anchors": false,
   "latex_user_defs": false,
   "report_style_numbering": false,
   "user_envs_cfg": false
  },
  "toc": {
   "base_numbering": 1,
   "nav_menu": {},
   "number_sections": true,
   "sideBar": true,
   "skip_h1_title": false,
   "title_cell": "Table of Contents",
   "title_sidebar": "Contents",
   "toc_cell": false,
   "toc_position": {},
   "toc_section_display": true,
   "toc_window_display": false
  }
 },
 "nbformat": 4,
 "nbformat_minor": 1
}
