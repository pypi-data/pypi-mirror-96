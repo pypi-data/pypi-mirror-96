{
 "cells": [
  {
   "cell_type": "markdown",
   "metadata": {},
   "source": [
    "# Going beyond galaxies as tracers with `halomod`"
   ]
  },
  {
   "cell_type": "markdown",
   "metadata": {},
   "source": [
    "`halomod` is written in a way that is most native to applications of halo models of galaxies. Therefore, modifications and extensions in the context of galaxy clustering (as well as HI assuming HI is trivially related to galaxies) are very straightforward. However, it may not be as straightforward when dealing with other tracers. In this tutorial, we use the flux density power spectrum of [arxiv:0906.3020](https://arxiv.org/abs/0906.3020) to demonstrate how to fully utilise the flexibility of `halomod`."
   ]
  },
  {
   "cell_type": "markdown",
   "metadata": {},
   "source": [
    "The flux density power spectrum can modelled as (see Sec 2.3 of [arxiv:0906.3020](https://arxiv.org/abs/0906.3020)):\n",
    "$$\n",
    "P_{1h}(k) = |u_J(k)|^2 \\int_{M_{\\rm min}}^{\\infty} {\\rm d}m\\, n(m) \\bigg(\\frac{m}{\\bar{\\rho}_{\\rm gal}}\\bigg)^2\n",
    "$$\n",
    "\n",
    "$$\n",
    "P_{2h}(k)=|u_J(k)|^2\\bigg[\\int_{M_{\\rm min}}^{\\infty}{\\rm d}m\\,n(m)b(m)\\Big(\\frac{m}{\\bar{\\rho}_{\\rm gal}}\\Big)\\bigg]^2 P_{\\rm lin}(k)\n",
    "$$\n",
    "\n",
    "where $u_J(k)={\\rm arctan}(k\\lambda_{\\rm mfp})/(k\\lambda_{\\rm mfp})$"
   ]
  },
  {
   "cell_type": "markdown",
   "metadata": {},
   "source": [
    "## HOD\n",
    "Once we have the expression of the power spectrum we want, we should try to identify the halo model components. Comparing it to the standard halo model formalism, it's easy to see that it effectively means:\n",
    "$$\n",
    "\\langle M_{\\rm cen}\\rangle \\equiv 0\n",
    "$$\n",
    "\n",
    "$$\n",
    "\\langle M_{\\rm sat}\\rangle \\equiv A_{\\rm sat}\n",
    "$$\n",
    "\n",
    "where $A_{\\rm sat}$ is a constant so that the total satellite occupation is equal to the mean mass density of galaxies:\n",
    "\n",
    "$$\n",
    "\\int_{M_{\\rm min}} {\\rm d}m\\, n(m)A = \\bar{\\rho}_{\\rm gal}\n",
    "$$\n",
    "\n",
    "This HOD has already been defined within `halomod` by the `Constant` HOD class:"
   ]
  },
  {
   "cell_type": "code",
   "execution_count": 2,
   "metadata": {},
   "outputs": [],
   "source": [
    "from halomod import TracerHaloModel\n",
    "import numpy as np\n",
    "from matplotlib import pyplot as plt"
   ]
  },
  {
   "cell_type": "code",
   "execution_count": 3,
   "metadata": {},
   "outputs": [],
   "source": [
    "hm = TracerHaloModel(hod_model=\"Constant\", transfer_model='EH')"
   ]
  },
  {
   "cell_type": "code",
   "execution_count": 4,
   "metadata": {},
   "outputs": [
    {
     "data": {
      "text/plain": [
       "0"
      ]
     },
     "execution_count": 4,
     "metadata": {},
     "output_type": "execute_result"
    }
   ],
   "source": [
    "hm.central_occupation"
   ]
  },
  {
   "cell_type": "code",
   "execution_count": 5,
   "metadata": {},
   "outputs": [
    {
     "data": {
      "text/plain": [
       "[<matplotlib.lines.Line2D at 0x7f46fb08e9e8>]"
      ]
     },
     "execution_count": 5,
     "metadata": {},
     "output_type": "execute_result"
    },
    {
     "data": {
      "image/png": "[encoded data removed]",
      "text/plain": [
       "<Figure size 432x288 with 1 Axes>"
      ]
     },
     "metadata": {
      "needs_background": "light"
     },
     "output_type": "display_data"
    }
   ],
   "source": [
    "plt.plot(np.log10(hm.m),hm.satellite_occupation)"
   ]
  },
  {
   "cell_type": "markdown",
   "metadata": {},
   "source": [
    "## Density Profile\n",
    "\n",
    "The density profile from [arxiv:0906.3020](https://arxiv.org/abs/0906.3020) is already included as `PowerLawWithExpCut`:\n",
    "\n",
    "$$\n",
    "\\rho(r) = \\rho_s \\big(r/r_s \\big)^{-b}{\\rm exp}\\big[-a r/r_s\\big]\n",
    "$$\n",
    "\n",
    "and in this specific case we have $b=2$.\n",
    "\n",
    "However, the native way of defining density profile in `halomod` is to relate it to the characteristic scale $r_s$, which is related to the concentration parameter. Therefore, for each halo of different mass the shape of the density profile is different. But in this case we want to keep the shape of the profile the same for all halos. Although `halomod` does not provide a readily available solution, note:\n",
    "\n",
    "$$\n",
    "m \\sim r_s^3c^3(m,z)\n",
    "$$\n",
    "\n",
    "$$\n",
    "r_s \\sim m^{1/3}c^{-1}(m,z)\n",
    "$$\n",
    "\n",
    "Therefore, we only need to define a special concentration-mass relation to keep $r_s$ constant. Suppose we construct a C-M relation:"
   ]
  },
  {
   "cell_type": "code",
   "execution_count": 6,
   "metadata": {},
   "outputs": [],
   "source": [
    "from halomod.concentration import CMRelation\n",
    "from hmf.halos.mass_definitions import SOMean"
   ]
  },
  {
   "cell_type": "code",
   "execution_count": 7,
   "metadata": {},
   "outputs": [],
   "source": [
    "class CMFlux(CMRelation):\n",
    "    _defaults = {'c_0': 4}\n",
    "    native_mdefs = (SOMean(),)\n",
    "\n",
    "    def cm(self,m,z):\n",
    "        return self.params['c_0']*(m*10**(-11))**(1/3)"
   ]
  },
  {
   "cell_type": "code",
   "execution_count": 8,
   "metadata": {},
   "outputs": [],
   "source": [
    "hm = TracerHaloModel(\n",
    "    halo_concentration_model = CMFlux,\n",
    "    halo_profile_model = \"PowerLawWithExpCut\",\n",
    "    halo_profile_params = {\"b\":2.0,\"a\":1.0},\n",
    "    hod_model = \"Constant\",\n",
    "    transfer_model='EH',\n",
    ")"
   ]
  },
  {
   "cell_type": "code",
   "execution_count": 9,
   "metadata": {},
   "outputs": [
    {
     "data": {
      "image/png": "[encoded data removed]",
      "text/plain": [
       "<Figure size 432x288 with 1 Axes>"
      ]
     },
     "metadata": {
      "needs_background": "light"
     },
     "output_type": "display_data"
    }
   ],
   "source": [
    "plt.plot(np.log10(hm.k_hm),hm.tracer_profile.u(hm.k_hm,m=1e12), label='$m = 10^{12}$')\n",
    "plt.plot(np.log10(hm.k_hm),hm.tracer_profile.u(hm.k_hm,m=1e13), label='$m = 10^{13}$')\n",
    "plt.plot(np.log10(hm.k_hm),hm.tracer_profile.u(hm.k_hm,m=1e14), label='$m = 10^{14}$')\n",
    "plt.legend();"
   ]
  },
  {
   "cell_type": "markdown",
   "metadata": {},
   "source": [
    "One can see that indeed the density profile is now independant of halo mass"
   ]
  },
  {
   "cell_type": "markdown",
   "metadata": {},
   "source": [
    "## Tuning parameters"
   ]
  },
  {
   "cell_type": "markdown",
   "metadata": {},
   "source": [
    "So far the parameters are randomly set without clear physical meanings. We can easily tune these parameters to desired physical values.\n",
    "\n",
    "Suppose we want the mass density of galaxies to be $10^{-2}$ of the total critical density:"
   ]
  },
  {
   "cell_type": "code",
   "execution_count": 10,
   "metadata": {},
   "outputs": [],
   "source": [
    "rhoc = hm.cosmo.critical_density0.to(\"Msun/Mpc^3\").value*hm.cosmo.h**2"
   ]
  },
  {
   "cell_type": "code",
   "execution_count": 11,
   "metadata": {},
   "outputs": [
    {
     "data": {
      "text/plain": [
       "6.031538397336788e-13"
      ]
     },
     "execution_count": 11,
     "metadata": {},
     "output_type": "execute_result"
    }
   ],
   "source": [
    "hm.mean_tracer_den/rhoc"
   ]
  },
  {
   "cell_type": "markdown",
   "metadata": {},
   "source": [
    "That means the parameter `logA` for the HOD should be changed to:"
   ]
  },
  {
   "cell_type": "code",
   "execution_count": 12,
   "metadata": {},
   "outputs": [
    {
     "data": {
      "text/plain": [
       "12.219571903073373"
      ]
     },
     "execution_count": 12,
     "metadata": {},
     "output_type": "execute_result"
    }
   ],
   "source": [
    "-np.log10(hm.mean_tracer_den/rhoc)"
   ]
  },
  {
   "cell_type": "markdown",
   "metadata": {},
   "source": [
    "We can simply set this on the existing model (everything that's dependent on it will be auto-updated):"
   ]
  },
  {
   "cell_type": "code",
   "execution_count": 13,
   "metadata": {},
   "outputs": [],
   "source": [
    "hm.hod_params = {\"logA\":-np.log10(hm.mean_tracer_den/rhoc)}"
   ]
  },
  {
   "cell_type": "code",
   "execution_count": 14,
   "metadata": {},
   "outputs": [
    {
     "data": {
      "text/plain": [
       "1.0000000000000027"
      ]
     },
     "execution_count": 14,
     "metadata": {},
     "output_type": "execute_result"
    }
   ],
   "source": [
    "hm.mean_tracer_den/rhoc"
   ]
  },
  {
   "cell_type": "markdown",
   "metadata": {},
   "source": [
    "The density profile should satisfy $r_s/a = \\lambda_{\\rm mfp}$. $r_s$ can be obtained as:"
   ]
  },
  {
   "cell_type": "code",
   "execution_count": 17,
   "metadata": {},
   "outputs": [
    {
     "name": "stdout",
     "output_type": "stream",
     "text": [
      "0.027958379670079817\n"
     ]
    }
   ],
   "source": [
    "rs = hm.halo_profile.scale_radius(1e11)\n",
    "print(rs)"
   ]
  },
  {
   "cell_type": "markdown",
   "metadata": {},
   "source": [
    "Just to make sure, we calculate $r_s$ for a different halo mass:"
   ]
  },
  {
   "cell_type": "code",
   "execution_count": 18,
   "metadata": {},
   "outputs": [
    {
     "data": {
      "text/plain": [
       "0.027958379670079813"
      ]
     },
     "execution_count": 18,
     "metadata": {},
     "output_type": "execute_result"
    }
   ],
   "source": [
    "hm.halo_profile.scale_radius(1e12)"
   ]
  },
  {
   "cell_type": "markdown",
   "metadata": {},
   "source": [
    "in the units of Mpc/h. Assume we want $\\lambda_{\\rm mfp} = 10$Mpc/h:"
   ]
  },
  {
   "cell_type": "code",
   "execution_count": 19,
   "metadata": {},
   "outputs": [],
   "source": [
    "hm.halo_profile_params = {\"a\":rs/10}"
   ]
  },
  {
   "cell_type": "markdown",
   "metadata": {},
   "source": [
    "Check the density profile to see the cut-off:"
   ]
  },
  {
   "cell_type": "code",
   "execution_count": 21,
   "metadata": {},
   "outputs": [
    {
     "data": {
      "image/png": "[encoded data removed]",
      "text/plain": [
       "<Figure size 432x288 with 1 Axes>"
      ]
     },
     "metadata": {
      "needs_background": "light"
     },
     "output_type": "display_data"
    }
   ],
   "source": [
    "plt.plot(hm.k_hm,hm.tracer_profile.u(hm.k_hm,m=1e12))\n",
    "plt.xlabel(\"Scale [h/Mpc]\")\n",
    "plt.ylabel(\"Normalized Fourier Density\")\n",
    "plt.xscale('log')"
   ]
  },
  {
   "cell_type": "markdown",
   "metadata": {},
   "source": [
    "You can see it's indeed around 0.1 Mpc$^{-1}$h"
   ]
  },
  {
   "cell_type": "markdown",
   "metadata": {},
   "source": [
    "Finally we can see the power spectrum:"
   ]
  },
  {
   "cell_type": "code",
   "execution_count": 29,
   "metadata": {},
   "outputs": [
    {
     "data": {
      "text/plain": [
       "Text(0, 0.5, 'Auto Power Spectrum')"
      ]
     },
     "execution_count": 29,
     "metadata": {},
     "output_type": "execute_result"
    },
    {
     "data": {
      "image/png": "[encoded data removed]",
      "text/plain": [
       "<Figure size 432x288 with 1 Axes>"
      ]
     },
     "metadata": {
      "needs_background": "light"
     },
     "output_type": "display_data"
    }
   ],
   "source": [
    "plt.plot(hm.k_hm,hm.power_1h_auto_tracer, ls='--', color='C0', label='1halo')\n",
    "plt.plot(hm.k_hm,hm.power_2h_auto_tracer, ls=':', color='C0', label='2halo')\n",
    "plt.plot(hm.k_hm,hm.power_auto_tracer, color='C0', label='full')\n",
    "plt.legend()\n",
    "plt.xscale('log')\n",
    "plt.yscale('log')\n",
    "plt.ylim(1e-5,)\n",
    "plt.xlabel(\"Fourier Scale, $k$\")\n",
    "plt.ylabel(\"Auto Power Spectrum\")"
   ]
  },
  {
   "cell_type": "code",
   "execution_count": null,
   "metadata": {},
   "outputs": [],
   "source": []
  }
 ],
 "metadata": {
  "kernelspec": {
   "display_name": "Python [conda env:halomod]",
   "language": "python",
   "name": "conda-env-halomod-py"
  },
  "language_info": {
   "codemirror_mode": {
    "name": "ipython",
    "version": 3
   },
   "file_extension": ".py",
   "mimetype": "text/x-python",
   "name": "python",
   "nbconvert_exporter": "python",
   "pygments_lexer": "ipython3",
   "version": "3.7.0"
  }
 },
 "nbformat": 4,
 "nbformat_minor": 4
}
