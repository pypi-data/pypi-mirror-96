{
 "cells": [
  {
   "cell_type": "markdown",
   "metadata": {
    "nbsphinx": "hidden"
   },
   "source": [
    "This notebook is part of the `nbsphinx` documentation: https://nbsphinx.readthedocs.io/."
   ]
  },
  {
   "cell_type": "markdown",
   "metadata": {},
   "source": [
    "# Controlling Notebook Execution\n",
    "\n",
    "Notebooks with no outputs are automatically executed during the Sphinx build process.\n",
    "If, however, there is at least one output cell present, the notebook is not evaluated and included as is.\n",
    "\n",
    "The following notebooks show how this default behavior can be used and customized."
   ]
  },
  {
   "cell_type": "markdown",
   "metadata": {
    "nbsphinx-toctree": {}
   },
   "source": [
    "* [Pre-Executing Notebooks](pre-executed.ipynb)\n",
    "* [Explicitly Dis-/Enabling Notebook Execution](never-execute.ipynb)\n",
    "* [Ignoring Errors](allow-errors.ipynb)\n",
    "* [Ignoring Errors on a Per-Cell Basis](allow-errors-per-cell.ipynb)\n",
    "* [Configuring Kernels](configuring-kernels.ipynb)\n",
    "* [Cell Execution Timeout](timeout.ipynb)"
   ]
  }
 ],
 "metadata": {
  "kernelspec": {
   "display_name": "Python 3",
   "language": "python",
   "name": "python3"
  },
  "language_info": {
   "codemirror_mode": {
    "name": "ipython",
    "version": 3
   },
   "file_extension": ".py",
   "mimetype": "text/x-python",
   "name": "python",
   "nbconvert_exporter": "python",
   "pygments_lexer": "ipython3",
   "version": "3.7.4+"
  }
 },
 "nbformat": 4,
 "nbformat_minor": 4
}
