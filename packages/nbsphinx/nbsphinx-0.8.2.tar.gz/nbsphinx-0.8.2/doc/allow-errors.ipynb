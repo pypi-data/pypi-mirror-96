{
 "cells": [
  {
   "cell_type": "markdown",
   "metadata": {
    "nbsphinx": "hidden"
   },
   "source": [
    "This notebook is part of the `nbsphinx` documentation: https://nbsphinx.readthedocs.io/."
   ]
  },
  {
   "cell_type": "markdown",
   "metadata": {},
   "source": [
    "# Ignoring Errors\n",
    "\n",
    "Normally, if an exception is raised while executing a notebook, the Sphinx build process is stopped immediately.\n",
    "\n",
    "If a notebook contains errors on purpose (or if you are too lazy to fix them right now), you have four options:\n",
    "\n",
    "1. Manually execute the notebook in question and save the results, see [the pre-executed example notebook](pre-executed.ipynb).\n",
    "\n",
    "2. Allow errors in all notebooks by setting this option\n",
    "    in [conf.py](conf.py):\n",
    "\n",
    "    ```python\n",
    "    nbsphinx_allow_errors = True\n",
    "    ```\n",
    "\n",
    "3. Allow errors on a per-notebook basis by adding this to the notebook's\n",
    "    JSON metadata:\n",
    "\n",
    "    ```\n",
    "    \"nbsphinx\": {\n",
    "      \"allow_errors\": true\n",
    "    },\n",
    "    ```\n",
    "\n",
    "4. Allow errors on a per-cell basis using the `raises-exception` tag, see [Ignoring Errors on a Cell-by-Cell Basis](allow-errors-per-cell.ipynb).\n",
    "\n",
    "This very notebook is an example for the third option.\n",
    "The results of the following code cells are not stored within the notebook, therefore it is executed during the Sphinx build process.\n",
    "Since the above-mentioned `allow_errors` flag is set in this notebook's metadata, all cells are executed although most of them cause an exception."
   ]
  },
  {
   "cell_type": "code",
   "execution_count": null,
   "metadata": {},
   "outputs": [],
   "source": [
    "nonsense"
   ]
  },
  {
   "cell_type": "code",
   "execution_count": null,
   "metadata": {},
   "outputs": [],
   "source": [
    "42 / 0"
   ]
  },
  {
   "cell_type": "code",
   "execution_count": null,
   "metadata": {},
   "outputs": [],
   "source": [
    "print 'Hello, world!'"
   ]
  },
  {
   "cell_type": "code",
   "execution_count": null,
   "metadata": {},
   "outputs": [],
   "source": [
    "6 ~ 7"
   ]
  },
  {
   "cell_type": "code",
   "execution_count": null,
   "metadata": {},
   "outputs": [],
   "source": [
    "6 * 7"
   ]
  }
 ],
 "metadata": {
  "kernelspec": {
   "display_name": "Python 3",
   "language": "python",
   "name": "python3"
  },
  "language_info": {
   "codemirror_mode": {
    "name": "ipython",
    "version": 3
   },
   "file_extension": ".py",
   "mimetype": "text/x-python",
   "name": "python",
   "nbconvert_exporter": "python",
   "pygments_lexer": "ipython3",
   "version": "3.6.7"
  },
  "nbsphinx": {
   "allow_errors": true
  }
 },
 "nbformat": 4,
 "nbformat_minor": 2
}
