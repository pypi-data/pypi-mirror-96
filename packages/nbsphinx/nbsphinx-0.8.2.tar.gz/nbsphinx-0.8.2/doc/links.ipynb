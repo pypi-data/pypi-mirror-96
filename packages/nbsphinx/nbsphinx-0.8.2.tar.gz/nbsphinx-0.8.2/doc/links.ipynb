{
 "cells": [
  {
   "cell_type": "markdown",
   "metadata": {
    "nbsphinx": "hidden"
   },
   "source": [
    "This notebook is part of the `nbsphinx` documentation: https://nbsphinx.readthedocs.io/."
   ]
  },
  {
   "cell_type": "markdown",
   "metadata": {},
   "source": [
    "# External Links"
   ]
  },
  {
   "cell_type": "markdown",
   "metadata": {},
   "source": [
    "**nbconvert**\n",
    "\n",
    "The official conversion tool of the Jupyter project.\n",
    "It can be used to convert notebooks to HTML, LaTeX and many other formats.\n",
    "\n",
    "Its `--execute` flag can be used to automatically execute notebooks before conversion.\n",
    "\n",
    "https://nbconvert.readthedocs.io/\n",
    "\n",
    "https://github.com/jupyter/nbconvert"
   ]
  },
  {
   "cell_type": "markdown",
   "metadata": {},
   "source": [
    "**RunNotebook (notebook_sphinxext.py)**\n",
    "\n",
    "Notebooks can be included in `*.rst` files with a custom `notebook` directive.\n",
    "Uses `nbconvert` to execute notebooks and to convert the result to HTML.\n",
    "\n",
    "No LaTeX support.\n",
    "\n",
    "https://github.com/ngoldbaum/RunNotebook\n",
    "\n",
    "There are some forks:\n",
    "\n",
    "* `https://bitbucket.org/yt_analysis/yt-doc/src/default/extensions/notebook_sphinxext.py` (not available anymore)\n",
    "* https://github.com/matthew-brett/perrin-academy/blob/master/sphinxext/notebook_sphinxext.py"
   ]
  },
  {
   "cell_type": "markdown",
   "metadata": {},
   "source": [
    "**nbsite**\n",
    "\n",
    "Build a tested, sphinx-based website from notebooks.\n",
    "\n",
    "https://nbsite.holoviz.org/"
   ]
  },
  {
   "cell_type": "markdown",
   "metadata": {},
   "source": [
    "**ipypublish**\n",
    "\n",
    "A workflow for creating and editing publication ready scientific reports and presentations, from one or more Jupyter Notebooks, without leaving the browser!\n",
    "\n",
    "https://ipypublish.readthedocs.io/\n",
    "\n",
    "https://github.com/chrisjsewell/ipypublish"
   ]
  },
  {
   "cell_type": "markdown",
   "metadata": {},
   "source": [
    "**jupyterbook**\n",
    "\n",
    "Jupyter Book is an open source project for building beautiful, publication-quality books and documents from computational material.\n",
    "\n",
    "https://jupyterbook.org/\n",
    "\n",
    "https://github.com/executablebooks/jupyter-book\n",
    "\n",
    "Previous tagline: \"Create an online book with Jupyter Notebooks and Jekyll\":\n",
    "https://legacy.jupyterbook.org/"
   ]
  },
  {
   "cell_type": "markdown",
   "metadata": {},
   "source": [
    "**MyST-NB**\n",
    "\n",
    "A collection of tools for working with Jupyter Notebooks in Sphinx.\n",
    "\n",
    "The primary tool this package provides is a Sphinx parser for `ipynb` files.\n",
    "This allows you to directly convert Jupyter Notebooks into Sphinx documents.\n",
    "It relies heavily on the\n",
    "[MyST parser](https://github.com/executablebooks/MyST-Parser).\n",
    "\n",
    "https://myst-nb.readthedocs.io/\n",
    "\n",
    "https://github.com/executablebooks/MyST-NB"
   ]
  },
  {
   "cell_type": "markdown",
   "metadata": {},
   "source": [
    "**notebook-to-pdf**\n",
    "\n",
    "This Jupyter notebook extension allows you to save your notebook as a PDF.\n",
    "\n",
    "Three new features compared to the official \"save as PDF\" extension:\n",
    "\n",
    "1. produce a PDF with the smallest number of page breaks,\n",
    "1. the original notebook is attached to the PDF; and\n",
    "1. this extension does not require LaTex.\n",
    "\n",
    "https://github.com/betatim/notebook-as-pdf"
   ]
  },
  {
   "cell_type": "markdown",
   "metadata": {},
   "source": [
    "**nbinteract**\n",
    "\n",
    "Create interactive webpages from Jupyter Notebooks\n",
    "\n",
    "https://www.nbinteract.com/\n",
    "\n",
    "https://github.com/SamLau95/nbinteract"
   ]
  },
  {
   "cell_type": "markdown",
   "metadata": {},
   "source": [
    "**nb_pdf_template**\n",
    "\n",
    "An extended `nbconvert` template for LaTeX output.\n",
    "\n",
    "https://github.com/t-makaro/nb_pdf_template"
   ]
  },
  {
   "cell_type": "markdown",
   "metadata": {},
   "source": [
    "**nb2plots**\n",
    "\n",
    "Notebook to reStructuredText converter which uses a modified version of the matplotlib `plot` directive.\n",
    "\n",
    "https://github.com/matthew-brett/nb2plots"
   ]
  },
  {
   "cell_type": "markdown",
   "metadata": {},
   "source": [
    "**brole**\n",
    "\n",
    "A Sphinx role for IPython notebooks\n",
    "\n",
    "https://github.com/matthew-brett/brole"
   ]
  },
  {
   "cell_type": "markdown",
   "metadata": {},
   "source": [
    "**Sphinx-Gallery**\n",
    "\n",
    "https://sphinx-gallery.readthedocs.io/"
   ]
  },
  {
   "cell_type": "markdown",
   "metadata": {},
   "source": [
    "**sphinx-nbexamples**\n",
    "\n",
    "https://sphinx-nbexamples.readthedocs.io/\n",
    "\n",
    "https://github.com/Chilipp/sphinx-nbexamples"
   ]
  },
  {
   "cell_type": "markdown",
   "metadata": {},
   "source": [
    "**nbsphinx-link**\n",
    "\n",
    "https://github.com/vidartf/nbsphinx-link\n",
    "\n",
    "Uses `nbsphinx`, but supports notebooks outside the Sphinx source directory.\n",
    "\n",
    "See https://github.com/spatialaudio/nbsphinx/pull/33 for some limitations."
   ]
  },
  {
   "cell_type": "markdown",
   "metadata": {},
   "source": [
    "**bookbook**\n",
    "\n",
    "Uses `nbconvert` to create a sequence of HTML or\n",
    "a concatenated LaTeX file from a sequence of notebooks.\n",
    "\n",
    "https://github.com/takluyver/bookbook"
   ]
  },
  {
   "cell_type": "markdown",
   "metadata": {},
   "source": [
    "**jupyter-sphinx**\n",
    "\n",
    "Jupyter Sphinx is a Sphinx extension that executes embedded code in a Jupyter kernel, and embeds outputs of that code in the output document. It has support for rich output such as images, Latex math and even javascript widgets.\n",
    "\n",
    "https://jupyter-sphinx.readthedocs.io/\n",
    "\n",
    "https://github.com/jupyter/jupyter-sphinx"
   ]
  },
  {
   "cell_type": "markdown",
   "metadata": {},
   "source": [
    "**DocOnce**\n",
    "\n",
    "http://hplgit.github.io/doconce/doc/web/index.html"
   ]
  },
  {
   "cell_type": "markdown",
   "metadata": {},
   "source": [
    "**Converting Notebooks to reStructuredText**\n",
    "\n",
    "https://github.com/perrette/dimarray/blob/master/docs/scripts/nbconvert_to_rst.py\n",
    "\n",
    "`https://gist.github.com/hadim/16e29b5848672e2e497c` (not available anymore)\n",
    "\n",
    "https://sphinx-ipynb.readthedocs.io/"
   ]
  },
  {
   "cell_type": "markdown",
   "metadata": {},
   "source": [
    "**Converting reStructuredText to Notebooks**\n",
    "\n",
    "https://github.com/nthiery/rst-to-ipynb\n",
    "\n",
    "https://github.com/QuantEcon/sphinxcontrib-jupyter"
   ]
  },
  {
   "cell_type": "markdown",
   "metadata": {},
   "source": [
    "**Converting Notebooks to HTML for Blog Posts**\n",
    "\n",
    "http://dongweiming.github.io/divingintoipynb_nikola/posts/nbconvert.html\n",
    "\n",
    "https://github.com/getpelican/pelican-plugins/blob/master/liquid_tags/notebook.py"
   ]
  },
  {
   "cell_type": "markdown",
   "metadata": {},
   "source": [
    "**Further Posts and Issues**\n",
    "\n",
    "https://github.com/ipython/ipython/issues/4936\n",
    "\n",
    "`https://mail.scipy.org/pipermail/ipython-user/2013-December/013490.html` (not available anymore)"
   ]
  }
 ],
 "metadata": {
  "kernelspec": {
   "display_name": "Python 3",
   "language": "python",
   "name": "python3"
  },
  "language_info": {
   "codemirror_mode": {
    "name": "ipython",
    "version": 3
   },
   "file_extension": ".py",
   "mimetype": "text/x-python",
   "name": "python",
   "nbconvert_exporter": "python",
   "pygments_lexer": "ipython3",
   "version": "3.8.6"
  }
 },
 "nbformat": 4,
 "nbformat_minor": 4
}
