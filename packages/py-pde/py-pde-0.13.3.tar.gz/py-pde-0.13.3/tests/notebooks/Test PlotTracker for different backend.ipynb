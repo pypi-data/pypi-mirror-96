{
 "cells": [
  {
   "cell_type": "markdown",
   "metadata": {},
   "source": [
    "This notebook is for testing plotting during simulations using different backends in a jupyter context. Please chose some backend using the ipython magic in the next cell and run the whole notebook with a fresh kernel."
   ]
  },
  {
   "cell_type": "code",
   "execution_count": null,
   "metadata": {},
   "outputs": [],
   "source": [
    "%matplotlib inline\n",
    "# %matplotlib notebook\n",
    "# %matplotlib osx"
   ]
  },
  {
   "cell_type": "code",
   "execution_count": null,
   "metadata": {},
   "outputs": [],
   "source": [
    "from pathlib import Path\n",
    "import tempfile\n",
    "\n",
    "import pde"
   ]
  },
  {
   "cell_type": "markdown",
   "metadata": {},
   "source": [
    "# Show images during simulation\n",
    "A single plot should be shown when calling the `plot` method and an animation should be displayed during the simulation. Simultaneously, a video should be created."
   ]
  },
  {
   "cell_type": "code",
   "execution_count": null,
   "metadata": {},
   "outputs": [],
   "source": [
    "grid = pde.UnitGrid([32])\n",
    "field = pde.ScalarField.random_uniform(grid)\n",
    "field.plot(title='Simple display');"
   ]
  },
  {
   "cell_type": "code",
   "execution_count": null,
   "metadata": {},
   "outputs": [],
   "source": [
    "eq = pde.DiffusionPDE()\n",
    "movie_file = tempfile.NamedTemporaryFile(delete=False, suffix='.mov').name\n",
    "plot_tracker = pde.PlotTracker(.1, title='Visible – {time:.2g}', show=True, movie_file=movie_file)\n",
    "_, info = eq.solve(field, t_range=2, dt=0.1, backend='numpy', ret_info=True,\n",
    "                   tracker=['progress', plot_tracker]);"
   ]
  },
  {
   "cell_type": "code",
   "execution_count": null,
   "metadata": {},
   "outputs": [],
   "source": [
    "print(f\"Plotting took {info['profiler']['tracker']:.3g} seconds\")"
   ]
  },
  {
   "cell_type": "code",
   "execution_count": null,
   "metadata": {
    "run_control": {
     "marked": false
    }
   },
   "outputs": [],
   "source": [
    "assert Path(movie_file).stat().st_size > 0"
   ]
  },
  {
   "cell_type": "markdown",
   "metadata": {},
   "source": [
    "# Don't show images during simulation\n",
    "\n",
    "No plots should be produced, but the video should still be there."
   ]
  },
  {
   "cell_type": "code",
   "execution_count": null,
   "metadata": {},
   "outputs": [],
   "source": [
    "grid = pde.UnitGrid([32])\n",
    "field = pde.ScalarField.random_uniform(grid)\n",
    "field.plot(title='Hidden display', action='close');"
   ]
  },
  {
   "cell_type": "code",
   "execution_count": null,
   "metadata": {},
   "outputs": [],
   "source": [
    "eq = pde.DiffusionPDE()\n",
    "movie_file = tempfile.NamedTemporaryFile(delete=False, suffix='.mov').name\n",
    "plot_tracker = pde.PlotTracker(.1, title='Hidden – {time:.2g}', show=False, movie_file=movie_file)\n",
    "_, info = eq.solve(field, t_range=2, dt=0.1, backend='numpy', ret_info=True,\n",
    "                   tracker=['progress', plot_tracker]);"
   ]
  },
  {
   "cell_type": "code",
   "execution_count": null,
   "metadata": {},
   "outputs": [],
   "source": [
    "print(f\"Plotting took {info['profiler']['tracker']:.3g} seconds\")"
   ]
  },
  {
   "cell_type": "code",
   "execution_count": null,
   "metadata": {},
   "outputs": [],
   "source": [
    "assert Path(movie_file).stat().st_size > 0\n",
    "print('All done')"
   ]
  },
  {
   "cell_type": "markdown",
   "metadata": {},
   "source": [
    "# 2D collection with colorbar\n",
    "A plot collection with colorbars should be shown when calling the `plot` method and an animation should be displayed during the simulation. Simultaneously, a video should be created."
   ]
  },
  {
   "cell_type": "code",
   "execution_count": null,
   "metadata": {},
   "outputs": [],
   "source": [
    "grid = pde.UnitGrid([32, 32])\n",
    "f1 = pde.ScalarField.random_uniform(grid)\n",
    "f2 = pde.ScalarField.random_uniform(grid)\n",
    "fc = pde.FieldCollection([f1, f2])\n",
    "fc.plot(title='Simple collection', colorbar=True);"
   ]
  },
  {
   "cell_type": "code",
   "execution_count": null,
   "metadata": {},
   "outputs": [],
   "source": [
    "eq = pde.PDE({'a': 'laplace(a)', 'b': 'laplace(b)'})\n",
    "movie_file = tempfile.NamedTemporaryFile(delete=False, suffix='.mov').name\n",
    "plot_tracker = pde.PlotTracker(.5, title='Visible Plot Collection – {time:.2g}', show=True, movie_file=movie_file,\n",
    "                               plot_args={'colorbar': True})\n",
    "_, info = eq.solve(fc, t_range=2, dt=0.1, backend='numpy', ret_info=True,\n",
    "                   tracker=['progress', plot_tracker]);"
   ]
  },
  {
   "cell_type": "code",
   "execution_count": null,
   "metadata": {},
   "outputs": [],
   "source": [
    "print(f\"Plotting took {info['profiler']['tracker']:.3g} seconds\")"
   ]
  },
  {
   "cell_type": "code",
   "execution_count": null,
   "metadata": {
    "run_control": {
     "marked": false
    }
   },
   "outputs": [],
   "source": [
    "assert Path(movie_file).stat().st_size > 0"
   ]
  },
  {
   "cell_type": "code",
   "execution_count": null,
   "metadata": {},
   "outputs": [],
   "source": []
  }
 ],
 "metadata": {
  "kernelspec": {
   "display_name": "Python 3",
   "language": "python",
   "name": "python3"
  },
  "language_info": {
   "codemirror_mode": {
    "name": "ipython",
    "version": 3
   },
   "file_extension": ".py",
   "mimetype": "text/x-python",
   "name": "python",
   "nbconvert_exporter": "python",
   "pygments_lexer": "ipython3",
   "version": "3.7.7"
  },
  "toc": {
   "base_numbering": 1,
   "nav_menu": {},
   "number_sections": true,
   "sideBar": true,
   "skip_h1_title": false,
   "title_cell": "Table of Contents",
   "title_sidebar": "Contents",
   "toc_cell": false,
   "toc_position": {},
   "toc_section_display": true,
   "toc_window_display": false
  }
 },
 "nbformat": 4,
 "nbformat_minor": 4
}
