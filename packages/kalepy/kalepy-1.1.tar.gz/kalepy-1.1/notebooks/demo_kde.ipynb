{
 "cells": [
  {
   "cell_type": "code",
   "execution_count": null,
   "metadata": {},
   "outputs": [],
   "source": [
    "%reload_ext autoreload\n",
    "%autoreload 2\n",
    "from importlib import reload\n",
    "\n",
    "import matplotlib.pyplot as plt\n",
    "import matplotlib as mpl\n",
    "\n",
    "mpl.rc('font', **{'family': 'serif', 'sans-serif': ['Times'], 'size': 12})\n",
    "mpl.rc('lines', solid_capstyle='round')\n",
    "mpl.rc('mathtext', fontset='cm')\n",
    "mpl.rc('figure', figsize=[8, 4])\n",
    "plt.rc('axes', grid=True)\n",
    "plt.rcParams.update({'grid.alpha': 0.25})\n",
    "\n",
    "# import warnings\n",
    "# warnings.simplefilter(\"error\")"
   ]
  },
  {
   "cell_type": "code",
   "execution_count": null,
   "metadata": {
    "init_cell": true
   },
   "outputs": [
    {
     "data": {
      "text/plain": [
       "<module 'kalepy' from '/Users/lzkelley/Programs/kalepy/kalepy/__init__.py'>"
      ]
     },
     "execution_count": null,
     "metadata": {},
     "output_type": "execute_result"
    }
   ],
   "source": [
    "import kalepy as kale\n",
    "\n",
    "reload(kale.kde)\n",
    "reload(kale.kernels)\n",
    "reload(kale.utils)\n",
    "reload(kale.plot)\n",
    "reload(kale)"
   ]
  },
  {
   "cell_type": "markdown",
   "metadata": {},
   "source": [
    "# demo_kde"
   ]
  },
  {
   "cell_type": "markdown",
   "metadata": {},
   "source": [
    "# Basic Usage"
   ]
  },
  {
   "cell_type": "code",
   "execution_count": null,
   "metadata": {},
   "outputs": [],
   "source": [
    "import numpy as np\n",
    "import matplotlib.pyplot as plt\n",
    "import matplotlib as mpl\n",
    "\n",
    "import kalepy as kale\n",
    "\n",
    "from kalepy.plot import nbshow"
   ]
  },
  {
   "cell_type": "markdown",
   "metadata": {},
   "source": [
    "Generate some random data, and its corresponding distribution function"
   ]
  },
  {
   "cell_type": "code",
   "execution_count": null,
   "metadata": {},
   "outputs": [],
   "source": [
    "NUM = int(1e4)\n",
    "np.random.seed(12345)\n",
    "# Combine data from two different PDFs\n",
    "_d1 = np.random.normal(4.0, 1.0, NUM)\n",
    "_d2 = np.random.lognormal(0, 0.5, size=NUM)\n",
    "data = np.concatenate([_d1, _d2])\n",
    "\n",
    "# Calculate the \"true\" distribution\n",
    "xx = np.linspace(0.0, 7.0, 100)[1:]\n",
    "yy = 0.5*np.exp(-(xx - 4.0)**2/2) / np.sqrt(2*np.pi)\n",
    "yy += 0.5 * np.exp(-np.log(xx)**2/(2*0.5**2)) / (0.5*xx*np.sqrt(2*np.pi))"
   ]
  },
  {
   "cell_type": "markdown",
   "metadata": {},
   "source": [
    "### Plotting Smooth Distributions"
   ]
  },
  {
   "cell_type": "code",
   "execution_count": null,
   "metadata": {},
   "outputs": [],
   "source": [
    "# Reconstruct the probability-density based on the given data points.\n",
    "points, density = kale.density(data, probability=True)\n",
    "\n",
    "# Plot the PDF\n",
    "plt.plot(points, density, 'k-', lw=2.0, alpha=0.8, label='KDE')\n",
    "\n",
    "# Plot the \"true\" PDF\n",
    "plt.plot(xx, yy, 'r--', alpha=0.4, lw=3.0, label='truth')\n",
    "\n",
    "# Plot the standard, histogram density estimate\n",
    "plt.hist(data, density=True, histtype='step', lw=2.0, alpha=0.5, label='hist')\n",
    "\n",
    "plt.legend()\n",
    "nbshow()"
   ]
  },
  {
   "cell_type": "markdown",
   "metadata": {},
   "source": [
    "### resampling: constructing statistically similar values"
   ]
  },
  {
   "cell_type": "markdown",
   "metadata": {},
   "source": [
    "Draw a new sample of data-points from the KDE PDF"
   ]
  },
  {
   "cell_type": "code",
   "execution_count": null,
   "metadata": {},
   "outputs": [],
   "source": [
    "# Draw new samples from the KDE reconstructed PDF\n",
    "samples = kale.resample(data)\n",
    "\n",
    "# Plot new samples\n",
    "plt.hist(samples, density=True, label='new samples', alpha=0.5, color='0.65', edgecolor='b')\n",
    "# Plot the old samples\n",
    "plt.hist(data, density=True, histtype='step', lw=2.0, alpha=0.5, color='r', label='input data')\n",
    "\n",
    "# Plot the KDE reconstructed PDF\n",
    "plt.plot(points, density, 'k-', lw=2.0, alpha=0.8, label='KDE')\n",
    "\n",
    "plt.legend()\n",
    "nbshow()"
   ]
  },
  {
   "cell_type": "markdown",
   "metadata": {},
   "source": [
    "### Multivariate Distributions"
   ]
  },
  {
   "cell_type": "code",
   "execution_count": null,
   "metadata": {},
   "outputs": [],
   "source": [
    "# Load some random-ish three-dimensional data\n",
    "data = kale.utils._random_data_3d_02()\n",
    "\n",
    "# Construct a KDE\n",
    "kde = kale.KDE(data)\n",
    "\n",
    "# Plot the data and distributions using the builtin `kalepy.corner` plot\n",
    "kale.corner(kde)\n",
    "\n",
    "nbshow()"
   ]
  },
  {
   "cell_type": "code",
   "execution_count": null,
   "metadata": {},
   "outputs": [],
   "source": [
    "# Resample the data (default output is the same size as the input data)\n",
    "samples = kde.resample()\n",
    "\n",
    "\n",
    "# ---- Plot the input data compared to the resampled data ----\n",
    "\n",
    "fig, axes = plt.subplots(figsize=[16, 4], ncols=kde.ndim)\n",
    "\n",
    "for ii, ax in enumerate(axes):\n",
    "    # Calculate and plot PDF for `ii`th parameter (i.e. data dimension `ii`)\n",
    "    xx, yy = kde.density(params=ii, probability=True)\n",
    "    ax.plot(xx, yy, 'k--', label='KDE', lw=2.0, alpha=0.5)\n",
    "    # Draw histograms of original and newly resampled datasets\n",
    "    *_, h1 = ax.hist(data[ii], histtype='step', density=True, lw=2.0, label='input')\n",
    "    *_, h2 = ax.hist(samples[ii], histtype='step', density=True, lw=2.0, label='resample')\n",
    "    # Add 'kalepy.carpet' plots showing the data points themselves\n",
    "    kale.carpet(data[ii], ax=ax, color=h1[0].get_facecolor())\n",
    "    kale.carpet(samples[ii], ax=ax, color=h2[0].get_facecolor(), shift=ax.get_ylim()[0])\n",
    "\n",
    "axes[0].legend()\n",
    "nbshow()"
   ]
  },
  {
   "cell_type": "markdown",
   "metadata": {},
   "source": [
    "# Fancy Usage"
   ]
  },
  {
   "cell_type": "markdown",
   "metadata": {},
   "source": [
    "### Reflecting Boundaries"
   ]
  },
  {
   "cell_type": "markdown",
   "metadata": {},
   "source": [
    "What if the distributions you're trying to capture have edges in them, like in a uniform distribution between two bounds?  Here, the KDE chooses 'reflection' locations based on the extrema of the given data."
   ]
  },
  {
   "cell_type": "code",
   "execution_count": null,
   "metadata": {},
   "outputs": [],
   "source": [
    "# Uniform data (edges at -1 and +1)\n",
    "NDATA = 1e3\n",
    "np.random.seed(54321)\n",
    "data = np.random.uniform(-1.0, 1.0, int(NDATA))\n",
    "\n",
    "# Create a 'carpet' plot of the data\n",
    "kale.carpet(data, label='data')\n",
    "# Histogram the data\n",
    "plt.hist(data, density=True, alpha=0.5, label='hist', color='0.65', edgecolor='k')\n",
    "\n",
    "# ---- Standard KDE will undershoot just-inside the edges and overshoot outside edges\n",
    "points, pdf_basic = kale.density(data, probability=True)\n",
    "plt.plot(points, pdf_basic, 'r--', lw=3.0, alpha=0.5, label='KDE')\n",
    "\n",
    "# ---- Reflecting KDE keeps probability within the given bounds\n",
    "# setting `reflect=True` lets the KDE guess the edge locations based on the data extrema\n",
    "points, pdf_reflect = kale.density(data, reflect=True, probability=True)\n",
    "plt.plot(points, pdf_reflect, 'b-', lw=2.0, alpha=0.75, label='reflecting KDE')\n",
    "\n",
    "plt.legend()\n",
    "nbshow()"
   ]
  },
  {
   "cell_type": "markdown",
   "metadata": {},
   "source": [
    "Explicit reflection locations can also be provided (in any number of dimensions)."
   ]
  },
  {
   "cell_type": "code",
   "execution_count": null,
   "metadata": {},
   "outputs": [],
   "source": [
    "# Construct random data, add an artificial 'edge'\n",
    "np.random.seed(5142)\n",
    "edge = 1.0\n",
    "data = np.random.lognormal(sigma=0.5, size=int(3e3))\n",
    "data = data[data >= edge]\n",
    "\n",
    "# Histogram the data, use fixed bin-positions\n",
    "edges = np.linspace(edge, 4, 20)\n",
    "plt.hist(data, bins=edges, density=True, alpha=0.5, label='data', color='0.65', edgecolor='k')\n",
    "\n",
    "# Standard KDE with over & under estimates\n",
    "points, pdf_basic = kale.density(data, probability=True)\n",
    "plt.plot(points, pdf_basic, 'r--', lw=4.0, alpha=0.5, label='Basic KDE')\n",
    "\n",
    "# Reflecting KDE setting the lower-boundary to the known value\n",
    "#    There is no upper-boundary when `None` is given.\n",
    "points, pdf_basic = kale.density(data, reflect=[edge, None], probability=True)\n",
    "plt.plot(points, pdf_basic, 'b-', lw=3.0, alpha=0.5, label='Reflecting KDE')\n",
    "\n",
    "plt.gca().set_xlim(edge - 0.5, 3)\n",
    "plt.legend()\n",
    "nbshow()"
   ]
  },
  {
   "cell_type": "markdown",
   "metadata": {},
   "source": [
    "### Multivariate Reflection"
   ]
  },
  {
   "cell_type": "code",
   "execution_count": null,
   "metadata": {},
   "outputs": [],
   "source": [
    "# Load a predefined dataset that has boundaries at:\n",
    "#   x: 0.0 on the low-end\n",
    "#   y: 1.0 on the high-end\n",
    "data = kale.utils._random_data_2d_03()\n",
    "\n",
    "# Construct a KDE with the given reflection boundaries given explicitly\n",
    "kde = kale.KDE(data, reflect=[[0, None], [None, 1]])\n",
    "\n",
    "# Plot using default settings\n",
    "kale.corner(kde)\n",
    "\n",
    "nbshow()"
   ]
  },
  {
   "cell_type": "markdown",
   "metadata": {},
   "source": [
    "### Specifying Bandwidths and Kernel Functions"
   ]
  },
  {
   "cell_type": "code",
   "execution_count": null,
   "metadata": {},
   "outputs": [],
   "source": [
    "# Load predefined 'random' data\n",
    "data = kale.utils._random_data_1d_02(num=100)\n",
    "# Choose a uniform x-spacing for drawing PDFs\n",
    "xx = np.linspace(-2, 8, 1000)\n",
    "\n",
    "# ------ Choose the kernel-functions and bandwidths to test -------  #\n",
    "kernels = ['parabola', 'gaussian', 'box']                            #\n",
    "bandwidths = [None, 0.9, 0.15]     # `None` means let kalepy choose  #\n",
    "# -----------------------------------------------------------------  #\n",
    "\n",
    "ylabels = ['Automatic', 'Course', 'Fine']\n",
    "fig, axes = plt.subplots(figsize=[16, 10], ncols=len(kernels), nrows=len(bandwidths), sharex=True, sharey=True)\n",
    "plt.subplots_adjust(hspace=0.2, wspace=0.05)\n",
    "for (ii, jj), ax in np.ndenumerate(axes):\n",
    "    \n",
    "    # ---- Construct KDE using particular kernel-function and bandwidth ---- #\n",
    "    kern = kernels[jj]                                                       # \n",
    "    bw = bandwidths[ii]                                                      #\n",
    "    kde = kale.KDE(data, kernel=kern, bandwidth=bw)                          #\n",
    "    # ---------------------------------------------------------------------- #\n",
    "    \n",
    "    # If bandwidth was set to `None`, then the KDE will choose the 'optimal' value\n",
    "    if bw is None:\n",
    "        bw = kde.bandwidth[0, 0]\n",
    "        \n",
    "    ax.set_title('{} (bw={:.3f})'.format(kern, bw))\n",
    "    if jj == 0:\n",
    "        ax.set_ylabel(ylabels[ii])\n",
    "\n",
    "    # plot the KDE\n",
    "    ax.plot(*kde.pdf(points=xx), color='r')\n",
    "    # plot histogram of the data (same for all panels)\n",
    "    ax.hist(data, bins='auto', color='b', alpha=0.2, density=True)\n",
    "    # plot  carpet   of the data (same for all panels)\n",
    "    kale.carpet(data, ax=ax, color='b')\n",
    "    \n",
    "ax.set(xlim=[-2, 5], ylim=[-0.2, 0.6])\n",
    "nbshow()"
   ]
  },
  {
   "cell_type": "markdown",
   "metadata": {},
   "source": [
    "## Resampling"
   ]
  },
  {
   "cell_type": "markdown",
   "metadata": {},
   "source": [
    "### Using different data `weights`"
   ]
  },
  {
   "cell_type": "code",
   "execution_count": null,
   "metadata": {},
   "outputs": [],
   "source": [
    "# Load some random data (and the 'true' PDF, for comparison)\n",
    "data, truth = kale.utils._random_data_1d_01()\n",
    "\n",
    "# ---- Resample the same data, using different weightings ---- #\n",
    "resamp_uni = kale.resample(data, size=1000)                       # \n",
    "resamp_sqr  = kale.resample(data, weights=data**2, size=1000)      #\n",
    "resamp_inv = kale.resample(data, weights=data**-1, size=1000)     #\n",
    "# ------------------------------------------------------------ # \n",
    "\n",
    "\n",
    "# ---- Plot different distributions ----\n",
    "\n",
    "# Setup plotting parameters\n",
    "kw = dict(density=True, histtype='step', lw=2.0, alpha=0.75, bins='auto')\n",
    "\n",
    "xx, yy = truth\n",
    "samples = [resamp_inv, resamp_uni, resamp_sqr]\n",
    "yvals = [yy/xx, yy, yy*xx**2/10]\n",
    "labels = [r'$\\propto X^{-1}$', r'$\\propto 1$', r'$\\propto X^2$']\n",
    "\n",
    "plt.figure(figsize=[10, 5])\n",
    "\n",
    "for ii, (res, yy, lab) in enumerate(zip(samples, yvals, labels)):\n",
    "    hh, = plt.plot(xx, yy, ls='--', alpha=0.5, lw=2.0)\n",
    "    col = hh.get_color()\n",
    "    kale.carpet(res, color=col, shift=-0.1*ii)\n",
    "    plt.hist(res, color=col, label=lab, **kw)\n",
    "\n",
    "plt.gca().set(xlim=[-0.5, 6.5])\n",
    "# Add legend\n",
    "plt.legend()\n",
    "# display the figure if this is a notebook\n",
    "nbshow()"
   ]
  },
  {
   "cell_type": "markdown",
   "metadata": {},
   "source": [
    "### Resampling while 'keeping' certain parameters/dimensions"
   ]
  },
  {
   "cell_type": "code",
   "execution_count": null,
   "metadata": {},
   "outputs": [],
   "source": [
    "# Construct covariant 2D dataset where the 0th parameter takes on discrete values\n",
    "xx = np.random.randint(2, 7, 1000)\n",
    "yy = np.random.normal(4, 2, xx.size) + xx**(3/2)\n",
    "data = [xx, yy]\n",
    "\n",
    "# 2D plotting settings: disable the 2D histogram & disable masking of dense scatter-points\n",
    "dist2d = dict(hist=False, mask_dense=False)\n",
    "\n",
    "# Draw a corner plot \n",
    "kale.corner(data, dist2d=dist2d)\n",
    "\n",
    "nbshow()"
   ]
  },
  {
   "cell_type": "markdown",
   "metadata": {},
   "source": [
    "A standard KDE resampling will smooth out the discrete variables, creating a smooth(er) distribution.  Using the `keep` parameter, we can choose to resample from the actual data values of that parameter instead of resampling with 'smoothing' based on the KDE."
   ]
  },
  {
   "cell_type": "code",
   "execution_count": null,
   "metadata": {},
   "outputs": [],
   "source": [
    "kde = kale.KDE(data)\n",
    "\n",
    "# ---- Resample the data both normally, and 'keep'ing the 0th parameter values ---- #\n",
    "resamp_stnd = kde.resample()                                                        #\n",
    "resamp_keep = kde.resample(keep=0)                                                  #\n",
    "# --------------------------------------------------------------------------------- #\n",
    "\n",
    "corner = kale.Corner(2)\n",
    "dist2d['median'] = False    # disable median 'cross-hairs'\n",
    "h1 = corner.plot(resamp_stnd, dist2d=dist2d)\n",
    "h2 = corner.plot(resamp_keep, dist2d=dist2d)\n",
    "\n",
    "corner.legend([h1, h2], ['Standard', \"'keep'\"])\n",
    "nbshow()"
   ]
  }
 ],
 "metadata": {
  "celltoolbar": "Initialization Cell",
  "kernelspec": {
   "display_name": "py38",
   "language": "python",
   "name": "py38"
  },
  "language_info": {
   "codemirror_mode": {
    "name": "ipython",
    "version": 3
   },
   "file_extension": ".py",
   "mimetype": "text/x-python",
   "name": "python",
   "nbconvert_exporter": "python",
   "pygments_lexer": "ipython3",
   "version": "3.8.5"
  },
  "toc": {
   "base_numbering": 1,
   "nav_menu": {},
   "number_sections": true,
   "sideBar": true,
   "skip_h1_title": false,
   "title_cell": "Table of Contents",
   "title_sidebar": "Contents",
   "toc_cell": false,
   "toc_position": {
    "height": "calc(100% - 180px)",
    "left": "10px",
    "top": "150px",
    "width": "165px"
   },
   "toc_section_display": true,
   "toc_window_display": true
  },
  "varInspector": {
   "cols": {
    "lenName": 16,
    "lenType": 16,
    "lenVar": 40
   },
   "kernels_config": {
    "python": {
     "delete_cmd_postfix": "",
     "delete_cmd_prefix": "del ",
     "library": "var_list.py",
     "varRefreshCmd": "print(var_dic_list())"
    },
    "r": {
     "delete_cmd_postfix": ") ",
     "delete_cmd_prefix": "rm(",
     "library": "var_list.r",
     "varRefreshCmd": "cat(var_dic_list()) "
    }
   },
   "types_to_exclude": [
    "module",
    "function",
    "builtin_function_or_method",
    "instance",
    "_Feature"
   ],
   "window_display": false
  }
 },
 "nbformat": 4,
 "nbformat_minor": 2
}
