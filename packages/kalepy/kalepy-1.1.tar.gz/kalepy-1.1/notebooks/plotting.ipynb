{
 "cells": [
  {
   "cell_type": "markdown",
   "metadata": {},
   "source": [
    "# Initialization"
   ]
  },
  {
   "cell_type": "code",
   "execution_count": null,
   "metadata": {},
   "outputs": [],
   "source": [
    "# %load init.ipy\n",
    "%reload_ext autoreload\n",
    "%autoreload 2\n",
    "\n",
    "# %load init.ipy\n",
    "import os, sys, logging, datetime, warnings, shutil\n",
    "from importlib import reload\n",
    "\n",
    "import numpy as np\n",
    "import scipy as sp\n",
    "import scipy.stats\n",
    "import matplotlib as mpl\n",
    "import matplotlib.pyplot as plt\n",
    "from nose import tools\n",
    "\n",
    "import kalepy as kale\n",
    "import kalepy.utils\n",
    "import kalepy.plot\n",
    "# The `nbshow` command runs `plt.show()` in interactive jupyter notebooks, but closes\n",
    "#   figures when run from the command-line (notebooks are converted to scripts and run as tests)\n",
    "from kalepy.plot import nbshow\n",
    "\n",
    "import warnings\n",
    "# warnings.simplefilter(\"error\")   # WARNING: this is breaking jupyter at the moment (2021-02-14)"
   ]
  },
  {
   "cell_type": "markdown",
   "metadata": {},
   "source": [
    "# 1D Plotting Methods"
   ]
  },
  {
   "cell_type": "markdown",
   "metadata": {},
   "source": [
    "## `carpet`"
   ]
  },
  {
   "cell_type": "code",
   "execution_count": null,
   "metadata": {},
   "outputs": [],
   "source": [
    "data, _ = kale.utils._random_data_1d_01()\n",
    "stdev = [None, 0.01, 0.03, 0.03, None, 0.1]\n",
    "yaves = [None, None, None, -0.2, -0.2, -0.2]\n",
    "\n",
    "fig, axes = plt.subplots(figsize=[15, 6], ncols=len(stdev), nrows=2)\n",
    "for ii, (ave, std, axrow) in enumerate(zip(yaves, stdev, axes.T)):\n",
    "    axrow[0].set_title(\"a={}, s={}\".format(ave, std), fontsize=10)\n",
    "    for ax, fancy in zip(axrow, [False, True]):\n",
    "        if ii == 0:\n",
    "            ax.set_ylabel(\"fancy = {}\".format(fancy))\n",
    "        ax.hist(data, density=True)\n",
    "        kale.carpet(data, fancy=fancy, ax=ax, ystd=std, yave=ave)\n",
    "\n",
    "nbshow()"
   ]
  },
  {
   "cell_type": "markdown",
   "metadata": {},
   "source": [
    "## `hist1d`"
   ]
  },
  {
   "cell_type": "code",
   "execution_count": null,
   "metadata": {},
   "outputs": [],
   "source": [
    "data, _ = kale.utils._random_data_1d_01()\n",
    "joints = [True, False, True, False]\n",
    "positive = [True, True, False, False]\n",
    "renormalize = [False, True, False, 0.5]\n",
    "bins = [None, np.linspace(-1, 10, 20), 'auto', np.linspace(-1, 10, 30)]\n",
    "\n",
    "fig, axes = plt.subplots(figsize=[15, 3], ncols=len(joints))\n",
    "for ax, join, pos, norm, ee in zip(axes, joints, positive, renormalize, bins):\n",
    "    ax.set_title(\"j={}, p={}, n={}\".format(join, pos, norm), fontsize=10)\n",
    "    _, edges, _ = ax.hist(data, bins=ee, density=True, histtype='step', alpha=0.5, lw=4.0, ls='--')\n",
    "    if ee is None:\n",
    "        ee = edges\n",
    "    kale.hist1d(data, edges=ee, ax=ax, density=True, probability=True, lw=2.0, alpha=0.8,\n",
    "                joints=join, positive=pos, renormalize=norm)\n",
    "\n",
    "nbshow()"
   ]
  },
  {
   "cell_type": "markdown",
   "metadata": {},
   "source": [
    "## 1D - Data Only"
   ]
  },
  {
   "cell_type": "code",
   "execution_count": null,
   "metadata": {},
   "outputs": [],
   "source": [
    "# Generate randomish data\n",
    "data, _ = kale.utils._random_data_1d_01()\n",
    "color = 'b'\n",
    "# Plot 1D Histogram\n",
    "kale.plot.hist1d(data, color=color, density=True)\n",
    "# Add \"carpet\" plot (1D scatter) \n",
    "kale.plot.carpet(data, color=color)\n",
    "# Add median and confidence intervals\n",
    "kale.plot.confidence(data, quantiles=[0.5, 0.9], color=color)\n",
    "\n",
    "nbshow()"
   ]
  },
  {
   "cell_type": "markdown",
   "metadata": {},
   "source": [
    "Overplot two distributions using the same bin-sizes"
   ]
  },
  {
   "cell_type": "code",
   "execution_count": null,
   "metadata": {},
   "outputs": [],
   "source": [
    "# Generate randomish data\n",
    "data1, _ = kale.utils._random_data_1d_01()\n",
    "data2 = np.random.lognormal(0.5, 0.3, size=data1.size//3)\n",
    "\n",
    "kw = dict(\n",
    "    probability=True,    # normalize so that the sum of all bins is unity\n",
    ")\n",
    "\n",
    "# Plot first dataset in blue and store bin-edges\n",
    "_, edges, _ = kale.plot.hist1d(data1, color='b', **kw)\n",
    "# Add carpet plot\n",
    "kale.plot.carpet(data1, color='b')\n",
    "\n",
    "# Plot second dataset in red using previous bin-edges\n",
    "kale.plot.hist1d(data2, edges=edges, color='r', **kw)\n",
    "# Add carpet plot, and shift it downwards\n",
    "kale.plot.carpet(data2, color='r', shift=-0.02)\n",
    "\n",
    "nbshow()"
   ]
  },
  {
   "cell_type": "markdown",
   "metadata": {},
   "source": [
    "## 1D - KDE "
   ]
  },
  {
   "cell_type": "code",
   "execution_count": null,
   "metadata": {},
   "outputs": [],
   "source": [
    "# Generate randomish data\n",
    "data, _ = kale.utils._random_data_1d_01()\n",
    "# Calculate the KDE density distribution\n",
    "edges, pdf = kale.density(data, probability=True)\n",
    "# Simple line plot\n",
    "plt.plot(edges, pdf);\n",
    "\n",
    "nbshow()"
   ]
  },
  {
   "cell_type": "markdown",
   "metadata": {},
   "source": [
    "Using the kalepy `dist1d` plotting function:"
   ]
  },
  {
   "cell_type": "code",
   "execution_count": null,
   "metadata": {},
   "outputs": [],
   "source": [
    "# Generate randomish data\n",
    "data, _ = kale.utils._random_data_1d_01()\n",
    "# Plot the KDE and the data (using histogram and carpet plots)\n",
    "fig, ax = plt.subplots(figsize=[12, 4])\n",
    "kale.plot.dist1d(data, ax=ax, hist=True, carpet=True, confidence=False)\n",
    "\n",
    "nbshow()"
   ]
  },
  {
   "cell_type": "markdown",
   "metadata": {},
   "source": [
    "# 2D Distributions"
   ]
  },
  {
   "cell_type": "markdown",
   "metadata": {},
   "source": [
    "2D - Data Only"
   ]
  },
  {
   "cell_type": "code",
   "execution_count": null,
   "metadata": {},
   "outputs": [],
   "source": [
    "# Generate randomish data\n",
    "data = kale.utils._random_data_2d_01(num=1e4)\n",
    "\n",
    "# Standard 2D Histogram, mask empty bins\n",
    "kale.hist2d(data, cmap='Reds', mask_below=True);\n",
    "# Contours\n",
    "kale.contour(data, cmap='Reds_r');\n",
    "\n",
    "nbshow()"
   ]
  },
  {
   "cell_type": "markdown",
   "metadata": {},
   "source": [
    "Vary contour smoothing and upsampling"
   ]
  },
  {
   "cell_type": "code",
   "execution_count": null,
   "metadata": {},
   "outputs": [],
   "source": [
    "# Generate randomish data\n",
    "data = kale.utils._random_data_2d_01(num=1e4)\n",
    "\n",
    "fig, axes = plt.subplots(figsize=[14, 4], ncols=3)\n",
    "upsample = [None, 4, None]\n",
    "smooth = [None, None, 1.0]\n",
    "\n",
    "for ax, up, sm in zip(axes, upsample, smooth):\n",
    "    title = f\"smooth={sm}, upsample={up}\"\n",
    "    ax.set_title(title)\n",
    "    # Standard 2D Histogram, mask empty bins\n",
    "    kale.plot.hist2d(data, ax=ax, cmap='Reds', mask_below=True);\n",
    "    # Contours\n",
    "    kale.plot.contour(data, ax=ax, cmap='Reds_r', upsample=up, smooth=sm);\n",
    "    \n",
    "nbshow()"
   ]
  },
  {
   "cell_type": "markdown",
   "metadata": {},
   "source": [
    "## 2D - with KDE"
   ]
  },
  {
   "cell_type": "markdown",
   "metadata": {},
   "source": [
    "just a KDE using matplotlib contours"
   ]
  },
  {
   "cell_type": "code",
   "execution_count": null,
   "metadata": {},
   "outputs": [],
   "source": [
    "# Generate random-ish data\n",
    "data = kale.utils._random_data_2d_01(num=1e3)\n",
    "\n",
    "# Calculate PDF from KDE\n",
    "points, pdf = kale.density(data)\n",
    "\n",
    "# Simple contour plot\n",
    "plt.contour(*points, pdf.T);\n",
    "\n",
    "nbshow()"
   ]
  },
  {
   "cell_type": "markdown",
   "metadata": {},
   "source": [
    "Using the kalepy `dist2d` plotting function"
   ]
  },
  {
   "cell_type": "code",
   "execution_count": null,
   "metadata": {},
   "outputs": [],
   "source": [
    "# Generate random-ish data\n",
    "data = kale.utils._random_data_2d_01(num=1e3)\n",
    "# Plot data as scatter and histogram, and KDE as contours\n",
    "kale.plot.dist2d(data);\n",
    "\n",
    "nbshow()"
   ]
  },
  {
   "cell_type": "markdown",
   "metadata": {},
   "source": [
    "Compare KDE contours with data contours"
   ]
  },
  {
   "cell_type": "code",
   "execution_count": null,
   "metadata": {},
   "outputs": [],
   "source": [
    "# Generate random-ish data\n",
    "data = kale.utils._random_data_2d_01(num=1e3)\n",
    "# Plot data as scatter and histogram, and KDE as contours\n",
    "kale.plot.dist2d(data, hist=False);\n",
    "# Compare against contours from data\n",
    "kale.plot.contour(data, cmap='Reds', ls='--', lw=2.0, alpha=0.5);\n",
    "# Zoom in a little\n",
    "plt.gca().set(xlim=[-5, 5], ylim=[-1, 1]);\n",
    "\n",
    "nbshow()"
   ]
  },
  {
   "cell_type": "markdown",
   "metadata": {},
   "source": [
    "Compare two different distributions"
   ]
  },
  {
   "cell_type": "code",
   "execution_count": null,
   "metadata": {},
   "outputs": [],
   "source": [
    "# Generate random-ish data\n",
    "data1 = kale.utils._random_data_2d_02(num=2e3)\n",
    "data2 = kale.utils._random_data_2d_03(num=2e3)\n",
    "\n",
    "# Plot data as scatter and KDE as contours\n",
    "# Data 1\n",
    "kale.dist2d(data1, hist=False, cmap='Reds');\n",
    "# Data 2\n",
    "kale.dist2d(data2, hist=False, cmap='Blues');\n",
    "\n",
    "nbshow()"
   ]
  },
  {
   "cell_type": "markdown",
   "metadata": {},
   "source": [
    "# Multidimensional Corner / Pair Plots"
   ]
  },
  {
   "cell_type": "markdown",
   "metadata": {},
   "source": [
    "## Corner - Data Only"
   ]
  },
  {
   "cell_type": "code",
   "execution_count": null,
   "metadata": {},
   "outputs": [],
   "source": [
    "# Generate randomish data\n",
    "data = kale.utils._random_data_3d_01()\n",
    "# Initialize a corner plot with the given data, set axes labels\n",
    "corner = kale.plot.Corner(data, labels=['a', 'b', 'c'], figsize=8)\n",
    "# Plot with default settings\n",
    "corner.plot_data()\n",
    "\n",
    "nbshow()"
   ]
  },
  {
   "cell_type": "code",
   "execution_count": null,
   "metadata": {},
   "outputs": [],
   "source": [
    "# Generate randomish data\n",
    "data = kale.utils._random_data_3d_01()\n",
    "# Initialize a corner plot with the given data, set axes labels\n",
    "corner = kale.plot.Corner(data, labels=['a', 'b', 'c'], figsize=8)\n",
    "# Plot and add 2D contours, and change color\n",
    "corner.plot_data(dist2d=dict(contour=True), color='purple')\n",
    "\n",
    "nbshow()"
   ]
  },
  {
   "cell_type": "code",
   "execution_count": null,
   "metadata": {},
   "outputs": [],
   "source": [
    "reload(kale.kde)\n",
    "reload(kale)\n",
    "\n",
    "# Generate randomish data\n",
    "data = kale.utils._random_data_3d_01()\n",
    "# Initialize a corner plot with the given data, set axes labels\n",
    "corner = kale.plot.Corner(data, labels=['a', 'b', 'c'], figsize=8)\n",
    "# Plot with only histograms\n",
    "corner.hist(color='firebrick')\n",
    "\n",
    "nbshow()"
   ]
  },
  {
   "cell_type": "markdown",
   "metadata": {},
   "source": [
    "# Corner - with KDE"
   ]
  },
  {
   "cell_type": "code",
   "execution_count": null,
   "metadata": {},
   "outputs": [],
   "source": [
    "data = kale.utils._random_data_3d_03()\n",
    "\n",
    "# Plot with default settings\n",
    "kale.corner(data, edges=4);\n",
    "\n",
    "nbshow()"
   ]
  },
  {
   "cell_type": "markdown",
   "metadata": {},
   "source": [
    "Overplot two different distributions"
   ]
  },
  {
   "cell_type": "code",
   "execution_count": null,
   "metadata": {},
   "outputs": [],
   "source": [
    "# Generate random-ish data\n",
    "data1 = kale.utils._random_data_3d_03(par=[0.0, 0.5], cov=0.05)\n",
    "data2 = kale.utils._random_data_3d_03(par=[1.0, 0.25], cov=0.5)\n",
    "\n",
    "corner = kale.Corner(3)\n",
    "\n",
    "corner.clean(data1);\n",
    "corner.clean(data2);\n",
    "\n",
    "nbshow()"
   ]
  },
  {
   "cell_type": "markdown",
   "metadata": {},
   "source": [
    "Overplot two distributions: compare with and without reflection"
   ]
  },
  {
   "cell_type": "code",
   "execution_count": null,
   "metadata": {},
   "outputs": [],
   "source": [
    "data = kale.utils._random_data_3d_03()\n",
    "\n",
    "# construct a `Corner` instance\n",
    "corner = kale.Corner(\n",
    "    3,                                         # set the number of dimensions/parameters\n",
    "    figsize=[11, 9],                           # manually set the figure size\n",
    "    limits=[[-0.5, 2], [-3, 3], [-0.1, 1.1]],  # manually set the axes limits for each parameter\n",
    ")\n",
    "\n",
    "# Construct a KDE with*out* reflection\n",
    "clear = kale.KDE(data)\n",
    "\n",
    "# Construct a KDE *with* reflection (one sides on the 0th and 2nd dimensions)\n",
    "reflect = kale.KDE(data, reflect=[[0, None], None, [None, 1]])\n",
    "quants = [0.1, 0.5, 0.9]\n",
    "# Use the `kalepy.plot.Corner.clean()` function for only PDF and contours\n",
    "corner.clean(clear, cmap='Reds', quantiles=quants);\n",
    "corner.clean(reflect, cmap='Blues', quantiles=quants);\n",
    "\n",
    "nbshow()"
   ]
  },
  {
   "cell_type": "markdown",
   "metadata": {},
   "source": [
    "# Other"
   ]
  },
  {
   "cell_type": "markdown",
   "metadata": {},
   "source": [
    "## Weighted Data"
   ]
  },
  {
   "cell_type": "code",
   "execution_count": null,
   "metadata": {},
   "outputs": [],
   "source": [
    "xx = np.random.normal(size=1000)\n",
    "yy = 100*np.fabs(xx)\n",
    "\n",
    "plt.figure(figsize=[10, 4])\n",
    "kde = kale.KDE(xx, weights=yy)\n",
    "edges, pdf = kde.pdf()\n",
    "_, ee, h1 = kale.hist1d(xx, ls='--', color='k', probability=True, density=True, lw=2.0)\n",
    "\n",
    "h2 = kale.plot.dist1d(kde, edges=edges, carpet=False)\n",
    "h3 = kale.plot.dist1d(xx, edges=ee, hist=True, weights=yy, color='r')\n",
    "\n",
    "plt.legend([h1, h2, h3], ['unweighted', 'KDE', 'weighted']);\n",
    "\n",
    "nbshow()"
   ]
  }
 ],
 "metadata": {
  "celltoolbar": "Initialization Cell",
  "kernelspec": {
   "display_name": "Python 3",
   "language": "python",
   "name": "python3"
  },
  "language_info": {
   "codemirror_mode": {
    "name": "ipython",
    "version": 3
   },
   "file_extension": ".py",
   "mimetype": "text/x-python",
   "name": "python",
   "nbconvert_exporter": "python",
   "pygments_lexer": "ipython3",
   "version": "3.8.5"
  },
  "toc": {
   "base_numbering": 1,
   "nav_menu": {},
   "number_sections": true,
   "sideBar": true,
   "skip_h1_title": false,
   "title_cell": "Table of Contents",
   "title_sidebar": "Contents",
   "toc_cell": false,
   "toc_position": {
    "height": "calc(100% - 180px)",
    "left": "10px",
    "top": "150px",
    "width": "165px"
   },
   "toc_section_display": true,
   "toc_window_display": true
  },
  "varInspector": {
   "cols": {
    "lenName": 16,
    "lenType": 16,
    "lenVar": 40
   },
   "kernels_config": {
    "python": {
     "delete_cmd_postfix": "",
     "delete_cmd_prefix": "del ",
     "library": "var_list.py",
     "varRefreshCmd": "print(var_dic_list())"
    },
    "r": {
     "delete_cmd_postfix": ") ",
     "delete_cmd_prefix": "rm(",
     "library": "var_list.r",
     "varRefreshCmd": "cat(var_dic_list()) "
    }
   },
   "types_to_exclude": [
    "module",
    "function",
    "builtin_function_or_method",
    "instance",
    "_Feature"
   ],
   "window_display": false
  }
 },
 "nbformat": 4,
 "nbformat_minor": 4
}
