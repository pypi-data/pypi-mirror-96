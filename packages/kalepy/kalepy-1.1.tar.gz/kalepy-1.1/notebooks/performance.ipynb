{
 "cells": [
  {
   "cell_type": "code",
   "execution_count": null,
   "id": "broken-opposition",
   "metadata": {},
   "outputs": [],
   "source": [
    "# %load ./init.ipy\n",
    "%reload_ext autoreload\n",
    "%autoreload 2\n",
    "\n",
    "# %load init.ipy\n",
    "import os, sys, logging, datetime, warnings, shutil\n",
    "from importlib import reload\n",
    "\n",
    "import numpy as np\n",
    "import scipy as sp\n",
    "import scipy.stats\n",
    "import matplotlib as mpl\n",
    "import matplotlib.pyplot as plt\n",
    "from nose import tools\n",
    "\n",
    "import kalepy as kale\n",
    "import kalepy.utils\n",
    "import kalepy.plot\n",
    "# The `nbshow` command runs `plt.show()` in interactive jupyter notebooks, but closes\n",
    "#   figures when run from the command-line (notebooks are converted to scripts and run as tests)\n",
    "from kalepy.plot import nbshow\n",
    "\n",
    "import warnings\n",
    "# warnings.simplefilter(\"error\")"
   ]
  },
  {
   "cell_type": "code",
   "execution_count": null,
   "id": "collective-toyota",
   "metadata": {},
   "outputs": [],
   "source": [
    "fname = \"/Users/lzkelley/Programs/kalepy/kalepy/tests/performance/pt-0.1/pt-0.1.npz\"\n",
    "data = np.load(fname)['data'][...]\n",
    "print(f\"Loaded {data.shape=}. {data.size=}\")"
   ]
  },
  {
   "cell_type": "code",
   "execution_count": null,
   "id": "federal-spain",
   "metadata": {},
   "outputs": [],
   "source": [
    "def test_performance(data, smaller=10, param=0):\n",
    "    if smaller is not None:\n",
    "        data = [dd[slice(None, None, smaller)] for dd in data]\n",
    "\n",
    "    if param is not None:\n",
    "        data = data[param]\n",
    "        \n",
    "    data = np.asarray(data)\n",
    "    kde = kale.KDE(data)\n",
    "    kde.density()\n",
    "    return\n",
    "\n",
    "# %timeit test_performance(data, smaller=10, param=0)"
   ]
  },
  {
   "cell_type": "code",
   "execution_count": null,
   "id": "regulated-pacific",
   "metadata": {},
   "outputs": [],
   "source": [
    "%timeit test_performance(data, smaller=10, param=0)"
   ]
  },
  {
   "cell_type": "code",
   "execution_count": null,
   "id": "finnish-tuesday",
   "metadata": {},
   "outputs": [],
   "source": [
    "%timeit test_performance(data, smaller=10, param=0)"
   ]
  },
  {
   "cell_type": "code",
   "execution_count": null,
   "id": "structured-civilian",
   "metadata": {},
   "outputs": [],
   "source": [
    "%timeit test_performance(data, smaller=10, param=0)"
   ]
  },
  {
   "cell_type": "code",
   "execution_count": null,
   "id": "functioning-circuit",
   "metadata": {},
   "outputs": [],
   "source": [
    "def test_performance(data, smaller=50):\n",
    "    if smaller is not None:\n",
    "        data = [dd[slice(None, None, smaller)] for dd in data]\n",
    "\n",
    "    data = np.asarray(data)\n",
    "    kde = kale.KDE(data)\n",
    "    corner = kale.Corner(data.shape[0])\n",
    "    corner.clean(kde)\n",
    "    \n",
    "    samp = kde.resample()\n",
    "    corner.plot_data(samp)\n",
    "    \n",
    "    nbshow()\n",
    "    return\n",
    "\n",
    "%time test_performance(data)"
   ]
  },
  {
   "cell_type": "code",
   "execution_count": null,
   "id": "recognized-shannon",
   "metadata": {},
   "outputs": [],
   "source": [
    "import kalepy.tests\n",
    "import kalepy.tests.test_kernels"
   ]
  },
  {
   "cell_type": "code",
   "execution_count": null,
   "id": "mysterious-soundtrack",
   "metadata": {},
   "outputs": [],
   "source": [
    "%time kale.tests.test_kernels.test_kernels_evaluate_nd()"
   ]
  },
  {
   "cell_type": "code",
   "execution_count": null,
   "id": "pressed-space",
   "metadata": {},
   "outputs": [],
   "source": [
    "import time\n",
    "\n",
    "\n",
    "def setup(num):\n",
    "    data = kale.utils._random_data_3d_03(num=num)\n",
    "    reflect = [[0, None], None, [None, 1]]\n",
    "    kde_clear = kale.KDE(data)\n",
    "    kde_reflect = kale.KDE(data, reflect=reflect)\n",
    "    xx = [kale.utils.minmax(xx, stretch=0.2) for xx in data]\n",
    "    xx = [np.linspace(*xx, 10) for xx in xx]\n",
    "    xx = kale.utils.meshgrid(*xx)\n",
    "    xx = [xx.flatten() for xx in xx]\n",
    "    xx = np.array(xx)\n",
    "    return xx, kde_clear, kde_reflect\n",
    "\n",
    "\n",
    "def _test_each(xx, kde):\n",
    "    times = []\n",
    "    t0 = time.time()\n",
    "\n",
    "    _, pdf = kde.density(xx)\n",
    "    t1 = time.time()\n",
    "\n",
    "    samp = kde.resample()\n",
    "    t2 = time.time()\n",
    "    \n",
    "    return [t1-t0, t2-t1]\n",
    "    \n",
    "\n",
    "def test(xx, clear, reflect, trials):\n",
    "    retval = []\n",
    "    for ii in range(trials):\n",
    "        rv1 = _test_each(xx, clear)\n",
    "        rv2 = _test_each(xx, reflect)\n",
    "        retval.append([rv1, rv2])\n",
    "\n",
    "    return np.array(retval)\n",
    "\n",
    "\n",
    "def run_test(xx, kdes, num, trials):\n",
    "    beg = time.time()\n",
    "    retval = test(xx, *kdes, trials)\n",
    "    print(f\"{num=:.1e}, {trials=} :: done after {time.time()-beg:.2e}s\")\n",
    "    retval = np.percentile(retval, [0, 50, 100], axis=0)\n",
    "    names = ['clear', 'reflect']\n",
    "    for ii, name in enumerate(names):\n",
    "        print(f\"{ii}: {name}\")\n",
    "        for jj, label in enumerate(['density', 'resample']):\n",
    "            msg = f\"\\t{jj}: {label:10s} \"\n",
    "            for kk, perc in enumerate(['best', 'med']):\n",
    "                val = retval[kk, ii, jj]\n",
    "                msg += f\"{perc:4s} = {val:.2e}   \"\n",
    "            print(msg)\n",
    "            \n",
    "    return"
   ]
  },
  {
   "cell_type": "code",
   "execution_count": null,
   "id": "polish-positive",
   "metadata": {},
   "outputs": [],
   "source": [
    "NUM = 1e4\n",
    "TRIALS = 10\n",
    "xx, *kdes = setup(NUM)"
   ]
  },
  {
   "cell_type": "code",
   "execution_count": null,
   "id": "later-bulletin",
   "metadata": {},
   "outputs": [],
   "source": [
    "def pdf(xx):\n",
    "    return (70.0/32.0) * np.power(1 - xx*xx, 3)\n",
    "\n",
    "def cdf(xx):\n",
    "    yy = (70/32) * (((-1.0/7.0) * (xx**7)) + ((3.0/5.0) * (xx**5)) - (xx**3) + xx)\n",
    "    return yy\n",
    "\n",
    "xx = np.linspace(0.0, 1.0, 1000)\n",
    "yy = cdf(xx)\n",
    "yy[-1] = 1.0\n",
    "pp = pdf(xx)\n",
    "\n",
    "inv = sp.interpolate.interp1d(yy, xx)\n",
    "\n",
    "plt.plot(xx, yy)\n",
    "plt.plot(xx, inv(yy))\n",
    "plt.plot(xx, pp)\n",
    "\n",
    "zz = np.random.uniform(0, 1, 10000)\n",
    "zz = inv(zz)\n",
    "\n",
    "\n",
    "plt.hist(zz, bins=30, rwidth=0.8, alpha=0.5, histtype='step', density=True)\n",
    "plt.hist(zz, bins=30, rwidth=0.8, alpha=0.5, histtype='step', density=True, cumulative=True)\n",
    "plt.show()"
   ]
  },
  {
   "cell_type": "code",
   "execution_count": null,
   "id": "earned-saturn",
   "metadata": {},
   "outputs": [],
   "source": [
    "reload(kalepy.kernels)\n",
    "reload(kalepy)\n",
    "# %load_ext line_profiler\n",
    "run_test(xx, kdes, NUM, 1)\n",
    "# from kalepy import KDE"
   ]
  },
  {
   "cell_type": "code",
   "execution_count": null,
   "id": "pleased-bedroom",
   "metadata": {},
   "outputs": [],
   "source": [
    "reload(kale.kernels)\n",
    "kale.kernels.Gaussian._sample(10, 3).shape"
   ]
  },
  {
   "cell_type": "code",
   "execution_count": null,
   "id": "governing-trader",
   "metadata": {},
   "outputs": [],
   "source": [
    "run_test(xx, kdes, NUM, TRIALS)"
   ]
  },
  {
   "cell_type": "code",
   "execution_count": null,
   "id": "specified-alcohol",
   "metadata": {},
   "outputs": [],
   "source": [
    "# %load_ext line_profiler\n",
    "run_test(xx, kdes, NUM, 5)\n",
    "# from kalepy import KDE"
   ]
  },
  {
   "cell_type": "code",
   "execution_count": null,
   "id": "drawn-botswana",
   "metadata": {},
   "outputs": [],
   "source": [
    "# %load_ext line_profiler\n",
    "run_test(xx, kdes, NUM, 5)\n",
    "# from kalepy import KDE"
   ]
  },
  {
   "cell_type": "code",
   "execution_count": null,
   "id": "english-progressive",
   "metadata": {},
   "outputs": [],
   "source": [
    "# %load_ext line_profiler\n",
    "run_test(xx, kdes, NUM, 5)\n",
    "# from kalepy import KDE"
   ]
  },
  {
   "cell_type": "code",
   "execution_count": null,
   "id": "cooked-february",
   "metadata": {},
   "outputs": [],
   "source": [
    "run_test(xx, kdes, NUM, 5)"
   ]
  },
  {
   "cell_type": "code",
   "execution_count": null,
   "id": "terminal-cisco",
   "metadata": {},
   "outputs": [],
   "source": [
    "# kde = kale.KDE(small)\n",
    "# kale.kernels.Kernel.density"
   ]
  },
  {
   "cell_type": "code",
   "execution_count": null,
   "id": "perfect-uganda",
   "metadata": {},
   "outputs": [],
   "source": [
    "%prun run_test(xx, kdes, NUM, TRIALS)"
   ]
  }
 ],
 "metadata": {
  "kernelspec": {
   "display_name": "py38",
   "language": "python",
   "name": "py38"
  },
  "language_info": {
   "codemirror_mode": {
    "name": "ipython",
    "version": 3
   },
   "file_extension": ".py",
   "mimetype": "text/x-python",
   "name": "python",
   "nbconvert_exporter": "python",
   "pygments_lexer": "ipython3",
   "version": "3.8.5"
  }
 },
 "nbformat": 4,
 "nbformat_minor": 5
}
