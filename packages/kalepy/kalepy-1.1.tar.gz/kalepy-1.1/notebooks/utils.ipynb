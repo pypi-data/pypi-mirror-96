{
 "cells": [
  {
   "cell_type": "code",
   "execution_count": null,
   "metadata": {},
   "outputs": [],
   "source": [
    "# %load init.ipy\n",
    "%reload_ext autoreload\n",
    "%autoreload 2\n",
    "\n",
    "# %load init.ipy\n",
    "import os, sys, logging, datetime, warnings, shutil\n",
    "from importlib import reload\n",
    "\n",
    "import numpy as np\n",
    "import scipy as sp\n",
    "import scipy.stats\n",
    "import matplotlib as mpl\n",
    "import matplotlib.pyplot as plt\n",
    "from nose import tools\n",
    "\n",
    "import kalepy as kale\n",
    "import kalepy.utils\n",
    "import kalepy.plot\n",
    "# The `nbshow` command runs `plt.show()` in interactive jupyter notebooks, but closes\n",
    "#   figures when run from the command-line (notebooks are converted to scripts and run as tests)\n",
    "from kalepy.plot import nbshow\n",
    "\n",
    "import warnings\n",
    "warnings.simplefilter(\"error\")"
   ]
  },
  {
   "cell_type": "markdown",
   "metadata": {},
   "source": [
    "# Edge Construction"
   ]
  },
  {
   "cell_type": "code",
   "execution_count": null,
   "metadata": {},
   "outputs": [],
   "source": [
    "SIZE = 1e3\n",
    "\n",
    "SIZE = int(SIZE)\n",
    "xx = np.random.normal(0.0, 1.0, SIZE)\n",
    "yy = 10**np.random.normal(xx, 0.2, SIZE)\n",
    "xx = np.fabs(xx + np.random.normal(0.0, 0.2, SIZE))\n",
    "yy += 10.0**np.random.normal(0.0, 0.1, SIZE)\n",
    "data = [xx, yy]\n",
    "\n",
    "# plt.scatter(xx, yy, color='b', alpha=0.25)\n",
    "ax = plt.gca()\n",
    "ax.set(xscale='linear', yscale='log')\n",
    "\n",
    "plt.scatter(*data, color='r', alpha=0.05)\n",
    "\n",
    "# plt.show()\n",
    "nbshow()"
   ]
  },
  {
   "cell_type": "code",
   "execution_count": null,
   "metadata": {},
   "outputs": [],
   "source": [
    "# reload(kale.utils)\n",
    "# des = kale.utils.Data_Edges(data)"
   ]
  },
  {
   "cell_type": "markdown",
   "metadata": {
    "heading_collapsed": true
   },
   "source": [
    "# Trapezoid Integration"
   ]
  },
  {
   "cell_type": "code",
   "execution_count": null,
   "metadata": {
    "hidden": true
   },
   "outputs": [],
   "source": [
    "nbins = [20, 30]\n",
    "xx = np.linspace(-3.0, 3.0, nbins[0]+1)\n",
    "yy = np.linspace(-4.0, 8.0, nbins[1]+1)\n",
    "\n",
    "xc = kale.utils.midpoints(xx, 'lin')\n",
    "yc = kale.utils.midpoints(yy, 'lin')\n",
    "\n",
    "grid = np.meshgrid(xx, yy)\n",
    "zz = np.random.multivariate_normal([0.0, 2.0], [[1.0, 0.2],[0.2, 4.0]], 3000).T\n",
    "print(zz.shape)\n",
    "\n",
    "fig, axes = plt.subplots(figsize=[10, 10], ncols=2, nrows=2)\n",
    "axes[0, 1].set_visible(False)\n",
    "axes = [axes[1, 0], axes[0, 0], axes[1, 1]]\n",
    "# axes = [ax for ii, ax in enumerate(axes.flatten()) if ii != 1]\n",
    "\n",
    "ax = axes[0]\n",
    "grid_cc = np.meshgrid(xc, yc)\n",
    "# the `density` parameter in `hist2d` is incompatible with python3.5\n",
    "# pdf, *_ = ax.hist2d(zz[0].flatten(), zz[1].flatten(), bins=(xx, yy), density=True)\n",
    "pdf, *_ = np.histogram2d(zz[0].flatten(), zz[1].flatten(), bins=(xx, yy), density=True)\n",
    "ax.pcolormesh(*grid, pdf.T)\n",
    "print(pdf.shape)\n",
    "\n",
    "\n",
    "ax = axes[1]\n",
    "xpdf, *_ = ax.hist(zz[0].flatten(), bins=xx, density=True, alpha=0.5, edgecolor='0.5')\n",
    "\n",
    "proj_pdf = kale.utils.trapz_nd(pdf, [xc, yc], axis=1)\n",
    "print(np.allclose(xpdf, proj_pdf, rtol=1e-1))\n",
    "ax.plot(xc, proj_pdf, 'r-')\n",
    "\n",
    "ax = axes[2]\n",
    "ypdf, *_ = ax.hist(zz[1].flatten(), bins=yy, orientation='horizontal', density=True, alpha=0.5, edgecolor='0.5')\n",
    "\n",
    "proj_pdf = kale.utils.trapz_nd(pdf, [xc, yc], axis=0)\n",
    "print(np.allclose(ypdf, proj_pdf, rtol=1e-1))\n",
    "ax.plot(proj_pdf, yc, 'r-')\n",
    "\n",
    "nbshow()"
   ]
  },
  {
   "cell_type": "code",
   "execution_count": null,
   "metadata": {
    "hidden": true
   },
   "outputs": [],
   "source": [
    "nbins = [20, 30]\n",
    "xx = np.linspace(-3.0, 3.0, nbins[0]+1)\n",
    "yy = np.linspace(-4.0, 8.0, nbins[1]+1)\n",
    "\n",
    "xc = kale.utils.midpoints(xx, 'lin')\n",
    "yc = kale.utils.midpoints(yy, 'lin')\n",
    "\n",
    "grid = np.meshgrid(xx, yy)\n",
    "zz = np.random.multivariate_normal([0.0, 2.0], [[1.0, 0.2],[0.2, 4.0]], 3000).T\n",
    "print(zz.shape)\n",
    "\n",
    "fig, axes = plt.subplots(figsize=[10, 10], ncols=2, nrows=2)\n",
    "axes[0, 1].set_visible(False)\n",
    "axes = [axes[1, 0], axes[0, 0], axes[1, 1]]\n",
    "# axes = [ax for ii, ax in enumerate(axes.flatten()) if ii != 1]\n",
    "\n",
    "ax = axes[0]\n",
    "# pdf, *_ = ax.hist2d(zz[0].flatten(), zz[1].flatten(), bins=(xx, yy), density=True)\n",
    "pdf, *_ = np.histogram2d(zz[0].flatten(), zz[1].flatten(), bins=(xx, yy), density=True)\n",
    "ax.pcolormesh(*grid, pdf.T)\n",
    "print(pdf.shape)\n",
    "\n",
    "\n",
    "ax = axes[1]\n",
    "xpdf, *_ = ax.hist(zz[0].flatten(), bins=xx, density=True, alpha=0.5, edgecolor='0.5')\n",
    "\n",
    "proj_pdf = kale.utils.trapz_nd(pdf, [xc, yc], axis=1)\n",
    "print(np.allclose(xpdf, proj_pdf, rtol=1e-1))\n",
    "ax.plot(xc, proj_pdf, 'r-')\n",
    "\n",
    "ax = axes[2]\n",
    "ypdf, *_ = ax.hist(zz[1].flatten(), bins=yy, orientation='horizontal', density=True, alpha=0.5, edgecolor='0.5')\n",
    "\n",
    "proj_pdf = kale.utils.trapz_nd(pdf, [xc, yc], axis=0)\n",
    "print(np.allclose(ypdf, proj_pdf, rtol=1e-1))\n",
    "ax.plot(proj_pdf, yc, 'r-')\n",
    "\n",
    "nbshow()"
   ]
  },
  {
   "cell_type": "code",
   "execution_count": null,
   "metadata": {
    "hidden": true
   },
   "outputs": [],
   "source": [
    "def _test_ndim_a1(ndim):\n",
    "    from kalepy import utils\n",
    "\n",
    "    BIN_SIZE_RANGE = [10, 30]\n",
    "    num_bins = np.random.randint(*BIN_SIZE_RANGE, ndim)\n",
    "    # num_bins = [3, 4]\n",
    "    \n",
    "    edges = []\n",
    "    extr = []\n",
    "    for nb in num_bins:\n",
    "        ee = np.cumsum(np.random.uniform(0.0, 2.0, nb))\n",
    "        edges.append(ee)\n",
    "    \n",
    "    grid = np.meshgrid(*edges, indexing='ij')\n",
    "    shp = [len(ee) for ee in edges]\n",
    "    \n",
    "    for axis in range(ndim):\n",
    "        not_axis = (axis + 1) % 2\n",
    "        print(\"\\nndim = {}, axis = {}, other = {}\".format(ndim, axis, not_axis))\n",
    "\n",
    "        bcast_norm = [np.newaxis for ii in range(ndim)]\n",
    "        bcast_norm[not_axis] = slice(None)\n",
    "        bcast_norm = tuple(bcast_norm)\n",
    "        norm = np.random.uniform(0.0, 10.0, shp[not_axis])[bcast_norm]\n",
    "\n",
    "        bcast_wids = [np.newaxis for ii in range(ndim)]\n",
    "        bcast_wids[axis] = slice(None)\n",
    "        bcast_wids = tuple(bcast_wids)\n",
    "        wids = np.diff(edges[axis])[bcast_wids]\n",
    "        \n",
    "        pdf = np.ones_like(grid[0]) * norm     \n",
    "        pmf = kale.utils.trapz_dens_to_mass(pdf, edges, axis=axis)\n",
    "\n",
    "        new_shp = [ss for ss in shp]\n",
    "        new_shp[axis] -= 1\n",
    "        kale.utils.alltrue(np.shape(pmf) == np.array(new_shp), \"Output shape is {fail:}correct\")\n",
    "    \n",
    "        kale.utils.alltrue(pmf == norm*wids, 'Values do {fail:}match')\n",
    "        \n",
    "        # print(pdf)\n",
    "        # print(wids)\n",
    "        # print(pmf)\n",
    "        \n",
    "    return\n",
    "\n",
    "for ii in range(2, 5):\n",
    "    _test_ndim_a1(ii)"
   ]
  },
  {
   "cell_type": "code",
   "execution_count": null,
   "metadata": {
    "hidden": true
   },
   "outputs": [],
   "source": [
    "def _test_ndim_a2(ndim):\n",
    "    from kalepy import utils\n",
    "\n",
    "    BIN_SIZE_RANGE = [10, 30]\n",
    "    num_bins = np.random.randint(*BIN_SIZE_RANGE, ndim)\n",
    "    # num_bins = [3, 4, 5]\n",
    "    \n",
    "    edges = []\n",
    "    extr = []\n",
    "    for nb in num_bins:\n",
    "        ee = np.cumsum(np.random.uniform(0.0, 2.0, nb))\n",
    "        edges.append(ee)\n",
    "    \n",
    "    grid = np.meshgrid(*edges, indexing='ij')\n",
    "    shp = np.array([len(ee) for ee in edges])\n",
    "    \n",
    "    for axis in np.ndindex(*([ndim]*2)):\n",
    "        if len(np.unique(axis)) != len(axis):\n",
    "            continue\n",
    "        \n",
    "        axis = np.asarray(axis)\n",
    "        not_axis = np.array(list(set(range(ndim)) - set(axis)))\n",
    "        print(\"\\nndim = {}, axis = {}, other = {}\".format(ndim, axis, not_axis))\n",
    "        \n",
    "        bcast_norm = [np.newaxis for ii in range(ndim)]\n",
    "        for na in not_axis:\n",
    "            bcast_norm[na] = slice(None)\n",
    "\n",
    "        bcast_norm = tuple(bcast_norm)\n",
    "        print(bcast_norm)\n",
    "        norm = np.random.uniform(0.0, 10.0, shp[not_axis])[bcast_norm]\n",
    "\n",
    "        bcast_wids = [np.newaxis for ii in range(ndim)]\n",
    "        for aa in axis:\n",
    "            bcast_wids[aa] = slice(None)\n",
    "\n",
    "        bcast_wids = tuple(bcast_wids)\n",
    "\n",
    "        widths = []\n",
    "        for ii in range(ndim):\n",
    "            dim_len_inn = shp[ii]\n",
    "            if ii in axis:\n",
    "                wid = np.diff(edges[ii])\n",
    "            else:\n",
    "                wid = np.ones(dim_len_inn)\n",
    "\n",
    "            # Create new axes along all by the current dimension, slice along the current dimension\n",
    "            cut = [np.newaxis for ii in range(ndim)]\n",
    "            cut[ii] = slice(None)\n",
    "            temp = wid[tuple(cut)]\n",
    "            widths.append(temp)\n",
    "        \n",
    "        wids = np.product(np.array(widths, dtype=object), axis=0)        \n",
    "        \n",
    "        \n",
    "        pdf = np.ones_like(grid[0]) * norm     \n",
    "        pmf = kale.utils.trapz_dens_to_mass(pdf, edges, axis=axis)\n",
    "\n",
    "        new_shp = [ss for ss in shp]\n",
    "        for aa in axis:\n",
    "            new_shp[aa] -= 1\n",
    "\n",
    "        kale.utils.alltrue(np.shape(pmf) == np.array(new_shp), \"Output shape is {fail:}correct\")\n",
    "    \n",
    "        kale.utils.alltrue(pmf == norm*wids, 'Values do {fail:}match')\n",
    "        \n",
    "        # print(pdf)\n",
    "        # print(wids)\n",
    "        # print(pmf)\n",
    "        \n",
    "    return\n",
    "\n",
    "for ii in range(3, 5):\n",
    "    _test_ndim_a2(ii)"
   ]
  },
  {
   "cell_type": "markdown",
   "metadata": {},
   "source": [
    "# Bound Indices"
   ]
  },
  {
   "cell_type": "markdown",
   "metadata": {
    "heading_collapsed": true
   },
   "source": [
    "# ND cumsum"
   ]
  },
  {
   "cell_type": "code",
   "execution_count": null,
   "metadata": {
    "hidden": true
   },
   "outputs": [],
   "source": [
    "def pad(aa, axis=None):\n",
    "    if axis is None:\n",
    "        return np.pad(aa, [1, 0])\n",
    "    \n",
    "    aa = np.moveaxis(aa, axis, 0)\n",
    "    aa = np.concatenate([[np.zeros_like(aa[0])], aa], axis=0)\n",
    "    aa = np.moveaxis(aa, 0, axis)\n",
    "    return aa\n",
    "\n",
    "aa = np.random.randint(0, 10, (3, 4, 2))\n",
    "print(aa.shape)\n",
    "for ax in [None, 0, 1, 2]:\n",
    "    bb = pad(aa, ax)\n",
    "    print(ax, bb.shape)\n",
    "    # print(bb)\n",
    "    print()\n",
    "    "
   ]
  }
 ],
 "metadata": {
  "kernelspec": {
   "display_name": "Python 3",
   "language": "python",
   "name": "python3"
  },
  "language_info": {
   "codemirror_mode": {
    "name": "ipython",
    "version": 3
   },
   "file_extension": ".py",
   "mimetype": "text/x-python",
   "name": "python",
   "nbconvert_exporter": "python",
   "pygments_lexer": "ipython3",
   "version": "3.8.5"
  },
  "toc": {
   "base_numbering": 1,
   "nav_menu": {},
   "number_sections": true,
   "sideBar": true,
   "skip_h1_title": false,
   "title_cell": "Table of Contents",
   "title_sidebar": "Contents",
   "toc_cell": false,
   "toc_position": {
    "height": "calc(100% - 180px)",
    "left": "10px",
    "top": "150px",
    "width": "188.594px"
   },
   "toc_section_display": true,
   "toc_window_display": true
  },
  "varInspector": {
   "cols": {
    "lenName": 16,
    "lenType": 16,
    "lenVar": 40
   },
   "kernels_config": {
    "python": {
     "delete_cmd_postfix": "",
     "delete_cmd_prefix": "del ",
     "library": "var_list.py",
     "varRefreshCmd": "print(var_dic_list())"
    },
    "r": {
     "delete_cmd_postfix": ") ",
     "delete_cmd_prefix": "rm(",
     "library": "var_list.r",
     "varRefreshCmd": "cat(var_dic_list()) "
    }
   },
   "types_to_exclude": [
    "module",
    "function",
    "builtin_function_or_method",
    "instance",
    "_Feature"
   ],
   "window_display": false
  }
 },
 "nbformat": 4,
 "nbformat_minor": 2
}
