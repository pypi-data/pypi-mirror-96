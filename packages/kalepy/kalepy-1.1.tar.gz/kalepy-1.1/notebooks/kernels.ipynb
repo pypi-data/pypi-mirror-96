{
 "cells": [
  {
   "cell_type": "markdown",
   "metadata": {},
   "source": [
    "# Initialization"
   ]
  },
  {
   "cell_type": "code",
   "execution_count": null,
   "metadata": {},
   "outputs": [],
   "source": [
    "# %load init.ipy\n",
    "%reload_ext autoreload\n",
    "%autoreload 2\n",
    "\n",
    "# %load init.ipy\n",
    "import os, sys, logging, datetime, warnings, shutil\n",
    "from importlib import reload\n",
    "\n",
    "import numpy as np\n",
    "import scipy as sp\n",
    "import scipy.stats\n",
    "import matplotlib as mpl\n",
    "import matplotlib.pyplot as plt\n",
    "from nose import tools\n",
    "\n",
    "import kalepy as kale\n",
    "import kalepy.utils\n",
    "import kalepy.plot\n",
    "# The `nbshow` command runs `plt.show()` in interactive jupyter notebooks, but closes\n",
    "#   figures when run from the command-line (notebooks are converted to scripts and run as tests)\n",
    "from kalepy.plot import nbshow\n",
    "\n",
    "import warnings\n",
    "# warnings.simplefilter(\"error\")   # WARNING: this is breaking jupyter at the moment (2021-02-14)"
   ]
  },
  {
   "cell_type": "code",
   "execution_count": null,
   "metadata": {},
   "outputs": [],
   "source": [
    "DISTRIBUTION_CLASSES = kale.kernels._get_all_distribution_classes()"
   ]
  },
  {
   "cell_type": "markdown",
   "metadata": {},
   "source": [
    "# Distributions"
   ]
  },
  {
   "cell_type": "code",
   "execution_count": null,
   "metadata": {},
   "outputs": [],
   "source": [
    "def test_distribs():\n",
    "    distribs = DISTRIBUTION_CLASSES\n",
    "    num = len(distribs)\n",
    "    xe, xc, dx = kale.utils.bins(-5.0, 5.0, 300)\n",
    "\n",
    "    fig, axes = plt.subplots(figsize=[14, 4], ncols=num, sharey=True, sharex=True)\n",
    "    for ax in axes:\n",
    "        ax.grid(alpha=0.15)\n",
    "\n",
    "    ax.set_xlim([-4.2, 4.2])\n",
    "\n",
    "    for ax, dist in zip(axes, distribs):\n",
    "        dist = dist()\n",
    "        name = dist.name()\n",
    "        print(name)\n",
    "        ax.set_title(name)\n",
    "        pdf = dist.evaluate(xc[np.newaxis, :], 1).squeeze()\n",
    "        tot = np.trapz(pdf, x=xc)\n",
    "        l1, = ax.plot(xc, pdf, 'b-')\n",
    "\n",
    "        ax.plot(xc, np.cumsum(pdf*dx), 'r', ls=(0, [8, 4]), alpha=0.75)\n",
    "        # ax.plot(xc, dist.cdf(xc), 'k', ls=(0, [1, 1]), lw=3.0, alpha=0.65)\n",
    "\n",
    "        # Make sure that the total probability is near unity\n",
    "        kale.utils.allclose(tot, 1.0, rtol=3e-2, msg=\"PDF is {fail:}unitary\")\n",
    "        # Make sure distributions have the right support\n",
    "        if dist.FINITE:\n",
    "            outside = (xc < -1.0) | (1.0 < xc)\n",
    "            inside = (-1.0 < xc) & (xc < 1.0)\n",
    "            kale.utils.allclose(pdf[outside], 0.0, atol=1e-6, msg=\"PDF does {fail:}have finite support\")\n",
    "        else:\n",
    "            inside = slice(None)\n",
    "\n",
    "        kale.utils.alltrue(pdf[inside] > 0.0, msg=\"PDF is {fail:}non-zero over support\")\n",
    "        \n",
    "    return\n",
    "\n",
    "test_distribs()"
   ]
  },
  {
   "cell_type": "markdown",
   "metadata": {},
   "source": [
    "## Check Support and Unitarity"
   ]
  },
  {
   "cell_type": "code",
   "execution_count": null,
   "metadata": {},
   "outputs": [],
   "source": [
    "distribs = DISTRIBUTION_CLASSES\n",
    "NUM = int(1e3)\n",
    "\n",
    "num_dist = len(distribs)\n",
    "fig, axes = plt.subplots(figsize=[6*num_dist, 4], ncols=num_dist, sharey=True, sharex=False)\n",
    "for ax in axes:\n",
    "    ax.grid(alpha=0.15)\n",
    "    ax.set_xlim([-4, 4])\n",
    "\n",
    "xe, xc, dx = kale.utils.bins(-5.0, 5.0, 50)\n",
    "# ax.set_xlim([-4.2, 4.2])\n",
    "\n",
    "fine = kale.utils.spacing(xe, 'lin', 300)\n",
    "\n",
    "for ax, dist in zip(axes, distribs):\n",
    "    dist = dist()\n",
    "    name = dist.name()\n",
    "    xlim = [-1.5, 1.5] if dist.FINITE else [-4.0, 4.0]\n",
    "    ax.set_xlim(xlim)\n",
    "\n",
    "    print(name)\n",
    "    ax.set_title(name)\n",
    "    pdf = dist.evaluate(fine[np.newaxis, :], 1).squeeze()\n",
    "    l1, = ax.plot(fine, pdf, 'b-')\n",
    "    tot = np.trapz(pdf, x=fine)\n",
    "    print(\"tot = {:.4e}\".format(tot))\n",
    "    kale.utils.allclose(tot, 1.0, rtol=1e-2, msg=\"PDF is {fail:} unitary\")\n",
    "\n",
    "    samp = dist.sample(NUM)\n",
    "    ax.hist(samp, bins=xe, density=True, edgecolor='b', facecolor='dodgerblue', alpha=0.5, rwidth=0.9)\n",
    "    xvals = samp\n",
    "    yvals = np.random.normal(-0.02, 0.01, xvals.size)\n",
    "    ax.scatter(xvals, yvals, marker='.', s=2, alpha=0.02, color='b')\n",
    "\n",
    "    # Make sure samples are in the right regions\n",
    "    if dist.FINITE:\n",
    "        # outside = ( < -1.0) | (1.0 < xc)\n",
    "        inside = (-1.0 <= xvals) & (xvals <= 1.0)\n",
    "    else:\n",
    "        inside = np.ones_like(xvals, dtype=bool)\n",
    "\n",
    "    kale.utils.alltrue(inside, msg=\"samples are {fail:}within support\")\n",
    "\n",
    "    \n",
    "# nbshow()"
   ]
  },
  {
   "cell_type": "code",
   "execution_count": null,
   "metadata": {},
   "outputs": [],
   "source": [
    "distribs = DISTRIBUTION_CLASSES\n",
    "\n",
    "NUM = int(1e3)\n",
    "LEV = 4\n",
    "bin_extr = [-5, 5]\n",
    "ax_extr = [-3, 3]\n",
    "\n",
    "num_dists = len(distribs)\n",
    "\n",
    "# Setup Figure / Axes\n",
    "# --------------------------------------\n",
    "gs = mpl.gridspec.GridSpec(4, num_dists)\n",
    "fig = plt.figure(figsize=[6*num_dists, 8])\n",
    "axes = np.empty((2, num_dists), dtype=object)\n",
    "for ii, jj in np.ndindex(axes.shape):\n",
    "    xx = slice(0, 1, None) if ii == 0 else slice(1, 4, None)\n",
    "    prev = axes[0, jj] if ii > 0 else None\n",
    "    axes[ii, jj] = plt.subplot(gs[xx, jj], sharex=prev)\n",
    "    axes[ii, jj].grid(alpha=0.15)\n",
    "    \n",
    "# Setup Grids / Bins\n",
    "# -------------------------------\n",
    "xe, xc, dx = kale.utils.bins(*bin_extr, 100)\n",
    "ye, yc, dy = kale.utils.bins(*bin_extr, 102)\n",
    "\n",
    "edges = [xe, ye]\n",
    "# areas = dx[:, np.newaxis] * dy[np.newaxis, :]\n",
    "# percs = sp.stats.norm.cdf([1.0, 2.0])\n",
    "percs = sp.stats.norm.cdf([1.0])\n",
    "xg, yg = np.meshgrid(xc, yc, indexing='ij')\n",
    "grid = [xg.flatten(), yg.flatten()]\n",
    "\n",
    "# Iterate over distributions and test\n",
    "# -------------------------------------------------\n",
    "for axcol, dist in zip(axes.T, distribs):\n",
    "    dist = dist()\n",
    "    name = dist.name()\n",
    "    print(\"\\n==== {} ====\".format(name))\n",
    "    # if not name.lower().startswith('tri'): continue\n",
    "    \n",
    "    pdf_e = dist.grid([xe, ye])\n",
    "    pdf_c = dist.grid([xc, yc])\n",
    "\n",
    "    pdf_e_xproj = np.trapz(pdf_e, x=ye, axis=-1)\n",
    "    pdf_e_yproj = np.trapz(pdf_e, x=xe, axis=0)\n",
    "    # print(np.trapz(pdf_e_xproj, x=xe))\n",
    "    # print(np.trapz(pdf_e_yproj, x=ye))\n",
    "    \n",
    "    pmf = kale.utils.trapz_dens_to_mass(pdf_e, edges)\n",
    "    samp = dist.sample(NUM, 2)\n",
    "    \n",
    "    ax = axcol[0]\n",
    "    ax.set_title(name)\n",
    "    \n",
    "    ax.plot(xe, pdf_e_xproj, 'b-')\n",
    "    xvals = samp[0]\n",
    "    yvals = np.random.normal(-0.02, 0.01, xvals.size)\n",
    "    ax.scatter(xvals, yvals, marker='.', s=2, alpha=0.03, color='b')\n",
    "    \n",
    "    ax = axcol[1]\n",
    "    vals = pmf\n",
    "    levels = np.unique(np.percentile(vals[vals > 0], 100*np.atleast_1d(percs)))\n",
    "    levels = None\n",
    "    \n",
    "    ax.contour(xg, yg, vals, levels=levels, zorder=10, linewidths=4.0, colors='0.9', alpha=1.0)\n",
    "    ax.contour(xg, yg, vals, levels=levels, zorder=11, linewidths=2.0, colors='blue')\n",
    "\n",
    "    ax.scatter(*samp, facecolor='firebrick', edgecolor='0.25', alpha=0.04)\n",
    "    \n",
    "    ax.set(xlim=ax_extr)\n",
    "    \n",
    "    # Tests\n",
    "    # -------------\n",
    "    # Make sure that the total probability is near unity\n",
    "    tot = np.sum(pmf)\n",
    "    # print(\"tot = \", tot) # , kale.utils.stats_str(tot), kale.utils.array_str(tot))\n",
    "    kale.utils.allclose(tot, 1.0, rtol=3e-2, msg=\"PDF is {fail:}unitary\")\n",
    "    # Make sure distributions have the right support\n",
    "    if dist.FINITE:\n",
    "        inside = dist.inside(grid)\n",
    "        inside = inside.reshape(xg.shape)\n",
    "        outside = ~inside\n",
    "        kale.utils.allclose(pdf_c[outside], 0.0, atol=1e-6, msg=\"PDF does {fail:}have finite support\")\n",
    "    else:\n",
    "        inside = slice(None)\n",
    "\n",
    "    kale.utils.alltrue(pdf_c[inside] > 0.0, msg=\"PDF is {fail:}non-zero over support\")\n",
    "    \n",
    "    \n",
    "# nbshow()"
   ]
  },
  {
   "cell_type": "markdown",
   "metadata": {},
   "source": [
    "## Covariance"
   ]
  },
  {
   "cell_type": "markdown",
   "metadata": {},
   "source": [
    "# Particular Kernels"
   ]
  }
 ],
 "metadata": {
  "kernelspec": {
   "display_name": "Python 3",
   "language": "python",
   "name": "python3"
  },
  "language_info": {
   "codemirror_mode": {
    "name": "ipython",
    "version": 3
   },
   "file_extension": ".py",
   "mimetype": "text/x-python",
   "name": "python",
   "nbconvert_exporter": "python",
   "pygments_lexer": "ipython3",
   "version": "3.8.5"
  },
  "toc": {
   "base_numbering": 1,
   "nav_menu": {},
   "number_sections": true,
   "sideBar": true,
   "skip_h1_title": false,
   "title_cell": "Table of Contents",
   "title_sidebar": "Contents",
   "toc_cell": false,
   "toc_position": {
    "height": "calc(100% - 180px)",
    "left": "10px",
    "top": "150px",
    "width": "165px"
   },
   "toc_section_display": true,
   "toc_window_display": true
  },
  "varInspector": {
   "cols": {
    "lenName": 16,
    "lenType": 16,
    "lenVar": 40
   },
   "kernels_config": {
    "python": {
     "delete_cmd_postfix": "",
     "delete_cmd_prefix": "del ",
     "library": "var_list.py",
     "varRefreshCmd": "print(var_dic_list())"
    },
    "r": {
     "delete_cmd_postfix": ") ",
     "delete_cmd_prefix": "rm(",
     "library": "var_list.r",
     "varRefreshCmd": "cat(var_dic_list()) "
    }
   },
   "types_to_exclude": [
    "module",
    "function",
    "builtin_function_or_method",
    "instance",
    "_Feature"
   ],
   "window_display": false
  }
 },
 "nbformat": 4,
 "nbformat_minor": 2
}
