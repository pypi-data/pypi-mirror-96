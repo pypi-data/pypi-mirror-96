{
 "cells": [
  {
   "cell_type": "code",
   "execution_count": null,
   "metadata": {},
   "outputs": [],
   "source": [
    "from pyrho.pyrho import VolumetricFeaturizer\n",
    "from pyrho.vizualize import get_plotly_scatter_plot\n",
    "vf = VolumetricFeaturizer.from_hdf5(\"../test_files/Si/Si.sc.hdf5\")\n",
    "ss = slice(0, -1, 10)\n",
    "data = vf.data['total'][ss, ss, ss]\n",
    "dd = data[..., 5]\n",
    "av=np.linspace(0,1,data.shape[0],endpoint=False)\n",
    "bv=np.linspace(0,1,data.shape[1],endpoint=False)\n",
    "AA, BB = np.meshgrid(av,bv,indexing='ij') #indexing to match the lablled array\n",
    "xx, yy = np.dot(vf.structure.lattice.matrix.T[:2,:2], [AA.flatten(),BB.flatten()])\n",
    "xshift, yshift = np.dot(vf.structure.lattice.matrix.T[:2,:2], ((av[1]-av[0])/2.,(bv[1]-bv[0])/2.))\n",
    "print(shift)\n",
    "ave=np.linspace(0,1,data.shape[0]+1,endpoint=True)\n",
    "bve=np.linspace(0,1,data.shape[1]+1,endpoint=True)\n",
    "AAe, BBe = np.meshgrid(ave,bve,indexing='ij') #indexing to match the lablled array\n",
    "xxe, yye = np.dot(vf.structure.lattice.matrix.T[:2,:2], [AAe.flatten(),BBe.flatten()])\n",
    "plt.pcolormesh(xxe.reshape(AAe.shape), yye.reshape(AAe.shape), np.log(dd))\n",
    "plt.scatter(xx+xshift, yy+yshift, c=np.log(dd.flatten()), edgecolors='black')\n"
   ]
  },
  {
   "cell_type": "code",
   "execution_count": null,
   "metadata": {},
   "outputs": [],
   "source": [
    "def grid_create_from_coordinates(xcoords, ycoords, xcorners=False, ycorners=False, corners=False, domask=False, doarea=False, ctk=ESMF.TypeKind.R8):\n",
    "    \"\"\"\n",
    "    Create a 2 dimensional Grid using the bounds of the x and y coordiantes.\n",
    "    :param xcoords: The 1st dimension or 'x' coordinates at cell centers, as a Python list or numpy Array\n",
    "    :param ycoords: The 2nd dimension or 'y' coordinates at cell centers, as a Python list or numpy Array\n",
    "    :param xcorners: The 1st dimension or 'x' coordinates at cell corners, as a Python list or numpy Array\n",
    "    :param ycorners: The 2nd dimension or 'y' coordinates at cell corners, as a Python list or numpy Array\n",
    "    :param domask: boolean to determine whether to set an arbitrary mask or not\n",
    "    :param doarea: boolean to determine whether to set an arbitrary area values or not\n",
    "    :param ctk: the coordinate typekind\n",
    "    :return: grid\n",
    "    \"\"\"\n",
    "    [x, y] = [0, 1]\n",
    "\n",
    "    # create a grid given the number of grid cells in each dimension, the center stagger location is allocated, the\n",
    "    # Cartesian coordinate system and type of the coordinates are specified\n",
    "    max_index = np.array([len(xcoords), len(ycoords)])\n",
    "    grid = ESMF.Grid(max_index, staggerloc=[ESMF.StaggerLoc.CENTER], coord_sys=ESMF.CoordSys.CART, coord_typekind=ctk)\n",
    "\n",
    "    # set the grid coordinates using numpy arrays, parallel case is handled using grid bounds\n",
    "    gridXCenter = grid.get_coords(x)\n",
    "    x_par = xcoords[grid.lower_bounds[ESMF.StaggerLoc.CENTER][x]:grid.upper_bounds[ESMF.StaggerLoc.CENTER][x]]\n",
    "    gridXCenter[...] = x_par.reshape((x_par.size, 1))\n",
    "\n",
    "    gridYCenter = grid.get_coords(y)\n",
    "    y_par = ycoords[grid.lower_bounds[ESMF.StaggerLoc.CENTER][y]:grid.upper_bounds[ESMF.StaggerLoc.CENTER][y]]\n",
    "    gridYCenter[...] = y_par.reshape((1, y_par.size))\n",
    "\n",
    "    # create grid corners in a slightly different manner to account for the bounds format common in CF-like files\n",
    "    if corners:\n",
    "        grid.add_coords([ESMF.StaggerLoc.CORNER])\n",
    "        lbx = grid.lower_bounds[ESMF.StaggerLoc.CORNER][x]\n",
    "        ubx = grid.upper_bounds[ESMF.StaggerLoc.CORNER][x]\n",
    "        lby = grid.lower_bounds[ESMF.StaggerLoc.CORNER][y]\n",
    "        uby = grid.upper_bounds[ESMF.StaggerLoc.CORNER][y]\n",
    "\n",
    "        gridXCorner = grid.get_coords(x, staggerloc=ESMF.StaggerLoc.CORNER)\n",
    "        for i0 in range(ubx - lbx - 1):\n",
    "            gridXCorner[i0, :] = xcorners[i0+lbx, 0]\n",
    "        gridXCorner[i0 + 1, :] = xcorners[i0+lbx, 1]\n",
    "\n",
    "        gridYCorner = grid.get_coords(y, staggerloc=ESMF.StaggerLoc.CORNER)\n",
    "        for i1 in range(uby - lby - 1):\n",
    "            gridYCorner[:, i1] = ycorners[i1+lby, 0]\n",
    "        gridYCorner[:, i1 + 1] = ycorners[i1+lby, 1]\n",
    "\n",
    "    # add an arbitrary mask\n",
    "    if domask:\n",
    "        mask = grid.add_item(ESMF.GridItem.MASK)\n",
    "        mask[:] = 1\n",
    "        mask[np.where((1.75 <= gridXCenter.any() < 2.25) &\n",
    "                      (1.75 <= gridYCenter.any() < 2.25))] = 0\n",
    "\n",
    "    # add arbitrary areas values\n",
    "    if doarea:\n",
    "        area = grid.add_item(ESMF.GridItem.AREA)\n",
    "        area[:] = 5.0\n",
    "\n",
    "    return grid\n",
    "\n",
    "def run_regridding(srcfield, dstfield, srcfracfield, dstfracfield):\n",
    "    # This is for documentation. Do not modify.\n",
    "    '''\n",
    "    PRECONDITIONS: Two Fields have been created and a regridding\n",
    "                   operation is desired from 'srcfield' to 'dstfield'.\n",
    "                   The 'srcfracfield' and 'dstfractfield' are Fields\n",
    "                   created to hold the fractions of the source and\n",
    "                   destination fields which contribute to conservative\n",
    "                   regridding.\\n\n",
    "    POSTCONDITIONS: A regridding operation has set the data on\n",
    "                    'dstfield', 'srcfracfield', and 'dstfracfield'.\\n\n",
    "    RETURN VALUES: \\n Field :: dstfield \\n\n",
    "                      Field :: srcfracfield \\n\n",
    "                      Field :: dstfracfield \\n\n",
    "    '''\n",
    "    # call the regridding functions\n",
    "    regridSrc2Dst = ESMF.Regrid(srcfield, dstfield,\n",
    "                                regrid_method=ESMF.RegridMethod.CONSERVE,\n",
    "                                unmapped_action=ESMF.UnmappedAction.ERROR,\n",
    "                                src_frac_field=srcfracfield,\n",
    "                                dst_frac_field=dstfracfield)\n",
    "    dstfield = regridSrc2Dst(srcfield, dstfield)\n",
    "\n",
    "    return dstfield, srcfracfield, dstfracfield\n"
   ]
  },
  {
   "cell_type": "code",
   "execution_count": null,
   "metadata": {},
   "outputs": [],
   "source": [
    "gx = xxe.reshape(AAe.shape)\n",
    "gy = yye.reshape(AAe.shape)\n",
    "newx, newy = np.meshgrid(np.linspace(0,9,20), np.linspace(0,9,20),indexing='ij') #indexing to match the lablled array\n",
    "\n",
    "grid1 = grid_create_from_coordinates(xxe,yye)\n",
    "grid2 = grid_create_from_coordinates(newx.flatten(),newy.flatten())\n",
    "ESMF.Regrid(grid1, grid2,regrid_method=ESMF.RegridMethod.CONSERVE,\n",
    "    unmapped_action=ESMF.UnmappedAction.ERROR)\n"
   ]
  },
  {
   "cell_type": "code",
   "execution_count": null,
   "metadata": {},
   "outputs": [],
   "source": [
    "gx = xxe.reshape(AAe.shape)\n",
    "gy = yye.reshape(AAe.shape)\n",
    "grid = ESMF.Grid(np.array(gx.shape), coord_sys=ESMF.CoordSys.CART, num_peri_dims=1,staggerloc=ESMF.StaggerLoc.CENTER)\n",
    "xpointers = grid.get_coords(coord_dim=0, staggerloc=ESMF.StaggerLoc.CENTER)\n",
    "ypointers = grid.get_coords(coord_dim=1, staggerloc=ESMF.StaggerLoc.CENTER)\n",
    "\n",
    "xpointers[...] = gx\n",
    "ypointers[...] = gy\n"
   ]
  },
  {
   "cell_type": "code",
   "execution_count": null,
   "metadata": {},
   "outputs": [],
   "source": [
    "newx, newy = np.meshgrid(np.linspace(0,9,20), np.linspace(0,9,20),indexing='ij') #indexing to match the lablled array\n",
    "\n",
    "grid2 = ESMF.Grid(np.array(newx.shape), coord_sys=ESMF.CoordSys.CART, num_peri_dims=1,staggerloc=ESMF.StaggerLoc.CENTER)\n",
    "xpointers2 = grid2.get_coords(coord_dim=0, staggerloc=ESMF.StaggerLoc.CENTER)\n",
    "ypointers2 = grid2.get_coords(coord_dim=1, staggerloc=ESMF.StaggerLoc.CENTER)\n",
    "\n",
    "xpointers2[...] = newx\n",
    "ypointers2[...] = newy\n",
    "\n",
    "regrid = ESMF.Regrid(grid, grid2, \n",
    "                     regrid_method=ESMF.RegridMethod.BILINEAR,\n",
    "                     unmapped_action=ESMF.UnmappedAction.IGNORE,\n",
    "                     line_type=ESMF.LineType.GREAT_CIRCLE)"
   ]
  },
  {
   "cell_type": "code",
   "execution_count": null,
   "metadata": {},
   "outputs": [],
   "source": [
    "grid.get_coords()"
   ]
  },
  {
   "cell_type": "code",
   "execution_count": null,
   "metadata": {},
   "outputs": [],
   "source": [
    "def grid_create_from_coordinates_periodic(longitudes, latitudes, lon_corners=False, lat_corners=False, corners=False, domask=False):\n",
    "    \"\"\"\n",
    "    Create a 2 dimensional periodic Grid using the 'longitudes' and 'latitudes'.\n",
    "    :param longitudes: longitude coordinate values at cell centers\n",
    "    :param latitudes: latitude coordinate values at cell centers\n",
    "    :param lon_corners: longitude coordinate values at cell corners\n",
    "    :param lat_corners: latitude coordinate values at cell corners\n",
    "    :param corners: boolean to determine whether or not to add corner coordinates to this grid\n",
    "    :param domask: boolean to determine whether to set an arbitrary mask or not\n",
    "    :return: grid\n",
    "    \"\"\"\n",
    "    [lon, lat] = [0, 1]\n",
    "\n",
    "    # create a grid given the number of grid cells in each dimension the center stagger location is allocated\n",
    "    max_index = np.array([len(longitudes), len(latitudes)])\n",
    "    grid = ESMF.Grid(max_index, num_peri_dims=1, staggerloc=[ESMF.StaggerLoc.CENTER])\n",
    "\n",
    "    # set the grid coordinates using numpy arrays, parallel case is handled using grid bounds\n",
    "    gridXCenter = grid.get_coords(lon)\n",
    "    lon_par = longitudes[grid.lower_bounds[ESMF.StaggerLoc.CENTER][lon]:grid.upper_bounds[ESMF.StaggerLoc.CENTER][lon]]\n",
    "    gridXCenter[...] = lon_par.reshape((lon_par.size, 1))\n",
    "\n",
    "    gridYCenter = grid.get_coords(lat)\n",
    "    lat_par = latitudes[grid.lower_bounds[ESMF.StaggerLoc.CENTER][lat]:grid.upper_bounds[ESMF.StaggerLoc.CENTER][lat]]\n",
    "    gridYCenter[...] = lat_par.reshape((1, lat_par.size))\n",
    "\n",
    "    # create grid corners in a slightly different manner to account for the bounds format common in CF-like files\n",
    "    if corners:\n",
    "        grid.add_coords([ESMF.StaggerLoc.CORNER])\n",
    "        lbx = grid.lower_bounds[ESMF.StaggerLoc.CORNER][lon]\n",
    "        ubx = grid.upper_bounds[ESMF.StaggerLoc.CORNER][lon]\n",
    "        lby = grid.lower_bounds[ESMF.StaggerLoc.CORNER][lat]\n",
    "        uby = grid.upper_bounds[ESMF.StaggerLoc.CORNER][lat]\n",
    "\n",
    "        gridXCorner = grid.get_coords(lon, staggerloc=ESMF.StaggerLoc.CORNER)\n",
    "        for i0 in range(ubx - lbx - 1):\n",
    "            gridXCorner[i0, :] = lon_corners[i0+lbx, 0]\n",
    "        gridXCorner[i0 + 1, :] = lon_corners[i0+lbx, 1]\n",
    "\n",
    "        gridYCorner = grid.get_coords(lat, staggerloc=ESMF.StaggerLoc.CORNER)\n",
    "        for i1 in range(uby - lby - 1):\n",
    "            gridYCorner[:, i1] = lat_corners[i1+lby, 0]\n",
    "        gridYCorner[:, i1 + 1] = lat_corners[i1+lby, 1]\n",
    "\n",
    "    # add an arbitrary mask\n",
    "    if domask:\n",
    "        mask = grid.add_item(ESMF.GridItem.MASK)\n",
    "        mask[:] = 1\n",
    "        mask[np.where((1.75 <= gridXCenter.any() < 2.25) &\n",
    "                      (1.75 <= gridYCenter.any() < 2.25))] = 0\n",
    "\n",
    "    return grid"
   ]
  },
  {
   "cell_type": "code",
   "execution_count": null,
   "metadata": {},
   "outputs": [],
   "source": []
  },
  {
   "cell_type": "code",
   "execution_count": null,
   "metadata": {},
   "outputs": [],
   "source": []
  },
  {
   "cell_type": "code",
   "execution_count": null,
   "metadata": {},
   "outputs": [],
   "source": [
    "%matplotlib inline\n",
    "import matplotlib.pyplot as plt\n",
    "import numpy as np\n",
    "import ESMF\n",
    "\n",
    "# cell centers\n",
    "lon_in, lat_in = np.meshgrid(np.linspace(-20, 20, 5), np.linspace(-15, 15, 4))\n",
    "# cell bounds\n",
    "lon_in_b, lat_in_b = np.meshgrid(np.linspace(-25, 25, 6), np.linspace(-20, 20, 5))\n",
    "\n",
    "# stretch the grid in diagonal direction?\n",
    "# Switch to False will remove the bug\n",
    "stretch = True\n",
    "if stretch:\n",
    "    lon_in += lat_in  \n",
    "    lat_in += lon_in\n",
    "    lon_in_b += lat_in_b\n",
    "    lat_in_b += lon_in_b\n",
    "    \n",
    "data = np.arange(20).reshape(4, 5) # a boring data\n",
    "\n",
    "plt.pcolormesh(lon_in_b, lat_in_b, data)\n",
    "plt.scatter(lon_in, lat_in, label='cell center')\n",
    "plt.legend()\n",
    "plt.title('input data and grid')"
   ]
  },
  {
   "cell_type": "code",
   "execution_count": null,
   "metadata": {},
   "outputs": [],
   "source": [
    "data.shape"
   ]
  },
  {
   "cell_type": "code",
   "execution_count": null,
   "metadata": {},
   "outputs": [],
   "source": [
    "lon_out_b = np.linspace(-50, 50, 51)\n",
    "lon_out = 0.5*(lon_out_b[1:]+lon_out_b[:-1])\n",
    "\n",
    "lat_out_b = np.linspace(-80, 80, 51)\n",
    "lat_out = 0.5*(lat_out_b[1:]+lat_out_b[:-1])\n",
    "\n",
    "# 1D -> 2D\n",
    "lon_out, lat_out = np.meshgrid(lon_out, lat_out)\n",
    "lon_out_b, lat_out_b = np.meshgrid(lon_out_b, lat_out_b)"
   ]
  },
  {
   "cell_type": "code",
   "execution_count": null,
   "metadata": {},
   "outputs": [],
   "source": [
    "# make ESMF.Grid object\n",
    "\n",
    "grid_in = esmf_grid(lon_in, lat_in)\n",
    "add_corner(grid_in, lon_in_b, lat_in_b)\n",
    "\n",
    "grid_out = esmf_grid(lon_out, lat_out)\n",
    "add_corner(grid_out, lon_out_b, lat_out_b)"
   ]
  },
  {
   "cell_type": "code",
   "execution_count": null,
   "metadata": {},
   "outputs": [],
   "source": []
  },
  {
   "cell_type": "code",
   "execution_count": null,
   "metadata": {},
   "outputs": [],
   "source": [
    "# make ESMF.Regrid object\n",
    "\n",
    "sourcefield = ESMF.Field(grid_in)\n",
    "destfield = ESMF.Field(grid_out)\n",
    "regrid = ESMF.Regrid(sourcefield, destfield, \n",
    "                     regrid_method=ESMF.RegridMethod.BILINEAR,\n",
    "                     unmapped_action=ESMF.UnmappedAction.IGNORE,\n",
    "                     line_type=ESMF.LineType.GREAT_CIRCLE)"
   ]
  },
  {
   "cell_type": "code",
   "execution_count": null,
   "metadata": {},
   "outputs": [],
   "source": [
    "# Apply regridding\n",
    "\n",
    "sourcefield.data[...] = data\n",
    "destfield = regrid(sourcefield, destfield)\n",
    "data_out = destfield.data"
   ]
  },
  {
   "cell_type": "code",
   "execution_count": null,
   "metadata": {},
   "outputs": [],
   "source": [
    "plt.pcolormesh(lon_out_b, lat_out_b, data_out)"
   ]
  },
  {
   "cell_type": "code",
   "execution_count": null,
   "metadata": {},
   "outputs": [],
   "source": []
  },
  {
   "cell_type": "code",
   "execution_count": null,
   "metadata": {},
   "outputs": [],
   "source": []
  },
  {
   "cell_type": "code",
   "execution_count": null,
   "metadata": {},
   "outputs": [],
   "source": [
    "# make ESMF.Regrid object\n",
    "regrid_con = ESMF.Regrid(sourcefield, destfield, \n",
    "                        regrid_method=ESMF.RegridMethod.CONSERVE,\n",
    "                        unmapped_action=ESMF.UnmappedAction.IGNORE,\n",
    "                        )"
   ]
  },
  {
   "cell_type": "code",
   "execution_count": null,
   "metadata": {},
   "outputs": [],
   "source": [
    "# Apply regridding\n",
    "sourcefield.data[...] = data\n",
    "destfield = regrid_con(sourcefield, destfield)\n",
    "data_out_con = destfield.data.copy() # to avoid being overwritten by the next operation"
   ]
  },
  {
   "cell_type": "code",
   "execution_count": null,
   "metadata": {},
   "outputs": [],
   "source": [
    "plt.pcolormesh(lon_out_b, lat_out_b, data_out_con)"
   ]
  },
  {
   "cell_type": "code",
   "execution_count": null,
   "metadata": {},
   "outputs": [],
   "source": []
  }
 ],
 "metadata": {
  "kernelspec": {
   "display_name": "Python 3",
   "language": "python",
   "name": "python3"
  },
  "language_info": {
   "codemirror_mode": {
    "name": "ipython",
    "version": 3
   },
   "file_extension": ".py",
   "mimetype": "text/x-python",
   "name": "python",
   "nbconvert_exporter": "python",
   "pygments_lexer": "ipython3",
   "version": "3.7.4"
  }
 },
 "nbformat": 4,
 "nbformat_minor": 4
}
