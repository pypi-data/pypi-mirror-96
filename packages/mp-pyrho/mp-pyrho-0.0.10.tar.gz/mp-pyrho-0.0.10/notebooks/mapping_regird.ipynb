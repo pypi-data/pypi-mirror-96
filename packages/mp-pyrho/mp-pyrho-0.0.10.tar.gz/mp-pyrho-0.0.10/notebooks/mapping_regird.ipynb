{
 "cells": [
  {
   "cell_type": "code",
   "execution_count": null,
   "metadata": {},
   "outputs": [],
   "source": [
    "from pyrho.core.volumetricRegridder import VolumetricRegridder, pad_arr, interpolate_fourier, get_sc_interp\n",
    "from pyrho.vis.plotly import get_plotly_scatter_plot_3d\n",
    "from pyrho import VolumetricRegridder\n",
    "from pyrho.core.volumetricRegridder import interpolate_fourier\n",
    "\n",
    "vf = VolumetricRegridder.from_hdf5(\"../test_files/Si.uc.hdf5\", target_grid = None)\n",
    "vf.reorient_axis()\n",
    "fig = get_plotly_scatter_plot_3d(vf.data['total'], vf.structure.lattice.matrix, mask = vf.data['total'] > 20, factor=3, opacity=0.6, marker_size=5, logcolor=True)\n",
    "fig"
   ]
  },
  {
   "cell_type": "code",
   "execution_count": null,
   "metadata": {},
   "outputs": [],
   "source": [
    "a = list(range(12))\n",
    "a[slice(0, None, 1)]"
   ]
  },
  {
   "cell_type": "code",
   "execution_count": null,
   "metadata": {},
   "outputs": [],
   "source": [
    "fig._data[0]"
   ]
  },
  {
   "cell_type": "code",
   "execution_count": null,
   "metadata": {},
   "outputs": [],
   "source": [
    "vfsc = VolumetricRegridder.from_hdf5(\"../tests/test_files/Si_cube0.hdf5\", target_grid = None)\n",
    "vfsc.reorient_axis()\n",
    "get_plotly_scatter_plot(vfsc.data['total'], vfsc.structure.lattice.matrix, mask = vfsc.data['total'] > 800, factor=3, opacity=0.6, marker_size=5, logcolor=True)\n"
   ]
  },
  {
   "cell_type": "code",
   "execution_count": null,
   "metadata": {},
   "outputs": [],
   "source": [
    "res = vf.get_data_in_cube(10.937455554747366,90)\n",
    "lat_out = np.array([[1,0,0],[0,1,0],[0,0,1]])\n",
    "get_plotly_scatter_plot(res, lat_out, mask = res > 20, factor=2, opacity=0.6, marker_size=5, logcolor=True)\n"
   ]
  },
  {
   "cell_type": "code",
   "execution_count": null,
   "metadata": {},
   "outputs": [],
   "source": [
    "target_sc_lat_vecs = np.eye(3, 3) * 20\n",
    "sc_mat = np.linalg.inv(vf.structure.lattice.matrix) @ target_sc_lat_vecs"
   ]
  },
  {
   "cell_type": "code",
   "execution_count": null,
   "metadata": {},
   "outputs": [],
   "source": [
    "target_sc_lat_vecs = np.eye(3, 3) * 7\n",
    "sc_mat = np.linalg.inv(vf.structure.lattice.matrix) @ target_sc_lat_vecs\n",
    "sc_lat = np.dot(sc_mat, vf.structure.lattice.matrix)\n",
    "\n",
    "# sc = vf.structure * sc_mat \n",
    "# sc.to('poscar', '/Users/lik/Desktop/tmp.vasp')\n",
    "# sc_lat"
   ]
  },
  {
   "cell_type": "code",
   "execution_count": null,
   "metadata": {},
   "outputs": [],
   "source": [
    "gg_size = [100,100,100]\n",
    "cart_coords, res = get_sc_interp(vf.data['total'], sc_mat, gg_size)\n",
    "res = res.reshape(gg_size)\n",
    "get_plotly_scatter_plot(res, sc_lat, mask = res > 20, factor=2, opacity=0.6, marker_size=5, logcolor=True)\n",
    "\n",
    "# for ic in cart_coords "
   ]
  },
  {
   "cell_type": "code",
   "execution_count": null,
   "metadata": {},
   "outputs": [],
   "source": [
    "res.shape"
   ]
  },
  {
   "cell_type": "code",
   "execution_count": null,
   "metadata": {},
   "outputs": [],
   "source": [
    "print(vf.structure.lattice.matrix) \n",
    "np.dot(sc_mat, vf.structure.lattice.matrix)"
   ]
  },
  {
   "cell_type": "code",
   "execution_count": null,
   "metadata": {},
   "outputs": [],
   "source": [
    "3.86697424 + 1.93348675*2"
   ]
  },
  {
   "cell_type": "code",
   "execution_count": null,
   "metadata": {},
   "outputs": [],
   "source": [
    "lat_mat = vf.structure.lattice.matrix[:2,:2]"
   ]
  },
  {
   "cell_type": "code",
   "execution_count": null,
   "metadata": {},
   "outputs": [],
   "source": [
    "av = np.linspace(0, 1, tot.shape[0], endpoint=False)\n",
    "bv = np.linspace(0, 1, tot.shape[1], endpoint=False)\n",
    "AA, BB = np.meshgrid(av, bv, indexing=\"ij\")  # indexing to match the lablled array\n",
    "res = np.dot(lat_mat.T, [AA.flatten(), BB.flatten()])\n",
    "cc = tot.flatten()\n",
    "xx = res[0]\n",
    "yy = res[1]\n"
   ]
  },
  {
   "cell_type": "code",
   "execution_count": null,
   "metadata": {},
   "outputs": [],
   "source": [
    "plt.scatter(xx,yy, s=5, c=cc)"
   ]
  },
  {
   "cell_type": "code",
   "execution_count": null,
   "metadata": {},
   "outputs": [],
   "source": [
    "from scipy.interpolate import RegularGridInterpolator\n",
    "rgi = RegularGridInterpolator((av, bv), tot, method='linear') # this should be good enough if we up sample using fourier interpolation"
   ]
  },
  {
   "cell_type": "code",
   "execution_count": null,
   "metadata": {},
   "outputs": [],
   "source": [
    "# def get_sc_interp(data_in, sc_mat, grid_sizes):\n",
    "#     \"\"\"\n",
    "#     Assuming we have some kind of data stored on a regular grid.\n",
    "#     [0,1) in each dimension\n",
    "    \n",
    "#     In the frame where UC is orthonormal we can just map all points in the sc_grid to the a position in the unit cube\n",
    "    \n",
    "#     Then perform interpolation on the new coordinates that are all within the cube\n",
    "    \n",
    "#     For real space use \"linear\" for fourier space use \"nearest\"\n",
    "    \n",
    "#     We have to include the boundaries of the UC since the mapped grid must lie between the existing points\n",
    "#     \"\"\"\n",
    "    \n",
    "# #     res = np.dot(lat_mat.T, [AA.flatten(), BB.flatten()])\n",
    "#     padded_data = data_in.copy()\n",
    "#     uc_vecs = [np.linspace(0, 1, isize+1, endpoint=True) for isize in data_in.shape]\n",
    "#     slice_arr = [[slice(0,1) if ii==i else slice(0,None) for ii in range(len(data_in.shape))] for i in range(len(data_in.shape))]\n",
    "#     for idim, islice in enumerate(slice_arr):\n",
    "#         padded_data = np.concatenate((padded_data,padded_data[tuple(islice)]), axis=idim)\n",
    "    \n",
    "#     interp_func = RegularGridInterpolator(uc_vecs, padded_data, method='linear')\n",
    "#     grid_vec = [np.linspace(0, 1, isize, endpoint=False) for isize in grid_sizes]\n",
    "#     frac_coords = np.meshgrid(*grid_vec, indexing=\"ij\")  # indexing to match the lablled array\n",
    "#     cart_coords = np.dot(sc_mat, [icoord.flatten() for icoord in frac_coords])\n",
    "#     mapped_coords = cart_coords - np.floor(cart_coords)\n",
    "#     return cart_coords, interp_func(mapped_coords.T)\n",
    "\n",
    "cart_coords, res = get_sc_interp(vf.data['total'][:,:,0], [[2,1], [1,2]], [40,40])\n",
    "plt.scatter(cart_coords[0], cart_coords[1], s=10, c=res)"
   ]
  },
  {
   "cell_type": "code",
   "execution_count": null,
   "metadata": {},
   "outputs": [],
   "source": [
    "cart_coords.shape"
   ]
  },
  {
   "cell_type": "code",
   "execution_count": null,
   "metadata": {},
   "outputs": [],
   "source": [
    "fig, ax = plt.subplots(1,1,figsize=(9,8))\n",
    "ax.set_aspect('equal')\n",
    "\n",
    "cart_coords, res = get_sc_interp(vf.data['total'][:,:,0], [[3,1], [1,7]], [70,70])\n",
    "ax.scatter(cart_coords[0], cart_coords[1], s=10, c=res, cmap='RdGy', alpha=0.2)\n",
    "\n",
    "\n",
    "cart_coords, res = get_sc_interp(vf.data['total'][:,:,0], [[2,1], [1,2]], [80,55])\n",
    "ax.scatter(cart_coords[0], cart_coords[1], s=10, c=res, cmap='RdBu_r', alpha=0.4)\n",
    "\n",
    "\n",
    "cart_coords, res = get_sc_interp(vf.data['total'][:,:,0], [[7.4,0], [0,1.5]], [90,40])\n",
    "ax.scatter(cart_coords[0], cart_coords[1], s=10, c=res, cmap='twilight_shifted', alpha=0.4)\n",
    "\n",
    "cart_coords, res = get_sc_interp(vf.data['total'][:,:,0], [[1,0], [0,2]], [40,40])\n",
    "ax.scatter(cart_coords[0], cart_coords[1], s=10, c=res, cmap='plasma', alpha=0.4)\n",
    "fig.savefig('./show_croped_2d.png')"
   ]
  },
  {
   "cell_type": "markdown",
   "metadata": {},
   "source": [
    "ValueError: Colormap BluRd is not recognized. Possible values are: Accent, Accent_r, Blues, Blues_r, BrBG, BrBG_r, BuGn, BuGn_r, BuPu, BuPu_r, CMRmap, CMRmap_r, Dark2, Dark2_r, GnBu, GnBu_r, Greens, Greens_r, Greys, Greys_r, OrRd, OrRd_r, Oranges, Oranges_r, PRGn, PRGn_r, Paired, Paired_r, Pastel1, Pastel1_r, Pastel2, Pastel2_r, PiYG, PiYG_r, PuBu, PuBuGn, PuBuGn_r, PuBu_r, PuOr, PuOr_r, PuRd, PuRd_r, Purples, Purples_r, RdBu, RdBu_r, RdGy, RdGy_r, RdPu, RdPu_r, RdYlBu, RdYlBu_r, RdYlGn, RdYlGn_r, Reds, Reds_r, Set1, Set1_r, Set2, Set2_r, Set3, Set3_r, Spectral, Spectral_r, Wistia, Wistia_r, YlGn, YlGnBu, YlGnBu_r, YlGn_r, YlOrBr, YlOrBr_r, YlOrRd, YlOrRd_r, afmhot, afmhot_r, autumn, autumn_r, binary, binary_r, bone, bone_r, brg, brg_r, bwr, bwr_r, cividis, cividis_r, cool, cool_r, coolwarm, coolwarm_r, copper, copper_r, cubehelix, cubehelix_r, flag, flag_r, gist_earth, gist_earth_r, gist_gray, gist_gray_r, gist_heat, gist_heat_r, gist_ncar, gist_ncar_r, gist_rainbow, gist_rainbow_r, gist_stern, gist_stern_r, gist_yarg, gist_yarg_r, gnuplot, gnuplot2, gnuplot2_r, gnuplot_r, gray, gray_r, hot, hot_r, hsv, hsv_r, inferno, inferno_r, jet, jet_r, magma, magma_r, nipy_spectral, nipy_spectral_r, ocean, ocean_r, pink, pink_r, plasma, plasma_r, prism, prism_r, rainbow, rainbow_r, seismic, seismic_r, spring, spring_r, summer, summer_r, tab10, tab10_r, tab20, tab20_r, tab20b, tab20b_r, tab20c, tab20c_r, terrain, terrain_r, twilight, twilight_r, twilight_shifted, twilight_shifted_r, viridis, viridis_r, winter, winter_r"
   ]
  },
  {
   "cell_type": "code",
   "execution_count": null,
   "metadata": {},
   "outputs": [],
   "source": [
    "np.stack([[1,2]])"
   ]
  },
  {
   "cell_type": "code",
   "execution_count": null,
   "metadata": {},
   "outputs": [],
   "source": [
    "a= np.arange(12).reshape(3,4)"
   ]
  },
  {
   "cell_type": "code",
   "execution_count": null,
   "metadata": {},
   "outputs": [],
   "source": [
    "np.stack([a, a[0,:]],axis=0)"
   ]
  },
  {
   "cell_type": "code",
   "execution_count": null,
   "metadata": {},
   "outputs": [],
   "source": [
    "a= np.arange(12).reshape(3,4,1)\n",
    "slice_arr = [[slice(0,1) if ii==i else slice(0,None) for ii in range(len(a.shape))] for i in range(len(a.shape))]\n",
    "for idim, islice in enumerate(slice_arr):\n",
    "    a = np.concatenate((a,a[tuple(islice)]), axis=idim)\n",
    "print(a)\n"
   ]
  },
  {
   "cell_type": "code",
   "execution_count": null,
   "metadata": {},
   "outputs": [],
   "source": [
    "a"
   ]
  },
  {
   "cell_type": "code",
   "execution_count": null,
   "metadata": {},
   "outputs": [],
   "source": [
    "a= np.arange(12).reshape(3,4)\n",
    "a[tuple(islice)]"
   ]
  },
  {
   "cell_type": "code",
   "execution_count": null,
   "metadata": {},
   "outputs": [],
   "source": []
  }
 ],
 "metadata": {
  "kernelspec": {
   "display_name": "Python 3",
   "language": "python",
   "name": "python3"
  },
  "language_info": {
   "codemirror_mode": {
    "name": "ipython",
    "version": 3
   },
   "file_extension": ".py",
   "mimetype": "text/x-python",
   "name": "python",
   "nbconvert_exporter": "python",
   "pygments_lexer": "ipython3",
   "version": "3.7.4"
  }
 },
 "nbformat": 4,
 "nbformat_minor": 4
}
