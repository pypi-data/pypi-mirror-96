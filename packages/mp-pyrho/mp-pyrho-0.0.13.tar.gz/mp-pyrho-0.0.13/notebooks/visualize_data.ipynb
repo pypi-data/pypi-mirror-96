{
 "cells": [
  {
   "cell_type": "markdown",
   "metadata": {},
   "source": [
    "# Examples from READEME"
   ]
  },
  {
   "cell_type": "code",
   "execution_count": null,
   "metadata": {},
   "outputs": [],
   "source": [
    "import numpy as np\n",
    "def func(X,Y):\n",
    "    return np.sin(X) * np.cos(2*Y)\n",
    "a = np.linspace(0, np.pi, 27,endpoint=True)\n",
    "b = np.linspace(0, np.pi, 28,endpoint=True)\n",
    "fc = np.meshgrid(a, b, indexing='ij')\n",
    "data = func(*fc)\n"
   ]
  },
  {
   "cell_type": "code",
   "execution_count": null,
   "metadata": {},
   "outputs": [],
   "source": [
    "from pyrho.core.pgrid import PGrid\n",
    "from pyrho.vis.plotly import get_plotly_scatter_plot\n",
    "pg = PGrid(grid_data=data, lattice=[[np.pi,0], [0,np.pi]])\n",
    "get_plotly_scatter_plot(pg.grid_data, pg.lattice, skips=1, opacity=1, marker_size=15)\n"
   ]
  },
  {
   "cell_type": "code",
   "execution_count": null,
   "metadata": {},
   "outputs": [],
   "source": [
    "pg_2x = pg.get_transformed_obj([[1,1], [1,-1]], frac_shift=[0,0], grid_out=[30,32])\n",
    "print(f\"After doubling, rorating the (max, min) of the data changed from ({pg.grid_data.max():0.2f}, {pg.grid_data.min():0.2f}) to ({pg_2x.grid_data.max():0.2f}, {pg_2x.grid_data.min():0.2f})\")\n",
    "get_plotly_scatter_plot(pg_2x.grid_data, pg_2x.lattice, skips=1, opacity=1, marker_size=10)\n"
   ]
  },
  {
   "cell_type": "code",
   "execution_count": null,
   "metadata": {},
   "outputs": [],
   "source": [
    "pg_2x = pg.get_transformed_obj([[1,1], [1,-1]], frac_shift=[0.5, 0.5], grid_out=[30,32])\n",
    "print(f\"After doubling, rorating and shifting the (max, min) of the data changed from ({pg.grid_data.max():0.2f}, {pg.grid_data.min():0.2f}) to ({pg_2x.grid_data.max():0.2f}, {pg_2x.grid_data.min():0.2f})\")\n",
    "get_plotly_scatter_plot(pg_2x.grid_data, pg_2x.lattice, skips=1, opacity=1, marker_size=10)\n"
   ]
  },
  {
   "cell_type": "code",
   "execution_count": null,
   "metadata": {},
   "outputs": [],
   "source": [
    "from pyrho.core.chargeDensity import ChargeDensity\n",
    "from pymatgen.io.vasp import Chgcar\n",
    "from pyrho.core.pgrid import PGrid\n",
    "from pyrho.core.utils import get_padded_array\n",
    "from pyrho.core.fourier import PFourier\n",
    "from pyrho.vis.plotly import get_plotly_scatter_plot\n",
    "chgcar = Chgcar.from_hdf5(\"../test_files/Si.uc.hdf5\")\n",
    "chgcar = ChargeDensity.from_pmg_volumetric_data(chgcar)\n",
    "chgcar.reorient_axis()\n"
   ]
  },
  {
   "cell_type": "markdown",
   "metadata": {},
   "source": [
    "# Get the 1-D plot "
   ]
  },
  {
   "cell_type": "code",
   "execution_count": null,
   "metadata": {},
   "outputs": [],
   "source": [
    "pg1 = PGrid(chgcar.grid_data[10,10,:], lattice=[chgcar.lattice[0,0]])\n",
    "get_plotly_scatter_plot(pg1.grid_data, lat_mat=pg1.lattice, skips=1)"
   ]
  },
  {
   "cell_type": "markdown",
   "metadata": {},
   "source": [
    "# 2-D Plot"
   ]
  },
  {
   "cell_type": "code",
   "execution_count": null,
   "metadata": {},
   "outputs": [],
   "source": [
    "pg2 = PGrid(chgcar.grid_data[24,:,:], chgcar.lattice[:2,:2])\n",
    "get_plotly_scatter_plot(pg2.grid_data, lat_mat=pg2.lattice, skips=4)"
   ]
  },
  {
   "cell_type": "markdown",
   "metadata": {},
   "source": [
    "# 3-D Plot"
   ]
  },
  {
   "cell_type": "code",
   "execution_count": null,
   "metadata": {},
   "outputs": [],
   "source": [
    "chgcar.grid_data.shape"
   ]
  },
  {
   "cell_type": "code",
   "execution_count": null,
   "metadata": {},
   "outputs": [],
   "source": [
    "get_plotly_scatter_plot(chgcar.grid_data, lat_mat=chgcar.lattice, skips=4, mask=chgcar.grid_data > 0.5, marker_size=10)"
   ]
  },
  {
   "cell_type": "code",
   "execution_count": null,
   "metadata": {},
   "outputs": [],
   "source": [
    "chgcar_x2 = chgcar.get_transformed_obj(sc_mat = [[1,1,0],[1,-1,0],[0,0,1]], frac_shift=[0.5,0.5,0.5], grid_out=[120,120,60])\n",
    "get_plotly_scatter_plot(chgcar_x2.grid_data, lat_mat=chgcar_x2.lattice, skips=4, mask=chgcar_x2.grid_data > 0.5, marker_size=10)"
   ]
  },
  {
   "cell_type": "code",
   "execution_count": null,
   "metadata": {},
   "outputs": [],
   "source": [
    "chgcar_x2.grid_data.shape"
   ]
  },
  {
   "cell_type": "code",
   "execution_count": null,
   "metadata": {},
   "outputs": [],
   "source": []
  },
  {
   "cell_type": "code",
   "execution_count": null,
   "metadata": {},
   "outputs": [],
   "source": []
  },
  {
   "cell_type": "code",
   "execution_count": null,
   "metadata": {},
   "outputs": [],
   "source": []
  },
  {
   "cell_type": "code",
   "execution_count": null,
   "metadata": {},
   "outputs": [],
   "source": [
    "ndim = len(data_in.shape)\n",
    "if ndim > 3:\n",
    "    raise NotImplementedError(\"Can only render data of 1, 2, or 3 dimensions.\")\n",
    "\n",
    "ss = slice(0, None, 4)\n",
    "trimmed_data = np.real(data_in).copy()\n",
    "all_slices = (ss, ) * ndim\n",
    "trimmed_data = trimmed_data[all_slices]\n",
    "trimmed_data.shape"
   ]
  },
  {
   "cell_type": "code",
   "execution_count": null,
   "metadata": {},
   "outputs": [],
   "source": [
    "def show_2d(pg_2D):\n",
    "    av=np.linspace(0,1,pg_2D.grid_data.shape[0],endpoint=False)\n",
    "    bv=np.linspace(0,1,pg_2D.grid_data.shape[1],endpoint=False)\n",
    "    AA, BB = np.meshgrid(av,bv,indexing='ij') #indexing to match the lablled array\n",
    "    xx, yy = np.dot(pg_2D.lattice.T[:2,:2], [AA.flatten(),BB.flatten()])\n",
    "    xshift, yshift = np.dot(pg_2D.lattice.T[:2,:2], ((av[1]-av[0])/2.,(bv[1]-bv[0])/2.))\n",
    "    plt.scatter(xx+xshift, yy+yshift, c=np.log(pg_2D.grid_data.flatten()), edgecolors='black',alpha=0.1)\n",
    "show_2d(pg2)\n"
   ]
  },
  {
   "cell_type": "code",
   "execution_count": null,
   "metadata": {},
   "outputs": [],
   "source": [
    "fft_data = np.abs(np.fft.fftn(pg_2D.grid_data))\n",
    "pf = PFourier(fft_data, pg_2D.lattice)\n",
    "\n",
    "def show_2d_f(pf, thresh = 12):\n",
    "    av=np.linspace(0,1,pf.fourier_data.shape[0],endpoint=False)\n",
    "    bv=np.linspace(0,1,pf.fourier_data.shape[1],endpoint=False)\n",
    "\n",
    "    xx, yy = pf.fft_pos_centered_cartesian_s\n",
    "    mask = pf.fourier_data.flatten() > thresh\n",
    "    plt.scatter(xx[mask], yy[mask], c=pf.fourier_data.flatten()[mask], edgecolors='black',alpha=0.4)\n",
    "    plt.axes().set_aspect(\"equal\")\n"
   ]
  },
  {
   "cell_type": "code",
   "execution_count": null,
   "metadata": {},
   "outputs": [],
   "source": [
    "fft_data = np.abs(np.fft.fftn(pg_2D.grid_data))\n",
    "pf = PFourier(fft_data, pg_2D.lattice)\n",
    "show_2d_f(pf)"
   ]
  },
  {
   "cell_type": "code",
   "execution_count": null,
   "metadata": {},
   "outputs": [],
   "source": [
    "g1,g2 = pg_2D.grid_data.shape\n",
    "pg_super = pg_2D.get_transformed_obj(\n",
    "    sc_mat=[[1, 1], [1, -2]], frac_shift=[0, 0], grid_out=[g1*3 , g2*2 ], up_sample=2\n",
    ")\n",
    "show_2d(pg_super)\n"
   ]
  },
  {
   "cell_type": "code",
   "execution_count": null,
   "metadata": {},
   "outputs": [],
   "source": [
    "fft_data_super = np.abs(np.fft.fftn(pg_super.grid_data))\n",
    "pf_super = PFourier(fft_data_super, pg_super.lattice)\n"
   ]
  },
  {
   "cell_type": "code",
   "execution_count": null,
   "metadata": {},
   "outputs": [],
   "source": [
    "pg_2D.lattice"
   ]
  },
  {
   "cell_type": "code",
   "execution_count": null,
   "metadata": {},
   "outputs": [],
   "source": [
    "show_2d_f(pf_super, thresh = 3*9)"
   ]
  },
  {
   "cell_type": "code",
   "execution_count": null,
   "metadata": {},
   "outputs": [],
   "source": [
    "show_2d_f(pf, thresh = 3)"
   ]
  },
  {
   "cell_type": "code",
   "execution_count": null,
   "metadata": {},
   "outputs": [],
   "source": []
  },
  {
   "cell_type": "code",
   "execution_count": null,
   "metadata": {},
   "outputs": [],
   "source": []
  }
 ],
 "metadata": {
  "kernelspec": {
   "display_name": "Python 3",
   "language": "python",
   "name": "python3"
  },
  "language_info": {
   "codemirror_mode": {
    "name": "ipython",
    "version": 3
   },
   "file_extension": ".py",
   "mimetype": "text/x-python",
   "name": "python",
   "nbconvert_exporter": "python",
   "pygments_lexer": "ipython3",
   "version": "3.8.6"
  }
 },
 "nbformat": 4,
 "nbformat_minor": 4
}
