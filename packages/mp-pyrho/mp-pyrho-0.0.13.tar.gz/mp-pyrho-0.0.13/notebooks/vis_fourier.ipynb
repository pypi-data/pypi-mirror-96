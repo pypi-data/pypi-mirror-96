{
 "cells": [
  {
   "cell_type": "code",
   "execution_count": null,
   "metadata": {},
   "outputs": [],
   "source": [
    "%load_ext autoreload\n",
    "%autoreload 2\n",
    "\n",
    "from pyrho.pyrho import VolumetricFeaturizer\n",
    "from pyrho.vizualize import get_plotly_scatter_plot\n",
    "from pyrho.regidding import pad_arr, interpolate_fourier\n",
    "\n",
    "vf = VolumetricFeaturizer.from_hdf5(\"../test_files/Si/Si.uc.hdf5\")\n",
    "vf.reorient_axis()\n",
    "vf_sc = VolumetricFeaturizer.from_hdf5(\"../test_files/Si/Si.sc.hdf5\")\n",
    "vf_sc.reorient_axis()\n",
    "\n",
    "get_plotly_scatter_plot(vf.data['total'], vf.structure.lattice.matrix, mask = vf.data['total'] > 20, factor=3, opacity=0.6, marker_size=5, logcolor=True)\n"
   ]
  },
  {
   "cell_type": "code",
   "execution_count": null,
   "metadata": {},
   "outputs": [],
   "source": [
    "vf.structure.lattice.matrix"
   ]
  },
  {
   "cell_type": "code",
   "execution_count": null,
   "metadata": {},
   "outputs": [],
   "source": [
    "fft_data = np.abs(vf.fft_reg)\n",
    "get_plotly_scatter_plot(fft_data, vf.structure.lattice.reciprocal_lattice.matrix , mask = fft_data > 5E5, factor=1, opacity=0.6, marker_size=5, logcolor=True)\n"
   ]
  },
  {
   "cell_type": "code",
   "execution_count": null,
   "metadata": {},
   "outputs": [],
   "source": [
    "fft_data_sc = np.abs(vf_sc.fft_reg)\n",
    "get_plotly_scatter_plot(fft_data_sc, vf_sc.structure.lattice.reciprocal_lattice.matrix , mask = fft_data_sc > 5E5*16, factor=1, opacity=0.6, marker_size=5, logcolor=True)\n"
   ]
  },
  {
   "cell_type": "code",
   "execution_count": null,
   "metadata": {},
   "outputs": [],
   "source": [
    "print(np.sum(fft_data_sc > 5E5*16))\n",
    "print(np.sum(fft_data > 5E5))"
   ]
  },
  {
   "cell_type": "code",
   "execution_count": null,
   "metadata": {},
   "outputs": [],
   "source": []
  },
  {
   "cell_type": "code",
   "execution_count": null,
   "metadata": {},
   "outputs": [],
   "source": [
    "plt.imshow(np.log(fft_data[:,:, 0]))"
   ]
  },
  {
   "cell_type": "code",
   "execution_count": null,
   "metadata": {},
   "outputs": [],
   "source": [
    "plt.imshow(np.log(fft_data_sc[::,::, 0]))"
   ]
  },
  {
   "cell_type": "code",
   "execution_count": null,
   "metadata": {},
   "outputs": [],
   "source": [
    "plt.imshow(np.log(fft_data_sc[::2,::2, 0]))"
   ]
  },
  {
   "cell_type": "code",
   "execution_count": null,
   "metadata": {},
   "outputs": [],
   "source": []
  },
  {
   "cell_type": "code",
   "execution_count": null,
   "metadata": {},
   "outputs": [],
   "source": [
    "vf.structure.lattice.reciprocal_lattice.abc"
   ]
  },
  {
   "cell_type": "code",
   "execution_count": null,
   "metadata": {},
   "outputs": [],
   "source": [
    "vf_sc.structure.lattice.reciprocal_lattice.abc"
   ]
  },
  {
   "cell_type": "code",
   "execution_count": null,
   "metadata": {},
   "outputs": [],
   "source": [
    "(fft_data)"
   ]
  },
  {
   "cell_type": "code",
   "execution_count": null,
   "metadata": {},
   "outputs": [],
   "source": []
  }
 ],
 "metadata": {
  "kernelspec": {
   "display_name": "Python 3",
   "language": "python",
   "name": "python3"
  },
  "language_info": {
   "codemirror_mode": {
    "name": "ipython",
    "version": 3
   },
   "file_extension": ".py",
   "mimetype": "text/x-python",
   "name": "python",
   "nbconvert_exporter": "python",
   "pygments_lexer": "ipython3",
   "version": "3.8.6"
  }
 },
 "nbformat": 4,
 "nbformat_minor": 4
}
