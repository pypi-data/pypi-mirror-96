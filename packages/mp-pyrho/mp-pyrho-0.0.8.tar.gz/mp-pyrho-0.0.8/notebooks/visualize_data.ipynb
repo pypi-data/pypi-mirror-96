{
 "cells": [
  {
   "cell_type": "code",
   "execution_count": null,
   "metadata": {},
   "outputs": [],
   "source": [
    "%load_ext autoreload\n",
    "%autoreload 2\n",
    "from pyrho.core.chargeDensity import ChargeDensity\n",
    "from pymatgen.io.vasp import Chgcar\n",
    "from pyrho.core.pgrid import PGrid\n",
    "from pyrho.core.utils import get_padded_array\n",
    "from pyrho.core.fourier import PFourier\n",
    "\n",
    "chgcar = Chgcar.from_hdf5(\"../test_files/Si.uc.hdf5\")\n",
    "chgcar = ChargeDensity.from_pmg_volumetric_data(chgcar)\n",
    "chgcar.reorient_axis()\n",
    "\n",
    "a_mat = chgcar.lattice[:2,:2]\n",
    "data = chgcar.grid_data[24, :, :]\n",
    "\n",
    "pg_2D = PGrid(data, a_mat)"
   ]
  },
  {
   "cell_type": "code",
   "execution_count": null,
   "metadata": {},
   "outputs": [],
   "source": [
    "def show_2d(pg_2D):\n",
    "    av=np.linspace(0,1,pg_2D.grid_data.shape[0],endpoint=False)\n",
    "    bv=np.linspace(0,1,pg_2D.grid_data.shape[1],endpoint=False)\n",
    "    AA, BB = np.meshgrid(av,bv,indexing='ij') #indexing to match the lablled array\n",
    "    xx, yy = np.dot(pg_2D.lattice.T[:2,:2], [AA.flatten(),BB.flatten()])\n",
    "    xshift, yshift = np.dot(pg_2D.lattice.T[:2,:2], ((av[1]-av[0])/2.,(bv[1]-bv[0])/2.))\n",
    "    plt.scatter(xx+xshift, yy+yshift, c=np.log(pg_2D.grid_data.flatten()), edgecolors='black',alpha=0.1)\n",
    "show_2d(pg_2D)\n"
   ]
  },
  {
   "cell_type": "code",
   "execution_count": null,
   "metadata": {},
   "outputs": [],
   "source": [
    "fft_data = np.abs(np.fft.fftn(pg_2D.grid_data))\n",
    "pf = PFourier(fft_data, pg_2D.lattice)\n",
    "\n",
    "def show_2d_f(pf, thresh = 12):\n",
    "    av=np.linspace(0,1,pf.fourier_data.shape[0],endpoint=False)\n",
    "    bv=np.linspace(0,1,pf.fourier_data.shape[1],endpoint=False)\n",
    "\n",
    "    xx, yy = pf.fft_pos_centered_cartesian_s\n",
    "    mask = pf.fourier_data.flatten() > thresh\n",
    "    plt.scatter(xx[mask], yy[mask], c=pf.fourier_data.flatten()[mask], edgecolors='black',alpha=0.4)\n",
    "    plt.axes().set_aspect(\"equal\")\n"
   ]
  },
  {
   "cell_type": "code",
   "execution_count": null,
   "metadata": {},
   "outputs": [],
   "source": [
    "fft_data = np.abs(np.fft.fftn(pg_2D.grid_data))\n",
    "pf = PFourier(fft_data, pg_2D.lattice)\n",
    "show_2d_f(pf)"
   ]
  },
  {
   "cell_type": "code",
   "execution_count": null,
   "metadata": {},
   "outputs": [],
   "source": [
    "g1,g2 = pg_2D.grid_data.shape\n",
    "pg_super = pg_2D.get_transformed_obj(\n",
    "    sc_mat=[[1, 1], [1, -2]], frac_shift=[0, 0], grid_out=[g1*3 , g2*2 ], up_sample=2\n",
    ")\n",
    "show_2d(pg_super)\n"
   ]
  },
  {
   "cell_type": "code",
   "execution_count": null,
   "metadata": {},
   "outputs": [],
   "source": [
    "fft_data_super = np.abs(np.fft.fftn(pg_super.grid_data))\n",
    "pf_super = PFourier(fft_data_super, pg_super.lattice)\n"
   ]
  },
  {
   "cell_type": "code",
   "execution_count": null,
   "metadata": {},
   "outputs": [],
   "source": [
    "pg_2D.lattice"
   ]
  },
  {
   "cell_type": "code",
   "execution_count": null,
   "metadata": {},
   "outputs": [],
   "source": [
    "show_2d_f(pf_super, thresh = 3*9)"
   ]
  },
  {
   "cell_type": "code",
   "execution_count": null,
   "metadata": {},
   "outputs": [],
   "source": [
    "show_2d_f(pf, thresh = 3)"
   ]
  },
  {
   "cell_type": "code",
   "execution_count": null,
   "metadata": {},
   "outputs": [],
   "source": []
  },
  {
   "cell_type": "code",
   "execution_count": null,
   "metadata": {},
   "outputs": [],
   "source": []
  }
 ],
 "metadata": {
  "kernelspec": {
   "display_name": "Python 3",
   "language": "python",
   "name": "python3"
  },
  "language_info": {
   "codemirror_mode": {
    "name": "ipython",
    "version": 3
   },
   "file_extension": ".py",
   "mimetype": "text/x-python",
   "name": "python",
   "nbconvert_exporter": "python",
   "pygments_lexer": "ipython3",
   "version": "3.8.6"
  }
 },
 "nbformat": 4,
 "nbformat_minor": 4
}
