{
 "cells": [
  {
   "cell_type": "markdown",
   "metadata": {},
   "source": [
    "# To arrive at a universal Fourier representation\n"
   ]
  },
  {
   "cell_type": "code",
   "execution_count": null,
   "metadata": {},
   "outputs": [],
   "source": [
    "from pyrho.core.utils import interpolate_fourier\n",
    "f = lambda x: 20 * np.cos(x)**2 * np.cos(x)\n",
    "\n",
    "xx = np.linspace(0, 2 * np.pi, 20, endpoint=False)\n",
    "fig, ax = plt.subplots()\n",
    "ax.plot(xx, f(xx), '-o')\n"
   ]
  },
  {
   "cell_type": "code",
   "execution_count": null,
   "metadata": {},
   "outputs": [],
   "source": [
    "fig, (ax1, ax2) = plt.subplots(2,1, sharex=True)\n",
    "xx = np.linspace(0, 2 * np.pi, 101, endpoint=False)\n",
    "ff_x = np.linspace(-1*len(xx), 1*len(xx), len(xx))\n",
    "res = np.fft.fftn(f(xx))\n",
    "res = np.fft.fftshift(res)\n",
    "\n",
    "ax1.stem(ff_x, res)\n",
    "\n",
    "xx3 = np.linspace(0, 6 * np.pi, 51, endpoint=False)\n",
    "res3 = np.fft.fftn(f(xx3))\n",
    "res3 = np.fft.fftshift(res3)\n",
    "ff_x = np.linspace(-1/3*len(xx3), 1/3*len(xx3), len(xx3))\n",
    "ax2.stem(ff_x, np.abs(res3))\n",
    "\n",
    "ax2.set_xlim(-10,10)"
   ]
  },
  {
   "cell_type": "code",
   "execution_count": null,
   "metadata": {},
   "outputs": [],
   "source": [
    "xx3 = np.linspace(0, 6 * np.pi, 75, endpoint=False)\n",
    "plt.plot(xx3, f(xx3), '-o')"
   ]
  },
  {
   "cell_type": "code",
   "execution_count": null,
   "metadata": {},
   "outputs": [],
   "source": [
    "fig, ax = plt.subplots()\n",
    "res = np.fft.fftn(f(xx3))\n",
    "ff_x = np.linspace(0, 1, len(xx3))\n",
    "ax.stem(ff_x, np.abs(res))\n"
   ]
  },
  {
   "cell_type": "code",
   "execution_count": null,
   "metadata": {},
   "outputs": [],
   "source": []
  },
  {
   "cell_type": "code",
   "execution_count": null,
   "metadata": {},
   "outputs": [],
   "source": []
  }
 ],
 "metadata": {
  "kernelspec": {
   "display_name": "Python 3",
   "language": "python",
   "name": "python3"
  },
  "language_info": {
   "codemirror_mode": {
    "name": "ipython",
    "version": 3
   },
   "file_extension": ".py",
   "mimetype": "text/x-python",
   "name": "python",
   "nbconvert_exporter": "python",
   "pygments_lexer": "ipython3",
   "version": "3.8.6"
  }
 },
 "nbformat": 4,
 "nbformat_minor": 4
}
