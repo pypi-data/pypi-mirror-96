{
 "cells": [
  {
   "cell_type": "code",
   "execution_count": null,
   "metadata": {},
   "outputs": [],
   "source": [
    "from pyrho.core.volumetricRegrider import VolumetricRegrider\n",
    "from pyrho.core.volumetricRegrider import interpolate_fourier\n",
    "from pyrho.vis.plotly import get_plotly_scatter_plot_3d\n",
    "\n",
    "vf = VolumetricRegrider.from_hdf5(\"../test_files/Si.uc.hdf5\", target_grid = None)\n",
    "vf.reorient_axis()\n",
    "get_plotly_scatter_plot_3d(vf.data['total'], vf.structure.lattice.matrix, mask = vf.data['total'] > 20, factor=3, opacity=0.6, marker_size=5, logcolor=True)\n"
   ]
  },
  {
   "cell_type": "code",
   "execution_count": null,
   "metadata": {},
   "outputs": [],
   "source": [
    "aa = vf.data['total']\n",
    "new_shape = [_*3 for _ in vf.data['total'].shape]\n",
    "interp_data = interpolate_fourier(aa, new_shape)"
   ]
  },
  {
   "cell_type": "code",
   "execution_count": null,
   "metadata": {},
   "outputs": [],
   "source": [
    "get_plotly_scatter_plot_3d(interp_data, vf.structure.lattice.matrix, mask = interp_data > 20, factor=3, opacity=0.6, marker_size=5, logcolor=True)\n"
   ]
  },
  {
   "cell_type": "code",
   "execution_count": null,
   "metadata": {},
   "outputs": [],
   "source": [
    "res = vf.get_data_in_cube(5, 80)\n",
    "get_plotly_scatter_plot_3d(res, np.eye(3) * 10, mask = res > 10, factor=3, opacity=1.0, marker_size=5, logcolor=True)\n"
   ]
  },
  {
   "cell_type": "code",
   "execution_count": null,
   "metadata": {},
   "outputs": [],
   "source": []
  },
  {
   "cell_type": "code",
   "execution_count": null,
   "metadata": {},
   "outputs": [],
   "source": [
    "a=np.array([[1,2,3],[4,5,6]]) #Generate some data\n",
    "np.roll(a, 1, 1)"
   ]
  },
  {
   "cell_type": "code",
   "execution_count": null,
   "metadata": {},
   "outputs": [],
   "source": [
    "def roll_array(arr: np.ndarray, roll_vec):\n",
    "    for ii, roll_val in enumerate(roll_vec):\n",
    "        arr = np.roll(arr, roll_val, ii)\n",
    "    print(arr)"
   ]
  },
  {
   "cell_type": "code",
   "execution_count": null,
   "metadata": {},
   "outputs": [],
   "source": [
    "a=np.array([[1,2,3],[4,5,6]]) #Generate some data\n",
    "print(a)\n",
    "roll_array(a, [0,1])\n",
    "print(a)"
   ]
  },
  {
   "cell_type": "code",
   "execution_count": null,
   "metadata": {},
   "outputs": [],
   "source": []
  }
 ],
 "metadata": {
  "kernelspec": {
   "display_name": "Python 3",
   "language": "python",
   "name": "python3"
  },
  "language_info": {
   "codemirror_mode": {
    "name": "ipython",
    "version": 3
   },
   "file_extension": ".py",
   "mimetype": "text/x-python",
   "name": "python",
   "nbconvert_exporter": "python",
   "pygments_lexer": "ipython3",
   "version": "3.7.4"
  }
 },
 "nbformat": 4,
 "nbformat_minor": 4
}
