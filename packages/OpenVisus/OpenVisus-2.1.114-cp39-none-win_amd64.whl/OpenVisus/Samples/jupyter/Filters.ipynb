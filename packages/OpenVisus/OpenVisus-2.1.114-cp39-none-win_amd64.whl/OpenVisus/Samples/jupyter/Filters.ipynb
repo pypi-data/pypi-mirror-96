{
 "cells": [
  {
   "cell_type": "markdown",
   "metadata": {},
   "source": [
    "# Example about OpenVisus filters"
   ]
  },
  {
   "cell_type": "markdown",
   "metadata": {},
   "source": [
    "Import OpenVisus and define utils:"
   ]
  },
  {
   "cell_type": "code",
   "execution_count": 1,
   "metadata": {},
   "outputs": [
    {
     "name": "stdout",
     "output_type": "stream",
     "text": [
      "Starting OpenVisus C:\\projects\\OpenVisus\\build\\RelWithDebInfo\\OpenVisus\\__init__.py 3.8.6 (tags/v3.8.6:db45529, Sep 23 2020, 15:52:53) [MSC v.1927 64 bit (AMD64)] sys.version_info(major=3, minor=8, micro=6, releaselevel='final', serial=0) ...\n"
     ]
    }
   ],
   "source": [
    "import os,sys\n",
    "# sys.path.append(r\"C:\\projects\\OpenVisus\\build\\RelWithDebInfo\")\n",
    "from OpenVisus import *\n",
    "import numpy as np"
   ]
  },
  {
   "cell_type": "markdown",
   "metadata": {},
   "source": [
    "Import your source data:"
   ]
  },
  {
   "cell_type": "code",
   "execution_count": 2,
   "metadata": {},
   "outputs": [
    {
     "name": "stdout",
     "output_type": "stream",
     "text": [
      "Loaded data (1388, 389, 1407, 1) float32\n"
     ]
    }
   ],
   "source": [
    "filename=r'C:\\projects\\OpenVisus\\volume_1407x389x1388_float32.raw'\n",
    "dtype=np.float32\n",
    "width,height,depth=1407,389,1388\n",
    "num_channels=1\n",
    "data = np.fromfile(filename, dtype=dtype).reshape((depth, height, width, num_channels))\n",
    "print(\"Loaded data\",data.shape,data.dtype)"
   ]
  },
  {
   "cell_type": "markdown",
   "metadata": {},
   "source": [
    "About filters:\n",
    "- `identity` does NOT need an extra channel\n",
    "- `min` | `max` needs an extra channel (this about this: when I apply the inverse filter I need a way to know the original ordering)\n",
    "- discrete  `wavelet` (intXX)  needs an extra channel\n",
    "- continuos `wavelet` (floatXX) does NOT need an extra channel\n",
    "\n",
    "I need an extra channle for `max` filter:"
   ]
  },
  {
   "cell_type": "code",
   "execution_count": 3,
   "metadata": {},
   "outputs": [
    {
     "name": "stdout",
     "output_type": "stream",
     "text": [
      "Extra channel added (1388, 389, 1407, 2) float32\n"
     ]
    }
   ],
   "source": [
    "num_channels+=1\n",
    "new_data=numpy.zeros((depth, height, width, num_channels),dtype=data.dtype)\n",
    "new_data[:,:,:,0]=data[:,:,:,0]\n",
    "data=new_data\n",
    "print(\"Extra channel added\", data.shape, data.dtype)"
   ]
  },
  {
   "cell_type": "markdown",
   "metadata": {},
   "source": [
    "Create the IDX directory from data. \n",
    "Note we are disabling compression here (`raw`) since `zip` is really slow. But in production you may want to use `zip` or `lz4`."
   ]
  },
  {
   "cell_type": "code",
   "execution_count": 4,
   "metadata": {},
   "outputs": [
    {
     "name": "stdout",
     "output_type": "stream",
     "text": [
      "Creating idx...\n",
      "Compressing dataset... raw\n",
      "compression done\n",
      "idx file created\n"
     ]
    }
   ],
   "source": [
    "idx_filename='tmp/honeycomb_max_py.idx'\n",
    "print(\"Creating idx...\")\n",
    "compression=\"raw\"\n",
    "idx = CreateIdx(url=idx_filename, rmtree=True, dim=3, data=data, filters=['max'],compression=compression)\n",
    "print(\"idx file created\")"
   ]
  },
  {
   "cell_type": "markdown",
   "metadata": {},
   "source": [
    "Compute filter using a \"sliding window\" (sliding_box will be sliding_window^dim)"
   ]
  },
  {
   "cell_type": "code",
   "execution_count": 5,
   "metadata": {},
   "outputs": [
    {
     "name": "stdout",
     "output_type": "stream",
     "text": [
      "Computing filter\n",
      "Filter computed\n"
     ]
    }
   ],
   "source": [
    "print(\"Computing filter\")\n",
    "sliding_window=1024\n",
    "idx.computeFilter(idx.getField(), sliding_window)\n",
    "print(\"Filter computed\")"
   ]
  },
  {
   "cell_type": "code",
   "execution_count": null,
   "metadata": {},
   "outputs": [],
   "source": []
  }
 ],
 "metadata": {
  "kernelspec": {
   "display_name": "Python 3",
   "language": "python",
   "name": "python3"
  },
  "language_info": {
   "codemirror_mode": {
    "name": "ipython",
    "version": 3
   },
   "file_extension": ".py",
   "mimetype": "text/x-python",
   "name": "python",
   "nbconvert_exporter": "python",
   "pygments_lexer": "ipython3",
   "version": "3.8.6"
  }
 },
 "nbformat": 4,
 "nbformat_minor": 4
}
