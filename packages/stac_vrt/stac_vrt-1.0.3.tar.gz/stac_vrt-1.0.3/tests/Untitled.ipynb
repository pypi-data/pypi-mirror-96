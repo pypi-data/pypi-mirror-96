{
 "cells": [
  {
   "cell_type": "code",
   "execution_count": 23,
   "id": "quality-lexington",
   "metadata": {},
   "outputs": [],
   "source": [
    "import json"
   ]
  },
  {
   "cell_type": "code",
   "execution_count": 24,
   "id": "final-generation",
   "metadata": {},
   "outputs": [],
   "source": [
    "with open('response.json') as f:\n",
    "    response = json.load(f)"
   ]
  },
  {
   "cell_type": "code",
   "execution_count": 27,
   "id": "cathedral-software",
   "metadata": {},
   "outputs": [],
   "source": [
    "proj_epsg = 26917\n",
    "\n",
    "\n",
    "# TODO: remove when added to NAIP data\n",
    "res_x = res_y = 0.6\n",
    "\n",
    "# TODO: remove when added to NAIP data\n",
    "bboxes = [\n",
    "    [530802.0, 2979348.0, 537426.0, 2986692.0],\n",
    "    [524604.0, 2979336.0, 531222.0, 2986674.0],\n",
    "]\n",
    "\n",
    "# TODO: remove when added to NAIP data\n",
    "shapes = [\n",
    "    [12240, 11040],\n",
    "    [12230, 11030]\n",
    "]\n",
    "\n",
    "# TODO: Remove when added to STAC\n",
    "data_type = \"Byte\"\n",
    "\n",
    "# TODO: Remove when added to STAC\n",
    "block_width = 512\n",
    "block_height = 512\n",
    "\n",
    "transforms = [\n",
    "    (0.6, 0.0, 530802.0, 0.0, -0.6, 2986692.0, 0.0, 0.0, 1.0),\n",
    "    (0.6, 0.0, 524604.0, 0.0, -0.6, 2986674.0, 0.0, 0.0, 1.0),\n",
    "]"
   ]
  },
  {
   "cell_type": "code",
   "execution_count": 30,
   "id": "familiar-carry",
   "metadata": {},
   "outputs": [],
   "source": [
    "for i, feature in enumerate(response[\"features\"]):\n",
    "    feature[\"properties\"][\"proj:epsg\"] = proj_epsg\n",
    "    feature[\"properties\"][\"proj:shape\"] = shapes[i]\n",
    "    feature[\"properties\"][\"proj:transform\"] = transforms[i]"
   ]
  },
  {
   "cell_type": "code",
   "execution_count": 31,
   "id": "colored-adobe",
   "metadata": {},
   "outputs": [],
   "source": [
    "with open(\"response-fixed.json\", \"w\") as f:\n",
    "    json.dump(response, f)"
   ]
  },
  {
   "cell_type": "code",
   "execution_count": 34,
   "id": "chubby-order",
   "metadata": {},
   "outputs": [],
   "source": [
    "with open(\"response-fixed.json\") as f:\n",
    "    r = json.load(f)"
   ]
  },
  {
   "cell_type": "code",
   "execution_count": 51,
   "id": "prompt-circuit",
   "metadata": {},
   "outputs": [],
   "source": [
    "trn = r['features'][0]['properties']['proj:transform']"
   ]
  },
  {
   "cell_type": "code",
   "execution_count": 56,
   "id": "variable-information",
   "metadata": {},
   "outputs": [
    {
     "data": {
      "text/plain": [
       "Affine(0.6, 0.0, 530802.0,\n",
       "       0.0, -0.6, 2986692.0)"
      ]
     },
     "execution_count": 56,
     "metadata": {},
     "output_type": "execute_result"
    }
   ],
   "source": [
    "affine.Affine(*trn[:6])"
   ]
  },
  {
   "cell_type": "code",
   "execution_count": 50,
   "id": "stylish-compilation",
   "metadata": {},
   "outputs": [
    {
     "ename": "NameError",
     "evalue": "name 'trn' is not defined",
     "output_type": "error",
     "traceback": [
      "\u001b[0;31m---------------------------------------------------------------------------\u001b[0m",
      "\u001b[0;31mNameError\u001b[0m                                 Traceback (most recent call last)",
      "\u001b[0;32m<ipython-input-50-efbd27fbbba9>\u001b[0m in \u001b[0;36m<module>\u001b[0;34m\u001b[0m\n\u001b[0;32m----> 1\u001b[0;31m \u001b[0mlen\u001b[0m\u001b[0;34m(\u001b[0m\u001b[0mtrn\u001b[0m\u001b[0;34m)\u001b[0m\u001b[0;34m\u001b[0m\u001b[0;34m\u001b[0m\u001b[0m\n\u001b[0m",
      "\u001b[0;31mNameError\u001b[0m: name 'trn' is not defined"
     ]
    }
   ],
   "source": [
    "len(trn)"
   ]
  },
  {
   "cell_type": "code",
   "execution_count": 49,
   "id": "cooked-devil",
   "metadata": {},
   "outputs": [],
   "source": [
    "affine.Affine?"
   ]
  },
  {
   "cell_type": "code",
   "execution_count": null,
   "id": "commercial-center",
   "metadata": {},
   "outputs": [],
   "source": [
    "k\n",
    "['']"
   ]
  }
 ],
 "metadata": {
  "kernelspec": {
   "display_name": "Python 3",
   "language": "python",
   "name": "python3"
  },
  "language_info": {
   "codemirror_mode": {
    "name": "ipython",
    "version": 3
   },
   "file_extension": ".py",
   "mimetype": "text/x-python",
   "name": "python",
   "nbconvert_exporter": "python",
   "pygments_lexer": "ipython3",
   "version": "3.8.5"
  }
 },
 "nbformat": 4,
 "nbformat_minor": 5
}
