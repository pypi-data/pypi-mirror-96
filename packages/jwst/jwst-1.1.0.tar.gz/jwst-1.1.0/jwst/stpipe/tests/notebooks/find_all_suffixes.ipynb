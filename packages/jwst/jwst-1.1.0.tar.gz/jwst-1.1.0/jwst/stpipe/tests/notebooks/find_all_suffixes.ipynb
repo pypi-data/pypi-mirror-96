{
 "cells": [
  {
   "cell_type": "markdown",
   "metadata": {},
   "source": [
    "# Abstract"
   ]
  },
  {
   "cell_type": "markdown",
   "metadata": {},
   "source": [
    "Read through a folder, importing everything, to do some basic searching about."
   ]
  },
  {
   "cell_type": "markdown",
   "metadata": {},
   "source": [
    "# Environment"
   ]
  },
  {
   "cell_type": "code",
   "execution_count": null,
   "metadata": {},
   "outputs": [],
   "source": [
    "from copy import copy\n",
    "from importlib import import_module\n",
    "from inspect import (getmembers, isclass)\n",
    "import logging\n",
    "from os import (listdir, path, walk)\n",
    "import re\n",
    "import sys"
   ]
  },
  {
   "cell_type": "code",
   "execution_count": null,
   "metadata": {},
   "outputs": [],
   "source": [
    "from jwst.stpipe import Step"
   ]
  },
  {
   "cell_type": "code",
   "execution_count": null,
   "metadata": {},
   "outputs": [],
   "source": [
    "SUFFIXES_TO_DISCARD = set(('functionwrapper', 'systemcall'))"
   ]
  },
  {
   "cell_type": "code",
   "execution_count": null,
   "metadata": {},
   "outputs": [],
   "source": [
    "SUFFIXES_TO_ADD = set((\n",
    "    'cal', 'calints', 'crf', 'crfints',\n",
    "    'dark',\n",
    "    'i2d',\n",
    "    'jump',\n",
    "    'psfalign', 'psfstack', 'psfsub',\n",
    "    'ramp', 'rate', 'rateints',\n",
    "    's2d', 's3d',\n",
    "    'uncal',\n",
    "    'wfscmb',\n",
    "    'x1d', 'x1dints',\n",
    "))"
   ]
  },
  {
   "cell_type": "markdown",
   "metadata": {},
   "source": [
    "# Library"
   ]
  },
  {
   "cell_type": "code",
   "execution_count": null,
   "metadata": {},
   "outputs": [],
   "source": [
    "def folder_traverse(folder_path, basename_regex='.+', path_exclude_regex='^$'):\n",
    "    \"\"\"Generator of full file paths for all files\n",
    "    in a folder.\n",
    "    \n",
    "    Parameters\n",
    "    ----------\n",
    "    folder_path: str\n",
    "        The folder to traverse\n",
    "        \n",
    "    basename_regex: str\n",
    "        Regular expression that must match\n",
    "        the `basename` part of the file path.\n",
    "        \n",
    "    path_exclude_regex: str\n",
    "        Regular expression to exclude a path.\n",
    "        \n",
    "    Returns\n",
    "    -------\n",
    "    generator\n",
    "        A generator, return the next file.\n",
    "    \"\"\"\n",
    "    basename_regex = re.compile(basename_regex)\n",
    "    path_exclude_regex = re.compile(path_exclude_regex)\n",
    "    for root, dirs, files in walk(folder_path):\n",
    "        if path_exclude_regex.search(root):\n",
    "            continue\n",
    "        for file in files:\n",
    "            if basename_regex.match(file):\n",
    "                yield path.join(root, file)"
   ]
  },
  {
   "cell_type": "code",
   "execution_count": null,
   "metadata": {},
   "outputs": [],
   "source": [
    "def load_local_pkg(fpath):\n",
    "    \"\"\"Generator producing all modules under fpath\n",
    "    \"\"\"\n",
    "    package_fpath, package = path.split(fpath)\n",
    "    package_fpath_len = len(package_fpath) + 1\n",
    "    sys_path = copy(sys.path)\n",
    "    sys.path.insert(0, package_fpath)\n",
    "    try:\n",
    "        for module_fpath in folder_traverse(\n",
    "            fpath, basename_regex='[^_].+\\.py$', path_exclude_regex='tests'\n",
    "        ):\n",
    "            folder_path, fname = path.split(module_fpath[package_fpath_len:])\n",
    "            module_path = folder_path.split('/')\n",
    "            module_path.append(path.splitext(fname)[0])\n",
    "            module_path = '.'.join(module_path)\n",
    "            try:\n",
    "                module = import_module(module_path)\n",
    "            except Exception:\n",
    "                logging.warning('Cannot load module \"{}\"'.format(module_path))\n",
    "            else:\n",
    "                yield module\n",
    "    except Exception as exception:\n",
    "        logging.warning('Exception occurred: \"{}'.format(exception))\n",
    "    finally:\n",
    "        sys.path = sys_path"
   ]
  },
  {
   "cell_type": "code",
   "execution_count": null,
   "metadata": {},
   "outputs": [],
   "source": [
    "def find_suffixes():\n",
    "    \"\"\"Find all possible suffixes from the jwst package\n",
    "    \n",
    "    Returns\n",
    "    -------\n",
    "    suffixes: set\n",
    "        The set of all programmatically findable suffixes.\n",
    "        \n",
    "    Notes\n",
    "    -----\n",
    "    This will load all of the `jwst` package. Consider if this\n",
    "    is worth doing dynamically or only as a utility to update\n",
    "    a static list.\n",
    "    \"\"\"\n",
    "    suffixes = set()\n",
    "    \n",
    "    jwst = import_module('jwst')\n",
    "    jwst_fpath = path.split(jwst.__file__)[0]\n",
    "    \n",
    "    # First traverse the code base and find all\n",
    "    # `Step` classes. The default suffix is the\n",
    "    # class name.\n",
    "    for module in load_local_pkg(jwst_fpath):\n",
    "        for klass_name, klass in getmembers(\n",
    "            module,\n",
    "            lambda o: isclass(o) and issubclass(o, Step)\n",
    "        ):\n",
    "            suffixes.add(klass_name.lower())\n",
    "            \n",
    "    # Instantiate Steps/Pipelines from their configuration files.\n",
    "    # Different names and suffixes can be defined in this way.\n",
    "    # Note: Based on the `collect_pipeline_cfgs` script\n",
    "    config_path = path.join(jwst_fpath, 'pipeline') \n",
    "    for config_file in listdir(config_path):\n",
    "        if config_file.endswith('.cfg'):\n",
    "            try:\n",
    "                step = Step.from_config_file(path.join(config_path, config_file))\n",
    "            except Exception as exception:\n",
    "                pass\n",
    "            else:\n",
    "                suffixes.add(step.name.lower())\n",
    "                if step.suffix is not None:\n",
    "                    suffixes.add(step.suffix.lower())\n",
    "                    \n",
    "    # Discard known bad finds.\n",
    "    suffixes.difference_update(SUFFIXES_TO_DISCARD)\n",
    "    \n",
    "    # Add defined suffixes\n",
    "    suffixes.update(SUFFIXES_TO_ADD)\n",
    "                    \n",
    "    # That's all folks\n",
    "    return suffixes"
   ]
  },
  {
   "cell_type": "markdown",
   "metadata": {},
   "source": [
    "# Main"
   ]
  },
  {
   "cell_type": "code",
   "execution_count": null,
   "metadata": {},
   "outputs": [],
   "source": [
    "re.search('^$', '/Users/eisenham/Documents/ssbdev/jwst/jwst/associations/notebooks')"
   ]
  },
  {
   "cell_type": "code",
   "execution_count": null,
   "metadata": {},
   "outputs": [],
   "source": [
    "jwst = import_module('jwst')\n",
    "jwst.__file__"
   ]
  },
  {
   "cell_type": "markdown",
   "metadata": {},
   "source": [
    "## Setup the all-in-one function"
   ]
  },
  {
   "cell_type": "code",
   "execution_count": null,
   "metadata": {},
   "outputs": [],
   "source": [
    "suffixes_from_find = find_suffixes()"
   ]
  },
  {
   "cell_type": "code",
   "execution_count": null,
   "metadata": {},
   "outputs": [],
   "source": [
    "len(suffixes_from_find)"
   ]
  },
  {
   "cell_type": "code",
   "execution_count": null,
   "metadata": {
    "scrolled": true
   },
   "outputs": [],
   "source": [
    "suffixes_from_find"
   ]
  },
  {
   "cell_type": "markdown",
   "metadata": {},
   "source": [
    "## The piecemeal developement"
   ]
  },
  {
   "cell_type": "code",
   "execution_count": null,
   "metadata": {},
   "outputs": [],
   "source": [
    "package_location = '../../../../jwst'"
   ]
  },
  {
   "cell_type": "code",
   "execution_count": null,
   "metadata": {},
   "outputs": [],
   "source": [
    "%ls $package_location"
   ]
  },
  {
   "cell_type": "markdown",
   "metadata": {},
   "source": [
    "## Start collecting all possible suffixes"
   ]
  },
  {
   "cell_type": "code",
   "execution_count": null,
   "metadata": {},
   "outputs": [],
   "source": [
    "suffixes = set()"
   ]
  },
  {
   "cell_type": "markdown",
   "metadata": {},
   "source": [
    "## First, find all Step classes\n",
    "`Step` class names are the default suffix for any `Step`"
   ]
  },
  {
   "cell_type": "code",
   "execution_count": null,
   "metadata": {},
   "outputs": [],
   "source": [
    "modules = list(load_local_pkg(package_location))"
   ]
  },
  {
   "cell_type": "code",
   "execution_count": null,
   "metadata": {},
   "outputs": [],
   "source": [
    "step_klasses = set(\n",
    "    klass\n",
    "    for module in modules\n",
    "    for klass_name, klass in getmembers(module, lambda o: isclass(o) and issubclass(o, Step))\n",
    ")"
   ]
  },
  {
   "cell_type": "code",
   "execution_count": null,
   "metadata": {},
   "outputs": [],
   "source": [
    "step_klass_objs = []\n",
    "for klass in step_klasses:\n",
    "    try:\n",
    "        klass_obj = klass()\n",
    "    except Exception as exception:\n",
    "        logging.warning('Cannot instantiate {}'.format(klass))\n",
    "    else:\n",
    "        step_klass_objs.append(klass_obj)\n"
   ]
  },
  {
   "cell_type": "code",
   "execution_count": null,
   "metadata": {
    "scrolled": true
   },
   "outputs": [],
   "source": [
    "for step_klass_obj in step_klass_objs:\n",
    "    try:\n",
    "        name = step_klass_obj.name\n",
    "    except Exception as exception:\n",
    "        pass\n",
    "    else:\n",
    "        suffixes.add(name.lower())"
   ]
  },
  {
   "cell_type": "code",
   "execution_count": null,
   "metadata": {},
   "outputs": [],
   "source": [
    "len(suffixes)"
   ]
  },
  {
   "cell_type": "markdown",
   "metadata": {},
   "source": [
    "## Instantiate from config files\n",
    "`Step` and `Pipeline` can be instantiated from config files. These can define different names and suffixes. Collect what we can.\n",
    "\n",
    "_Note_: Based on `collect_cfgs` script where configuration files are only searched for in the `pipeline` module."
   ]
  },
  {
   "cell_type": "code",
   "execution_count": null,
   "metadata": {},
   "outputs": [],
   "source": [
    "config_path = path.join(package_location, 'pipeline')"
   ]
  },
  {
   "cell_type": "code",
   "execution_count": null,
   "metadata": {},
   "outputs": [],
   "source": [
    "for config_file in listdir(config_path):\n",
    "    if config_file.endswith('.cfg'):\n",
    "        try:\n",
    "            step = Step.from_config_file(path.join(config_path, config_file))\n",
    "        except Exception as exception:\n",
    "            logging.warning('Could not instantiate {}'.format(config_file))\n",
    "        else:\n",
    "            suffixes.add(step.name.lower())\n",
    "            if step.suffix is not None:\n",
    "                suffixes.add(step.suffix.lower())"
   ]
  },
  {
   "cell_type": "code",
   "execution_count": null,
   "metadata": {},
   "outputs": [],
   "source": [
    "len(suffixes)"
   ]
  },
  {
   "cell_type": "code",
   "execution_count": null,
   "metadata": {},
   "outputs": [],
   "source": [
    "suffixes_from_find.symmetric_difference(suffixes)"
   ]
  },
  {
   "cell_type": "code",
   "execution_count": null,
   "metadata": {},
   "outputs": [],
   "source": [
    "suffixes"
   ]
  },
  {
   "cell_type": "code",
   "execution_count": null,
   "metadata": {},
   "outputs": [],
   "source": []
  }
 ],
 "metadata": {
  "kernelspec": {
   "display_name": "Python 3",
   "language": "python",
   "name": "python3"
  },
  "language_info": {
   "codemirror_mode": {
    "name": "ipython",
    "version": 3
   },
   "file_extension": ".py",
   "mimetype": "text/x-python",
   "name": "python",
   "nbconvert_exporter": "python",
   "pygments_lexer": "ipython3",
   "version": "3.6.5"
  }
 },
 "nbformat": 4,
 "nbformat_minor": 2
}
