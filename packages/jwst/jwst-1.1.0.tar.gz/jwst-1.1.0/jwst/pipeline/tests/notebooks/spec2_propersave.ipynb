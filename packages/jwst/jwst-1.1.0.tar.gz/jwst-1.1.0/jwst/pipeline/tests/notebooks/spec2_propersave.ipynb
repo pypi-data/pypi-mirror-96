{
 "cells": [
  {
   "cell_type": "markdown",
   "metadata": {},
   "source": [
    "# Abstract"
   ]
  },
  {
   "cell_type": "markdown",
   "metadata": {},
   "source": [
    "Experiment with multiple result saving"
   ]
  },
  {
   "cell_type": "markdown",
   "metadata": {},
   "source": [
    "# Environment"
   ]
  },
  {
   "cell_type": "code",
   "execution_count": 1,
   "metadata": {},
   "outputs": [],
   "source": [
    "import pdb"
   ]
  },
  {
   "cell_type": "code",
   "execution_count": 2,
   "metadata": {},
   "outputs": [],
   "source": [
    "from jwst.associations.asn_from_list import asn_from_list\n",
    "from jwst.associations.lib.rules_level2_base import DMSLevel2bBase"
   ]
  },
  {
   "cell_type": "code",
   "execution_count": 3,
   "metadata": {},
   "outputs": [],
   "source": [
    "from jwst.pipeline import Spec2Pipeline"
   ]
  },
  {
   "cell_type": "code",
   "execution_count": 4,
   "metadata": {},
   "outputs": [],
   "source": [
    "expfile = '/Users/eisenham/Documents/ssbdev/testdata/pandokia/jwcalibdev/data4/jwst_test_data/pipelines/jw00035001001_01101_00001_mirimage_rate.fits'\n",
    "lv2_meta = {\n",
    "    'program': 'test',\n",
    "    'target': 'test',\n",
    "    'asn_pool': 'test',\n",
    "}"
   ]
  },
  {
   "cell_type": "markdown",
   "metadata": {},
   "source": [
    "# Library"
   ]
  },
  {
   "cell_type": "markdown",
   "metadata": {},
   "source": [
    "# Main"
   ]
  },
  {
   "cell_type": "code",
   "execution_count": 5,
   "metadata": {},
   "outputs": [
    {
     "name": "stdout",
     "output_type": "stream",
     "text": [
      "rm: *.fits: No such file or directory\n",
      "rm: *asn: No such file or directory\n",
      "rm: *.json: No such file or directory\n"
     ]
    }
   ],
   "source": [
    "%rm *.fits\n",
    "%rm *asn\n",
    "%rm *.json"
   ]
  },
  {
   "cell_type": "code",
   "execution_count": 6,
   "metadata": {},
   "outputs": [
    {
     "name": "stdout",
     "output_type": "stream",
     "text": [
      "asnheaders.ipynb         calwebb_spec2.cfg        spec2_propersave.ipynb\r\n",
      "calwebb_image2_save.cfg  image2_propersave.ipynb  spec3_propersave.ipynb\r\n"
     ]
    }
   ],
   "source": [
    "%ls"
   ]
  },
  {
   "cell_type": "code",
   "execution_count": 7,
   "metadata": {},
   "outputs": [],
   "source": [
    "asn = asn_from_list([expfile], rule=DMSLevel2bBase, meta=lv2_meta)\n",
    "asn['products'][0]['name'] = 'test1'\n",
    "asn_file, serialized = asn.dump()\n",
    "with open(asn_file, 'w') as fp:\n",
    "    fp.write(serialized)"
   ]
  },
  {
   "cell_type": "code",
   "execution_count": 8,
   "metadata": {
    "scrolled": true
   },
   "outputs": [
    {
     "name": "stderr",
     "output_type": "stream",
     "text": [
      "2018-05-05 17:53:08,075 - stpipe.Spec2Pipeline - INFO - Spec2Pipeline instance created.\n",
      "2018-05-05 17:53:08,077 - stpipe.Spec2Pipeline.bkg_subtract - INFO - BackgroundStep instance created.\n",
      "2018-05-05 17:53:08,079 - stpipe.Spec2Pipeline.assign_wcs - INFO - AssignWcsStep instance created.\n",
      "2018-05-05 17:53:08,081 - stpipe.Spec2Pipeline.imprint_subtract - INFO - ImprintStep instance created.\n",
      "2018-05-05 17:53:08,083 - stpipe.Spec2Pipeline.msa_flagging - INFO - MSAFlagOpenStep instance created.\n",
      "2018-05-05 17:53:08,086 - stpipe.Spec2Pipeline.extract_2d - INFO - Extract2dStep instance created.\n",
      "2018-05-05 17:53:08,088 - stpipe.Spec2Pipeline.flat_field - INFO - FlatFieldStep instance created.\n",
      "2018-05-05 17:53:08,090 - stpipe.Spec2Pipeline.srctype - INFO - SourceTypeStep instance created.\n",
      "2018-05-05 17:53:08,093 - stpipe.Spec2Pipeline.straylight - INFO - StraylightStep instance created.\n",
      "2018-05-05 17:53:08,095 - stpipe.Spec2Pipeline.fringe - INFO - FringeStep instance created.\n",
      "2018-05-05 17:53:08,098 - stpipe.Spec2Pipeline.pathloss - INFO - PathLossStep instance created.\n",
      "2018-05-05 17:53:08,100 - stpipe.Spec2Pipeline.barshadow - INFO - BarShadowStep instance created.\n",
      "2018-05-05 17:53:08,104 - stpipe.Spec2Pipeline.photom - INFO - PhotomStep instance created.\n",
      "2018-05-05 17:53:08,106 - stpipe.Spec2Pipeline.resample_spec - INFO - ResampleSpecStep instance created.\n",
      "2018-05-05 17:53:08,109 - stpipe.Spec2Pipeline.cube_build - INFO - CubeBuildStep instance created.\n",
      "2018-05-05 17:53:08,111 - stpipe.Spec2Pipeline.extract_1d - INFO - Extract1dStep instance created.\n",
      "2018-05-05 17:53:08,128 - stpipe.Spec2Pipeline - INFO - Spec2Pipeline instance created.\n",
      "2018-05-05 17:53:08,130 - stpipe.Spec2Pipeline.bkg_subtract - INFO - BackgroundStep instance created.\n",
      "2018-05-05 17:53:08,131 - stpipe.Spec2Pipeline.assign_wcs - INFO - AssignWcsStep instance created.\n",
      "2018-05-05 17:53:08,134 - stpipe.Spec2Pipeline.imprint_subtract - INFO - ImprintStep instance created.\n",
      "2018-05-05 17:53:08,136 - stpipe.Spec2Pipeline.msa_flagging - INFO - MSAFlagOpenStep instance created.\n",
      "2018-05-05 17:53:08,137 - stpipe.Spec2Pipeline.extract_2d - INFO - Extract2dStep instance created.\n",
      "2018-05-05 17:53:08,139 - stpipe.Spec2Pipeline.flat_field - INFO - FlatFieldStep instance created.\n",
      "2018-05-05 17:53:08,141 - stpipe.Spec2Pipeline.srctype - INFO - SourceTypeStep instance created.\n",
      "2018-05-05 17:53:08,143 - stpipe.Spec2Pipeline.straylight - INFO - StraylightStep instance created.\n",
      "2018-05-05 17:53:08,146 - stpipe.Spec2Pipeline.fringe - INFO - FringeStep instance created.\n",
      "2018-05-05 17:53:08,148 - stpipe.Spec2Pipeline.pathloss - INFO - PathLossStep instance created.\n",
      "2018-05-05 17:53:08,149 - stpipe.Spec2Pipeline.barshadow - INFO - BarShadowStep instance created.\n",
      "2018-05-05 17:53:08,151 - stpipe.Spec2Pipeline.photom - INFO - PhotomStep instance created.\n",
      "2018-05-05 17:53:08,153 - stpipe.Spec2Pipeline.resample_spec - INFO - ResampleSpecStep instance created.\n",
      "2018-05-05 17:53:08,156 - stpipe.Spec2Pipeline.cube_build - INFO - CubeBuildStep instance created.\n",
      "2018-05-05 17:53:08,158 - stpipe.Spec2Pipeline.extract_1d - INFO - Extract1dStep instance created.\n",
      "2018-05-05 17:53:08,213 - stpipe.Spec2Pipeline - INFO - Step Spec2Pipeline running with args ('jwtest-o999_none_002_asn',).\n",
      "2018-05-05 17:53:08,462 - stpipe.Spec2Pipeline - INFO - Prefetching reference files for dataset: 'jw00035001001_01101_00001_mirimage_rate.fits' reftypes = ['area', 'barshadow', 'camera', 'collimator', 'cubepar', 'dflat', 'disperser', 'distortion', 'drizpars', 'extract1d', 'fflat', 'filteroffset', 'flat', 'fore', 'fpa', 'fringe', 'ifufore', 'ifupost', 'ifuslicer', 'msa', 'msaoper', 'ote', 'pathloss', 'photom', 'regions', 'resol', 'sflat', 'specwcs', 'straymask', 'wavecorr', 'wavelengthrange', 'wfssbkg']\n",
      "2018-05-05 17:53:08,774 - stpipe.Spec2Pipeline - INFO - Prefetch for AREA reference file is 'N/A'.\n",
      "2018-05-05 17:53:08,774 - stpipe.Spec2Pipeline - INFO - Prefetch for BARSHADOW reference file is 'N/A'.\n",
      "2018-05-05 17:53:08,775 - stpipe.Spec2Pipeline - INFO - Prefetch for CAMERA reference file is 'N/A'.\n",
      "2018-05-05 17:53:08,776 - stpipe.Spec2Pipeline - INFO - Prefetch for COLLIMATOR reference file is 'N/A'.\n",
      "2018-05-05 17:53:08,778 - stpipe.Spec2Pipeline - INFO - Prefetch for CUBEPAR reference file is 'N/A'.\n",
      "2018-05-05 17:53:08,779 - stpipe.Spec2Pipeline - INFO - Prefetch for DFLAT reference file is 'N/A'.\n",
      "2018-05-05 17:53:08,779 - stpipe.Spec2Pipeline - INFO - Prefetch for DISPERSER reference file is 'N/A'.\n",
      "2018-05-05 17:53:08,780 - stpipe.Spec2Pipeline - INFO - Prefetch for DISTORTION reference file is '/Users/eisenham/Documents/ssbdev/testdata/crds-cache/references/jwst/miri/jwst_miri_distortion_0023.asdf'.\n",
      "2018-05-05 17:53:08,782 - stpipe.Spec2Pipeline - INFO - Prefetch for DRIZPARS reference file is '/Users/eisenham/Documents/ssbdev/testdata/crds-cache/references/jwst/miri/jwst_miri_drizpars_0001.fits'.\n",
      "2018-05-05 17:53:08,783 - stpipe.Spec2Pipeline - INFO - Prefetch for EXTRACT1D reference file is '/Users/eisenham/Documents/ssbdev/testdata/crds-cache/references/jwst/miri/jwst_miri_extract1d_0004.json'.\n",
      "2018-05-05 17:53:08,784 - stpipe.Spec2Pipeline - INFO - Prefetch for FFLAT reference file is 'N/A'.\n",
      "2018-05-05 17:53:08,785 - stpipe.Spec2Pipeline - INFO - Prefetch for FILTEROFFSET reference file is 'N/A'.\n",
      "2018-05-05 17:53:08,786 - stpipe.Spec2Pipeline - INFO - Prefetch for FLAT reference file is '/Users/eisenham/Documents/ssbdev/testdata/crds-cache/references/jwst/miri/jwst_miri_flat_0244.fits'.\n",
      "2018-05-05 17:53:08,787 - stpipe.Spec2Pipeline - INFO - Prefetch for FORE reference file is 'N/A'.\n",
      "2018-05-05 17:53:08,788 - stpipe.Spec2Pipeline - INFO - Prefetch for FPA reference file is 'N/A'.\n",
      "2018-05-05 17:53:08,789 - stpipe.Spec2Pipeline - INFO - Prefetch for FRINGE reference file is 'N/A'.\n",
      "2018-05-05 17:53:08,789 - stpipe.Spec2Pipeline - INFO - Prefetch for IFUFORE reference file is 'N/A'.\n",
      "2018-05-05 17:53:08,790 - stpipe.Spec2Pipeline - INFO - Prefetch for IFUPOST reference file is 'N/A'.\n",
      "2018-05-05 17:53:08,791 - stpipe.Spec2Pipeline - INFO - Prefetch for IFUSLICER reference file is 'N/A'.\n",
      "2018-05-05 17:53:08,792 - stpipe.Spec2Pipeline - INFO - Prefetch for MSA reference file is 'N/A'.\n",
      "2018-05-05 17:53:08,793 - stpipe.Spec2Pipeline - INFO - Prefetch for MSAOPER reference file is 'N/A'.\n",
      "2018-05-05 17:53:08,794 - stpipe.Spec2Pipeline - INFO - Prefetch for OTE reference file is 'N/A'.\n",
      "2018-05-05 17:53:08,796 - stpipe.Spec2Pipeline - INFO - Prefetch for PATHLOSS reference file is 'N/A'.\n",
      "2018-05-05 17:53:08,797 - stpipe.Spec2Pipeline - INFO - Prefetch for PHOTOM reference file is '/Users/eisenham/Documents/ssbdev/testdata/crds-cache/references/jwst/miri/jwst_miri_photom_0014.fits'.\n",
      "2018-05-05 17:53:08,799 - stpipe.Spec2Pipeline - INFO - Prefetch for REGIONS reference file is 'N/A'.\n",
      "2018-05-05 17:53:08,800 - stpipe.Spec2Pipeline - INFO - Prefetch for RESOL reference file is 'N/A'.\n",
      "2018-05-05 17:53:08,801 - stpipe.Spec2Pipeline - INFO - Prefetch for SFLAT reference file is 'N/A'.\n",
      "2018-05-05 17:53:08,802 - stpipe.Spec2Pipeline - INFO - Prefetch for SPECWCS reference file is '/Users/eisenham/Documents/ssbdev/testdata/crds-cache/references/jwst/miri/jwst_miri_specwcs_0001.fits'.\n",
      "2018-05-05 17:53:08,804 - stpipe.Spec2Pipeline - INFO - Prefetch for STRAYMASK reference file is 'N/A'.\n",
      "2018-05-05 17:53:08,805 - stpipe.Spec2Pipeline - INFO - Prefetch for WAVECORR reference file is 'N/A'.\n",
      "2018-05-05 17:53:08,806 - stpipe.Spec2Pipeline - INFO - Prefetch for WAVELENGTHRANGE reference file is 'N/A'.\n",
      "2018-05-05 17:53:08,807 - stpipe.Spec2Pipeline - INFO - Prefetch for WFSSBKG reference file is 'N/A'.\n",
      "2018-05-05 17:53:08,807 - stpipe.Spec2Pipeline - INFO - Starting calwebb_spec2 ...\n",
      "2018-05-05 17:53:08,814 - stpipe.Spec2Pipeline - INFO - Processing product test1\n",
      "2018-05-05 17:53:08,815 - stpipe.Spec2Pipeline - INFO - Working on input /Users/eisenham/Documents/ssbdev/testdata/pandokia/jwcalibdev/data4/jwst_test_data/pipelines/jw00035001001_01101_00001_mirimage_rate.fits ...\n",
      "2018-05-05 17:53:09,062 - stpipe.Spec2Pipeline.assign_wcs - INFO - Step assign_wcs running with args (<ImageModel(1024, 1032) from jw00035001001_01101_00001_mirimage_rate.fits>,).\n",
      "2018-05-05 17:53:10,228 - stpipe.Spec2Pipeline.assign_wcs - WARNING - /Users/eisenham/Documents/ssbdev/jwst/jwst/assign_wcs/util.py:559: RuntimeWarning: invalid value encountered in less\n",
      "  negative_ind = footprint[0] < 0\n",
      "\n"
     ]
    },
    {
     "name": "stderr",
     "output_type": "stream",
     "text": [
      "2018-05-05 17:53:10,229 - stpipe.Spec2Pipeline.assign_wcs - INFO - There are NaNs in s_region\n",
      "2018-05-05 17:53:10,230 - stpipe.Spec2Pipeline.assign_wcs - INFO - COMPLETED assign_wcs\n",
      "2018-05-05 17:53:10,242 - stpipe.Spec2Pipeline.assign_wcs - INFO - Step assign_wcs done\n",
      "2018-05-05 17:53:10,317 - stpipe.Spec2Pipeline.flat_field - INFO - Step flat_field running with args (<ImageModel(1024, 1032) from jw00035001001_01101_00001_mirimage_rate.fits>,).\n",
      "2018-05-05 17:53:10,502 - stpipe.Spec2Pipeline.flat_field - WARNING - Keyword CDP_PARTIAL_DATA does not correspond to an existing DQ mnemonic, so will be ignored\n",
      "2018-05-05 17:53:10,503 - stpipe.Spec2Pipeline.flat_field - WARNING - Keyword CDP_LOW_QUAL does not correspond to an existing DQ mnemonic, so will be ignored\n",
      "2018-05-05 17:53:10,503 - stpipe.Spec2Pipeline.flat_field - WARNING - Keyword CDP_UNRELIABLE_ERROR does not correspond to an existing DQ mnemonic, so will be ignored\n",
      "2018-05-05 17:53:10,509 - stpipe.Spec2Pipeline.flat_field - WARNING - Keyword DIFF_PATTERN does not correspond to an existing DQ mnemonic, so will be ignored\n",
      "2018-05-05 17:53:10,718 - stpipe.Spec2Pipeline.flat_field - INFO - Step flat_field done\n",
      "2018-05-05 17:53:10,786 - stpipe.Spec2Pipeline.srctype - INFO - Step srctype running with args (<ImageModel(1024, 1032) from jw00035001001_01101_00001_mirimage_rate.fits>,).\n",
      "2018-05-05 17:53:10,820 - stpipe.Spec2Pipeline.srctype - INFO - Input EXP_TYPE is MIR_LRS-FIXEDSLIT\n",
      "2018-05-05 17:53:10,820 - stpipe.Spec2Pipeline.srctype - INFO - Input SRCTYPE is unknown. Setting to default value of POINT\n",
      "2018-05-05 17:53:10,824 - stpipe.Spec2Pipeline.srctype - INFO - Step srctype done\n",
      "2018-05-05 17:53:10,884 - stpipe.Spec2Pipeline.photom - INFO - Step photom running with args (<ImageModel(1024, 1032) from jw00035001001_01101_00001_mirimage_rate.fits>,).\n",
      "2018-05-05 17:53:10,913 - stpipe.Spec2Pipeline.photom - INFO - Using photom reference file: /Users/eisenham/Documents/ssbdev/testdata/crds-cache/references/jwst/miri/jwst_miri_photom_0014.fits\n",
      "2018-05-05 17:53:10,918 - stpipe.Spec2Pipeline.photom - INFO - Using area reference file: N/A\n",
      "2018-05-05 17:53:10,919 - stpipe.Spec2Pipeline.photom - INFO - Using instrument: MIRI\n",
      "2018-05-05 17:53:10,921 - stpipe.Spec2Pipeline.photom - INFO -  detector: MIRIMAGE\n",
      "2018-05-05 17:53:10,921 - stpipe.Spec2Pipeline.photom - INFO -  exp_type: MIR_LRS-FIXEDSLIT\n",
      "2018-05-05 17:53:10,922 - stpipe.Spec2Pipeline.photom - INFO -  filter: P750L\n",
      "2018-05-05 17:53:10,990 - stpipe.Spec2Pipeline.photom - INFO -  subarray: FULL\n",
      "2018-05-05 17:53:10,993 - stpipe.Spec2Pipeline.photom - INFO - PHOTMJSR value: 1\n",
      "2018-05-05 17:53:10,998 - stpipe.Spec2Pipeline.photom - INFO - Storing relative response table\n",
      "2018-05-05 17:53:11,003 - stpipe.Spec2Pipeline.photom - INFO - Step photom done\n",
      "2018-05-05 17:53:11,057 - stpipe.Spec2Pipeline.extract_1d - INFO - Step extract_1d running with args (<ImageModel(1024, 1032) from jw00035001001_01101_00001_mirimage_rate.fits>,).\n",
      "2018-05-05 17:53:11,089 - stpipe.Spec2Pipeline.extract_1d - INFO - Using EXTRACT1D reference file /Users/eisenham/Documents/ssbdev/testdata/crds-cache/references/jwst/miri/jwst_miri_extract1d_0004.json\n",
      "2018-05-05 17:53:11,132 - stpipe.Spec2Pipeline.extract_1d - WARNING - /Users/eisenham/Documents/ssbdev/jwst/jwst/datamodels/util.py:434: ValidationWarning: None is not of type 'boolean'\n",
      "\n",
      "Failed validating 'type' in schema['properties']['meta']['properties']['observation']['properties']['bkgdtarg']:\n",
      "    OrderedDict([('title', 'Background target'),\n",
      "                 ('type', 'boolean'),\n",
      "                 ('fits_keyword', 'BKGDTARG'),\n",
      "                 ('blend_table', True)])\n",
      "\n",
      "On instance['meta']['observation']['bkgdtarg']:\n",
      "    None\n",
      "  warnings.warn(str(errmsg), ValidationWarning)\n",
      "\n",
      "2018-05-05 17:53:11,134 - stpipe.Spec2Pipeline.extract_1d - WARNING - spectral_order is None; using 1\n",
      "2018-05-05 17:53:11,176 - stpipe.Spec2Pipeline.extract_1d - WARNING - WCS implies the target is outside the bounding box, so we can't get target location using the WCS.\n",
      "2018-05-05 17:53:11,197 - stpipe.Spec2Pipeline.extract_1d - WARNING - 1 NaNs in wavelength array\n",
      "2018-05-05 17:53:11,268 - stpipe.Spec2Pipeline.extract_1d - INFO - Output arrays have been trimmed by 1 elements\n",
      "2018-05-05 17:53:11,270 - stpipe.Spec2Pipeline.extract_1d - WARNING - Using RELSENS, 387 elements were extrapolated; these values will be set to 1.\n",
      "2018-05-05 17:53:11,518 - stpipe.Spec2Pipeline.extract_1d - INFO - Saved model in test1_x1d.fits\n",
      "2018-05-05 17:53:11,519 - stpipe.Spec2Pipeline.extract_1d - INFO - Step extract_1d done\n",
      "2018-05-05 17:53:11,520 - stpipe.Spec2Pipeline - INFO - Finished processing product test1\n",
      "2018-05-05 17:53:11,825 - stpipe.Spec2Pipeline - INFO - Saved model in jw00035001001_01101_00001_mirimage_cal.fits\n",
      "2018-05-05 17:53:11,905 - stpipe.Spec2Pipeline - INFO - Ending calwebb_spec2\n",
      "2018-05-05 17:53:11,907 - stpipe.Spec2Pipeline - INFO - Step Spec2Pipeline done\n"
     ]
    }
   ],
   "source": [
    "pipe = Spec2Pipeline()\n",
    "pipe.call(asn_file, config_file='calwebb_spec2.cfg')"
   ]
  },
  {
   "cell_type": "code",
   "execution_count": null,
   "metadata": {
    "scrolled": false
   },
   "outputs": [],
   "source": [
    "%ls"
   ]
  },
  {
   "cell_type": "code",
   "execution_count": null,
   "metadata": {
    "collapsed": true,
    "scrolled": false
   },
   "outputs": [],
   "source": [
    "pipe = Spec2Pipeline()\n",
    "pdb.run('pipe.call(asn_file, config_file=\"calwebb_spec2.cfg\")')"
   ]
  },
  {
   "cell_type": "code",
   "execution_count": null,
   "metadata": {
    "collapsed": true
   },
   "outputs": [],
   "source": []
  }
 ],
 "metadata": {
  "kernelspec": {
   "display_name": "Python 3",
   "language": "python",
   "name": "python3"
  },
  "language_info": {
   "codemirror_mode": {
    "name": "ipython",
    "version": 3
   },
   "file_extension": ".py",
   "mimetype": "text/x-python",
   "name": "python",
   "nbconvert_exporter": "python",
   "pygments_lexer": "ipython3",
   "version": "3.6.5"
  }
 },
 "nbformat": 4,
 "nbformat_minor": 2
}
