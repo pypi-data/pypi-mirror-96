{
 "cells": [
  {
   "cell_type": "code",
   "execution_count": 1,
   "metadata": {},
   "outputs": [],
   "source": [
    "import itertools\n",
    "\n",
    "from tests.tools.data_load import FakeData, load_data_as_text, load_data_as_bytes\n",
    "from tests.tools.validators import CBIReferenceModelValidator\n",
    "\n",
    "from ribalta import Document, Receipt\n",
    "from ribalta.riba import ReceiptGroup"
   ]
  },
  {
   "cell_type": "code",
   "execution_count": 2,
   "metadata": {},
   "outputs": [],
   "source": [
    "# Build the validation object\n",
    "validator = CBIReferenceModelValidator.build_from_reference_model('riba_ok')"
   ]
  },
  {
   "cell_type": "code",
   "execution_count": 3,
   "metadata": {},
   "outputs": [],
   "source": [
    "# Read data from json\n",
    "test_data = FakeData.build_from_test_data('riba_collapsible_ok')"
   ]
  },
  {
   "cell_type": "code",
   "execution_count": 4,
   "metadata": {},
   "outputs": [],
   "source": [
    "# Build the CBI document object: use the test data\n",
    "# to perform the same steps of the real building process\n",
    "riba_doc = Document(**test_data.head)\n",
    "for rcpt in test_data.receipts:\n",
    "    riba_doc.add_receipt(Receipt(**rcpt))\n",
    "# end for"
   ]
  },
  {
   "cell_type": "code",
   "execution_count": null,
   "metadata": {},
   "outputs": [],
   "source": []
  },
  {
   "cell_type": "code",
   "execution_count": 5,
   "metadata": {},
   "outputs": [],
   "source": [
    "# Render the cbi_doc as string\n",
    "cbi_doc = riba_doc.render_cbi()"
   ]
  },
  {
   "cell_type": "code",
   "execution_count": 6,
   "metadata": {},
   "outputs": [
    {
     "name": "stdout",
     "output_type": "stream",
     "text": [
      " IBF800708982011220011220160201F8007                                                                             E      \r\n",
      " 140000001            211220300000000000080000-08982626802222444466660501812101            F80074                      E\r\n",
      " 200000001My Company              via Altinate, 108       35121                                                         \r\n",
      " 300000001Kissa Komics S.R.L.                                         04483400281                                       \r\n",
      " 400000001Via Morgagni 30A              35121Padova PD                Banca Etica                                       \r\n",
      " 500000001PER LA FATTURA N. FATT/2020/0150 DEL 21/09/2020 IMP 800.0                                 04218940155         \r\n",
      " 5100000010000000001My Company                                                                                          \r\n",
      " 700000001                                                                                                              \r\n",
      " 140000002            301220300000000000080000-08982626802222444466660103012157            F80074                      E\r\n",
      " 200000002My Company              via Altinate, 108       35121                                                         \r\n",
      " 300000002BETTIN PIANOFORTI DI BETTIN ALBERTO & C. S.A.S.             00415620285                                       \r\n",
      " 400000002VIA DANTE 86                  35139Padova PD                Banca Montepaschi                                 \r\n",
      " 500000002PER LA FATTURA N. FATT/2020/0189 DEL 08/10/2020 IMP 800.0                                 04218940155         \r\n",
      " 5100000020000000002My Company                                                                                          \r\n",
      " 700000002                                                                                                              \r\n",
      " 140000003            210920300000000000003660-08982626802222444466660501812101            F80074                      E\r\n",
      " 200000003My Company              via Altinate, 108       35121                                                         \r\n",
      " 300000003Kissa Komics S.R.L.                                         04483400281                                       \r\n",
      " 400000003Via Morgagni 30A              35121Padova PD                Banca Etica                                       \r\n",
      " 500000003PER LA FATTURA N. FATT/2020/0069 DEL 21/08/2020 IMP 36.6                                  04218940155         \r\n",
      " 5100000030000000003My Company                                                                                          \r\n",
      " 700000003                                                                                                              \r\n",
      " 140000004            211120300000000000004270-08982626802222444466660501812101            F80074                      E\r\n",
      " 200000004My Company              via Altinate, 108       35121                                                         \r\n",
      " 300000004Kissa Komics S.R.L.                                         04483400281                                       \r\n",
      " 400000004Via Morgagni 30A              35121Padova PD                Banca Etica                                       \r\n",
      " 500000004PER LA FATTURA N. FATT/2020/0069 DEL 21/08/2020 IMP 42.7                                  04218940155         \r\n",
      " 5100000040000000004My Company                                                                                          \r\n",
      " 700000004                                                                                                              \r\n",
      " 140000005            211220300000000000004270-08982626802222444466660501812101            F80074                      E\r\n",
      " 200000005My Company              via Altinate, 108       35121                                                         \r\n",
      " 300000005Kissa Komics S.R.L.                                         04483400281                                       \r\n",
      " 400000005Via Morgagni 30A              35121Padova PD                Banca Etica                                       \r\n",
      " 500000005PER LA FATTURA N. FATT/2020/0069 DEL 21/08/2020 IMP 42.7                                  04218940155         \r\n",
      " 5100000050000000005My Company                                                                                          \r\n",
      " 700000005                                                                                                              \r\n",
      " 140000006            211120300000000000080000-08982626802222444466660501812101            F80074                      E\r\n",
      " 200000006My Company              via Altinate, 108       35121                                                         \r\n",
      " 300000006Kissa Komics S.R.L.                                         04483400281                                       \r\n",
      " 400000006Via Morgagni 30A              35121Padova PD                Banca Etica                                       \r\n",
      " 500000006PER LA FATTURA N. FATT/2020/0150 DEL 21/09/2020 IMP 800.0                                 04218940155         \r\n",
      " 5100000060000000006My Company                                                                                          \r\n",
      " 700000006                                                                                                              \r\n",
      " 140000007            300121300000000000009950-08982626802222444466660103012157            F80074                      E\r\n",
      " 200000007My Company              via Altinate, 108       35121                                                         \r\n",
      " 300000007BETTIN PIANOFORTI DI BETTIN ALBERTO & C. S.A.S.             00415620285                                       \r\n",
      " 400000007VIA DANTE 86                  35139Padova PD                Banca Montepaschi                                 \r\n",
      " 500000007PER LA FATTURA N. FATT/2020/0189 DEL 08/10/2020 IMP 99.5                                  04218940155         \r\n",
      " 5100000070000000007My Company                                                                                          \r\n",
      " 700000007                                                                                                              \r\n",
      " 140000008            301120300000000000280000-08982626802222444466660103012157            F80074                      E\r\n",
      " 200000008My Company              via Altinate, 108       35121                                                         \r\n",
      " 300000008BETTIN PIANOFORTI DI BETTIN ALBERTO & C. S.A.S.             00415620285                                       \r\n",
      " 400000008VIA DANTE 86                  35139Padova PD                Banca Montepaschi                                 \r\n",
      " 500000008PER LA FATTURA N. FATT/2020/0186 DEL 28/09/2020 IMP 2800                                  04218940155         \r\n",
      " 5100000080000000008My Company                                                                                          \r\n",
      " 700000008                                                                                                              \r\n",
      " 140000009            301120300000000000080000-08982626802222444466660103012157            F80074                      E\r\n",
      " 200000009My Company              via Altinate, 108       35121                                                         \r\n",
      " 300000009BETTIN PIANOFORTI DI BETTIN ALBERTO & C. S.A.S.             00415620285                                       \r\n",
      " 400000009VIA DANTE 86                  35139Padova PD                Banca Montepaschi                                 \r\n",
      " 500000009PER LA FATTURA N. FATT/2020/0189 DEL 08/10/2020 IMP 800.0                                 04218940155         \r\n",
      " 5100000090000000009My Company                                                                                          \r\n",
      " 700000009                                                                                                              \r\n",
      " 140000010            301120300000000000160000-08982626802222444466660501812101            F80074                      E\r\n",
      " 200000010My Company              via Altinate, 108       35121                                                         \r\n",
      " 300000010Kissa Komics S.R.L.                                         04483400281                                       \r\n",
      " 400000010Via Morgagni 30A              35121Padova PD                Banca Etica                                       \r\n",
      " 500000010PER LA FATTURA N. FATT/2020/0030 DEL 02/04/2020 IMP 1600.0                                04218940155         \r\n",
      " 5100000100000000010My Company                                                                                          \r\n",
      " 700000010                                                                                                              \r\n",
      " 140000011            301120300000000000027000-08982626802222444466660103012157            F80074                      E\r\n",
      " 200000011My Company              via Altinate, 108       35121                                                         \r\n",
      " 300000011BETTIN PIANOFORTI DI BETTIN ALBERTO & C. S.A.S.             00415620285                                       \r\n",
      " 400000011VIA DANTE 86                  35139Padova PD                Banca Montepaschi                                 \r\n",
      " 500000011PER LA FATTURA N. FATT/2020/0032 DEL 28/10/2020 IMP 270.0                                 04218940155         \r\n",
      " 5100000110000000011My Company                                                                                          \r\n",
      " 700000011                                                                                                              \r\n",
      " EFF800708982011220011220160201F8007         00000110000000008091500000000000000000000079                        E      \r\n",
      "\n"
     ]
    }
   ],
   "source": [
    "print(cbi_doc)"
   ]
  },
  {
   "cell_type": "code",
   "execution_count": null,
   "metadata": {},
   "outputs": [],
   "source": []
  },
  {
   "cell_type": "code",
   "execution_count": 11,
   "metadata": {},
   "outputs": [],
   "source": [
    "# Render the cbi_doc as string\n",
    "cbi_doc_gouped = riba_doc.render_cbi(group=True)"
   ]
  },
  {
   "cell_type": "code",
   "execution_count": 12,
   "metadata": {},
   "outputs": [
    {
     "name": "stdout",
     "output_type": "stream",
     "text": [
      " IBF800708982011220011220160201F8007                                                                             E      \r\n",
      " 140000001            210920300000000000003660-08982626802222444466660501812101            F80074                      E\r\n",
      " 200000001My Company              via Altinate, 108       35121                                                         \r\n",
      " 300000001Kissa Komics S.R.L.                                         04483400281                                       \r\n",
      " 400000001Via Morgagni 30A              35121Padova PD                Banca Etica                                       \r\n",
      " 500000001PER LA FATTURA N. FATT/2020/0069 DEL 21/08/2020 IMP 36.6                                  04218940155         \r\n",
      " 5100000010000000001My Company                                                                                          \r\n",
      " 700000001                                                                                                              \r\n",
      " 140000002            211120300000000000084270-08982626802222444466660501812101            F80074                      E\r\n",
      " 200000002My Company              via Altinate, 108       35121                                                         \r\n",
      " 300000002Kissa Komics S.R.L.                                         04483400281                                       \r\n",
      " 400000002Via Morgagni 30A              35121Padova PD                Banca Etica                                       \r\n",
      " 500000002Fatt: FATT/2020/0069 42.70, FATT/2020/0150 800.00                                         04218940155         \r\n",
      " 5100000020000000002My Company                                                                                          \r\n",
      " 700000002                                                                                                              \r\n",
      " 140000003            301120300000000000160000-08982626802222444466660501812101            F80074                      E\r\n",
      " 200000003My Company              via Altinate, 108       35121                                                         \r\n",
      " 300000003Kissa Komics S.R.L.                                         04483400281                                       \r\n",
      " 400000003Via Morgagni 30A              35121Padova PD                Banca Etica                                       \r\n",
      " 500000003PER LA FATTURA N. FATT/2020/0030 DEL 02/04/2020 IMP 1600.0                                04218940155         \r\n",
      " 5100000030000000003My Company                                                                                          \r\n",
      " 700000003                                                                                                              \r\n",
      " 140000004            211220300000000000084270-08982626802222444466660501812101            F80074                      E\r\n",
      " 200000004My Company              via Altinate, 108       35121                                                         \r\n",
      " 300000004Kissa Komics S.R.L.                                         04483400281                                       \r\n",
      " 400000004Via Morgagni 30A              35121Padova PD                Banca Etica                                       \r\n",
      " 500000004Fatt: FATT/2020/0150 800.00, FATT/2020/0069 42.70                                         04218940155         \r\n",
      " 5100000040000000004My Company                                                                                          \r\n",
      " 700000004                                                                                                              \r\n",
      " 140000005            301120300000000000387000-08982626802222444466660103012157            F80074                      E\r\n",
      " 200000005My Company              via Altinate, 108       35121                                                         \r\n",
      " 300000005BETTIN PIANOFORTI DI BETTIN ALBERTO & C. S.A.S.             00415620285                                       \r\n",
      " 400000005VIA DANTE 86                  35139Padova PD                Banca Montepaschi                                 \r\n",
      " 500000005Fatt: FATT/2020/0186 2800.00, FATT/2020/0189 800.00, FATT/2020/0032 270.00                04218940155         \r\n",
      " 5100000050000000005My Company                                                                                          \r\n",
      " 700000005                                                                                                              \r\n",
      " 140000006            301220300000000000080000-08982626802222444466660103012157            F80074                      E\r\n",
      " 200000006My Company              via Altinate, 108       35121                                                         \r\n",
      " 300000006BETTIN PIANOFORTI DI BETTIN ALBERTO & C. S.A.S.             00415620285                                       \r\n",
      " 400000006VIA DANTE 86                  35139Padova PD                Banca Montepaschi                                 \r\n",
      " 500000006PER LA FATTURA N. FATT/2020/0189 DEL 08/10/2020 IMP 800.0                                 04218940155         \r\n",
      " 5100000060000000006My Company                                                                                          \r\n",
      " 700000006                                                                                                              \r\n",
      " 140000007            300121300000000000009950-08982626802222444466660103012157            F80074                      E\r\n",
      " 200000007My Company              via Altinate, 108       35121                                                         \r\n",
      " 300000007BETTIN PIANOFORTI DI BETTIN ALBERTO & C. S.A.S.             00415620285                                       \r\n",
      " 400000007VIA DANTE 86                  35139Padova PD                Banca Montepaschi                                 \r\n",
      " 500000007PER LA FATTURA N. FATT/2020/0189 DEL 08/10/2020 IMP 99.5                                  04218940155         \r\n",
      " 5100000070000000007My Company                                                                                          \r\n",
      " 700000007                                                                                                              \r\n",
      " EFF800708982011220011220160201F8007         00000070000000008091500000000000000000000051                        E      \r\n",
      "\n"
     ]
    }
   ],
   "source": [
    "print(cbi_doc_gouped)"
   ]
  },
  {
   "cell_type": "code",
   "execution_count": null,
   "metadata": {},
   "outputs": [],
   "source": []
  }
 ],
 "metadata": {
  "kernelspec": {
   "display_name": "Python 3",
   "language": "python",
   "name": "python3"
  },
  "language_info": {
   "codemirror_mode": {
    "name": "ipython",
    "version": 3
   },
   "file_extension": ".py",
   "mimetype": "text/x-python",
   "name": "python",
   "nbconvert_exporter": "python",
   "pygments_lexer": "ipython3",
   "version": "3.7.9"
  }
 },
 "nbformat": 4,
 "nbformat_minor": 4
}
