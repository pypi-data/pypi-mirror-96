{
 "cells": [
  {
   "cell_type": "markdown",
   "metadata": {
    "collapsed": true,
    "pycharm": {
     "name": "#%% md\n"
    }
   },
   "source": [
    "# Usage\n",
    "\n",
    "Because PRIMAP2 builds on xarray, all xarray functionality is available\n",
    "right away.\n",
    "Additional functionality is provided in the ``primap2`` package and\n",
    "in the ``pr`` namespace on xarray objects.\n",
    "In this section, we will present examples of PRIMAP2 usage.\n",
    "\n",
    "## Importing"
   ]
  },
  {
   "cell_type": "code",
   "execution_count": null,
   "outputs": [],
   "source": [
    "import primap2  # injects the \"pr\" namespace into xarray"
   ],
   "metadata": {
    "collapsed": false,
    "pycharm": {
     "name": "#%%\n"
    }
   }
  },
  {
   "cell_type": "markdown",
   "source": [
    "## Loading Datafiles\n",
    "\n",
    "### Loading from netcdf files\n",
    "\n",
    "The native storage format of PRIMAP2 are netcdf5 files, and datasets\n",
    "can be written to and loaded from netcdf5 files using PRIMAP2 functions.\n",
    "We will load the \"minimal\" and \"opulent\" Datasets from the data format section:"
   ],
   "metadata": {
    "collapsed": false,
    "pycharm": {
     "name": "#%% md\n"
    }
   }
  },
  {
   "cell_type": "code",
   "execution_count": null,
   "outputs": [],
   "source": [
    "ds_min = primap2.open_dataset(\"minimal_ds.nc\")\n",
    "ds = primap2.open_dataset(\"opulent_ds.nc\")\n",
    "\n",
    "ds"
   ],
   "metadata": {
    "collapsed": false,
    "pycharm": {
     "name": "#%%\n"
    }
   }
  },
  {
   "cell_type": "markdown",
   "source": [
    "## Accessing metadata\n",
    "\n",
    "Metadata is stored in the `attrs` of Datasets, and you can of course\n",
    "access it directly there.\n",
    "Additionally, you can access the PRIMAP2 metadata directly under\n",
    "the `.pr` namespace, which has the advantage that autocompletion\n",
    "works in ipython and IDEs and typos will be caught immediately."
   ],
   "metadata": {
    "collapsed": false,
    "pycharm": {
     "name": "#%% md\n"
    }
   }
  },
  {
   "cell_type": "code",
   "execution_count": null,
   "outputs": [],
   "source": [
    "ds.pr.title"
   ],
   "metadata": {
    "collapsed": false,
    "pycharm": {
     "name": "#%%\n"
    }
   }
  },
  {
   "cell_type": "code",
   "execution_count": null,
   "outputs": [],
   "source": [
    "ds.pr.title = \"Another title\"\n",
    "ds.pr.title"
   ],
   "metadata": {
    "collapsed": false,
    "pycharm": {
     "name": "#%%\n"
    }
   }
  },
  {
   "cell_type": "markdown",
   "source": [
    "## Selecting data\n",
    "\n",
    "Data can be selected using the\n",
    "[xarray indexing methods](https://xarray.pydata.org/en/stable/indexing.html),\n",
    "but PRIMAP2 also provides own versions of some of xarray's selection methods\n",
    "which work using the dimension names without the category set.\n",
    "\n",
    "### Getitem\n",
    "\n",
    "The following selections both select the same:"
   ],
   "metadata": {
    "collapsed": false,
    "pycharm": {
     "name": "#%% md\n"
    }
   }
  },
  {
   "cell_type": "code",
   "execution_count": null,
   "outputs": [],
   "source": [
    "ds[\"area (ISO3)\"]"
   ],
   "metadata": {
    "collapsed": false,
    "pycharm": {
     "name": "#%%\n"
    }
   }
  },
  {
   "cell_type": "code",
   "execution_count": null,
   "outputs": [],
   "source": [
    "ds.pr[\"area\"]"
   ],
   "metadata": {
    "collapsed": false,
    "pycharm": {
     "name": "#%%\n"
    }
   }
  },
  {
   "cell_type": "markdown",
   "source": [
    "### The loc Indexer\n",
    "\n",
    "Similarly, a version of the `loc` indexer is provided which works with the\n",
    "bare dimension names:"
   ],
   "metadata": {
    "collapsed": false,
    "pycharm": {
     "name": "#%% md\n"
    }
   }
  },
  {
   "cell_type": "code",
   "execution_count": null,
   "outputs": [],
   "source": [
    "ds.pr.loc[{\"time\": slice(\"2002\", \"2005\"), \"animal\": \"cow\"}]"
   ],
   "metadata": {
    "collapsed": false,
    "pycharm": {
     "name": "#%%\n"
    }
   }
  },
  {
   "cell_type": "markdown",
   "source": [
    "It also works on DataArrays:"
   ],
   "metadata": {
    "collapsed": false,
    "pycharm": {
     "name": "#%% md\n"
    }
   }
  },
  {
   "cell_type": "code",
   "execution_count": null,
   "outputs": [],
   "source": [
    "da = ds[\"CO2\"]\n",
    "\n",
    "da.pr.loc[\n",
    "    {\n",
    "        \"time\": slice(\"2002\", \"2005\"),\n",
    "        \"animal\": \"cow\",\n",
    "        \"category\": \"0\",\n",
    "        \"area\": \"COL\",\n",
    "    }\n",
    "]"
   ],
   "metadata": {
    "collapsed": false,
    "pycharm": {
     "name": "#%%\n"
    }
   }
  },
  {
   "cell_type": "markdown",
   "source": [
    "## Setting data\n",
    "\n",
    "PRIMAP2 provides a unified API to introduce new data values, fill missing information,\n",
    "and overwrite existing information:\n",
    "the [da.pr.set](https://primap2.readthedocs.io/en/main/generated/xarray.DataArray.pr.set.html)\n",
    "function and its sibling\n",
    "[ds.pr.set](https://primap2.readthedocs.io/en/main/generated/xarray.Dataset.pr.set.html).\n",
    "\n",
    "The basic signature of the `set` functions is `set(dimension, keys, values)`, and it\n",
    "returns the changed object without changing the original one.\n",
    "Use it like this:"
   ],
   "metadata": {
    "collapsed": false,
    "pycharm": {
     "name": "#%% md\n"
    }
   }
  },
  {
   "cell_type": "code",
   "execution_count": null,
   "outputs": [],
   "source": [
    "da = ds_min[\"CO2\"].loc[{\"time\": slice(\"2000\", \"2005\")}]\n",
    "da"
   ],
   "metadata": {
    "collapsed": false,
    "pycharm": {
     "name": "#%%\n"
    }
   }
  },
  {
   "cell_type": "code",
   "execution_count": null,
   "outputs": [],
   "source": [
    "import numpy as np\n",
    "from primap2 import ureg\n",
    "\n",
    "modified = da.pr.set(\n",
    "    \"area\", \"CUB\", np.linspace(0, 20, 6) * ureg(\"Gg CO2 / year\")\n",
    ")\n",
    "modified"
   ],
   "metadata": {
    "collapsed": false,
    "pycharm": {
     "name": "#%%\n"
    }
   }
  },
  {
   "cell_type": "markdown",
   "source": [
    "By default, existing non-NaN values are not overwritten:"
   ],
   "metadata": {
    "collapsed": false,
    "pycharm": {
     "name": "#%% md\n"
    }
   }
  },
  {
   "cell_type": "code",
   "execution_count": null,
   "outputs": [],
   "source": [
    "try:\n",
    "    da.pr.set(\"area\", \"COL\", np.linspace(0, 20, 6) * ureg(\"Gg CO2 / year\"))\n",
    "except ValueError as err:\n",
    "    print(err)"
   ],
   "metadata": {
    "collapsed": false,
    "pycharm": {
     "name": "#%%\n"
    }
   }
  },
  {
   "cell_type": "markdown",
   "source": [
    "You can overwrite existing values by specifying `existing=\"overwrite\"`\n",
    "to overwrite all values or `existing=\"fillna\"` to overwrite only NaNs."
   ],
   "metadata": {
    "collapsed": false,
    "pycharm": {
     "name": "#%% md\n"
    }
   }
  },
  {
   "cell_type": "code",
   "execution_count": null,
   "outputs": [],
   "source": [
    "da.pr.set(\n",
    "    \"area\",\n",
    "    \"COL\",\n",
    "    np.linspace(0, 20, 6) * ureg(\"Gg CO2 / year\"),\n",
    "    existing=\"overwrite\",\n",
    ")"
   ],
   "metadata": {
    "collapsed": false,
    "pycharm": {
     "name": "#%%\n"
    }
   }
  },
  {
   "cell_type": "markdown",
   "source": [
    "By default, the `set()` function extends the specified dimension automatically to\n",
    "accommodate new values if not all key values are in the specified dimension yet.\n",
    "You can change this by specifying `new=\"error\"`, which will raise a KeyError if any of\n",
    "the keys is not found:"
   ],
   "metadata": {
    "collapsed": false,
    "pycharm": {
     "name": "#%% md\n"
    }
   }
  },
  {
   "cell_type": "code",
   "execution_count": null,
   "outputs": [],
   "source": [
    "try:\n",
    "    da.pr.set(\n",
    "        \"area\",\n",
    "        [\"COL\", \"CUB\"],\n",
    "        np.linspace(0, 20, 6) * ureg(\"Gg CO2 / year\"),\n",
    "        existing=\"overwrite\",\n",
    "        new=\"error\",\n",
    "    )\n",
    "except KeyError as err:\n",
    "    print(err)"
   ],
   "metadata": {
    "collapsed": false,
    "pycharm": {
     "name": "#%%\n"
    }
   }
  },
  {
   "cell_type": "markdown",
   "source": [
    "In particular, the `set()` functions can also be used with xarray's arithmetic\n",
    "functions to derive values from existing data and store the result in the Dataset.\n",
    "As an example, we will derive better values for category 0 by adding all\n",
    "its subcategories and store the result.\n",
    "\n",
    "First, let's see the current data for a small subset of the data:"
   ],
   "metadata": {
    "collapsed": false,
    "pycharm": {
     "name": "#%% md\n"
    }
   }
  },
  {
   "cell_type": "code",
   "execution_count": null,
   "outputs": [],
   "source": [
    "sel = {\n",
    "    \"area\": \"COL\",\n",
    "    \"category\": [\"0\", \"1\", \"2\", \"3\", \"4\", \"5\"],\n",
    "    \"animal\": \"cow\",\n",
    "    \"product\": \"milk\",\n",
    "    \"scenario\": \"highpop\",\n",
    "}\n",
    "subset = ds.pr.loc[sel].squeeze()\n",
    "\n",
    "# TODO: currently, plotting with units still emits a warning\n",
    "import warnings\n",
    "\n",
    "with warnings.catch_warnings():\n",
    "    warnings.simplefilter(\"ignore\")\n",
    "    subset[\"CO2\"].plot.line(x=\"time\", hue=\"category (IPCC 2006)\")"
   ],
   "metadata": {
    "collapsed": false,
    "pycharm": {
     "name": "#%%\n"
    }
   }
  },
  {
   "cell_type": "markdown",
   "source": [
    "While it is hard to see any details in this plot, it is clearly visible\n",
    "that category 0 is not the sum of the other categories (which should not\n",
    "come as a surprise since we generated the data at random).\n",
    "\n",
    "We will now recompute category 0 for the entire dataset using set():"
   ],
   "metadata": {
    "collapsed": false,
    "pycharm": {
     "name": "#%% md\n"
    }
   }
  },
  {
   "cell_type": "code",
   "execution_count": null,
   "outputs": [],
   "source": [
    "cat0_new = ds.pr.loc[\n",
    "    {\"category\": [\"1\", \"2\", \"3\", \"4\", \"5\"]}\n",
    "].pr.sum_skip_all_na(\"category\")\n",
    "\n",
    "ds = ds.pr.set(\n",
    "    \"category\",\n",
    "    \"0\",\n",
    "    cat0_new,\n",
    "    existing=\"overwrite\",\n",
    ")\n",
    "\n",
    "# plot a small subset of the result\n",
    "subset = ds.pr.loc[sel].squeeze()\n",
    "# TODO: currently, plotting with units still emits a warning\n",
    "import warnings\n",
    "\n",
    "with warnings.catch_warnings():\n",
    "    warnings.simplefilter(\"ignore\")\n",
    "    subset[\"CO2\"].plot.line(x=\"time\", hue=\"category (IPCC 2006)\")"
   ],
   "metadata": {
    "collapsed": false,
    "pycharm": {
     "name": "#%%\n"
    }
   }
  },
  {
   "cell_type": "markdown",
   "source": [
    "As you can see in the plot, category 0 is now computed from its subcategories.\n",
    "The set() method of Datasets works on all data variables in the dataset which\n",
    "have the corresponding dimension. In this example, the \"population\" variable\n",
    "does not have categories, so it was unchanged."
   ],
   "metadata": {
    "collapsed": false,
    "pycharm": {
     "name": "#%% md\n"
    }
   }
  },
  {
   "cell_type": "markdown",
   "source": [
    "## Unit handling\n",
    "\n",
    "PRIMAP2 uses the [openscm_units](https://openscm-units.readthedocs.io)\n",
    "package based on the [Pint](https://pint.readthedocs.io/) library\n",
    "for handling of units.\n",
    "\n",
    "### CO2 equivalent units and mass units\n",
    "\n",
    "Using global warming potential contexts, it is easy to convert mass units\n",
    "into CO2 equivalents:"
   ],
   "metadata": {
    "collapsed": false,
    "pycharm": {
     "name": "#%% md\n"
    }
   }
  },
  {
   "cell_type": "code",
   "execution_count": null,
   "outputs": [],
   "source": [
    "from primap2 import ureg  # The unit registry\n",
    "\n",
    "sf6_gwp = ds[\"SF6\"].pr.convert_to_gwp(\n",
    "    gwp_context=\"AR4GWP100\", units=\"Gg CO2 / year\"\n",
    ")\n",
    "# The information about the used GWP context is retained:\n",
    "sf6_gwp.attrs"
   ],
   "metadata": {
    "collapsed": false,
    "pycharm": {
     "name": "#%%\n"
    }
   }
  },
  {
   "cell_type": "markdown",
   "source": [
    "Because the GWP context used for conversion is stored, it is equally easy\n",
    "to convert back to mass units:"
   ],
   "metadata": {
    "collapsed": false,
    "pycharm": {
     "name": "#%% md\n"
    }
   }
  },
  {
   "cell_type": "code",
   "execution_count": null,
   "outputs": [],
   "source": [
    "sf6 = sf6_gwp.pr.convert_to_mass()"
   ],
   "metadata": {
    "collapsed": false,
    "pycharm": {
     "name": "#%%\n"
    }
   }
  },
  {
   "cell_type": "markdown",
   "source": [
    "The stored GWP context can also be used to convert another array using the\n",
    "same context:"
   ],
   "metadata": {
    "collapsed": false,
    "pycharm": {
     "name": "#%% md\n"
    }
   }
  },
  {
   "cell_type": "code",
   "execution_count": null,
   "outputs": [],
   "source": [
    "ch4_gwp = ds[\"CH4\"].pr.convert_to_gwp_like(sf6_gwp)"
   ],
   "metadata": {
    "collapsed": false,
    "pycharm": {
     "name": "#%%\n"
    }
   }
  },
  {
   "cell_type": "markdown",
   "source": [
    "### Dropping units\n",
    "\n",
    "Sometimes, it is necessary to drop the units, for example to use\n",
    "arrays as input for external functions which are unit-naive.\n",
    "This can be done safely by first converting to the target unit, then\n",
    "dequantifying the dataset or array:"
   ],
   "metadata": {
    "collapsed": false,
    "pycharm": {
     "name": "#%% md\n"
    }
   }
  },
  {
   "cell_type": "code",
   "execution_count": null,
   "outputs": [],
   "source": [
    "ds[\"CH4\"].pint.to(\"Mt CH4 / year\").pr.dequantify()"
   ],
   "metadata": {
    "collapsed": false,
    "pycharm": {
     "name": "#%%\n"
    }
   }
  },
  {
   "cell_type": "markdown",
   "source": [
    "Note that the units are then stored in the DataArray's `attrs`, and can be\n",
    "restored using the\n",
    "[da.pr.quantify](https://primap2.readthedocs.io/en/main/generated/xarray.DataArray.pr.quantify.html)\n",
    "function.\n",
    "\n",
    "## Aggregation and infilling\n",
    "\n",
    "xarray provides robust functions for aggregation (`sum`) and filling of\n",
    "missing information (`fillna`).\n",
    "PRIMAP2 adds functions which fill or skip missing information based on if the\n",
    "information is missing at all points along certain axes, for example for\n",
    "a whole time series.\n",
    "This makes it possible to, for example, evaluate the sum of sub-categories\n",
    "while ignoring only those categories which are missing completely."
   ],
   "metadata": {
    "collapsed": false,
    "pycharm": {
     "name": "#%% md\n"
    }
   }
  },
  {
   "cell_type": "code",
   "execution_count": null,
   "outputs": [],
   "source": [
    "import numpy as np\n",
    "import xarray as xr\n",
    "import pandas as pd\n",
    "\n",
    "time = pd.date_range(\"2000-01-01\", \"2003-01-01\", freq=\"AS\")\n",
    "area_iso3 = np.array([\"COL\", \"ARG\", \"MEX\"])\n",
    "coords = [(\"area (ISO3)\", area_iso3), (\"time\", time)]\n",
    "da = xr.DataArray(\n",
    "    data=[\n",
    "        [1, 2, 3, 4],\n",
    "        [np.nan, np.nan, np.nan, np.nan],\n",
    "        [1, 2, 3, np.nan],\n",
    "    ],\n",
    "    coords=coords,\n",
    ")\n",
    "\n",
    "da"
   ],
   "metadata": {
    "collapsed": false,
    "pycharm": {
     "name": "#%%\n"
    }
   }
  },
  {
   "cell_type": "code",
   "execution_count": null,
   "outputs": [],
   "source": [
    "da.pr.sum_skip_all_na(dim=\"area (ISO3)\", skipna_evaluation_dims=\"time\")"
   ],
   "metadata": {
    "collapsed": false,
    "pycharm": {
     "name": "#%%\n"
    }
   }
  },
  {
   "cell_type": "code",
   "execution_count": null,
   "outputs": [],
   "source": [
    "# compare this to the result of the standard xarray sum:\n",
    "\n",
    "da.sum(dim=\"area (ISO3)\")"
   ],
   "metadata": {
    "collapsed": false,
    "pycharm": {
     "name": "#%%\n"
    }
   }
  },
  {
   "cell_type": "markdown",
   "source": [
    "The same functionality is available for filling in missing information:"
   ],
   "metadata": {
    "collapsed": false,
    "pycharm": {
     "name": "#%% md\n"
    }
   }
  },
  {
   "cell_type": "code",
   "execution_count": null,
   "outputs": [],
   "source": [
    "da.pr.fill_all_na(\"time\", value=10)"
   ],
   "metadata": {
    "collapsed": false,
    "pycharm": {
     "name": "#%%\n"
    }
   }
  },
  {
   "cell_type": "markdown",
   "source": [
    "## Downscaling\n",
    "\n",
    "To downscale a super-category (for example, regional data) to sub-categories\n",
    "(for example, country-level data in the same region), the `downscale_timeseries`\n",
    "function is available:"
   ],
   "metadata": {
    "collapsed": false
   }
  },
  {
   "cell_type": "code",
   "execution_count": null,
   "outputs": [],
   "source": [
    "# select an example dataset\n",
    "da = primap2.open_dataset(\"minimal_ds.nc\")[\"CO2\"].loc[\n",
    "    {\"time\": slice(\"2000\", \"2010\")}\n",
    "]\n",
    "da"
   ],
   "metadata": {
    "collapsed": false,
    "pycharm": {
     "name": "#%%\n"
    }
   }
  },
  {
   "cell_type": "code",
   "execution_count": null,
   "outputs": [],
   "source": [
    "# compute regional data as sum of country-level data\n",
    "temp = da.sum(dim=\"area (ISO3)\")\n",
    "temp = temp.expand_dims({\"area (ISO3)\": [\"LATAM\"]})\n",
    "# delete data from the country level for the years 2005-2009 (inclusive)\n",
    "da.loc[{\"time\": slice(\"2005\", \"2009\")}] = np.nan\n",
    "# add regional data to the array\n",
    "da = xr.concat([da, temp], dim=\"area (ISO3)\")\n",
    "da"
   ],
   "metadata": {
    "collapsed": false,
    "pycharm": {
     "name": "#%%\n"
    }
   }
  },
  {
   "cell_type": "code",
   "execution_count": null,
   "outputs": [],
   "source": [
    "# Do the downscaling\n",
    "da.pr.downscale_timeseries(\n",
    "    basket=\"LATAM\",\n",
    "    basket_contents=[\"BOL\", \"MEX\", \"COL\", \"ARG\"],\n",
    "    dim=\"area (ISO3)\",\n",
    ")"
   ],
   "metadata": {
    "collapsed": false,
    "pycharm": {
     "name": "#%%\n"
    }
   }
  },
  {
   "cell_type": "markdown",
   "source": [
    "For the downscaling, shares for the sub-categories at the points in time\n",
    "where data for all sub-categories\n",
    "is available are determined, the shares are interpolated where data is missing,\n",
    "and then the super-category is downscaled using these shares."
   ],
   "metadata": {
    "collapsed": false,
    "pycharm": {
     "name": "#%% md\n"
    }
   }
  },
  {
   "cell_type": "markdown",
   "source": [
    "## Handling of gas baskets\n",
    "\n",
    "### Summation\n",
    "\n",
    "To sum the contents of gas baskets like KYOTOGHG, the function\n",
    "[ds.gas_basket_contents_sum](https://primap2.readthedocs.io/en/main/generated/xarray.Dataset.pr.gas_basket_contents_sum.html)\n",
    "is available:"
   ],
   "metadata": {
    "collapsed": false,
    "pycharm": {
     "name": "#%% md\n"
    }
   }
  },
  {
   "cell_type": "code",
   "execution_count": null,
   "outputs": [],
   "source": [
    "# select example dataset\n",
    "ds = primap2.open_dataset(\"minimal_ds.nc\").loc[\n",
    "    {\"time\": slice(\"2000\", \"2010\")}\n",
    "]\n",
    "ds"
   ],
   "metadata": {
    "collapsed": false,
    "pycharm": {
     "name": "#%%\n"
    }
   }
  },
  {
   "cell_type": "code",
   "execution_count": null,
   "outputs": [],
   "source": [
    "# add (empty) gas basket with corresponding metadata\n",
    "ds[\"KYOTOGHG\"] = xr.full_like(ds[\"CO2\"], np.nan).pr.quantify(\n",
    "    units=\"Gg CO2 / year\"\n",
    ")\n",
    "ds[\"KYOTOGHG\"].attrs = {\"entity\": \"KYOTOGHG\", \"gwp_context\": \"AR4GWP100\"}\n",
    "\n",
    "ds"
   ],
   "metadata": {
    "collapsed": false,
    "pycharm": {
     "name": "#%%\n"
    }
   }
  },
  {
   "cell_type": "code",
   "execution_count": null,
   "outputs": [],
   "source": [
    "# compute gas basket from its contents, which have to be given explicitly\n",
    "ds.pr.gas_basket_contents_sum(\n",
    "    basket=\"KYOTOGHG\",\n",
    "    basket_contents=[\"CO2\", \"SF6\", \"CH4\"],\n",
    ")"
   ],
   "metadata": {
    "collapsed": false,
    "pycharm": {
     "name": "#%%\n"
    }
   }
  },
  {
   "cell_type": "markdown",
   "source": [
    "Note that like all PRIMAP2 functions,\n",
    "[gas_basket_contents_sum](https://primap2.readthedocs.io/en/main/generated/xarray.Dataset.pr.gas_basket_contents_sum.html)\n",
    "returns the result without overwriting anything in the original dataset,\n",
    "so you have to explicitly overwrite existing data if you want that:"
   ],
   "metadata": {
    "collapsed": false,
    "pycharm": {
     "name": "#%% md\n"
    }
   }
  },
  {
   "cell_type": "code",
   "execution_count": null,
   "outputs": [],
   "source": [
    "ds[\"KYOTOGHG\"] = ds.pr.gas_basket_contents_sum(\n",
    "    basket=\"KYOTOGHG\",\n",
    "    basket_contents=[\"CO2\", \"SF6\", \"CH4\"],\n",
    ")"
   ],
   "metadata": {
    "collapsed": false,
    "pycharm": {
     "name": "#%%\n"
    }
   }
  },
  {
   "cell_type": "markdown",
   "source": [
    "### Filling in missing information\n",
    "\n",
    "To fill in missing data in a gas basket, use\n",
    "[fill_na_gas_basket_from_contents](https://primap2.readthedocs.io/en/main/generated/xarray.Dataset.pr.fill_na_gas_basket_from_contents.html):"
   ],
   "metadata": {
    "collapsed": false,
    "pycharm": {
     "name": "#%% md\n"
    }
   }
  },
  {
   "cell_type": "code",
   "execution_count": null,
   "outputs": [],
   "source": [
    "# delete all data about the years 2005-2009 (inclusive) from the\n",
    "# KYOTOGHG data\n",
    "ds[\"KYOTOGHG\"].loc[{\"time\": slice(\"2005\", \"2009\")}] = np.nan\n",
    "ds[\"KYOTOGHG\"]"
   ],
   "metadata": {
    "collapsed": false,
    "pycharm": {
     "name": "#%%\n"
    }
   }
  },
  {
   "cell_type": "code",
   "execution_count": null,
   "outputs": [],
   "source": [
    "ds.pr.fill_na_gas_basket_from_contents(\n",
    "    basket=\"KYOTOGHG\", basket_contents=[\"CO2\", \"SF6\", \"CH4\"]\n",
    ")"
   ],
   "metadata": {
    "collapsed": false,
    "pycharm": {
     "name": "#%%\n"
    }
   }
  },
  {
   "cell_type": "markdown",
   "source": [
    "The reverse case is that you are missing some data in the timeseries of\n",
    "individual gases and want to fill those in using downscaled data from\n",
    "a gas basket.\n",
    "Here, use\n",
    "[downscale_gas_timeseries](https://primap2.readthedocs.io/en/main/generated/xarray.Dataset.pr.downscale_gas_timeseries.html):"
   ],
   "metadata": {
    "collapsed": false,
    "pycharm": {
     "name": "#%% md\n"
    }
   }
  },
  {
   "cell_type": "code",
   "execution_count": null,
   "outputs": [],
   "source": [
    "# delete all data about the years 2005-2009 from the individual gas data\n",
    "sel = {\"time\": slice(\"2005\", \"2009\")}\n",
    "ds[\"CO2\"].loc[sel] = np.nan\n",
    "ds[\"SF6\"].loc[sel] = np.nan\n",
    "ds[\"CH4\"].loc[sel] = np.nan\n",
    "ds"
   ],
   "metadata": {
    "collapsed": false,
    "pycharm": {
     "name": "#%%\n"
    }
   }
  },
  {
   "cell_type": "code",
   "execution_count": null,
   "outputs": [],
   "source": [
    "# This determines gas shares at the points in time where individual gas\n",
    "# data is available, interpolates the shares where data is missing, and\n",
    "# then downscales the gas basket data using the interpolated shares\n",
    "ds.pr.downscale_gas_timeseries(\n",
    "    basket=\"KYOTOGHG\", basket_contents=[\"CO2\", \"SF6\", \"CH4\"]\n",
    ")"
   ],
   "metadata": {
    "collapsed": false,
    "pycharm": {
     "name": "#%%\n"
    }
   }
  }
 ],
 "metadata": {
  "kernelspec": {
   "display_name": "Python 3",
   "language": "python",
   "name": "python3"
  },
  "language_info": {
   "codemirror_mode": {
    "name": "ipython",
    "version": 2
   },
   "file_extension": ".py",
   "mimetype": "text/x-python",
   "name": "python",
   "nbconvert_exporter": "python",
   "pygments_lexer": "ipython2",
   "version": "2.7.6"
  }
 },
 "nbformat": 4,
 "nbformat_minor": 0
}
