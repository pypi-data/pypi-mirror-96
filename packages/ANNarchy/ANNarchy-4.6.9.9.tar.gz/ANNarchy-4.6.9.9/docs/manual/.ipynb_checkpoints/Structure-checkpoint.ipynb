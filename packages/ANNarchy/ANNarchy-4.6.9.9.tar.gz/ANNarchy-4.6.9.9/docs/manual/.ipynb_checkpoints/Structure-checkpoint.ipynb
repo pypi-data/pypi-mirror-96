{
 "cells": [
  {
   "cell_type": "markdown",
   "metadata": {},
   "source": [
    "# General structure"
   ]
  },
  {
   "cell_type": "markdown",
   "metadata": {},
   "source": [
    "## Definition of a neural network\n",
    "\n",
    "A neural network in ANNarchy is a collection of interconnected **Populations**. Each population comprises a set of similar artificial **Neurons**, whose mean-firing rate or spiking behavior is governed by one or many ordinary differential equations (ODE). These ODEs are dependent on the activity of other neurons through **Synapses**. The connection pattern between two populations is called a **Projection**.\n",
    "\n",
    "The efficiency of the connections received by a neuron is stored in a connectivity matrix, depending on the type that was assigned to them: excitatory, inhibitory, modulatory... This typed organization of afferent connections also allows to easily apply them different learning rules (Hebbian, three-factor, Oja, BCM, STDP...).\n",
    "\n",
    "\n",
    "![Structure of a neural network in ANNarchy.](../_static/annarchy.png){width=100%}\n",
    "\n",
    "\n",
    "To define a neural network and simulate its behavior, you need to define the following information:\n",
    "\n",
    "* The number of populations, their geometry (number of neurons, optionally the spatial structure - 1D/2D/3D).\n",
    "\n",
    "* For each population, the type of neuron composing it, with all the necessary ODEs.\n",
    "\n",
    "* For each projection between two populations, the connection pattern (all-to-all, one-to-one, distance-dependent...), the initial synaptic weights, and optionally the delays in synaptic transmission.\n",
    "\n",
    "* For plastic synapses, the ODEs describing the evolution of synaptic weights during the simulation (learning).\n",
    "\n",
    "* The interaction of the network with its environment (I/O relationships, rewarded tasks, fitting procedure...)\n",
    "\n",
    "ANNarchy provides a convenient way to define this information in a single Python script. In this manual, we will focus on an simple rate-coded network composed of two interconnected populations `pop1` and `pop2`, but more complex architectures are of course possible (see the examples in section [Examples](../Example.rst))."
   ]
  },
  {
   "cell_type": "markdown",
   "metadata": {},
   "source": [
    "## Basic structure of a script\n",
    "\n",
    "In a script file (e.g. ``MyNetwork.py``) or in a Jupyter notebook, you first need to import the ANNarchy package:"
   ]
  },
  {
   "cell_type": "code",
   "execution_count": 1,
   "metadata": {},
   "outputs": [
    {
     "name": "stdout",
     "output_type": "stream",
     "text": [
      "ANNarchy 4.6 (4.6.9b) on linux (posix). \n"
     ]
    }
   ],
   "source": [
    "from ANNarchy import *"
   ]
  },
  {
   "cell_type": "markdown",
   "metadata": {},
   "source": [
    "All the necessary objects and class definitions are then imported. The next step is to define the neurons and synapses needed by your network. To keep things simple, we will define a simple neuron model, whose firing rate is determined by the leaky-integration of excitatory inputs:"
   ]
  },
  {
   "cell_type": "code",
   "execution_count": 2,
   "metadata": {},
   "outputs": [],
   "source": [
    "LeakyIntegratorNeuron = Neuron(\n",
    "    parameters = \"\"\"\n",
    "        tau = 10.0\n",
    "        baseline = -0.2\n",
    "    \"\"\",\n",
    "    equations = \"\"\"\n",
    "        tau * dv/dt  + v = baseline + sum(exc)\n",
    "        r = pos(v)\n",
    "    \"\"\"\n",
    ")"
   ]
  },
  {
   "cell_type": "markdown",
   "metadata": {},
   "source": [
    "``v`` is an internal variable integrating with the time constant ``tau`` the weighted sum of excitatory inputs ``sum(exc)`` to this neuron plus its ``baseline`` activity. ``r`` is the instantaneous firing rate of the neuron, defined as the positive part of ``v``. More details on the difference between parameters and variables, as well as details on the mathematical parser are to be found in the sections [Parser](Parser.rst) and [RateNeuron](RateNeuron.rst).\n",
    "\n",
    "The synapse type between the two populations will implement a simple Oja learning rule, which is a Hebbian learning rule with an additional regularization term:"
   ]
  },
  {
   "cell_type": "code",
   "execution_count": 3,
   "metadata": {},
   "outputs": [],
   "source": [
    "Oja = Synapse(\n",
    "    parameters=\"\"\"\n",
    "        tau = 5000.0\n",
    "        alpha = 8.0\n",
    "    \"\"\",\n",
    "    equations = \"\"\"\n",
    "        tau * dw/dt = pre.r * post.r - alpha * post.r^2 * w\n",
    "    \"\"\"\n",
    ")"
   ]
  },
  {
   "cell_type": "markdown",
   "metadata": {},
   "source": [
    "``w`` represents the synaptic efficiency (or weight value). Its evolution over time depends on a time constant ``tau``, the regularization parameter ``alpha``, the pre-synaptic firing rate ``pre.r`` and the post-synaptic firing rate ``post.r``. See [RateSynapse](RateSynapse.rst) for more details.\n",
    "\n",
    "Once these objects are defined, the populations can be created (section [Populations](Populations.rst)). We create here two populations ``pop1`` and ``pop2`` containing 100 neurons each and using the ``LeakyIntegratorNeuron`` neural model:"
   ]
  },
  {
   "cell_type": "code",
   "execution_count": 4,
   "metadata": {},
   "outputs": [],
   "source": [
    "pop1 = Population(name='pop1', geometry=100, neuron=LeakyIntegratorNeuron)\n",
    "pop2 = Population(name='pop2', geometry=100, neuron=LeakyIntegratorNeuron)"
   ]
  },
  {
   "cell_type": "markdown",
   "metadata": {},
   "source": [
    "We additionally define an excitatory projection between the neurons of ``pop1`` and ``pop2``, with a target ``exc`` and a all_to_all connection pattern (section [Projections](Projections.rst)). The synaptic weights are initialized randomly between 0.0 and 1.0:"
   ]
  },
  {
   "cell_type": "code",
   "execution_count": null,
   "metadata": {},
   "outputs": [],
   "source": [
    "proj = Projection(pre=pop1, post=pop2, target='exc', synapse=Oja)\n",
    "proj.connect_all_to_all(weights = Uniform(0.0, 1.0))"
   ]
  },
  {
   "cell_type": "markdown",
   "metadata": {},
   "source": [
    "Now that the structure of the network is defined, it can be analyzed to generate optimized C++ code in the ``annarchy/`` subfolder and create the objects:"
   ]
  },
  {
   "cell_type": "code",
   "execution_count": null,
   "metadata": {},
   "outputs": [],
   "source": [
    "compile()"
   ]
  },
  {
   "cell_type": "markdown",
   "metadata": {},
   "source": [
    "The network is now ready to be simulated for the desired amount of time:"
   ]
  },
  {
   "cell_type": "code",
   "execution_count": 7,
   "metadata": {},
   "outputs": [],
   "source": [
    "simulate(1000.0) # simulate for 1 second"
   ]
  },
  {
   "cell_type": "markdown",
   "metadata": {},
   "source": [
    "It remains to set inputs, record variables and analyze the results, but the structure of the network is already there."
   ]
  }
 ],
 "metadata": {
  "kernelspec": {
   "display_name": "Python 3",
   "language": "python",
   "name": "python3"
  },
  "language_info": {
   "codemirror_mode": {
    "name": "ipython",
    "version": 3
   },
   "file_extension": ".py",
   "mimetype": "text/x-python",
   "name": "python",
   "nbconvert_exporter": "python",
   "pygments_lexer": "ipython3",
   "version": "3.8.2"
  }
 },
 "nbformat": 4,
 "nbformat_minor": 4
}
