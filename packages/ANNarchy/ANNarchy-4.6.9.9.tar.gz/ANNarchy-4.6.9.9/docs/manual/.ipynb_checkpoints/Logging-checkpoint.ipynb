{
 "cells": [
  {
   "cell_type": "markdown",
   "metadata": {},
   "source": [
    "# Logging with tensorboard"
   ]
  },
  {
   "cell_type": "code",
   "execution_count": 1,
   "metadata": {},
   "outputs": [
    {
     "name": "stdout",
     "output_type": "stream",
     "text": [
      "ANNarchy 4.6 (4.6.9b) on linux (posix). \n"
     ]
    }
   ],
   "source": [
    "from ANNarchy import *\n",
    "from ANNarchy.extensions.tensorboard import Logger\n",
    "\n",
    "import matplotlib.pyplot as plt"
   ]
  },
  {
   "cell_type": "code",
   "execution_count": 2,
   "metadata": {},
   "outputs": [],
   "source": [
    "nb_str = 10\n",
    "\n",
    "msn = Neuron(\n",
    "    parameters=\"tau = 10.0 : population; noise = 0.1 : population\", \n",
    "    equations=\"\"\"\n",
    "        tau*dv/dt + v = sum(exc) - sum(inh) + noise * Uniform(-1, 1)\n",
    "        r = clip(v, 0.0, 1.0)\n",
    "        \"\"\")\n",
    "gp_neuron = Neuron(\n",
    "    parameters=\"tau = 10.0 : population; B = 1.0\",\n",
    "    equations=\"tau*dv/dt + v = B - sum(inh); r= pos(v)\")\n",
    "\n",
    "cortex = Population(4, Neuron(parameters=\"r=0.0\"))\n",
    "striatum = Population(nb_str, msn)\n",
    "gpi = Population(2, gp_neuron)\n",
    "\n",
    "corticostriatal = Synapse(\n",
    "    parameters=\"\"\"\n",
    "        eta = 0.1 : projection\n",
    "        alpha = 0.5 : projection\n",
    "        dopamine = 0.0 : projection\"\"\",\n",
    "    equations=\"w += eta*(dopamine * pre.r * post.r - alpha*w*post.r*post.r) : min=0.0\"\n",
    ")\n",
    "\n",
    "cx_str = Projection(cortex, striatum, \"exc\", corticostriatal)\n",
    "cx_str.connect_all_to_all(weights=Uniform(0.0, 0.5))\n",
    "\n",
    "str_str = Projection(striatum, striatum, \"inh\")\n",
    "str_str.connect_all_to_all(weights=0.6)\n",
    "\n",
    "str_gpi1 = Projection(striatum[:int(nb_str/2)], gpi[0], 'inh').connect_all_to_all(1.0)\n",
    "str_gpi2 = Projection(striatum[int(nb_str/2):], gpi[1], 'inh').connect_all_to_all(1.0)\n",
    "\n",
    "m = Monitor(gpi, 'r')\n",
    "\n",
    "compile()"
   ]
  },
  {
   "cell_type": "code",
   "execution_count": 3,
   "metadata": {},
   "outputs": [],
   "source": [
    "%rm -rf runs/"
   ]
  },
  {
   "cell_type": "code",
   "execution_count": 4,
   "metadata": {},
   "outputs": [
    {
     "name": "stdout",
     "output_type": "stream",
     "text": [
      "Logging in runs/May27_16-07-40_machine\n"
     ]
    }
   ],
   "source": [
    "stimuli = [\n",
    "    ([1, 0, 0, 0], 0),\n",
    "    ([0, 1, 0, 0], 0),\n",
    "    ([0, 0, 1, 0], 1),\n",
    "    ([0, 0, 0, 1], 1),\n",
    "]\n",
    "\n",
    "def training_trial(trial, logger):\n",
    "    # Get a stimulus\n",
    "    x, t = stimuli[trial%len(stimuli)]\n",
    "    \n",
    "    # Reset\n",
    "    cortex.r = 0.0\n",
    "    cx_str.dopamine = 0.0\n",
    "    simulate(40.0)\n",
    "    \n",
    "    # Set inputs\n",
    "    cortex.r = np.array(x)\n",
    "    simulate(50.0)\n",
    "    \n",
    "    # Read output\n",
    "    output = gpi.r\n",
    "    answer = np.argmin(output)\n",
    "    \n",
    "    # Provide reward\n",
    "    reward = 1.0 if answer == t else -1.0\n",
    "    cx_str.dopamine = reward\n",
    "    simulate(10.0)\n",
    "    \n",
    "    # Get recordings\n",
    "    data = m.get('r')\n",
    "    \n",
    "    # Log received rewards\n",
    "    logger.add_scalar(\"Reward\", reward, trial)\n",
    "    \n",
    "    # Log outputs depending on the task\n",
    "    if t == 0: # left response\n",
    "        logger.add_scalars(\"Activity/Left response\", {\"Left neuron\": output[0], \"Right neuron\": output[1]}, trial)\n",
    "    else:\n",
    "        logger.add_scalars(\"Activity/Right response\", {\"Left neuron\": output[0], \"Right neuron\": output[1]}, trial)\n",
    "        \n",
    "    # Log striatal activity as an image\n",
    "    logger.add_image(\"Striatum\", striatum.r.reshape((2, int(nb_str/2))), trial)\n",
    "    \n",
    "    # Log histogram of cortico-striatal weights\n",
    "    logger.add_histogram(\"Cortico-striatal weights\", np.array(cx_str.w).flatten(), trial)\n",
    "    \n",
    "    # Log matplotlib figure of GPi activity\n",
    "    fig = plt.figure(figsize=(10, 8))\n",
    "    plt.plot(data[:, 0], label=\"left\")\n",
    "    plt.plot(data[:, 1], label=\"right\")\n",
    "    plt.legend()\n",
    "    logger.add_figure(\"Activity/GPi\", fig, trial)\n",
    "    \n",
    "\n",
    "with Logger() as logger:\n",
    "    for trial in range(100):\n",
    "        training_trial(trial, logger)"
   ]
  },
  {
   "cell_type": "code",
   "execution_count": 5,
   "metadata": {},
   "outputs": [
    {
     "data": {
      "text/plain": [
       "Reusing TensorBoard on port 6007 (pid 95185), started 2:09:39 ago. (Use '!kill 95185' to kill it.)"
      ]
     },
     "metadata": {},
     "output_type": "display_data"
    },
    {
     "data": {
      "text/html": [
       "\n",
       "      <iframe id=\"tensorboard-frame-eb8ea41788d84be9\" width=\"100%\" height=\"800\" frameborder=\"0\">\n",
       "      </iframe>\n",
       "      <script>\n",
       "        (function() {\n",
       "          const frame = document.getElementById(\"tensorboard-frame-eb8ea41788d84be9\");\n",
       "          const url = new URL(\"/\", window.location);\n",
       "          url.port = 6007;\n",
       "          frame.src = url;\n",
       "        })();\n",
       "      </script>\n",
       "  "
      ],
      "text/plain": [
       "<IPython.core.display.HTML object>"
      ]
     },
     "metadata": {},
     "output_type": "display_data"
    }
   ],
   "source": [
    "%load_ext tensorboard\n",
    "%tensorboard --logdir runs --samples_per_plugin images=100"
   ]
  },
  {
   "cell_type": "code",
   "execution_count": null,
   "metadata": {},
   "outputs": [],
   "source": []
  },
  {
   "cell_type": "code",
   "execution_count": null,
   "metadata": {},
   "outputs": [],
   "source": []
  }
 ],
 "metadata": {
  "kernelspec": {
   "display_name": "Python 3",
   "language": "python",
   "name": "python3"
  },
  "language_info": {
   "codemirror_mode": {
    "name": "ipython",
    "version": 3
   },
   "file_extension": ".py",
   "mimetype": "text/x-python",
   "name": "python",
   "nbconvert_exporter": "python",
   "pygments_lexer": "ipython3",
   "version": "3.8.2"
  }
 },
 "nbformat": 4,
 "nbformat_minor": 4
}
