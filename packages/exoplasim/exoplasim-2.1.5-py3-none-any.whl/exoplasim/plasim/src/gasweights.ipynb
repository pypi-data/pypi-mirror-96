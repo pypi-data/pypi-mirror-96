{
 "cells": [
  {
   "cell_type": "code",
   "execution_count": 1,
   "metadata": {},
   "outputs": [],
   "source": [
    "import numpy as np"
   ]
  },
  {
   "cell_type": "code",
   "execution_count": 2,
   "metadata": {},
   "outputs": [],
   "source": [
    "gases_default = {'pH2': 0.0,\n",
    "                   'pHe': 5.24e-6,\n",
    "                   'pN2': 0.78084,\n",
    "                   'pO2': 0.20946,\n",
    "                   'pCO2':330.0e-6,\n",
    "                   'pAr': 9.34e-3,\n",
    "                   'pNe': 18.18e-6,\n",
    "                   'pKr': 1.14e-6}\n",
    "  \n",
    "gases = {'pH2': 0.0,\n",
    "           'pHe': 0.0,\n",
    "           'pN2': 0.0,\n",
    "           'pO2': 0.0,\n",
    "           'pCO2':0.0,\n",
    "           'pAr': 0.0,\n",
    "           'pNe': 0.0,\n",
    "           'pKr': 0.0}\n",
    "  \n",
    "gasesx = {'H2': 0.0,\n",
    "            'He': 0.0,\n",
    "            'N2': 0.0,\n",
    "            'O2': 0.0,\n",
    "            'CO2':0.0,\n",
    "            'Ar': 0.0,\n",
    "            'Ne': 0.0,\n",
    "            'Kr': 0.0}\n",
    "  \n",
    "smws = {'mH2': 2.01588,\n",
    "          'mHe': 4.002602,\n",
    "          'mN2': 28.0134,\n",
    "          'mO2': 31.9988,\n",
    "          'mCO2':44.01,\n",
    "          'mAr': 39.948,\n",
    "          'mNe': 20.1797,\n",
    "          'mKr': 83.798}"
   ]
  },
  {
   "cell_type": "markdown",
   "metadata": {},
   "source": [
    "PlaSim neads the gas constant (8314/$\\bar{m}$) and the surface pressure. We can specify the surface pressure directly and then specify mass fractions for each gas, or we can specify the partial pressures of each gas."
   ]
  },
  {
   "cell_type": "markdown",
   "metadata": {},
   "source": [
    "The mean molecular weight of a particular species $i$, $\\bar{m_i}$, describes its *mass per mole*. So if you know how much you have in mass, you just divide by $m_i$ to get how much you have in moles. Using the *mass fraction* instead of the actual mass means you get the number of moles per kilogram of atmosphere, so the total mean molecular weight, $\\bar{m}$, is the inverse of this:\n",
    "$$ \\bar{m} = \\left(\\sum_i{\\frac{x_i}{m_i}}\\right)^{-1}$$"
   ]
  },
  {
   "cell_type": "markdown",
   "metadata": {},
   "source": [
    "The partial pressure and volume mixing ratio (VMR) of a gas are related, and depend not on *mass* but on *number of moles*. Therefore,\n",
    "$$ p_i = \\frac{x_i}{m_i}\\bar{m}p_s $$\n",
    "$$ VMR = \\frac{x_i}{m_i}\\bar{m} $$"
   ]
  },
  {
   "cell_type": "code",
   "execution_count": 105,
   "metadata": {},
   "outputs": [],
   "source": [
    "gasesx['H2'] = 0.75*0.8\n",
    "gasesx['He'] = 0.25*0.8\n",
    "gasesx['N2'] = 0.9-1.0e-2\n",
    "gasesx['CO2'] = 1.0e-2"
   ]
  },
  {
   "cell_type": "code",
   "execution_count": 106,
   "metadata": {},
   "outputs": [],
   "source": [
    "mmwd = 0\n",
    "for x in gasesx.keys():\n",
    "    mmwd += gasesx[x]/smws['m'+x]\n",
    "mmw = 1.0/mmwd"
   ]
  },
  {
   "cell_type": "code",
   "execution_count": 107,
   "metadata": {},
   "outputs": [
    {
     "name": "stdout",
     "output_type": "stream",
     "text": [
      "Mean Molecular Weight:  2.63433813129\n",
      "Gas Constant: 3156.2\n",
      "Scale Height on Earth: 93.6 km\n"
     ]
    }
   ],
   "source": [
    "print \"Mean Molecular Weight: \",mmw\n",
    "print \"Gas Constant: %4.1f\"%(8314.46261815324/mmw)\n",
    "print \"Scale Height on Earth: %2.1f km\"%(29.0/mmw*8.5)"
   ]
  },
  {
   "cell_type": "code",
   "execution_count": 108,
   "metadata": {},
   "outputs": [],
   "source": [
    "for x in gasesx.keys():\n",
    "    gases['p'+x] = gasesx[x]/smws['m'+x]*mmw*1.0"
   ]
  },
  {
   "cell_type": "code",
   "execution_count": 109,
   "metadata": {},
   "outputs": [
    {
     "name": "stdout",
     "output_type": "stream",
     "text": [
      "pKr\t0.000000\n",
      "pAr\t0.000000\n",
      "pNe\t0.000000\n",
      "pCO2\t0.000599\n",
      "pH2\t0.784076\n",
      "pN2\t0.083694\n",
      "pO2\t0.000000\n",
      "pHe\t0.131631\n"
     ]
    }
   ],
   "source": [
    "for p in gases.keys():\n",
    "    print '%s\\t%1.6f'%(p,gases[p])"
   ]
  },
  {
   "cell_type": "code",
   "execution_count": 88,
   "metadata": {},
   "outputs": [
    {
     "name": "stdout",
     "output_type": "stream",
     "text": [
      "Kr\tVMR\t0.000000\n",
      "CO2\tVMR\t0.000060\n",
      "Ne\tVMR\t0.000000\n",
      "H2\tVMR\t0.783835\n",
      "Ar\tVMR\t0.000000\n",
      "N2\tVMR\t0.084515\n",
      "O2\tVMR\t0.000000\n",
      "He\tVMR\t0.131591\n"
     ]
    }
   ],
   "source": [
    "gasesvx={}\n",
    "for x in gasesx.keys():\n",
    "    print \"%s\\tVMR\\t%1.6f\"%(x,gasesx[x]/smws['m'+x]*mmw)\n",
    "    gasesvx[x] = gasesx[x]/smws['m'+x]*mmw"
   ]
  },
  {
   "cell_type": "code",
   "execution_count": 89,
   "metadata": {},
   "outputs": [
    {
     "name": "stdout",
     "output_type": "stream",
     "text": [
      "4.47699757763\n"
     ]
    }
   ],
   "source": [
    "mmw2 = 0\n",
    "for x in gasesvx.keys():\n",
    "    mmw2 += gasesvx[x]*smws['m'+x]\n",
    "print mmw2"
   ]
  },
  {
   "cell_type": "code",
   "execution_count": 77,
   "metadata": {},
   "outputs": [
    {
     "name": "stdout",
     "output_type": "stream",
     "text": [
      "0.1875\n"
     ]
    }
   ],
   "source": [
    "print eval(\"0.75*0.25\")"
   ]
  },
  {
   "cell_type": "code",
   "execution_count": 78,
   "metadata": {},
   "outputs": [
    {
     "name": "stdout",
     "output_type": "stream",
     "text": [
      "0.75\n"
     ]
    }
   ],
   "source": [
    "print eval(\"0.75\")"
   ]
  },
  {
   "cell_type": "code",
   "execution_count": 79,
   "metadata": {},
   "outputs": [
    {
     "data": {
      "text/plain": [
       "float"
      ]
     },
     "execution_count": 79,
     "metadata": {},
     "output_type": "execute_result"
    }
   ],
   "source": [
    "type(eval(\"0.25*0.25\"))"
   ]
  },
  {
   "cell_type": "code",
   "execution_count": null,
   "metadata": {},
   "outputs": [],
   "source": []
  }
 ],
 "metadata": {
  "kernelspec": {
   "display_name": "Python 2",
   "language": "python",
   "name": "python2"
  },
  "language_info": {
   "codemirror_mode": {
    "name": "ipython",
    "version": 2
   },
   "file_extension": ".py",
   "mimetype": "text/x-python",
   "name": "python",
   "nbconvert_exporter": "python",
   "pygments_lexer": "ipython2",
   "version": "2.7.12"
  }
 },
 "nbformat": 4,
 "nbformat_minor": 2
}
